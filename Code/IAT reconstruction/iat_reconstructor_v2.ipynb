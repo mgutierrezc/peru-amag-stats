{
 "cells": [
  {
   "cell_type": "code",
   "execution_count": 1,
   "metadata": {},
   "outputs": [],
   "source": [
    "import pandas as pd\n",
    "import numpy as np\n",
    "import statsmodels.api as sm"
   ]
  },
  {
   "cell_type": "markdown",
   "metadata": {},
   "source": [
    "# Setting up paths"
   ]
  },
  {
   "cell_type": "code",
   "execution_count": 2,
   "metadata": {},
   "outputs": [],
   "source": [
    "lab_path = r\"D:\\Accesos directos\\Trabajo\\World Bank\\Peru Amag\\peru-amag-stats\\Data\"\n",
    "lab_data_name = \"\\Clean_Full_Data12.dta\""
   ]
  },
  {
   "cell_type": "code",
   "execution_count": 3,
   "metadata": {},
   "outputs": [],
   "source": [
    "lab_data = pd.read_stata(lab_path + lab_data_name)"
   ]
  },
  {
   "cell_type": "code",
   "execution_count": 4,
   "metadata": {},
   "outputs": [],
   "source": [
    "# renaming gender column\n",
    "lab_data.columns = lab_data.columns.str.replace('GÃ©nero', 'Gender')"
   ]
  },
  {
   "cell_type": "code",
   "execution_count": 5,
   "metadata": {
    "scrolled": true
   },
   "outputs": [],
   "source": [
    "judges_characteristics = [\"Age_rounded\", \"Cargo\", \"Género\"]"
   ]
  },
  {
   "cell_type": "markdown",
   "metadata": {},
   "source": [
    "# Preparing data for OLS"
   ]
  },
  {
   "cell_type": "markdown",
   "metadata": {},
   "source": [
    "## Generating dummies"
   ]
  },
  {
   "cell_type": "code",
   "execution_count": 6,
   "metadata": {},
   "outputs": [],
   "source": [
    "position_dummies = pd.get_dummies(lab_data[\"Cargo\"]).drop([\"\", \"ASIS\"], axis=1)\n",
    "gender_dummies = pd.get_dummies(lab_data[\"Gender\"]).drop([\"\", \"Masculino\"], axis=1)\n",
    "course_dummies = pd.get_dummies(lab_data[\"Curso\"]).drop([\"\"], axis=1)\n",
    "course_dummies.columns = [\"Control\", \"Interpretacion\", \"Jurisprudencia\", \"Razonamiento\", \"Virtudes\", \"Etica\"]\n",
    "course_dummies = course_dummies.drop(columns = [\"Control\"])"
   ]
  },
  {
   "cell_type": "markdown",
   "metadata": {},
   "source": [
    "## Creating outcomes"
   ]
  },
  {
   "cell_type": "code",
   "execution_count": 7,
   "metadata": {},
   "outputs": [],
   "source": [
    "# merging data with dummies\n",
    "lab_reg_data = pd.concat([lab_data, position_dummies, gender_dummies, course_dummies], axis=1)\n",
    "\n",
    "# squaring age\n",
    "lab_reg_data[\"Age_squared\"] = lab_reg_data[\"Age_rounded\"]**2\n",
    "\n",
    "# generating outcomes\n",
    "lab_reg_data[\"iat_score_change\"] = lab_reg_data[\"en_iat_score\"] - lab_reg_data[\"bs_iat_score\"]"
   ]
  },
  {
   "cell_type": "markdown",
   "metadata": {},
   "source": [
    "## OLS regression"
   ]
  },
  {
   "cell_type": "code",
   "execution_count": 8,
   "metadata": {},
   "outputs": [],
   "source": [
    "covariates = [\"Age_rounded\", \"Age_squared\", \"bs_iat_score\"] + list(position_dummies.columns) + list(gender_dummies.columns) + list(course_dummies.columns)"
   ]
  },
  {
   "cell_type": "code",
   "execution_count": 9,
   "metadata": {},
   "outputs": [],
   "source": [
    "score_change_reg_output = sm.OLS(lab_reg_data[\"iat_score_change\"], sm.add_constant(lab_reg_data[covariates]), missing=\"drop\").fit()\n",
    "en_score_reg_output = sm.OLS(lab_reg_data[\"en_iat_score\"], sm.add_constant(lab_reg_data[covariates]), missing=\"drop\").fit()"
   ]
  },
  {
   "cell_type": "code",
   "execution_count": 10,
   "metadata": {},
   "outputs": [
    {
     "data": {
      "text/html": [
       "<table class=\"simpletable\">\n",
       "<caption>OLS Regression Results</caption>\n",
       "<tr>\n",
       "  <th>Dep. Variable:</th>      <td>en_iat_score</td>   <th>  R-squared:         </th> <td>   0.139</td>\n",
       "</tr>\n",
       "<tr>\n",
       "  <th>Model:</th>                   <td>OLS</td>       <th>  Adj. R-squared:    </th> <td>   0.042</td>\n",
       "</tr>\n",
       "<tr>\n",
       "  <th>Method:</th>             <td>Least Squares</td>  <th>  F-statistic:       </th> <td>   1.439</td>\n",
       "</tr>\n",
       "<tr>\n",
       "  <th>Date:</th>             <td>Fri, 09 Sep 2022</td> <th>  Prob (F-statistic):</th>  <td> 0.160</td> \n",
       "</tr>\n",
       "<tr>\n",
       "  <th>Time:</th>                 <td>12:24:05</td>     <th>  Log-Likelihood:    </th> <td> -14.574</td>\n",
       "</tr>\n",
       "<tr>\n",
       "  <th>No. Observations:</th>      <td>   120</td>      <th>  AIC:               </th> <td>   55.15</td>\n",
       "</tr>\n",
       "<tr>\n",
       "  <th>Df Residuals:</th>          <td>   107</td>      <th>  BIC:               </th> <td>   91.39</td>\n",
       "</tr>\n",
       "<tr>\n",
       "  <th>Df Model:</th>              <td>    12</td>      <th>                     </th>     <td> </td>   \n",
       "</tr>\n",
       "<tr>\n",
       "  <th>Covariance Type:</th>      <td>nonrobust</td>    <th>                     </th>     <td> </td>   \n",
       "</tr>\n",
       "</table>\n",
       "<table class=\"simpletable\">\n",
       "<tr>\n",
       "         <td></td>           <th>coef</th>     <th>std err</th>      <th>t</th>      <th>P>|t|</th>  <th>[0.025</th>    <th>0.975]</th>  \n",
       "</tr>\n",
       "<tr>\n",
       "  <th>const</th>          <td>   -0.2378</td> <td>    0.594</td> <td>   -0.400</td> <td> 0.690</td> <td>   -1.416</td> <td>    0.941</td>\n",
       "</tr>\n",
       "<tr>\n",
       "  <th>Age_rounded</th>    <td>    0.0115</td> <td>    0.030</td> <td>    0.388</td> <td> 0.699</td> <td>   -0.047</td> <td>    0.071</td>\n",
       "</tr>\n",
       "<tr>\n",
       "  <th>Age_squared</th>    <td>   -0.0002</td> <td>    0.000</td> <td>   -0.493</td> <td> 0.623</td> <td>   -0.001</td> <td>    0.001</td>\n",
       "</tr>\n",
       "<tr>\n",
       "  <th>bs_iat_score</th>   <td>    0.0417</td> <td>    0.086</td> <td>    0.485</td> <td> 0.628</td> <td>   -0.128</td> <td>    0.212</td>\n",
       "</tr>\n",
       "<tr>\n",
       "  <th>AUX</th>            <td>    0.0385</td> <td>    0.089</td> <td>    0.435</td> <td> 0.665</td> <td>   -0.137</td> <td>    0.214</td>\n",
       "</tr>\n",
       "<tr>\n",
       "  <th>FISCAL</th>         <td>   -0.1294</td> <td>    0.090</td> <td>   -1.438</td> <td> 0.153</td> <td>   -0.308</td> <td>    0.049</td>\n",
       "</tr>\n",
       "<tr>\n",
       "  <th>JUEZ</th>           <td>   -0.0663</td> <td>    0.098</td> <td>   -0.678</td> <td> 0.499</td> <td>   -0.260</td> <td>    0.128</td>\n",
       "</tr>\n",
       "<tr>\n",
       "  <th>Femenino</th>       <td>    0.0054</td> <td>    0.058</td> <td>    0.094</td> <td> 0.926</td> <td>   -0.110</td> <td>    0.121</td>\n",
       "</tr>\n",
       "<tr>\n",
       "  <th>Interpretacion</th> <td>   -0.0691</td> <td>    0.095</td> <td>   -0.727</td> <td> 0.469</td> <td>   -0.258</td> <td>    0.119</td>\n",
       "</tr>\n",
       "<tr>\n",
       "  <th>Jurisprudencia</th> <td>   -0.0145</td> <td>    0.087</td> <td>   -0.165</td> <td> 0.869</td> <td>   -0.188</td> <td>    0.159</td>\n",
       "</tr>\n",
       "<tr>\n",
       "  <th>Razonamiento</th>   <td>   -0.1161</td> <td>    0.087</td> <td>   -1.329</td> <td> 0.187</td> <td>   -0.289</td> <td>    0.057</td>\n",
       "</tr>\n",
       "<tr>\n",
       "  <th>Virtudes</th>       <td>   -0.1171</td> <td>    0.113</td> <td>   -1.036</td> <td> 0.303</td> <td>   -0.341</td> <td>    0.107</td>\n",
       "</tr>\n",
       "<tr>\n",
       "  <th>Etica</th>          <td>    0.1496</td> <td>    0.109</td> <td>    1.378</td> <td> 0.171</td> <td>   -0.066</td> <td>    0.365</td>\n",
       "</tr>\n",
       "</table>\n",
       "<table class=\"simpletable\">\n",
       "<tr>\n",
       "  <th>Omnibus:</th>       <td> 0.419</td> <th>  Durbin-Watson:     </th> <td>   2.098</td>\n",
       "</tr>\n",
       "<tr>\n",
       "  <th>Prob(Omnibus):</th> <td> 0.811</td> <th>  Jarque-Bera (JB):  </th> <td>   0.299</td>\n",
       "</tr>\n",
       "<tr>\n",
       "  <th>Skew:</th>          <td> 0.122</td> <th>  Prob(JB):          </th> <td>   0.861</td>\n",
       "</tr>\n",
       "<tr>\n",
       "  <th>Kurtosis:</th>      <td> 3.000</td> <th>  Cond. No.          </th> <td>4.09e+04</td>\n",
       "</tr>\n",
       "</table><br/><br/>Warnings:<br/>[1] Standard Errors assume that the covariance matrix of the errors is correctly specified.<br/>[2] The condition number is large, 4.09e+04. This might indicate that there are<br/>strong multicollinearity or other numerical problems."
      ],
      "text/plain": [
       "<class 'statsmodels.iolib.summary.Summary'>\n",
       "\"\"\"\n",
       "                            OLS Regression Results                            \n",
       "==============================================================================\n",
       "Dep. Variable:           en_iat_score   R-squared:                       0.139\n",
       "Model:                            OLS   Adj. R-squared:                  0.042\n",
       "Method:                 Least Squares   F-statistic:                     1.439\n",
       "Date:                Fri, 09 Sep 2022   Prob (F-statistic):              0.160\n",
       "Time:                        12:24:05   Log-Likelihood:                -14.574\n",
       "No. Observations:                 120   AIC:                             55.15\n",
       "Df Residuals:                     107   BIC:                             91.39\n",
       "Df Model:                          12                                         \n",
       "Covariance Type:            nonrobust                                         \n",
       "==================================================================================\n",
       "                     coef    std err          t      P>|t|      [0.025      0.975]\n",
       "----------------------------------------------------------------------------------\n",
       "const             -0.2378      0.594     -0.400      0.690      -1.416       0.941\n",
       "Age_rounded        0.0115      0.030      0.388      0.699      -0.047       0.071\n",
       "Age_squared       -0.0002      0.000     -0.493      0.623      -0.001       0.001\n",
       "bs_iat_score       0.0417      0.086      0.485      0.628      -0.128       0.212\n",
       "AUX                0.0385      0.089      0.435      0.665      -0.137       0.214\n",
       "FISCAL            -0.1294      0.090     -1.438      0.153      -0.308       0.049\n",
       "JUEZ              -0.0663      0.098     -0.678      0.499      -0.260       0.128\n",
       "Femenino           0.0054      0.058      0.094      0.926      -0.110       0.121\n",
       "Interpretacion    -0.0691      0.095     -0.727      0.469      -0.258       0.119\n",
       "Jurisprudencia    -0.0145      0.087     -0.165      0.869      -0.188       0.159\n",
       "Razonamiento      -0.1161      0.087     -1.329      0.187      -0.289       0.057\n",
       "Virtudes          -0.1171      0.113     -1.036      0.303      -0.341       0.107\n",
       "Etica              0.1496      0.109      1.378      0.171      -0.066       0.365\n",
       "==============================================================================\n",
       "Omnibus:                        0.419   Durbin-Watson:                   2.098\n",
       "Prob(Omnibus):                  0.811   Jarque-Bera (JB):                0.299\n",
       "Skew:                           0.122   Prob(JB):                        0.861\n",
       "Kurtosis:                       3.000   Cond. No.                     4.09e+04\n",
       "==============================================================================\n",
       "\n",
       "Warnings:\n",
       "[1] Standard Errors assume that the covariance matrix of the errors is correctly specified.\n",
       "[2] The condition number is large, 4.09e+04. This might indicate that there are\n",
       "strong multicollinearity or other numerical problems.\n",
       "\"\"\""
      ]
     },
     "execution_count": 10,
     "metadata": {},
     "output_type": "execute_result"
    }
   ],
   "source": [
    "en_score_reg_output.summary()"
   ]
  },
  {
   "cell_type": "markdown",
   "metadata": {},
   "source": [
    "### Substracting the variables that have a significant impact over our outcome\n",
    "\n",
    "- For the IAT Score Change, only the Baseline IAT Score is significant\n",
    "- For the IAT Endline Score, there are no significant covariates"
   ]
  },
  {
   "cell_type": "code",
   "execution_count": 11,
   "metadata": {},
   "outputs": [],
   "source": [
    "lab_reg_data[\"iat_sc_residuzalized\"] = lab_reg_data[\"iat_score_change\"] - score_change_reg_output.params[\"bs_iat_score\"]*lab_reg_data[\"bs_iat_score\"]"
   ]
  },
  {
   "cell_type": "markdown",
   "metadata": {},
   "source": [
    "# Preparing Data for A1 and A2 calculations"
   ]
  },
  {
   "cell_type": "markdown",
   "metadata": {},
   "source": [
    "## Baseline"
   ]
  },
  {
   "cell_type": "markdown",
   "metadata": {},
   "source": [
    "### Filtering the data for calculating A1 and A2"
   ]
  },
  {
   "cell_type": "markdown",
   "metadata": {},
   "source": [
    "- A1_{baseline} = E[Y| request between 0.1 and 0.5_{baseline} ; seeing for sure_{baseline}]\n",
    "- A2_{baseline} = E[Y| request between 0.1 and 0.5_{baseline} ; seeing according to demand_{baseline}]"
   ]
  },
  {
   "cell_type": "code",
   "execution_count": 12,
   "metadata": {},
   "outputs": [],
   "source": [
    "a1_data_bs = lab_reg_data[(lab_reg_data[\"bs_iat_show_feedback\"]==1) & ((lab_reg_data[\"bs_iat_feedback_level\"]>=1) & (lab_reg_data[\"bs_iat_feedback_level\"]<=5))]\n",
    "a2_data_bs = lab_reg_data[((lab_reg_data[\"bs_iat_feedback_level\"]>=1) & (lab_reg_data[\"bs_iat_feedback_level\"]<=5))]"
   ]
  },
  {
   "cell_type": "code",
   "execution_count": 35,
   "metadata": {
    "scrolled": true
   },
   "outputs": [
    {
     "data": {
      "text/plain": [
       "iat_sc_residuzalized    5\n",
       "en_iat_score            5\n",
       "dtype: int64"
      ]
     },
     "execution_count": 35,
     "metadata": {},
     "output_type": "execute_result"
    }
   ],
   "source": [
    "a1_data_bs[[\"iat_sc_residuzalized\", \"en_iat_score\"]].count()"
   ]
  },
  {
   "cell_type": "code",
   "execution_count": 36,
   "metadata": {
    "scrolled": true
   },
   "outputs": [
    {
     "data": {
      "text/plain": [
       "iat_sc_residuzalized    10\n",
       "en_iat_score            10\n",
       "dtype: int64"
      ]
     },
     "execution_count": 36,
     "metadata": {},
     "output_type": "execute_result"
    }
   ],
   "source": [
    "a2_data_bs[[\"iat_sc_residuzalized\", \"en_iat_score\"]].count()"
   ]
  },
  {
   "cell_type": "markdown",
   "metadata": {},
   "source": [
    "## Endline"
   ]
  },
  {
   "cell_type": "markdown",
   "metadata": {},
   "source": [
    "### Filtering the data for calculating A1 and A2"
   ]
  },
  {
   "cell_type": "markdown",
   "metadata": {},
   "source": [
    "- A1_{endline} = E[Y| request between 0.1 and 0.5_{endline} ; seeing for sure_{endline}]\n",
    "- A2_{endline} = E[Y| request between 0.1 and 0.5_{endline} ; seeing according to demand_{endline}]"
   ]
  },
  {
   "cell_type": "code",
   "execution_count": 15,
   "metadata": {},
   "outputs": [],
   "source": [
    "a1_data_en = lab_reg_data[(lab_reg_data[\"en_iat_show_feedback\"]==1) & ((lab_reg_data[\"en_iat_feedback_level\"]>=1) & (lab_reg_data[\"en_iat_feedback_level\"]<=5))]\n",
    "a2_data_en = lab_reg_data[((lab_reg_data[\"en_iat_feedback_level\"]>=1) & (lab_reg_data[\"en_iat_feedback_level\"]<=5))]"
   ]
  },
  {
   "cell_type": "markdown",
   "metadata": {},
   "source": [
    "### Displaying the data"
   ]
  },
  {
   "cell_type": "code",
   "execution_count": 33,
   "metadata": {
    "scrolled": true
   },
   "outputs": [
    {
     "data": {
      "text/plain": [
       "iat_sc_residuzalized    5\n",
       "en_iat_score            7\n",
       "dtype: int64"
      ]
     },
     "execution_count": 33,
     "metadata": {},
     "output_type": "execute_result"
    }
   ],
   "source": [
    "a1_data_en[[\"iat_sc_residuzalized\", \"en_iat_score\"]].count()"
   ]
  },
  {
   "cell_type": "code",
   "execution_count": 34,
   "metadata": {
    "scrolled": true
   },
   "outputs": [
    {
     "data": {
      "text/plain": [
       "iat_sc_residuzalized     9\n",
       "en_iat_score            19\n",
       "dtype: int64"
      ]
     },
     "execution_count": 34,
     "metadata": {},
     "output_type": "execute_result"
    }
   ],
   "source": [
    "a2_data_en[[\"iat_sc_residuzalized\", \"en_iat_score\"]].count()"
   ]
  },
  {
   "cell_type": "markdown",
   "metadata": {},
   "source": [
    "# IAT Algebra for E2"
   ]
  },
  {
   "cell_type": "markdown",
   "metadata": {},
   "source": [
    "- A1_{stage} = E1_{stage}\n",
    "- A2_{stage} = p_{stage} * E1_{stage} - (1 - p_{stage}) * E2_{stage}"
   ]
  },
  {
   "cell_type": "markdown",
   "metadata": {},
   "source": [
    "## Baseline"
   ]
  },
  {
   "cell_type": "markdown",
   "metadata": {},
   "source": [
    "### Obtaining A1 and A2"
   ]
  },
  {
   "cell_type": "code",
   "execution_count": 18,
   "metadata": {},
   "outputs": [],
   "source": [
    "a1_iat_sc_bs = a1_data_bs[\"iat_sc_residuzalized\"].mean() # iat score change\n",
    "a1_iat_bs = a1_data_bs[\"en_iat_score\"].mean() # iat score endline\n",
    "\n",
    "a2_iat_sc_bs = a2_data_bs[\"iat_sc_residuzalized\"].mean() # iat score change\n",
    "a2_iat_bs = a2_data_bs[\"en_iat_score\"].mean() # iat score endline"
   ]
  },
  {
   "cell_type": "markdown",
   "metadata": {},
   "source": [
    "### Obtaining probabilities"
   ]
  },
  {
   "cell_type": "code",
   "execution_count": 19,
   "metadata": {},
   "outputs": [
    {
     "data": {
      "text/plain": [
       "5.0    20\n",
       "1.0    12\n",
       "2.0     3\n",
       "3.0     2\n",
       "4.0     2\n",
       "Name: bs_iat_feedback_level, dtype: int64"
      ]
     },
     "execution_count": 19,
     "metadata": {},
     "output_type": "execute_result"
    }
   ],
   "source": [
    "freq_iat_score_bs = a2_data_bs[\"bs_iat_feedback_level\"].value_counts()\n",
    "freq_iat_score_bs"
   ]
  },
  {
   "cell_type": "code",
   "execution_count": 20,
   "metadata": {},
   "outputs": [],
   "source": [
    "total_participants_bs_1_5 = freq_iat_score_bs.sum() \n",
    "p_bs = (12/total_participants_bs_1_5)*0.1 \\\n",
    "    + (3/total_participants_bs_1_5)*0.2 \\\n",
    "    + (2/total_participants_bs_1_5)*0.3 \\\n",
    "    + (2/total_participants_bs_1_5)*0.4 \\\n",
    "    + (20/total_participants_bs_1_5)*0.5 "
   ]
  },
  {
   "cell_type": "code",
   "execution_count": 21,
   "metadata": {},
   "outputs": [
    {
     "data": {
      "text/plain": [
       "0.3384615384615384"
      ]
     },
     "execution_count": 21,
     "metadata": {},
     "output_type": "execute_result"
    }
   ],
   "source": [
    "p_bs"
   ]
  },
  {
   "cell_type": "markdown",
   "metadata": {},
   "source": [
    "### Calculating E2"
   ]
  },
  {
   "cell_type": "markdown",
   "metadata": {},
   "source": [
    "- E2_{baseline} = ( A2_{baseline} - p_{baseline} * E1_{baseline} ) / ( 1 - p_{baseline} ) "
   ]
  },
  {
   "cell_type": "code",
   "execution_count": 22,
   "metadata": {},
   "outputs": [],
   "source": [
    "e2_iat_sc_bs = (a2_iat_sc_bs - p_bs*a1_iat_sc_bs)/(1-p_bs)\n",
    "e2_iat_bs = (a2_iat_bs - p_bs*a1_iat_bs)/(1-p_bs)"
   ]
  },
  {
   "cell_type": "markdown",
   "metadata": {},
   "source": [
    "### iat score change"
   ]
  },
  {
   "cell_type": "code",
   "execution_count": 23,
   "metadata": {},
   "outputs": [
    {
     "data": {
      "text/plain": [
       "-0.2964768058992315"
      ]
     },
     "execution_count": 23,
     "metadata": {},
     "output_type": "execute_result"
    }
   ],
   "source": [
    "e2_iat_sc_bs"
   ]
  },
  {
   "cell_type": "markdown",
   "metadata": {},
   "source": [
    "### endline iat score"
   ]
  },
  {
   "cell_type": "code",
   "execution_count": 24,
   "metadata": {},
   "outputs": [
    {
     "data": {
      "text/plain": [
       "-0.31052600679442627"
      ]
     },
     "execution_count": 24,
     "metadata": {},
     "output_type": "execute_result"
    }
   ],
   "source": [
    "e2_iat_bs"
   ]
  },
  {
   "cell_type": "markdown",
   "metadata": {},
   "source": [
    "## Endline"
   ]
  },
  {
   "cell_type": "markdown",
   "metadata": {},
   "source": [
    "### Obtaining A1 and A2"
   ]
  },
  {
   "cell_type": "code",
   "execution_count": 25,
   "metadata": {},
   "outputs": [],
   "source": [
    "a1_iat_sc_en = a1_data_en[\"iat_sc_residuzalized\"].mean() # iat score change\n",
    "a1_iat_en = a1_data_en[\"en_iat_score\"].mean() # iat score endline\n",
    "\n",
    "a2_iat_sc_en = a2_data_en[\"iat_sc_residuzalized\"].mean() # iat score change\n",
    "a2_iat_en = a2_data_en[\"en_iat_score\"].mean() # iat score endline"
   ]
  },
  {
   "cell_type": "markdown",
   "metadata": {},
   "source": [
    "### Obtaining probabilities"
   ]
  },
  {
   "cell_type": "code",
   "execution_count": 26,
   "metadata": {},
   "outputs": [
    {
     "data": {
      "text/plain": [
       "1.0    7\n",
       "5.0    6\n",
       "4.0    3\n",
       "3.0    2\n",
       "2.0    1\n",
       "Name: en_iat_feedback_level, dtype: int64"
      ]
     },
     "execution_count": 26,
     "metadata": {},
     "output_type": "execute_result"
    }
   ],
   "source": [
    "freq_iat_score_en = a2_data_en[\"en_iat_feedback_level\"].value_counts()\n",
    "freq_iat_score_en"
   ]
  },
  {
   "cell_type": "code",
   "execution_count": 27,
   "metadata": {},
   "outputs": [],
   "source": [
    "total_participants_en_1_5 = freq_iat_score_en.sum() \n",
    "p_en = (7/total_participants_en_1_5)*0.1 \\\n",
    "    + (1/total_participants_en_1_5)*0.2 \\\n",
    "    + (2/total_participants_en_1_5)*0.3 \\\n",
    "    + (3/total_participants_en_1_5)*0.4 \\\n",
    "    + (6/total_participants_en_1_5)*0.5 "
   ]
  },
  {
   "cell_type": "code",
   "execution_count": 28,
   "metadata": {},
   "outputs": [
    {
     "data": {
      "text/plain": [
       "0.3"
      ]
     },
     "execution_count": 28,
     "metadata": {},
     "output_type": "execute_result"
    }
   ],
   "source": [
    "p_en"
   ]
  },
  {
   "cell_type": "markdown",
   "metadata": {},
   "source": [
    "### Calculating E2"
   ]
  },
  {
   "cell_type": "markdown",
   "metadata": {},
   "source": [
    "- E2_{endline} = ( A2_{endline} - p_{endline} * E1_{endline} ) / ( 1 - p_{endline} ) "
   ]
  },
  {
   "cell_type": "code",
   "execution_count": 29,
   "metadata": {},
   "outputs": [],
   "source": [
    "e2_iat_sc_en = (a2_iat_sc_en - p_en*a1_iat_sc_en)/(1-p_en)\n",
    "e2_iat_en = (a2_iat_en - p_en*a1_iat_en)/(1-p_en)"
   ]
  },
  {
   "cell_type": "code",
   "execution_count": 30,
   "metadata": {},
   "outputs": [
    {
     "data": {
      "text/plain": [
       "-0.18215627154310238"
      ]
     },
     "execution_count": 30,
     "metadata": {},
     "output_type": "execute_result"
    }
   ],
   "source": [
    "e2_iat_sc_en"
   ]
  },
  {
   "cell_type": "code",
   "execution_count": 31,
   "metadata": {},
   "outputs": [
    {
     "data": {
      "text/plain": [
       "-0.18287389752656125"
      ]
     },
     "execution_count": 31,
     "metadata": {},
     "output_type": "execute_result"
    }
   ],
   "source": [
    "e2_iat_en"
   ]
  }
 ],
 "metadata": {
  "kernelspec": {
   "display_name": "Python 3",
   "language": "python",
   "name": "python3"
  },
  "language_info": {
   "codemirror_mode": {
    "name": "ipython",
    "version": 3
   },
   "file_extension": ".py",
   "mimetype": "text/x-python",
   "name": "python",
   "nbconvert_exporter": "python",
   "pygments_lexer": "ipython3",
   "version": "3.6.5"
  }
 },
 "nbformat": 4,
 "nbformat_minor": 2
}
