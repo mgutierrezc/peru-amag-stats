{
 "cells": [
  {
   "cell_type": "code",
   "execution_count": 58,
   "id": "7f9dd194",
   "metadata": {},
   "outputs": [],
   "source": [
    "import pandas as pd\n",
    "import numpy as np\n",
    "import json, os, string\n",
    "from janitor import clean_names"
   ]
  },
  {
   "cell_type": "code",
   "execution_count": 43,
   "id": "21bbc15b",
   "metadata": {
    "scrolled": true
   },
   "outputs": [],
   "source": [
    "def read_json_dict(path: str) -> dict:\n",
    "    \"\"\"\n",
    "    Reads a json file and returns it as dict object\n",
    "    \"\"\"\n",
    "    \n",
    "    file = open(path) # Opening JSON file\n",
    "    return json.load(file) # returns JSON object as a dictionary\n",
    "\n",
    "def folder_creator(folder_name: string, path: string) -> None:\n",
    "    \"\"\"\n",
    "    Generates a folder in specified path\n",
    "    \n",
    "    input: name of root folder, path where you want \n",
    "    folder to be created\n",
    "    output: None\n",
    "    \"\"\"\n",
    "    \n",
    "    # defining paths\n",
    "    data_folder_path = path + \"/\" + folder_name\n",
    "    data_folder_exists = os.path.exists(data_folder_path)\n",
    "\n",
    "    # creating folders if don't exist\n",
    "    if data_folder_exists:\n",
    "        pass\n",
    "    else:    \n",
    "        # create a new directory because it does not exist \n",
    "        os.makedirs(data_folder_path)\n",
    "\n",
    "        # create subfolders\n",
    "        print(f\"The new directory {folder_name} was created!\")"
   ]
  },
  {
   "cell_type": "markdown",
   "id": "de7869d9",
   "metadata": {},
   "source": [
    "## Reading paths"
   ]
  },
  {
   "cell_type": "code",
   "execution_count": 18,
   "id": "9bad5d4c",
   "metadata": {},
   "outputs": [],
   "source": [
    "paths = read_json_dict(\"paths.json\")"
   ]
  },
  {
   "cell_type": "code",
   "execution_count": 19,
   "id": "91dc40e1",
   "metadata": {
    "scrolled": false
   },
   "outputs": [
    {
     "data": {
      "text/plain": [
       "{'data_path': 'D:/Accesos directos/Trabajo/World Bank/WB Repos/peru-scrape-justice',\n",
       " 'code_path': '/Users/brandonmora/GitHub/peru-amag-stats/case_outcomes',\n",
       " 'data_amag_i': 'D:/Accesos directos/Trabajo/World Bank/WB Repos/peru-scrape-justice/01_AMAG',\n",
       " 'data_cej': 'D:/Accesos directos/Trabajo/World Bank/WB Repos/peru-scrape-justice/data_cleaned',\n",
       " 'data_gender': 'D:/Accesos directos/Trabajo/World Bank/WB Repos/peru-scrape-justice/07_Other/02_Raw/names_gender',\n",
       " 'local_storage': 'D:/Daniel Chen Dropbox/Marco Antonio GutiÃ©rrez ChÃ¡vez/datasets_amag_ii_scrape'}"
      ]
     },
     "execution_count": 19,
     "metadata": {},
     "output_type": "execute_result"
    }
   ],
   "source": [
    "paths"
   ]
  },
  {
   "cell_type": "code",
   "execution_count": 20,
   "id": "27b723c3",
   "metadata": {},
   "outputs": [],
   "source": [
    "data_path = paths[\"data_path\"]"
   ]
  },
  {
   "cell_type": "code",
   "execution_count": 42,
   "id": "0da09073",
   "metadata": {},
   "outputs": [
    {
     "name": "stdout",
     "output_type": "stream",
     "text": [
      "The new directory data_cleaned is created!\n"
     ]
    }
   ],
   "source": [
    "folder_creator(\"data_cleaned\", data_path)"
   ]
  },
  {
   "cell_type": "code",
   "execution_count": 44,
   "id": "796a44c3",
   "metadata": {},
   "outputs": [],
   "source": [
    "data_cleaned_path = data_path + \"/data_cleaned\""
   ]
  },
  {
   "cell_type": "code",
   "execution_count": 45,
   "id": "6ffcb40a",
   "metadata": {},
   "outputs": [
    {
     "name": "stdout",
     "output_type": "stream",
     "text": [
      "The new directory raw was created!\n"
     ]
    }
   ],
   "source": [
    "folder_creator(\"raw\", data_cleaned_path)"
   ]
  },
  {
   "cell_type": "code",
   "execution_count": 46,
   "id": "d8acf929",
   "metadata": {},
   "outputs": [],
   "source": [
    "dc_raw_path = data_cleaned_path + \"/raw\""
   ]
  },
  {
   "cell_type": "code",
   "execution_count": 52,
   "id": "5655a2b7",
   "metadata": {},
   "outputs": [
    {
     "data": {
      "text/plain": [
       "'D:/Accesos directos/Trabajo/World Bank/WB Repos/peru-scrape-justice/data_cleaned/raw'"
      ]
     },
     "execution_count": 52,
     "metadata": {},
     "output_type": "execute_result"
    }
   ],
   "source": [
    "dc_raw_path"
   ]
  },
  {
   "cell_type": "markdown",
   "id": "838902e9",
   "metadata": {},
   "source": [
    "# 1. Creating participants list"
   ]
  },
  {
   "cell_type": "code",
   "execution_count": 30,
   "id": "20f4a3cd",
   "metadata": {
    "scrolled": true
   },
   "outputs": [],
   "source": [
    "lab_data = pd.read_stata(data_path + \"/data/lab_Data/Clean_Full_Data12.dta\")"
   ]
  },
  {
   "cell_type": "code",
   "execution_count": 48,
   "id": "a74a3744",
   "metadata": {
    "scrolled": true
   },
   "outputs": [],
   "source": [
    "lab_data[\"participant_nombre_apellido\"] = lab_data[\"Nombres\"] + \" \" + lab_data[\"ApellidoPaterno\"] + \" \" + lab_data[\"ApellidoMaterno\"]\n",
    "lab_data[\"participant_nombre_apellido\"] = lab_data[\"participant_nombre_apellido\"].str.strip()"
   ]
  },
  {
   "cell_type": "code",
   "execution_count": 49,
   "id": "7156ebb6",
   "metadata": {
    "scrolled": true
   },
   "outputs": [],
   "source": [
    "lab_data[\"participant_apellido_nombre\"] = lab_data[\"ApellidoPaterno\"] + \" \" + lab_data[\"ApellidoMaterno\"] + \" \" + lab_data[\"Nombres\"]\n",
    "lab_data[\"participant_apellido_nombre\"] = lab_data[\"participant_apellido_nombre\"].str.strip()"
   ]
  },
  {
   "cell_type": "code",
   "execution_count": 50,
   "id": "633b671c",
   "metadata": {
    "scrolled": true
   },
   "outputs": [],
   "source": [
    "lab_data = lab_data.rename(columns={\"DNI\": \"nrodocumento\"})"
   ]
  },
  {
   "cell_type": "code",
   "execution_count": 51,
   "id": "576c9f88",
   "metadata": {},
   "outputs": [],
   "source": [
    "lab_data[[\"nrodocumento\", \"participant_nombre_apellido\", \"participant_apellido_nombre\"]].to_csv(dc_raw_path + \"/amag_ii_participants_list.csv\")"
   ]
  },
  {
   "cell_type": "markdown",
   "id": "6a49de39",
   "metadata": {},
   "source": [
    "# 2. Creating Cases List"
   ]
  },
  {
   "cell_type": "markdown",
   "id": "1eb500e6",
   "metadata": {},
   "source": [
    "### Selecting reporte files"
   ]
  },
  {
   "cell_type": "code",
   "execution_count": 59,
   "id": "710530a2",
   "metadata": {},
   "outputs": [],
   "source": [
    "files_reports = pd.read_csv(dc_raw_path + \"/DF_file_report_2022.csv\")\n",
    "files_reports = clean_names(files_reports)"
   ]
  },
  {
   "cell_type": "markdown",
   "id": "239b9c66",
   "metadata": {},
   "source": [
    "### Cleaning the reporte files"
   ]
  },
  {
   "cell_type": "markdown",
   "id": "16be0156",
   "metadata": {},
   "source": [
    "Creating lists with characters to be replace"
   ]
  },
  {
   "cell_type": "code",
   "execution_count": 65,
   "id": "889bcb89",
   "metadata": {},
   "outputs": [],
   "source": [
    "backslash_reps = [\"\\\\(\\\\*\\\\)\", \"\\\\\", \"\\\\([^()]{0,}\\\\)\"]\n",
    "trailing_and_special_reps = [\"^\\\\s\", \"\\\\,\", \"\\\\.$\", \" \\\\- JUZ$\", \"\\\\*\"]\n",
    "other_strs_reps = [\"\\\\- MIXTO Y LIQ\", \"\\\\- MIXTO\", \"\\\\- JUZ\\\\. MIXTO\", \n",
    "                   \"- JM\", \"- INVESTIGACION\", \"- PAZ LETRADO\", \"SECOM - \", \"- JT\"]"
   ]
  },
  {
   "cell_type": "code",
   "execution_count": 67,
   "id": "e49604d1",
   "metadata": {},
   "outputs": [],
   "source": [
    "empty_reps = backslash_reps + trailing_and_special_reps +  other_strs_reps"
   ]
  },
  {
   "cell_type": "code",
   "execution_count": 66,
   "id": "2774d20d",
   "metadata": {},
   "outputs": [],
   "source": [
    "name_reps = [[\"ALFREDO E\\\\.\", \"ALFREDO E\"], [\"BERTHA F\\\\.\", \"BERTHA F\"], [\"CLAUDIO W\\\\.\", \"CLAUDIO W\"], \n",
    "            [\"CLAVELITO L\\\\.\", \"CLAVELITO L\"], [\"ELMER L\\\\.\", \"ELMER L\"], [\"ERNESTO A\\\\.\", \"ERNESTO A\"],\n",
    "            [\"HERBERT M\\\\.\", \"HERBERT M\"], [\"LUZ K\\\\.\", \"LUZ K\"], [\"NANCY S\\\\.\", \"NANCY S\"], [\"JESSICA E\\\\.\", \"JESSICA E\"],\n",
    "            [\"PATRICIA C\\\\.\", \"PATRICIA C\"], [\"JESSICA P\\\\.\", \"JESSICA P\"], [\"YOLANDA B\\\\.\", \"YOLANDA B\\\\.\"],\n",
    "            [\"LUZ M\\\\.\", \"LUZ M\"], [\"EDGAR\\\\.\", \"EDGAR\"], [\"C\\\\. ARTURO\", \"C ARTURO\"], [\"ALEXANDER A\\\\.\", \"ALEXANDER A\"],\n",
    "            [\"RENE G\\\\.\", \"RENE G\"], [\"GUILLERMO S\\\\.\", \"GUILLERMO S\"], [\"FANNY L\\\\. \",  \"FANNY L\"], [\"ELISA \\\\(LA\", \"ELISA\"],\n",
    "            [\"JULIA \\\\(LA\", \"JULIA\"], [\"ACEVEDO DIEZ CECILIA\", \"ACEVEDO DIEZ CECILIA DEL PILAR\"]]"
   ]
  },
  {
   "cell_type": "code",
   "execution_count": 68,
   "id": "9fd250da",
   "metadata": {
    "scrolled": true
   },
   "outputs": [
    {
     "name": "stderr",
     "output_type": "stream",
     "text": [
      "C:\\Users\\Gigabyte\\AppData\\Local\\Temp\\ipykernel_36852\\3422139958.py:2: FutureWarning: The default value of regex will change from True to False in a future version.\n",
      "  files_reports[\"juez_\"] = files_reports[\"juez_\"].str.replace(val, \"\")\n",
      "C:\\Users\\Gigabyte\\AppData\\Local\\Temp\\ipykernel_36852\\3422139958.py:2: FutureWarning: The default value of regex will change from True to False in a future version. In addition, single character regular expressions will *not* be treated as literal strings when regex=True.\n",
      "  files_reports[\"juez_\"] = files_reports[\"juez_\"].str.replace(val, \"\")\n"
     ]
    }
   ],
   "source": [
    "for val in empty_reps:    \n",
    "    files_reports[\"juez_\"] = files_reports[\"juez_\"].str.replace(val, \"\")"
   ]
  },
  {
   "cell_type": "code",
   "execution_count": 70,
   "id": "df64db83",
   "metadata": {},
   "outputs": [
    {
     "name": "stderr",
     "output_type": "stream",
     "text": [
      "C:\\Users\\Gigabyte\\AppData\\Local\\Temp\\ipykernel_36852\\1927001137.py:3: FutureWarning: The default value of regex will change from True to False in a future version.\n",
      "  files_reports[\"juez_\"] = files_reports[\"juez_\"].str.replace(name_rep[0], name_rep[1])\n"
     ]
    }
   ],
   "source": [
    "for name_rep in name_reps:\n",
    "    files_reports[\"juez_\"] = files_reports[\"juez_\"].str.replace(name_rep[0], name_rep[1])"
   ]
  }
 ],
 "metadata": {
  "kernelspec": {
   "display_name": "Judges Outcomes",
   "language": "python",
   "name": "judges_outcomes"
  },
  "language_info": {
   "codemirror_mode": {
    "name": "ipython",
    "version": 3
   },
   "file_extension": ".py",
   "mimetype": "text/x-python",
   "name": "python",
   "nbconvert_exporter": "python",
   "pygments_lexer": "ipython3",
   "version": "3.10.9"
  }
 },
 "nbformat": 4,
 "nbformat_minor": 5
}
