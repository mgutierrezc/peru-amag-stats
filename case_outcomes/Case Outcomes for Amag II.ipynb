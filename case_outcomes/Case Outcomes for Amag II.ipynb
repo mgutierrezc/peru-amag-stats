{
 "cells": [
  {
   "cell_type": "code",
   "execution_count": 1,
   "id": "96f1d9a2",
   "metadata": {
    "scrolled": false
   },
   "outputs": [
    {
     "name": "stderr",
     "output_type": "stream",
     "text": [
      "C:\\Users\\Gigabyte\\anaconda3\\envs\\judges_outcomes\\lib\\site-packages\\fuzzywuzzy\\fuzz.py:11: UserWarning: Using slow pure-python SequenceMatcher. Install python-Levenshtein to remove this warning\n",
      "  warnings.warn('Using slow pure-python SequenceMatcher. Install python-Levenshtein to remove this warning')\n"
     ]
    }
   ],
   "source": [
    "import pickle\n",
    "import regex as re\n",
    "import nltk\n",
    "import pandas as pd\n",
    "import numpy as np\n",
    "import json, os, string\n",
    "from janitor import clean_names\n",
    "from fuzzywuzzy import fuzz\n",
    "from fuzzywuzzy import process\n",
    "from datetime import datetime\n",
    "import d6tjoin.top1\n",
    "import d6tjoin.utils\n",
    "import d6tjoin"
   ]
  },
  {
   "cell_type": "code",
   "execution_count": 2,
   "id": "6d76723e",
   "metadata": {},
   "outputs": [],
   "source": [
    "def extract_text(text: str, pattern: str) -> str:\n",
    "    \"\"\"Extracts substring from string using a given regex pattern\"\"\"\n",
    "    \n",
    "    if type(text) is str:\n",
    "        match = re.search(pattern, text)\n",
    "        if match:\n",
    "            return match.group(1)\n",
    "        else:\n",
    "            return \"\"\n",
    "    else:\n",
    "        return \"\""
   ]
  },
  {
   "cell_type": "code",
   "execution_count": 3,
   "id": "c6ac7f74",
   "metadata": {
    "scrolled": true
   },
   "outputs": [],
   "source": [
    "def read_json_dict(path: str) -> dict:\n",
    "    \"\"\"\n",
    "    Reads a json file and returns it as dict object\n",
    "    \"\"\"\n",
    "    \n",
    "    file = open(path) # Opening JSON file\n",
    "    return json.load(file) # returns JSON object as a dictionary\n",
    "\n",
    "def folder_creator(folder_name: string, path: string) -> None:\n",
    "    \"\"\"\n",
    "    Generates a folder in specified path\n",
    "    \n",
    "    input: name of root folder, path where you want \n",
    "    folder to be created\n",
    "    output: None\n",
    "    \"\"\"\n",
    "    \n",
    "    # defining paths\n",
    "    data_folder_path = path + \"/\" + folder_name\n",
    "    data_folder_exists = os.path.exists(data_folder_path)\n",
    "\n",
    "    # creating folders if don't exist\n",
    "    if data_folder_exists:\n",
    "        pass\n",
    "    else:    \n",
    "        # create a new directory because it does not exist \n",
    "        os.makedirs(data_folder_path)\n",
    "\n",
    "        # create subfolders\n",
    "        print(f\"The new directory {folder_name} was created!\")\n",
    "        \n",
    "def fuzzy_merge(df_1, df_2, key1, key2, threshold=90, limit=2):\n",
    "    \"\"\"\n",
    "    :param df_1: the left table to join\n",
    "    :param df_2: the right table to join\n",
    "    :param key1: key column of the left table\n",
    "    :param key2: key column of the right table\n",
    "    :param threshold: how close the matches should be to return a match, based on Levenshtein distance\n",
    "    :param limit: the amount of matches that will get returned, these are sorted high to low\n",
    "    :return: dataframe with boths keys and matches\n",
    "    \"\"\"\n",
    "    s = df_2[key2].tolist()\n",
    "    \n",
    "    m = df_1[key1].apply(lambda x: process.extract(x, s, limit=limit))    \n",
    "    df_1['matches'] = m\n",
    "    \n",
    "    m2 = df_1['matches'].apply(lambda x: ', '.join([i[0] for i in x if i[1] >= threshold]))\n",
    "    df_1['matches'] = m2\n",
    "    \n",
    "    return df_1\n",
    "\n",
    "def create_pickle(object_name, file_name: str, path: str) -> None:\n",
    "    \"\"\"\n",
    "    Creates a pickle file for object. Note: Path should have no slash \n",
    "    at the end\n",
    "    \"\"\"\n",
    "    with open(path + f\"/{file_name}\", \"wb\") as storing_output:\n",
    "        pickle.dump(object_name, storing_output)\n",
    "        storing_output.close()\n",
    "        \n",
    "def read_pickle(file_name: str, path: str) -> None:\n",
    "    \"\"\"\n",
    "    Reads pickle file from specified path \n",
    "    \"\"\"\n",
    "    pickle_file = open(path + f\"/{file_name}\", \"rb\")\n",
    "    output = pickle.load(pickle_file)\n",
    "    pickle_file.close()\n",
    "    return output"
   ]
  },
  {
   "cell_type": "markdown",
   "id": "4112dfa4",
   "metadata": {},
   "source": [
    "## Reading paths"
   ]
  },
  {
   "cell_type": "code",
   "execution_count": 4,
   "id": "6c5e9630",
   "metadata": {},
   "outputs": [],
   "source": [
    "paths = read_json_dict(\"paths.json\")"
   ]
  },
  {
   "cell_type": "code",
   "execution_count": 5,
   "id": "0ac272d4",
   "metadata": {
    "scrolled": false
   },
   "outputs": [
    {
     "data": {
      "text/plain": [
       "{'data_path': 'D:/Accesos directos/Trabajo/World Bank/WB Repos/peru-scrape-justice',\n",
       " 'code_path': '/Users/brandonmora/GitHub/peru-amag-stats/case_outcomes',\n",
       " 'data_amag_i': 'D:/Accesos directos/Trabajo/World Bank/WB Repos/peru-scrape-justice/01_AMAG',\n",
       " 'data_cej': 'D:/Accesos directos/Trabajo/World Bank/WB Repos/peru-scrape-justice/data_cleaned_',\n",
       " 'data_gender': 'D:/Accesos directos/Trabajo/World Bank/WB Repos/peru-scrape-justice/07_Other/02_Raw/names_gender',\n",
       " 'local_storage': 'D:/Daniel Chen Dropbox/Marco Antonio GutiÃ©rrez ChÃ¡vez/datasets_amag_ii_scrape'}"
      ]
     },
     "execution_count": 5,
     "metadata": {},
     "output_type": "execute_result"
    }
   ],
   "source": [
    "paths"
   ]
  },
  {
   "cell_type": "code",
   "execution_count": 6,
   "id": "66e888ea",
   "metadata": {},
   "outputs": [],
   "source": [
    "data_path = paths[\"data_path\"]"
   ]
  },
  {
   "cell_type": "code",
   "execution_count": 7,
   "id": "a455f55c",
   "metadata": {},
   "outputs": [
    {
     "data": {
      "text/plain": [
       "'D:/Accesos directos/Trabajo/World Bank/WB Repos/peru-scrape-justice'"
      ]
     },
     "execution_count": 7,
     "metadata": {},
     "output_type": "execute_result"
    }
   ],
   "source": [
    "data_path"
   ]
  },
  {
   "cell_type": "code",
   "execution_count": 8,
   "id": "c752d517",
   "metadata": {},
   "outputs": [],
   "source": [
    "data_cleaned_path = data_path + \"/data_cleaned_test\""
   ]
  },
  {
   "cell_type": "code",
   "execution_count": 9,
   "id": "35c9e95a",
   "metadata": {},
   "outputs": [],
   "source": [
    "folder_creator(\"raw\", data_cleaned_path)"
   ]
  },
  {
   "cell_type": "code",
   "execution_count": 10,
   "id": "18c389b9",
   "metadata": {},
   "outputs": [],
   "source": [
    "dc_raw_path = data_cleaned_path + \"/raw\""
   ]
  },
  {
   "cell_type": "code",
   "execution_count": 11,
   "id": "9dd0193b",
   "metadata": {},
   "outputs": [],
   "source": [
    "folder_creator(\"temp\", data_cleaned_path)"
   ]
  },
  {
   "cell_type": "code",
   "execution_count": 12,
   "id": "daa52ceb",
   "metadata": {},
   "outputs": [],
   "source": [
    "dc_temp_path = data_cleaned_path + \"/temp\""
   ]
  },
  {
   "cell_type": "code",
   "execution_count": 13,
   "id": "3b477f4f",
   "metadata": {},
   "outputs": [],
   "source": [
    "folder_creator(\"intermediate\", data_cleaned_path)"
   ]
  },
  {
   "cell_type": "code",
   "execution_count": 14,
   "id": "f8a8333c",
   "metadata": {},
   "outputs": [],
   "source": [
    "dc_interm_path = data_cleaned_path + \"/intermediate\""
   ]
  },
  {
   "cell_type": "markdown",
   "id": "475624d8",
   "metadata": {},
   "source": [
    "# 1. Creating participants list"
   ]
  },
  {
   "cell_type": "markdown",
   "id": "702d6ee6",
   "metadata": {},
   "source": [
    "Reading lab data"
   ]
  },
  {
   "cell_type": "code",
   "execution_count": 15,
   "id": "0123568b",
   "metadata": {
    "scrolled": true
   },
   "outputs": [],
   "source": [
    "lab_data = pd.read_stata(data_path + \"/lab_Data/Clean_Full_Data12.dta\")"
   ]
  },
  {
   "cell_type": "markdown",
   "id": "7861e8a3",
   "metadata": {},
   "source": [
    "Creating name variables for future fuzzy merge"
   ]
  },
  {
   "cell_type": "code",
   "execution_count": 16,
   "id": "8a5db534",
   "metadata": {
    "scrolled": true
   },
   "outputs": [
    {
     "name": "stderr",
     "output_type": "stream",
     "text": [
      "C:\\Users\\Gigabyte\\AppData\\Local\\Temp\\ipykernel_61612\\4041196165.py:1: PerformanceWarning: DataFrame is highly fragmented.  This is usually the result of calling `frame.insert` many times, which has poor performance.  Consider joining all columns at once using pd.concat(axis=1) instead. To get a de-fragmented frame, use `newframe = frame.copy()`\n",
      "  lab_data[\"participant_nombre_apellido\"] = lab_data[\"Nombres\"] + \" \" + lab_data[\"ApellidoPaterno\"] + \" \" + lab_data[\"ApellidoMaterno\"]\n"
     ]
    }
   ],
   "source": [
    "lab_data[\"participant_nombre_apellido\"] = lab_data[\"Nombres\"] + \" \" + lab_data[\"ApellidoPaterno\"] + \" \" + lab_data[\"ApellidoMaterno\"]\n",
    "lab_data[\"participant_nombre_apellido\"] = lab_data[\"participant_nombre_apellido\"].str.strip()"
   ]
  },
  {
   "cell_type": "code",
   "execution_count": 17,
   "id": "f63ca845",
   "metadata": {
    "scrolled": false
   },
   "outputs": [
    {
     "name": "stderr",
     "output_type": "stream",
     "text": [
      "C:\\Users\\Gigabyte\\AppData\\Local\\Temp\\ipykernel_61612\\909368064.py:1: PerformanceWarning: DataFrame is highly fragmented.  This is usually the result of calling `frame.insert` many times, which has poor performance.  Consider joining all columns at once using pd.concat(axis=1) instead. To get a de-fragmented frame, use `newframe = frame.copy()`\n",
      "  lab_data[\"participant_apellido_nombre\"] = lab_data[\"ApellidoPaterno\"] + \" \" + lab_data[\"ApellidoMaterno\"] + \" \" + lab_data[\"Nombres\"]\n"
     ]
    }
   ],
   "source": [
    "lab_data[\"participant_apellido_nombre\"] = lab_data[\"ApellidoPaterno\"] + \" \" + lab_data[\"ApellidoMaterno\"] + \" \" + lab_data[\"Nombres\"]\n",
    "lab_data[\"participant_apellido_nombre\"] = lab_data[\"participant_apellido_nombre\"].str.strip()"
   ]
  },
  {
   "cell_type": "code",
   "execution_count": 18,
   "id": "5a1a4b26",
   "metadata": {
    "scrolled": true
   },
   "outputs": [],
   "source": [
    "lab_data = lab_data.rename(columns={\"DNI\": \"nrodocumento\"})"
   ]
  },
  {
   "cell_type": "code",
   "execution_count": 19,
   "id": "7872d1a9",
   "metadata": {},
   "outputs": [],
   "source": [
    "amag_ii_participants = lab_data[[\"nrodocumento\", \"participant_nombre_apellido\", \"participant_apellido_nombre\"]]"
   ]
  },
  {
   "cell_type": "markdown",
   "id": "55df507c",
   "metadata": {},
   "source": [
    "Exporting the list of participants"
   ]
  },
  {
   "cell_type": "code",
   "execution_count": 20,
   "id": "1cb27e50",
   "metadata": {},
   "outputs": [],
   "source": [
    "amag_ii_participants.to_csv(dc_raw_path + \"/amag_ii_participants_list.csv\")"
   ]
  },
  {
   "cell_type": "markdown",
   "id": "b8210558",
   "metadata": {},
   "source": [
    "# 2. Creating Cases List"
   ]
  },
  {
   "cell_type": "markdown",
   "id": "4e655645",
   "metadata": {},
   "source": [
    "### 2.0. Selecting reporte files"
   ]
  },
  {
   "cell_type": "code",
   "execution_count": 21,
   "id": "81d05649",
   "metadata": {},
   "outputs": [],
   "source": [
    "files_reports = pd.read_csv(dc_raw_path + \"/DF_file_report_2022.csv\")\n",
    "files_reports = clean_names(files_reports)"
   ]
  },
  {
   "cell_type": "markdown",
   "id": "91cc3474",
   "metadata": {},
   "source": [
    "### 2.1. Cleaning the reporte files"
   ]
  },
  {
   "cell_type": "markdown",
   "id": "b5392bfa",
   "metadata": {},
   "source": [
    "Creating lists with characters to be replace"
   ]
  },
  {
   "cell_type": "code",
   "execution_count": 22,
   "id": "d6b9e0e9",
   "metadata": {},
   "outputs": [],
   "source": [
    "backslash_reps = [\"\\\\(\\\\*\\\\)\", \"\\\\\", \"\\\\([^()]{0,}\\\\)\"]\n",
    "trailing_and_special_reps = [\"^\\\\s\", \"\\\\,\", \"\\\\.$\", \" \\\\- JUZ$\", \"\\\\*\"]\n",
    "other_strs_reps = [\"\\\\- MIXTO Y LIQ\", \"\\\\- MIXTO\", \"\\\\- JUZ\\\\. MIXTO\", \n",
    "                   \"- JM\", \"- INVESTIGACION\", \"- PAZ LETRADO\", \"SECOM - \", \"- JT\"]"
   ]
  },
  {
   "cell_type": "markdown",
   "id": "d7824dea",
   "metadata": {},
   "source": [
    "### 2.2. Replacing backlashes, special characters and other uninformative characters"
   ]
  },
  {
   "cell_type": "code",
   "execution_count": 23,
   "id": "110c4060",
   "metadata": {},
   "outputs": [],
   "source": [
    "empty_reps = backslash_reps + trailing_and_special_reps + other_strs_reps"
   ]
  },
  {
   "cell_type": "code",
   "execution_count": 24,
   "id": "c1131709",
   "metadata": {
    "scrolled": true
   },
   "outputs": [
    {
     "name": "stderr",
     "output_type": "stream",
     "text": [
      "C:\\Users\\Gigabyte\\AppData\\Local\\Temp\\ipykernel_61612\\3422139958.py:2: FutureWarning: The default value of regex will change from True to False in a future version.\n",
      "  files_reports[\"juez_\"] = files_reports[\"juez_\"].str.replace(val, \"\")\n",
      "C:\\Users\\Gigabyte\\AppData\\Local\\Temp\\ipykernel_61612\\3422139958.py:2: FutureWarning: The default value of regex will change from True to False in a future version. In addition, single character regular expressions will *not* be treated as literal strings when regex=True.\n",
      "  files_reports[\"juez_\"] = files_reports[\"juez_\"].str.replace(val, \"\")\n"
     ]
    }
   ],
   "source": [
    "for val in empty_reps:    \n",
    "    files_reports[\"juez_\"] = files_reports[\"juez_\"].str.replace(val, \"\")"
   ]
  },
  {
   "cell_type": "code",
   "execution_count": 25,
   "id": "809d5282",
   "metadata": {},
   "outputs": [],
   "source": [
    "name_reps = [[\"ALFREDO E\\\\.\", \"ALFREDO E\"], [\"BERTHA F\\\\.\", \"BERTHA F\"], [\"CLAUDIO W\\\\.\", \"CLAUDIO W\"], \n",
    "            [\"CLAVELITO L\\\\.\", \"CLAVELITO L\"], [\"ELMER L\\\\.\", \"ELMER L\"], [\"ERNESTO A\\\\.\", \"ERNESTO A\"],\n",
    "            [\"HERBERT M\\\\.\", \"HERBERT M\"], [\"LUZ K\\\\.\", \"LUZ K\"], [\"NANCY S\\\\.\", \"NANCY S\"], [\"JESSICA E\\\\.\", \"JESSICA E\"],\n",
    "            [\"PATRICIA C\\\\.\", \"PATRICIA C\"], [\"JESSICA P\\\\.\", \"JESSICA P\"], [\"YOLANDA B\\\\.\", \"YOLANDA B\\\\.\"],\n",
    "            [\"LUZ M\\\\.\", \"LUZ M\"], [\"EDGAR\\\\.\", \"EDGAR\"], [\"C\\\\. ARTURO\", \"C ARTURO\"], [\"ALEXANDER A\\\\.\", \"ALEXANDER A\"],\n",
    "            [\"RENE G\\\\.\", \"RENE G\"], [\"GUILLERMO S\\\\.\", \"GUILLERMO S\"], [\"FANNY L\\\\. \",  \"FANNY L\"], [\"ELISA \\\\(LA\", \"ELISA\"],\n",
    "            [\"JULIA \\\\(LA\", \"JULIA\"], [\"ACEVEDO DIEZ CECILIA\", \"ACEVEDO DIEZ CECILIA DEL PILAR\"], [\" J. \", \" J \"],\n",
    "            [\" K. \", \" K \"]]"
   ]
  },
  {
   "cell_type": "markdown",
   "id": "05a63ec6",
   "metadata": {},
   "source": [
    "### 2.3. Replacing names with issues"
   ]
  },
  {
   "cell_type": "code",
   "execution_count": 26,
   "id": "77f62c47",
   "metadata": {
    "scrolled": false
   },
   "outputs": [
    {
     "name": "stderr",
     "output_type": "stream",
     "text": [
      "C:\\Users\\Gigabyte\\AppData\\Local\\Temp\\ipykernel_61612\\4277728364.py:2: FutureWarning: The default value of regex will change from True to False in a future version.\n",
      "  files_reports[\"juez_\"] = files_reports[\"juez_\"].str.replace(name_rep[0], name_rep[1])\n"
     ]
    }
   ],
   "source": [
    "for name_rep in name_reps:\n",
    "    files_reports[\"juez_\"] = files_reports[\"juez_\"].str.replace(name_rep[0], name_rep[1])"
   ]
  },
  {
   "cell_type": "markdown",
   "id": "a5353a8a",
   "metadata": {},
   "source": [
    "### 2.4. Obtaining the names of judges"
   ]
  },
  {
   "cell_type": "markdown",
   "id": "6a96cd4a",
   "metadata": {},
   "source": [
    "Some cases have multiple judges assigned to them. As a result, we need to extract these names as we will match the case with the judge information."
   ]
  },
  {
   "cell_type": "code",
   "execution_count": 27,
   "id": "f57f87f7",
   "metadata": {
    "scrolled": true
   },
   "outputs": [],
   "source": [
    "files_reports = files_reports[files_reports[\"juez_\"].notna()]"
   ]
  },
  {
   "cell_type": "code",
   "execution_count": 28,
   "id": "7fdbf7b0",
   "metadata": {
    "scrolled": true
   },
   "outputs": [],
   "source": [
    "files_reports[\"juez_splitted\"] = files_reports[\"juez_\"].apply(lambda row: row.split(\".\"))"
   ]
  },
  {
   "cell_type": "code",
   "execution_count": 29,
   "id": "12f99917",
   "metadata": {
    "scrolled": true
   },
   "outputs": [],
   "source": [
    "files_reports[\"n_judges_case\"] = files_reports[\"juez_splitted\"].apply(lambda row: len(row))"
   ]
  },
  {
   "cell_type": "code",
   "execution_count": 30,
   "id": "1e1de66b",
   "metadata": {},
   "outputs": [],
   "source": [
    "judge_names = files_reports[files_reports[\"n_judges_case\"] == 1]"
   ]
  },
  {
   "cell_type": "code",
   "execution_count": 31,
   "id": "366e60bf",
   "metadata": {},
   "outputs": [],
   "source": [
    "multiple_judge_names = files_reports[files_reports[\"n_judges_case\"] != 1]"
   ]
  },
  {
   "cell_type": "code",
   "execution_count": 32,
   "id": "0f6cb645",
   "metadata": {
    "scrolled": true
   },
   "outputs": [
    {
     "name": "stderr",
     "output_type": "stream",
     "text": [
      "C:\\Users\\Gigabyte\\AppData\\Local\\Temp\\ipykernel_61612\\160945290.py:1: SettingWithCopyWarning: \n",
      "A value is trying to be set on a copy of a slice from a DataFrame.\n",
      "Try using .loc[row_indexer,col_indexer] = value instead\n",
      "\n",
      "See the caveats in the documentation: https://pandas.pydata.org/pandas-docs/stable/user_guide/indexing.html#returning-a-view-versus-a-copy\n",
      "  multiple_judge_names[\"juez_1\"] = multiple_judge_names[\"juez_splitted\"].apply(lambda row: row[0])\n",
      "C:\\Users\\Gigabyte\\AppData\\Local\\Temp\\ipykernel_61612\\160945290.py:2: SettingWithCopyWarning: \n",
      "A value is trying to be set on a copy of a slice from a DataFrame.\n",
      "Try using .loc[row_indexer,col_indexer] = value instead\n",
      "\n",
      "See the caveats in the documentation: https://pandas.pydata.org/pandas-docs/stable/user_guide/indexing.html#returning-a-view-versus-a-copy\n",
      "  multiple_judge_names[\"juez_2\"] = multiple_judge_names[\"juez_splitted\"].apply(lambda row: row[1])\n",
      "C:\\Users\\Gigabyte\\AppData\\Local\\Temp\\ipykernel_61612\\160945290.py:3: SettingWithCopyWarning: \n",
      "A value is trying to be set on a copy of a slice from a DataFrame.\n",
      "Try using .loc[row_indexer,col_indexer] = value instead\n",
      "\n",
      "See the caveats in the documentation: https://pandas.pydata.org/pandas-docs/stable/user_guide/indexing.html#returning-a-view-versus-a-copy\n",
      "  multiple_judge_names[\"juez_3\"] = multiple_judge_names[\"juez_splitted\"].apply(lambda row: row[2])\n"
     ]
    }
   ],
   "source": [
    "multiple_judge_names[\"juez_1\"] = multiple_judge_names[\"juez_splitted\"].apply(lambda row: row[0])\n",
    "multiple_judge_names[\"juez_2\"] = multiple_judge_names[\"juez_splitted\"].apply(lambda row: row[1])\n",
    "multiple_judge_names[\"juez_3\"] = multiple_judge_names[\"juez_splitted\"].apply(lambda row: row[2])"
   ]
  },
  {
   "cell_type": "code",
   "execution_count": 33,
   "id": "63556233",
   "metadata": {},
   "outputs": [],
   "source": [
    "judge_names = judge_names.rename(columns={\"juez_\": \"juez\"})"
   ]
  },
  {
   "cell_type": "markdown",
   "id": "e8c02897",
   "metadata": {},
   "source": [
    "### 2.5. Fuzzy merge with Lab Experiment Data"
   ]
  },
  {
   "cell_type": "markdown",
   "id": "201e975b",
   "metadata": {},
   "source": [
    "Creating debuggings dataset to simulate the fuzzy merge"
   ]
  },
  {
   "cell_type": "code",
   "execution_count": 34,
   "id": "cda37e2d",
   "metadata": {
    "scrolled": false
   },
   "outputs": [
    {
     "data": {
      "text/plain": [
       "Index(['expediente_n°_', 'organo_jurisdiccional_', 'distrito_judicial_',\n",
       "       'juez', 'especialista_legal_', 'fecha_de_inicio_', 'proceso_',\n",
       "       'observacion_', 'especialidad_', 'materia_s_', 'estado_',\n",
       "       'etapa_procesal_', 'fecha_conclusion_', 'ubicacion_',\n",
       "       'motivo_conclusion_', 'sumilla_', 'juez_splitted', 'n_judges_case'],\n",
       "      dtype='object')"
      ]
     },
     "execution_count": 34,
     "metadata": {},
     "output_type": "execute_result"
    }
   ],
   "source": [
    "judge_names.columns"
   ]
  },
  {
   "cell_type": "code",
   "execution_count": 35,
   "id": "6a822c2e",
   "metadata": {},
   "outputs": [],
   "source": [
    "debug_judges = judge_names[(judge_names[\"juez\"] == \"CRUZADO MEJIA MARTIN VALDEMAR\") |\n",
    "                           (judge_names[\"juez\"] == \"APAGUEÑO REATEGUI BRYAN ENRIQUE\")]"
   ]
  },
  {
   "cell_type": "code",
   "execution_count": 36,
   "id": "2b22e8af",
   "metadata": {},
   "outputs": [],
   "source": [
    "debug_participants = amag_ii_participants[(amag_ii_participants[\"participant_apellido_nombre\"] == \"CRUZADO MEJIA MARTIN VALDEMAR\") |\n",
    "                                          (amag_ii_participants[\"participant_apellido_nombre\"] == \"APAGUEÑO REATEGUI BRYAN ENRIQUE\")]"
   ]
  },
  {
   "cell_type": "markdown",
   "id": "9d0079db",
   "metadata": {},
   "source": [
    "Fuzzy match of cases"
   ]
  },
  {
   "cell_type": "code",
   "execution_count": 37,
   "id": "61efc1b8",
   "metadata": {},
   "outputs": [
    {
     "name": "stderr",
     "output_type": "stream",
     "text": [
      "C:\\Users\\Gigabyte\\anaconda3\\envs\\judges_outcomes\\lib\\site-packages\\d6tjoin\\top1.py:93: FutureWarning: The frame.append method is deprecated and will be removed from pandas in a future version. Use pandas.concat instead.\n",
      "  df_candidates = df_candidates_exact.append(df_candidates_fuzzy, ignore_index=True)\n"
     ]
    }
   ],
   "source": [
    "matched_judge_name1 = d6tjoin.top1.MergeTop1(debug_judges, debug_participants, fuzzy_left_on=[\"juez\"], \n",
    "                       fuzzy_right_on=[\"participant_apellido_nombre\"]).merge()[\"merged\"]"
   ]
  },
  {
   "cell_type": "code",
   "execution_count": 38,
   "id": "e684782a",
   "metadata": {
    "scrolled": true
   },
   "outputs": [],
   "source": [
    "amag_ii_cases = matched_judge_name1.copy()"
   ]
  },
  {
   "cell_type": "markdown",
   "id": "1c8bc9f7",
   "metadata": {},
   "source": [
    "# 3. Creating CEJ datasets"
   ]
  },
  {
   "cell_type": "markdown",
   "id": "babb94ba",
   "metadata": {},
   "source": [
    "A pending task would be to bind the rows of all the dataframes"
   ]
  },
  {
   "cell_type": "markdown",
   "id": "45a2f3b3",
   "metadata": {},
   "source": [
    "## Follow up dataframe"
   ]
  },
  {
   "cell_type": "code",
   "execution_count": 39,
   "id": "ff5ec622",
   "metadata": {
    "scrolled": true
   },
   "outputs": [
    {
     "name": "stderr",
     "output_type": "stream",
     "text": [
      "C:\\Users\\Gigabyte\\AppData\\Local\\Temp\\ipykernel_61612\\994655769.py:1: FutureWarning: The error_bad_lines argument has been deprecated and will be removed in a future version. Use on_bad_lines in the future.\n",
      "\n",
      "\n",
      "  files_follow_up = pd.read_csv(dc_raw_path + \"/DF_follow_up_cleaner_2022.csv\", error_bad_lines=False)\n",
      "Skipping line 8128: expected 10 fields, saw 11\n",
      "\n"
     ]
    }
   ],
   "source": [
    "files_follow_up = pd.read_csv(dc_raw_path + \"/DF_follow_up_cleaner_2022.csv\", error_bad_lines=False)\n",
    "files_follow_up = clean_names(files_follow_up)"
   ]
  },
  {
   "cell_type": "markdown",
   "id": "0c838a3d",
   "metadata": {},
   "source": [
    "# Procedural parts dataframe"
   ]
  },
  {
   "cell_type": "code",
   "execution_count": 40,
   "id": "8419b808",
   "metadata": {
    "scrolled": true
   },
   "outputs": [],
   "source": [
    "files_procedural_parts = pd.read_csv(dc_raw_path + \"/DF_procedural_parts_2022.csv\")\n",
    "files_procedural_parts = clean_names(files_procedural_parts)"
   ]
  },
  {
   "cell_type": "code",
   "execution_count": 41,
   "id": "e68e6415",
   "metadata": {},
   "outputs": [],
   "source": [
    "files_procedural_parts[\"expediente_n°_\"] = files_procedural_parts[\"expediente_n°_\"].apply(lambda row: row.split(\"\\\\\")[-1])"
   ]
  },
  {
   "cell_type": "markdown",
   "id": "6c946142",
   "metadata": {},
   "source": [
    "## Downloads dataframe"
   ]
  },
  {
   "cell_type": "code",
   "execution_count": 42,
   "id": "b874163b",
   "metadata": {
    "scrolled": true
   },
   "outputs": [],
   "source": [
    "files_downloads = pd.read_csv(dc_raw_path + \"/DF_DOWNLOADS_2022.csv\")\n",
    "files_downloads = clean_names(files_downloads)"
   ]
  },
  {
   "cell_type": "markdown",
   "id": "38a8a45d",
   "metadata": {},
   "source": [
    "### Merging complementary case data with amag ii cases"
   ]
  },
  {
   "cell_type": "code",
   "execution_count": 43,
   "id": "f80737ca",
   "metadata": {
    "scrolled": false
   },
   "outputs": [],
   "source": [
    "reportes_amag_ii_raw = pd.merge(amag_ii_cases, files_reports, how=\"inner\", on=\"expediente_n°_\")"
   ]
  },
  {
   "cell_type": "code",
   "execution_count": 44,
   "id": "cff08574",
   "metadata": {
    "scrolled": false
   },
   "outputs": [],
   "source": [
    "follow_up_amag_ii_raw = pd.merge(amag_ii_cases, files_follow_up, how=\"inner\", on=\"expediente_n°_\")"
   ]
  },
  {
   "cell_type": "code",
   "execution_count": 45,
   "id": "0f446412",
   "metadata": {
    "scrolled": true
   },
   "outputs": [],
   "source": [
    "procedural_parts_amag_ii_raw = pd.merge(amag_ii_cases, files_procedural_parts, how=\"inner\", on=\"expediente_n°_\")"
   ]
  },
  {
   "cell_type": "code",
   "execution_count": 46,
   "id": "bb5eb8ba",
   "metadata": {
    "scrolled": true
   },
   "outputs": [],
   "source": [
    "downloads_amag_ii_raw = pd.merge(amag_ii_cases, files_downloads, how=\"inner\", left_on=\"expediente_n°_\", right_on=\"expediente_num\")"
   ]
  },
  {
   "cell_type": "code",
   "execution_count": 47,
   "id": "b4350e8a",
   "metadata": {
    "scrolled": true
   },
   "outputs": [
    {
     "name": "stdout",
     "output_type": "stream",
     "text": [
      "Help on function create_pickle in module __main__:\n",
      "\n",
      "create_pickle(object_name, file_name: str, path: str) -> None\n",
      "    Creates a pickle file for object. Note: Path should have no slash \n",
      "    at the end\n",
      "\n"
     ]
    }
   ],
   "source": [
    "help(create_pickle)"
   ]
  },
  {
   "cell_type": "markdown",
   "id": "ac250445",
   "metadata": {},
   "source": [
    "Storing data on `.pkl` files"
   ]
  },
  {
   "cell_type": "code",
   "execution_count": 48,
   "id": "a5fc8cf3",
   "metadata": {
    "scrolled": true
   },
   "outputs": [],
   "source": [
    "create_pickle(amag_ii_cases, \"amag_ii_cases.pkl\", dc_temp_path)"
   ]
  },
  {
   "cell_type": "code",
   "execution_count": 49,
   "id": "a79cd213",
   "metadata": {
    "scrolled": true
   },
   "outputs": [],
   "source": [
    "create_pickle(reportes_amag_ii_raw, \"reportes_amag_ii_raw.pkl\", dc_temp_path)"
   ]
  },
  {
   "cell_type": "code",
   "execution_count": 50,
   "id": "e33c751d",
   "metadata": {
    "scrolled": true
   },
   "outputs": [],
   "source": [
    "create_pickle(follow_up_amag_ii_raw, \"follow_up_amag_ii_raw.pkl\", dc_temp_path)"
   ]
  },
  {
   "cell_type": "code",
   "execution_count": 51,
   "id": "7d8fc991",
   "metadata": {
    "scrolled": true
   },
   "outputs": [],
   "source": [
    "create_pickle(procedural_parts_amag_ii_raw, \"procedural_parts_amag_ii_raw.pkl\", dc_temp_path)"
   ]
  },
  {
   "cell_type": "code",
   "execution_count": 52,
   "id": "b63796dc",
   "metadata": {
    "scrolled": true
   },
   "outputs": [],
   "source": [
    "create_pickle(downloads_amag_ii_raw, \"downloads_amag_ii_raw.pkl\", dc_temp_path)"
   ]
  },
  {
   "cell_type": "markdown",
   "id": "34856235",
   "metadata": {},
   "source": [
    "# 4. Preprocessing and cleaning of datasets"
   ]
  },
  {
   "cell_type": "markdown",
   "id": "cb7691d3",
   "metadata": {},
   "source": [
    "Reading gender dataframe"
   ]
  },
  {
   "cell_type": "code",
   "execution_count": 53,
   "id": "06ae6265",
   "metadata": {},
   "outputs": [],
   "source": [
    "gender_dataset = pd.read_csv(dc_raw_path + \"/harvard_set_gender.csv\")"
   ]
  },
  {
   "cell_type": "code",
   "execution_count": 54,
   "id": "4c687787",
   "metadata": {},
   "outputs": [
    {
     "name": "stderr",
     "output_type": "stream",
     "text": [
      "<>:7: DeprecationWarning: invalid escape sequence '\\,'\n",
      "<>:7: DeprecationWarning: invalid escape sequence '\\,'\n",
      "C:\\Users\\Gigabyte\\AppData\\Local\\Temp\\ipykernel_61612\\3245748647.py:7: DeprecationWarning: invalid escape sequence '\\,'\n",
      "  punctuations = '''!()[]{};:'\"\\,<>./¿?@#$%^&*_–~=+¨`“”’|0123456789'''  # all but hyphens\n"
     ]
    }
   ],
   "source": [
    "def spanish_cleaner(txt_file):\n",
    "    text = txt_file\n",
    "    text = re.sub(r\"(&[a-zA-Z]*;)\", \" \", text)  # the txt files had some unwanted text like &rsquo; this line removes such text\n",
    "    text = text.lower()\n",
    "\n",
    "    # remove punctuation and numbers from the string\n",
    "    punctuations = '''!()[]{};:'\"\\,<>./¿?@#$%^&*_–~=+¨`“”’|0123456789'''  # all but hyphens\n",
    "    for x in text.lower(): \n",
    "        if x in punctuations: \n",
    "            text = text.replace(x, \"\")\n",
    "\n",
    "    # replacing encoding characters\n",
    "    enc_characters = [\" st \", \" nd \", \" rd \", \" th \", \"srl\", \"lpfvf\", \"pctc\", \"jmxcff\", \"ayrq\", \"axu\", \"oadk\", \"jcxj\", \"nplt\", \"eef\", \"fcfc\", \"qyoc\", \"gobpe\", \"pfg\", \"vqrx\", \"csjppj\", \"xas\", \"feeback\", \"hafceqc\", \"xqj\", \"hellip\", \"rsquo\", \"ldquo\", \"rdquo\", \"ndash\", \"-\", \"n°\", \"nº\", \"º\", \"°\", \"dprgdonpdl\", \"«\", \"»\", \"…\", \"derjudicialpoderjudicialpoderjudicialpoderjudicialpoderjudicialpoderjudicialpoderjudicialpoderjudicialpoderjudicialpoderjudicialpoderjudicialpoderjudicialpoderjudicialpoderjudicialpoderjudicialpoderjudicialpoderjudicialpoderjudicialpoderjudicialpoderj\", \"ii\", \"iii\", \"vii\", \"viii\"]\n",
    "    \n",
    "    for item in enc_characters:\n",
    "        text = text.replace(item, \" \")\n",
    "    \n",
    "    # cleaning for spanish stop words\n",
    "    stopword_es = nltk.corpus.stopwords.words('spanish') # loading spanish stop words\n",
    "    custom_substrs = [\"http\", \"hangouts\", \"meet\", \"gmailcom\"] # html related\n",
    "    custom_gender_words = [\"él\", \"ella\", \"la\", \"ese\", \"esa\", \"esos\", \"esas\", \"este\", \"esta\", \"aquel\", \"aquella\", \"aquellos\", \"aquellas\", \"lo\", \"la\", \"los\", \"las\", \"aquel\", \"aquella\", \"mío\", \"mía\", \"míos\", \"mías\", \"suyo\", \"suya\", \"suyos\", \"suyas\"] # list with pronouns associated to a specific gender\n",
    "    length_custom_stopwords = len(custom_substrs)\n",
    "    words = text.split() # tokenizing sentence\n",
    "    cleaned_words = [word for word in words if (word not in stopword_es and len(word) > 1) or word in custom_gender_words]\n",
    "     \n",
    "    sentence_no_custom = [] # omitting words that contain \n",
    "    for cleaned_word in cleaned_words:\n",
    "        counter_stopwords = 0\n",
    "        for word in custom_substrs: # evaluating if word contains substr\n",
    "            if word not in cleaned_word: # if passes, +1 for counter\n",
    "                counter_stopwords += 1\n",
    "            if counter_stopwords == length_custom_stopwords: # append if passes all custom substrs tests\n",
    "                sentence_no_custom.append(cleaned_word)\n",
    "\n",
    "    return \" \".join(sentence_no_custom)"
   ]
  },
  {
   "cell_type": "markdown",
   "id": "661a6d03",
   "metadata": {},
   "source": [
    "## 4.1. Preprocessing of downloads and follow up "
   ]
  },
  {
   "cell_type": "markdown",
   "id": "7a49dd12",
   "metadata": {},
   "source": [
    "### Downloads Dataframe"
   ]
  },
  {
   "cell_type": "code",
   "execution_count": 55,
   "id": "4ac881dd",
   "metadata": {},
   "outputs": [],
   "source": [
    "# lowercase to text\n",
    "downloads_amag_ii_raw[\"text\"] = downloads_amag_ii_raw[\"text\"].apply(lambda text: text.lower() \n",
    "                                                                    if type(text) is str else text)"
   ]
  },
  {
   "cell_type": "code",
   "execution_count": 56,
   "id": "dd668a82",
   "metadata": {
    "scrolled": true
   },
   "outputs": [],
   "source": [
    "# cleaning the text from the cases\n",
    "downloads_amag_ii_raw[\"text\"] = downloads_amag_ii_raw[\"text\"].apply(lambda text: spanish_cleaner(text) \n",
    "                                                                    if type(text) is str else text)"
   ]
  },
  {
   "cell_type": "markdown",
   "id": "27e8842e",
   "metadata": {},
   "source": [
    "### Downloads Follow Up"
   ]
  },
  {
   "cell_type": "markdown",
   "id": "8dcfd6b9",
   "metadata": {},
   "source": [
    "Fixing the date of the resolution"
   ]
  },
  {
   "cell_type": "code",
   "execution_count": 57,
   "id": "59b703dd",
   "metadata": {
    "scrolled": true
   },
   "outputs": [
    {
     "name": "stderr",
     "output_type": "stream",
     "text": [
      "<>:2: DeprecationWarning: invalid escape sequence '\\d'\n",
      "<>:2: DeprecationWarning: invalid escape sequence '\\d'\n",
      "C:\\Users\\Gigabyte\\AppData\\Local\\Temp\\ipykernel_61612\\1630532510.py:2: DeprecationWarning: invalid escape sequence '\\d'\n",
      "  lambda date: datetime.strptime(re.match(\"(\\d+[-/]\\d+[-/]\\d+)\",\n"
     ]
    }
   ],
   "source": [
    "follow_up_amag_ii_raw[\"fecha_de_resolucion_ingreso_\"] = follow_up_amag_ii_raw[\"fecha_de_resolucion_ingreso_\"].apply(\n",
    "                                                        lambda date: datetime.strptime(re.match(\"(\\d+[-/]\\d+[-/]\\d+)\", \n",
    "                                                        date)[0], \"%d/%m/%Y\"))"
   ]
  },
  {
   "cell_type": "markdown",
   "id": "0e947cec",
   "metadata": {},
   "source": [
    "Creating date and hour variable"
   ]
  },
  {
   "cell_type": "code",
   "execution_count": 58,
   "id": "65c7726f",
   "metadata": {},
   "outputs": [],
   "source": [
    "follow_up_amag_ii_raw = follow_up_amag_ii_raw.rename(columns={\"fecha_de_resolucion_ingreso_\": \"date\"})"
   ]
  },
  {
   "cell_type": "markdown",
   "id": "dde6b704",
   "metadata": {},
   "source": [
    "Remove extra white space and lower \"acto\""
   ]
  },
  {
   "cell_type": "code",
   "execution_count": 59,
   "id": "204f502b",
   "metadata": {},
   "outputs": [],
   "source": [
    "# lowercase to text\n",
    "follow_up_amag_ii_raw[\"acto_\"] = follow_up_amag_ii_raw[\"acto_\"].apply(lambda text: text.lower() \n",
    "                                                                    if type(text) is str else text)"
   ]
  },
  {
   "cell_type": "code",
   "execution_count": 60,
   "id": "4c14ec0e",
   "metadata": {
    "scrolled": true
   },
   "outputs": [],
   "source": [
    "# cleaning the text from the cases\n",
    "follow_up_amag_ii_raw[\"acto_\"] = follow_up_amag_ii_raw[\"acto_\"].apply(lambda text: spanish_cleaner(text) \n",
    "                                                                    if type(text) is str else text)"
   ]
  },
  {
   "cell_type": "markdown",
   "id": "82d48fb4",
   "metadata": {},
   "source": [
    "Remove extra white space and lower \"sumilla\" (from merged dataframes)"
   ]
  },
  {
   "cell_type": "code",
   "execution_count": 61,
   "id": "2fea21ba",
   "metadata": {},
   "outputs": [],
   "source": [
    "sumillas = [\"sumilla__x\", \"sumilla__y\"]"
   ]
  },
  {
   "cell_type": "code",
   "execution_count": 62,
   "id": "e8cbcd36",
   "metadata": {},
   "outputs": [],
   "source": [
    "for sumilla in sumillas:\n",
    "    # lowercase to text\n",
    "    follow_up_amag_ii_raw[sumilla] = follow_up_amag_ii_raw[sumilla].apply(lambda text: text.lower() \n",
    "                                                                    if type(text) is str else text)\n",
    "    # cleaning the text from the cases\n",
    "    follow_up_amag_ii_raw[sumilla] = follow_up_amag_ii_raw[sumilla].apply(lambda text: spanish_cleaner(text)\n",
    "                                                                    if type(text) is str else text)"
   ]
  },
  {
   "cell_type": "markdown",
   "id": "38835d03",
   "metadata": {},
   "source": [
    "Remove extra white space and lower \"descripcion de usuario\""
   ]
  },
  {
   "cell_type": "code",
   "execution_count": 63,
   "id": "501c67cc",
   "metadata": {},
   "outputs": [],
   "source": [
    "# lowercase to text\n",
    "follow_up_amag_ii_raw[\"descripcion_de_usuario_\"] = follow_up_amag_ii_raw[\"descripcion_de_usuario_\"].apply(lambda text: text.lower() \n",
    "                                                                    if type(text) is str else text)"
   ]
  },
  {
   "cell_type": "code",
   "execution_count": 64,
   "id": "981c9056",
   "metadata": {
    "scrolled": true
   },
   "outputs": [],
   "source": [
    "# cleaning the text from the cases\n",
    "follow_up_amag_ii_raw[\"descripcion_de_usuario_\"] = follow_up_amag_ii_raw[\"descripcion_de_usuario_\"].apply(lambda text: spanish_cleaner(text) \n",
    "                                                                    if type(text) is str else text)"
   ]
  },
  {
   "cell_type": "markdown",
   "id": "fa2286fe",
   "metadata": {},
   "source": [
    "Create variable that identifies rows with pdf or docx file in downloads dataset"
   ]
  },
  {
   "cell_type": "code",
   "execution_count": 65,
   "id": "94537441",
   "metadata": {},
   "outputs": [],
   "source": [
    "follow_up_amag_ii_raw[\"descargado\"] = follow_up_amag_ii_raw[\"descripcion_de_usuario_\"].apply(lambda text: 1\n",
    "                                                                                            if \"descargado\" in text\n",
    "                                                                                            else 0)"
   ]
  },
  {
   "cell_type": "markdown",
   "id": "fc2b034a",
   "metadata": {},
   "source": [
    "### Create dataset of case_id/number of documents (obs with no duplicates)"
   ]
  },
  {
   "cell_type": "markdown",
   "id": "0a1986aa",
   "metadata": {},
   "source": [
    "Droping duplicates in terms `expediente_n°_` and `num`"
   ]
  },
  {
   "cell_type": "code",
   "execution_count": 66,
   "id": "664bbb79",
   "metadata": {},
   "outputs": [],
   "source": [
    "downloads_full = downloads_amag_ii_raw[downloads_amag_ii_raw[\"link\"].notna()]"
   ]
  },
  {
   "cell_type": "code",
   "execution_count": 67,
   "id": "b1289416",
   "metadata": {},
   "outputs": [],
   "source": [
    "downloads_full.drop_duplicates(subset=[\"expediente_n°_\", \"num\"], inplace=True)"
   ]
  },
  {
   "cell_type": "markdown",
   "id": "17ce7224",
   "metadata": {},
   "source": [
    "Merging the data with no duplicates"
   ]
  },
  {
   "cell_type": "code",
   "execution_count": 68,
   "id": "9be3c89c",
   "metadata": {},
   "outputs": [],
   "source": [
    "documents_amag = pd.merge(follow_up_amag_ii_raw, downloads_full, on=[\"expediente_n°_\", \"nrodocumento\", \"link\"], how=\"left\")"
   ]
  },
  {
   "cell_type": "markdown",
   "id": "99714dfb",
   "metadata": {},
   "source": [
    "## 4.2. Identify keywords from text, acto and sumilla columns "
   ]
  },
  {
   "cell_type": "markdown",
   "id": "c2e03635",
   "metadata": {},
   "source": [
    "### Filtering rows without information"
   ]
  },
  {
   "cell_type": "code",
   "execution_count": 69,
   "id": "ef75c493",
   "metadata": {
    "scrolled": true
   },
   "outputs": [],
   "source": [
    "documents_amag = documents_amag[(documents_amag[\"acto_\"] !=\"auto de saneamiento\") & (documents_amag[\"acto_\"] != \"nota\")]"
   ]
  },
  {
   "cell_type": "code",
   "execution_count": 70,
   "id": "5b291f48",
   "metadata": {
    "scrolled": false
   },
   "outputs": [],
   "source": [
    "documents_amag[\"text\"] = documents_amag[\"text\"].apply(lambda text: text if type(text) is not float else \"\")"
   ]
  },
  {
   "cell_type": "markdown",
   "id": "46bc1598",
   "metadata": {},
   "source": [
    "### 4.2.1. `Parte resolutiva` variable"
   ]
  },
  {
   "cell_type": "code",
   "execution_count": 71,
   "id": "b8a92b3c",
   "metadata": {},
   "outputs": [],
   "source": [
    "documents_amag[\"parte_resolutiva\"] = documents_amag[\"text\"].apply(lambda text: extract_text(text,\n",
    "                                                                                           r\"resuelve\\s*([^\\n\\r]*)|fallo\\s*([^\\n\\r]*)|resuelvo\\s*([^\\n\\r]*)\"))"
   ]
  },
  {
   "cell_type": "markdown",
   "id": "8b004da3",
   "metadata": {},
   "source": [
    "### 4.2.2. `Apela` variable"
   ]
  },
  {
   "cell_type": "code",
   "execution_count": 72,
   "id": "352321c0",
   "metadata": {},
   "outputs": [],
   "source": [
    "documents_amag[\"appeal\"] = documents_amag.apply(lambda row: 1 if \"apela\" in row.acto_ or \"apela\" in row.sumilla__x\n",
    "                                                or \"apela\" in row.sumilla__y else 0, axis=1)"
   ]
  },
  {
   "cell_type": "code",
   "execution_count": 73,
   "id": "576a7c66",
   "metadata": {},
   "outputs": [
    {
     "data": {
      "text/plain": [
       "0    977\n",
       "1     19\n",
       "Name: appeal, dtype: int64"
      ]
     },
     "execution_count": 73,
     "metadata": {},
     "output_type": "execute_result"
    }
   ],
   "source": [
    "documents_amag[\"appeal\"].value_counts()"
   ]
  },
  {
   "cell_type": "markdown",
   "id": "17c4f44c",
   "metadata": {},
   "source": [
    "### 4.2.3. `Sentencia` variable"
   ]
  },
  {
   "cell_type": "code",
   "execution_count": 74,
   "id": "e72234d1",
   "metadata": {},
   "outputs": [],
   "source": [
    "documents_amag[\"sentencia_acto\"] = documents_amag.apply(lambda row: 1 if \"sentencia\" in row.acto_ else 0, axis=1)\n",
    "documents_amag[\"sentencia_sumilla\"] = documents_amag.apply(lambda row: 1 if \"sentencia\" in row.sumilla__x or \n",
    "                                                           \"sentencia\" in row.sumilla__y else 0, axis=1)\n",
    "documents_amag[\"sentencia\"] = documents_amag.apply(lambda row: 1 if row.sentencia_acto == 1 or row.sentencia_sumilla == 1 \n",
    "                                                   else 0, axis=1)"
   ]
  },
  {
   "cell_type": "code",
   "execution_count": 75,
   "id": "8bc05c22",
   "metadata": {},
   "outputs": [
    {
     "data": {
      "text/plain": [
       "0    984\n",
       "1     12\n",
       "Name: sentencia_acto, dtype: int64"
      ]
     },
     "execution_count": 75,
     "metadata": {},
     "output_type": "execute_result"
    }
   ],
   "source": [
    "documents_amag[\"sentencia_acto\"].value_counts()"
   ]
  },
  {
   "cell_type": "code",
   "execution_count": 76,
   "id": "2a2fd5da",
   "metadata": {},
   "outputs": [
    {
     "data": {
      "text/plain": [
       "0    985\n",
       "1     11\n",
       "Name: sentencia_sumilla, dtype: int64"
      ]
     },
     "execution_count": 76,
     "metadata": {},
     "output_type": "execute_result"
    }
   ],
   "source": [
    "documents_amag[\"sentencia_sumilla\"].value_counts()"
   ]
  },
  {
   "cell_type": "code",
   "execution_count": 77,
   "id": "3d665165",
   "metadata": {},
   "outputs": [
    {
     "data": {
      "text/plain": [
       "0    973\n",
       "1     23\n",
       "Name: sentencia, dtype: int64"
      ]
     },
     "execution_count": 77,
     "metadata": {},
     "output_type": "execute_result"
    }
   ],
   "source": [
    "documents_amag[\"sentencia\"].value_counts()"
   ]
  },
  {
   "cell_type": "markdown",
   "id": "13a03e6d",
   "metadata": {},
   "source": [
    "### 4.2.4. `Auto` variable"
   ]
  },
  {
   "cell_type": "code",
   "execution_count": 78,
   "id": "960c32b7",
   "metadata": {},
   "outputs": [],
   "source": [
    "documents_amag[\"auto_final\"] = documents_amag.apply(lambda row: 1 if \"auto final\" in row.acto_ or \n",
    "                                                           \"auto final\" in row.sumilla__x or\n",
    "                                                           \"auto final\" in row.sumilla__y else 0, axis=1)"
   ]
  },
  {
   "cell_type": "code",
   "execution_count": 79,
   "id": "04fc7c8e",
   "metadata": {},
   "outputs": [],
   "source": [
    "documents_amag[\"auto_definitivo\"] = documents_amag.apply(lambda row: 1 if \"auto definitivo\" in row.acto_ or \n",
    "                                                           \"auto definitivo\" in row.sumilla__x or\n",
    "                                                           \"auto definitivo\" in row.sumilla__y else 0, axis=1)"
   ]
  },
  {
   "cell_type": "code",
   "execution_count": 80,
   "id": "fd338411",
   "metadata": {},
   "outputs": [
    {
     "data": {
      "text/plain": [
       "0    993\n",
       "1      3\n",
       "Name: auto_definitivo, dtype: int64"
      ]
     },
     "execution_count": 80,
     "metadata": {},
     "output_type": "execute_result"
    }
   ],
   "source": [
    "documents_amag[\"auto_definitivo\"].value_counts()"
   ]
  },
  {
   "cell_type": "markdown",
   "id": "61ae5925",
   "metadata": {},
   "source": [
    "### 4.2.5. `Final` variable"
   ]
  },
  {
   "cell_type": "code",
   "execution_count": 81,
   "id": "525d1cb3",
   "metadata": {},
   "outputs": [],
   "source": [
    "documents_amag[\"auto_improcedente\"] = documents_amag.apply(lambda row: 1 if \"auto que declara improcedente\" in row.acto_ or \n",
    "                                                           \"auto que declara improcedente\" in row.sumilla__x or\n",
    "                                                           \"auto que declara improcedente\" in row.sumilla__y or \n",
    "                                                           \"auto improcedente\" in row.acto_ or \n",
    "                                                           \"auto improcedente\" in row.sumilla__x or\n",
    "                                                           \"auto improcedente\" in row.sumilla__y else 0, axis=1)"
   ]
  },
  {
   "cell_type": "code",
   "execution_count": 82,
   "id": "c6b69d94",
   "metadata": {},
   "outputs": [
    {
     "data": {
      "text/plain": [
       "0    986\n",
       "1     10\n",
       "Name: auto_improcedente, dtype: int64"
      ]
     },
     "execution_count": 82,
     "metadata": {},
     "output_type": "execute_result"
    }
   ],
   "source": [
    "documents_amag[\"auto_improcedente\"].value_counts()"
   ]
  },
  {
   "cell_type": "markdown",
   "id": "5b6850a0",
   "metadata": {},
   "source": [
    "### 4.2.6. `Vista 2` variable"
   ]
  },
  {
   "cell_type": "code",
   "execution_count": 83,
   "id": "434f01d3",
   "metadata": {},
   "outputs": [],
   "source": [
    "documents_amag[\"vista2\"] = documents_amag.apply(lambda row: 1 if \"sentencia de vista\" in row.acto_ or \n",
    "                                                           \"sentencia de vista\" in row.sumilla__x or\n",
    "                                                           \"sentencia de vista\" in row.sumilla__y or \n",
    "                                                           \"auto de vista\" in row.acto_ or \n",
    "                                                           \"auto de vista\" in row.sumilla__x or\n",
    "                                                           \"auto de vista\" in row.sumilla__y else 0, axis=1)"
   ]
  },
  {
   "cell_type": "code",
   "execution_count": 84,
   "id": "6ce0d125",
   "metadata": {},
   "outputs": [
    {
     "data": {
      "text/plain": [
       "0    996\n",
       "Name: vista2, dtype: int64"
      ]
     },
     "execution_count": 84,
     "metadata": {},
     "output_type": "execute_result"
    }
   ],
   "source": [
    "documents_amag[\"vista2\"].value_counts()"
   ]
  },
  {
   "cell_type": "markdown",
   "id": "f96a46d5",
   "metadata": {},
   "source": [
    "### 4.2.7. `Revoca 2` variable"
   ]
  },
  {
   "cell_type": "code",
   "execution_count": 85,
   "id": "537ff35c",
   "metadata": {},
   "outputs": [],
   "source": [
    "documents_amag[\"revoca2\"] = documents_amag.apply(lambda row: 1 if \"vista que revoca\" in row.acto_ else 0, axis=1)"
   ]
  },
  {
   "cell_type": "code",
   "execution_count": 86,
   "id": "128accfb",
   "metadata": {},
   "outputs": [
    {
     "data": {
      "text/plain": [
       "0    996\n",
       "Name: revoca2, dtype: int64"
      ]
     },
     "execution_count": 86,
     "metadata": {},
     "output_type": "execute_result"
    }
   ],
   "source": [
    "documents_amag[\"revoca2\"].value_counts()"
   ]
  },
  {
   "cell_type": "markdown",
   "id": "de590d08",
   "metadata": {},
   "source": [
    "### 4.2.8. `Anula 2` variable"
   ]
  },
  {
   "cell_type": "code",
   "execution_count": 87,
   "id": "d09f9f8e",
   "metadata": {},
   "outputs": [],
   "source": [
    "documents_amag[\"nula2\"] = documents_amag.apply(lambda row: 1 if \"vista que anula\" in row.acto_ else 0, axis=1)"
   ]
  },
  {
   "cell_type": "code",
   "execution_count": 88,
   "id": "715ba317",
   "metadata": {},
   "outputs": [
    {
     "data": {
      "text/plain": [
       "0    996\n",
       "Name: nula2, dtype: int64"
      ]
     },
     "execution_count": 88,
     "metadata": {},
     "output_type": "execute_result"
    }
   ],
   "source": [
    "documents_amag[\"nula2\"].value_counts()"
   ]
  },
  {
   "cell_type": "markdown",
   "id": "962b01e3",
   "metadata": {},
   "source": [
    "### 4.2.9. `Confirma 2` variable"
   ]
  },
  {
   "cell_type": "code",
   "execution_count": 89,
   "id": "7102f2b1",
   "metadata": {},
   "outputs": [],
   "source": [
    "documents_amag[\"confirma2\"] = documents_amag.apply(lambda row: 1 if \"vista que confirma\" in row.acto_ else 0, axis=1)"
   ]
  },
  {
   "cell_type": "code",
   "execution_count": 90,
   "id": "3dfaba62",
   "metadata": {},
   "outputs": [
    {
     "data": {
      "text/plain": [
       "0    996\n",
       "Name: confirma2, dtype: int64"
      ]
     },
     "execution_count": 90,
     "metadata": {},
     "output_type": "execute_result"
    }
   ],
   "source": [
    "documents_amag[\"confirma2\"].value_counts()"
   ]
  },
  {
   "cell_type": "markdown",
   "id": "dc86fa89",
   "metadata": {},
   "source": [
    "### 4.2.10. `Fundada` variable"
   ]
  },
  {
   "cell_type": "code",
   "execution_count": 91,
   "id": "9779401c",
   "metadata": {},
   "outputs": [],
   "source": [
    "def evaluate_vals(row, list_substrs: list) -> int:\n",
    "    \"\"\"determines whether the case matches a substr from list\"\"\"\n",
    "    \n",
    "    values = [row.parte_resolutiva, row.sumilla__x, row.sumilla__y, row.acto_]\n",
    "    output = 0\n",
    "    for value in values:\n",
    "        if type(value) is not str:\n",
    "            break\n",
    "        else:\n",
    "            for substr in list_substrs:\n",
    "                if substr in value:\n",
    "                    output = 1\n",
    "                    return output\n",
    "    return output"
   ]
  },
  {
   "cell_type": "code",
   "execution_count": 92,
   "id": "5821b2aa",
   "metadata": {},
   "outputs": [],
   "source": [
    "documents_amag[\"fundada\"] = documents_amag.apply(lambda row: evaluate_vals(row, [\" fundada la demanda\", \"sentencia fundada\"]), axis=1)"
   ]
  },
  {
   "cell_type": "code",
   "execution_count": 93,
   "id": "e2719433",
   "metadata": {},
   "outputs": [
    {
     "data": {
      "text/plain": [
       "0    988\n",
       "1      8\n",
       "Name: fundada, dtype: int64"
      ]
     },
     "execution_count": 93,
     "metadata": {},
     "output_type": "execute_result"
    }
   ],
   "source": [
    "documents_amag[\"fundada\"].value_counts()"
   ]
  },
  {
   "cell_type": "markdown",
   "id": "198f51aa",
   "metadata": {},
   "source": [
    "### 4.2.11. `Fundada en parte` variable"
   ]
  },
  {
   "cell_type": "code",
   "execution_count": 94,
   "id": "d236441b",
   "metadata": {},
   "outputs": [],
   "source": [
    "documents_amag[\"fundada_parte\"] = documents_amag.apply(lambda row: evaluate_vals(row, [\"fundada en parte\"]), axis=1)"
   ]
  },
  {
   "cell_type": "code",
   "execution_count": 95,
   "id": "d38c65ac",
   "metadata": {
    "scrolled": true
   },
   "outputs": [
    {
     "data": {
      "text/plain": [
       "0    996\n",
       "Name: fundada_parte, dtype: int64"
      ]
     },
     "execution_count": 95,
     "metadata": {},
     "output_type": "execute_result"
    }
   ],
   "source": [
    "documents_amag[\"fundada_parte\"].value_counts()"
   ]
  },
  {
   "cell_type": "markdown",
   "id": "bb6725e0",
   "metadata": {},
   "source": [
    "### 4.2.12. `Infundada` variable"
   ]
  },
  {
   "cell_type": "code",
   "execution_count": 96,
   "id": "c3e221d4",
   "metadata": {},
   "outputs": [],
   "source": [
    "documents_amag[\"infundada\"] = documents_amag.apply(lambda row: evaluate_vals(row, [\"infundada la demanda\", \"sentencia infundada\"]), axis=1)"
   ]
  },
  {
   "cell_type": "code",
   "execution_count": 97,
   "id": "274c9053",
   "metadata": {},
   "outputs": [
    {
     "data": {
      "text/plain": [
       "0    996\n",
       "Name: infundada, dtype: int64"
      ]
     },
     "execution_count": 97,
     "metadata": {},
     "output_type": "execute_result"
    }
   ],
   "source": [
    "documents_amag[\"infundada\"].value_counts()"
   ]
  },
  {
   "cell_type": "markdown",
   "id": "3b6a576f",
   "metadata": {},
   "source": [
    "### 4.2.12. `Vista` variable"
   ]
  },
  {
   "cell_type": "code",
   "execution_count": 98,
   "id": "a2b44fb8",
   "metadata": {},
   "outputs": [],
   "source": [
    "documents_amag[\"vista\"] = documents_amag.apply(lambda row: evaluate_vals(row, [\"sentencia de vista\", \"auto de vista\"]), axis=1)"
   ]
  },
  {
   "cell_type": "code",
   "execution_count": 99,
   "id": "6f6dfa24",
   "metadata": {},
   "outputs": [
    {
     "data": {
      "text/plain": [
       "0    996\n",
       "Name: vista, dtype: int64"
      ]
     },
     "execution_count": 99,
     "metadata": {},
     "output_type": "execute_result"
    }
   ],
   "source": [
    "documents_amag[\"vista\"].value_counts()"
   ]
  },
  {
   "cell_type": "markdown",
   "id": "9ebab18f",
   "metadata": {},
   "source": [
    "### 4.2.13. `Revoca` variable"
   ]
  },
  {
   "cell_type": "code",
   "execution_count": 100,
   "id": "2033ada3",
   "metadata": {},
   "outputs": [],
   "source": [
    "documents_amag[\"revoca\"] = documents_amag.apply(lambda row: evaluate_vals(row, [\"vista que revoca\", \"revocar la sentencia\", \"revocar la resolucion\", \"revocar en parte\", \"revocaron la sentencia\", \"revocaron la resolución\"]), axis=1)"
   ]
  },
  {
   "cell_type": "code",
   "execution_count": 101,
   "id": "51a74954",
   "metadata": {},
   "outputs": [
    {
     "data": {
      "text/plain": [
       "0    996\n",
       "Name: revoca, dtype: int64"
      ]
     },
     "execution_count": 101,
     "metadata": {},
     "output_type": "execute_result"
    }
   ],
   "source": [
    "documents_amag[\"revoca\"].value_counts()"
   ]
  },
  {
   "cell_type": "markdown",
   "id": "a4001c27",
   "metadata": {},
   "source": [
    "### 4.2.13. `Anula` variable"
   ]
  },
  {
   "cell_type": "code",
   "execution_count": 102,
   "id": "222d299b",
   "metadata": {},
   "outputs": [],
   "source": [
    "documents_amag[\"nula\"] = documents_amag.apply(lambda row: evaluate_vals(row, [\"vista que anula\", \"declarar nula\", \"declara nula\", \"declara nulo\", \"declarar nulo\", \"declarar: nula\", \"declarar la nulidad\", \"declararon nula\"]), axis=1)"
   ]
  },
  {
   "cell_type": "code",
   "execution_count": 103,
   "id": "e2623b1e",
   "metadata": {},
   "outputs": [
    {
     "data": {
      "text/plain": [
       "0    996\n",
       "Name: nula, dtype: int64"
      ]
     },
     "execution_count": 103,
     "metadata": {},
     "output_type": "execute_result"
    }
   ],
   "source": [
    "documents_amag[\"nula\"].value_counts()"
   ]
  },
  {
   "cell_type": "markdown",
   "id": "8db15baf",
   "metadata": {},
   "source": [
    "### 4.2.14. `Confirma` variable"
   ]
  },
  {
   "cell_type": "code",
   "execution_count": 104,
   "id": "bc540e2f",
   "metadata": {},
   "outputs": [],
   "source": [
    "documents_amag[\"confirma\"] = documents_amag.apply(lambda row: evaluate_vals(row, [\"vista que confirma\", \"confirmaron el auto\", \"confirmaron la sentencia\", \"aprobaron la sentencia\", \"confirma sentencia\", \"confirma la sentencia\", \n",
    "                                                                                  \"confirmar la sentencia\", \"confirmar resolucion\", \"confirmar resolución\", \"confirmar la resolucion\", \"confirmar en parte\", \"confirmar la resolución\"]), axis=1)"
   ]
  },
  {
   "cell_type": "code",
   "execution_count": 105,
   "id": "cf209f6f",
   "metadata": {},
   "outputs": [
    {
     "data": {
      "text/plain": [
       "0    996\n",
       "Name: confirma, dtype: int64"
      ]
     },
     "execution_count": 105,
     "metadata": {},
     "output_type": "execute_result"
    }
   ],
   "source": [
    "documents_amag[\"confirma\"].value_counts()"
   ]
  },
  {
   "cell_type": "code",
   "execution_count": 106,
   "id": "ba109495",
   "metadata": {},
   "outputs": [],
   "source": [
    "documents_amag.to_csv(dc_interm_path + \"/documents_amag_ii_clean.csv\")"
   ]
  },
  {
   "cell_type": "markdown",
   "id": "a217871f",
   "metadata": {},
   "source": [
    "## 4.3. Preprocessing of reportes and procedural parts"
   ]
  },
  {
   "cell_type": "markdown",
   "id": "f3d22b4e",
   "metadata": {},
   "source": [
    "Obtaining reportes"
   ]
  },
  {
   "cell_type": "code",
   "execution_count": 107,
   "id": "f5b33440",
   "metadata": {},
   "outputs": [],
   "source": [
    "reportes_amag = reportes_amag_ii_raw[[\"expediente_n°_\", \"distrito_judicial__x\", \"distrito_judicial__y\", \"proceso__x\", \n",
    "                                      \"proceso__y\", \"especialidad__x\", \"especialidad__y\", \"estado__x\", \"estado__y\", \n",
    "                                      \"etapa_procesal__x\", \"etapa_procesal__y\"]]"
   ]
  },
  {
   "cell_type": "code",
   "execution_count": 108,
   "id": "b3916fbc",
   "metadata": {},
   "outputs": [],
   "source": [
    "reportes_amag.to_csv(dc_interm_path + \"/reportes_amag_ii_clean.csv\")"
   ]
  },
  {
   "cell_type": "markdown",
   "id": "793d3f81",
   "metadata": {},
   "source": [
    "Obtaining procedural parts"
   ]
  },
  {
   "cell_type": "code",
   "execution_count": 109,
   "id": "efa03f26",
   "metadata": {},
   "outputs": [],
   "source": [
    "procedural_parts_amag_ii_raw = read_pickle(\"procedural_parts_amag_ii_raw.pkl\", dc_temp_path)"
   ]
  },
  {
   "cell_type": "markdown",
   "id": "dfe219de",
   "metadata": {},
   "source": [
    "### 4.3.1. Creating `parties` variable"
   ]
  },
  {
   "cell_type": "code",
   "execution_count": 110,
   "id": "57c2e969",
   "metadata": {},
   "outputs": [],
   "source": [
    "procedural_parts_amag_ii_raw[\"parties\"] = procedural_parts_amag_ii_raw.apply(lambda row: \"plaintiff\" if \n",
    "                                                                             row.parte == \"DEMANDANTE\" or \n",
    "                                                                             row.parte == \"AGRAVIADO\" or \n",
    "                                                                             row.parte == \"VÍCTIMA\" or\n",
    "                                                                             row.parte == \"SOLICITANTE\" or\n",
    "                                                                             row.parte == \"DENUNCIANTE\"\n",
    "                                                                             else np.NaN, axis=1)"
   ]
  },
  {
   "cell_type": "code",
   "execution_count": 111,
   "id": "db869395",
   "metadata": {},
   "outputs": [],
   "source": [
    "procedural_parts_amag_ii_raw[\"parties\"] = procedural_parts_amag_ii_raw.apply(lambda row: \"defendant\" if \n",
    "                                                                             row.parte == \"DEMANDADO\" or \n",
    "                                                                             row.parte == \"AGRESOR\" or \n",
    "                                                                             row.parte == \"DENUNCIADO\"\n",
    "                                                                             else row.parties, axis=1)"
   ]
  },
  {
   "cell_type": "code",
   "execution_count": 112,
   "id": "929bbd8b",
   "metadata": {},
   "outputs": [],
   "source": [
    "procedural_parts_amag_ii_raw[\"parties\"] = procedural_parts_amag_ii_raw.apply(lambda row: \"other\" if \n",
    "                                                                             row.parties != \"plaintiff\" and \n",
    "                                                                             row.parties != \"defendant\"\n",
    "                                                                             else row.parties, axis=1)"
   ]
  },
  {
   "cell_type": "code",
   "execution_count": 113,
   "id": "c8ac21ac",
   "metadata": {
    "scrolled": true
   },
   "outputs": [
    {
     "data": {
      "text/plain": [
       "defendant    318\n",
       "plaintiff    232\n",
       "other          5\n",
       "Name: parties, dtype: int64"
      ]
     },
     "execution_count": 113,
     "metadata": {},
     "output_type": "execute_result"
    }
   ],
   "source": [
    "procedural_parts_amag_ii_raw[\"parties\"].value_counts()"
   ]
  },
  {
   "cell_type": "markdown",
   "id": "b7bace02",
   "metadata": {},
   "source": [
    "### 4.3.2. Creating `first_name` and `second_name` variables"
   ]
  },
  {
   "cell_type": "code",
   "execution_count": 114,
   "id": "412fab53",
   "metadata": {
    "scrolled": false
   },
   "outputs": [],
   "source": [
    "procedural_parts_amag_ii_raw[\"nombres\"] = procedural_parts_amag_ii_raw[\"nombres\"].apply(lambda nombres:\n",
    "                                                            nombres.lower() if nombres != \"\\t\\t\\t\\t\\t\\t\\t\\t\\t\\t\\t\\t\\t\"\n",
    "                                                            else \"\")"
   ]
  },
  {
   "cell_type": "code",
   "execution_count": 115,
   "id": "cf27a277",
   "metadata": {},
   "outputs": [],
   "source": [
    "procedural_parts_amag_ii_raw[\"first_name\"] = procedural_parts_amag_ii_raw[\"nombres\"].apply(lambda nombres: \n",
    "                                                                                           nombres.split(\" \")[0])\n",
    "procedural_parts_amag_ii_raw[\"second_name\"] = procedural_parts_amag_ii_raw[\"nombres\"].apply(lambda nombres: \n",
    "                                                                                           nombres.split(\" \")[1] \n",
    "                                                                                           if len(nombres.split(\" \")) == 2\n",
    "                                                                                           else \"\")"
   ]
  },
  {
   "cell_type": "code",
   "execution_count": 116,
   "id": "3a6081e6",
   "metadata": {},
   "outputs": [],
   "source": [
    "procedural_parts_amag = pd.merge(procedural_parts_amag_ii_raw, gender_dataset, how=\"left\", \n",
    "                                 left_on=\"first_name\", right_on=\"name\")\n",
    "procedural_parts_amag = procedural_parts_amag.rename(columns={\"female\": \"female_first\"})\n",
    "procedural_parts_amag = procedural_parts_amag.drop(columns=[\"name\"])"
   ]
  },
  {
   "cell_type": "code",
   "execution_count": 117,
   "id": "e4572d2d",
   "metadata": {},
   "outputs": [],
   "source": [
    "procedural_parts_amag = pd.merge(procedural_parts_amag, gender_dataset, how=\"left\", \n",
    "                                 left_on=\"second_name\", right_on=\"name\")\n",
    "procedural_parts_amag = procedural_parts_amag.rename(columns={\"female\": \"female_second\"})\n",
    "procedural_parts_amag = procedural_parts_amag.drop(columns=[\"name\"])"
   ]
  },
  {
   "cell_type": "code",
   "execution_count": 118,
   "id": "c404b8cb",
   "metadata": {
    "scrolled": true
   },
   "outputs": [],
   "source": [
    "procedural_parts_amag[\"female\"] = procedural_parts_amag.apply(lambda row: 1 if row.female_first == 1 else np.NaN, axis=1)\n",
    "procedural_parts_amag[\"female\"] = procedural_parts_amag.apply(lambda row: 0 if row.female_first == 0 else row.female, axis=1)"
   ]
  },
  {
   "cell_type": "code",
   "execution_count": 119,
   "id": "9118239c",
   "metadata": {
    "scrolled": false
   },
   "outputs": [
    {
     "data": {
      "text/plain": [
       "0.0    119\n",
       "1.0     93\n",
       "Name: female, dtype: int64"
      ]
     },
     "execution_count": 119,
     "metadata": {},
     "output_type": "execute_result"
    }
   ],
   "source": [
    "procedural_parts_amag[\"female\"].value_counts()"
   ]
  },
  {
   "cell_type": "markdown",
   "id": "4689e82a",
   "metadata": {},
   "source": [
    "### 4.3.4. Creating `legal_entity` variable"
   ]
  },
  {
   "cell_type": "code",
   "execution_count": 120,
   "id": "f5ec46d5",
   "metadata": {},
   "outputs": [],
   "source": [
    "procedural_parts_amag[\"legal_entity\"] = procedural_parts_amag[\"tipo_depersona\"].apply(lambda tipo_de_persona:\n",
    "                                                                                     1 if tipo_de_persona == \"JURIDICA\"\n",
    "                                                                                     else 0)"
   ]
  },
  {
   "cell_type": "markdown",
   "id": "1d24af11",
   "metadata": {},
   "source": [
    "### 4.3.5. Collapsing at the expediente level"
   ]
  },
  {
   "cell_type": "code",
   "execution_count": 121,
   "id": "e3470bc3",
   "metadata": {},
   "outputs": [],
   "source": [
    "procedural_parts_amag_collapsed = procedural_parts_amag[[\"expediente_n°_\", \"parties\", \"female\", \"legal_entity\"]].groupby(\n",
    "                             by=[\"expediente_n°_\", \"parties\"]).agg(female_ratio=(\"female\", \"mean\"),\n",
    "                                                                   female_indicator=(\"female\", \"max\"),\n",
    "                                                                   legal_entity_ratio=(\"legal_entity\", \"mean\"),\n",
    "                                                                   legal_entity_indicator=(\"legal_entity\", \"max\")\n",
    "                                                                   ).reset_index()"
   ]
  },
  {
   "cell_type": "markdown",
   "id": "1427187e",
   "metadata": {},
   "source": [
    "### 4.3.6. Reshaping dataframe"
   ]
  },
  {
   "cell_type": "code",
   "execution_count": 122,
   "id": "d4dcb177",
   "metadata": {
    "scrolled": true
   },
   "outputs": [],
   "source": [
    "procedural_parts_amag_reshaped = pd.pivot_table(procedural_parts_amag_collapsed, values=[\"female_ratio\", \"legal_entity_ratio\", \"female_indicator\", \n",
    "                           \"legal_entity_indicator\"], columns=[\"parties\"], index=[\"expediente_n°_\"])"
   ]
  },
  {
   "cell_type": "code",
   "execution_count": 123,
   "id": "7c4a528e",
   "metadata": {},
   "outputs": [],
   "source": [
    "procedural_parts_amag_reshaped.columns = [\"_\".join(col).strip() for col in procedural_parts_amag_reshaped.columns.values]"
   ]
  },
  {
   "cell_type": "markdown",
   "id": "08d386db",
   "metadata": {},
   "source": [
    "Storing results"
   ]
  },
  {
   "cell_type": "code",
   "execution_count": 124,
   "id": "57f4c4ae",
   "metadata": {},
   "outputs": [],
   "source": [
    "procedural_parts_amag_collapsed.to_csv(dc_interm_path + \"/procedural_parts_amag_ii_clean.csv\")"
   ]
  },
  {
   "cell_type": "markdown",
   "id": "c7baea10",
   "metadata": {},
   "source": [
    "# 5. Creating case outcomes variables"
   ]
  },
  {
   "cell_type": "code",
   "execution_count": 125,
   "id": "6a231175",
   "metadata": {},
   "outputs": [],
   "source": [
    "documents_amag_clean = pd.read_csv(dc_interm_path + \"/documents_amag_ii_clean.csv\")"
   ]
  },
  {
   "cell_type": "code",
   "execution_count": 126,
   "id": "89896470",
   "metadata": {},
   "outputs": [],
   "source": [
    "reportes_amag_clean = pd.read_csv(dc_interm_path + \"/reportes_amag_ii_clean.csv\")"
   ]
  },
  {
   "cell_type": "code",
   "execution_count": 127,
   "id": "839682cb",
   "metadata": {},
   "outputs": [],
   "source": [
    "procedural_parts_amag_clean = pd.read_csv(dc_interm_path + \"/procedural_parts_amag_ii_clean.csv\")"
   ]
  },
  {
   "cell_type": "markdown",
   "id": "674b26c8",
   "metadata": {},
   "source": [
    "## 5.1. Creating fundada outcomes"
   ]
  },
  {
   "cell_type": "markdown",
   "id": "082e334a",
   "metadata": {},
   "source": [
    "### 5.1.1. Preparing fundada variables for outcome creation"
   ]
  },
  {
   "cell_type": "code",
   "execution_count": 128,
   "id": "c186edd4",
   "metadata": {},
   "outputs": [],
   "source": [
    "documents_amag_fundada = documents_amag_clean.groupby(\"expediente_n°_\").agg(fundada=(\"fundada\", \"max\"),\n",
    "                                                   fundada_parte=(\"fundada_parte\", \"max\"),\n",
    "                                                   infundada=(\"infundada\", \"max\")).reset_index()"
   ]
  },
  {
   "cell_type": "code",
   "execution_count": 129,
   "id": "04ef0097",
   "metadata": {},
   "outputs": [],
   "source": [
    "# dropping NaN values\n",
    "documents_amag_fundada = documents_amag_fundada[documents_amag_fundada[[\"expediente_n°_\", \"fundada\", \"fundada_parte\", \"infundada\"]].notna()]"
   ]
  },
  {
   "cell_type": "markdown",
   "id": "c269f450",
   "metadata": {},
   "source": [
    "### 5.1.2. Creating fundada variables based on intermediate variables"
   ]
  },
  {
   "cell_type": "code",
   "execution_count": 130,
   "id": "08ae8dd4",
   "metadata": {},
   "outputs": [],
   "source": [
    "documents_amag_fundada[\"var_fundada\"] = documents_amag_fundada.apply(lambda row: 1 if row[\"fundada\"] == 1 else \n",
    "                                                                     0 if row[\"fundada\"] == 0 else np.NaN, axis=1)"
   ]
  },
  {
   "cell_type": "code",
   "execution_count": 131,
   "id": "38534f53",
   "metadata": {},
   "outputs": [],
   "source": [
    "documents_amag_fundada[\"var_fundada\"] = documents_amag_fundada.apply(lambda row: 1 if row[\"fundada_parte\"] == 1 else \n",
    "                                                                     row[\"var_fundada\"], axis=1) "
   ]
  },
  {
   "cell_type": "markdown",
   "id": "64503621",
   "metadata": {},
   "source": [
    "Storing results"
   ]
  },
  {
   "cell_type": "code",
   "execution_count": 132,
   "id": "9826b522",
   "metadata": {},
   "outputs": [],
   "source": [
    "fundada_var = documents_amag_fundada[[\"expediente_n°_\", \"var_fundada\"]]"
   ]
  },
  {
   "cell_type": "code",
   "execution_count": 133,
   "id": "bc5572ac",
   "metadata": {},
   "outputs": [
    {
     "data": {
      "text/plain": [
       "0    213\n",
       "1      8\n",
       "Name: var_fundada, dtype: int64"
      ]
     },
     "execution_count": 133,
     "metadata": {},
     "output_type": "execute_result"
    }
   ],
   "source": [
    "fundada_var[\"var_fundada\"].value_counts()"
   ]
  },
  {
   "cell_type": "markdown",
   "id": "f105cd90",
   "metadata": {},
   "source": [
    "## 5.2. Creating resolution outcomes"
   ]
  },
  {
   "cell_type": "markdown",
   "id": "56d468fe",
   "metadata": {},
   "source": [
    "### 5.2.1. Preparing fundada variables for outcome creation"
   ]
  },
  {
   "cell_type": "code",
   "execution_count": 134,
   "id": "42efae0e",
   "metadata": {},
   "outputs": [],
   "source": [
    "documents_amag_resolution = documents_amag_clean.groupby(\"expediente_n°_\").agg(vista2=(\"vista2\", \"max\"),\n",
    "                                                   revoca2=(\"revoca2\", \"max\"),\n",
    "                                                   nula2=(\"nula2\", \"max\"),\n",
    "                                                   confirma2=(\"confirma2\", \"max\"),\n",
    "                                                   auto_improcedente=(\"auto_improcedente\", \"max\"), \n",
    "                                                   auto_final=(\"auto_final\", \"max\"),\n",
    "                                                   auto_definitivo=(\"auto_definitivo\", \"max\"),\n",
    "                                                   fundada=(\"fundada\", \"max\"),\n",
    "                                                   fundada_parte=(\"fundada_parte\", \"max\"),\n",
    "                                                   infundada=(\"infundada\", \"max\")).reset_index()"
   ]
  },
  {
   "cell_type": "code",
   "execution_count": 135,
   "id": "98c6337d",
   "metadata": {},
   "outputs": [],
   "source": [
    "# dropping NaN values\n",
    "documents_amag_resolution = documents_amag_resolution[documents_amag_resolution[[\"expediente_n°_\", \"vista2\", \"revoca2\", \n",
    "                                                                                 \"nula2\", \"confirma2\", \"auto_improcedente\",\n",
    "                                                                                 \"auto_final\", \"auto_definitivo\",\n",
    "                                                                                 \"fundada\", \"fundada_parte\", \"infundada\"]].notna()]"
   ]
  },
  {
   "cell_type": "markdown",
   "id": "3b465a1f",
   "metadata": {},
   "source": [
    "### 5.1.2. Creating fundada variables based on intermediate variables"
   ]
  },
  {
   "cell_type": "code",
   "execution_count": 136,
   "id": "9e6dddb0",
   "metadata": {},
   "outputs": [],
   "source": [
    "documents_amag_resolution[\"var_resolution\"] = documents_amag_resolution.apply(lambda row: 1 if row[\"vista2\"] == 1 or\n",
    "                                                                              row[\"revoca2\"] == 1 or row[\"nula2\"] == 1 or\n",
    "                                                                              row[\"confirma2\"] == 1 or \n",
    "                                                                              row[\"auto_improcedente\"] == 1 or\n",
    "                                                                              row[\"auto_final\"] == 1 or\n",
    "                                                                              row[\"auto_definitivo\"] == 1 or\n",
    "                                                                              row[\"fundada\"] == 1 or\n",
    "                                                                              row[\"fundada_parte\"] == 1 or\n",
    "                                                                              row[\"infundada\"] == 1 else 0, \n",
    "                                                                              axis=1)"
   ]
  },
  {
   "cell_type": "markdown",
   "id": "5aee55ac",
   "metadata": {},
   "source": [
    "Storing results"
   ]
  },
  {
   "cell_type": "code",
   "execution_count": 137,
   "id": "51cdb590",
   "metadata": {},
   "outputs": [],
   "source": [
    "resolution_var = documents_amag_resolution[[\"expediente_n°_\", \"var_resolution\"]]"
   ]
  },
  {
   "cell_type": "code",
   "execution_count": 138,
   "id": "d8177729",
   "metadata": {},
   "outputs": [
    {
     "data": {
      "text/plain": [
       "0    163\n",
       "1     58\n",
       "Name: var_resolution, dtype: int64"
      ]
     },
     "execution_count": 138,
     "metadata": {},
     "output_type": "execute_result"
    }
   ],
   "source": [
    "resolution_var[\"var_resolution\"].value_counts()"
   ]
  },
  {
   "cell_type": "markdown",
   "id": "15b5e6e7",
   "metadata": {},
   "source": [
    "## 5.3. Creating appeal outcomes"
   ]
  },
  {
   "cell_type": "markdown",
   "id": "5141a867",
   "metadata": {},
   "source": [
    "### 5.3.1. Filtering data"
   ]
  },
  {
   "cell_type": "code",
   "execution_count": 139,
   "id": "f945d0be",
   "metadata": {
    "scrolled": true
   },
   "outputs": [],
   "source": [
    "documents_amag_appeal = documents_amag_clean.copy() # creating appeal df\n",
    "documents_amag_appeal[\"decision\"] = documents_amag_appeal.apply(lambda row: 1 if row[\"fundada\"] == 1 or \n",
    "                                                                row[\"fundada_parte\"] == 1 or\n",
    "                                                                row[\"fundada_parte\"] == 1 else 0, axis=1)\n",
    "documents_amag_appeal = documents_amag_appeal[documents_amag_appeal[\"decision\"] == 1]"
   ]
  },
  {
   "cell_type": "code",
   "execution_count": 140,
   "id": "b3cd533c",
   "metadata": {
    "scrolled": true
   },
   "outputs": [],
   "source": [
    "documents_amag_appeal = documents_amag_appeal[documents_amag_appeal[\"decision\"] == 1]"
   ]
  },
  {
   "cell_type": "markdown",
   "id": "9d3efd5e",
   "metadata": {},
   "source": [
    "### 5.3.2. Creating appeal variables "
   ]
  },
  {
   "cell_type": "code",
   "execution_count": 141,
   "id": "3c063afc",
   "metadata": {},
   "outputs": [],
   "source": [
    "# appeal col\n",
    "documents_amag_appeal = documents_amag_appeal.groupby(\"expediente_n°_\").agg(var_appeal=(\"appeal\", \"max\")).reset_index()"
   ]
  },
  {
   "cell_type": "code",
   "execution_count": 142,
   "id": "7fc80fd1",
   "metadata": {},
   "outputs": [],
   "source": [
    "columns = [\"c1\", \"c2\", \"c3\", \"c4\", \"c5\", \"c6\", \"c7\"] # expediente cols NOTE: this is not used in R script\n",
    "documents_amag_appeal[columns] = documents_amag_appeal[\"expediente_n°_\"].str.split(\"-\", expand=True)"
   ]
  },
  {
   "cell_type": "markdown",
   "id": "036e261a",
   "metadata": {},
   "source": [
    "Storing results"
   ]
  },
  {
   "cell_type": "code",
   "execution_count": 143,
   "id": "47787273",
   "metadata": {},
   "outputs": [],
   "source": [
    "appeal_var = documents_amag_appeal[[\"expediente_n°_\", \"var_appeal\"]]"
   ]
  },
  {
   "cell_type": "code",
   "execution_count": 144,
   "id": "f30fc96a",
   "metadata": {},
   "outputs": [
    {
     "data": {
      "text/plain": [
       "0    8\n",
       "Name: var_appeal, dtype: int64"
      ]
     },
     "execution_count": 144,
     "metadata": {},
     "output_type": "execute_result"
    }
   ],
   "source": [
    "appeal_var[\"var_appeal\"].value_counts()"
   ]
  },
  {
   "cell_type": "markdown",
   "id": "a3a795fa",
   "metadata": {},
   "source": [
    "## 5.3. Creating reversal outcomes"
   ]
  },
  {
   "cell_type": "markdown",
   "id": "1819e0c8",
   "metadata": {},
   "source": [
    "### 5.3.1. Creating reversal variables "
   ]
  },
  {
   "cell_type": "code",
   "execution_count": 145,
   "id": "0ec33c08",
   "metadata": {},
   "outputs": [],
   "source": [
    "# reversal col\n",
    "documents_amag_reversal = documents_amag_clean.groupby(\"expediente_n°_\").agg(vista=(\"vista\", \"max\"),\n",
    "                                                                            revoca=(\"revoca\", \"max\"),\n",
    "                                                                            nula=(\"nula\", \"max\"),\n",
    "                                                                            confirma=(\"confirma\", \"max\")).reset_index()"
   ]
  },
  {
   "cell_type": "code",
   "execution_count": 146,
   "id": "dd68421c",
   "metadata": {},
   "outputs": [],
   "source": [
    "documents_amag_reversal[\"var_reversal\"] = documents_amag_reversal.apply(lambda row: 1 if row.revoca == 1 or \n",
    "                                                                       row.nula == 1 else 0, axis=1)"
   ]
  },
  {
   "cell_type": "code",
   "execution_count": 147,
   "id": "05b44e86",
   "metadata": {},
   "outputs": [
    {
     "data": {
      "text/plain": [
       "0    221\n",
       "Name: var_reversal, dtype: int64"
      ]
     },
     "execution_count": 147,
     "metadata": {},
     "output_type": "execute_result"
    }
   ],
   "source": [
    "documents_amag_reversal[\"var_reversal\"].value_counts()"
   ]
  },
  {
   "cell_type": "markdown",
   "id": "46e7f498",
   "metadata": {},
   "source": [
    "### 5.3.2. Merging with appeal var and storing results"
   ]
  },
  {
   "cell_type": "code",
   "execution_count": 148,
   "id": "ff909798",
   "metadata": {},
   "outputs": [],
   "source": [
    "reversal_var = pd.merge(documents_amag_reversal[[\"expediente_n°_\", \"var_reversal\"]], appeal_var)"
   ]
  },
  {
   "cell_type": "markdown",
   "id": "4d78c2e3",
   "metadata": {},
   "source": [
    "## 5.4. Creating first auto outcome"
   ]
  },
  {
   "cell_type": "code",
   "execution_count": 150,
   "id": "01ab499d",
   "metadata": {},
   "outputs": [],
   "source": [
    "date_first_auto_var = documents_amag_clean.groupby(\"expediente_n°_\").agg(date_first_auto=(\"date\", \"min\")).reset_index()"
   ]
  },
  {
   "cell_type": "markdown",
   "id": "fb94635b",
   "metadata": {},
   "source": [
    "## 5.5. Creating end date for resolutions"
   ]
  },
  {
   "cell_type": "markdown",
   "id": "f777776c",
   "metadata": {},
   "source": [
    "### 5.5.1. Filtering data"
   ]
  },
  {
   "cell_type": "code",
   "execution_count": 192,
   "id": "e9895392",
   "metadata": {},
   "outputs": [],
   "source": [
    "date_resolution_var = documents_amag_clean[(documents_amag_clean[\"vista2\"] == 1) |\n",
    "                                           (documents_amag_clean[\"revoca2\"] == 1) |\n",
    "                                           (documents_amag_clean[\"nula2\"] == 1) | \n",
    "                                           (documents_amag_clean[\"confirma2\"] == 1) | \n",
    "                                           (documents_amag_clean[\"auto_improcedente\"] == 1) | \n",
    "                                           (documents_amag_clean[\"auto_definitivo\"] == 1) | \n",
    "                                           (documents_amag_clean[\"auto_final\"] == 1) | \n",
    "                                           (documents_amag_clean[\"fundada\"] == 1) | \n",
    "                                           (documents_amag_clean[\"fundada_parte\"] == 1) | \n",
    "                                           (documents_amag_clean[\"infundada\"] == 1)]"
   ]
  },
  {
   "cell_type": "markdown",
   "id": "30d218de",
   "metadata": {},
   "source": [
    "### 5.5.2. Creating date variable"
   ]
  },
  {
   "cell_type": "code",
   "execution_count": 194,
   "id": "f6b2e0ca",
   "metadata": {},
   "outputs": [],
   "source": [
    "date_resolution_var = date_resolution_var.groupby(\"expediente_n°_\").agg(date_resolution=(\"date\", \"max\")).reset_index()"
   ]
  },
  {
   "cell_type": "markdown",
   "id": "5898e4d8",
   "metadata": {},
   "source": [
    "## 5.6. Creating end date for verdict"
   ]
  },
  {
   "cell_type": "markdown",
   "id": "17964e2c",
   "metadata": {},
   "source": [
    "### 5.6.1. Filtering data"
   ]
  },
  {
   "cell_type": "code",
   "execution_count": 250,
   "id": "b26792b8",
   "metadata": {},
   "outputs": [],
   "source": [
    "date_verdict_var = documents_amag_clean[(documents_amag_clean[\"fundada\"] == 1) |\n",
    "                                         (documents_amag_clean[\"fundada_parte\"] == 1) |\n",
    "                                         (documents_amag_clean[\"infundada\"] == 1)]"
   ]
  },
  {
   "cell_type": "markdown",
   "id": "d0154b6b",
   "metadata": {},
   "source": [
    "### 5.6.2. Creating date variable and storing data"
   ]
  },
  {
   "cell_type": "code",
   "execution_count": 251,
   "id": "02058e4c",
   "metadata": {},
   "outputs": [],
   "source": [
    "date_verdict_var = date_verdict_var.groupby(\"expediente_n°_\").agg(date_verdict=(\"date\", \"max\")).reset_index().drop_duplicates()"
   ]
  },
  {
   "cell_type": "markdown",
   "id": "8b2552bc",
   "metadata": {},
   "source": [
    "## 5.7. Creating end date for reversals"
   ]
  },
  {
   "cell_type": "markdown",
   "id": "2dc5d678",
   "metadata": {},
   "source": [
    "### 5.7.1. Filtering data"
   ]
  },
  {
   "cell_type": "code",
   "execution_count": 168,
   "id": "a6174711",
   "metadata": {},
   "outputs": [],
   "source": [
    "documents_amag_d_reversal = documents_amag_clean[(documents_amag_clean[\"revoca\"] == 1) |\n",
    "                                         (documents_amag_clean[\"nula\"] == 1) |\n",
    "                                         (documents_amag_clean[\"confirma\"] == 1)]"
   ]
  },
  {
   "cell_type": "markdown",
   "id": "ec1d28aa",
   "metadata": {},
   "source": [
    "### 5.7.2. Creating date variables"
   ]
  },
  {
   "cell_type": "code",
   "execution_count": 166,
   "id": "3bed9ad2",
   "metadata": {},
   "outputs": [],
   "source": [
    "date_reversal_var = documents_amag_d_reversal.groupby(\"expediente_n°_\").agg(date_reversal=(\"date\", \"max\")).reset_index().drop_duplicates()"
   ]
  },
  {
   "cell_type": "markdown",
   "id": "928e2a7c",
   "metadata": {},
   "source": [
    "### 5.7.3. Keeping data with `reversal verdict length > 0`"
   ]
  },
  {
   "cell_type": "markdown",
   "id": "5ee375db",
   "metadata": {},
   "source": [
    "Merging date of reversal date w/ reversal df"
   ]
  },
  {
   "cell_type": "code",
   "execution_count": 170,
   "id": "519f1ee0",
   "metadata": {},
   "outputs": [],
   "source": [
    "date_reversal_var = pd.merge(date_reversal_var, reversal_var)"
   ]
  },
  {
   "cell_type": "code",
   "execution_count": 173,
   "id": "259b7eeb",
   "metadata": {},
   "outputs": [],
   "source": [
    "date_reversal_var = pd.merge(date_reversal_var, date_sentence_var)"
   ]
  },
  {
   "cell_type": "markdown",
   "id": "fb432ee7",
   "metadata": {},
   "source": [
    "Length of reversal verdict"
   ]
  },
  {
   "cell_type": "code",
   "execution_count": 174,
   "id": "ca8d6a6b",
   "metadata": {},
   "outputs": [],
   "source": [
    "date_reversal_var[\"length_verdict_reversal\"] = date_reversal_var[\"date_reversal\"] - date_reversal_var[\"date_sentence\"]"
   ]
  },
  {
   "cell_type": "code",
   "execution_count": 175,
   "id": "19ce2838",
   "metadata": {},
   "outputs": [],
   "source": [
    "date_reversal_var = date_reversal_var[date_reversal_var[\"length_verdict_reversal\"] > 0]"
   ]
  },
  {
   "cell_type": "markdown",
   "id": "9ffba9bf",
   "metadata": {},
   "source": [
    "## 5.7. Creating case outcomes dataframe"
   ]
  },
  {
   "cell_type": "code",
   "execution_count": 252,
   "id": "5f2ec3e7",
   "metadata": {},
   "outputs": [],
   "source": [
    "case_outcomes = pd.merge(fundada_var, appeal_var)"
   ]
  },
  {
   "cell_type": "code",
   "execution_count": 253,
   "id": "b25d8ecb",
   "metadata": {},
   "outputs": [],
   "source": [
    "case_outcomes = pd.merge(case_outcomes, resolution_var)"
   ]
  },
  {
   "cell_type": "code",
   "execution_count": 254,
   "id": "febd7954",
   "metadata": {},
   "outputs": [],
   "source": [
    "case_outcomes = pd.merge(case_outcomes, date_first_auto_var)"
   ]
  },
  {
   "cell_type": "code",
   "execution_count": 255,
   "id": "d46d7b01",
   "metadata": {},
   "outputs": [],
   "source": [
    "case_outcomes = pd.merge(case_outcomes, date_verdict_var)"
   ]
  },
  {
   "cell_type": "markdown",
   "id": "fa3d8f70",
   "metadata": {},
   "source": [
    "```python\n",
    "case_outcomes = pd.merge(case_outcomes, date_reversal_var) # it'll generate empty results if no vals in date_reversal\n",
    "```"
   ]
  },
  {
   "cell_type": "code",
   "execution_count": 256,
   "id": "a9bbd241",
   "metadata": {},
   "outputs": [],
   "source": [
    "case_outcomes = pd.merge(case_outcomes, date_resolution_var)"
   ]
  },
  {
   "cell_type": "code",
   "execution_count": 257,
   "id": "0eb4dba2",
   "metadata": {},
   "outputs": [],
   "source": [
    "case_outcomes = pd.merge(case_outcomes, reportes_amag_clean)"
   ]
  },
  {
   "cell_type": "markdown",
   "id": "2ac886ce",
   "metadata": {},
   "source": [
    "```python\n",
    "case_outcomes = pd.merge(case_outcomes, procedural_parts_amag_clean) # it'll generate empty results if no vals in date_reversal\n",
    "```"
   ]
  },
  {
   "cell_type": "markdown",
   "id": "ce9b8925",
   "metadata": {},
   "source": [
    "# 6. Creating additional case outcomes variables"
   ]
  },
  {
   "cell_type": "markdown",
   "id": "f210f7c7",
   "metadata": {},
   "source": [
    "## 6.1. Year variables"
   ]
  },
  {
   "cell_type": "code",
   "execution_count": 258,
   "id": "3aef5667",
   "metadata": {},
   "outputs": [],
   "source": [
    "case_outcomes[\"year\"] = case_outcomes[\"date_first_auto\"].apply(lambda date: datetime.strptime(date.split(\"-\")[0], \"%Y\").year)"
   ]
  },
  {
   "cell_type": "code",
   "execution_count": 259,
   "id": "3747444f",
   "metadata": {},
   "outputs": [],
   "source": [
    "case_outcomes[\"month_year_first_auto\"] = case_outcomes[\"date_first_auto\"].apply(lambda date: datetime.strptime(date.split(\"-\")[0] + \n",
    "                                                                                \"-\" + date.split(\"-\")[1], \"%Y-%m\"))"
   ]
  },
  {
   "cell_type": "code",
   "execution_count": 260,
   "id": "c8145988",
   "metadata": {},
   "outputs": [],
   "source": [
    "case_outcomes[\"month_year_verdict\"] = case_outcomes[\"date_verdict\"].apply(lambda date: datetime.strptime(date.split(\"-\")[0] + \n",
    "                                                                                \"-\" + date.split(\"-\")[1], \"%Y-%m\"))"
   ]
  },
  {
   "cell_type": "code",
   "execution_count": 261,
   "id": "1f7506b1",
   "metadata": {},
   "outputs": [],
   "source": [
    "case_outcomes[\"month_year_resolution\"] = case_outcomes[\"date_resolution\"].apply(lambda date: datetime.strptime(date.split(\"-\")[0] + \n",
    "                                                                                \"-\" + date.split(\"-\")[1], \"%Y-%m\"))"
   ]
  },
  {
   "cell_type": "markdown",
   "id": "5b6a614c",
   "metadata": {},
   "source": [
    "## 6.2. During/after treatment variables"
   ]
  },
  {
   "cell_type": "code",
   "execution_count": 274,
   "id": "221c1c09",
   "metadata": {},
   "outputs": [],
   "source": [
    "treatment_start_date = datetime.strptime(\"2021-06-05\", \"%Y-%m-%d\")\n",
    "treatment_final_date = datetime.strptime(\"2021-07-21\", \"%Y-%m-%d\")"
   ]
  },
  {
   "cell_type": "markdown",
   "id": "5ec33d79",
   "metadata": {},
   "source": [
    "### 6.2.1. Case start date variables: before/during/after treatment"
   ]
  },
  {
   "cell_type": "code",
   "execution_count": 275,
   "id": "2aac6955",
   "metadata": {},
   "outputs": [],
   "source": [
    "case_outcomes[\"first_auto_before_treatment\"] = case_outcomes[\"date_first_auto\"].apply(lambda date: datetime.strptime(date, \"%Y-%m-%d\") < treatment_start_date)"
   ]
  },
  {
   "cell_type": "code",
   "execution_count": 279,
   "id": "642f7475",
   "metadata": {
    "scrolled": true
   },
   "outputs": [
    {
     "data": {
      "text/plain": [
       "False    8\n",
       "Name: first_auto_before_treatment, dtype: int64"
      ]
     },
     "execution_count": 279,
     "metadata": {},
     "output_type": "execute_result"
    }
   ],
   "source": [
    "case_outcomes[\"first_auto_before_treatment\"].value_counts()"
   ]
  },
  {
   "cell_type": "code",
   "execution_count": 276,
   "id": "b6588b73",
   "metadata": {},
   "outputs": [],
   "source": [
    "# case start during treatment\n",
    "case_outcomes[\"first_auto_during_treatment\"] = case_outcomes[\"date_first_auto\"].apply(lambda date: datetime.strptime(date, \"%Y-%m-%d\") >= treatment_start_date\n",
    "                                                                                      and datetime.strptime(date, \"%Y-%m-%d\") < treatment_final_date)"
   ]
  },
  {
   "cell_type": "code",
   "execution_count": 280,
   "id": "49c5b70a",
   "metadata": {},
   "outputs": [
    {
     "data": {
      "text/plain": [
       "False    8\n",
       "Name: first_auto_during_treatment, dtype: int64"
      ]
     },
     "execution_count": 280,
     "metadata": {},
     "output_type": "execute_result"
    }
   ],
   "source": [
    "case_outcomes[\"first_auto_during_treatment\"].value_counts()"
   ]
  },
  {
   "cell_type": "code",
   "execution_count": 278,
   "id": "78c05403",
   "metadata": {},
   "outputs": [],
   "source": [
    "# case start during or after treatment\n",
    "case_outcomes[\"first_auto_duringafter_treatment\"] = case_outcomes[\"date_first_auto\"].apply(lambda date: datetime.strptime(date, \"%Y-%m-%d\") >= treatment_start_date)"
   ]
  },
  {
   "cell_type": "code",
   "execution_count": 284,
   "id": "27c62825",
   "metadata": {
    "scrolled": true
   },
   "outputs": [
    {
     "data": {
      "text/plain": [
       "True    8\n",
       "Name: first_auto_duringafter_treatment, dtype: int64"
      ]
     },
     "execution_count": 284,
     "metadata": {},
     "output_type": "execute_result"
    }
   ],
   "source": [
    "case_outcomes[\"first_auto_duringafter_treatment\"].value_counts()"
   ]
  },
  {
   "cell_type": "code",
   "execution_count": 282,
   "id": "9ba9e005",
   "metadata": {},
   "outputs": [],
   "source": [
    "# case start after treatment\n",
    "case_outcomes[\"first_auto_after_treatment\"] = case_outcomes[\"date_first_auto\"].apply(lambda date: datetime.strptime(date, \"%Y-%m-%d\") >= treatment_final_date)"
   ]
  },
  {
   "cell_type": "code",
   "execution_count": 285,
   "id": "21c13bba",
   "metadata": {
    "scrolled": true
   },
   "outputs": [
    {
     "data": {
      "text/plain": [
       "True    8\n",
       "Name: first_auto_after_treatment, dtype: int64"
      ]
     },
     "execution_count": 285,
     "metadata": {},
     "output_type": "execute_result"
    }
   ],
   "source": [
    "case_outcomes[\"first_auto_after_treatment\"].value_counts()"
   ]
  },
  {
   "cell_type": "markdown",
   "id": "7d09c52c",
   "metadata": {},
   "source": [
    "### 6.2.2. Verdict date variables: before/during/after treatment"
   ]
  },
  {
   "cell_type": "code",
   "execution_count": 288,
   "id": "34769584",
   "metadata": {},
   "outputs": [],
   "source": [
    "# verdict before treatment\n",
    "case_outcomes[\"verdict_before_treatment\"] = case_outcomes[\"date_verdict\"].apply(lambda date: datetime.strptime(date, \"%Y-%m-%d\") < treatment_start_date)"
   ]
  },
  {
   "cell_type": "code",
   "execution_count": 289,
   "id": "d78fc6b7",
   "metadata": {
    "scrolled": true
   },
   "outputs": [
    {
     "data": {
      "text/plain": [
       "False    8\n",
       "Name: verdict_before_treatment, dtype: int64"
      ]
     },
     "execution_count": 289,
     "metadata": {},
     "output_type": "execute_result"
    }
   ],
   "source": [
    "case_outcomes[\"verdict_before_treatment\"].value_counts()"
   ]
  },
  {
   "cell_type": "code",
   "execution_count": 290,
   "id": "3f081227",
   "metadata": {},
   "outputs": [],
   "source": [
    "# verdict during treatment\n",
    "case_outcomes[\"verdict_during_treatment\"] = case_outcomes[\"date_verdict\"].apply(lambda date: datetime.strptime(date, \"%Y-%m-%d\") >= treatment_start_date\n",
    "                                                                                and datetime.strptime(date, \"%Y-%m-%d\") < treatment_final_date)"
   ]
  },
  {
   "cell_type": "code",
   "execution_count": 291,
   "id": "461fd90b",
   "metadata": {
    "scrolled": false
   },
   "outputs": [
    {
     "data": {
      "text/plain": [
       "False    8\n",
       "Name: verdict_during_treatment, dtype: int64"
      ]
     },
     "execution_count": 291,
     "metadata": {},
     "output_type": "execute_result"
    }
   ],
   "source": [
    "case_outcomes[\"verdict_during_treatment\"].value_counts()"
   ]
  },
  {
   "cell_type": "code",
   "execution_count": 292,
   "id": "e88d6004",
   "metadata": {},
   "outputs": [],
   "source": [
    "# case start during or after treatment\n",
    "case_outcomes[\"verdict_duringafter_treatment\"] = case_outcomes[\"date_verdict\"].apply(lambda date: datetime.strptime(date, \"%Y-%m-%d\") >= treatment_start_date)"
   ]
  },
  {
   "cell_type": "code",
   "execution_count": 293,
   "id": "0b4eeaad",
   "metadata": {
    "scrolled": false
   },
   "outputs": [
    {
     "data": {
      "text/plain": [
       "True    8\n",
       "Name: verdict_duringafter_treatment, dtype: int64"
      ]
     },
     "execution_count": 293,
     "metadata": {},
     "output_type": "execute_result"
    }
   ],
   "source": [
    "case_outcomes[\"verdict_duringafter_treatment\"].value_counts()"
   ]
  },
  {
   "cell_type": "code",
   "execution_count": 294,
   "id": "9471c8d9",
   "metadata": {},
   "outputs": [],
   "source": [
    "# case start after treatment\n",
    "case_outcomes[\"verdict_after_treatment\"] = case_outcomes[\"date_verdict\"].apply(lambda date: datetime.strptime(date, \"%Y-%m-%d\") >= treatment_final_date)"
   ]
  },
  {
   "cell_type": "code",
   "execution_count": 295,
   "id": "b2deec23",
   "metadata": {
    "scrolled": true
   },
   "outputs": [
    {
     "data": {
      "text/plain": [
       "True    8\n",
       "Name: verdict_after_treatment, dtype: int64"
      ]
     },
     "execution_count": 295,
     "metadata": {},
     "output_type": "execute_result"
    }
   ],
   "source": [
    "case_outcomes[\"verdict_after_treatment\"].value_counts()"
   ]
  },
  {
   "cell_type": "markdown",
   "id": "fcd8f1b7",
   "metadata": {},
   "source": [
    "### 6.2.3. Reversal date variables: before/during/after treatment"
   ]
  },
  {
   "cell_type": "code",
   "execution_count": null,
   "id": "ebab11c8",
   "metadata": {},
   "outputs": [],
   "source": [
    "# verdict before treatment\n",
    "case_outcomes[\"reversal_before_treatment\"] = case_outcomes[\"date_reversal\"].apply(lambda date: datetime.strptime(date, \"%Y-%m-%d\") < treatment_start_date)"
   ]
  },
  {
   "cell_type": "code",
   "execution_count": null,
   "id": "3cd380a5",
   "metadata": {},
   "outputs": [],
   "source": [
    "# reversal during treatment\n",
    "case_outcomes[\"reversal_during_treatment\"] = case_outcomes[\"date_reversal\"].apply(lambda date: datetime.strptime(date, \"%Y-%m-%d\") >= treatment_start_date\n",
    "                                                                                and datetime.strptime(date, \"%Y-%m-%d\") < treatment_final_date)"
   ]
  },
  {
   "cell_type": "code",
   "execution_count": null,
   "id": "21b864b1",
   "metadata": {},
   "outputs": [],
   "source": [
    "# case start during or after treatment\n",
    "case_outcomes[\"reversal_duringafter_treatment\"] = case_outcomes[\"date_reversal\"].apply(lambda date: datetime.strptime(date, \"%Y-%m-%d\") >= treatment_start_date)"
   ]
  },
  {
   "cell_type": "code",
   "execution_count": null,
   "id": "437bc46d",
   "metadata": {},
   "outputs": [],
   "source": [
    "# case start after treatment\n",
    "case_outcomes[\"reversal_after_treatment\"] = case_outcomes[\"date_reversal\"].apply(lambda date: datetime.strptime(date, \"%Y-%m-%d\") >= treatment_final_date)"
   ]
  },
  {
   "cell_type": "markdown",
   "id": "01695ca0",
   "metadata": {},
   "source": [
    "### 6.2.3. Resolution date variables: before/during/after treatment"
   ]
  },
  {
   "cell_type": "code",
   "execution_count": 297,
   "id": "d27240b8",
   "metadata": {},
   "outputs": [],
   "source": [
    "# verdict before treatment\n",
    "case_outcomes[\"resolution_before_treatment\"] = case_outcomes[\"date_resolution\"].apply(lambda date: datetime.strptime(date, \"%Y-%m-%d\") < treatment_start_date)"
   ]
  },
  {
   "cell_type": "code",
   "execution_count": 301,
   "id": "c77116ba",
   "metadata": {},
   "outputs": [
    {
     "data": {
      "text/plain": [
       "False    8\n",
       "Name: resolution_before_treatment, dtype: int64"
      ]
     },
     "execution_count": 301,
     "metadata": {},
     "output_type": "execute_result"
    }
   ],
   "source": [
    "case_outcomes[\"resolution_before_treatment\"].value_counts()"
   ]
  },
  {
   "cell_type": "code",
   "execution_count": 298,
   "id": "4f6889cc",
   "metadata": {},
   "outputs": [],
   "source": [
    "# resolution during treatment\n",
    "case_outcomes[\"resolution_during_treatment\"] = case_outcomes[\"date_resolution\"].apply(lambda date: datetime.strptime(date, \"%Y-%m-%d\") >= treatment_start_date\n",
    "                                                                                and datetime.strptime(date, \"%Y-%m-%d\") < treatment_final_date)"
   ]
  },
  {
   "cell_type": "code",
   "execution_count": 302,
   "id": "2c3dbb89",
   "metadata": {},
   "outputs": [
    {
     "data": {
      "text/plain": [
       "False    8\n",
       "Name: resolution_during_treatment, dtype: int64"
      ]
     },
     "execution_count": 302,
     "metadata": {},
     "output_type": "execute_result"
    }
   ],
   "source": [
    "case_outcomes[\"resolution_during_treatment\"].value_counts()"
   ]
  },
  {
   "cell_type": "code",
   "execution_count": 299,
   "id": "f963c6ae",
   "metadata": {},
   "outputs": [],
   "source": [
    "# case start during or after treatment\n",
    "case_outcomes[\"resolution_duringafter_treatment\"] = case_outcomes[\"date_resolution\"].apply(lambda date: datetime.strptime(date, \"%Y-%m-%d\") >= treatment_start_date)"
   ]
  },
  {
   "cell_type": "code",
   "execution_count": 303,
   "id": "0a5bddec",
   "metadata": {
    "scrolled": true
   },
   "outputs": [
    {
     "data": {
      "text/plain": [
       "True    8\n",
       "Name: resolution_duringafter_treatment, dtype: int64"
      ]
     },
     "execution_count": 303,
     "metadata": {},
     "output_type": "execute_result"
    }
   ],
   "source": [
    "case_outcomes[\"resolution_duringafter_treatment\"].value_counts()"
   ]
  },
  {
   "cell_type": "code",
   "execution_count": 308,
   "id": "4ec4ee6e",
   "metadata": {},
   "outputs": [],
   "source": [
    "# case start after treatment\n",
    "case_outcomes[\"resolution_after_treatment\"] = case_outcomes[\"date_resolution\"].apply(lambda date: datetime.strptime(date, \"%Y-%m-%d\") >= treatment_final_date)"
   ]
  },
  {
   "cell_type": "code",
   "execution_count": 309,
   "id": "46d207c8",
   "metadata": {
    "scrolled": false
   },
   "outputs": [
    {
     "data": {
      "text/plain": [
       "True    8\n",
       "Name: resolution_after_treatment, dtype: int64"
      ]
     },
     "execution_count": 309,
     "metadata": {},
     "output_type": "execute_result"
    }
   ],
   "source": [
    "case_outcomes[\"resolution_after_treatment\"].value_counts()"
   ]
  },
  {
   "cell_type": "markdown",
   "id": "b37c4c13",
   "metadata": {},
   "source": [
    "### 6.3. Length date variables"
   ]
  },
  {
   "cell_type": "code",
   "execution_count": 314,
   "id": "2b10a5df",
   "metadata": {},
   "outputs": [],
   "source": [
    "# length between first auto and resolution\n",
    "case_outcomes[\"length_auto_resolution\"] = case_outcomes.apply(lambda row: datetime.strptime(row[\"date_resolution\"], \"%Y-%m-%d\")\n",
    "                                                                  - datetime.strptime(row[\"date_first_auto\"], \"%Y-%m-%d\"), axis=1)"
   ]
  },
  {
   "cell_type": "code",
   "execution_count": 315,
   "id": "7ba4259d",
   "metadata": {},
   "outputs": [],
   "source": [
    "# Length between first auto and sentence\n",
    "case_outcomes[\"length_auto_sentence\"] = case_outcomes.apply(lambda row: datetime.strptime(row[\"date_verdict\"], \"%Y-%m-%d\")\n",
    "                                                                  - datetime.strptime(row[\"date_first_auto\"], \"%Y-%m-%d\"), axis=1)"
   ]
  },
  {
   "cell_type": "code",
   "execution_count": null,
   "id": "df3fa796",
   "metadata": {},
   "outputs": [],
   "source": [
    "# length between first auto and reversal\n",
    "case_outcomes[\"length_auto_reversal\"] = case_outcomes.apply(lambda row: datetime.strptime(row[\"date_reversal\"], \"%Y-%m-%d\")\n",
    "                                                                  - datetime.strptime(row[\"date_first_auto\"], \"%Y-%m-%d\"), axis=1)"
   ]
  },
  {
   "cell_type": "code",
   "execution_count": null,
   "id": "bd8ccc34",
   "metadata": {},
   "outputs": [],
   "source": [
    "# length between sentence and reversal\n",
    "case_outcomes[\"length_sentence_reversal\"] = case_outcomes.apply(lambda row: datetime.strptime(row[\"date_reversal\"], \"%Y-%m-%d\")\n",
    "                                                                  - datetime.strptime(row[\"date_first_auto\"], \"%Y-%m-%d\"), axis=1)"
   ]
  },
  {
   "cell_type": "markdown",
   "id": "61ad6fae",
   "metadata": {},
   "source": [
    "### 6.4. Unconditional reversal variable"
   ]
  },
  {
   "cell_type": "code",
   "execution_count": null,
   "id": "dfadb9d8",
   "metadata": {},
   "outputs": [],
   "source": [
    "# creating \"especialidad\" variable\n",
    "case_outcomes[\"var_uncon_reversal\"] = case_outcomes.apply(lambda row: row.var_reversal if row.var_reversal != np.NaN\n",
    "                                                          else 0, axis=1)"
   ]
  },
  {
   "cell_type": "markdown",
   "id": "8617fc7a",
   "metadata": {},
   "source": [
    "### 6.5. Speciality variables"
   ]
  },
  {
   "cell_type": "code",
   "execution_count": 352,
   "id": "da7f50da",
   "metadata": {},
   "outputs": [],
   "source": [
    "# creating \"especialidad\" variable\n",
    "case_outcomes[\"especialidad\"] = case_outcomes[\"especialidad__x\"].apply(lambda especialidad: especialidad)\n",
    "case_outcomes[\"especialidad\"] = case_outcomes.apply(lambda row: row.especialidad__y if row.especialidad__x != np.NaN\n",
    "                                                    else np.NaN, axis=1)"
   ]
  },
  {
   "cell_type": "code",
   "execution_count": 353,
   "id": "47424130",
   "metadata": {},
   "outputs": [],
   "source": [
    "# length between first auto and resolution\n",
    "case_outcomes[\"especialidad\"] = case_outcomes.apply(lambda row: \"otro\" if row.especialidad == np.NaN else row.especialidad\n",
    "                                                    , axis=1)"
   ]
  },
  {
   "cell_type": "markdown",
   "id": "983bb8f2",
   "metadata": {},
   "source": [
    "### 6.6. Case speciality variables"
   ]
  },
  {
   "cell_type": "code",
   "execution_count": 336,
   "id": "7d9d7791",
   "metadata": {},
   "outputs": [],
   "source": [
    "# length between first auto and resolution\n",
    "case_outcomes[\"case_speciality\"] = case_outcomes.apply(lambda row: \"civil\" if row.especialidad == \"CIVIL\" \n",
    "                                                       else np.NaN, axis=1)\n",
    "case_outcomes[\"case_speciality\"] = case_outcomes.apply(lambda row: \"familia civil\" if row.especialidad == \"FAMILIA CIVIL\" \n",
    "                                                       else row.case_speciality, axis=1)\n",
    "case_outcomes[\"case_speciality\"] = case_outcomes.apply(lambda row: \"familia tutelar\" if row.especialidad == \"FAMILIA TUTELAR\" \n",
    "                                                       else row.case_speciality, axis=1)\n",
    "case_outcomes[\"case_speciality\"] = case_outcomes.apply(lambda row: \"laboral\" if row.especialidad == \"LABORAL\" \n",
    "                                                       else row.case_speciality, axis=1)\n",
    "case_outcomes[\"case_speciality\"] = case_outcomes.apply(lambda row: \"otro\" if row.especialidad == \"COMERCIAL\" \n",
    "                                                       else row.case_speciality, axis=1)\n",
    "case_outcomes[\"case_speciality\"] = case_outcomes.apply(lambda row: \"otro\" if row.especialidad == \"CONTENCIOSO ADM.\" \n",
    "                                                       else row.case_speciality, axis=1)\n",
    "case_outcomes[\"case_speciality\"] = case_outcomes.apply(lambda row: \"otro\" if row.especialidad == \"DERECHO CONSTITUCIONAL\" \n",
    "                                                       else row.case_speciality, axis=1)\n",
    "case_outcomes[\"case_speciality\"] = case_outcomes.apply(lambda row: \"otro\" if row.especialidad == \"OTRO\" \n",
    "                                                       else row.case_speciality, axis=1)"
   ]
  },
  {
   "cell_type": "code",
   "execution_count": 342,
   "id": "aaa01933",
   "metadata": {},
   "outputs": [],
   "source": [
    "# length between first auto and resolution\n",
    "case_outcomes[\"speciality_civil\"] = case_outcomes.apply(lambda row: 1 if row.case_speciality == \"civil\" \n",
    "                                                        else 0, axis=1)"
   ]
  },
  {
   "cell_type": "code",
   "execution_count": 343,
   "id": "f30eafa3",
   "metadata": {},
   "outputs": [],
   "source": [
    "# length between first auto and resolution\n",
    "case_outcomes[\"speciality_familia_civil\"] = case_outcomes.apply(lambda row: 1 if row.case_speciality == \"familia civil\" \n",
    "                                                                else 0, axis=1)"
   ]
  },
  {
   "cell_type": "code",
   "execution_count": 344,
   "id": "2c9e4436",
   "metadata": {},
   "outputs": [],
   "source": [
    "# length between first auto and resolution\n",
    "case_outcomes[\"speciality_familia_tutelar\"] = case_outcomes.apply(lambda row: 1 if row.case_speciality == \"familia tutelar\" \n",
    "                                                                  else 0, axis=1)"
   ]
  },
  {
   "cell_type": "code",
   "execution_count": 345,
   "id": "11fdba4d",
   "metadata": {},
   "outputs": [],
   "source": [
    "# length between first auto and resolution\n",
    "case_outcomes[\"speciality_laboral\"] = case_outcomes.apply(lambda row: 1 if row.case_speciality == \"laboral\" else 0, axis=1)"
   ]
  },
  {
   "cell_type": "code",
   "execution_count": 346,
   "id": "9192a191",
   "metadata": {},
   "outputs": [],
   "source": [
    "# length between first auto and resolution\n",
    "case_outcomes[\"speciality_otro\"] = case_outcomes.apply(lambda row: 1 if row.case_speciality == \"otro\" else 0, axis=1)"
   ]
  },
  {
   "cell_type": "markdown",
   "id": "38bd9f0d",
   "metadata": {},
   "source": [
    "## 6.7. Process variables"
   ]
  },
  {
   "cell_type": "markdown",
   "id": "cf0bbb7e",
   "metadata": {},
   "source": [
    "### 6.7.1. Creating proceso variable based on `proceso__x` and `proceso__y`"
   ]
  },
  {
   "cell_type": "code",
   "execution_count": 351,
   "id": "7b191ea4",
   "metadata": {},
   "outputs": [],
   "source": [
    "case_outcomes[\"proceso\"] = case_outcomes[\"proceso__x\"].apply(lambda proceso: proceso)\n",
    "case_outcomes[\"proceso\"] = case_outcomes.apply(lambda row: row.proceso__y if row.proceso == np.NaN else\n",
    "                                               row.proceso, axis=1)"
   ]
  },
  {
   "cell_type": "code",
   "execution_count": 364,
   "id": "b749aa2c",
   "metadata": {
    "scrolled": true
   },
   "outputs": [],
   "source": [
    "case_outcomes[\"case_process\"] = case_outcomes[\"proceso\"].apply(lambda proceso: \"unico\" if proceso == \"UNICO\" else np.NaN)"
   ]
  },
  {
   "cell_type": "markdown",
   "id": "345acea3",
   "metadata": {},
   "source": [
    "### 6.7.2. Creating type of process variable"
   ]
  },
  {
   "cell_type": "code",
   "execution_count": 366,
   "id": "421af92e",
   "metadata": {},
   "outputs": [],
   "source": [
    "case_outcomes[\"case_process\"] = case_outcomes.apply(lambda row: \"ejecucion\" if row.proceso == \"EJECUCION\" else row.case_process, axis=1)\n",
    "case_outcomes[\"case_process\"] = case_outcomes.apply(lambda row: \"ejecucion\" if row.proceso == \"EJECUTIVO\" else row.case_process, axis=1)\n",
    "case_outcomes[\"case_process\"] = case_outcomes.apply(lambda row: \"ejecucion\" if row.proceso == \"UNICO DE EJECUCION\" else row.case_process, axis=1)\n",
    "case_outcomes[\"case_process\"] = case_outcomes.apply(lambda row: \"sumarisimo\" if row.proceso == \"SUMARISIMO\" else row.case_process, axis=1)\n",
    "case_outcomes[\"case_process\"] = case_outcomes.apply(lambda row: \"abreviado\" if row.proceso == \"ABREVIADO\" else row.case_process, axis=1)\n",
    "case_outcomes[\"case_process\"] = case_outcomes.apply(lambda row: \"conocimiento\" if row.proceso == \"CONOCIMIENTO\" else row.case_process, axis=1)\n",
    "case_outcomes[\"case_process\"] = case_outcomes.apply(lambda row: \"no_contensioso\" if row.proceso == \"NO CONTENCIOSO\" else row.case_process, axis=1)\n",
    "case_outcomes[\"case_process\"] = case_outcomes.apply(lambda row: \"constitucional\" if row.proceso == \"CONSTITUCIONAL\" else row.case_process, axis=1)\n",
    "case_outcomes[\"case_process\"] = case_outcomes.apply(lambda row: \"otro\" if row.proceso == \"CONTENCIOSO ADMINISTRATIVO\" else row.case_process, axis=1)\n",
    "case_outcomes[\"case_process\"] = case_outcomes.apply(lambda row: \"otro\" if row.proceso == \"ESPECIAL\" else row.case_process, axis=1)\n",
    "case_outcomes[\"case_process\"] = case_outcomes.apply(lambda row: \"otro\" if row.proceso == \"ESPECIAL LEY 30634\" else row.case_process, axis=1)\n",
    "case_outcomes[\"case_process\"] = case_outcomes.apply(lambda row: \"otro\" if row.proceso == \"EXHORTO\" else row.case_process, axis=1)\n",
    "case_outcomes[\"case_process\"] = case_outcomes.apply(lambda row: \"otro\" if row.proceso == \"INVESTIGACION TUTELAR\" else row.case_process, axis=1)\n",
    "case_outcomes[\"case_process\"] = case_outcomes.apply(lambda row: \"otro\" if row.proceso == \"ORDINARIO\" else row.case_process, axis=1)\n",
    "case_outcomes[\"case_process\"] = case_outcomes.apply(lambda row: \"otro\" if row.proceso == \"CAUTELAR\" else row.case_process, axis=1)\n",
    "case_outcomes[\"case_process\"] = case_outcomes.apply(lambda row: \"otro\" if row.proceso == \"PROCEDIMIENTOS CIVILES\" else row.case_process, axis=1)\n",
    "case_outcomes[\"case_process\"] = case_outcomes.apply(lambda row: \"otro\" if row.proceso == \"URGENTE\" else row.case_process, axis=1)\n",
    "case_outcomes[\"case_process\"] = case_outcomes.apply(lambda row: \"otro\" if row.proceso == \"OTRO\" else row.case_process, axis=1)"
   ]
  },
  {
   "cell_type": "markdown",
   "id": "1e60d895",
   "metadata": {},
   "source": [
    "### 6.7.3. Creating variables per type of process"
   ]
  },
  {
   "cell_type": "code",
   "execution_count": 369,
   "id": "84d46022",
   "metadata": {},
   "outputs": [],
   "source": [
    "case_outcomes[\"process_unico\"] = case_outcomes.apply(lambda row: 1 if row.case_process == \"unico\" else 0, axis=1)"
   ]
  },
  {
   "cell_type": "code",
   "execution_count": 370,
   "id": "b5595399",
   "metadata": {},
   "outputs": [],
   "source": [
    "case_outcomes[\"process_ejecucion\"] = case_outcomes.apply(lambda row: 1 if row.case_process == \"ejecucion\" else 0, axis=1)"
   ]
  },
  {
   "cell_type": "code",
   "execution_count": 371,
   "id": "2432be0a",
   "metadata": {},
   "outputs": [],
   "source": [
    "case_outcomes[\"process_sumarisimo\"] = case_outcomes.apply(lambda row: 1 if row.case_process == \"sumarisimo\" else 0, axis=1)"
   ]
  },
  {
   "cell_type": "code",
   "execution_count": 371,
   "id": "010f2fbc",
   "metadata": {},
   "outputs": [],
   "source": [
    "case_outcomes[\"process_abreviado\"] = case_outcomes.apply(lambda row: 1 if row.case_process == \"abreviado\" else 0, axis=1)"
   ]
  },
  {
   "cell_type": "code",
   "execution_count": 372,
   "id": "3b698097",
   "metadata": {},
   "outputs": [],
   "source": [
    "case_outcomes[\"process_conocimiento\"] = case_outcomes.apply(lambda row: 1 if row.case_process == \"conocimiento\" else 0, axis=1)"
   ]
  },
  {
   "cell_type": "code",
   "execution_count": 373,
   "id": "e144d083",
   "metadata": {},
   "outputs": [],
   "source": [
    "case_outcomes[\"process_no_contencioso\"] = case_outcomes.apply(lambda row: 1 if row.case_process == \"no_contencioso\" else 0, axis=1)"
   ]
  },
  {
   "cell_type": "code",
   "execution_count": 374,
   "id": "12bb0e08",
   "metadata": {},
   "outputs": [],
   "source": [
    "case_outcomes[\"process_constitucional\"] = case_outcomes.apply(lambda row: 1 if row.case_process == \"constitucional\" else 0, axis=1)"
   ]
  },
  {
   "cell_type": "code",
   "execution_count": 375,
   "id": "94cf6bb6",
   "metadata": {},
   "outputs": [],
   "source": [
    "case_outcomes[\"process_otro\"] = case_outcomes.apply(lambda row: 1 if row.case_process == \"otro\" else 0, axis=1)"
   ]
  },
  {
   "cell_type": "markdown",
   "id": "f9e82e22",
   "metadata": {},
   "source": [
    "### 6.7.4. Storing created outcomes"
   ]
  },
  {
   "cell_type": "code",
   "execution_count": 378,
   "id": "18ee255f",
   "metadata": {},
   "outputs": [],
   "source": [
    "case_outcomes_for_6 = case_outcomes.drop(columns=[\"proceso\", \"Unnamed: 0\"])"
   ]
  },
  {
   "cell_type": "code",
   "execution_count": 380,
   "id": "26511fe7",
   "metadata": {},
   "outputs": [],
   "source": [
    "case_outcomes_for_6.to_csv(dc_interm_path + \"/case_outcomes_amag_ii.csv\")"
   ]
  }
 ],
 "metadata": {
  "kernelspec": {
   "display_name": "Judges Outcomes",
   "language": "python",
   "name": "judges_outcomes"
  },
  "language_info": {
   "codemirror_mode": {
    "name": "ipython",
    "version": 3
   },
   "file_extension": ".py",
   "mimetype": "text/x-python",
   "name": "python",
   "nbconvert_exporter": "python",
   "pygments_lexer": "ipython3",
   "version": "3.10.9"
  }
 },
 "nbformat": 4,
 "nbformat_minor": 5
}
