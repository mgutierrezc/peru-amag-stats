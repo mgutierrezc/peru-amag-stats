{
 "cells": [
  {
   "cell_type": "code",
   "execution_count": 1,
   "id": "96f1d9a2",
   "metadata": {},
   "outputs": [
    {
     "name": "stderr",
     "output_type": "stream",
     "text": [
      "C:\\Users\\PC\\anaconda3\\envs\\judges_outcomes\\lib\\site-packages\\fuzzywuzzy\\fuzz.py:11: UserWarning: Using slow pure-python SequenceMatcher. Install python-Levenshtein to remove this warning\n",
      "  warnings.warn('Using slow pure-python SequenceMatcher. Install python-Levenshtein to remove this warning')\n"
     ]
    }
   ],
   "source": [
    "import pickle\n",
    "import regex as re\n",
    "import nltk\n",
    "import pandas as pd\n",
    "import numpy as np\n",
    "import json, os, string\n",
    "from janitor import clean_names\n",
    "from fuzzywuzzy import fuzz\n",
    "from fuzzywuzzy import process\n",
    "from datetime import datetime\n",
    "import d6tjoin.top1\n",
    "import d6tjoin.utils\n",
    "import d6tjoin"
   ]
  },
  {
   "cell_type": "code",
   "execution_count": 2,
   "id": "6d76723e",
   "metadata": {},
   "outputs": [],
   "source": [
    "def extract_text(text: str, pattern: str) -> str:\n",
    "    \"\"\"Extracts substring from string using a given regex pattern\"\"\"\n",
    "    \n",
    "    if type(text) is str:\n",
    "        match = re.search(pattern, text)\n",
    "        if match:\n",
    "            return match.group(1)\n",
    "        else:\n",
    "            return \"\"\n",
    "    else:\n",
    "        return \"\"\n",
    "\n",
    "\n",
    "# This function is meant to be used for extracting specific substrings from a given text based on a regular expression pattern"
   ]
  },
  {
   "cell_type": "code",
   "execution_count": 3,
   "id": "c6ac7f74",
   "metadata": {
    "scrolled": true
   },
   "outputs": [],
   "source": [
    "def read_json_dict(path: str) -> dict:\n",
    "    \"\"\"\n",
    "    Reads a json file and returns it as dict object\n",
    "    \"\"\"\n",
    "    \n",
    "    file = open(path) # Opening JSON file\n",
    "    return json.load(file) # returns JSON object as a dictionary\n",
    "\n",
    "def folder_creator(folder_name: string, path: string) -> None:\n",
    "    \"\"\"\n",
    "    Generates a folder in specified path\n",
    "    \n",
    "    input: name of root folder, path where you want \n",
    "    folder to be created\n",
    "    output: None\n",
    "    \"\"\"\n",
    "    \n",
    "    # defining paths\n",
    "    data_folder_path = path + \"/\" + folder_name\n",
    "    data_folder_exists = os.path.exists(data_folder_path)\n",
    "\n",
    "    # creating folders if don't exist\n",
    "    if data_folder_exists:\n",
    "        pass\n",
    "    else:    \n",
    "        # create a new directory because it does not exist \n",
    "        os.makedirs(data_folder_path)\n",
    "\n",
    "        # create subfolders\n",
    "        print(f\"The new directory {folder_name} was created!\")\n",
    "        \n",
    "def fuzzy_merge(df_1, df_2, key1, key2, threshold=90, limit=2):\n",
    "    \"\"\"\n",
    "    :param df_1: the left table to join\n",
    "    :param df_2: the right table to join\n",
    "    :param key1: key column of the left table\n",
    "    :param key2: key column of the right table\n",
    "    :param threshold: how close the matches should be to return a match, based on Levenshtein distance\n",
    "    :param limit: the amount of matches that will get returned, these are sorted high to low\n",
    "    :return: dataframe with boths keys and matches\n",
    "    \"\"\"\n",
    "    s = df_2[key2].tolist()\n",
    "    \n",
    "    m = df_1[key1].apply(lambda x: process.extract(x, s, limit=limit))    \n",
    "    df_1['matches'] = m\n",
    "    \n",
    "    m2 = df_1['matches'].apply(lambda x: ', '.join([i[0] for i in x if i[1] >= threshold]))\n",
    "    df_1['matches'] = m2\n",
    "    \n",
    "    return df_1\n",
    "\n",
    "def create_pickle(object_name, file_name: str, path: str) -> None:\n",
    "    \"\"\"\n",
    "    Creates a pickle file for object. Note: Path should have no slash \n",
    "    at the end\n",
    "    \"\"\"\n",
    "    with open(path + f\"/{file_name}\", \"wb\") as storing_output:\n",
    "        pickle.dump(object_name, storing_output)\n",
    "        storing_output.close()\n",
    "        \n",
    "def read_pickle(file_name: str, path: str) -> None:\n",
    "    \"\"\"\n",
    "    Reads pickle file from specified path \n",
    "    \"\"\"\n",
    "    pickle_file = open(path + f\"/{file_name}\", \"rb\")\n",
    "    output = pickle.load(pickle_file)\n",
    "    pickle_file.close()\n",
    "    return output"
   ]
  },
  {
   "cell_type": "markdown",
   "id": "4112dfa4",
   "metadata": {},
   "source": [
    "## Reading paths"
   ]
  },
  {
   "cell_type": "code",
   "execution_count": 4,
   "id": "6c5e9630",
   "metadata": {
    "scrolled": false
   },
   "outputs": [],
   "source": [
    "paths = read_json_dict(\"paths.json\")"
   ]
  },
  {
   "cell_type": "code",
   "execution_count": 5,
   "id": "0ac272d4",
   "metadata": {
    "scrolled": false
   },
   "outputs": [
    {
     "data": {
      "text/plain": [
       "{'data_path': 'C:/Users/PC/Daniel Chen Dropbox/Alexis Malca/Peru_Justice/02_Data/08_CEJ_Web/data_cleaned',\n",
       " 'code_path': '/Users/brandonmora/GitHub/peru-amag-stats/case_outcomes',\n",
       " 'data_amag_i': 'D:/Accesos directos/Trabajo/World Bank/WB Repos/peru-scrape-justice/01_AMAG',\n",
       " 'data_cej': 'D:/Accesos directos/Trabajo/World Bank/WB Repos/peru-scrape-justice/data_cleaned_',\n",
       " 'data_gender': 'D:/Accesos directos/Trabajo/World Bank/WB Repos/peru-scrape-justice/07_Other/02_Raw/names_gender',\n",
       " 'local_storage': 'D:/Daniel Chen Dropbox/Marco Antonio GutiÃƒÂ©rrez ChÃƒÂ¡vez/datasets_amag_ii_scrape'}"
      ]
     },
     "execution_count": 5,
     "metadata": {},
     "output_type": "execute_result"
    }
   ],
   "source": [
    "paths"
   ]
  },
  {
   "cell_type": "code",
   "execution_count": 6,
   "id": "66e888ea",
   "metadata": {},
   "outputs": [],
   "source": [
    "data_path = paths[\"data_path\"]"
   ]
  },
  {
   "cell_type": "code",
   "execution_count": 7,
   "id": "a455f55c",
   "metadata": {
    "scrolled": false
   },
   "outputs": [
    {
     "data": {
      "text/plain": [
       "'C:/Users/PC/Daniel Chen Dropbox/Alexis Malca/Peru_Justice/02_Data/08_CEJ_Web/data_cleaned'"
      ]
     },
     "execution_count": 7,
     "metadata": {},
     "output_type": "execute_result"
    }
   ],
   "source": [
    "data_path"
   ]
  },
  {
   "cell_type": "code",
   "execution_count": 8,
   "id": "c752d517",
   "metadata": {},
   "outputs": [],
   "source": [
    "data_cleaned_path = data_path + \"/data_cleaned_test\""
   ]
  },
  {
   "cell_type": "code",
   "execution_count": 9,
   "id": "35c9e95a",
   "metadata": {},
   "outputs": [],
   "source": [
    "folder_creator(\"raw\", data_cleaned_path)"
   ]
  },
  {
   "cell_type": "code",
   "execution_count": 10,
   "id": "18c389b9",
   "metadata": {},
   "outputs": [],
   "source": [
    "dc_raw_path = data_cleaned_path + \"/raw\""
   ]
  },
  {
   "cell_type": "code",
   "execution_count": 11,
   "id": "9dd0193b",
   "metadata": {},
   "outputs": [],
   "source": [
    "folder_creator(\"temp\", data_cleaned_path)"
   ]
  },
  {
   "cell_type": "code",
   "execution_count": 12,
   "id": "daa52ceb",
   "metadata": {},
   "outputs": [],
   "source": [
    "dc_temp_path = data_cleaned_path + \"/temp\""
   ]
  },
  {
   "cell_type": "code",
   "execution_count": 13,
   "id": "3b477f4f",
   "metadata": {},
   "outputs": [],
   "source": [
    "folder_creator(\"intermediate\", data_cleaned_path)"
   ]
  },
  {
   "cell_type": "code",
   "execution_count": 14,
   "id": "f8a8333c",
   "metadata": {},
   "outputs": [],
   "source": [
    "dc_interm_path = data_cleaned_path + \"/intermediate\""
   ]
  },
  {
   "cell_type": "code",
   "execution_count": 15,
   "id": "3911beb2",
   "metadata": {},
   "outputs": [],
   "source": [
    "folder_creator(\"final\", data_cleaned_path)"
   ]
  },
  {
   "cell_type": "code",
   "execution_count": 16,
   "id": "2b77bad6",
   "metadata": {},
   "outputs": [],
   "source": [
    "dc_final_path = data_cleaned_path + \"/final\""
   ]
  },
  {
   "cell_type": "markdown",
   "id": "475624d8",
   "metadata": {},
   "source": [
    "# 1. Creating participants list"
   ]
  },
  {
   "cell_type": "markdown",
   "id": "702d6ee6",
   "metadata": {},
   "source": [
    "Reading lab data: lab_data has 166 columns. We will use many of them for creating columns with names"
   ]
  },
  {
   "cell_type": "code",
   "execution_count": 17,
   "id": "0123568b",
   "metadata": {
    "scrolled": true
   },
   "outputs": [
    {
     "name": "stderr",
     "output_type": "stream",
     "text": [
      "C:\\Users\\PC\\AppData\\Local\\Temp\\ipykernel_8360\\2027038250.py:1: UnicodeWarning: \n",
      "One or more strings in the dta file could not be decoded using utf-8, and\n",
      "so the fallback encoding of latin-1 is being used.  This can happen when a file\n",
      "has been incorrectly encoded by Stata or some other software. You should verify\n",
      "the string values returned are correct.\n",
      "  lab_data = pd.read_stata(data_path + \"/lab_Data/Clean_Full_Data12_jueces.dta\")\n",
      "C:\\Users\\PC\\AppData\\Local\\Temp\\ipykernel_8360\\2027038250.py:1: UnicodeWarning: \n",
      "One or more strings in the dta file could not be decoded using utf-8, and\n",
      "so the fallback encoding of latin-1 is being used.  This can happen when a file\n",
      "has been incorrectly encoded by Stata or some other software. You should verify\n",
      "the string values returned are correct.\n",
      "  lab_data = pd.read_stata(data_path + \"/lab_Data/Clean_Full_Data12_jueces.dta\")\n"
     ]
    }
   ],
   "source": [
    "lab_data = pd.read_stata(data_path + \"/lab_Data/Clean_Full_Data12_jueces.dta\")"
   ]
  },
  {
   "cell_type": "code",
   "execution_count": 18,
   "id": "5bbc2fb2",
   "metadata": {},
   "outputs": [
    {
     "data": {
      "text/plain": [
       "0         JUAN ANTONIO\n",
       "1         ELVIRA LAURA\n",
       "2       ELARD FERNANDO\n",
       "3        GLORIA LUCILA\n",
       "4      BENJAMIN ISRAEL\n",
       "            ...       \n",
       "220       CARMEN JULIA\n",
       "221          TATIANOVA\n",
       "222     GIANNY ELEISER\n",
       "223     NORA ELIZABETH\n",
       "224       YULEMI PAULA\n",
       "Name: Nombres, Length: 225, dtype: object"
      ]
     },
     "execution_count": 18,
     "metadata": {},
     "output_type": "execute_result"
    }
   ],
   "source": [
    "lab_data['Nombres']"
   ]
  },
  {
   "cell_type": "markdown",
   "id": "7861e8a3",
   "metadata": {},
   "source": [
    "Creating name variables for future fuzzy merge"
   ]
  },
  {
   "cell_type": "code",
   "execution_count": 19,
   "id": "8a5db534",
   "metadata": {
    "scrolled": true
   },
   "outputs": [
    {
     "name": "stderr",
     "output_type": "stream",
     "text": [
      "C:\\Users\\PC\\AppData\\Local\\Temp\\ipykernel_8360\\4041196165.py:1: PerformanceWarning: DataFrame is highly fragmented.  This is usually the result of calling `frame.insert` many times, which has poor performance.  Consider joining all columns at once using pd.concat(axis=1) instead. To get a de-fragmented frame, use `newframe = frame.copy()`\n",
      "  lab_data[\"participant_nombre_apellido\"] = lab_data[\"Nombres\"] + \" \" + lab_data[\"ApellidoPaterno\"] + \" \" + lab_data[\"ApellidoMaterno\"]\n"
     ]
    }
   ],
   "source": [
    "lab_data[\"participant_nombre_apellido\"] = lab_data[\"Nombres\"] + \" \" + lab_data[\"ApellidoPaterno\"] + \" \" + lab_data[\"ApellidoMaterno\"]\n",
    "lab_data[\"participant_nombre_apellido\"] = lab_data[\"participant_nombre_apellido\"].str.strip()"
   ]
  },
  {
   "cell_type": "code",
   "execution_count": 20,
   "id": "f63ca845",
   "metadata": {
    "scrolled": false
   },
   "outputs": [
    {
     "name": "stderr",
     "output_type": "stream",
     "text": [
      "C:\\Users\\PC\\AppData\\Local\\Temp\\ipykernel_8360\\909368064.py:1: PerformanceWarning: DataFrame is highly fragmented.  This is usually the result of calling `frame.insert` many times, which has poor performance.  Consider joining all columns at once using pd.concat(axis=1) instead. To get a de-fragmented frame, use `newframe = frame.copy()`\n",
      "  lab_data[\"participant_apellido_nombre\"] = lab_data[\"ApellidoPaterno\"] + \" \" + lab_data[\"ApellidoMaterno\"] + \" \" + lab_data[\"Nombres\"]\n"
     ]
    }
   ],
   "source": [
    "lab_data[\"participant_apellido_nombre\"] = lab_data[\"ApellidoPaterno\"] + \" \" + lab_data[\"ApellidoMaterno\"] + \" \" + lab_data[\"Nombres\"]\n",
    "lab_data[\"participant_apellido_nombre\"] = lab_data[\"participant_apellido_nombre\"].str.strip()"
   ]
  },
  {
   "cell_type": "code",
   "execution_count": 21,
   "id": "5a1a4b26",
   "metadata": {
    "scrolled": true
   },
   "outputs": [],
   "source": [
    "lab_data = lab_data.rename(columns={\"DNI\": \"nrodocumento\"})"
   ]
  },
  {
   "cell_type": "code",
   "execution_count": 22,
   "id": "7872d1a9",
   "metadata": {},
   "outputs": [],
   "source": [
    "exp_participants = lab_data[[\"nrodocumento\", \"participant_nombre_apellido\", \"participant_apellido_nombre\"]]"
   ]
  },
  {
   "cell_type": "code",
   "execution_count": 23,
   "id": "8e354f63",
   "metadata": {},
   "outputs": [
    {
     "data": {
      "text/html": [
       "<div>\n",
       "<style scoped>\n",
       "    .dataframe tbody tr th:only-of-type {\n",
       "        vertical-align: middle;\n",
       "    }\n",
       "\n",
       "    .dataframe tbody tr th {\n",
       "        vertical-align: top;\n",
       "    }\n",
       "\n",
       "    .dataframe thead th {\n",
       "        text-align: right;\n",
       "    }\n",
       "</style>\n",
       "<table border=\"1\" class=\"dataframe\">\n",
       "  <thead>\n",
       "    <tr style=\"text-align: right;\">\n",
       "      <th></th>\n",
       "      <th>nrodocumento</th>\n",
       "      <th>participant_nombre_apellido</th>\n",
       "      <th>participant_apellido_nombre</th>\n",
       "    </tr>\n",
       "  </thead>\n",
       "  <tbody>\n",
       "    <tr>\n",
       "      <th>0</th>\n",
       "      <td>40070874</td>\n",
       "      <td>JUAN ANTONIO ROSAS CASTAÑEDA</td>\n",
       "      <td>ROSAS CASTAÑEDA JUAN ANTONIO</td>\n",
       "    </tr>\n",
       "    <tr>\n",
       "      <th>1</th>\n",
       "      <td>4069691</td>\n",
       "      <td>ELVIRA LAURA HUAMAN PORTAL</td>\n",
       "      <td>HUAMAN PORTAL ELVIRA LAURA</td>\n",
       "    </tr>\n",
       "    <tr>\n",
       "      <th>2</th>\n",
       "      <td>8254850</td>\n",
       "      <td>ELARD FERNANDO ZAVALAGA VARGAS</td>\n",
       "      <td>ZAVALAGA VARGAS ELARD FERNANDO</td>\n",
       "    </tr>\n",
       "    <tr>\n",
       "      <th>3</th>\n",
       "      <td>42135048</td>\n",
       "      <td>GLORIA LUCILA LAIZA ESPINOZA</td>\n",
       "      <td>LAIZA ESPINOZA GLORIA LUCILA</td>\n",
       "    </tr>\n",
       "    <tr>\n",
       "      <th>4</th>\n",
       "      <td>21462609</td>\n",
       "      <td>BENJAMIN ISRAEL MORON DOMINGUEZ</td>\n",
       "      <td>MORON DOMINGUEZ BENJAMIN ISRAEL</td>\n",
       "    </tr>\n",
       "    <tr>\n",
       "      <th>...</th>\n",
       "      <td>...</td>\n",
       "      <td>...</td>\n",
       "      <td>...</td>\n",
       "    </tr>\n",
       "    <tr>\n",
       "      <th>220</th>\n",
       "      <td>17435860</td>\n",
       "      <td>CARMEN JULIA PALMER OLIDEN</td>\n",
       "      <td>PALMER OLIDEN CARMEN JULIA</td>\n",
       "    </tr>\n",
       "    <tr>\n",
       "      <th>221</th>\n",
       "      <td>26704681</td>\n",
       "      <td>TATIANOVA ABANTO TAFUR</td>\n",
       "      <td>ABANTO TAFUR TATIANOVA</td>\n",
       "    </tr>\n",
       "    <tr>\n",
       "      <th>222</th>\n",
       "      <td>10019679</td>\n",
       "      <td>GIANNY ELEISER MORALES FERNANDEZ</td>\n",
       "      <td>MORALES FERNANDEZ GIANNY ELEISER</td>\n",
       "    </tr>\n",
       "    <tr>\n",
       "      <th>223</th>\n",
       "      <td>41332693</td>\n",
       "      <td>NORA ELIZABETH LLANCA VARA</td>\n",
       "      <td>LLANCA VARA NORA ELIZABETH</td>\n",
       "    </tr>\n",
       "    <tr>\n",
       "      <th>224</th>\n",
       "      <td>45101512</td>\n",
       "      <td>YULEMI PAULA PACHECO ZAPATA</td>\n",
       "      <td>PACHECO ZAPATA YULEMI PAULA</td>\n",
       "    </tr>\n",
       "  </tbody>\n",
       "</table>\n",
       "<p>225 rows × 3 columns</p>\n",
       "</div>"
      ],
      "text/plain": [
       "     nrodocumento       participant_nombre_apellido       participant_apellido_nombre\n",
       "0        40070874      JUAN ANTONIO ROSAS CASTAÑEDA      ROSAS CASTAÑEDA JUAN ANTONIO\n",
       "1         4069691        ELVIRA LAURA HUAMAN PORTAL        HUAMAN PORTAL ELVIRA LAURA\n",
       "2         8254850    ELARD FERNANDO ZAVALAGA VARGAS    ZAVALAGA VARGAS ELARD FERNANDO\n",
       "3        42135048      GLORIA LUCILA LAIZA ESPINOZA      LAIZA ESPINOZA GLORIA LUCILA\n",
       "4        21462609   BENJAMIN ISRAEL MORON DOMINGUEZ   MORON DOMINGUEZ BENJAMIN ISRAEL\n",
       "..            ...                               ...                               ...\n",
       "220      17435860        CARMEN JULIA PALMER OLIDEN        PALMER OLIDEN CARMEN JULIA\n",
       "221      26704681            TATIANOVA ABANTO TAFUR            ABANTO TAFUR TATIANOVA\n",
       "222      10019679  GIANNY ELEISER MORALES FERNANDEZ  MORALES FERNANDEZ GIANNY ELEISER\n",
       "223      41332693        NORA ELIZABETH LLANCA VARA        LLANCA VARA NORA ELIZABETH\n",
       "224      45101512       YULEMI PAULA PACHECO ZAPATA       PACHECO ZAPATA YULEMI PAULA\n",
       "\n",
       "[225 rows x 3 columns]"
      ]
     },
     "execution_count": 23,
     "metadata": {},
     "output_type": "execute_result"
    }
   ],
   "source": [
    "exp_participants"
   ]
  },
  {
   "cell_type": "markdown",
   "id": "55df507c",
   "metadata": {},
   "source": [
    "Exporting the list of participants"
   ]
  },
  {
   "cell_type": "code",
   "execution_count": 24,
   "id": "c69ebe65",
   "metadata": {},
   "outputs": [],
   "source": [
    "exp_participants = exp_participants.dropna() # erasing rows w/ no data"
   ]
  },
  {
   "cell_type": "code",
   "execution_count": 25,
   "id": "dd9fa398",
   "metadata": {},
   "outputs": [
    {
     "data": {
      "text/html": [
       "<div>\n",
       "<style scoped>\n",
       "    .dataframe tbody tr th:only-of-type {\n",
       "        vertical-align: middle;\n",
       "    }\n",
       "\n",
       "    .dataframe tbody tr th {\n",
       "        vertical-align: top;\n",
       "    }\n",
       "\n",
       "    .dataframe thead th {\n",
       "        text-align: right;\n",
       "    }\n",
       "</style>\n",
       "<table border=\"1\" class=\"dataframe\">\n",
       "  <thead>\n",
       "    <tr style=\"text-align: right;\">\n",
       "      <th></th>\n",
       "      <th>nrodocumento</th>\n",
       "      <th>participant_nombre_apellido</th>\n",
       "      <th>participant_apellido_nombre</th>\n",
       "    </tr>\n",
       "  </thead>\n",
       "  <tbody>\n",
       "    <tr>\n",
       "      <th>0</th>\n",
       "      <td>40070874</td>\n",
       "      <td>JUAN ANTONIO ROSAS CASTAÑEDA</td>\n",
       "      <td>ROSAS CASTAÑEDA JUAN ANTONIO</td>\n",
       "    </tr>\n",
       "    <tr>\n",
       "      <th>1</th>\n",
       "      <td>4069691</td>\n",
       "      <td>ELVIRA LAURA HUAMAN PORTAL</td>\n",
       "      <td>HUAMAN PORTAL ELVIRA LAURA</td>\n",
       "    </tr>\n",
       "    <tr>\n",
       "      <th>2</th>\n",
       "      <td>8254850</td>\n",
       "      <td>ELARD FERNANDO ZAVALAGA VARGAS</td>\n",
       "      <td>ZAVALAGA VARGAS ELARD FERNANDO</td>\n",
       "    </tr>\n",
       "    <tr>\n",
       "      <th>3</th>\n",
       "      <td>42135048</td>\n",
       "      <td>GLORIA LUCILA LAIZA ESPINOZA</td>\n",
       "      <td>LAIZA ESPINOZA GLORIA LUCILA</td>\n",
       "    </tr>\n",
       "    <tr>\n",
       "      <th>4</th>\n",
       "      <td>21462609</td>\n",
       "      <td>BENJAMIN ISRAEL MORON DOMINGUEZ</td>\n",
       "      <td>MORON DOMINGUEZ BENJAMIN ISRAEL</td>\n",
       "    </tr>\n",
       "    <tr>\n",
       "      <th>...</th>\n",
       "      <td>...</td>\n",
       "      <td>...</td>\n",
       "      <td>...</td>\n",
       "    </tr>\n",
       "    <tr>\n",
       "      <th>220</th>\n",
       "      <td>17435860</td>\n",
       "      <td>CARMEN JULIA PALMER OLIDEN</td>\n",
       "      <td>PALMER OLIDEN CARMEN JULIA</td>\n",
       "    </tr>\n",
       "    <tr>\n",
       "      <th>221</th>\n",
       "      <td>26704681</td>\n",
       "      <td>TATIANOVA ABANTO TAFUR</td>\n",
       "      <td>ABANTO TAFUR TATIANOVA</td>\n",
       "    </tr>\n",
       "    <tr>\n",
       "      <th>222</th>\n",
       "      <td>10019679</td>\n",
       "      <td>GIANNY ELEISER MORALES FERNANDEZ</td>\n",
       "      <td>MORALES FERNANDEZ GIANNY ELEISER</td>\n",
       "    </tr>\n",
       "    <tr>\n",
       "      <th>223</th>\n",
       "      <td>41332693</td>\n",
       "      <td>NORA ELIZABETH LLANCA VARA</td>\n",
       "      <td>LLANCA VARA NORA ELIZABETH</td>\n",
       "    </tr>\n",
       "    <tr>\n",
       "      <th>224</th>\n",
       "      <td>45101512</td>\n",
       "      <td>YULEMI PAULA PACHECO ZAPATA</td>\n",
       "      <td>PACHECO ZAPATA YULEMI PAULA</td>\n",
       "    </tr>\n",
       "  </tbody>\n",
       "</table>\n",
       "<p>225 rows × 3 columns</p>\n",
       "</div>"
      ],
      "text/plain": [
       "     nrodocumento       participant_nombre_apellido       participant_apellido_nombre\n",
       "0        40070874      JUAN ANTONIO ROSAS CASTAÑEDA      ROSAS CASTAÑEDA JUAN ANTONIO\n",
       "1         4069691        ELVIRA LAURA HUAMAN PORTAL        HUAMAN PORTAL ELVIRA LAURA\n",
       "2         8254850    ELARD FERNANDO ZAVALAGA VARGAS    ZAVALAGA VARGAS ELARD FERNANDO\n",
       "3        42135048      GLORIA LUCILA LAIZA ESPINOZA      LAIZA ESPINOZA GLORIA LUCILA\n",
       "4        21462609   BENJAMIN ISRAEL MORON DOMINGUEZ   MORON DOMINGUEZ BENJAMIN ISRAEL\n",
       "..            ...                               ...                               ...\n",
       "220      17435860        CARMEN JULIA PALMER OLIDEN        PALMER OLIDEN CARMEN JULIA\n",
       "221      26704681            TATIANOVA ABANTO TAFUR            ABANTO TAFUR TATIANOVA\n",
       "222      10019679  GIANNY ELEISER MORALES FERNANDEZ  MORALES FERNANDEZ GIANNY ELEISER\n",
       "223      41332693        NORA ELIZABETH LLANCA VARA        LLANCA VARA NORA ELIZABETH\n",
       "224      45101512       YULEMI PAULA PACHECO ZAPATA       PACHECO ZAPATA YULEMI PAULA\n",
       "\n",
       "[225 rows x 3 columns]"
      ]
     },
     "execution_count": 25,
     "metadata": {},
     "output_type": "execute_result"
    }
   ],
   "source": [
    "exp_participants #There are no rows w/ no data"
   ]
  },
  {
   "cell_type": "code",
   "execution_count": 26,
   "id": "1cb27e50",
   "metadata": {},
   "outputs": [],
   "source": [
    "exp_participants.to_csv(dc_raw_path + \"/exp_participants_list.csv\")"
   ]
  },
  {
   "cell_type": "markdown",
   "id": "b8210558",
   "metadata": {},
   "source": [
    "# 2. Creating Cases List"
   ]
  },
  {
   "cell_type": "markdown",
   "id": "4e655645",
   "metadata": {},
   "source": [
    "### 2.0. Selecting reporte files"
   ]
  },
  {
   "cell_type": "code",
   "execution_count": 27,
   "id": "81d05649",
   "metadata": {},
   "outputs": [],
   "source": [
    "files_reports = pd.read_csv(data_path + \"/DF_file_report_2022.csv\")\n",
    "files_reports = clean_names(files_reports)\n",
    "\n",
    "#Clean names is a function imported from janitor"
   ]
  },
  {
   "cell_type": "code",
   "execution_count": 28,
   "id": "8d2a1215",
   "metadata": {},
   "outputs": [
    {
     "data": {
      "text/html": [
       "<div>\n",
       "<style scoped>\n",
       "    .dataframe tbody tr th:only-of-type {\n",
       "        vertical-align: middle;\n",
       "    }\n",
       "\n",
       "    .dataframe tbody tr th {\n",
       "        vertical-align: top;\n",
       "    }\n",
       "\n",
       "    .dataframe thead th {\n",
       "        text-align: right;\n",
       "    }\n",
       "</style>\n",
       "<table border=\"1\" class=\"dataframe\">\n",
       "  <thead>\n",
       "    <tr style=\"text-align: right;\">\n",
       "      <th></th>\n",
       "      <th>expediente_n°_</th>\n",
       "      <th>organo_jurisdiccional_</th>\n",
       "      <th>distrito_judicial_</th>\n",
       "      <th>juez_</th>\n",
       "      <th>especialista_legal_</th>\n",
       "      <th>fecha_de_inicio_</th>\n",
       "      <th>proceso_</th>\n",
       "      <th>observacion_</th>\n",
       "      <th>especialidad_</th>\n",
       "      <th>materia_s_</th>\n",
       "      <th>estado_</th>\n",
       "      <th>etapa_procesal_</th>\n",
       "      <th>fecha_conclusion_</th>\n",
       "      <th>ubicacion_</th>\n",
       "      <th>motivo_conclusion_</th>\n",
       "      <th>sumilla_</th>\n",
       "    </tr>\n",
       "  </thead>\n",
       "  <tbody>\n",
       "    <tr>\n",
       "      <th>0</th>\n",
       "      <td>00001-2022-0-0101-JP-CI-01</td>\n",
       "      <td>JUZGADO DE PAZ LETRADO - Leymebamba</td>\n",
       "      <td>AMAZONAS</td>\n",
       "      <td>PISCOYA SOSA ALDO FRANCISCO</td>\n",
       "      <td>ROJAS SILVA EDA</td>\n",
       "      <td>14/01/2022</td>\n",
       "      <td>NO CONTENCIOSO</td>\n",
       "      <td>\\n\\t\\t\\t\\t\\t\\t\\t\\t\\t\\t\\t\\t\\n\\t\\t\\t\\t\\t\\t\\t\\t\\t...</td>\n",
       "      <td>CIVIL</td>\n",
       "      <td>SUCESION INTESTADA</td>\n",
       "      <td>ARCHIVO DEFINITIVO</td>\n",
       "      <td>GENERAL</td>\n",
       "      <td></td>\n",
       "      <td>ARCHIVO GENERAL</td>\n",
       "      <td>-------</td>\n",
       "      <td>SUCESION INTESTADA</td>\n",
       "    </tr>\n",
       "    <tr>\n",
       "      <th>1</th>\n",
       "      <td>00001-2022-0-0102-JP-CI-01</td>\n",
       "      <td>JUZGADO PAZ LETRADO - Imaza</td>\n",
       "      <td>AMAZONAS</td>\n",
       "      <td>VEGA BOCANEGRA BETO</td>\n",
       "      <td>GARCIA ODAR JOSE ALFREDO</td>\n",
       "      <td>27/01/2022</td>\n",
       "      <td>SUMARISIMO</td>\n",
       "      <td>\\n\\t\\t\\t\\t\\t\\t\\t\\t\\t\\t\\t\\t\\n\\t\\t\\t\\t\\t\\t\\t\\t\\t...</td>\n",
       "      <td>CIVIL</td>\n",
       "      <td>OBLIGACION DE DAR SUMA DE DINERO</td>\n",
       "      <td>TRAMITE</td>\n",
       "      <td>GENERAL</td>\n",
       "      <td></td>\n",
       "      <td>ESPECIALISTA</td>\n",
       "      <td>-------</td>\n",
       "      <td>DEMANDA DE OBLIGACION DE DAR SUMA DE DINERO</td>\n",
       "    </tr>\n",
       "    <tr>\n",
       "      <th>2</th>\n",
       "      <td>00001-2022-0-0103-JP-CI-01</td>\n",
       "      <td>JUZGADO DE PAZ LETRADO - FLORIDA</td>\n",
       "      <td>AMAZONAS</td>\n",
       "      <td>LOLO JARA ESTELA</td>\n",
       "      <td>DAVILA HORNA HERMES WILMAN</td>\n",
       "      <td>10/01/2022</td>\n",
       "      <td>NO CONTENCIOSO</td>\n",
       "      <td>\\n\\t\\t\\t\\t\\t\\t\\t\\t\\t\\t\\t\\t\\n\\t\\t\\t\\t\\t\\t\\t\\t\\t...</td>\n",
       "      <td>CIVIL</td>\n",
       "      <td>SUCESION INTESTADA</td>\n",
       "      <td>ARCHIVO PROVISIONAL</td>\n",
       "      <td>GENERAL</td>\n",
       "      <td></td>\n",
       "      <td>POOL ASIST. JUDICIAL</td>\n",
       "      <td>-------</td>\n",
       "      <td>SUCESION INTESTADA</td>\n",
       "    </tr>\n",
       "    <tr>\n",
       "      <th>3</th>\n",
       "      <td>00001-2022-0-0104-JP-CI-01</td>\n",
       "      <td>JUZGADO PAZ LETRADO - Sede Yutupis</td>\n",
       "      <td>AMAZONAS</td>\n",
       "      <td>HUAMAN CULQUI, IRMA MERCEDES</td>\n",
       "      <td>ELORRIAGA CHAVEZ ROMINA PAOLA</td>\n",
       "      <td>16/03/2022</td>\n",
       "      <td>UNICO DE EJECUCION</td>\n",
       "      <td>\\n\\t\\t\\t\\t\\t\\t\\t\\t\\t\\t\\t\\t\\n\\t\\t\\t\\t\\t\\t\\t\\t\\t...</td>\n",
       "      <td>CIVIL</td>\n",
       "      <td>OBLIGACION DE DAR SUMA DE DINERO</td>\n",
       "      <td>EN PLAZO DE IMPUGNACION</td>\n",
       "      <td>GENERAL</td>\n",
       "      <td></td>\n",
       "      <td>POOL ASIST. JUDICIAL</td>\n",
       "      <td>-------</td>\n",
       "      <td>DEMANDA OBLIGACION DE DAR SUMA DE DINERO</td>\n",
       "    </tr>\n",
       "    <tr>\n",
       "      <th>4</th>\n",
       "      <td>00001-2022-0-0105-JP-CI-01</td>\n",
       "      <td>JUZGADO DE PAZ LETRADO - Sede Luya</td>\n",
       "      <td>AMAZONAS</td>\n",
       "      <td>BARRERA BARDALES GUIMO ALBERTO</td>\n",
       "      <td>ANGULO CULLAMPE LIZETH DEL CARMEN</td>\n",
       "      <td>06/01/2022</td>\n",
       "      <td>NO CONTENCIOSO</td>\n",
       "      <td>\\n\\t\\t\\t\\t\\t\\t\\t\\t\\t\\t\\t\\t\\n\\t\\t\\t\\t\\t\\t\\t\\t\\t...</td>\n",
       "      <td>CIVIL</td>\n",
       "      <td>SUCESION INTESTADA</td>\n",
       "      <td>SENTENCIADO/ RESUELTO</td>\n",
       "      <td>GENERAL</td>\n",
       "      <td></td>\n",
       "      <td>POOL ASIST. JUDICIAL</td>\n",
       "      <td>-------</td>\n",
       "      <td>DEMANDA DE SUCESIÓN INTESTADA</td>\n",
       "    </tr>\n",
       "    <tr>\n",
       "      <th>...</th>\n",
       "      <td>...</td>\n",
       "      <td>...</td>\n",
       "      <td>...</td>\n",
       "      <td>...</td>\n",
       "      <td>...</td>\n",
       "      <td>...</td>\n",
       "      <td>...</td>\n",
       "      <td>...</td>\n",
       "      <td>...</td>\n",
       "      <td>...</td>\n",
       "      <td>...</td>\n",
       "      <td>...</td>\n",
       "      <td>...</td>\n",
       "      <td>...</td>\n",
       "      <td>...</td>\n",
       "      <td>...</td>\n",
       "    </tr>\n",
       "    <tr>\n",
       "      <th>56254</th>\n",
       "      <td>00002-2022-0-3301-SP-FC-01</td>\n",
       "      <td>SALA CIVIL</td>\n",
       "      <td>PUENTE PIEDRA - VENTANILLA</td>\n",
       "      <td>NaN</td>\n",
       "      <td>FLORES AGUILAR ANA VICTORIA</td>\n",
       "      <td>14/01/2022</td>\n",
       "      <td>NO CONTENCIOSO</td>\n",
       "      <td>\\n\\t\\t\\t\\t\\t\\t\\t\\t\\t\\t\\t\\t\\n\\t\\t\\t\\t\\t\\t\\t\\t\\t...</td>\n",
       "      <td>FAMILIA CIVIL</td>\n",
       "      <td>EXEQUATUR</td>\n",
       "      <td>RECHAZADO</td>\n",
       "      <td>GENERAL</td>\n",
       "      <td></td>\n",
       "      <td>OTRO DIST. JUDICIAL</td>\n",
       "      <td>-------</td>\n",
       "      <td>SOLICITA RECONOCIMIENTO DE SENTENCIA JUDICIAL ...</td>\n",
       "    </tr>\n",
       "    <tr>\n",
       "      <th>56255</th>\n",
       "      <td>00003-2022-0-3301-SP-FC-01</td>\n",
       "      <td>SALA CIVIL</td>\n",
       "      <td>PUENTE PIEDRA - VENTANILLA</td>\n",
       "      <td>NaN</td>\n",
       "      <td>FLORES AGUILAR ANA VICTORIA</td>\n",
       "      <td>02/03/2022</td>\n",
       "      <td>ESPECIAL</td>\n",
       "      <td>\\n\\t\\t\\t\\t\\t\\t\\t\\t\\t\\t\\t\\t\\n\\t\\t\\t\\t\\t\\t\\t\\t\\t...</td>\n",
       "      <td>FAMILIA CIVIL</td>\n",
       "      <td>QUEJA DE DERECHO</td>\n",
       "      <td>SENTENCIADO/ RESUELTO</td>\n",
       "      <td>GENERAL</td>\n",
       "      <td></td>\n",
       "      <td>POOL ASIST. JUDICIAL</td>\n",
       "      <td>-------</td>\n",
       "      <td>DEMANDA DE QUEJA DE DERECHO</td>\n",
       "    </tr>\n",
       "    <tr>\n",
       "      <th>56256</th>\n",
       "      <td>00004-2022-0-3301-SP-FC-01</td>\n",
       "      <td>SALA CIVIL</td>\n",
       "      <td>PUENTE PIEDRA - VENTANILLA</td>\n",
       "      <td>NaN</td>\n",
       "      <td>FLORES AGUILAR ANA VICTORIA</td>\n",
       "      <td>04/04/2022</td>\n",
       "      <td>SUMARIO</td>\n",
       "      <td>\\n\\t\\t\\t\\t\\t\\t\\t\\t\\t\\t\\t\\t\\n\\t\\t\\t\\t\\t\\t\\t\\t\\t...</td>\n",
       "      <td>FAMILIA CIVIL</td>\n",
       "      <td>QUEJA DE DERECHO</td>\n",
       "      <td>SENTENCIADO/ RESUELTO</td>\n",
       "      <td>GENERAL</td>\n",
       "      <td></td>\n",
       "      <td>RELATORIA</td>\n",
       "      <td>-------</td>\n",
       "      <td>3° JFAMILIA DE VENTANILLA MI PERU REMITE RAZON...</td>\n",
       "    </tr>\n",
       "    <tr>\n",
       "      <th>56257</th>\n",
       "      <td>00005-2022-1-3301-SP-FC-01</td>\n",
       "      <td>SALA CIVIL</td>\n",
       "      <td>PUENTE PIEDRA - VENTANILLA</td>\n",
       "      <td>NaN</td>\n",
       "      <td>FLORES AGUILAR ANA VICTORIA</td>\n",
       "      <td>04/05/2022</td>\n",
       "      <td>ESPECIAL</td>\n",
       "      <td>\\n\\t\\t\\t\\t\\t\\t\\t\\t\\t\\t\\t\\t\\n\\t\\t\\t\\t\\t\\t\\t\\t\\t...</td>\n",
       "      <td>FAMILIA CIVIL</td>\n",
       "      <td>QUEJA DE DERECHO</td>\n",
       "      <td>SENTENCIADO/ RESUELTO</td>\n",
       "      <td>GENERAL</td>\n",
       "      <td></td>\n",
       "      <td>POOL ASIST. JUDICIAL</td>\n",
       "      <td>-------</td>\n",
       "      <td>QUEJA DERECHO REMITIDA POR EL SNEJ JUZGADO DE ...</td>\n",
       "    </tr>\n",
       "    <tr>\n",
       "      <th>56258</th>\n",
       "      <td>00008-2022-6-3301-SP-FC-01</td>\n",
       "      <td>SALA CIVIL</td>\n",
       "      <td>PUENTE PIEDRA - VENTANILLA</td>\n",
       "      <td>NaN</td>\n",
       "      <td>FLORES AGUILAR ANA VICTORIA</td>\n",
       "      <td>21/06/2022</td>\n",
       "      <td>ESPECIAL</td>\n",
       "      <td>\\n\\t\\t\\t\\t\\t\\t\\t\\t\\t\\t\\t\\t\\n\\t\\t\\t\\t\\t\\t\\t\\t\\t...</td>\n",
       "      <td>FAMILIA CIVIL</td>\n",
       "      <td>QUEJA DE DERECHO</td>\n",
       "      <td>PARA RESOLVER</td>\n",
       "      <td>GENERAL</td>\n",
       "      <td></td>\n",
       "      <td>VOCALIA</td>\n",
       "      <td>-------</td>\n",
       "      <td>QUEJA DE DERECHO CONTRA LA RESOLUCION DEL JUZG...</td>\n",
       "    </tr>\n",
       "  </tbody>\n",
       "</table>\n",
       "<p>56259 rows × 16 columns</p>\n",
       "</div>"
      ],
      "text/plain": [
       "                   expediente_n°_               organo_jurisdiccional_          distrito_judicial_                           juez_                especialista_legal_ fecha_de_inicio_            proceso_                                       observacion_  especialidad_                        materia_s_                  estado_ etapa_procesal_ fecha_conclusion_            ubicacion_ motivo_conclusion_                                           sumilla_\n",
       "0      00001-2022-0-0101-JP-CI-01  JUZGADO DE PAZ LETRADO - Leymebamba                    AMAZONAS     PISCOYA SOSA ALDO FRANCISCO                    ROJAS SILVA EDA      14/01/2022       NO CONTENCIOSO  \\n\\t\\t\\t\\t\\t\\t\\t\\t\\t\\t\\t\\t\\n\\t\\t\\t\\t\\t\\t\\t\\t\\t...          CIVIL                SUCESION INTESTADA       ARCHIVO DEFINITIVO         GENERAL                         ARCHIVO GENERAL            -------                                 SUCESION INTESTADA\n",
       "1      00001-2022-0-0102-JP-CI-01          JUZGADO PAZ LETRADO - Imaza                    AMAZONAS             VEGA BOCANEGRA BETO           GARCIA ODAR JOSE ALFREDO      27/01/2022           SUMARISIMO  \\n\\t\\t\\t\\t\\t\\t\\t\\t\\t\\t\\t\\t\\n\\t\\t\\t\\t\\t\\t\\t\\t\\t...          CIVIL  OBLIGACION DE DAR SUMA DE DINERO                  TRAMITE         GENERAL                            ESPECIALISTA            -------        DEMANDA DE OBLIGACION DE DAR SUMA DE DINERO\n",
       "2      00001-2022-0-0103-JP-CI-01     JUZGADO DE PAZ LETRADO - FLORIDA                    AMAZONAS                LOLO JARA ESTELA         DAVILA HORNA HERMES WILMAN      10/01/2022       NO CONTENCIOSO  \\n\\t\\t\\t\\t\\t\\t\\t\\t\\t\\t\\t\\t\\n\\t\\t\\t\\t\\t\\t\\t\\t\\t...          CIVIL                SUCESION INTESTADA      ARCHIVO PROVISIONAL         GENERAL                    POOL ASIST. JUDICIAL            -------                                 SUCESION INTESTADA\n",
       "3      00001-2022-0-0104-JP-CI-01   JUZGADO PAZ LETRADO - Sede Yutupis                    AMAZONAS    HUAMAN CULQUI, IRMA MERCEDES      ELORRIAGA CHAVEZ ROMINA PAOLA      16/03/2022   UNICO DE EJECUCION  \\n\\t\\t\\t\\t\\t\\t\\t\\t\\t\\t\\t\\t\\n\\t\\t\\t\\t\\t\\t\\t\\t\\t...          CIVIL  OBLIGACION DE DAR SUMA DE DINERO  EN PLAZO DE IMPUGNACION         GENERAL                    POOL ASIST. JUDICIAL            -------           DEMANDA OBLIGACION DE DAR SUMA DE DINERO\n",
       "4      00001-2022-0-0105-JP-CI-01   JUZGADO DE PAZ LETRADO - Sede Luya                    AMAZONAS  BARRERA BARDALES GUIMO ALBERTO  ANGULO CULLAMPE LIZETH DEL CARMEN      06/01/2022       NO CONTENCIOSO  \\n\\t\\t\\t\\t\\t\\t\\t\\t\\t\\t\\t\\t\\n\\t\\t\\t\\t\\t\\t\\t\\t\\t...          CIVIL                SUCESION INTESTADA    SENTENCIADO/ RESUELTO         GENERAL                    POOL ASIST. JUDICIAL            -------                      DEMANDA DE SUCESIÓN INTESTADA\n",
       "...                           ...                                  ...                         ...                             ...                                ...              ...                 ...                                                ...            ...                               ...                      ...             ...               ...                   ...                ...                                                ...\n",
       "56254  00002-2022-0-3301-SP-FC-01                           SALA CIVIL  PUENTE PIEDRA - VENTANILLA                             NaN        FLORES AGUILAR ANA VICTORIA      14/01/2022       NO CONTENCIOSO  \\n\\t\\t\\t\\t\\t\\t\\t\\t\\t\\t\\t\\t\\n\\t\\t\\t\\t\\t\\t\\t\\t\\t...  FAMILIA CIVIL                         EXEQUATUR                RECHAZADO         GENERAL                     OTRO DIST. JUDICIAL            -------  SOLICITA RECONOCIMIENTO DE SENTENCIA JUDICIAL ...\n",
       "56255  00003-2022-0-3301-SP-FC-01                           SALA CIVIL  PUENTE PIEDRA - VENTANILLA                             NaN        FLORES AGUILAR ANA VICTORIA      02/03/2022             ESPECIAL  \\n\\t\\t\\t\\t\\t\\t\\t\\t\\t\\t\\t\\t\\n\\t\\t\\t\\t\\t\\t\\t\\t\\t...  FAMILIA CIVIL                  QUEJA DE DERECHO    SENTENCIADO/ RESUELTO         GENERAL                    POOL ASIST. JUDICIAL            -------                        DEMANDA DE QUEJA DE DERECHO\n",
       "56256  00004-2022-0-3301-SP-FC-01                           SALA CIVIL  PUENTE PIEDRA - VENTANILLA                             NaN        FLORES AGUILAR ANA VICTORIA      04/04/2022              SUMARIO  \\n\\t\\t\\t\\t\\t\\t\\t\\t\\t\\t\\t\\t\\n\\t\\t\\t\\t\\t\\t\\t\\t\\t...  FAMILIA CIVIL                  QUEJA DE DERECHO    SENTENCIADO/ RESUELTO         GENERAL                               RELATORIA            -------  3° JFAMILIA DE VENTANILLA MI PERU REMITE RAZON...\n",
       "56257  00005-2022-1-3301-SP-FC-01                           SALA CIVIL  PUENTE PIEDRA - VENTANILLA                             NaN        FLORES AGUILAR ANA VICTORIA      04/05/2022             ESPECIAL  \\n\\t\\t\\t\\t\\t\\t\\t\\t\\t\\t\\t\\t\\n\\t\\t\\t\\t\\t\\t\\t\\t\\t...  FAMILIA CIVIL                  QUEJA DE DERECHO    SENTENCIADO/ RESUELTO         GENERAL                    POOL ASIST. JUDICIAL            -------  QUEJA DERECHO REMITIDA POR EL SNEJ JUZGADO DE ...\n",
       "56258  00008-2022-6-3301-SP-FC-01                           SALA CIVIL  PUENTE PIEDRA - VENTANILLA                             NaN        FLORES AGUILAR ANA VICTORIA      21/06/2022             ESPECIAL  \\n\\t\\t\\t\\t\\t\\t\\t\\t\\t\\t\\t\\t\\n\\t\\t\\t\\t\\t\\t\\t\\t\\t...  FAMILIA CIVIL                  QUEJA DE DERECHO            PARA RESOLVER         GENERAL                                 VOCALIA            -------  QUEJA DE DERECHO CONTRA LA RESOLUCION DEL JUZG...\n",
       "\n",
       "[56259 rows x 16 columns]"
      ]
     },
     "execution_count": 28,
     "metadata": {},
     "output_type": "execute_result"
    }
   ],
   "source": [
    "files_reports"
   ]
  },
  {
   "cell_type": "markdown",
   "id": "91cc3474",
   "metadata": {},
   "source": [
    "### 2.1. Cleaning the reporte files"
   ]
  },
  {
   "cell_type": "markdown",
   "id": "b5392bfa",
   "metadata": {},
   "source": [
    "Creating lists with characters to be replace"
   ]
  },
  {
   "cell_type": "code",
   "execution_count": 29,
   "id": "d6b9e0e9",
   "metadata": {},
   "outputs": [],
   "source": [
    "backslash_reps = [\"\\\\(\\\\*\\\\)\", \"\\\\\", \"\\\\([^()]{0,}\\\\)\"]\n",
    "trailing_and_special_reps = [\"^\\\\s\", \"\\\\,\", \"\\\\.$\", \" \\\\- JUZ$\", \"\\\\*\"]\n",
    "other_strs_reps = [\"\\\\- MIXTO Y LIQ\", \"\\\\- MIXTO\", \"\\\\- JUZ\\\\. MIXTO\", \n",
    "                   \"- JM\", \"- INVESTIGACION\", \"- PAZ LETRADO\", \"SECOM - \", \"- JT\"] #¿Porque ponemos esto?"
   ]
  },
  {
   "cell_type": "markdown",
   "id": "d7824dea",
   "metadata": {},
   "source": [
    "### 2.2. Replacing backlashes, special characters and other uninformative characters"
   ]
  },
  {
   "cell_type": "code",
   "execution_count": 30,
   "id": "110c4060",
   "metadata": {},
   "outputs": [],
   "source": [
    "empty_reps = backslash_reps + trailing_and_special_reps + other_strs_reps"
   ]
  },
  {
   "cell_type": "code",
   "execution_count": 31,
   "id": "15d92402",
   "metadata": {},
   "outputs": [
    {
     "data": {
      "text/plain": [
       "0           PISCOYA SOSA ALDO FRANCISCO\n",
       "1                   VEGA BOCANEGRA BETO\n",
       "2                      LOLO JARA ESTELA\n",
       "3          HUAMAN CULQUI, IRMA MERCEDES\n",
       "4        BARRERA BARDALES GUIMO ALBERTO\n",
       "                      ...              \n",
       "56254                               NaN\n",
       "56255                               NaN\n",
       "56256                               NaN\n",
       "56257                               NaN\n",
       "56258                               NaN\n",
       "Name: juez_, Length: 56259, dtype: object"
      ]
     },
     "execution_count": 31,
     "metadata": {},
     "output_type": "execute_result"
    }
   ],
   "source": [
    "files_reports[\"juez_\"]"
   ]
  },
  {
   "cell_type": "code",
   "execution_count": 32,
   "id": "c1131709",
   "metadata": {
    "scrolled": true
   },
   "outputs": [
    {
     "name": "stderr",
     "output_type": "stream",
     "text": [
      "C:\\Users\\PC\\AppData\\Local\\Temp\\ipykernel_8360\\3422139958.py:2: FutureWarning: The default value of regex will change from True to False in a future version.\n",
      "  files_reports[\"juez_\"] = files_reports[\"juez_\"].str.replace(val, \"\")\n",
      "C:\\Users\\PC\\AppData\\Local\\Temp\\ipykernel_8360\\3422139958.py:2: FutureWarning: The default value of regex will change from True to False in a future version. In addition, single character regular expressions will *not* be treated as literal strings when regex=True.\n",
      "  files_reports[\"juez_\"] = files_reports[\"juez_\"].str.replace(val, \"\")\n"
     ]
    }
   ],
   "source": [
    "for val in empty_reps:    \n",
    "    files_reports[\"juez_\"] = files_reports[\"juez_\"].str.replace(val, \"\")"
   ]
  },
  {
   "cell_type": "code",
   "execution_count": 33,
   "id": "45641e13",
   "metadata": {},
   "outputs": [
    {
     "data": {
      "text/plain": [
       "0           PISCOYA SOSA ALDO FRANCISCO\n",
       "1                   VEGA BOCANEGRA BETO\n",
       "2                      LOLO JARA ESTELA\n",
       "3           HUAMAN CULQUI IRMA MERCEDES\n",
       "4        BARRERA BARDALES GUIMO ALBERTO\n",
       "                      ...              \n",
       "56254                               NaN\n",
       "56255                               NaN\n",
       "56256                               NaN\n",
       "56257                               NaN\n",
       "56258                               NaN\n",
       "Name: juez_, Length: 56259, dtype: object"
      ]
     },
     "execution_count": 33,
     "metadata": {},
     "output_type": "execute_result"
    }
   ],
   "source": [
    "files_reports[\"juez_\"]"
   ]
  },
  {
   "cell_type": "code",
   "execution_count": 34,
   "id": "809d5282",
   "metadata": {},
   "outputs": [],
   "source": [
    "name_reps = [[\"ALFREDO E\\\\.\", \"ALFREDO E\"], [\"BERTHA F\\\\.\", \"BERTHA F\"], [\"CLAUDIO W\\\\.\", \"CLAUDIO W\"], \n",
    "            [\"CLAVELITO L\\\\.\", \"CLAVELITO L\"], [\"ELMER L\\\\.\", \"ELMER L\"], [\"ERNESTO A\\\\.\", \"ERNESTO A\"],\n",
    "            [\"HERBERT M\\\\.\", \"HERBERT M\"], [\"LUZ K\\\\.\", \"LUZ K\"], [\"NANCY S\\\\.\", \"NANCY S\"], [\"JESSICA E\\\\.\", \"JESSICA E\"],\n",
    "            [\"PATRICIA C\\\\.\", \"PATRICIA C\"], [\"JESSICA P\\\\.\", \"JESSICA P\"], [\"YOLANDA B\\\\.\", \"YOLANDA B\\\\.\"],\n",
    "            [\"LUZ M\\\\.\", \"LUZ M\"], [\"EDGAR\\\\.\", \"EDGAR\"], [\"C\\\\. ARTURO\", \"C ARTURO\"], [\"ALEXANDER A\\\\.\", \"ALEXANDER A\"],\n",
    "            [\"RENE G\\\\.\", \"RENE G\"], [\"GUILLERMO S\\\\.\", \"GUILLERMO S\"], [\"FANNY L\\\\. \",  \"FANNY L\"], [\"ELISA \\\\(LA\", \"ELISA\"],\n",
    "            [\"JULIA \\\\(LA\", \"JULIA\"], [\"ACEVEDO DIEZ CECILIA\", \"ACEVEDO DIEZ CECILIA DEL PILAR\"], [\" J. \", \" J \"],\n",
    "            [\" K. \", \" K \"]] #Como sabes estos nombres?"
   ]
  },
  {
   "cell_type": "markdown",
   "id": "05a63ec6",
   "metadata": {},
   "source": [
    "### 2.3. Replacing names with issues"
   ]
  },
  {
   "cell_type": "code",
   "execution_count": 35,
   "id": "77f62c47",
   "metadata": {
    "scrolled": false
   },
   "outputs": [
    {
     "name": "stderr",
     "output_type": "stream",
     "text": [
      "C:\\Users\\PC\\AppData\\Local\\Temp\\ipykernel_8360\\4277728364.py:2: FutureWarning: The default value of regex will change from True to False in a future version.\n",
      "  files_reports[\"juez_\"] = files_reports[\"juez_\"].str.replace(name_rep[0], name_rep[1])\n"
     ]
    }
   ],
   "source": [
    "for name_rep in name_reps:\n",
    "    files_reports[\"juez_\"] = files_reports[\"juez_\"].str.replace(name_rep[0], name_rep[1])"
   ]
  },
  {
   "cell_type": "code",
   "execution_count": 36,
   "id": "65131718",
   "metadata": {},
   "outputs": [
    {
     "data": {
      "text/plain": [
       "0           PISCOYA SOSA ALDO FRANCISCO\n",
       "1                   VEGA BOCANEGRA BETO\n",
       "2                      LOLO JARA ESTELA\n",
       "3           HUAMAN CULQUI IRMA MERCEDES\n",
       "4        BARRERA BARDALES GUIMO ALBERTO\n",
       "                      ...              \n",
       "56254                               NaN\n",
       "56255                               NaN\n",
       "56256                               NaN\n",
       "56257                               NaN\n",
       "56258                               NaN\n",
       "Name: juez_, Length: 56259, dtype: object"
      ]
     },
     "execution_count": 36,
     "metadata": {},
     "output_type": "execute_result"
    }
   ],
   "source": [
    "files_reports[\"juez_\"]"
   ]
  },
  {
   "cell_type": "markdown",
   "id": "a5353a8a",
   "metadata": {},
   "source": [
    "### 2.4. Obtaining the names of judges"
   ]
  },
  {
   "cell_type": "markdown",
   "id": "6a96cd4a",
   "metadata": {},
   "source": [
    "Some cases have multiple judges assigned to them. As a result, we need to extract these names as we will match the case with the judge information."
   ]
  },
  {
   "cell_type": "code",
   "execution_count": 37,
   "id": "f57f87f7",
   "metadata": {
    "scrolled": true
   },
   "outputs": [],
   "source": [
    "files_reports = files_reports[files_reports[\"juez_\"].notna()]"
   ]
  },
  {
   "cell_type": "code",
   "execution_count": 38,
   "id": "7fdbf7b0",
   "metadata": {
    "scrolled": true
   },
   "outputs": [
    {
     "name": "stderr",
     "output_type": "stream",
     "text": [
      "C:\\Users\\PC\\AppData\\Local\\Temp\\ipykernel_8360\\1661939066.py:1: SettingWithCopyWarning: \n",
      "A value is trying to be set on a copy of a slice from a DataFrame.\n",
      "Try using .loc[row_indexer,col_indexer] = value instead\n",
      "\n",
      "See the caveats in the documentation: https://pandas.pydata.org/pandas-docs/stable/user_guide/indexing.html#returning-a-view-versus-a-copy\n",
      "  files_reports[\"juez_splitted\"] = files_reports[\"juez_\"].apply(lambda row: row.split(\".\"))\n"
     ]
    }
   ],
   "source": [
    "files_reports[\"juez_splitted\"] = files_reports[\"juez_\"].apply(lambda row: row.split(\".\"))\n",
    "\n",
    "#we use lambda to create very short function"
   ]
  },
  {
   "cell_type": "code",
   "execution_count": 39,
   "id": "2ea175c0",
   "metadata": {},
   "outputs": [
    {
     "data": {
      "text/plain": [
       "0           [PISCOYA SOSA ALDO FRANCISCO]\n",
       "1                   [VEGA BOCANEGRA BETO]\n",
       "2                      [LOLO JARA ESTELA]\n",
       "3           [HUAMAN CULQUI IRMA MERCEDES]\n",
       "4        [BARRERA BARDALES GUIMO ALBERTO]\n",
       "                       ...               \n",
       "56241     [POMA ALOSILLA NARDA KATHERINE]\n",
       "56242     [POMA ALOSILLA NARDA KATHERINE]\n",
       "56243     [POMA ALOSILLA NARDA KATHERINE]\n",
       "56244     [POMA ALOSILLA NARDA KATHERINE]\n",
       "56245     [POMA ALOSILLA NARDA KATHERINE]\n",
       "Name: juez_splitted, Length: 54533, dtype: object"
      ]
     },
     "execution_count": 39,
     "metadata": {},
     "output_type": "execute_result"
    }
   ],
   "source": [
    "files_reports[\"juez_splitted\"] # Por qué lo convertimos en listas?"
   ]
  },
  {
   "cell_type": "code",
   "execution_count": 40,
   "id": "12f99917",
   "metadata": {
    "scrolled": false
   },
   "outputs": [
    {
     "name": "stderr",
     "output_type": "stream",
     "text": [
      "C:\\Users\\PC\\AppData\\Local\\Temp\\ipykernel_8360\\1257465071.py:1: SettingWithCopyWarning: \n",
      "A value is trying to be set on a copy of a slice from a DataFrame.\n",
      "Try using .loc[row_indexer,col_indexer] = value instead\n",
      "\n",
      "See the caveats in the documentation: https://pandas.pydata.org/pandas-docs/stable/user_guide/indexing.html#returning-a-view-versus-a-copy\n",
      "  files_reports[\"n_judges_case\"] = files_reports[\"juez_splitted\"].apply(lambda row: len(row))\n"
     ]
    }
   ],
   "source": [
    "files_reports[\"n_judges_case\"] = files_reports[\"juez_splitted\"].apply(lambda row: len(row))"
   ]
  },
  {
   "cell_type": "code",
   "execution_count": 41,
   "id": "f59fe645",
   "metadata": {},
   "outputs": [
    {
     "data": {
      "text/plain": [
       "0        1\n",
       "1        1\n",
       "2        1\n",
       "3        1\n",
       "4        1\n",
       "        ..\n",
       "56241    1\n",
       "56242    1\n",
       "56243    1\n",
       "56244    1\n",
       "56245    1\n",
       "Name: n_judges_case, Length: 54533, dtype: int64"
      ]
     },
     "execution_count": 41,
     "metadata": {},
     "output_type": "execute_result"
    }
   ],
   "source": [
    "files_reports[\"n_judges_case\"]"
   ]
  },
  {
   "cell_type": "code",
   "execution_count": 42,
   "id": "327be72c",
   "metadata": {},
   "outputs": [
    {
     "data": {
      "text/plain": [
       "1    53590\n",
       "3      633\n",
       "2      228\n",
       "4       75\n",
       "6        4\n",
       "5        3\n",
       "Name: n_judges_case, dtype: int64"
      ]
     },
     "execution_count": 42,
     "metadata": {},
     "output_type": "execute_result"
    }
   ],
   "source": [
    "files_reports[\"n_judges_case\"].value_counts()"
   ]
  },
  {
   "cell_type": "code",
   "execution_count": 43,
   "id": "c9302a3e",
   "metadata": {},
   "outputs": [
    {
     "data": {
      "text/html": [
       "<div>\n",
       "<style scoped>\n",
       "    .dataframe tbody tr th:only-of-type {\n",
       "        vertical-align: middle;\n",
       "    }\n",
       "\n",
       "    .dataframe tbody tr th {\n",
       "        vertical-align: top;\n",
       "    }\n",
       "\n",
       "    .dataframe thead th {\n",
       "        text-align: right;\n",
       "    }\n",
       "</style>\n",
       "<table border=\"1\" class=\"dataframe\">\n",
       "  <thead>\n",
       "    <tr style=\"text-align: right;\">\n",
       "      <th></th>\n",
       "      <th>expediente_n°_</th>\n",
       "      <th>organo_jurisdiccional_</th>\n",
       "      <th>distrito_judicial_</th>\n",
       "      <th>juez_</th>\n",
       "      <th>especialista_legal_</th>\n",
       "      <th>fecha_de_inicio_</th>\n",
       "      <th>proceso_</th>\n",
       "      <th>observacion_</th>\n",
       "      <th>especialidad_</th>\n",
       "      <th>materia_s_</th>\n",
       "      <th>estado_</th>\n",
       "      <th>etapa_procesal_</th>\n",
       "      <th>fecha_conclusion_</th>\n",
       "      <th>ubicacion_</th>\n",
       "      <th>motivo_conclusion_</th>\n",
       "      <th>sumilla_</th>\n",
       "      <th>juez_splitted</th>\n",
       "      <th>n_judges_case</th>\n",
       "    </tr>\n",
       "  </thead>\n",
       "  <tbody>\n",
       "    <tr>\n",
       "      <th>2824</th>\n",
       "      <td>00018-2022-22-0101-JR-LA-01</td>\n",
       "      <td>SALA CIVIL - SEDE CENTRAL</td>\n",
       "      <td>AMAZONAS</td>\n",
       "      <td>TAFUR GUPIOC ESPERANZA. HORNA CARPIO ROSA MARL...</td>\n",
       "      <td>VILCARROMERO CULQUI MARIA DOLORES</td>\n",
       "      <td>25/05/2022</td>\n",
       "      <td>ORDINARIO</td>\n",
       "      <td>\\n\\t\\t\\t\\t\\t\\t\\t\\t\\t\\t\\t\\t\\n\\t\\t\\t\\t\\t\\t\\t\\t\\t...</td>\n",
       "      <td>LABORAL</td>\n",
       "      <td>REINTEGRO DE BENEFICIOS SOCIALES</td>\n",
       "      <td>ARCHIVO DEFINITIVO</td>\n",
       "      <td>GENERAL</td>\n",
       "      <td></td>\n",
       "      <td>POOL ASIST. JUDICIAL</td>\n",
       "      <td>-------</td>\n",
       "      <td>CUADERNO DE QUEJA POR DENEGATORIA DE APELACION</td>\n",
       "      <td>[TAFUR GUPIOC ESPERANZA,  HORNA CARPIO ROSA MA...</td>\n",
       "      <td>6</td>\n",
       "    </tr>\n",
       "    <tr>\n",
       "      <th>2957</th>\n",
       "      <td>00004-2022-61-0101-JR-LA-01</td>\n",
       "      <td>SALA CIVIL - SEDE CENTRAL</td>\n",
       "      <td>AMAZONAS</td>\n",
       "      <td>TAFUR GUPIOC ESPERANZA. CRISPIN QUISPE ALEJAND...</td>\n",
       "      <td>VILCARROMERO CULQUI MARIA DOLORES</td>\n",
       "      <td>07/04/2022</td>\n",
       "      <td>ESPECIAL</td>\n",
       "      <td>\\n\\t\\t\\t\\t\\t\\t\\t\\t\\t\\t\\t\\t\\n\\t\\t\\t\\t\\t\\t\\t\\t\\t...</td>\n",
       "      <td>LABORAL</td>\n",
       "      <td>ACCION CONTENCIOSA ADMINISTRATIVA</td>\n",
       "      <td>ARCHIVO DEFINITIVO</td>\n",
       "      <td>GENERAL</td>\n",
       "      <td></td>\n",
       "      <td>POOL ASIST. JUDICIAL</td>\n",
       "      <td>-------</td>\n",
       "      <td>CUADERNO DE QUEJA DE DERECHO</td>\n",
       "      <td>[TAFUR GUPIOC ESPERANZA,  CRISPIN QUISPE ALEJA...</td>\n",
       "      <td>6</td>\n",
       "    </tr>\n",
       "    <tr>\n",
       "      <th>3576</th>\n",
       "      <td>00004-2022-61-0101-JR-LA-01</td>\n",
       "      <td>SALA CIVIL - SEDE CENTRAL</td>\n",
       "      <td>AMAZONAS</td>\n",
       "      <td>TAFUR GUPIOC ESPERANZA. CRISPIN QUISPE ALEJAND...</td>\n",
       "      <td>VILCARROMERO CULQUI MARIA DOLORES</td>\n",
       "      <td>07/04/2022</td>\n",
       "      <td>ESPECIAL</td>\n",
       "      <td>\\n\\t\\t\\t\\t\\t\\t\\t\\t\\t\\t\\t\\t\\n\\t\\t\\t\\t\\t\\t\\t\\t\\t...</td>\n",
       "      <td>LABORAL</td>\n",
       "      <td>ACCION CONTENCIOSA ADMINISTRATIVA</td>\n",
       "      <td>ARCHIVO DEFINITIVO</td>\n",
       "      <td>GENERAL</td>\n",
       "      <td></td>\n",
       "      <td>POOL ASIST. JUDICIAL</td>\n",
       "      <td>-------</td>\n",
       "      <td>CUADERNO DE QUEJA DE DERECHO</td>\n",
       "      <td>[TAFUR GUPIOC ESPERANZA,  CRISPIN QUISPE ALEJA...</td>\n",
       "      <td>6</td>\n",
       "    </tr>\n",
       "    <tr>\n",
       "      <th>52764</th>\n",
       "      <td>00005-2022-0-1801-SP-LA-01</td>\n",
       "      <td>2° SALA LABORAL PERMANENTE</td>\n",
       "      <td>LIMA</td>\n",
       "      <td>...GASTULO CHAVEZ SILVIA JAENETTE.  FUENTES LO...</td>\n",
       "      <td>HERNANDEZ GARCIA, ANGELA DIONISIA</td>\n",
       "      <td>10/01/2022</td>\n",
       "      <td>ANULACION DE LAUDOS ARBITRALES</td>\n",
       "      <td>\\n\\t\\t\\t\\t\\t\\t\\t\\t\\t\\t\\t\\t\\n\\t\\t\\t\\t\\t\\t\\t\\t\\t...</td>\n",
       "      <td>LABORAL</td>\n",
       "      <td>ANULACION DE LAUDOS ARBITRALES</td>\n",
       "      <td>APELACION</td>\n",
       "      <td>GENERAL</td>\n",
       "      <td></td>\n",
       "      <td>SALA SUPREMA</td>\n",
       "      <td>-------</td>\n",
       "      <td>INTERPONGO DEMANDA</td>\n",
       "      <td>[, , , GASTULO CHAVEZ SILVIA JAENETTE,   FUENT...</td>\n",
       "      <td>6</td>\n",
       "    </tr>\n",
       "  </tbody>\n",
       "</table>\n",
       "</div>"
      ],
      "text/plain": [
       "                    expediente_n°_      organo_jurisdiccional_ distrito_judicial_                                              juez_                especialista_legal_ fecha_de_inicio_                        proceso_                                       observacion_ especialidad_                         materia_s_             estado_ etapa_procesal_ fecha_conclusion_            ubicacion_ motivo_conclusion_                                        sumilla_                                      juez_splitted  n_judges_case\n",
       "2824   00018-2022-22-0101-JR-LA-01   SALA CIVIL - SEDE CENTRAL           AMAZONAS  TAFUR GUPIOC ESPERANZA. HORNA CARPIO ROSA MARL...  VILCARROMERO CULQUI MARIA DOLORES      25/05/2022                        ORDINARIO  \\n\\t\\t\\t\\t\\t\\t\\t\\t\\t\\t\\t\\t\\n\\t\\t\\t\\t\\t\\t\\t\\t\\t...       LABORAL   REINTEGRO DE BENEFICIOS SOCIALES  ARCHIVO DEFINITIVO         GENERAL                    POOL ASIST. JUDICIAL            -------  CUADERNO DE QUEJA POR DENEGATORIA DE APELACION  [TAFUR GUPIOC ESPERANZA,  HORNA CARPIO ROSA MA...              6\n",
       "2957   00004-2022-61-0101-JR-LA-01   SALA CIVIL - SEDE CENTRAL           AMAZONAS  TAFUR GUPIOC ESPERANZA. CRISPIN QUISPE ALEJAND...  VILCARROMERO CULQUI MARIA DOLORES      07/04/2022                         ESPECIAL  \\n\\t\\t\\t\\t\\t\\t\\t\\t\\t\\t\\t\\t\\n\\t\\t\\t\\t\\t\\t\\t\\t\\t...       LABORAL  ACCION CONTENCIOSA ADMINISTRATIVA  ARCHIVO DEFINITIVO         GENERAL                    POOL ASIST. JUDICIAL            -------                    CUADERNO DE QUEJA DE DERECHO  [TAFUR GUPIOC ESPERANZA,  CRISPIN QUISPE ALEJA...              6\n",
       "3576   00004-2022-61-0101-JR-LA-01   SALA CIVIL - SEDE CENTRAL           AMAZONAS  TAFUR GUPIOC ESPERANZA. CRISPIN QUISPE ALEJAND...  VILCARROMERO CULQUI MARIA DOLORES      07/04/2022                         ESPECIAL  \\n\\t\\t\\t\\t\\t\\t\\t\\t\\t\\t\\t\\t\\n\\t\\t\\t\\t\\t\\t\\t\\t\\t...       LABORAL  ACCION CONTENCIOSA ADMINISTRATIVA  ARCHIVO DEFINITIVO         GENERAL                    POOL ASIST. JUDICIAL            -------                    CUADERNO DE QUEJA DE DERECHO  [TAFUR GUPIOC ESPERANZA,  CRISPIN QUISPE ALEJA...              6\n",
       "52764   00005-2022-0-1801-SP-LA-01  2° SALA LABORAL PERMANENTE               LIMA  ...GASTULO CHAVEZ SILVIA JAENETTE.  FUENTES LO...  HERNANDEZ GARCIA, ANGELA DIONISIA      10/01/2022   ANULACION DE LAUDOS ARBITRALES  \\n\\t\\t\\t\\t\\t\\t\\t\\t\\t\\t\\t\\t\\n\\t\\t\\t\\t\\t\\t\\t\\t\\t...       LABORAL     ANULACION DE LAUDOS ARBITRALES           APELACION         GENERAL                            SALA SUPREMA            -------                              INTERPONGO DEMANDA  [, , , GASTULO CHAVEZ SILVIA JAENETTE,   FUENT...              6"
      ]
     },
     "execution_count": 43,
     "metadata": {},
     "output_type": "execute_result"
    }
   ],
   "source": [
    "exploring_filters = files_reports[files_reports[\"n_judges_case\"] == 6]\n",
    "exploring_filters"
   ]
  },
  {
   "cell_type": "code",
   "execution_count": 44,
   "id": "1e1de66b",
   "metadata": {},
   "outputs": [],
   "source": [
    "judge_names = files_reports[files_reports[\"n_judges_case\"] == 1]"
   ]
  },
  {
   "cell_type": "code",
   "execution_count": 45,
   "id": "366e60bf",
   "metadata": {},
   "outputs": [],
   "source": [
    "multiple_judge_names = files_reports[files_reports[\"n_judges_case\"] != 1] \n",
    "# If there is more than 1 judge, then it's higly likely that it is an appellate judge"
   ]
  },
  {
   "cell_type": "code",
   "execution_count": 46,
   "id": "1de992e0",
   "metadata": {},
   "outputs": [
    {
     "data": {
      "text/html": [
       "<div>\n",
       "<style scoped>\n",
       "    .dataframe tbody tr th:only-of-type {\n",
       "        vertical-align: middle;\n",
       "    }\n",
       "\n",
       "    .dataframe tbody tr th {\n",
       "        vertical-align: top;\n",
       "    }\n",
       "\n",
       "    .dataframe thead th {\n",
       "        text-align: right;\n",
       "    }\n",
       "</style>\n",
       "<table border=\"1\" class=\"dataframe\">\n",
       "  <thead>\n",
       "    <tr style=\"text-align: right;\">\n",
       "      <th></th>\n",
       "      <th>expediente_n°_</th>\n",
       "      <th>organo_jurisdiccional_</th>\n",
       "      <th>distrito_judicial_</th>\n",
       "      <th>juez_</th>\n",
       "      <th>especialista_legal_</th>\n",
       "      <th>fecha_de_inicio_</th>\n",
       "      <th>proceso_</th>\n",
       "      <th>observacion_</th>\n",
       "      <th>especialidad_</th>\n",
       "      <th>materia_s_</th>\n",
       "      <th>estado_</th>\n",
       "      <th>etapa_procesal_</th>\n",
       "      <th>fecha_conclusion_</th>\n",
       "      <th>ubicacion_</th>\n",
       "      <th>motivo_conclusion_</th>\n",
       "      <th>sumilla_</th>\n",
       "      <th>juez_splitted</th>\n",
       "      <th>n_judges_case</th>\n",
       "    </tr>\n",
       "  </thead>\n",
       "  <tbody>\n",
       "    <tr>\n",
       "      <th>2540</th>\n",
       "      <td>00001-2022-0-0102-JR-LA-01</td>\n",
       "      <td>SALA CIVIL - SEDE UTCUBAMBA</td>\n",
       "      <td>AMAZONAS</td>\n",
       "      <td>ARTEAGA RAMIREZ FLORMIRA. VIGIL CURO LUZ CAROL...</td>\n",
       "      <td>PILCO MASLUCAN MERCEDES</td>\n",
       "      <td>12/01/2022</td>\n",
       "      <td>ORDINARIO</td>\n",
       "      <td>\\n\\t\\t\\t\\t\\t\\t\\t\\t\\t\\t\\t\\t\\n\\t\\t\\t\\t\\t\\t\\t\\t\\t...</td>\n",
       "      <td>LABORAL</td>\n",
       "      <td>REINTEGRO DE BENEFICIOS SOCIALES</td>\n",
       "      <td>SENTENCIADO/ RESUELTO</td>\n",
       "      <td>GENERAL</td>\n",
       "      <td></td>\n",
       "      <td>POOL ASIST. JUDICIAL</td>\n",
       "      <td>-------</td>\n",
       "      <td>DEMANDA REINTEGRO DE BENEFICIOS SOCIALES</td>\n",
       "      <td>[ARTEAGA RAMIREZ FLORMIRA,  VIGIL CURO LUZ CAR...</td>\n",
       "      <td>3</td>\n",
       "    </tr>\n",
       "    <tr>\n",
       "      <th>2548</th>\n",
       "      <td>00101-2022-0-0102-JR-LA-01</td>\n",
       "      <td>SALA CIVIL - SEDE UTCUBAMBA</td>\n",
       "      <td>AMAZONAS</td>\n",
       "      <td>ARTEAGA RAMIREZ FLORMIRA. VIGIL CURO LUZ CAROL...</td>\n",
       "      <td>PILCO MASLUCAN MERCEDES</td>\n",
       "      <td>22/07/2022</td>\n",
       "      <td>ESPECIAL</td>\n",
       "      <td>\\n\\t\\t\\t\\t\\t\\t\\t\\t\\t\\t\\t\\t\\n\\t\\t\\t\\t\\t\\t\\t\\t\\t...</td>\n",
       "      <td>LABORAL</td>\n",
       "      <td>ACCION CONTENCIOSA ADMINISTRATIVA</td>\n",
       "      <td>APELACION</td>\n",
       "      <td>GENERAL</td>\n",
       "      <td></td>\n",
       "      <td>POOL ASIST. JUDICIAL</td>\n",
       "      <td>-------</td>\n",
       "      <td>DEMANDA CONTENCIOSO ADMINISTRATIVO DE NULIDAD ...</td>\n",
       "      <td>[ARTEAGA RAMIREZ FLORMIRA,  VIGIL CURO LUZ CAR...</td>\n",
       "      <td>3</td>\n",
       "    </tr>\n",
       "    <tr>\n",
       "      <th>2565</th>\n",
       "      <td>00106-2022-95-0107-JR-LA-01</td>\n",
       "      <td>SALA CIVIL - SEDE UTCUBAMBA</td>\n",
       "      <td>AMAZONAS</td>\n",
       "      <td>ARTEAGA RAMIREZ FLORMIRA. CRISPIN QUISPE ALEJA...</td>\n",
       "      <td>PILCO MASLUCAN MERCEDES</td>\n",
       "      <td>28/10/2022</td>\n",
       "      <td>ORDINARIO</td>\n",
       "      <td>\\n\\t\\t\\t\\t\\t\\t\\t\\t\\t\\t\\t\\t\\n\\t\\t\\t\\t\\t\\t\\t\\t\\t...</td>\n",
       "      <td>LABORAL</td>\n",
       "      <td>RECONOCIMIENTO DE LOS DERECHOS COMPRENDIDOS EN...</td>\n",
       "      <td>APELACION</td>\n",
       "      <td>GENERAL</td>\n",
       "      <td></td>\n",
       "      <td>SECRETARIA - MP</td>\n",
       "      <td>-------</td>\n",
       "      <td>INTERPONGO MEDIDA CAUTELAR GENERICA</td>\n",
       "      <td>[ARTEAGA RAMIREZ FLORMIRA,  CRISPIN QUISPE ALE...</td>\n",
       "      <td>4</td>\n",
       "    </tr>\n",
       "    <tr>\n",
       "      <th>2603</th>\n",
       "      <td>00117-2022-0-0101-JR-LA-01</td>\n",
       "      <td>SALA CIVIL - SEDE CENTRAL</td>\n",
       "      <td>AMAZONAS</td>\n",
       "      <td>TAFUR GUPIOC ESPERANZA. MARTINEZ CHASQUERO EDD...</td>\n",
       "      <td>VILCARROMERO CULQUI MARIA DOLORES</td>\n",
       "      <td>17/03/2022</td>\n",
       "      <td>ORDINARIO</td>\n",
       "      <td>\\n\\t\\t\\t\\t\\t\\t\\t\\t\\t\\t\\t\\t\\n\\t\\t\\t\\t\\t\\t\\t\\t\\t...</td>\n",
       "      <td>LABORAL</td>\n",
       "      <td>ACCION CONTENCIOSA ADMINISTRATIVA</td>\n",
       "      <td>TRAMITE</td>\n",
       "      <td>GENERAL</td>\n",
       "      <td></td>\n",
       "      <td>POOL ASIST. JUDICIAL</td>\n",
       "      <td>-------</td>\n",
       "      <td>DEMANDA NULIDAD DE RESOLUCIONES ADMINISTRATIVA...</td>\n",
       "      <td>[TAFUR GUPIOC ESPERANZA,  MARTINEZ CHASQUERO E...</td>\n",
       "      <td>3</td>\n",
       "    </tr>\n",
       "    <tr>\n",
       "      <th>2619</th>\n",
       "      <td>00121-2022-0-0102-JR-LA-01</td>\n",
       "      <td>SALA CIVIL - SEDE UTCUBAMBA</td>\n",
       "      <td>AMAZONAS</td>\n",
       "      <td>ARTEAGA RAMIREZ FLORMIRA. CRISPIN QUISPE ALEJA...</td>\n",
       "      <td>PILCO MASLUCAN MERCEDES</td>\n",
       "      <td>01/09/2022</td>\n",
       "      <td>ORDINARIO</td>\n",
       "      <td>\\n\\t\\t\\t\\t\\t\\t\\t\\t\\t\\t\\t\\t\\n\\t\\t\\t\\t\\t\\t\\t\\t\\t...</td>\n",
       "      <td>LABORAL</td>\n",
       "      <td>ACCION CONTENCIOSA ADMINISTRATIVA</td>\n",
       "      <td>APELACION</td>\n",
       "      <td>GENERAL</td>\n",
       "      <td></td>\n",
       "      <td>POOL ASIST. JUDICIAL</td>\n",
       "      <td>-------</td>\n",
       "      <td>DEMANDA ACCION CONTENCIOSA ADMINISTRATIVA</td>\n",
       "      <td>[ARTEAGA RAMIREZ FLORMIRA,  CRISPIN QUISPE ALE...</td>\n",
       "      <td>4</td>\n",
       "    </tr>\n",
       "    <tr>\n",
       "      <th>...</th>\n",
       "      <td>...</td>\n",
       "      <td>...</td>\n",
       "      <td>...</td>\n",
       "      <td>...</td>\n",
       "      <td>...</td>\n",
       "      <td>...</td>\n",
       "      <td>...</td>\n",
       "      <td>...</td>\n",
       "      <td>...</td>\n",
       "      <td>...</td>\n",
       "      <td>...</td>\n",
       "      <td>...</td>\n",
       "      <td>...</td>\n",
       "      <td>...</td>\n",
       "      <td>...</td>\n",
       "      <td>...</td>\n",
       "      <td>...</td>\n",
       "      <td>...</td>\n",
       "    </tr>\n",
       "    <tr>\n",
       "      <th>55968</th>\n",
       "      <td>00003-2022-0-2402-JR-LA-02</td>\n",
       "      <td>SALA LABORAL</td>\n",
       "      <td>UCAYALI</td>\n",
       "      <td>CRUZ COBEÑAS MARLENY. BARBARAN RIOS ASELA ISAB...</td>\n",
       "      <td>SUELLEN Y. POPOLIZIO PANDURO</td>\n",
       "      <td>04/02/2022</td>\n",
       "      <td>ORDINARIO</td>\n",
       "      <td>\\n\\t\\t\\t\\t\\t\\t\\t\\t\\t\\t\\t\\t\\n\\t\\t\\t\\t\\t\\t\\t\\t\\t...</td>\n",
       "      <td>LABORAL</td>\n",
       "      <td>DESNATURALIZACIÓN DE CONTRATO</td>\n",
       "      <td>SENTENCIADO/ RESUELTO</td>\n",
       "      <td>GENERAL</td>\n",
       "      <td></td>\n",
       "      <td>RELATORIA</td>\n",
       "      <td>-------</td>\n",
       "      <td>INTERPONE DEMANDA DE DESNATURALIZACION DE CONT...</td>\n",
       "      <td>[CRUZ COBEÑAS MARLENY,  BARBARAN RIOS ASELA IS...</td>\n",
       "      <td>3</td>\n",
       "    </tr>\n",
       "    <tr>\n",
       "      <th>56220</th>\n",
       "      <td>00012-2022-0-3301-JR-LA-01</td>\n",
       "      <td>SALA LABORAL</td>\n",
       "      <td>PUENTE PIEDRA - VENTANILLA</td>\n",
       "      <td>CAMPOS MURILLO WALTER EDUARDO. ZUÑIGA HERRERA ...</td>\n",
       "      <td>HINOJOSA GRANADOS LAURA ESTHEFANY</td>\n",
       "      <td>14/01/2022</td>\n",
       "      <td>ORDINARIO</td>\n",
       "      <td>\\n\\t\\t\\t\\t\\t\\t\\t\\t\\t\\t\\t\\t\\n\\t\\t\\t\\t\\t\\t\\t\\t\\t...</td>\n",
       "      <td>LABORAL</td>\n",
       "      <td>DESNATURALIZACIÓN DE CONTRATO</td>\n",
       "      <td>EN PLAZO DE IMPUGNACION</td>\n",
       "      <td>GENERAL</td>\n",
       "      <td></td>\n",
       "      <td>SECRETARIA - MP</td>\n",
       "      <td>-------</td>\n",
       "      <td>RECONOCIMIENTO DE VINCULO LABORAL BAJO LOS ALC...</td>\n",
       "      <td>[CAMPOS MURILLO WALTER EDUARDO,  ZUÑIGA HERRER...</td>\n",
       "      <td>3</td>\n",
       "    </tr>\n",
       "    <tr>\n",
       "      <th>56227</th>\n",
       "      <td>00018-2022-0-3301-JR-LA-01</td>\n",
       "      <td>SALA LABORAL</td>\n",
       "      <td>PUENTE PIEDRA - VENTANILLA</td>\n",
       "      <td>CAMPOS MURILLO WALTER EDUARDO. ZUÑIGA HERRERA ...</td>\n",
       "      <td>HINOJOSA GRANADOS LAURA ESTHEFANY</td>\n",
       "      <td>18/01/2022</td>\n",
       "      <td>ORDINARIO</td>\n",
       "      <td>\\n\\t\\t\\t\\t\\t\\t\\t\\t\\t\\t\\t\\t\\n\\t\\t\\t\\t\\t\\t\\t\\t\\t...</td>\n",
       "      <td>LABORAL</td>\n",
       "      <td>DESNATURALIZACIÓN DE CONTRATO</td>\n",
       "      <td>EN TRAMITE(Pendiente)</td>\n",
       "      <td>GENERAL</td>\n",
       "      <td></td>\n",
       "      <td>SECRETARIA - MP</td>\n",
       "      <td>-------</td>\n",
       "      <td>DEMANDA SOBRE INCUMPLIMIENTO</td>\n",
       "      <td>[CAMPOS MURILLO WALTER EDUARDO,  ZUÑIGA HERRER...</td>\n",
       "      <td>3</td>\n",
       "    </tr>\n",
       "    <tr>\n",
       "      <th>56232</th>\n",
       "      <td>00022-2022-0-3301-JR-LA-01</td>\n",
       "      <td>SALA LABORAL</td>\n",
       "      <td>PUENTE PIEDRA - VENTANILLA</td>\n",
       "      <td>CAMPOS MURILLO WALTER EDUARDO. ZUÑIGA HERRERA ...</td>\n",
       "      <td>HINOJOSA GRANADOS LAURA ESTHEFANY</td>\n",
       "      <td>22/01/2022</td>\n",
       "      <td>ORDINARIO</td>\n",
       "      <td>\\n\\t\\t\\t\\t\\t\\t\\t\\t\\t\\t\\t\\t\\n\\t\\t\\t\\t\\t\\t\\t\\t\\t...</td>\n",
       "      <td>LABORAL</td>\n",
       "      <td>INCUMPLIMIENTO DE DISPOSICIONES Y NORMAS LABOR...</td>\n",
       "      <td>EN TRAMITE(Pendiente)</td>\n",
       "      <td>GENERAL</td>\n",
       "      <td></td>\n",
       "      <td>SECRETARIA - MP</td>\n",
       "      <td>-------</td>\n",
       "      <td>DESNATURALIZACION DEL CONTRATO DE TRABAJO Y OTRO</td>\n",
       "      <td>[CAMPOS MURILLO WALTER EDUARDO,  ZUÑIGA HERRER...</td>\n",
       "      <td>3</td>\n",
       "    </tr>\n",
       "    <tr>\n",
       "      <th>56236</th>\n",
       "      <td>00029-2022-0-3301-JR-LA-01</td>\n",
       "      <td>SALA LABORAL</td>\n",
       "      <td>PUENTE PIEDRA - VENTANILLA</td>\n",
       "      <td>CAMPOS MURILLO WALTER EDUARDO. ZUÑIGA HERRERA ...</td>\n",
       "      <td>HINOJOSA GRANADOS LAURA ESTHEFANY</td>\n",
       "      <td>28/01/2022</td>\n",
       "      <td>ORDINARIO</td>\n",
       "      <td>\\n\\t\\t\\t\\t\\t\\t\\t\\t\\t\\t\\t\\t\\n\\t\\t\\t\\t\\t\\t\\t\\t\\t...</td>\n",
       "      <td>LABORAL</td>\n",
       "      <td>PAGO DE BENEFICIOS SOCIALES Y/O INDEMNIZACION ...</td>\n",
       "      <td>EN TRAMITE(Pendiente)</td>\n",
       "      <td>GENERAL</td>\n",
       "      <td></td>\n",
       "      <td>VOCALIA</td>\n",
       "      <td>-------</td>\n",
       "      <td>PAGO DE BENEFICIOS SOCIALES</td>\n",
       "      <td>[CAMPOS MURILLO WALTER EDUARDO,  ZUÑIGA HERRER...</td>\n",
       "      <td>3</td>\n",
       "    </tr>\n",
       "  </tbody>\n",
       "</table>\n",
       "<p>943 rows × 18 columns</p>\n",
       "</div>"
      ],
      "text/plain": [
       "                    expediente_n°_       organo_jurisdiccional_          distrito_judicial_                                              juez_                especialista_legal_ fecha_de_inicio_   proceso_                                       observacion_ especialidad_                                         materia_s_                  estado_ etapa_procesal_ fecha_conclusion_            ubicacion_ motivo_conclusion_                                           sumilla_                                      juez_splitted  n_judges_case\n",
       "2540    00001-2022-0-0102-JR-LA-01  SALA CIVIL - SEDE UTCUBAMBA                    AMAZONAS  ARTEAGA RAMIREZ FLORMIRA. VIGIL CURO LUZ CAROL...            PILCO MASLUCAN MERCEDES      12/01/2022   ORDINARIO  \\n\\t\\t\\t\\t\\t\\t\\t\\t\\t\\t\\t\\t\\n\\t\\t\\t\\t\\t\\t\\t\\t\\t...       LABORAL                   REINTEGRO DE BENEFICIOS SOCIALES    SENTENCIADO/ RESUELTO         GENERAL                    POOL ASIST. JUDICIAL            -------           DEMANDA REINTEGRO DE BENEFICIOS SOCIALES  [ARTEAGA RAMIREZ FLORMIRA,  VIGIL CURO LUZ CAR...              3\n",
       "2548    00101-2022-0-0102-JR-LA-01  SALA CIVIL - SEDE UTCUBAMBA                    AMAZONAS  ARTEAGA RAMIREZ FLORMIRA. VIGIL CURO LUZ CAROL...            PILCO MASLUCAN MERCEDES      22/07/2022    ESPECIAL  \\n\\t\\t\\t\\t\\t\\t\\t\\t\\t\\t\\t\\t\\n\\t\\t\\t\\t\\t\\t\\t\\t\\t...       LABORAL                  ACCION CONTENCIOSA ADMINISTRATIVA                APELACION         GENERAL                    POOL ASIST. JUDICIAL            -------  DEMANDA CONTENCIOSO ADMINISTRATIVO DE NULIDAD ...  [ARTEAGA RAMIREZ FLORMIRA,  VIGIL CURO LUZ CAR...              3\n",
       "2565   00106-2022-95-0107-JR-LA-01  SALA CIVIL - SEDE UTCUBAMBA                    AMAZONAS  ARTEAGA RAMIREZ FLORMIRA. CRISPIN QUISPE ALEJA...            PILCO MASLUCAN MERCEDES      28/10/2022   ORDINARIO  \\n\\t\\t\\t\\t\\t\\t\\t\\t\\t\\t\\t\\t\\n\\t\\t\\t\\t\\t\\t\\t\\t\\t...       LABORAL  RECONOCIMIENTO DE LOS DERECHOS COMPRENDIDOS EN...                APELACION         GENERAL                         SECRETARIA - MP            -------                INTERPONGO MEDIDA CAUTELAR GENERICA  [ARTEAGA RAMIREZ FLORMIRA,  CRISPIN QUISPE ALE...              4\n",
       "2603    00117-2022-0-0101-JR-LA-01    SALA CIVIL - SEDE CENTRAL                    AMAZONAS  TAFUR GUPIOC ESPERANZA. MARTINEZ CHASQUERO EDD...  VILCARROMERO CULQUI MARIA DOLORES      17/03/2022   ORDINARIO  \\n\\t\\t\\t\\t\\t\\t\\t\\t\\t\\t\\t\\t\\n\\t\\t\\t\\t\\t\\t\\t\\t\\t...       LABORAL                  ACCION CONTENCIOSA ADMINISTRATIVA                  TRAMITE         GENERAL                    POOL ASIST. JUDICIAL            -------  DEMANDA NULIDAD DE RESOLUCIONES ADMINISTRATIVA...  [TAFUR GUPIOC ESPERANZA,  MARTINEZ CHASQUERO E...              3\n",
       "2619    00121-2022-0-0102-JR-LA-01  SALA CIVIL - SEDE UTCUBAMBA                    AMAZONAS  ARTEAGA RAMIREZ FLORMIRA. CRISPIN QUISPE ALEJA...            PILCO MASLUCAN MERCEDES      01/09/2022   ORDINARIO  \\n\\t\\t\\t\\t\\t\\t\\t\\t\\t\\t\\t\\t\\n\\t\\t\\t\\t\\t\\t\\t\\t\\t...       LABORAL                  ACCION CONTENCIOSA ADMINISTRATIVA                APELACION         GENERAL                    POOL ASIST. JUDICIAL            -------          DEMANDA ACCION CONTENCIOSA ADMINISTRATIVA  [ARTEAGA RAMIREZ FLORMIRA,  CRISPIN QUISPE ALE...              4\n",
       "...                            ...                          ...                         ...                                                ...                                ...              ...        ...                                                ...           ...                                                ...                      ...             ...               ...                   ...                ...                                                ...                                                ...            ...\n",
       "55968   00003-2022-0-2402-JR-LA-02                 SALA LABORAL                     UCAYALI  CRUZ COBEÑAS MARLENY. BARBARAN RIOS ASELA ISAB...       SUELLEN Y. POPOLIZIO PANDURO      04/02/2022   ORDINARIO  \\n\\t\\t\\t\\t\\t\\t\\t\\t\\t\\t\\t\\t\\n\\t\\t\\t\\t\\t\\t\\t\\t\\t...       LABORAL                      DESNATURALIZACIÓN DE CONTRATO    SENTENCIADO/ RESUELTO         GENERAL                               RELATORIA            -------  INTERPONE DEMANDA DE DESNATURALIZACION DE CONT...  [CRUZ COBEÑAS MARLENY,  BARBARAN RIOS ASELA IS...              3\n",
       "56220   00012-2022-0-3301-JR-LA-01                 SALA LABORAL  PUENTE PIEDRA - VENTANILLA  CAMPOS MURILLO WALTER EDUARDO. ZUÑIGA HERRERA ...  HINOJOSA GRANADOS LAURA ESTHEFANY      14/01/2022   ORDINARIO  \\n\\t\\t\\t\\t\\t\\t\\t\\t\\t\\t\\t\\t\\n\\t\\t\\t\\t\\t\\t\\t\\t\\t...       LABORAL                      DESNATURALIZACIÓN DE CONTRATO  EN PLAZO DE IMPUGNACION         GENERAL                         SECRETARIA - MP            -------  RECONOCIMIENTO DE VINCULO LABORAL BAJO LOS ALC...  [CAMPOS MURILLO WALTER EDUARDO,  ZUÑIGA HERRER...              3\n",
       "56227   00018-2022-0-3301-JR-LA-01                 SALA LABORAL  PUENTE PIEDRA - VENTANILLA  CAMPOS MURILLO WALTER EDUARDO. ZUÑIGA HERRERA ...  HINOJOSA GRANADOS LAURA ESTHEFANY      18/01/2022   ORDINARIO  \\n\\t\\t\\t\\t\\t\\t\\t\\t\\t\\t\\t\\t\\n\\t\\t\\t\\t\\t\\t\\t\\t\\t...       LABORAL                      DESNATURALIZACIÓN DE CONTRATO    EN TRAMITE(Pendiente)         GENERAL                         SECRETARIA - MP            -------                       DEMANDA SOBRE INCUMPLIMIENTO  [CAMPOS MURILLO WALTER EDUARDO,  ZUÑIGA HERRER...              3\n",
       "56232   00022-2022-0-3301-JR-LA-01                 SALA LABORAL  PUENTE PIEDRA - VENTANILLA  CAMPOS MURILLO WALTER EDUARDO. ZUÑIGA HERRERA ...  HINOJOSA GRANADOS LAURA ESTHEFANY      22/01/2022   ORDINARIO  \\n\\t\\t\\t\\t\\t\\t\\t\\t\\t\\t\\t\\t\\n\\t\\t\\t\\t\\t\\t\\t\\t\\t...       LABORAL  INCUMPLIMIENTO DE DISPOSICIONES Y NORMAS LABOR...    EN TRAMITE(Pendiente)         GENERAL                         SECRETARIA - MP            -------   DESNATURALIZACION DEL CONTRATO DE TRABAJO Y OTRO  [CAMPOS MURILLO WALTER EDUARDO,  ZUÑIGA HERRER...              3\n",
       "56236   00029-2022-0-3301-JR-LA-01                 SALA LABORAL  PUENTE PIEDRA - VENTANILLA  CAMPOS MURILLO WALTER EDUARDO. ZUÑIGA HERRERA ...  HINOJOSA GRANADOS LAURA ESTHEFANY      28/01/2022   ORDINARIO  \\n\\t\\t\\t\\t\\t\\t\\t\\t\\t\\t\\t\\t\\n\\t\\t\\t\\t\\t\\t\\t\\t\\t...       LABORAL  PAGO DE BENEFICIOS SOCIALES Y/O INDEMNIZACION ...    EN TRAMITE(Pendiente)         GENERAL                                 VOCALIA            -------                        PAGO DE BENEFICIOS SOCIALES  [CAMPOS MURILLO WALTER EDUARDO,  ZUÑIGA HERRER...              3\n",
       "\n",
       "[943 rows x 18 columns]"
      ]
     },
     "execution_count": 46,
     "metadata": {},
     "output_type": "execute_result"
    }
   ],
   "source": [
    "multiple_judge_names"
   ]
  },
  {
   "cell_type": "code",
   "execution_count": 47,
   "id": "0f6cb645",
   "metadata": {
    "scrolled": true
   },
   "outputs": [
    {
     "name": "stderr",
     "output_type": "stream",
     "text": [
      "C:\\Users\\PC\\AppData\\Local\\Temp\\ipykernel_8360\\3036436396.py:1: SettingWithCopyWarning: \n",
      "A value is trying to be set on a copy of a slice from a DataFrame.\n",
      "Try using .loc[row_indexer,col_indexer] = value instead\n",
      "\n",
      "See the caveats in the documentation: https://pandas.pydata.org/pandas-docs/stable/user_guide/indexing.html#returning-a-view-versus-a-copy\n",
      "  multiple_judge_names.loc[:, \"juez_1\"] = multiple_judge_names[\"juez_splitted\"].apply(lambda row: row[0]).copy()\n",
      "C:\\Users\\PC\\AppData\\Local\\Temp\\ipykernel_8360\\3036436396.py:2: SettingWithCopyWarning: \n",
      "A value is trying to be set on a copy of a slice from a DataFrame.\n",
      "Try using .loc[row_indexer,col_indexer] = value instead\n",
      "\n",
      "See the caveats in the documentation: https://pandas.pydata.org/pandas-docs/stable/user_guide/indexing.html#returning-a-view-versus-a-copy\n",
      "  multiple_judge_names[\"juez_2\"] = multiple_judge_names[\"juez_splitted\"].apply(lambda row: row[1] if len(row) > 1 else np.NaN)\n",
      "C:\\Users\\PC\\AppData\\Local\\Temp\\ipykernel_8360\\3036436396.py:3: SettingWithCopyWarning: \n",
      "A value is trying to be set on a copy of a slice from a DataFrame.\n",
      "Try using .loc[row_indexer,col_indexer] = value instead\n",
      "\n",
      "See the caveats in the documentation: https://pandas.pydata.org/pandas-docs/stable/user_guide/indexing.html#returning-a-view-versus-a-copy\n",
      "  multiple_judge_names[\"juez_3\"] = multiple_judge_names[\"juez_splitted\"].apply(lambda row: row[2] if len(row) > 2 else np.NaN)\n",
      "C:\\Users\\PC\\AppData\\Local\\Temp\\ipykernel_8360\\3036436396.py:4: SettingWithCopyWarning: \n",
      "A value is trying to be set on a copy of a slice from a DataFrame.\n",
      "Try using .loc[row_indexer,col_indexer] = value instead\n",
      "\n",
      "See the caveats in the documentation: https://pandas.pydata.org/pandas-docs/stable/user_guide/indexing.html#returning-a-view-versus-a-copy\n",
      "  multiple_judge_names[\"juez_4\"] = multiple_judge_names[\"juez_splitted\"].apply(lambda row: row[3] if len(row) > 3 else np.NaN)\n",
      "C:\\Users\\PC\\AppData\\Local\\Temp\\ipykernel_8360\\3036436396.py:5: SettingWithCopyWarning: \n",
      "A value is trying to be set on a copy of a slice from a DataFrame.\n",
      "Try using .loc[row_indexer,col_indexer] = value instead\n",
      "\n",
      "See the caveats in the documentation: https://pandas.pydata.org/pandas-docs/stable/user_guide/indexing.html#returning-a-view-versus-a-copy\n",
      "  multiple_judge_names[\"juez_5\"] = multiple_judge_names[\"juez_splitted\"].apply(lambda row: row[4] if len(row) > 4 else np.NaN)\n",
      "C:\\Users\\PC\\AppData\\Local\\Temp\\ipykernel_8360\\3036436396.py:6: SettingWithCopyWarning: \n",
      "A value is trying to be set on a copy of a slice from a DataFrame.\n",
      "Try using .loc[row_indexer,col_indexer] = value instead\n",
      "\n",
      "See the caveats in the documentation: https://pandas.pydata.org/pandas-docs/stable/user_guide/indexing.html#returning-a-view-versus-a-copy\n",
      "  multiple_judge_names[\"juez_6\"] = multiple_judge_names[\"juez_splitted\"].apply(lambda row: row[5] if len(row) > 5 else np.NaN)\n"
     ]
    }
   ],
   "source": [
    "multiple_judge_names.loc[:, \"juez_1\"] = multiple_judge_names[\"juez_splitted\"].apply(lambda row: row[0]).copy()\n",
    "multiple_judge_names[\"juez_2\"] = multiple_judge_names[\"juez_splitted\"].apply(lambda row: row[1] if len(row) > 1 else np.NaN)\n",
    "multiple_judge_names[\"juez_3\"] = multiple_judge_names[\"juez_splitted\"].apply(lambda row: row[2] if len(row) > 2 else np.NaN)\n",
    "multiple_judge_names[\"juez_4\"] = multiple_judge_names[\"juez_splitted\"].apply(lambda row: row[3] if len(row) > 3 else np.NaN)\n",
    "multiple_judge_names[\"juez_5\"] = multiple_judge_names[\"juez_splitted\"].apply(lambda row: row[4] if len(row) > 4 else np.NaN)\n",
    "multiple_judge_names[\"juez_6\"] = multiple_judge_names[\"juez_splitted\"].apply(lambda row: row[5] if len(row) > 5 else np.NaN)"
   ]
  },
  {
   "cell_type": "code",
   "execution_count": 48,
   "id": "db8947b5",
   "metadata": {},
   "outputs": [
    {
     "data": {
      "text/plain": [
       "2540          ARTEAGA RAMIREZ FLORMIRA\n",
       "2548          ARTEAGA RAMIREZ FLORMIRA\n",
       "2565          ARTEAGA RAMIREZ FLORMIRA\n",
       "2603            TAFUR GUPIOC ESPERANZA\n",
       "2619          ARTEAGA RAMIREZ FLORMIRA\n",
       "                     ...              \n",
       "55968             CRUZ COBEÑAS MARLENY\n",
       "56220    CAMPOS MURILLO WALTER EDUARDO\n",
       "56227    CAMPOS MURILLO WALTER EDUARDO\n",
       "56232    CAMPOS MURILLO WALTER EDUARDO\n",
       "56236    CAMPOS MURILLO WALTER EDUARDO\n",
       "Name: juez_1, Length: 943, dtype: object"
      ]
     },
     "execution_count": 48,
     "metadata": {},
     "output_type": "execute_result"
    }
   ],
   "source": [
    "multiple_judge_names[\"juez_1\"]"
   ]
  },
  {
   "cell_type": "code",
   "execution_count": 49,
   "id": "7504afd1",
   "metadata": {},
   "outputs": [
    {
     "data": {
      "text/plain": [
       "2540         VIGIL CURO LUZ CAROLINA\n",
       "2548         VIGIL CURO LUZ CAROLINA\n",
       "2565        CRISPIN QUISPE ALEJANDRO\n",
       "2603         MARTINEZ CHASQUERO EDDY\n",
       "2619        CRISPIN QUISPE ALEJANDRO\n",
       "                    ...             \n",
       "55968     BARBARAN RIOS ASELA ISABEL\n",
       "56220     ZUÑIGA HERRERA ELICEA INES\n",
       "56227     ZUÑIGA HERRERA ELICEA INES\n",
       "56232     ZUÑIGA HERRERA ELICEA INES\n",
       "56236     ZUÑIGA HERRERA ELICEA INES\n",
       "Name: juez_2, Length: 943, dtype: object"
      ]
     },
     "execution_count": 49,
     "metadata": {},
     "output_type": "execute_result"
    }
   ],
   "source": [
    "multiple_judge_names[\"juez_2\"]"
   ]
  },
  {
   "cell_type": "code",
   "execution_count": 50,
   "id": "63556233",
   "metadata": {},
   "outputs": [],
   "source": [
    "judge_names = judge_names.rename(columns={\"juez_\": \"juez\"})"
   ]
  },
  {
   "cell_type": "code",
   "execution_count": 51,
   "id": "b8e67c1a",
   "metadata": {},
   "outputs": [
    {
     "data": {
      "text/html": [
       "<div>\n",
       "<style scoped>\n",
       "    .dataframe tbody tr th:only-of-type {\n",
       "        vertical-align: middle;\n",
       "    }\n",
       "\n",
       "    .dataframe tbody tr th {\n",
       "        vertical-align: top;\n",
       "    }\n",
       "\n",
       "    .dataframe thead th {\n",
       "        text-align: right;\n",
       "    }\n",
       "</style>\n",
       "<table border=\"1\" class=\"dataframe\">\n",
       "  <thead>\n",
       "    <tr style=\"text-align: right;\">\n",
       "      <th></th>\n",
       "      <th>expediente_n°_</th>\n",
       "      <th>organo_jurisdiccional_</th>\n",
       "      <th>distrito_judicial_</th>\n",
       "      <th>juez</th>\n",
       "      <th>especialista_legal_</th>\n",
       "      <th>fecha_de_inicio_</th>\n",
       "      <th>proceso_</th>\n",
       "      <th>observacion_</th>\n",
       "      <th>especialidad_</th>\n",
       "      <th>materia_s_</th>\n",
       "      <th>estado_</th>\n",
       "      <th>etapa_procesal_</th>\n",
       "      <th>fecha_conclusion_</th>\n",
       "      <th>ubicacion_</th>\n",
       "      <th>motivo_conclusion_</th>\n",
       "      <th>sumilla_</th>\n",
       "      <th>juez_splitted</th>\n",
       "      <th>n_judges_case</th>\n",
       "    </tr>\n",
       "  </thead>\n",
       "  <tbody>\n",
       "    <tr>\n",
       "      <th>0</th>\n",
       "      <td>00001-2022-0-0101-JP-CI-01</td>\n",
       "      <td>JUZGADO DE PAZ LETRADO - Leymebamba</td>\n",
       "      <td>AMAZONAS</td>\n",
       "      <td>PISCOYA SOSA ALDO FRANCISCO</td>\n",
       "      <td>ROJAS SILVA EDA</td>\n",
       "      <td>14/01/2022</td>\n",
       "      <td>NO CONTENCIOSO</td>\n",
       "      <td>\\n\\t\\t\\t\\t\\t\\t\\t\\t\\t\\t\\t\\t\\n\\t\\t\\t\\t\\t\\t\\t\\t\\t...</td>\n",
       "      <td>CIVIL</td>\n",
       "      <td>SUCESION INTESTADA</td>\n",
       "      <td>ARCHIVO DEFINITIVO</td>\n",
       "      <td>GENERAL</td>\n",
       "      <td></td>\n",
       "      <td>ARCHIVO GENERAL</td>\n",
       "      <td>-------</td>\n",
       "      <td>SUCESION INTESTADA</td>\n",
       "      <td>[PISCOYA SOSA ALDO FRANCISCO]</td>\n",
       "      <td>1</td>\n",
       "    </tr>\n",
       "    <tr>\n",
       "      <th>1</th>\n",
       "      <td>00001-2022-0-0102-JP-CI-01</td>\n",
       "      <td>JUZGADO PAZ LETRADO - Imaza</td>\n",
       "      <td>AMAZONAS</td>\n",
       "      <td>VEGA BOCANEGRA BETO</td>\n",
       "      <td>GARCIA ODAR JOSE ALFREDO</td>\n",
       "      <td>27/01/2022</td>\n",
       "      <td>SUMARISIMO</td>\n",
       "      <td>\\n\\t\\t\\t\\t\\t\\t\\t\\t\\t\\t\\t\\t\\n\\t\\t\\t\\t\\t\\t\\t\\t\\t...</td>\n",
       "      <td>CIVIL</td>\n",
       "      <td>OBLIGACION DE DAR SUMA DE DINERO</td>\n",
       "      <td>TRAMITE</td>\n",
       "      <td>GENERAL</td>\n",
       "      <td></td>\n",
       "      <td>ESPECIALISTA</td>\n",
       "      <td>-------</td>\n",
       "      <td>DEMANDA DE OBLIGACION DE DAR SUMA DE DINERO</td>\n",
       "      <td>[VEGA BOCANEGRA BETO]</td>\n",
       "      <td>1</td>\n",
       "    </tr>\n",
       "    <tr>\n",
       "      <th>2</th>\n",
       "      <td>00001-2022-0-0103-JP-CI-01</td>\n",
       "      <td>JUZGADO DE PAZ LETRADO - FLORIDA</td>\n",
       "      <td>AMAZONAS</td>\n",
       "      <td>LOLO JARA ESTELA</td>\n",
       "      <td>DAVILA HORNA HERMES WILMAN</td>\n",
       "      <td>10/01/2022</td>\n",
       "      <td>NO CONTENCIOSO</td>\n",
       "      <td>\\n\\t\\t\\t\\t\\t\\t\\t\\t\\t\\t\\t\\t\\n\\t\\t\\t\\t\\t\\t\\t\\t\\t...</td>\n",
       "      <td>CIVIL</td>\n",
       "      <td>SUCESION INTESTADA</td>\n",
       "      <td>ARCHIVO PROVISIONAL</td>\n",
       "      <td>GENERAL</td>\n",
       "      <td></td>\n",
       "      <td>POOL ASIST. JUDICIAL</td>\n",
       "      <td>-------</td>\n",
       "      <td>SUCESION INTESTADA</td>\n",
       "      <td>[LOLO JARA ESTELA]</td>\n",
       "      <td>1</td>\n",
       "    </tr>\n",
       "    <tr>\n",
       "      <th>3</th>\n",
       "      <td>00001-2022-0-0104-JP-CI-01</td>\n",
       "      <td>JUZGADO PAZ LETRADO - Sede Yutupis</td>\n",
       "      <td>AMAZONAS</td>\n",
       "      <td>HUAMAN CULQUI IRMA MERCEDES</td>\n",
       "      <td>ELORRIAGA CHAVEZ ROMINA PAOLA</td>\n",
       "      <td>16/03/2022</td>\n",
       "      <td>UNICO DE EJECUCION</td>\n",
       "      <td>\\n\\t\\t\\t\\t\\t\\t\\t\\t\\t\\t\\t\\t\\n\\t\\t\\t\\t\\t\\t\\t\\t\\t...</td>\n",
       "      <td>CIVIL</td>\n",
       "      <td>OBLIGACION DE DAR SUMA DE DINERO</td>\n",
       "      <td>EN PLAZO DE IMPUGNACION</td>\n",
       "      <td>GENERAL</td>\n",
       "      <td></td>\n",
       "      <td>POOL ASIST. JUDICIAL</td>\n",
       "      <td>-------</td>\n",
       "      <td>DEMANDA OBLIGACION DE DAR SUMA DE DINERO</td>\n",
       "      <td>[HUAMAN CULQUI IRMA MERCEDES]</td>\n",
       "      <td>1</td>\n",
       "    </tr>\n",
       "    <tr>\n",
       "      <th>4</th>\n",
       "      <td>00001-2022-0-0105-JP-CI-01</td>\n",
       "      <td>JUZGADO DE PAZ LETRADO - Sede Luya</td>\n",
       "      <td>AMAZONAS</td>\n",
       "      <td>BARRERA BARDALES GUIMO ALBERTO</td>\n",
       "      <td>ANGULO CULLAMPE LIZETH DEL CARMEN</td>\n",
       "      <td>06/01/2022</td>\n",
       "      <td>NO CONTENCIOSO</td>\n",
       "      <td>\\n\\t\\t\\t\\t\\t\\t\\t\\t\\t\\t\\t\\t\\n\\t\\t\\t\\t\\t\\t\\t\\t\\t...</td>\n",
       "      <td>CIVIL</td>\n",
       "      <td>SUCESION INTESTADA</td>\n",
       "      <td>SENTENCIADO/ RESUELTO</td>\n",
       "      <td>GENERAL</td>\n",
       "      <td></td>\n",
       "      <td>POOL ASIST. JUDICIAL</td>\n",
       "      <td>-------</td>\n",
       "      <td>DEMANDA DE SUCESIÓN INTESTADA</td>\n",
       "      <td>[BARRERA BARDALES GUIMO ALBERTO]</td>\n",
       "      <td>1</td>\n",
       "    </tr>\n",
       "    <tr>\n",
       "      <th>...</th>\n",
       "      <td>...</td>\n",
       "      <td>...</td>\n",
       "      <td>...</td>\n",
       "      <td>...</td>\n",
       "      <td>...</td>\n",
       "      <td>...</td>\n",
       "      <td>...</td>\n",
       "      <td>...</td>\n",
       "      <td>...</td>\n",
       "      <td>...</td>\n",
       "      <td>...</td>\n",
       "      <td>...</td>\n",
       "      <td>...</td>\n",
       "      <td>...</td>\n",
       "      <td>...</td>\n",
       "      <td>...</td>\n",
       "      <td>...</td>\n",
       "      <td>...</td>\n",
       "    </tr>\n",
       "    <tr>\n",
       "      <th>56241</th>\n",
       "      <td>00006-2022-0-3301-JR-LA-01</td>\n",
       "      <td>JUZGADO DE TRABAJO</td>\n",
       "      <td>PUENTE PIEDRA - VENTANILLA</td>\n",
       "      <td>POMA ALOSILLA NARDA KATHERINE</td>\n",
       "      <td>SALDAÑA GONZALEZ ADRIANA A.</td>\n",
       "      <td>06/01/2022</td>\n",
       "      <td>ORDINARIO</td>\n",
       "      <td>\\n\\t\\t\\t\\t\\t\\t\\t\\t\\t\\t\\t\\t\\n\\t\\t\\t\\t\\t\\t\\t\\t\\t...</td>\n",
       "      <td>LABORAL</td>\n",
       "      <td>PAGO DE BENEFICIOS SOCIALES Y/O INDEMNIZACION ...</td>\n",
       "      <td>EN TRAMITE(Pendiente)</td>\n",
       "      <td>GENERAL</td>\n",
       "      <td></td>\n",
       "      <td>POOL ASIST. JUDICIAL</td>\n",
       "      <td>-------</td>\n",
       "      <td>PAGO DE BENEFICIOS SOCIALES</td>\n",
       "      <td>[POMA ALOSILLA NARDA KATHERINE]</td>\n",
       "      <td>1</td>\n",
       "    </tr>\n",
       "    <tr>\n",
       "      <th>56242</th>\n",
       "      <td>00007-2022-0-3301-JP-LA-01</td>\n",
       "      <td>JUZGADO DE TRABAJO</td>\n",
       "      <td>PUENTE PIEDRA - VENTANILLA</td>\n",
       "      <td>POMA ALOSILLA NARDA KATHERINE</td>\n",
       "      <td>SALDAÑA GONZALEZ ADRIANA A.</td>\n",
       "      <td>07/01/2022</td>\n",
       "      <td>ABREVIADO</td>\n",
       "      <td>\\n\\t\\t\\t\\t\\t\\t\\t\\t\\t\\t\\t\\t\\n\\t\\t\\t\\t\\t\\t\\t\\t\\t...</td>\n",
       "      <td>LABORAL</td>\n",
       "      <td>PAGO DE BENEFICIOS SOCIALES Y/O INDEMNIZACION ...</td>\n",
       "      <td>EN TRAMITE(Pendiente)</td>\n",
       "      <td>GENERAL</td>\n",
       "      <td></td>\n",
       "      <td>POOL ASIST.  DE AUDIO</td>\n",
       "      <td>-------</td>\n",
       "      <td>PAGO DE BENEFICIOS LABORALES</td>\n",
       "      <td>[POMA ALOSILLA NARDA KATHERINE]</td>\n",
       "      <td>1</td>\n",
       "    </tr>\n",
       "    <tr>\n",
       "      <th>56243</th>\n",
       "      <td>00007-2022-0-3301-JR-LA-01</td>\n",
       "      <td>JUZGADO DE TRABAJO</td>\n",
       "      <td>PUENTE PIEDRA - VENTANILLA</td>\n",
       "      <td>POMA ALOSILLA NARDA KATHERINE</td>\n",
       "      <td>SALDAÑA GONZALEZ ADRIANA A.</td>\n",
       "      <td>07/01/2022</td>\n",
       "      <td>ORDINARIO</td>\n",
       "      <td>\\n\\t\\t\\t\\t\\t\\t\\t\\t\\t\\t\\t\\t\\n\\t\\t\\t\\t\\t\\t\\t\\t\\t...</td>\n",
       "      <td>LABORAL</td>\n",
       "      <td>DESNATURALIZACIÓN DE CONTRATO</td>\n",
       "      <td>EN TRAMITE(Pendiente)</td>\n",
       "      <td>GENERAL</td>\n",
       "      <td></td>\n",
       "      <td>ESPECIALISTA</td>\n",
       "      <td>-------</td>\n",
       "      <td>INTERPONGO DEMANDA POR DESNATURALIZACION DE CO...</td>\n",
       "      <td>[POMA ALOSILLA NARDA KATHERINE]</td>\n",
       "      <td>1</td>\n",
       "    </tr>\n",
       "    <tr>\n",
       "      <th>56244</th>\n",
       "      <td>00008-2022-0-3301-JR-LA-01</td>\n",
       "      <td>JUZGADO DE TRABAJO</td>\n",
       "      <td>PUENTE PIEDRA - VENTANILLA</td>\n",
       "      <td>POMA ALOSILLA NARDA KATHERINE</td>\n",
       "      <td>SALDAÑA GONZALEZ ADRIANA A.</td>\n",
       "      <td>11/01/2022</td>\n",
       "      <td>ORDINARIO</td>\n",
       "      <td>\\n\\t\\t\\t\\t\\t\\t\\t\\t\\t\\t\\t\\t\\n\\t\\t\\t\\t\\t\\t\\t\\t\\t...</td>\n",
       "      <td>LABORAL</td>\n",
       "      <td>INCUMPLIMIENTO DE DISPOSICIONES Y NORMAS LABOR...</td>\n",
       "      <td>EN TRAMITE(Pendiente)</td>\n",
       "      <td>GENERAL</td>\n",
       "      <td></td>\n",
       "      <td>POOL ASIST.  DE AUDIO</td>\n",
       "      <td>-------</td>\n",
       "      <td>DEMANDA SOBRE INCUMPLIMIENTO</td>\n",
       "      <td>[POMA ALOSILLA NARDA KATHERINE]</td>\n",
       "      <td>1</td>\n",
       "    </tr>\n",
       "    <tr>\n",
       "      <th>56245</th>\n",
       "      <td>00009-2022-0-3301-JR-LA-01</td>\n",
       "      <td>JUZGADO DE TRABAJO</td>\n",
       "      <td>PUENTE PIEDRA - VENTANILLA</td>\n",
       "      <td>POMA ALOSILLA NARDA KATHERINE</td>\n",
       "      <td>ROMAN AMPUERO SUSANA</td>\n",
       "      <td>12/01/2022</td>\n",
       "      <td>ORDINARIO</td>\n",
       "      <td>\\n\\t\\t\\t\\t\\t\\t\\t\\t\\t\\t\\t\\t\\n\\t\\t\\t\\t\\t\\t\\t\\t\\t...</td>\n",
       "      <td>LABORAL</td>\n",
       "      <td>DESNATURALIZACIÓN DE CONTRATO</td>\n",
       "      <td>ARCHIVO DEFINITIVO</td>\n",
       "      <td>GENERAL</td>\n",
       "      <td></td>\n",
       "      <td>POOL ASIST. JUDICIAL</td>\n",
       "      <td>-------</td>\n",
       "      <td>DEMANDA DE DESNATURALIZACION E INVALIDEZ DE CO...</td>\n",
       "      <td>[POMA ALOSILLA NARDA KATHERINE]</td>\n",
       "      <td>1</td>\n",
       "    </tr>\n",
       "  </tbody>\n",
       "</table>\n",
       "<p>53590 rows × 18 columns</p>\n",
       "</div>"
      ],
      "text/plain": [
       "                   expediente_n°_               organo_jurisdiccional_          distrito_judicial_                            juez                especialista_legal_ fecha_de_inicio_            proceso_                                       observacion_ especialidad_                                         materia_s_                  estado_ etapa_procesal_ fecha_conclusion_             ubicacion_ motivo_conclusion_                                           sumilla_                     juez_splitted  n_judges_case\n",
       "0      00001-2022-0-0101-JP-CI-01  JUZGADO DE PAZ LETRADO - Leymebamba                    AMAZONAS     PISCOYA SOSA ALDO FRANCISCO                    ROJAS SILVA EDA      14/01/2022       NO CONTENCIOSO  \\n\\t\\t\\t\\t\\t\\t\\t\\t\\t\\t\\t\\t\\n\\t\\t\\t\\t\\t\\t\\t\\t\\t...         CIVIL                                 SUCESION INTESTADA       ARCHIVO DEFINITIVO         GENERAL                          ARCHIVO GENERAL            -------                                 SUCESION INTESTADA     [PISCOYA SOSA ALDO FRANCISCO]              1\n",
       "1      00001-2022-0-0102-JP-CI-01          JUZGADO PAZ LETRADO - Imaza                    AMAZONAS             VEGA BOCANEGRA BETO           GARCIA ODAR JOSE ALFREDO      27/01/2022           SUMARISIMO  \\n\\t\\t\\t\\t\\t\\t\\t\\t\\t\\t\\t\\t\\n\\t\\t\\t\\t\\t\\t\\t\\t\\t...         CIVIL                   OBLIGACION DE DAR SUMA DE DINERO                  TRAMITE         GENERAL                             ESPECIALISTA            -------        DEMANDA DE OBLIGACION DE DAR SUMA DE DINERO             [VEGA BOCANEGRA BETO]              1\n",
       "2      00001-2022-0-0103-JP-CI-01     JUZGADO DE PAZ LETRADO - FLORIDA                    AMAZONAS                LOLO JARA ESTELA         DAVILA HORNA HERMES WILMAN      10/01/2022       NO CONTENCIOSO  \\n\\t\\t\\t\\t\\t\\t\\t\\t\\t\\t\\t\\t\\n\\t\\t\\t\\t\\t\\t\\t\\t\\t...         CIVIL                                 SUCESION INTESTADA      ARCHIVO PROVISIONAL         GENERAL                     POOL ASIST. JUDICIAL            -------                                 SUCESION INTESTADA                [LOLO JARA ESTELA]              1\n",
       "3      00001-2022-0-0104-JP-CI-01   JUZGADO PAZ LETRADO - Sede Yutupis                    AMAZONAS     HUAMAN CULQUI IRMA MERCEDES      ELORRIAGA CHAVEZ ROMINA PAOLA      16/03/2022   UNICO DE EJECUCION  \\n\\t\\t\\t\\t\\t\\t\\t\\t\\t\\t\\t\\t\\n\\t\\t\\t\\t\\t\\t\\t\\t\\t...         CIVIL                   OBLIGACION DE DAR SUMA DE DINERO  EN PLAZO DE IMPUGNACION         GENERAL                     POOL ASIST. JUDICIAL            -------           DEMANDA OBLIGACION DE DAR SUMA DE DINERO     [HUAMAN CULQUI IRMA MERCEDES]              1\n",
       "4      00001-2022-0-0105-JP-CI-01   JUZGADO DE PAZ LETRADO - Sede Luya                    AMAZONAS  BARRERA BARDALES GUIMO ALBERTO  ANGULO CULLAMPE LIZETH DEL CARMEN      06/01/2022       NO CONTENCIOSO  \\n\\t\\t\\t\\t\\t\\t\\t\\t\\t\\t\\t\\t\\n\\t\\t\\t\\t\\t\\t\\t\\t\\t...         CIVIL                                 SUCESION INTESTADA    SENTENCIADO/ RESUELTO         GENERAL                     POOL ASIST. JUDICIAL            -------                      DEMANDA DE SUCESIÓN INTESTADA  [BARRERA BARDALES GUIMO ALBERTO]              1\n",
       "...                           ...                                  ...                         ...                             ...                                ...              ...                 ...                                                ...           ...                                                ...                      ...             ...               ...                    ...                ...                                                ...                               ...            ...\n",
       "56241  00006-2022-0-3301-JR-LA-01                   JUZGADO DE TRABAJO  PUENTE PIEDRA - VENTANILLA   POMA ALOSILLA NARDA KATHERINE        SALDAÑA GONZALEZ ADRIANA A.      06/01/2022            ORDINARIO  \\n\\t\\t\\t\\t\\t\\t\\t\\t\\t\\t\\t\\t\\n\\t\\t\\t\\t\\t\\t\\t\\t\\t...       LABORAL  PAGO DE BENEFICIOS SOCIALES Y/O INDEMNIZACION ...    EN TRAMITE(Pendiente)         GENERAL                     POOL ASIST. JUDICIAL            -------                        PAGO DE BENEFICIOS SOCIALES   [POMA ALOSILLA NARDA KATHERINE]              1\n",
       "56242  00007-2022-0-3301-JP-LA-01                   JUZGADO DE TRABAJO  PUENTE PIEDRA - VENTANILLA   POMA ALOSILLA NARDA KATHERINE        SALDAÑA GONZALEZ ADRIANA A.      07/01/2022            ABREVIADO  \\n\\t\\t\\t\\t\\t\\t\\t\\t\\t\\t\\t\\t\\n\\t\\t\\t\\t\\t\\t\\t\\t\\t...       LABORAL  PAGO DE BENEFICIOS SOCIALES Y/O INDEMNIZACION ...    EN TRAMITE(Pendiente)         GENERAL                    POOL ASIST.  DE AUDIO            -------                       PAGO DE BENEFICIOS LABORALES   [POMA ALOSILLA NARDA KATHERINE]              1\n",
       "56243  00007-2022-0-3301-JR-LA-01                   JUZGADO DE TRABAJO  PUENTE PIEDRA - VENTANILLA   POMA ALOSILLA NARDA KATHERINE        SALDAÑA GONZALEZ ADRIANA A.      07/01/2022            ORDINARIO  \\n\\t\\t\\t\\t\\t\\t\\t\\t\\t\\t\\t\\t\\n\\t\\t\\t\\t\\t\\t\\t\\t\\t...       LABORAL                      DESNATURALIZACIÓN DE CONTRATO    EN TRAMITE(Pendiente)         GENERAL                             ESPECIALISTA            -------  INTERPONGO DEMANDA POR DESNATURALIZACION DE CO...   [POMA ALOSILLA NARDA KATHERINE]              1\n",
       "56244  00008-2022-0-3301-JR-LA-01                   JUZGADO DE TRABAJO  PUENTE PIEDRA - VENTANILLA   POMA ALOSILLA NARDA KATHERINE        SALDAÑA GONZALEZ ADRIANA A.      11/01/2022            ORDINARIO  \\n\\t\\t\\t\\t\\t\\t\\t\\t\\t\\t\\t\\t\\n\\t\\t\\t\\t\\t\\t\\t\\t\\t...       LABORAL  INCUMPLIMIENTO DE DISPOSICIONES Y NORMAS LABOR...    EN TRAMITE(Pendiente)         GENERAL                    POOL ASIST.  DE AUDIO            -------                       DEMANDA SOBRE INCUMPLIMIENTO   [POMA ALOSILLA NARDA KATHERINE]              1\n",
       "56245  00009-2022-0-3301-JR-LA-01                   JUZGADO DE TRABAJO  PUENTE PIEDRA - VENTANILLA   POMA ALOSILLA NARDA KATHERINE               ROMAN AMPUERO SUSANA      12/01/2022            ORDINARIO  \\n\\t\\t\\t\\t\\t\\t\\t\\t\\t\\t\\t\\t\\n\\t\\t\\t\\t\\t\\t\\t\\t\\t...       LABORAL                      DESNATURALIZACIÓN DE CONTRATO       ARCHIVO DEFINITIVO         GENERAL                     POOL ASIST. JUDICIAL            -------  DEMANDA DE DESNATURALIZACION E INVALIDEZ DE CO...   [POMA ALOSILLA NARDA KATHERINE]              1\n",
       "\n",
       "[53590 rows x 18 columns]"
      ]
     },
     "execution_count": 51,
     "metadata": {},
     "output_type": "execute_result"
    }
   ],
   "source": [
    "judge_names"
   ]
  },
  {
   "cell_type": "markdown",
   "id": "e8c02897",
   "metadata": {},
   "source": [
    "### 2.5. Fuzzy merge with Lab Experiment Data"
   ]
  },
  {
   "cell_type": "markdown",
   "id": "201e975b",
   "metadata": {},
   "source": [
    "Keeping for the fuzzy merge only obs that can't be matched directly"
   ]
  },
  {
   "cell_type": "code",
   "execution_count": 52,
   "id": "13c476a9",
   "metadata": {
    "scrolled": true
   },
   "outputs": [],
   "source": [
    "judge_names_only = judge_names[\"juez\"].reset_index()\n",
    "judge_names_only = judge_names_only.drop_duplicates(subset=[\"juez\"])"
   ]
  },
  {
   "cell_type": "code",
   "execution_count": 53,
   "id": "a6ec5814",
   "metadata": {},
   "outputs": [
    {
     "data": {
      "text/html": [
       "<div>\n",
       "<style scoped>\n",
       "    .dataframe tbody tr th:only-of-type {\n",
       "        vertical-align: middle;\n",
       "    }\n",
       "\n",
       "    .dataframe tbody tr th {\n",
       "        vertical-align: top;\n",
       "    }\n",
       "\n",
       "    .dataframe thead th {\n",
       "        text-align: right;\n",
       "    }\n",
       "</style>\n",
       "<table border=\"1\" class=\"dataframe\">\n",
       "  <thead>\n",
       "    <tr style=\"text-align: right;\">\n",
       "      <th></th>\n",
       "      <th>index</th>\n",
       "      <th>juez</th>\n",
       "    </tr>\n",
       "  </thead>\n",
       "  <tbody>\n",
       "    <tr>\n",
       "      <th>0</th>\n",
       "      <td>0</td>\n",
       "      <td>PISCOYA SOSA ALDO FRANCISCO</td>\n",
       "    </tr>\n",
       "    <tr>\n",
       "      <th>1</th>\n",
       "      <td>1</td>\n",
       "      <td>VEGA BOCANEGRA BETO</td>\n",
       "    </tr>\n",
       "    <tr>\n",
       "      <th>2</th>\n",
       "      <td>2</td>\n",
       "      <td>LOLO JARA ESTELA</td>\n",
       "    </tr>\n",
       "    <tr>\n",
       "      <th>3</th>\n",
       "      <td>3</td>\n",
       "      <td>HUAMAN CULQUI IRMA MERCEDES</td>\n",
       "    </tr>\n",
       "    <tr>\n",
       "      <th>4</th>\n",
       "      <td>4</td>\n",
       "      <td>BARRERA BARDALES GUIMO ALBERTO</td>\n",
       "    </tr>\n",
       "    <tr>\n",
       "      <th>...</th>\n",
       "      <td>...</td>\n",
       "      <td>...</td>\n",
       "    </tr>\n",
       "    <tr>\n",
       "      <th>53490</th>\n",
       "      <td>56140</td>\n",
       "      <td>YOLANDA PETRONILA CAMPOS  SOTELO</td>\n",
       "    </tr>\n",
       "    <tr>\n",
       "      <th>53493</th>\n",
       "      <td>56143</td>\n",
       "      <td>FLORES CALDERON PAMELA DESIRE</td>\n",
       "    </tr>\n",
       "    <tr>\n",
       "      <th>53496</th>\n",
       "      <td>56146</td>\n",
       "      <td>KATHERINE LA ROSA CASTILLO</td>\n",
       "    </tr>\n",
       "    <tr>\n",
       "      <th>53499</th>\n",
       "      <td>56150</td>\n",
       "      <td>MIRANDA SARMIENTO LUZ CRISTINA</td>\n",
       "    </tr>\n",
       "    <tr>\n",
       "      <th>53508</th>\n",
       "      <td>56159</td>\n",
       "      <td>CASTILLA MALCA LUIS HUMBERTO</td>\n",
       "    </tr>\n",
       "  </tbody>\n",
       "</table>\n",
       "<p>784 rows × 2 columns</p>\n",
       "</div>"
      ],
      "text/plain": [
       "       index                              juez\n",
       "0          0       PISCOYA SOSA ALDO FRANCISCO\n",
       "1          1               VEGA BOCANEGRA BETO\n",
       "2          2                  LOLO JARA ESTELA\n",
       "3          3       HUAMAN CULQUI IRMA MERCEDES\n",
       "4          4    BARRERA BARDALES GUIMO ALBERTO\n",
       "...      ...                               ...\n",
       "53490  56140  YOLANDA PETRONILA CAMPOS  SOTELO\n",
       "53493  56143     FLORES CALDERON PAMELA DESIRE\n",
       "53496  56146        KATHERINE LA ROSA CASTILLO\n",
       "53499  56150    MIRANDA SARMIENTO LUZ CRISTINA\n",
       "53508  56159      CASTILLA MALCA LUIS HUMBERTO\n",
       "\n",
       "[784 rows x 2 columns]"
      ]
     },
     "execution_count": 53,
     "metadata": {},
     "output_type": "execute_result"
    }
   ],
   "source": [
    "judge_names_only"
   ]
  },
  {
   "cell_type": "code",
   "execution_count": 54,
   "id": "8460fe72",
   "metadata": {
    "scrolled": true
   },
   "outputs": [],
   "source": [
    "nombre_apellido_merge = pd.merge(judge_names_only, exp_participants, left_on=\"juez\", right_on=\"participant_nombre_apellido\")"
   ]
  },
  {
   "cell_type": "code",
   "execution_count": 55,
   "id": "96efc301",
   "metadata": {},
   "outputs": [
    {
     "data": {
      "text/html": [
       "<div>\n",
       "<style scoped>\n",
       "    .dataframe tbody tr th:only-of-type {\n",
       "        vertical-align: middle;\n",
       "    }\n",
       "\n",
       "    .dataframe tbody tr th {\n",
       "        vertical-align: top;\n",
       "    }\n",
       "\n",
       "    .dataframe thead th {\n",
       "        text-align: right;\n",
       "    }\n",
       "</style>\n",
       "<table border=\"1\" class=\"dataframe\">\n",
       "  <thead>\n",
       "    <tr style=\"text-align: right;\">\n",
       "      <th></th>\n",
       "      <th>index</th>\n",
       "      <th>juez</th>\n",
       "      <th>nrodocumento</th>\n",
       "      <th>participant_nombre_apellido</th>\n",
       "      <th>participant_apellido_nombre</th>\n",
       "    </tr>\n",
       "  </thead>\n",
       "  <tbody>\n",
       "    <tr>\n",
       "      <th>0</th>\n",
       "      <td>26886</td>\n",
       "      <td>LUIS ALVIN QUISPE SANCHEZ</td>\n",
       "      <td>41929968</td>\n",
       "      <td>LUIS ALVIN QUISPE SANCHEZ</td>\n",
       "      <td>QUISPE SANCHEZ LUIS ALVIN</td>\n",
       "    </tr>\n",
       "    <tr>\n",
       "      <th>1</th>\n",
       "      <td>45112</td>\n",
       "      <td>AMPARO BEATRIZ RODRIGUEZ CASTILLO</td>\n",
       "      <td>18090278</td>\n",
       "      <td>AMPARO BEATRIZ RODRIGUEZ CASTILLO</td>\n",
       "      <td>RODRIGUEZ CASTILLO AMPARO BEATRIZ</td>\n",
       "    </tr>\n",
       "    <tr>\n",
       "      <th>2</th>\n",
       "      <td>47010</td>\n",
       "      <td>FELIX ENRIQUE RAMIREZ SANCHEZ</td>\n",
       "      <td>18135223</td>\n",
       "      <td>FELIX ENRIQUE RAMIREZ SANCHEZ</td>\n",
       "      <td>RAMIREZ SANCHEZ FELIX ENRIQUE</td>\n",
       "    </tr>\n",
       "    <tr>\n",
       "      <th>3</th>\n",
       "      <td>52934</td>\n",
       "      <td>JUAN MANUEL FLORES SANCHEZ</td>\n",
       "      <td>1325221</td>\n",
       "      <td>JUAN MANUEL FLORES SANCHEZ</td>\n",
       "      <td>FLORES SANCHEZ JUAN MANUEL</td>\n",
       "    </tr>\n",
       "  </tbody>\n",
       "</table>\n",
       "</div>"
      ],
      "text/plain": [
       "   index                               juez  nrodocumento        participant_nombre_apellido        participant_apellido_nombre\n",
       "0  26886          LUIS ALVIN QUISPE SANCHEZ      41929968          LUIS ALVIN QUISPE SANCHEZ          QUISPE SANCHEZ LUIS ALVIN\n",
       "1  45112  AMPARO BEATRIZ RODRIGUEZ CASTILLO      18090278  AMPARO BEATRIZ RODRIGUEZ CASTILLO  RODRIGUEZ CASTILLO AMPARO BEATRIZ\n",
       "2  47010      FELIX ENRIQUE RAMIREZ SANCHEZ      18135223      FELIX ENRIQUE RAMIREZ SANCHEZ      RAMIREZ SANCHEZ FELIX ENRIQUE\n",
       "3  52934         JUAN MANUEL FLORES SANCHEZ       1325221         JUAN MANUEL FLORES SANCHEZ         FLORES SANCHEZ JUAN MANUEL"
      ]
     },
     "execution_count": 55,
     "metadata": {},
     "output_type": "execute_result"
    }
   ],
   "source": [
    "nombre_apellido_merge"
   ]
  },
  {
   "cell_type": "code",
   "execution_count": 56,
   "id": "97fdae03",
   "metadata": {},
   "outputs": [],
   "source": [
    "nombre_apellido_merge = nombre_apellido_merge.drop_duplicates(subset=[\"juez\"])"
   ]
  },
  {
   "cell_type": "code",
   "execution_count": 57,
   "id": "81f99795",
   "metadata": {},
   "outputs": [
    {
     "data": {
      "text/html": [
       "<div>\n",
       "<style scoped>\n",
       "    .dataframe tbody tr th:only-of-type {\n",
       "        vertical-align: middle;\n",
       "    }\n",
       "\n",
       "    .dataframe tbody tr th {\n",
       "        vertical-align: top;\n",
       "    }\n",
       "\n",
       "    .dataframe thead th {\n",
       "        text-align: right;\n",
       "    }\n",
       "</style>\n",
       "<table border=\"1\" class=\"dataframe\">\n",
       "  <thead>\n",
       "    <tr style=\"text-align: right;\">\n",
       "      <th></th>\n",
       "      <th>index</th>\n",
       "      <th>juez</th>\n",
       "      <th>nrodocumento</th>\n",
       "      <th>participant_nombre_apellido</th>\n",
       "      <th>participant_apellido_nombre</th>\n",
       "    </tr>\n",
       "  </thead>\n",
       "  <tbody>\n",
       "    <tr>\n",
       "      <th>0</th>\n",
       "      <td>26886</td>\n",
       "      <td>LUIS ALVIN QUISPE SANCHEZ</td>\n",
       "      <td>41929968</td>\n",
       "      <td>LUIS ALVIN QUISPE SANCHEZ</td>\n",
       "      <td>QUISPE SANCHEZ LUIS ALVIN</td>\n",
       "    </tr>\n",
       "    <tr>\n",
       "      <th>1</th>\n",
       "      <td>45112</td>\n",
       "      <td>AMPARO BEATRIZ RODRIGUEZ CASTILLO</td>\n",
       "      <td>18090278</td>\n",
       "      <td>AMPARO BEATRIZ RODRIGUEZ CASTILLO</td>\n",
       "      <td>RODRIGUEZ CASTILLO AMPARO BEATRIZ</td>\n",
       "    </tr>\n",
       "    <tr>\n",
       "      <th>2</th>\n",
       "      <td>47010</td>\n",
       "      <td>FELIX ENRIQUE RAMIREZ SANCHEZ</td>\n",
       "      <td>18135223</td>\n",
       "      <td>FELIX ENRIQUE RAMIREZ SANCHEZ</td>\n",
       "      <td>RAMIREZ SANCHEZ FELIX ENRIQUE</td>\n",
       "    </tr>\n",
       "    <tr>\n",
       "      <th>3</th>\n",
       "      <td>52934</td>\n",
       "      <td>JUAN MANUEL FLORES SANCHEZ</td>\n",
       "      <td>1325221</td>\n",
       "      <td>JUAN MANUEL FLORES SANCHEZ</td>\n",
       "      <td>FLORES SANCHEZ JUAN MANUEL</td>\n",
       "    </tr>\n",
       "  </tbody>\n",
       "</table>\n",
       "</div>"
      ],
      "text/plain": [
       "   index                               juez  nrodocumento        participant_nombre_apellido        participant_apellido_nombre\n",
       "0  26886          LUIS ALVIN QUISPE SANCHEZ      41929968          LUIS ALVIN QUISPE SANCHEZ          QUISPE SANCHEZ LUIS ALVIN\n",
       "1  45112  AMPARO BEATRIZ RODRIGUEZ CASTILLO      18090278  AMPARO BEATRIZ RODRIGUEZ CASTILLO  RODRIGUEZ CASTILLO AMPARO BEATRIZ\n",
       "2  47010      FELIX ENRIQUE RAMIREZ SANCHEZ      18135223      FELIX ENRIQUE RAMIREZ SANCHEZ      RAMIREZ SANCHEZ FELIX ENRIQUE\n",
       "3  52934         JUAN MANUEL FLORES SANCHEZ       1325221         JUAN MANUEL FLORES SANCHEZ         FLORES SANCHEZ JUAN MANUEL"
      ]
     },
     "execution_count": 57,
     "metadata": {},
     "output_type": "execute_result"
    }
   ],
   "source": [
    "nombre_apellido_merge"
   ]
  },
  {
   "cell_type": "code",
   "execution_count": 58,
   "id": "6f134919",
   "metadata": {},
   "outputs": [],
   "source": [
    "judge_names_only_cleaned = judge_names_only[~judge_names_only[\"juez\"].isin(nombre_apellido_merge[\"juez\"])]"
   ]
  },
  {
   "cell_type": "code",
   "execution_count": 59,
   "id": "1616e471",
   "metadata": {},
   "outputs": [
    {
     "data": {
      "text/html": [
       "<div>\n",
       "<style scoped>\n",
       "    .dataframe tbody tr th:only-of-type {\n",
       "        vertical-align: middle;\n",
       "    }\n",
       "\n",
       "    .dataframe tbody tr th {\n",
       "        vertical-align: top;\n",
       "    }\n",
       "\n",
       "    .dataframe thead th {\n",
       "        text-align: right;\n",
       "    }\n",
       "</style>\n",
       "<table border=\"1\" class=\"dataframe\">\n",
       "  <thead>\n",
       "    <tr style=\"text-align: right;\">\n",
       "      <th></th>\n",
       "      <th>index</th>\n",
       "      <th>juez</th>\n",
       "    </tr>\n",
       "  </thead>\n",
       "  <tbody>\n",
       "    <tr>\n",
       "      <th>0</th>\n",
       "      <td>0</td>\n",
       "      <td>PISCOYA SOSA ALDO FRANCISCO</td>\n",
       "    </tr>\n",
       "    <tr>\n",
       "      <th>1</th>\n",
       "      <td>1</td>\n",
       "      <td>VEGA BOCANEGRA BETO</td>\n",
       "    </tr>\n",
       "    <tr>\n",
       "      <th>2</th>\n",
       "      <td>2</td>\n",
       "      <td>LOLO JARA ESTELA</td>\n",
       "    </tr>\n",
       "    <tr>\n",
       "      <th>3</th>\n",
       "      <td>3</td>\n",
       "      <td>HUAMAN CULQUI IRMA MERCEDES</td>\n",
       "    </tr>\n",
       "    <tr>\n",
       "      <th>4</th>\n",
       "      <td>4</td>\n",
       "      <td>BARRERA BARDALES GUIMO ALBERTO</td>\n",
       "    </tr>\n",
       "    <tr>\n",
       "      <th>...</th>\n",
       "      <td>...</td>\n",
       "      <td>...</td>\n",
       "    </tr>\n",
       "    <tr>\n",
       "      <th>53490</th>\n",
       "      <td>56140</td>\n",
       "      <td>YOLANDA PETRONILA CAMPOS  SOTELO</td>\n",
       "    </tr>\n",
       "    <tr>\n",
       "      <th>53493</th>\n",
       "      <td>56143</td>\n",
       "      <td>FLORES CALDERON PAMELA DESIRE</td>\n",
       "    </tr>\n",
       "    <tr>\n",
       "      <th>53496</th>\n",
       "      <td>56146</td>\n",
       "      <td>KATHERINE LA ROSA CASTILLO</td>\n",
       "    </tr>\n",
       "    <tr>\n",
       "      <th>53499</th>\n",
       "      <td>56150</td>\n",
       "      <td>MIRANDA SARMIENTO LUZ CRISTINA</td>\n",
       "    </tr>\n",
       "    <tr>\n",
       "      <th>53508</th>\n",
       "      <td>56159</td>\n",
       "      <td>CASTILLA MALCA LUIS HUMBERTO</td>\n",
       "    </tr>\n",
       "  </tbody>\n",
       "</table>\n",
       "<p>780 rows × 2 columns</p>\n",
       "</div>"
      ],
      "text/plain": [
       "       index                              juez\n",
       "0          0       PISCOYA SOSA ALDO FRANCISCO\n",
       "1          1               VEGA BOCANEGRA BETO\n",
       "2          2                  LOLO JARA ESTELA\n",
       "3          3       HUAMAN CULQUI IRMA MERCEDES\n",
       "4          4    BARRERA BARDALES GUIMO ALBERTO\n",
       "...      ...                               ...\n",
       "53490  56140  YOLANDA PETRONILA CAMPOS  SOTELO\n",
       "53493  56143     FLORES CALDERON PAMELA DESIRE\n",
       "53496  56146        KATHERINE LA ROSA CASTILLO\n",
       "53499  56150    MIRANDA SARMIENTO LUZ CRISTINA\n",
       "53508  56159      CASTILLA MALCA LUIS HUMBERTO\n",
       "\n",
       "[780 rows x 2 columns]"
      ]
     },
     "execution_count": 59,
     "metadata": {},
     "output_type": "execute_result"
    }
   ],
   "source": [
    "judge_names_only_cleaned"
   ]
  },
  {
   "cell_type": "code",
   "execution_count": 60,
   "id": "d2f15594",
   "metadata": {
    "scrolled": true
   },
   "outputs": [],
   "source": [
    "apellido_nombre_merge = pd.merge(judge_names_only, exp_participants, left_on=\"juez\", right_on=\"participant_apellido_nombre\")"
   ]
  },
  {
   "cell_type": "code",
   "execution_count": 61,
   "id": "ad61d2a0",
   "metadata": {},
   "outputs": [
    {
     "data": {
      "text/html": [
       "<div>\n",
       "<style scoped>\n",
       "    .dataframe tbody tr th:only-of-type {\n",
       "        vertical-align: middle;\n",
       "    }\n",
       "\n",
       "    .dataframe tbody tr th {\n",
       "        vertical-align: top;\n",
       "    }\n",
       "\n",
       "    .dataframe thead th {\n",
       "        text-align: right;\n",
       "    }\n",
       "</style>\n",
       "<table border=\"1\" class=\"dataframe\">\n",
       "  <thead>\n",
       "    <tr style=\"text-align: right;\">\n",
       "      <th></th>\n",
       "      <th>index</th>\n",
       "      <th>juez</th>\n",
       "      <th>nrodocumento</th>\n",
       "      <th>participant_nombre_apellido</th>\n",
       "      <th>participant_apellido_nombre</th>\n",
       "    </tr>\n",
       "  </thead>\n",
       "  <tbody>\n",
       "    <tr>\n",
       "      <th>0</th>\n",
       "      <td>10</td>\n",
       "      <td>CHIGNE MOZOMBITE MARIA DEL PILAR</td>\n",
       "      <td>41371819</td>\n",
       "      <td>MARIA DEL PILAR CHIGNE MOZOMBITE</td>\n",
       "      <td>CHIGNE MOZOMBITE MARIA DEL PILAR</td>\n",
       "    </tr>\n",
       "    <tr>\n",
       "      <th>1</th>\n",
       "      <td>684</td>\n",
       "      <td>OCAMPO VARGAS CLODOMIRA</td>\n",
       "      <td>18138792</td>\n",
       "      <td>CLODOMIRA OCAMPO VARGAS</td>\n",
       "      <td>OCAMPO VARGAS CLODOMIRA</td>\n",
       "    </tr>\n",
       "    <tr>\n",
       "      <th>2</th>\n",
       "      <td>3587</td>\n",
       "      <td>DIAZ ALVAN ROBERTO CARLOS</td>\n",
       "      <td>41359917</td>\n",
       "      <td>ROBERTO CARLOS DIAZ ALVAN</td>\n",
       "      <td>DIAZ ALVAN ROBERTO CARLOS</td>\n",
       "    </tr>\n",
       "    <tr>\n",
       "      <th>3</th>\n",
       "      <td>5507</td>\n",
       "      <td>BACILIO SALAZAR EMMA CONSUELO</td>\n",
       "      <td>7299339</td>\n",
       "      <td>EMMA CONSUELO BACILIO SALAZAR</td>\n",
       "      <td>BACILIO SALAZAR EMMA CONSUELO</td>\n",
       "    </tr>\n",
       "    <tr>\n",
       "      <th>4</th>\n",
       "      <td>5704</td>\n",
       "      <td>ROJAS OBREGON FIORELLA MAGALI</td>\n",
       "      <td>42897314</td>\n",
       "      <td>FIORELLA MAGALI ROJAS OBREGON</td>\n",
       "      <td>ROJAS OBREGON FIORELLA MAGALI</td>\n",
       "    </tr>\n",
       "    <tr>\n",
       "      <th>5</th>\n",
       "      <td>6678</td>\n",
       "      <td>GUTIERREZ GALVEZ ZONIA VIRGINIA</td>\n",
       "      <td>28260854</td>\n",
       "      <td>ZONIA VIRGINIA GUTIERREZ GALVEZ</td>\n",
       "      <td>GUTIERREZ GALVEZ ZONIA VIRGINIA</td>\n",
       "    </tr>\n",
       "    <tr>\n",
       "      <th>6</th>\n",
       "      <td>12174</td>\n",
       "      <td>CARY CHOQUE CARLOS ALVARO</td>\n",
       "      <td>29224520</td>\n",
       "      <td>CARLOS ALVARO CARY CHOQUE</td>\n",
       "      <td>CARY CHOQUE CARLOS ALVARO</td>\n",
       "    </tr>\n",
       "    <tr>\n",
       "      <th>7</th>\n",
       "      <td>12203</td>\n",
       "      <td>CALLE VERA OSCAR FRANCIS</td>\n",
       "      <td>43188285</td>\n",
       "      <td>OSCAR FRANCIS CALLE VERA</td>\n",
       "      <td>CALLE VERA OSCAR FRANCIS</td>\n",
       "    </tr>\n",
       "    <tr>\n",
       "      <th>8</th>\n",
       "      <td>12879</td>\n",
       "      <td>BELLIDO ANGULO MARIA SOLEDAD</td>\n",
       "      <td>29424173</td>\n",
       "      <td>MARIA SOLEDAD BELLIDO ANGULO</td>\n",
       "      <td>BELLIDO ANGULO MARIA SOLEDAD</td>\n",
       "    </tr>\n",
       "    <tr>\n",
       "      <th>9</th>\n",
       "      <td>13744</td>\n",
       "      <td>YUCA HUARACCALLO FELIPE FEDERICO</td>\n",
       "      <td>29580121</td>\n",
       "      <td>FELIPE FEDERICO YUCA HUARACCALLO</td>\n",
       "      <td>YUCA HUARACCALLO FELIPE FEDERICO</td>\n",
       "    </tr>\n",
       "    <tr>\n",
       "      <th>10</th>\n",
       "      <td>14533</td>\n",
       "      <td>TALAVERA ZAPANA NOLAM ELIAS</td>\n",
       "      <td>29472266</td>\n",
       "      <td>NOLAM ELIAS TALAVERA ZAPANA</td>\n",
       "      <td>TALAVERA ZAPANA NOLAM ELIAS</td>\n",
       "    </tr>\n",
       "    <tr>\n",
       "      <th>11</th>\n",
       "      <td>15056</td>\n",
       "      <td>UCHANI SARMIENTO BERTHA</td>\n",
       "      <td>41227011</td>\n",
       "      <td>BERTHA UCHANI SARMIENTO</td>\n",
       "      <td>UCHANI SARMIENTO BERTHA</td>\n",
       "    </tr>\n",
       "    <tr>\n",
       "      <th>12</th>\n",
       "      <td>15065</td>\n",
       "      <td>OROSCO VEGA ELOY GUILLERMO</td>\n",
       "      <td>29432228</td>\n",
       "      <td>ELOY GUILLERMO OROSCO VEGA</td>\n",
       "      <td>OROSCO VEGA ELOY GUILLERMO</td>\n",
       "    </tr>\n",
       "    <tr>\n",
       "      <th>13</th>\n",
       "      <td>15084</td>\n",
       "      <td>FIGUEROA TEJADA LIZ EVERLYN</td>\n",
       "      <td>40648799</td>\n",
       "      <td>LIZ EVERLYN FIGUEROA TEJADA</td>\n",
       "      <td>FIGUEROA TEJADA LIZ EVERLYN</td>\n",
       "    </tr>\n",
       "    <tr>\n",
       "      <th>14</th>\n",
       "      <td>16026</td>\n",
       "      <td>CARHUAPOMA GRANDA EDGARD JESUS</td>\n",
       "      <td>29602737</td>\n",
       "      <td>EDGARD JESUS CARHUAPOMA GRANDA</td>\n",
       "      <td>CARHUAPOMA GRANDA EDGARD JESUS</td>\n",
       "    </tr>\n",
       "    <tr>\n",
       "      <th>15</th>\n",
       "      <td>19871</td>\n",
       "      <td>DE LA CRUZ PIZARRO JHENY VIRGINIA</td>\n",
       "      <td>40018732</td>\n",
       "      <td>JHENY VIRGINIA DE LA CRUZ PIZARRO</td>\n",
       "      <td>DE LA CRUZ PIZARRO JHENY VIRGINIA</td>\n",
       "    </tr>\n",
       "    <tr>\n",
       "      <th>16</th>\n",
       "      <td>27223</td>\n",
       "      <td>MACHUCA ALIAGA ELDA MADAHITH</td>\n",
       "      <td>46976280</td>\n",
       "      <td>ELDA MADAHITH MACHUCA ALIAGA</td>\n",
       "      <td>MACHUCA ALIAGA ELDA MADAHITH</td>\n",
       "    </tr>\n",
       "    <tr>\n",
       "      <th>17</th>\n",
       "      <td>28949</td>\n",
       "      <td>ASMAD CORCUERA MARCO ANTONIO</td>\n",
       "      <td>18087872</td>\n",
       "      <td>MARCO ANTONIO ASMAD CORCUERA</td>\n",
       "      <td>ASMAD CORCUERA MARCO ANTONIO</td>\n",
       "    </tr>\n",
       "    <tr>\n",
       "      <th>18</th>\n",
       "      <td>32136</td>\n",
       "      <td>SANCHEZ RAMOS BEATRIZ YOLANDA</td>\n",
       "      <td>40640033</td>\n",
       "      <td>BEATRIZ YOLANDA SANCHEZ RAMOS</td>\n",
       "      <td>SANCHEZ RAMOS BEATRIZ YOLANDA</td>\n",
       "    </tr>\n",
       "    <tr>\n",
       "      <th>19</th>\n",
       "      <td>32235</td>\n",
       "      <td>TORRES CONTRERAS WILLIAM EDGARDO</td>\n",
       "      <td>32921331</td>\n",
       "      <td>WILLIAM EDGARDO TORRES CONTRERAS</td>\n",
       "      <td>TORRES CONTRERAS WILLIAM EDGARDO</td>\n",
       "    </tr>\n",
       "    <tr>\n",
       "      <th>20</th>\n",
       "      <td>32244</td>\n",
       "      <td>BUSTOS BALTA CELIA DEL PILAR</td>\n",
       "      <td>40042883</td>\n",
       "      <td>CELIA DEL PILAR BUSTOS BALTA</td>\n",
       "      <td>BUSTOS BALTA CELIA DEL PILAR</td>\n",
       "    </tr>\n",
       "    <tr>\n",
       "      <th>21</th>\n",
       "      <td>32257</td>\n",
       "      <td>URRUTIA MENDEZ JONATHAN PAUL</td>\n",
       "      <td>41715317</td>\n",
       "      <td>JONATHAN PAUL URRUTIA MENDEZ</td>\n",
       "      <td>URRUTIA MENDEZ JONATHAN PAUL</td>\n",
       "    </tr>\n",
       "    <tr>\n",
       "      <th>22</th>\n",
       "      <td>32297</td>\n",
       "      <td>VIVANCO HUAMAN GLORIA TERESA</td>\n",
       "      <td>9670269</td>\n",
       "      <td>GLORIA TERESA VIVANCO HUAMAN</td>\n",
       "      <td>VIVANCO HUAMAN GLORIA TERESA</td>\n",
       "    </tr>\n",
       "    <tr>\n",
       "      <th>23</th>\n",
       "      <td>37505</td>\n",
       "      <td>AUQUI HUERTA TEOFANES EDGAR</td>\n",
       "      <td>40847128</td>\n",
       "      <td>TEOFANES EDGAR AUQUI HUERTA</td>\n",
       "      <td>AUQUI HUERTA TEOFANES EDGAR</td>\n",
       "    </tr>\n",
       "    <tr>\n",
       "      <th>24</th>\n",
       "      <td>37508</td>\n",
       "      <td>MEDRANO ALIAGA ANA PAULA</td>\n",
       "      <td>10286711</td>\n",
       "      <td>ANA PAULA MEDRANO ALIAGA</td>\n",
       "      <td>MEDRANO ALIAGA ANA PAULA</td>\n",
       "    </tr>\n",
       "    <tr>\n",
       "      <th>25</th>\n",
       "      <td>37726</td>\n",
       "      <td>VICUÑA ZAMORA JESUS</td>\n",
       "      <td>19916154</td>\n",
       "      <td>JESUS VICUÑA ZAMORA</td>\n",
       "      <td>VICUÑA ZAMORA JESUS</td>\n",
       "    </tr>\n",
       "    <tr>\n",
       "      <th>26</th>\n",
       "      <td>41149</td>\n",
       "      <td>VILLARREAL BALBIN IVAN</td>\n",
       "      <td>20112346</td>\n",
       "      <td>IVAN VILLARREAL BALBIN</td>\n",
       "      <td>VILLARREAL BALBIN IVAN</td>\n",
       "    </tr>\n",
       "    <tr>\n",
       "      <th>27</th>\n",
       "      <td>43178</td>\n",
       "      <td>ROJAS LAZARO WILLIAM RAUL</td>\n",
       "      <td>41543436</td>\n",
       "      <td>WILLIAM RAUL ROJAS LAZARO</td>\n",
       "      <td>ROJAS LAZARO WILLIAM RAUL</td>\n",
       "    </tr>\n",
       "    <tr>\n",
       "      <th>28</th>\n",
       "      <td>46948</td>\n",
       "      <td>RAMIREZ IPARRAGUIRRE VICTOR MANUEL</td>\n",
       "      <td>42266097</td>\n",
       "      <td>VICTOR MANUEL RAMIREZ IPARRAGUIRRE</td>\n",
       "      <td>RAMIREZ IPARRAGUIRRE VICTOR MANUEL</td>\n",
       "    </tr>\n",
       "    <tr>\n",
       "      <th>29</th>\n",
       "      <td>47039</td>\n",
       "      <td>LEON MARTELL VICTOR CANDELARIO</td>\n",
       "      <td>40971750</td>\n",
       "      <td>VICTOR CANDELARIO LEON MARTELL</td>\n",
       "      <td>LEON MARTELL VICTOR CANDELARIO</td>\n",
       "    </tr>\n",
       "    <tr>\n",
       "      <th>30</th>\n",
       "      <td>49627</td>\n",
       "      <td>ATAURIMA RUIZ BELISSA IBETTE</td>\n",
       "      <td>43992353</td>\n",
       "      <td>BELISSA IBETTE ATAURIMA RUIZ</td>\n",
       "      <td>ATAURIMA RUIZ BELISSA IBETTE</td>\n",
       "    </tr>\n",
       "    <tr>\n",
       "      <th>31</th>\n",
       "      <td>49754</td>\n",
       "      <td>VARGAS PEREZ ROSA ISABEL</td>\n",
       "      <td>40758830</td>\n",
       "      <td>ROSA ISABEL VARGAS PEREZ</td>\n",
       "      <td>VARGAS PEREZ ROSA ISABEL</td>\n",
       "    </tr>\n",
       "    <tr>\n",
       "      <th>32</th>\n",
       "      <td>49756</td>\n",
       "      <td>ARRIOLA GUILLEN MARCELA</td>\n",
       "      <td>23992411</td>\n",
       "      <td>MARCELA ARRIOLA GUILLEN</td>\n",
       "      <td>ARRIOLA GUILLEN MARCELA</td>\n",
       "    </tr>\n",
       "    <tr>\n",
       "      <th>33</th>\n",
       "      <td>49875</td>\n",
       "      <td>TORRES SIGUEÑAS CAROL DEL ROSARIO</td>\n",
       "      <td>41846685</td>\n",
       "      <td>CAROL DEL ROSARIO TORRES SIGUEÑAS</td>\n",
       "      <td>TORRES SIGUEÑAS CAROL DEL ROSARIO</td>\n",
       "    </tr>\n",
       "    <tr>\n",
       "      <th>34</th>\n",
       "      <td>49879</td>\n",
       "      <td>CORDOVA LOPEZ OCNER</td>\n",
       "      <td>3369984</td>\n",
       "      <td>OCNER CORDOVA LOPEZ</td>\n",
       "      <td>CORDOVA LOPEZ OCNER</td>\n",
       "    </tr>\n",
       "    <tr>\n",
       "      <th>35</th>\n",
       "      <td>49898</td>\n",
       "      <td>LLANOS CHAVEZ GRACIELA ESTHER</td>\n",
       "      <td>22514816</td>\n",
       "      <td>GRACIELA ESTHER LLANOS CHAVEZ</td>\n",
       "      <td>LLANOS CHAVEZ GRACIELA ESTHER</td>\n",
       "    </tr>\n",
       "    <tr>\n",
       "      <th>36</th>\n",
       "      <td>50183</td>\n",
       "      <td>SARMIENTO VEGA VARINIA YANET</td>\n",
       "      <td>21133300</td>\n",
       "      <td>VARINIA YANET SARMIENTO VEGA</td>\n",
       "      <td>SARMIENTO VEGA VARINIA YANET</td>\n",
       "    </tr>\n",
       "    <tr>\n",
       "      <th>37</th>\n",
       "      <td>50186</td>\n",
       "      <td>GONZALEZ BRONCANO JORGE ABDON</td>\n",
       "      <td>9904641</td>\n",
       "      <td>JORGE ABDON GONZALEZ BRONCANO</td>\n",
       "      <td>GONZALEZ BRONCANO JORGE ABDON</td>\n",
       "    </tr>\n",
       "    <tr>\n",
       "      <th>38</th>\n",
       "      <td>50269</td>\n",
       "      <td>ARIZABAL CALDERON RUSSY ELDA</td>\n",
       "      <td>23942493</td>\n",
       "      <td>RUSSY ELDA ARIZABAL CALDERON</td>\n",
       "      <td>ARIZABAL CALDERON RUSSY ELDA</td>\n",
       "    </tr>\n",
       "    <tr>\n",
       "      <th>39</th>\n",
       "      <td>51733</td>\n",
       "      <td>GRAJEDA BASHUALDO MILAGROS MARILYN</td>\n",
       "      <td>41209344</td>\n",
       "      <td>MILAGROS MARILYN GRAJEDA BASHUALDO</td>\n",
       "      <td>GRAJEDA BASHUALDO MILAGROS MARILYN</td>\n",
       "    </tr>\n",
       "    <tr>\n",
       "      <th>40</th>\n",
       "      <td>52350</td>\n",
       "      <td>PASCUAL SERNA DIANA ANGELA</td>\n",
       "      <td>42434313</td>\n",
       "      <td>DIANA ANGELA PASCUAL SERNA</td>\n",
       "      <td>PASCUAL SERNA DIANA ANGELA</td>\n",
       "    </tr>\n",
       "    <tr>\n",
       "      <th>41</th>\n",
       "      <td>52364</td>\n",
       "      <td>RODRIGUEZ RODRIGUEZ JULIO CESAR</td>\n",
       "      <td>7245586</td>\n",
       "      <td>JULIO CESAR RODRIGUEZ RODRIGUEZ</td>\n",
       "      <td>RODRIGUEZ RODRIGUEZ JULIO CESAR</td>\n",
       "    </tr>\n",
       "    <tr>\n",
       "      <th>42</th>\n",
       "      <td>52376</td>\n",
       "      <td>DE LA CRUZ TIPIAN CESAR ADOLFO</td>\n",
       "      <td>10195953</td>\n",
       "      <td>CESAR ADOLFO DE LA CRUZ TIPIAN</td>\n",
       "      <td>DE LA CRUZ TIPIAN CESAR ADOLFO</td>\n",
       "    </tr>\n",
       "    <tr>\n",
       "      <th>43</th>\n",
       "      <td>52772</td>\n",
       "      <td>CASTILLO HUAYNACHO ELMER</td>\n",
       "      <td>2156127</td>\n",
       "      <td>ELMER CASTILLO HUAYNACHO</td>\n",
       "      <td>CASTILLO HUAYNACHO ELMER</td>\n",
       "    </tr>\n",
       "    <tr>\n",
       "      <th>44</th>\n",
       "      <td>52878</td>\n",
       "      <td>PACHECO ZAPATA YULEMI PAULA</td>\n",
       "      <td>45101512</td>\n",
       "      <td>YULEMI PAULA PACHECO ZAPATA</td>\n",
       "      <td>PACHECO ZAPATA YULEMI PAULA</td>\n",
       "    </tr>\n",
       "    <tr>\n",
       "      <th>45</th>\n",
       "      <td>53086</td>\n",
       "      <td>VASQUEZ ROJAS DEYSY ELIZABETH</td>\n",
       "      <td>43481668</td>\n",
       "      <td>DEYSY ELIZABETH VASQUEZ ROJAS</td>\n",
       "      <td>VASQUEZ ROJAS DEYSY ELIZABETH</td>\n",
       "    </tr>\n",
       "    <tr>\n",
       "      <th>46</th>\n",
       "      <td>56104</td>\n",
       "      <td>MORENO CCANCCE RICARDO JONNY</td>\n",
       "      <td>9952777</td>\n",
       "      <td>RICARDO JONNY MORENO CCANCCE</td>\n",
       "      <td>MORENO CCANCCE RICARDO JONNY</td>\n",
       "    </tr>\n",
       "  </tbody>\n",
       "</table>\n",
       "</div>"
      ],
      "text/plain": [
       "    index                                juez  nrodocumento         participant_nombre_apellido         participant_apellido_nombre\n",
       "0      10    CHIGNE MOZOMBITE MARIA DEL PILAR      41371819    MARIA DEL PILAR CHIGNE MOZOMBITE    CHIGNE MOZOMBITE MARIA DEL PILAR\n",
       "1     684             OCAMPO VARGAS CLODOMIRA      18138792             CLODOMIRA OCAMPO VARGAS             OCAMPO VARGAS CLODOMIRA\n",
       "2    3587           DIAZ ALVAN ROBERTO CARLOS      41359917           ROBERTO CARLOS DIAZ ALVAN           DIAZ ALVAN ROBERTO CARLOS\n",
       "3    5507       BACILIO SALAZAR EMMA CONSUELO       7299339       EMMA CONSUELO BACILIO SALAZAR       BACILIO SALAZAR EMMA CONSUELO\n",
       "4    5704       ROJAS OBREGON FIORELLA MAGALI      42897314       FIORELLA MAGALI ROJAS OBREGON       ROJAS OBREGON FIORELLA MAGALI\n",
       "5    6678     GUTIERREZ GALVEZ ZONIA VIRGINIA      28260854     ZONIA VIRGINIA GUTIERREZ GALVEZ     GUTIERREZ GALVEZ ZONIA VIRGINIA\n",
       "6   12174           CARY CHOQUE CARLOS ALVARO      29224520           CARLOS ALVARO CARY CHOQUE           CARY CHOQUE CARLOS ALVARO\n",
       "7   12203            CALLE VERA OSCAR FRANCIS      43188285            OSCAR FRANCIS CALLE VERA            CALLE VERA OSCAR FRANCIS\n",
       "8   12879        BELLIDO ANGULO MARIA SOLEDAD      29424173        MARIA SOLEDAD BELLIDO ANGULO        BELLIDO ANGULO MARIA SOLEDAD\n",
       "9   13744    YUCA HUARACCALLO FELIPE FEDERICO      29580121    FELIPE FEDERICO YUCA HUARACCALLO    YUCA HUARACCALLO FELIPE FEDERICO\n",
       "10  14533         TALAVERA ZAPANA NOLAM ELIAS      29472266         NOLAM ELIAS TALAVERA ZAPANA         TALAVERA ZAPANA NOLAM ELIAS\n",
       "11  15056             UCHANI SARMIENTO BERTHA      41227011             BERTHA UCHANI SARMIENTO             UCHANI SARMIENTO BERTHA\n",
       "12  15065          OROSCO VEGA ELOY GUILLERMO      29432228          ELOY GUILLERMO OROSCO VEGA          OROSCO VEGA ELOY GUILLERMO\n",
       "13  15084         FIGUEROA TEJADA LIZ EVERLYN      40648799         LIZ EVERLYN FIGUEROA TEJADA         FIGUEROA TEJADA LIZ EVERLYN\n",
       "14  16026      CARHUAPOMA GRANDA EDGARD JESUS      29602737      EDGARD JESUS CARHUAPOMA GRANDA      CARHUAPOMA GRANDA EDGARD JESUS\n",
       "15  19871   DE LA CRUZ PIZARRO JHENY VIRGINIA      40018732   JHENY VIRGINIA DE LA CRUZ PIZARRO   DE LA CRUZ PIZARRO JHENY VIRGINIA\n",
       "16  27223        MACHUCA ALIAGA ELDA MADAHITH      46976280        ELDA MADAHITH MACHUCA ALIAGA        MACHUCA ALIAGA ELDA MADAHITH\n",
       "17  28949        ASMAD CORCUERA MARCO ANTONIO      18087872        MARCO ANTONIO ASMAD CORCUERA        ASMAD CORCUERA MARCO ANTONIO\n",
       "18  32136       SANCHEZ RAMOS BEATRIZ YOLANDA      40640033       BEATRIZ YOLANDA SANCHEZ RAMOS       SANCHEZ RAMOS BEATRIZ YOLANDA\n",
       "19  32235    TORRES CONTRERAS WILLIAM EDGARDO      32921331    WILLIAM EDGARDO TORRES CONTRERAS    TORRES CONTRERAS WILLIAM EDGARDO\n",
       "20  32244        BUSTOS BALTA CELIA DEL PILAR      40042883        CELIA DEL PILAR BUSTOS BALTA        BUSTOS BALTA CELIA DEL PILAR\n",
       "21  32257        URRUTIA MENDEZ JONATHAN PAUL      41715317        JONATHAN PAUL URRUTIA MENDEZ        URRUTIA MENDEZ JONATHAN PAUL\n",
       "22  32297        VIVANCO HUAMAN GLORIA TERESA       9670269        GLORIA TERESA VIVANCO HUAMAN        VIVANCO HUAMAN GLORIA TERESA\n",
       "23  37505         AUQUI HUERTA TEOFANES EDGAR      40847128         TEOFANES EDGAR AUQUI HUERTA         AUQUI HUERTA TEOFANES EDGAR\n",
       "24  37508            MEDRANO ALIAGA ANA PAULA      10286711            ANA PAULA MEDRANO ALIAGA            MEDRANO ALIAGA ANA PAULA\n",
       "25  37726                 VICUÑA ZAMORA JESUS      19916154                 JESUS VICUÑA ZAMORA                 VICUÑA ZAMORA JESUS\n",
       "26  41149              VILLARREAL BALBIN IVAN      20112346              IVAN VILLARREAL BALBIN              VILLARREAL BALBIN IVAN\n",
       "27  43178           ROJAS LAZARO WILLIAM RAUL      41543436           WILLIAM RAUL ROJAS LAZARO           ROJAS LAZARO WILLIAM RAUL\n",
       "28  46948  RAMIREZ IPARRAGUIRRE VICTOR MANUEL      42266097  VICTOR MANUEL RAMIREZ IPARRAGUIRRE  RAMIREZ IPARRAGUIRRE VICTOR MANUEL\n",
       "29  47039      LEON MARTELL VICTOR CANDELARIO      40971750      VICTOR CANDELARIO LEON MARTELL      LEON MARTELL VICTOR CANDELARIO\n",
       "30  49627        ATAURIMA RUIZ BELISSA IBETTE      43992353        BELISSA IBETTE ATAURIMA RUIZ        ATAURIMA RUIZ BELISSA IBETTE\n",
       "31  49754            VARGAS PEREZ ROSA ISABEL      40758830            ROSA ISABEL VARGAS PEREZ            VARGAS PEREZ ROSA ISABEL\n",
       "32  49756             ARRIOLA GUILLEN MARCELA      23992411             MARCELA ARRIOLA GUILLEN             ARRIOLA GUILLEN MARCELA\n",
       "33  49875   TORRES SIGUEÑAS CAROL DEL ROSARIO      41846685   CAROL DEL ROSARIO TORRES SIGUEÑAS   TORRES SIGUEÑAS CAROL DEL ROSARIO\n",
       "34  49879                 CORDOVA LOPEZ OCNER       3369984                 OCNER CORDOVA LOPEZ                 CORDOVA LOPEZ OCNER\n",
       "35  49898       LLANOS CHAVEZ GRACIELA ESTHER      22514816       GRACIELA ESTHER LLANOS CHAVEZ       LLANOS CHAVEZ GRACIELA ESTHER\n",
       "36  50183        SARMIENTO VEGA VARINIA YANET      21133300        VARINIA YANET SARMIENTO VEGA        SARMIENTO VEGA VARINIA YANET\n",
       "37  50186       GONZALEZ BRONCANO JORGE ABDON       9904641       JORGE ABDON GONZALEZ BRONCANO       GONZALEZ BRONCANO JORGE ABDON\n",
       "38  50269        ARIZABAL CALDERON RUSSY ELDA      23942493        RUSSY ELDA ARIZABAL CALDERON        ARIZABAL CALDERON RUSSY ELDA\n",
       "39  51733  GRAJEDA BASHUALDO MILAGROS MARILYN      41209344  MILAGROS MARILYN GRAJEDA BASHUALDO  GRAJEDA BASHUALDO MILAGROS MARILYN\n",
       "40  52350          PASCUAL SERNA DIANA ANGELA      42434313          DIANA ANGELA PASCUAL SERNA          PASCUAL SERNA DIANA ANGELA\n",
       "41  52364     RODRIGUEZ RODRIGUEZ JULIO CESAR       7245586     JULIO CESAR RODRIGUEZ RODRIGUEZ     RODRIGUEZ RODRIGUEZ JULIO CESAR\n",
       "42  52376      DE LA CRUZ TIPIAN CESAR ADOLFO      10195953      CESAR ADOLFO DE LA CRUZ TIPIAN      DE LA CRUZ TIPIAN CESAR ADOLFO\n",
       "43  52772            CASTILLO HUAYNACHO ELMER       2156127            ELMER CASTILLO HUAYNACHO            CASTILLO HUAYNACHO ELMER\n",
       "44  52878         PACHECO ZAPATA YULEMI PAULA      45101512         YULEMI PAULA PACHECO ZAPATA         PACHECO ZAPATA YULEMI PAULA\n",
       "45  53086       VASQUEZ ROJAS DEYSY ELIZABETH      43481668       DEYSY ELIZABETH VASQUEZ ROJAS       VASQUEZ ROJAS DEYSY ELIZABETH\n",
       "46  56104        MORENO CCANCCE RICARDO JONNY       9952777        RICARDO JONNY MORENO CCANCCE        MORENO CCANCCE RICARDO JONNY"
      ]
     },
     "execution_count": 61,
     "metadata": {},
     "output_type": "execute_result"
    }
   ],
   "source": [
    "apellido_nombre_merge"
   ]
  },
  {
   "cell_type": "code",
   "execution_count": 62,
   "id": "fec958c6",
   "metadata": {},
   "outputs": [],
   "source": [
    "apellido_nombre_merge = apellido_nombre_merge.drop_duplicates(subset=[\"juez\"])"
   ]
  },
  {
   "cell_type": "code",
   "execution_count": 63,
   "id": "a996bdbd",
   "metadata": {},
   "outputs": [
    {
     "data": {
      "text/html": [
       "<div>\n",
       "<style scoped>\n",
       "    .dataframe tbody tr th:only-of-type {\n",
       "        vertical-align: middle;\n",
       "    }\n",
       "\n",
       "    .dataframe tbody tr th {\n",
       "        vertical-align: top;\n",
       "    }\n",
       "\n",
       "    .dataframe thead th {\n",
       "        text-align: right;\n",
       "    }\n",
       "</style>\n",
       "<table border=\"1\" class=\"dataframe\">\n",
       "  <thead>\n",
       "    <tr style=\"text-align: right;\">\n",
       "      <th></th>\n",
       "      <th>index</th>\n",
       "      <th>juez</th>\n",
       "      <th>nrodocumento</th>\n",
       "      <th>participant_nombre_apellido</th>\n",
       "      <th>participant_apellido_nombre</th>\n",
       "    </tr>\n",
       "  </thead>\n",
       "  <tbody>\n",
       "    <tr>\n",
       "      <th>0</th>\n",
       "      <td>10</td>\n",
       "      <td>CHIGNE MOZOMBITE MARIA DEL PILAR</td>\n",
       "      <td>41371819</td>\n",
       "      <td>MARIA DEL PILAR CHIGNE MOZOMBITE</td>\n",
       "      <td>CHIGNE MOZOMBITE MARIA DEL PILAR</td>\n",
       "    </tr>\n",
       "    <tr>\n",
       "      <th>1</th>\n",
       "      <td>684</td>\n",
       "      <td>OCAMPO VARGAS CLODOMIRA</td>\n",
       "      <td>18138792</td>\n",
       "      <td>CLODOMIRA OCAMPO VARGAS</td>\n",
       "      <td>OCAMPO VARGAS CLODOMIRA</td>\n",
       "    </tr>\n",
       "    <tr>\n",
       "      <th>2</th>\n",
       "      <td>3587</td>\n",
       "      <td>DIAZ ALVAN ROBERTO CARLOS</td>\n",
       "      <td>41359917</td>\n",
       "      <td>ROBERTO CARLOS DIAZ ALVAN</td>\n",
       "      <td>DIAZ ALVAN ROBERTO CARLOS</td>\n",
       "    </tr>\n",
       "    <tr>\n",
       "      <th>3</th>\n",
       "      <td>5507</td>\n",
       "      <td>BACILIO SALAZAR EMMA CONSUELO</td>\n",
       "      <td>7299339</td>\n",
       "      <td>EMMA CONSUELO BACILIO SALAZAR</td>\n",
       "      <td>BACILIO SALAZAR EMMA CONSUELO</td>\n",
       "    </tr>\n",
       "    <tr>\n",
       "      <th>4</th>\n",
       "      <td>5704</td>\n",
       "      <td>ROJAS OBREGON FIORELLA MAGALI</td>\n",
       "      <td>42897314</td>\n",
       "      <td>FIORELLA MAGALI ROJAS OBREGON</td>\n",
       "      <td>ROJAS OBREGON FIORELLA MAGALI</td>\n",
       "    </tr>\n",
       "    <tr>\n",
       "      <th>5</th>\n",
       "      <td>6678</td>\n",
       "      <td>GUTIERREZ GALVEZ ZONIA VIRGINIA</td>\n",
       "      <td>28260854</td>\n",
       "      <td>ZONIA VIRGINIA GUTIERREZ GALVEZ</td>\n",
       "      <td>GUTIERREZ GALVEZ ZONIA VIRGINIA</td>\n",
       "    </tr>\n",
       "    <tr>\n",
       "      <th>6</th>\n",
       "      <td>12174</td>\n",
       "      <td>CARY CHOQUE CARLOS ALVARO</td>\n",
       "      <td>29224520</td>\n",
       "      <td>CARLOS ALVARO CARY CHOQUE</td>\n",
       "      <td>CARY CHOQUE CARLOS ALVARO</td>\n",
       "    </tr>\n",
       "    <tr>\n",
       "      <th>7</th>\n",
       "      <td>12203</td>\n",
       "      <td>CALLE VERA OSCAR FRANCIS</td>\n",
       "      <td>43188285</td>\n",
       "      <td>OSCAR FRANCIS CALLE VERA</td>\n",
       "      <td>CALLE VERA OSCAR FRANCIS</td>\n",
       "    </tr>\n",
       "    <tr>\n",
       "      <th>8</th>\n",
       "      <td>12879</td>\n",
       "      <td>BELLIDO ANGULO MARIA SOLEDAD</td>\n",
       "      <td>29424173</td>\n",
       "      <td>MARIA SOLEDAD BELLIDO ANGULO</td>\n",
       "      <td>BELLIDO ANGULO MARIA SOLEDAD</td>\n",
       "    </tr>\n",
       "    <tr>\n",
       "      <th>9</th>\n",
       "      <td>13744</td>\n",
       "      <td>YUCA HUARACCALLO FELIPE FEDERICO</td>\n",
       "      <td>29580121</td>\n",
       "      <td>FELIPE FEDERICO YUCA HUARACCALLO</td>\n",
       "      <td>YUCA HUARACCALLO FELIPE FEDERICO</td>\n",
       "    </tr>\n",
       "    <tr>\n",
       "      <th>10</th>\n",
       "      <td>14533</td>\n",
       "      <td>TALAVERA ZAPANA NOLAM ELIAS</td>\n",
       "      <td>29472266</td>\n",
       "      <td>NOLAM ELIAS TALAVERA ZAPANA</td>\n",
       "      <td>TALAVERA ZAPANA NOLAM ELIAS</td>\n",
       "    </tr>\n",
       "    <tr>\n",
       "      <th>11</th>\n",
       "      <td>15056</td>\n",
       "      <td>UCHANI SARMIENTO BERTHA</td>\n",
       "      <td>41227011</td>\n",
       "      <td>BERTHA UCHANI SARMIENTO</td>\n",
       "      <td>UCHANI SARMIENTO BERTHA</td>\n",
       "    </tr>\n",
       "    <tr>\n",
       "      <th>12</th>\n",
       "      <td>15065</td>\n",
       "      <td>OROSCO VEGA ELOY GUILLERMO</td>\n",
       "      <td>29432228</td>\n",
       "      <td>ELOY GUILLERMO OROSCO VEGA</td>\n",
       "      <td>OROSCO VEGA ELOY GUILLERMO</td>\n",
       "    </tr>\n",
       "    <tr>\n",
       "      <th>13</th>\n",
       "      <td>15084</td>\n",
       "      <td>FIGUEROA TEJADA LIZ EVERLYN</td>\n",
       "      <td>40648799</td>\n",
       "      <td>LIZ EVERLYN FIGUEROA TEJADA</td>\n",
       "      <td>FIGUEROA TEJADA LIZ EVERLYN</td>\n",
       "    </tr>\n",
       "    <tr>\n",
       "      <th>14</th>\n",
       "      <td>16026</td>\n",
       "      <td>CARHUAPOMA GRANDA EDGARD JESUS</td>\n",
       "      <td>29602737</td>\n",
       "      <td>EDGARD JESUS CARHUAPOMA GRANDA</td>\n",
       "      <td>CARHUAPOMA GRANDA EDGARD JESUS</td>\n",
       "    </tr>\n",
       "    <tr>\n",
       "      <th>15</th>\n",
       "      <td>19871</td>\n",
       "      <td>DE LA CRUZ PIZARRO JHENY VIRGINIA</td>\n",
       "      <td>40018732</td>\n",
       "      <td>JHENY VIRGINIA DE LA CRUZ PIZARRO</td>\n",
       "      <td>DE LA CRUZ PIZARRO JHENY VIRGINIA</td>\n",
       "    </tr>\n",
       "    <tr>\n",
       "      <th>16</th>\n",
       "      <td>27223</td>\n",
       "      <td>MACHUCA ALIAGA ELDA MADAHITH</td>\n",
       "      <td>46976280</td>\n",
       "      <td>ELDA MADAHITH MACHUCA ALIAGA</td>\n",
       "      <td>MACHUCA ALIAGA ELDA MADAHITH</td>\n",
       "    </tr>\n",
       "    <tr>\n",
       "      <th>17</th>\n",
       "      <td>28949</td>\n",
       "      <td>ASMAD CORCUERA MARCO ANTONIO</td>\n",
       "      <td>18087872</td>\n",
       "      <td>MARCO ANTONIO ASMAD CORCUERA</td>\n",
       "      <td>ASMAD CORCUERA MARCO ANTONIO</td>\n",
       "    </tr>\n",
       "    <tr>\n",
       "      <th>18</th>\n",
       "      <td>32136</td>\n",
       "      <td>SANCHEZ RAMOS BEATRIZ YOLANDA</td>\n",
       "      <td>40640033</td>\n",
       "      <td>BEATRIZ YOLANDA SANCHEZ RAMOS</td>\n",
       "      <td>SANCHEZ RAMOS BEATRIZ YOLANDA</td>\n",
       "    </tr>\n",
       "    <tr>\n",
       "      <th>19</th>\n",
       "      <td>32235</td>\n",
       "      <td>TORRES CONTRERAS WILLIAM EDGARDO</td>\n",
       "      <td>32921331</td>\n",
       "      <td>WILLIAM EDGARDO TORRES CONTRERAS</td>\n",
       "      <td>TORRES CONTRERAS WILLIAM EDGARDO</td>\n",
       "    </tr>\n",
       "    <tr>\n",
       "      <th>20</th>\n",
       "      <td>32244</td>\n",
       "      <td>BUSTOS BALTA CELIA DEL PILAR</td>\n",
       "      <td>40042883</td>\n",
       "      <td>CELIA DEL PILAR BUSTOS BALTA</td>\n",
       "      <td>BUSTOS BALTA CELIA DEL PILAR</td>\n",
       "    </tr>\n",
       "    <tr>\n",
       "      <th>21</th>\n",
       "      <td>32257</td>\n",
       "      <td>URRUTIA MENDEZ JONATHAN PAUL</td>\n",
       "      <td>41715317</td>\n",
       "      <td>JONATHAN PAUL URRUTIA MENDEZ</td>\n",
       "      <td>URRUTIA MENDEZ JONATHAN PAUL</td>\n",
       "    </tr>\n",
       "    <tr>\n",
       "      <th>22</th>\n",
       "      <td>32297</td>\n",
       "      <td>VIVANCO HUAMAN GLORIA TERESA</td>\n",
       "      <td>9670269</td>\n",
       "      <td>GLORIA TERESA VIVANCO HUAMAN</td>\n",
       "      <td>VIVANCO HUAMAN GLORIA TERESA</td>\n",
       "    </tr>\n",
       "    <tr>\n",
       "      <th>23</th>\n",
       "      <td>37505</td>\n",
       "      <td>AUQUI HUERTA TEOFANES EDGAR</td>\n",
       "      <td>40847128</td>\n",
       "      <td>TEOFANES EDGAR AUQUI HUERTA</td>\n",
       "      <td>AUQUI HUERTA TEOFANES EDGAR</td>\n",
       "    </tr>\n",
       "    <tr>\n",
       "      <th>24</th>\n",
       "      <td>37508</td>\n",
       "      <td>MEDRANO ALIAGA ANA PAULA</td>\n",
       "      <td>10286711</td>\n",
       "      <td>ANA PAULA MEDRANO ALIAGA</td>\n",
       "      <td>MEDRANO ALIAGA ANA PAULA</td>\n",
       "    </tr>\n",
       "    <tr>\n",
       "      <th>25</th>\n",
       "      <td>37726</td>\n",
       "      <td>VICUÑA ZAMORA JESUS</td>\n",
       "      <td>19916154</td>\n",
       "      <td>JESUS VICUÑA ZAMORA</td>\n",
       "      <td>VICUÑA ZAMORA JESUS</td>\n",
       "    </tr>\n",
       "    <tr>\n",
       "      <th>26</th>\n",
       "      <td>41149</td>\n",
       "      <td>VILLARREAL BALBIN IVAN</td>\n",
       "      <td>20112346</td>\n",
       "      <td>IVAN VILLARREAL BALBIN</td>\n",
       "      <td>VILLARREAL BALBIN IVAN</td>\n",
       "    </tr>\n",
       "    <tr>\n",
       "      <th>27</th>\n",
       "      <td>43178</td>\n",
       "      <td>ROJAS LAZARO WILLIAM RAUL</td>\n",
       "      <td>41543436</td>\n",
       "      <td>WILLIAM RAUL ROJAS LAZARO</td>\n",
       "      <td>ROJAS LAZARO WILLIAM RAUL</td>\n",
       "    </tr>\n",
       "    <tr>\n",
       "      <th>28</th>\n",
       "      <td>46948</td>\n",
       "      <td>RAMIREZ IPARRAGUIRRE VICTOR MANUEL</td>\n",
       "      <td>42266097</td>\n",
       "      <td>VICTOR MANUEL RAMIREZ IPARRAGUIRRE</td>\n",
       "      <td>RAMIREZ IPARRAGUIRRE VICTOR MANUEL</td>\n",
       "    </tr>\n",
       "    <tr>\n",
       "      <th>29</th>\n",
       "      <td>47039</td>\n",
       "      <td>LEON MARTELL VICTOR CANDELARIO</td>\n",
       "      <td>40971750</td>\n",
       "      <td>VICTOR CANDELARIO LEON MARTELL</td>\n",
       "      <td>LEON MARTELL VICTOR CANDELARIO</td>\n",
       "    </tr>\n",
       "    <tr>\n",
       "      <th>30</th>\n",
       "      <td>49627</td>\n",
       "      <td>ATAURIMA RUIZ BELISSA IBETTE</td>\n",
       "      <td>43992353</td>\n",
       "      <td>BELISSA IBETTE ATAURIMA RUIZ</td>\n",
       "      <td>ATAURIMA RUIZ BELISSA IBETTE</td>\n",
       "    </tr>\n",
       "    <tr>\n",
       "      <th>31</th>\n",
       "      <td>49754</td>\n",
       "      <td>VARGAS PEREZ ROSA ISABEL</td>\n",
       "      <td>40758830</td>\n",
       "      <td>ROSA ISABEL VARGAS PEREZ</td>\n",
       "      <td>VARGAS PEREZ ROSA ISABEL</td>\n",
       "    </tr>\n",
       "    <tr>\n",
       "      <th>32</th>\n",
       "      <td>49756</td>\n",
       "      <td>ARRIOLA GUILLEN MARCELA</td>\n",
       "      <td>23992411</td>\n",
       "      <td>MARCELA ARRIOLA GUILLEN</td>\n",
       "      <td>ARRIOLA GUILLEN MARCELA</td>\n",
       "    </tr>\n",
       "    <tr>\n",
       "      <th>33</th>\n",
       "      <td>49875</td>\n",
       "      <td>TORRES SIGUEÑAS CAROL DEL ROSARIO</td>\n",
       "      <td>41846685</td>\n",
       "      <td>CAROL DEL ROSARIO TORRES SIGUEÑAS</td>\n",
       "      <td>TORRES SIGUEÑAS CAROL DEL ROSARIO</td>\n",
       "    </tr>\n",
       "    <tr>\n",
       "      <th>34</th>\n",
       "      <td>49879</td>\n",
       "      <td>CORDOVA LOPEZ OCNER</td>\n",
       "      <td>3369984</td>\n",
       "      <td>OCNER CORDOVA LOPEZ</td>\n",
       "      <td>CORDOVA LOPEZ OCNER</td>\n",
       "    </tr>\n",
       "    <tr>\n",
       "      <th>35</th>\n",
       "      <td>49898</td>\n",
       "      <td>LLANOS CHAVEZ GRACIELA ESTHER</td>\n",
       "      <td>22514816</td>\n",
       "      <td>GRACIELA ESTHER LLANOS CHAVEZ</td>\n",
       "      <td>LLANOS CHAVEZ GRACIELA ESTHER</td>\n",
       "    </tr>\n",
       "    <tr>\n",
       "      <th>36</th>\n",
       "      <td>50183</td>\n",
       "      <td>SARMIENTO VEGA VARINIA YANET</td>\n",
       "      <td>21133300</td>\n",
       "      <td>VARINIA YANET SARMIENTO VEGA</td>\n",
       "      <td>SARMIENTO VEGA VARINIA YANET</td>\n",
       "    </tr>\n",
       "    <tr>\n",
       "      <th>37</th>\n",
       "      <td>50186</td>\n",
       "      <td>GONZALEZ BRONCANO JORGE ABDON</td>\n",
       "      <td>9904641</td>\n",
       "      <td>JORGE ABDON GONZALEZ BRONCANO</td>\n",
       "      <td>GONZALEZ BRONCANO JORGE ABDON</td>\n",
       "    </tr>\n",
       "    <tr>\n",
       "      <th>38</th>\n",
       "      <td>50269</td>\n",
       "      <td>ARIZABAL CALDERON RUSSY ELDA</td>\n",
       "      <td>23942493</td>\n",
       "      <td>RUSSY ELDA ARIZABAL CALDERON</td>\n",
       "      <td>ARIZABAL CALDERON RUSSY ELDA</td>\n",
       "    </tr>\n",
       "    <tr>\n",
       "      <th>39</th>\n",
       "      <td>51733</td>\n",
       "      <td>GRAJEDA BASHUALDO MILAGROS MARILYN</td>\n",
       "      <td>41209344</td>\n",
       "      <td>MILAGROS MARILYN GRAJEDA BASHUALDO</td>\n",
       "      <td>GRAJEDA BASHUALDO MILAGROS MARILYN</td>\n",
       "    </tr>\n",
       "    <tr>\n",
       "      <th>40</th>\n",
       "      <td>52350</td>\n",
       "      <td>PASCUAL SERNA DIANA ANGELA</td>\n",
       "      <td>42434313</td>\n",
       "      <td>DIANA ANGELA PASCUAL SERNA</td>\n",
       "      <td>PASCUAL SERNA DIANA ANGELA</td>\n",
       "    </tr>\n",
       "    <tr>\n",
       "      <th>41</th>\n",
       "      <td>52364</td>\n",
       "      <td>RODRIGUEZ RODRIGUEZ JULIO CESAR</td>\n",
       "      <td>7245586</td>\n",
       "      <td>JULIO CESAR RODRIGUEZ RODRIGUEZ</td>\n",
       "      <td>RODRIGUEZ RODRIGUEZ JULIO CESAR</td>\n",
       "    </tr>\n",
       "    <tr>\n",
       "      <th>42</th>\n",
       "      <td>52376</td>\n",
       "      <td>DE LA CRUZ TIPIAN CESAR ADOLFO</td>\n",
       "      <td>10195953</td>\n",
       "      <td>CESAR ADOLFO DE LA CRUZ TIPIAN</td>\n",
       "      <td>DE LA CRUZ TIPIAN CESAR ADOLFO</td>\n",
       "    </tr>\n",
       "    <tr>\n",
       "      <th>43</th>\n",
       "      <td>52772</td>\n",
       "      <td>CASTILLO HUAYNACHO ELMER</td>\n",
       "      <td>2156127</td>\n",
       "      <td>ELMER CASTILLO HUAYNACHO</td>\n",
       "      <td>CASTILLO HUAYNACHO ELMER</td>\n",
       "    </tr>\n",
       "    <tr>\n",
       "      <th>44</th>\n",
       "      <td>52878</td>\n",
       "      <td>PACHECO ZAPATA YULEMI PAULA</td>\n",
       "      <td>45101512</td>\n",
       "      <td>YULEMI PAULA PACHECO ZAPATA</td>\n",
       "      <td>PACHECO ZAPATA YULEMI PAULA</td>\n",
       "    </tr>\n",
       "    <tr>\n",
       "      <th>45</th>\n",
       "      <td>53086</td>\n",
       "      <td>VASQUEZ ROJAS DEYSY ELIZABETH</td>\n",
       "      <td>43481668</td>\n",
       "      <td>DEYSY ELIZABETH VASQUEZ ROJAS</td>\n",
       "      <td>VASQUEZ ROJAS DEYSY ELIZABETH</td>\n",
       "    </tr>\n",
       "    <tr>\n",
       "      <th>46</th>\n",
       "      <td>56104</td>\n",
       "      <td>MORENO CCANCCE RICARDO JONNY</td>\n",
       "      <td>9952777</td>\n",
       "      <td>RICARDO JONNY MORENO CCANCCE</td>\n",
       "      <td>MORENO CCANCCE RICARDO JONNY</td>\n",
       "    </tr>\n",
       "  </tbody>\n",
       "</table>\n",
       "</div>"
      ],
      "text/plain": [
       "    index                                juez  nrodocumento         participant_nombre_apellido         participant_apellido_nombre\n",
       "0      10    CHIGNE MOZOMBITE MARIA DEL PILAR      41371819    MARIA DEL PILAR CHIGNE MOZOMBITE    CHIGNE MOZOMBITE MARIA DEL PILAR\n",
       "1     684             OCAMPO VARGAS CLODOMIRA      18138792             CLODOMIRA OCAMPO VARGAS             OCAMPO VARGAS CLODOMIRA\n",
       "2    3587           DIAZ ALVAN ROBERTO CARLOS      41359917           ROBERTO CARLOS DIAZ ALVAN           DIAZ ALVAN ROBERTO CARLOS\n",
       "3    5507       BACILIO SALAZAR EMMA CONSUELO       7299339       EMMA CONSUELO BACILIO SALAZAR       BACILIO SALAZAR EMMA CONSUELO\n",
       "4    5704       ROJAS OBREGON FIORELLA MAGALI      42897314       FIORELLA MAGALI ROJAS OBREGON       ROJAS OBREGON FIORELLA MAGALI\n",
       "5    6678     GUTIERREZ GALVEZ ZONIA VIRGINIA      28260854     ZONIA VIRGINIA GUTIERREZ GALVEZ     GUTIERREZ GALVEZ ZONIA VIRGINIA\n",
       "6   12174           CARY CHOQUE CARLOS ALVARO      29224520           CARLOS ALVARO CARY CHOQUE           CARY CHOQUE CARLOS ALVARO\n",
       "7   12203            CALLE VERA OSCAR FRANCIS      43188285            OSCAR FRANCIS CALLE VERA            CALLE VERA OSCAR FRANCIS\n",
       "8   12879        BELLIDO ANGULO MARIA SOLEDAD      29424173        MARIA SOLEDAD BELLIDO ANGULO        BELLIDO ANGULO MARIA SOLEDAD\n",
       "9   13744    YUCA HUARACCALLO FELIPE FEDERICO      29580121    FELIPE FEDERICO YUCA HUARACCALLO    YUCA HUARACCALLO FELIPE FEDERICO\n",
       "10  14533         TALAVERA ZAPANA NOLAM ELIAS      29472266         NOLAM ELIAS TALAVERA ZAPANA         TALAVERA ZAPANA NOLAM ELIAS\n",
       "11  15056             UCHANI SARMIENTO BERTHA      41227011             BERTHA UCHANI SARMIENTO             UCHANI SARMIENTO BERTHA\n",
       "12  15065          OROSCO VEGA ELOY GUILLERMO      29432228          ELOY GUILLERMO OROSCO VEGA          OROSCO VEGA ELOY GUILLERMO\n",
       "13  15084         FIGUEROA TEJADA LIZ EVERLYN      40648799         LIZ EVERLYN FIGUEROA TEJADA         FIGUEROA TEJADA LIZ EVERLYN\n",
       "14  16026      CARHUAPOMA GRANDA EDGARD JESUS      29602737      EDGARD JESUS CARHUAPOMA GRANDA      CARHUAPOMA GRANDA EDGARD JESUS\n",
       "15  19871   DE LA CRUZ PIZARRO JHENY VIRGINIA      40018732   JHENY VIRGINIA DE LA CRUZ PIZARRO   DE LA CRUZ PIZARRO JHENY VIRGINIA\n",
       "16  27223        MACHUCA ALIAGA ELDA MADAHITH      46976280        ELDA MADAHITH MACHUCA ALIAGA        MACHUCA ALIAGA ELDA MADAHITH\n",
       "17  28949        ASMAD CORCUERA MARCO ANTONIO      18087872        MARCO ANTONIO ASMAD CORCUERA        ASMAD CORCUERA MARCO ANTONIO\n",
       "18  32136       SANCHEZ RAMOS BEATRIZ YOLANDA      40640033       BEATRIZ YOLANDA SANCHEZ RAMOS       SANCHEZ RAMOS BEATRIZ YOLANDA\n",
       "19  32235    TORRES CONTRERAS WILLIAM EDGARDO      32921331    WILLIAM EDGARDO TORRES CONTRERAS    TORRES CONTRERAS WILLIAM EDGARDO\n",
       "20  32244        BUSTOS BALTA CELIA DEL PILAR      40042883        CELIA DEL PILAR BUSTOS BALTA        BUSTOS BALTA CELIA DEL PILAR\n",
       "21  32257        URRUTIA MENDEZ JONATHAN PAUL      41715317        JONATHAN PAUL URRUTIA MENDEZ        URRUTIA MENDEZ JONATHAN PAUL\n",
       "22  32297        VIVANCO HUAMAN GLORIA TERESA       9670269        GLORIA TERESA VIVANCO HUAMAN        VIVANCO HUAMAN GLORIA TERESA\n",
       "23  37505         AUQUI HUERTA TEOFANES EDGAR      40847128         TEOFANES EDGAR AUQUI HUERTA         AUQUI HUERTA TEOFANES EDGAR\n",
       "24  37508            MEDRANO ALIAGA ANA PAULA      10286711            ANA PAULA MEDRANO ALIAGA            MEDRANO ALIAGA ANA PAULA\n",
       "25  37726                 VICUÑA ZAMORA JESUS      19916154                 JESUS VICUÑA ZAMORA                 VICUÑA ZAMORA JESUS\n",
       "26  41149              VILLARREAL BALBIN IVAN      20112346              IVAN VILLARREAL BALBIN              VILLARREAL BALBIN IVAN\n",
       "27  43178           ROJAS LAZARO WILLIAM RAUL      41543436           WILLIAM RAUL ROJAS LAZARO           ROJAS LAZARO WILLIAM RAUL\n",
       "28  46948  RAMIREZ IPARRAGUIRRE VICTOR MANUEL      42266097  VICTOR MANUEL RAMIREZ IPARRAGUIRRE  RAMIREZ IPARRAGUIRRE VICTOR MANUEL\n",
       "29  47039      LEON MARTELL VICTOR CANDELARIO      40971750      VICTOR CANDELARIO LEON MARTELL      LEON MARTELL VICTOR CANDELARIO\n",
       "30  49627        ATAURIMA RUIZ BELISSA IBETTE      43992353        BELISSA IBETTE ATAURIMA RUIZ        ATAURIMA RUIZ BELISSA IBETTE\n",
       "31  49754            VARGAS PEREZ ROSA ISABEL      40758830            ROSA ISABEL VARGAS PEREZ            VARGAS PEREZ ROSA ISABEL\n",
       "32  49756             ARRIOLA GUILLEN MARCELA      23992411             MARCELA ARRIOLA GUILLEN             ARRIOLA GUILLEN MARCELA\n",
       "33  49875   TORRES SIGUEÑAS CAROL DEL ROSARIO      41846685   CAROL DEL ROSARIO TORRES SIGUEÑAS   TORRES SIGUEÑAS CAROL DEL ROSARIO\n",
       "34  49879                 CORDOVA LOPEZ OCNER       3369984                 OCNER CORDOVA LOPEZ                 CORDOVA LOPEZ OCNER\n",
       "35  49898       LLANOS CHAVEZ GRACIELA ESTHER      22514816       GRACIELA ESTHER LLANOS CHAVEZ       LLANOS CHAVEZ GRACIELA ESTHER\n",
       "36  50183        SARMIENTO VEGA VARINIA YANET      21133300        VARINIA YANET SARMIENTO VEGA        SARMIENTO VEGA VARINIA YANET\n",
       "37  50186       GONZALEZ BRONCANO JORGE ABDON       9904641       JORGE ABDON GONZALEZ BRONCANO       GONZALEZ BRONCANO JORGE ABDON\n",
       "38  50269        ARIZABAL CALDERON RUSSY ELDA      23942493        RUSSY ELDA ARIZABAL CALDERON        ARIZABAL CALDERON RUSSY ELDA\n",
       "39  51733  GRAJEDA BASHUALDO MILAGROS MARILYN      41209344  MILAGROS MARILYN GRAJEDA BASHUALDO  GRAJEDA BASHUALDO MILAGROS MARILYN\n",
       "40  52350          PASCUAL SERNA DIANA ANGELA      42434313          DIANA ANGELA PASCUAL SERNA          PASCUAL SERNA DIANA ANGELA\n",
       "41  52364     RODRIGUEZ RODRIGUEZ JULIO CESAR       7245586     JULIO CESAR RODRIGUEZ RODRIGUEZ     RODRIGUEZ RODRIGUEZ JULIO CESAR\n",
       "42  52376      DE LA CRUZ TIPIAN CESAR ADOLFO      10195953      CESAR ADOLFO DE LA CRUZ TIPIAN      DE LA CRUZ TIPIAN CESAR ADOLFO\n",
       "43  52772            CASTILLO HUAYNACHO ELMER       2156127            ELMER CASTILLO HUAYNACHO            CASTILLO HUAYNACHO ELMER\n",
       "44  52878         PACHECO ZAPATA YULEMI PAULA      45101512         YULEMI PAULA PACHECO ZAPATA         PACHECO ZAPATA YULEMI PAULA\n",
       "45  53086       VASQUEZ ROJAS DEYSY ELIZABETH      43481668       DEYSY ELIZABETH VASQUEZ ROJAS       VASQUEZ ROJAS DEYSY ELIZABETH\n",
       "46  56104        MORENO CCANCCE RICARDO JONNY       9952777        RICARDO JONNY MORENO CCANCCE        MORENO CCANCCE RICARDO JONNY"
      ]
     },
     "execution_count": 63,
     "metadata": {},
     "output_type": "execute_result"
    }
   ],
   "source": [
    "apellido_nombre_merge"
   ]
  },
  {
   "cell_type": "code",
   "execution_count": 64,
   "id": "4ab9aa7a",
   "metadata": {},
   "outputs": [],
   "source": [
    "judge_names_only_cleaned_2 = judge_names_only[~judge_names_only[\"juez\"].isin(apellido_nombre_merge[\"juez\"])]"
   ]
  },
  {
   "cell_type": "code",
   "execution_count": 65,
   "id": "60e1a761",
   "metadata": {},
   "outputs": [
    {
     "data": {
      "text/html": [
       "<div>\n",
       "<style scoped>\n",
       "    .dataframe tbody tr th:only-of-type {\n",
       "        vertical-align: middle;\n",
       "    }\n",
       "\n",
       "    .dataframe tbody tr th {\n",
       "        vertical-align: top;\n",
       "    }\n",
       "\n",
       "    .dataframe thead th {\n",
       "        text-align: right;\n",
       "    }\n",
       "</style>\n",
       "<table border=\"1\" class=\"dataframe\">\n",
       "  <thead>\n",
       "    <tr style=\"text-align: right;\">\n",
       "      <th></th>\n",
       "      <th>index</th>\n",
       "      <th>juez</th>\n",
       "    </tr>\n",
       "  </thead>\n",
       "  <tbody>\n",
       "    <tr>\n",
       "      <th>0</th>\n",
       "      <td>0</td>\n",
       "      <td>PISCOYA SOSA ALDO FRANCISCO</td>\n",
       "    </tr>\n",
       "    <tr>\n",
       "      <th>1</th>\n",
       "      <td>1</td>\n",
       "      <td>VEGA BOCANEGRA BETO</td>\n",
       "    </tr>\n",
       "    <tr>\n",
       "      <th>2</th>\n",
       "      <td>2</td>\n",
       "      <td>LOLO JARA ESTELA</td>\n",
       "    </tr>\n",
       "    <tr>\n",
       "      <th>3</th>\n",
       "      <td>3</td>\n",
       "      <td>HUAMAN CULQUI IRMA MERCEDES</td>\n",
       "    </tr>\n",
       "    <tr>\n",
       "      <th>4</th>\n",
       "      <td>4</td>\n",
       "      <td>BARRERA BARDALES GUIMO ALBERTO</td>\n",
       "    </tr>\n",
       "    <tr>\n",
       "      <th>...</th>\n",
       "      <td>...</td>\n",
       "      <td>...</td>\n",
       "    </tr>\n",
       "    <tr>\n",
       "      <th>53490</th>\n",
       "      <td>56140</td>\n",
       "      <td>YOLANDA PETRONILA CAMPOS  SOTELO</td>\n",
       "    </tr>\n",
       "    <tr>\n",
       "      <th>53493</th>\n",
       "      <td>56143</td>\n",
       "      <td>FLORES CALDERON PAMELA DESIRE</td>\n",
       "    </tr>\n",
       "    <tr>\n",
       "      <th>53496</th>\n",
       "      <td>56146</td>\n",
       "      <td>KATHERINE LA ROSA CASTILLO</td>\n",
       "    </tr>\n",
       "    <tr>\n",
       "      <th>53499</th>\n",
       "      <td>56150</td>\n",
       "      <td>MIRANDA SARMIENTO LUZ CRISTINA</td>\n",
       "    </tr>\n",
       "    <tr>\n",
       "      <th>53508</th>\n",
       "      <td>56159</td>\n",
       "      <td>CASTILLA MALCA LUIS HUMBERTO</td>\n",
       "    </tr>\n",
       "  </tbody>\n",
       "</table>\n",
       "<p>737 rows × 2 columns</p>\n",
       "</div>"
      ],
      "text/plain": [
       "       index                              juez\n",
       "0          0       PISCOYA SOSA ALDO FRANCISCO\n",
       "1          1               VEGA BOCANEGRA BETO\n",
       "2          2                  LOLO JARA ESTELA\n",
       "3          3       HUAMAN CULQUI IRMA MERCEDES\n",
       "4          4    BARRERA BARDALES GUIMO ALBERTO\n",
       "...      ...                               ...\n",
       "53490  56140  YOLANDA PETRONILA CAMPOS  SOTELO\n",
       "53493  56143     FLORES CALDERON PAMELA DESIRE\n",
       "53496  56146        KATHERINE LA ROSA CASTILLO\n",
       "53499  56150    MIRANDA SARMIENTO LUZ CRISTINA\n",
       "53508  56159      CASTILLA MALCA LUIS HUMBERTO\n",
       "\n",
       "[737 rows x 2 columns]"
      ]
     },
     "execution_count": 65,
     "metadata": {},
     "output_type": "execute_result"
    }
   ],
   "source": [
    "judge_names_only_cleaned_2"
   ]
  },
  {
   "cell_type": "markdown",
   "id": "c8d6786a",
   "metadata": {},
   "source": [
    "### 2.5.0. Keeping unmatched experiment participants"
   ]
  },
  {
   "cell_type": "code",
   "execution_count": 66,
   "id": "b8c8205f",
   "metadata": {},
   "outputs": [],
   "source": [
    "# Resultado 1:\n",
    "\n",
    "result_1 = pd.merge(exp_participants, nombre_apellido_merge, on=\"participant_nombre_apellido\", indicator=True, how=\"outer\")"
   ]
  },
  {
   "cell_type": "code",
   "execution_count": 67,
   "id": "ae753d40",
   "metadata": {},
   "outputs": [],
   "source": [
    "result_1 = result_1[result_1[\"_merge\"] == \"left_only\"].rename(columns = \n",
    "                                                   {\"nrodocumento_x\": \"DNI\"})[[\"DNI\",\"participant_nombre_apellido\"]]\n",
    "\n",
    "#This keeps information only from the exp_participant dataframe"
   ]
  },
  {
   "cell_type": "code",
   "execution_count": 68,
   "id": "5c044fad",
   "metadata": {},
   "outputs": [],
   "source": [
    "result_1 = pd.merge(result_1, lab_data[[\"ApellidoPaterno\", \"ApellidoMaterno\", \"Nombres\", \"nrodocumento\"]], left_on=\"DNI\", right_on=\"nrodocumento\")"
   ]
  },
  {
   "cell_type": "code",
   "execution_count": 69,
   "id": "ace99af1",
   "metadata": {},
   "outputs": [],
   "source": [
    "result_1 = result_1.drop(columns = \"nrodocumento\")"
   ]
  },
  {
   "cell_type": "code",
   "execution_count": 70,
   "id": "dbeeb573",
   "metadata": {},
   "outputs": [
    {
     "data": {
      "text/html": [
       "<div>\n",
       "<style scoped>\n",
       "    .dataframe tbody tr th:only-of-type {\n",
       "        vertical-align: middle;\n",
       "    }\n",
       "\n",
       "    .dataframe tbody tr th {\n",
       "        vertical-align: top;\n",
       "    }\n",
       "\n",
       "    .dataframe thead th {\n",
       "        text-align: right;\n",
       "    }\n",
       "</style>\n",
       "<table border=\"1\" class=\"dataframe\">\n",
       "  <thead>\n",
       "    <tr style=\"text-align: right;\">\n",
       "      <th></th>\n",
       "      <th>DNI</th>\n",
       "      <th>participant_nombre_apellido</th>\n",
       "      <th>ApellidoPaterno</th>\n",
       "      <th>ApellidoMaterno</th>\n",
       "      <th>Nombres</th>\n",
       "    </tr>\n",
       "  </thead>\n",
       "  <tbody>\n",
       "    <tr>\n",
       "      <th>0</th>\n",
       "      <td>40070874</td>\n",
       "      <td>JUAN ANTONIO ROSAS CASTAÑEDA</td>\n",
       "      <td>ROSAS</td>\n",
       "      <td>CASTAÑEDA</td>\n",
       "      <td>JUAN ANTONIO</td>\n",
       "    </tr>\n",
       "    <tr>\n",
       "      <th>1</th>\n",
       "      <td>4069691</td>\n",
       "      <td>ELVIRA LAURA HUAMAN PORTAL</td>\n",
       "      <td>HUAMAN</td>\n",
       "      <td>PORTAL</td>\n",
       "      <td>ELVIRA LAURA</td>\n",
       "    </tr>\n",
       "    <tr>\n",
       "      <th>2</th>\n",
       "      <td>8254850</td>\n",
       "      <td>ELARD FERNANDO ZAVALAGA VARGAS</td>\n",
       "      <td>ZAVALAGA</td>\n",
       "      <td>VARGAS</td>\n",
       "      <td>ELARD FERNANDO</td>\n",
       "    </tr>\n",
       "    <tr>\n",
       "      <th>3</th>\n",
       "      <td>42135048</td>\n",
       "      <td>GLORIA LUCILA LAIZA ESPINOZA</td>\n",
       "      <td>LAIZA</td>\n",
       "      <td>ESPINOZA</td>\n",
       "      <td>GLORIA LUCILA</td>\n",
       "    </tr>\n",
       "    <tr>\n",
       "      <th>4</th>\n",
       "      <td>21462609</td>\n",
       "      <td>BENJAMIN ISRAEL MORON DOMINGUEZ</td>\n",
       "      <td>MORON</td>\n",
       "      <td>DOMINGUEZ</td>\n",
       "      <td>BENJAMIN ISRAEL</td>\n",
       "    </tr>\n",
       "    <tr>\n",
       "      <th>...</th>\n",
       "      <td>...</td>\n",
       "      <td>...</td>\n",
       "      <td>...</td>\n",
       "      <td>...</td>\n",
       "      <td>...</td>\n",
       "    </tr>\n",
       "    <tr>\n",
       "      <th>216</th>\n",
       "      <td>17435860</td>\n",
       "      <td>CARMEN JULIA PALMER OLIDEN</td>\n",
       "      <td>PALMER</td>\n",
       "      <td>OLIDEN</td>\n",
       "      <td>CARMEN JULIA</td>\n",
       "    </tr>\n",
       "    <tr>\n",
       "      <th>217</th>\n",
       "      <td>26704681</td>\n",
       "      <td>TATIANOVA ABANTO TAFUR</td>\n",
       "      <td>ABANTO</td>\n",
       "      <td>TAFUR</td>\n",
       "      <td>TATIANOVA</td>\n",
       "    </tr>\n",
       "    <tr>\n",
       "      <th>218</th>\n",
       "      <td>10019679</td>\n",
       "      <td>GIANNY ELEISER MORALES FERNANDEZ</td>\n",
       "      <td>MORALES</td>\n",
       "      <td>FERNANDEZ</td>\n",
       "      <td>GIANNY ELEISER</td>\n",
       "    </tr>\n",
       "    <tr>\n",
       "      <th>219</th>\n",
       "      <td>41332693</td>\n",
       "      <td>NORA ELIZABETH LLANCA VARA</td>\n",
       "      <td>LLANCA</td>\n",
       "      <td>VARA</td>\n",
       "      <td>NORA ELIZABETH</td>\n",
       "    </tr>\n",
       "    <tr>\n",
       "      <th>220</th>\n",
       "      <td>45101512</td>\n",
       "      <td>YULEMI PAULA PACHECO ZAPATA</td>\n",
       "      <td>PACHECO</td>\n",
       "      <td>ZAPATA</td>\n",
       "      <td>YULEMI PAULA</td>\n",
       "    </tr>\n",
       "  </tbody>\n",
       "</table>\n",
       "<p>221 rows × 5 columns</p>\n",
       "</div>"
      ],
      "text/plain": [
       "          DNI       participant_nombre_apellido ApellidoPaterno ApellidoMaterno          Nombres\n",
       "0    40070874      JUAN ANTONIO ROSAS CASTAÑEDA           ROSAS       CASTAÑEDA     JUAN ANTONIO\n",
       "1     4069691        ELVIRA LAURA HUAMAN PORTAL          HUAMAN          PORTAL     ELVIRA LAURA\n",
       "2     8254850    ELARD FERNANDO ZAVALAGA VARGAS        ZAVALAGA          VARGAS   ELARD FERNANDO\n",
       "3    42135048      GLORIA LUCILA LAIZA ESPINOZA           LAIZA        ESPINOZA    GLORIA LUCILA\n",
       "4    21462609   BENJAMIN ISRAEL MORON DOMINGUEZ           MORON       DOMINGUEZ  BENJAMIN ISRAEL\n",
       "..        ...                               ...             ...             ...              ...\n",
       "216  17435860        CARMEN JULIA PALMER OLIDEN          PALMER          OLIDEN     CARMEN JULIA\n",
       "217  26704681            TATIANOVA ABANTO TAFUR          ABANTO           TAFUR        TATIANOVA\n",
       "218  10019679  GIANNY ELEISER MORALES FERNANDEZ         MORALES       FERNANDEZ   GIANNY ELEISER\n",
       "219  41332693        NORA ELIZABETH LLANCA VARA          LLANCA            VARA   NORA ELIZABETH\n",
       "220  45101512       YULEMI PAULA PACHECO ZAPATA         PACHECO          ZAPATA     YULEMI PAULA\n",
       "\n",
       "[221 rows x 5 columns]"
      ]
     },
     "execution_count": 70,
     "metadata": {},
     "output_type": "execute_result"
    }
   ],
   "source": [
    "result_1"
   ]
  },
  {
   "cell_type": "code",
   "execution_count": 71,
   "id": "8c692521",
   "metadata": {},
   "outputs": [
    {
     "data": {
      "text/html": [
       "<div>\n",
       "<style scoped>\n",
       "    .dataframe tbody tr th:only-of-type {\n",
       "        vertical-align: middle;\n",
       "    }\n",
       "\n",
       "    .dataframe tbody tr th {\n",
       "        vertical-align: top;\n",
       "    }\n",
       "\n",
       "    .dataframe thead th {\n",
       "        text-align: right;\n",
       "    }\n",
       "</style>\n",
       "<table border=\"1\" class=\"dataframe\">\n",
       "  <thead>\n",
       "    <tr style=\"text-align: right;\">\n",
       "      <th></th>\n",
       "      <th>nrodocumento_x</th>\n",
       "      <th>participant_nombre_apellido_x</th>\n",
       "      <th>participant_apellido_nombre</th>\n",
       "      <th>index</th>\n",
       "      <th>juez</th>\n",
       "      <th>nrodocumento_y</th>\n",
       "      <th>participant_nombre_apellido_y</th>\n",
       "      <th>_merge</th>\n",
       "    </tr>\n",
       "  </thead>\n",
       "  <tbody>\n",
       "    <tr>\n",
       "      <th>0</th>\n",
       "      <td>40070874</td>\n",
       "      <td>JUAN ANTONIO ROSAS CASTAÑEDA</td>\n",
       "      <td>ROSAS CASTAÑEDA JUAN ANTONIO</td>\n",
       "      <td>NaN</td>\n",
       "      <td>NaN</td>\n",
       "      <td>NaN</td>\n",
       "      <td>NaN</td>\n",
       "      <td>left_only</td>\n",
       "    </tr>\n",
       "    <tr>\n",
       "      <th>1</th>\n",
       "      <td>4069691</td>\n",
       "      <td>ELVIRA LAURA HUAMAN PORTAL</td>\n",
       "      <td>HUAMAN PORTAL ELVIRA LAURA</td>\n",
       "      <td>NaN</td>\n",
       "      <td>NaN</td>\n",
       "      <td>NaN</td>\n",
       "      <td>NaN</td>\n",
       "      <td>left_only</td>\n",
       "    </tr>\n",
       "    <tr>\n",
       "      <th>2</th>\n",
       "      <td>8254850</td>\n",
       "      <td>ELARD FERNANDO ZAVALAGA VARGAS</td>\n",
       "      <td>ZAVALAGA VARGAS ELARD FERNANDO</td>\n",
       "      <td>NaN</td>\n",
       "      <td>NaN</td>\n",
       "      <td>NaN</td>\n",
       "      <td>NaN</td>\n",
       "      <td>left_only</td>\n",
       "    </tr>\n",
       "    <tr>\n",
       "      <th>3</th>\n",
       "      <td>42135048</td>\n",
       "      <td>GLORIA LUCILA LAIZA ESPINOZA</td>\n",
       "      <td>LAIZA ESPINOZA GLORIA LUCILA</td>\n",
       "      <td>NaN</td>\n",
       "      <td>NaN</td>\n",
       "      <td>NaN</td>\n",
       "      <td>NaN</td>\n",
       "      <td>left_only</td>\n",
       "    </tr>\n",
       "    <tr>\n",
       "      <th>4</th>\n",
       "      <td>21462609</td>\n",
       "      <td>BENJAMIN ISRAEL MORON DOMINGUEZ</td>\n",
       "      <td>MORON DOMINGUEZ BENJAMIN ISRAEL</td>\n",
       "      <td>NaN</td>\n",
       "      <td>NaN</td>\n",
       "      <td>NaN</td>\n",
       "      <td>NaN</td>\n",
       "      <td>left_only</td>\n",
       "    </tr>\n",
       "    <tr>\n",
       "      <th>...</th>\n",
       "      <td>...</td>\n",
       "      <td>...</td>\n",
       "      <td>...</td>\n",
       "      <td>...</td>\n",
       "      <td>...</td>\n",
       "      <td>...</td>\n",
       "      <td>...</td>\n",
       "      <td>...</td>\n",
       "    </tr>\n",
       "    <tr>\n",
       "      <th>220</th>\n",
       "      <td>17435860</td>\n",
       "      <td>CARMEN JULIA PALMER OLIDEN</td>\n",
       "      <td>PALMER OLIDEN CARMEN JULIA</td>\n",
       "      <td>NaN</td>\n",
       "      <td>NaN</td>\n",
       "      <td>NaN</td>\n",
       "      <td>NaN</td>\n",
       "      <td>left_only</td>\n",
       "    </tr>\n",
       "    <tr>\n",
       "      <th>221</th>\n",
       "      <td>26704681</td>\n",
       "      <td>TATIANOVA ABANTO TAFUR</td>\n",
       "      <td>ABANTO TAFUR TATIANOVA</td>\n",
       "      <td>NaN</td>\n",
       "      <td>NaN</td>\n",
       "      <td>NaN</td>\n",
       "      <td>NaN</td>\n",
       "      <td>left_only</td>\n",
       "    </tr>\n",
       "    <tr>\n",
       "      <th>222</th>\n",
       "      <td>10019679</td>\n",
       "      <td>GIANNY ELEISER MORALES FERNANDEZ</td>\n",
       "      <td>MORALES FERNANDEZ GIANNY ELEISER</td>\n",
       "      <td>NaN</td>\n",
       "      <td>NaN</td>\n",
       "      <td>NaN</td>\n",
       "      <td>NaN</td>\n",
       "      <td>left_only</td>\n",
       "    </tr>\n",
       "    <tr>\n",
       "      <th>223</th>\n",
       "      <td>41332693</td>\n",
       "      <td>NORA ELIZABETH LLANCA VARA</td>\n",
       "      <td>LLANCA VARA NORA ELIZABETH</td>\n",
       "      <td>NaN</td>\n",
       "      <td>NaN</td>\n",
       "      <td>NaN</td>\n",
       "      <td>NaN</td>\n",
       "      <td>left_only</td>\n",
       "    </tr>\n",
       "    <tr>\n",
       "      <th>224</th>\n",
       "      <td>45101512</td>\n",
       "      <td>YULEMI PAULA PACHECO ZAPATA</td>\n",
       "      <td>PACHECO ZAPATA YULEMI PAULA</td>\n",
       "      <td>52878.0</td>\n",
       "      <td>PACHECO ZAPATA YULEMI PAULA</td>\n",
       "      <td>45101512.0</td>\n",
       "      <td>YULEMI PAULA PACHECO ZAPATA</td>\n",
       "      <td>both</td>\n",
       "    </tr>\n",
       "  </tbody>\n",
       "</table>\n",
       "<p>225 rows × 8 columns</p>\n",
       "</div>"
      ],
      "text/plain": [
       "     nrodocumento_x     participant_nombre_apellido_x       participant_apellido_nombre    index                         juez  nrodocumento_y participant_nombre_apellido_y     _merge\n",
       "0          40070874      JUAN ANTONIO ROSAS CASTAÑEDA      ROSAS CASTAÑEDA JUAN ANTONIO      NaN                          NaN             NaN                           NaN  left_only\n",
       "1           4069691        ELVIRA LAURA HUAMAN PORTAL        HUAMAN PORTAL ELVIRA LAURA      NaN                          NaN             NaN                           NaN  left_only\n",
       "2           8254850    ELARD FERNANDO ZAVALAGA VARGAS    ZAVALAGA VARGAS ELARD FERNANDO      NaN                          NaN             NaN                           NaN  left_only\n",
       "3          42135048      GLORIA LUCILA LAIZA ESPINOZA      LAIZA ESPINOZA GLORIA LUCILA      NaN                          NaN             NaN                           NaN  left_only\n",
       "4          21462609   BENJAMIN ISRAEL MORON DOMINGUEZ   MORON DOMINGUEZ BENJAMIN ISRAEL      NaN                          NaN             NaN                           NaN  left_only\n",
       "..              ...                               ...                               ...      ...                          ...             ...                           ...        ...\n",
       "220        17435860        CARMEN JULIA PALMER OLIDEN        PALMER OLIDEN CARMEN JULIA      NaN                          NaN             NaN                           NaN  left_only\n",
       "221        26704681            TATIANOVA ABANTO TAFUR            ABANTO TAFUR TATIANOVA      NaN                          NaN             NaN                           NaN  left_only\n",
       "222        10019679  GIANNY ELEISER MORALES FERNANDEZ  MORALES FERNANDEZ GIANNY ELEISER      NaN                          NaN             NaN                           NaN  left_only\n",
       "223        41332693        NORA ELIZABETH LLANCA VARA        LLANCA VARA NORA ELIZABETH      NaN                          NaN             NaN                           NaN  left_only\n",
       "224        45101512       YULEMI PAULA PACHECO ZAPATA       PACHECO ZAPATA YULEMI PAULA  52878.0  PACHECO ZAPATA YULEMI PAULA      45101512.0   YULEMI PAULA PACHECO ZAPATA       both\n",
       "\n",
       "[225 rows x 8 columns]"
      ]
     },
     "execution_count": 71,
     "metadata": {},
     "output_type": "execute_result"
    }
   ],
   "source": [
    "result_2 = pd.merge(exp_participants, apellido_nombre_merge, on=\"participant_apellido_nombre\", indicator=True, how=\"outer\")\n",
    "\n",
    "result_2"
   ]
  },
  {
   "cell_type": "code",
   "execution_count": 72,
   "id": "3a5977ed",
   "metadata": {},
   "outputs": [],
   "source": [
    "result_2 = pd.merge(result_1, apellido_nombre_merge, left_on=\"DNI\", right_on = \"nrodocumento\", indicator=True, how=\"outer\")"
   ]
  },
  {
   "cell_type": "code",
   "execution_count": 73,
   "id": "2550b9c2",
   "metadata": {},
   "outputs": [],
   "source": [
    "result_2 = result_2[result_2[\"_merge\"] == \"left_only\"]"
   ]
  },
  {
   "cell_type": "code",
   "execution_count": 74,
   "id": "31a1997b",
   "metadata": {},
   "outputs": [
    {
     "data": {
      "text/html": [
       "<div>\n",
       "<style scoped>\n",
       "    .dataframe tbody tr th:only-of-type {\n",
       "        vertical-align: middle;\n",
       "    }\n",
       "\n",
       "    .dataframe tbody tr th {\n",
       "        vertical-align: top;\n",
       "    }\n",
       "\n",
       "    .dataframe thead th {\n",
       "        text-align: right;\n",
       "    }\n",
       "</style>\n",
       "<table border=\"1\" class=\"dataframe\">\n",
       "  <thead>\n",
       "    <tr style=\"text-align: right;\">\n",
       "      <th></th>\n",
       "      <th>DNI</th>\n",
       "      <th>participant_nombre_apellido_x</th>\n",
       "      <th>ApellidoPaterno</th>\n",
       "      <th>ApellidoMaterno</th>\n",
       "      <th>Nombres</th>\n",
       "      <th>index</th>\n",
       "      <th>juez</th>\n",
       "      <th>nrodocumento</th>\n",
       "      <th>participant_nombre_apellido_y</th>\n",
       "      <th>participant_apellido_nombre</th>\n",
       "      <th>_merge</th>\n",
       "    </tr>\n",
       "  </thead>\n",
       "  <tbody>\n",
       "    <tr>\n",
       "      <th>0</th>\n",
       "      <td>40070874</td>\n",
       "      <td>JUAN ANTONIO ROSAS CASTAÑEDA</td>\n",
       "      <td>ROSAS</td>\n",
       "      <td>CASTAÑEDA</td>\n",
       "      <td>JUAN ANTONIO</td>\n",
       "      <td>NaN</td>\n",
       "      <td>NaN</td>\n",
       "      <td>NaN</td>\n",
       "      <td>NaN</td>\n",
       "      <td>NaN</td>\n",
       "      <td>left_only</td>\n",
       "    </tr>\n",
       "    <tr>\n",
       "      <th>1</th>\n",
       "      <td>4069691</td>\n",
       "      <td>ELVIRA LAURA HUAMAN PORTAL</td>\n",
       "      <td>HUAMAN</td>\n",
       "      <td>PORTAL</td>\n",
       "      <td>ELVIRA LAURA</td>\n",
       "      <td>NaN</td>\n",
       "      <td>NaN</td>\n",
       "      <td>NaN</td>\n",
       "      <td>NaN</td>\n",
       "      <td>NaN</td>\n",
       "      <td>left_only</td>\n",
       "    </tr>\n",
       "    <tr>\n",
       "      <th>2</th>\n",
       "      <td>8254850</td>\n",
       "      <td>ELARD FERNANDO ZAVALAGA VARGAS</td>\n",
       "      <td>ZAVALAGA</td>\n",
       "      <td>VARGAS</td>\n",
       "      <td>ELARD FERNANDO</td>\n",
       "      <td>NaN</td>\n",
       "      <td>NaN</td>\n",
       "      <td>NaN</td>\n",
       "      <td>NaN</td>\n",
       "      <td>NaN</td>\n",
       "      <td>left_only</td>\n",
       "    </tr>\n",
       "    <tr>\n",
       "      <th>3</th>\n",
       "      <td>42135048</td>\n",
       "      <td>GLORIA LUCILA LAIZA ESPINOZA</td>\n",
       "      <td>LAIZA</td>\n",
       "      <td>ESPINOZA</td>\n",
       "      <td>GLORIA LUCILA</td>\n",
       "      <td>NaN</td>\n",
       "      <td>NaN</td>\n",
       "      <td>NaN</td>\n",
       "      <td>NaN</td>\n",
       "      <td>NaN</td>\n",
       "      <td>left_only</td>\n",
       "    </tr>\n",
       "    <tr>\n",
       "      <th>4</th>\n",
       "      <td>21462609</td>\n",
       "      <td>BENJAMIN ISRAEL MORON DOMINGUEZ</td>\n",
       "      <td>MORON</td>\n",
       "      <td>DOMINGUEZ</td>\n",
       "      <td>BENJAMIN ISRAEL</td>\n",
       "      <td>NaN</td>\n",
       "      <td>NaN</td>\n",
       "      <td>NaN</td>\n",
       "      <td>NaN</td>\n",
       "      <td>NaN</td>\n",
       "      <td>left_only</td>\n",
       "    </tr>\n",
       "    <tr>\n",
       "      <th>...</th>\n",
       "      <td>...</td>\n",
       "      <td>...</td>\n",
       "      <td>...</td>\n",
       "      <td>...</td>\n",
       "      <td>...</td>\n",
       "      <td>...</td>\n",
       "      <td>...</td>\n",
       "      <td>...</td>\n",
       "      <td>...</td>\n",
       "      <td>...</td>\n",
       "      <td>...</td>\n",
       "    </tr>\n",
       "    <tr>\n",
       "      <th>215</th>\n",
       "      <td>7242034</td>\n",
       "      <td>CARMEN LEONOR BARRERA UTANO</td>\n",
       "      <td>BARRERA</td>\n",
       "      <td>UTANO</td>\n",
       "      <td>CARMEN LEONOR</td>\n",
       "      <td>NaN</td>\n",
       "      <td>NaN</td>\n",
       "      <td>NaN</td>\n",
       "      <td>NaN</td>\n",
       "      <td>NaN</td>\n",
       "      <td>left_only</td>\n",
       "    </tr>\n",
       "    <tr>\n",
       "      <th>216</th>\n",
       "      <td>17435860</td>\n",
       "      <td>CARMEN JULIA PALMER OLIDEN</td>\n",
       "      <td>PALMER</td>\n",
       "      <td>OLIDEN</td>\n",
       "      <td>CARMEN JULIA</td>\n",
       "      <td>NaN</td>\n",
       "      <td>NaN</td>\n",
       "      <td>NaN</td>\n",
       "      <td>NaN</td>\n",
       "      <td>NaN</td>\n",
       "      <td>left_only</td>\n",
       "    </tr>\n",
       "    <tr>\n",
       "      <th>217</th>\n",
       "      <td>26704681</td>\n",
       "      <td>TATIANOVA ABANTO TAFUR</td>\n",
       "      <td>ABANTO</td>\n",
       "      <td>TAFUR</td>\n",
       "      <td>TATIANOVA</td>\n",
       "      <td>NaN</td>\n",
       "      <td>NaN</td>\n",
       "      <td>NaN</td>\n",
       "      <td>NaN</td>\n",
       "      <td>NaN</td>\n",
       "      <td>left_only</td>\n",
       "    </tr>\n",
       "    <tr>\n",
       "      <th>218</th>\n",
       "      <td>10019679</td>\n",
       "      <td>GIANNY ELEISER MORALES FERNANDEZ</td>\n",
       "      <td>MORALES</td>\n",
       "      <td>FERNANDEZ</td>\n",
       "      <td>GIANNY ELEISER</td>\n",
       "      <td>NaN</td>\n",
       "      <td>NaN</td>\n",
       "      <td>NaN</td>\n",
       "      <td>NaN</td>\n",
       "      <td>NaN</td>\n",
       "      <td>left_only</td>\n",
       "    </tr>\n",
       "    <tr>\n",
       "      <th>219</th>\n",
       "      <td>41332693</td>\n",
       "      <td>NORA ELIZABETH LLANCA VARA</td>\n",
       "      <td>LLANCA</td>\n",
       "      <td>VARA</td>\n",
       "      <td>NORA ELIZABETH</td>\n",
       "      <td>NaN</td>\n",
       "      <td>NaN</td>\n",
       "      <td>NaN</td>\n",
       "      <td>NaN</td>\n",
       "      <td>NaN</td>\n",
       "      <td>left_only</td>\n",
       "    </tr>\n",
       "  </tbody>\n",
       "</table>\n",
       "<p>174 rows × 11 columns</p>\n",
       "</div>"
      ],
      "text/plain": [
       "          DNI     participant_nombre_apellido_x ApellidoPaterno ApellidoMaterno          Nombres  index juez  nrodocumento participant_nombre_apellido_y participant_apellido_nombre     _merge\n",
       "0    40070874      JUAN ANTONIO ROSAS CASTAÑEDA           ROSAS       CASTAÑEDA     JUAN ANTONIO    NaN  NaN           NaN                           NaN                         NaN  left_only\n",
       "1     4069691        ELVIRA LAURA HUAMAN PORTAL          HUAMAN          PORTAL     ELVIRA LAURA    NaN  NaN           NaN                           NaN                         NaN  left_only\n",
       "2     8254850    ELARD FERNANDO ZAVALAGA VARGAS        ZAVALAGA          VARGAS   ELARD FERNANDO    NaN  NaN           NaN                           NaN                         NaN  left_only\n",
       "3    42135048      GLORIA LUCILA LAIZA ESPINOZA           LAIZA        ESPINOZA    GLORIA LUCILA    NaN  NaN           NaN                           NaN                         NaN  left_only\n",
       "4    21462609   BENJAMIN ISRAEL MORON DOMINGUEZ           MORON       DOMINGUEZ  BENJAMIN ISRAEL    NaN  NaN           NaN                           NaN                         NaN  left_only\n",
       "..        ...                               ...             ...             ...              ...    ...  ...           ...                           ...                         ...        ...\n",
       "215   7242034       CARMEN LEONOR BARRERA UTANO         BARRERA           UTANO    CARMEN LEONOR    NaN  NaN           NaN                           NaN                         NaN  left_only\n",
       "216  17435860        CARMEN JULIA PALMER OLIDEN          PALMER          OLIDEN     CARMEN JULIA    NaN  NaN           NaN                           NaN                         NaN  left_only\n",
       "217  26704681            TATIANOVA ABANTO TAFUR          ABANTO           TAFUR        TATIANOVA    NaN  NaN           NaN                           NaN                         NaN  left_only\n",
       "218  10019679  GIANNY ELEISER MORALES FERNANDEZ         MORALES       FERNANDEZ   GIANNY ELEISER    NaN  NaN           NaN                           NaN                         NaN  left_only\n",
       "219  41332693        NORA ELIZABETH LLANCA VARA          LLANCA            VARA   NORA ELIZABETH    NaN  NaN           NaN                           NaN                         NaN  left_only\n",
       "\n",
       "[174 rows x 11 columns]"
      ]
     },
     "execution_count": 74,
     "metadata": {},
     "output_type": "execute_result"
    }
   ],
   "source": [
    "result_2"
   ]
  },
  {
   "cell_type": "code",
   "execution_count": 75,
   "id": "c40e0d70",
   "metadata": {},
   "outputs": [],
   "source": [
    "result_2.to_excel(f'{dc_temp_path}/unmatched_judges.xlsx', index=False)"
   ]
  },
  {
   "cell_type": "code",
   "execution_count": 76,
   "id": "e900d2c2",
   "metadata": {},
   "outputs": [
    {
     "data": {
      "text/plain": [
       "47"
      ]
     },
     "execution_count": 76,
     "metadata": {},
     "output_type": "execute_result"
    }
   ],
   "source": [
    "len(apellido_nombre_merge)"
   ]
  },
  {
   "cell_type": "code",
   "execution_count": 77,
   "id": "f8d3595b",
   "metadata": {},
   "outputs": [
    {
     "data": {
      "text/plain": [
       "4"
      ]
     },
     "execution_count": 77,
     "metadata": {},
     "output_type": "execute_result"
    }
   ],
   "source": [
    "len(nombre_apellido_merge)"
   ]
  },
  {
   "cell_type": "code",
   "execution_count": 78,
   "id": "6e70421c",
   "metadata": {},
   "outputs": [],
   "source": [
    "judge_names_only_cleaned = judge_names_only_cleaned[~judge_names_only_cleaned[\"juez\"].isin(apellido_nombre_merge[\"juez\"])]"
   ]
  },
  {
   "cell_type": "code",
   "execution_count": 79,
   "id": "ea4a3855",
   "metadata": {},
   "outputs": [],
   "source": [
    "exp_participants_cleaned = exp_participants[~exp_participants[\"participant_nombre_apellido\"].isin(\n",
    "                                            nombre_apellido_merge[\"juez\"])]"
   ]
  },
  {
   "cell_type": "code",
   "execution_count": 80,
   "id": "6bfe6070",
   "metadata": {},
   "outputs": [],
   "source": [
    "exp_participants_cleaned = exp_participants_cleaned[~exp_participants_cleaned[\"participant_apellido_nombre\"].isin(\n",
    "                                            apellido_nombre_merge[\"juez\"])]"
   ]
  },
  {
   "cell_type": "code",
   "execution_count": 81,
   "id": "1d33895c",
   "metadata": {},
   "outputs": [
    {
     "data": {
      "text/plain": [
       "55"
      ]
     },
     "execution_count": 81,
     "metadata": {},
     "output_type": "execute_result"
    }
   ],
   "source": [
    "multiple_judge_names[\"juez_1\"].nunique()"
   ]
  },
  {
   "cell_type": "code",
   "execution_count": 82,
   "id": "3ac27e07",
   "metadata": {},
   "outputs": [
    {
     "data": {
      "text/html": [
       "<div>\n",
       "<style scoped>\n",
       "    .dataframe tbody tr th:only-of-type {\n",
       "        vertical-align: middle;\n",
       "    }\n",
       "\n",
       "    .dataframe tbody tr th {\n",
       "        vertical-align: top;\n",
       "    }\n",
       "\n",
       "    .dataframe thead th {\n",
       "        text-align: right;\n",
       "    }\n",
       "</style>\n",
       "<table border=\"1\" class=\"dataframe\">\n",
       "  <thead>\n",
       "    <tr style=\"text-align: right;\">\n",
       "      <th></th>\n",
       "      <th>expediente_n°_</th>\n",
       "      <th>organo_jurisdiccional_</th>\n",
       "      <th>distrito_judicial_</th>\n",
       "      <th>juez_</th>\n",
       "      <th>especialista_legal_</th>\n",
       "      <th>fecha_de_inicio_</th>\n",
       "      <th>proceso_</th>\n",
       "      <th>observacion_</th>\n",
       "      <th>especialidad_</th>\n",
       "      <th>materia_s_</th>\n",
       "      <th>...</th>\n",
       "      <th>motivo_conclusion_</th>\n",
       "      <th>sumilla_</th>\n",
       "      <th>juez_splitted</th>\n",
       "      <th>n_judges_case</th>\n",
       "      <th>juez_1</th>\n",
       "      <th>juez_2</th>\n",
       "      <th>juez_3</th>\n",
       "      <th>juez_4</th>\n",
       "      <th>juez_5</th>\n",
       "      <th>juez_6</th>\n",
       "    </tr>\n",
       "  </thead>\n",
       "  <tbody>\n",
       "    <tr>\n",
       "      <th>2540</th>\n",
       "      <td>00001-2022-0-0102-JR-LA-01</td>\n",
       "      <td>SALA CIVIL - SEDE UTCUBAMBA</td>\n",
       "      <td>AMAZONAS</td>\n",
       "      <td>ARTEAGA RAMIREZ FLORMIRA. VIGIL CURO LUZ CAROL...</td>\n",
       "      <td>PILCO MASLUCAN MERCEDES</td>\n",
       "      <td>12/01/2022</td>\n",
       "      <td>ORDINARIO</td>\n",
       "      <td>\\n\\t\\t\\t\\t\\t\\t\\t\\t\\t\\t\\t\\t\\n\\t\\t\\t\\t\\t\\t\\t\\t\\t...</td>\n",
       "      <td>LABORAL</td>\n",
       "      <td>REINTEGRO DE BENEFICIOS SOCIALES</td>\n",
       "      <td>...</td>\n",
       "      <td>-------</td>\n",
       "      <td>DEMANDA REINTEGRO DE BENEFICIOS SOCIALES</td>\n",
       "      <td>[ARTEAGA RAMIREZ FLORMIRA,  VIGIL CURO LUZ CAR...</td>\n",
       "      <td>3</td>\n",
       "      <td>ARTEAGA RAMIREZ FLORMIRA</td>\n",
       "      <td>VIGIL CURO LUZ CAROLINA</td>\n",
       "      <td>MOROCHO NUÑEZ GELNER</td>\n",
       "      <td>NaN</td>\n",
       "      <td>NaN</td>\n",
       "      <td>NaN</td>\n",
       "    </tr>\n",
       "    <tr>\n",
       "      <th>2548</th>\n",
       "      <td>00101-2022-0-0102-JR-LA-01</td>\n",
       "      <td>SALA CIVIL - SEDE UTCUBAMBA</td>\n",
       "      <td>AMAZONAS</td>\n",
       "      <td>ARTEAGA RAMIREZ FLORMIRA. VIGIL CURO LUZ CAROL...</td>\n",
       "      <td>PILCO MASLUCAN MERCEDES</td>\n",
       "      <td>22/07/2022</td>\n",
       "      <td>ESPECIAL</td>\n",
       "      <td>\\n\\t\\t\\t\\t\\t\\t\\t\\t\\t\\t\\t\\t\\n\\t\\t\\t\\t\\t\\t\\t\\t\\t...</td>\n",
       "      <td>LABORAL</td>\n",
       "      <td>ACCION CONTENCIOSA ADMINISTRATIVA</td>\n",
       "      <td>...</td>\n",
       "      <td>-------</td>\n",
       "      <td>DEMANDA CONTENCIOSO ADMINISTRATIVO DE NULIDAD ...</td>\n",
       "      <td>[ARTEAGA RAMIREZ FLORMIRA,  VIGIL CURO LUZ CAR...</td>\n",
       "      <td>3</td>\n",
       "      <td>ARTEAGA RAMIREZ FLORMIRA</td>\n",
       "      <td>VIGIL CURO LUZ CAROLINA</td>\n",
       "      <td>MOROCHO NUÑEZ GELNER</td>\n",
       "      <td>NaN</td>\n",
       "      <td>NaN</td>\n",
       "      <td>NaN</td>\n",
       "    </tr>\n",
       "    <tr>\n",
       "      <th>2565</th>\n",
       "      <td>00106-2022-95-0107-JR-LA-01</td>\n",
       "      <td>SALA CIVIL - SEDE UTCUBAMBA</td>\n",
       "      <td>AMAZONAS</td>\n",
       "      <td>ARTEAGA RAMIREZ FLORMIRA. CRISPIN QUISPE ALEJA...</td>\n",
       "      <td>PILCO MASLUCAN MERCEDES</td>\n",
       "      <td>28/10/2022</td>\n",
       "      <td>ORDINARIO</td>\n",
       "      <td>\\n\\t\\t\\t\\t\\t\\t\\t\\t\\t\\t\\t\\t\\n\\t\\t\\t\\t\\t\\t\\t\\t\\t...</td>\n",
       "      <td>LABORAL</td>\n",
       "      <td>RECONOCIMIENTO DE LOS DERECHOS COMPRENDIDOS EN...</td>\n",
       "      <td>...</td>\n",
       "      <td>-------</td>\n",
       "      <td>INTERPONGO MEDIDA CAUTELAR GENERICA</td>\n",
       "      <td>[ARTEAGA RAMIREZ FLORMIRA,  CRISPIN QUISPE ALE...</td>\n",
       "      <td>4</td>\n",
       "      <td>ARTEAGA RAMIREZ FLORMIRA</td>\n",
       "      <td>CRISPIN QUISPE ALEJANDRO</td>\n",
       "      <td>MOROCHO NUÑEZ GELNER</td>\n",
       "      <td>VIGIL CURO LUZ CAROLINA</td>\n",
       "      <td>NaN</td>\n",
       "      <td>NaN</td>\n",
       "    </tr>\n",
       "    <tr>\n",
       "      <th>2603</th>\n",
       "      <td>00117-2022-0-0101-JR-LA-01</td>\n",
       "      <td>SALA CIVIL - SEDE CENTRAL</td>\n",
       "      <td>AMAZONAS</td>\n",
       "      <td>TAFUR GUPIOC ESPERANZA. MARTINEZ CHASQUERO EDD...</td>\n",
       "      <td>VILCARROMERO CULQUI MARIA DOLORES</td>\n",
       "      <td>17/03/2022</td>\n",
       "      <td>ORDINARIO</td>\n",
       "      <td>\\n\\t\\t\\t\\t\\t\\t\\t\\t\\t\\t\\t\\t\\n\\t\\t\\t\\t\\t\\t\\t\\t\\t...</td>\n",
       "      <td>LABORAL</td>\n",
       "      <td>ACCION CONTENCIOSA ADMINISTRATIVA</td>\n",
       "      <td>...</td>\n",
       "      <td>-------</td>\n",
       "      <td>DEMANDA NULIDAD DE RESOLUCIONES ADMINISTRATIVA...</td>\n",
       "      <td>[TAFUR GUPIOC ESPERANZA,  MARTINEZ CHASQUERO E...</td>\n",
       "      <td>3</td>\n",
       "      <td>TAFUR GUPIOC ESPERANZA</td>\n",
       "      <td>MARTINEZ CHASQUERO EDDY</td>\n",
       "      <td>TORREJÓN RENGIFO LUIS</td>\n",
       "      <td>NaN</td>\n",
       "      <td>NaN</td>\n",
       "      <td>NaN</td>\n",
       "    </tr>\n",
       "    <tr>\n",
       "      <th>2619</th>\n",
       "      <td>00121-2022-0-0102-JR-LA-01</td>\n",
       "      <td>SALA CIVIL - SEDE UTCUBAMBA</td>\n",
       "      <td>AMAZONAS</td>\n",
       "      <td>ARTEAGA RAMIREZ FLORMIRA. CRISPIN QUISPE ALEJA...</td>\n",
       "      <td>PILCO MASLUCAN MERCEDES</td>\n",
       "      <td>01/09/2022</td>\n",
       "      <td>ORDINARIO</td>\n",
       "      <td>\\n\\t\\t\\t\\t\\t\\t\\t\\t\\t\\t\\t\\t\\n\\t\\t\\t\\t\\t\\t\\t\\t\\t...</td>\n",
       "      <td>LABORAL</td>\n",
       "      <td>ACCION CONTENCIOSA ADMINISTRATIVA</td>\n",
       "      <td>...</td>\n",
       "      <td>-------</td>\n",
       "      <td>DEMANDA ACCION CONTENCIOSA ADMINISTRATIVA</td>\n",
       "      <td>[ARTEAGA RAMIREZ FLORMIRA,  CRISPIN QUISPE ALE...</td>\n",
       "      <td>4</td>\n",
       "      <td>ARTEAGA RAMIREZ FLORMIRA</td>\n",
       "      <td>CRISPIN QUISPE ALEJANDRO</td>\n",
       "      <td>MOROCHO NUÑEZ GELNER</td>\n",
       "      <td>VIGIL CURO LUZ CAROLINA</td>\n",
       "      <td>NaN</td>\n",
       "      <td>NaN</td>\n",
       "    </tr>\n",
       "    <tr>\n",
       "      <th>...</th>\n",
       "      <td>...</td>\n",
       "      <td>...</td>\n",
       "      <td>...</td>\n",
       "      <td>...</td>\n",
       "      <td>...</td>\n",
       "      <td>...</td>\n",
       "      <td>...</td>\n",
       "      <td>...</td>\n",
       "      <td>...</td>\n",
       "      <td>...</td>\n",
       "      <td>...</td>\n",
       "      <td>...</td>\n",
       "      <td>...</td>\n",
       "      <td>...</td>\n",
       "      <td>...</td>\n",
       "      <td>...</td>\n",
       "      <td>...</td>\n",
       "      <td>...</td>\n",
       "      <td>...</td>\n",
       "      <td>...</td>\n",
       "      <td>...</td>\n",
       "    </tr>\n",
       "    <tr>\n",
       "      <th>55968</th>\n",
       "      <td>00003-2022-0-2402-JR-LA-02</td>\n",
       "      <td>SALA LABORAL</td>\n",
       "      <td>UCAYALI</td>\n",
       "      <td>CRUZ COBEÑAS MARLENY. BARBARAN RIOS ASELA ISAB...</td>\n",
       "      <td>SUELLEN Y. POPOLIZIO PANDURO</td>\n",
       "      <td>04/02/2022</td>\n",
       "      <td>ORDINARIO</td>\n",
       "      <td>\\n\\t\\t\\t\\t\\t\\t\\t\\t\\t\\t\\t\\t\\n\\t\\t\\t\\t\\t\\t\\t\\t\\t...</td>\n",
       "      <td>LABORAL</td>\n",
       "      <td>DESNATURALIZACIÓN DE CONTRATO</td>\n",
       "      <td>...</td>\n",
       "      <td>-------</td>\n",
       "      <td>INTERPONE DEMANDA DE DESNATURALIZACION DE CONT...</td>\n",
       "      <td>[CRUZ COBEÑAS MARLENY,  BARBARAN RIOS ASELA IS...</td>\n",
       "      <td>3</td>\n",
       "      <td>CRUZ COBEÑAS MARLENY</td>\n",
       "      <td>BARBARAN RIOS ASELA ISABEL</td>\n",
       "      <td>ELIANA TUESTA OYARCE DE CACERES</td>\n",
       "      <td>NaN</td>\n",
       "      <td>NaN</td>\n",
       "      <td>NaN</td>\n",
       "    </tr>\n",
       "    <tr>\n",
       "      <th>56220</th>\n",
       "      <td>00012-2022-0-3301-JR-LA-01</td>\n",
       "      <td>SALA LABORAL</td>\n",
       "      <td>PUENTE PIEDRA - VENTANILLA</td>\n",
       "      <td>CAMPOS MURILLO WALTER EDUARDO. ZUÑIGA HERRERA ...</td>\n",
       "      <td>HINOJOSA GRANADOS LAURA ESTHEFANY</td>\n",
       "      <td>14/01/2022</td>\n",
       "      <td>ORDINARIO</td>\n",
       "      <td>\\n\\t\\t\\t\\t\\t\\t\\t\\t\\t\\t\\t\\t\\n\\t\\t\\t\\t\\t\\t\\t\\t\\t...</td>\n",
       "      <td>LABORAL</td>\n",
       "      <td>DESNATURALIZACIÓN DE CONTRATO</td>\n",
       "      <td>...</td>\n",
       "      <td>-------</td>\n",
       "      <td>RECONOCIMIENTO DE VINCULO LABORAL BAJO LOS ALC...</td>\n",
       "      <td>[CAMPOS MURILLO WALTER EDUARDO,  ZUÑIGA HERRER...</td>\n",
       "      <td>3</td>\n",
       "      <td>CAMPOS MURILLO WALTER EDUARDO</td>\n",
       "      <td>ZUÑIGA HERRERA ELICEA INES</td>\n",
       "      <td>CARRASCO ALVAREZ BRIZALINA</td>\n",
       "      <td>NaN</td>\n",
       "      <td>NaN</td>\n",
       "      <td>NaN</td>\n",
       "    </tr>\n",
       "    <tr>\n",
       "      <th>56227</th>\n",
       "      <td>00018-2022-0-3301-JR-LA-01</td>\n",
       "      <td>SALA LABORAL</td>\n",
       "      <td>PUENTE PIEDRA - VENTANILLA</td>\n",
       "      <td>CAMPOS MURILLO WALTER EDUARDO. ZUÑIGA HERRERA ...</td>\n",
       "      <td>HINOJOSA GRANADOS LAURA ESTHEFANY</td>\n",
       "      <td>18/01/2022</td>\n",
       "      <td>ORDINARIO</td>\n",
       "      <td>\\n\\t\\t\\t\\t\\t\\t\\t\\t\\t\\t\\t\\t\\n\\t\\t\\t\\t\\t\\t\\t\\t\\t...</td>\n",
       "      <td>LABORAL</td>\n",
       "      <td>DESNATURALIZACIÓN DE CONTRATO</td>\n",
       "      <td>...</td>\n",
       "      <td>-------</td>\n",
       "      <td>DEMANDA SOBRE INCUMPLIMIENTO</td>\n",
       "      <td>[CAMPOS MURILLO WALTER EDUARDO,  ZUÑIGA HERRER...</td>\n",
       "      <td>3</td>\n",
       "      <td>CAMPOS MURILLO WALTER EDUARDO</td>\n",
       "      <td>ZUÑIGA HERRERA ELICEA INES</td>\n",
       "      <td>CARRASCO ALVAREZ BRIZALINA</td>\n",
       "      <td>NaN</td>\n",
       "      <td>NaN</td>\n",
       "      <td>NaN</td>\n",
       "    </tr>\n",
       "    <tr>\n",
       "      <th>56232</th>\n",
       "      <td>00022-2022-0-3301-JR-LA-01</td>\n",
       "      <td>SALA LABORAL</td>\n",
       "      <td>PUENTE PIEDRA - VENTANILLA</td>\n",
       "      <td>CAMPOS MURILLO WALTER EDUARDO. ZUÑIGA HERRERA ...</td>\n",
       "      <td>HINOJOSA GRANADOS LAURA ESTHEFANY</td>\n",
       "      <td>22/01/2022</td>\n",
       "      <td>ORDINARIO</td>\n",
       "      <td>\\n\\t\\t\\t\\t\\t\\t\\t\\t\\t\\t\\t\\t\\n\\t\\t\\t\\t\\t\\t\\t\\t\\t...</td>\n",
       "      <td>LABORAL</td>\n",
       "      <td>INCUMPLIMIENTO DE DISPOSICIONES Y NORMAS LABOR...</td>\n",
       "      <td>...</td>\n",
       "      <td>-------</td>\n",
       "      <td>DESNATURALIZACION DEL CONTRATO DE TRABAJO Y OTRO</td>\n",
       "      <td>[CAMPOS MURILLO WALTER EDUARDO,  ZUÑIGA HERRER...</td>\n",
       "      <td>3</td>\n",
       "      <td>CAMPOS MURILLO WALTER EDUARDO</td>\n",
       "      <td>ZUÑIGA HERRERA ELICEA INES</td>\n",
       "      <td>CARRASCO ALVAREZ BRIZALINA</td>\n",
       "      <td>NaN</td>\n",
       "      <td>NaN</td>\n",
       "      <td>NaN</td>\n",
       "    </tr>\n",
       "    <tr>\n",
       "      <th>56236</th>\n",
       "      <td>00029-2022-0-3301-JR-LA-01</td>\n",
       "      <td>SALA LABORAL</td>\n",
       "      <td>PUENTE PIEDRA - VENTANILLA</td>\n",
       "      <td>CAMPOS MURILLO WALTER EDUARDO. ZUÑIGA HERRERA ...</td>\n",
       "      <td>HINOJOSA GRANADOS LAURA ESTHEFANY</td>\n",
       "      <td>28/01/2022</td>\n",
       "      <td>ORDINARIO</td>\n",
       "      <td>\\n\\t\\t\\t\\t\\t\\t\\t\\t\\t\\t\\t\\t\\n\\t\\t\\t\\t\\t\\t\\t\\t\\t...</td>\n",
       "      <td>LABORAL</td>\n",
       "      <td>PAGO DE BENEFICIOS SOCIALES Y/O INDEMNIZACION ...</td>\n",
       "      <td>...</td>\n",
       "      <td>-------</td>\n",
       "      <td>PAGO DE BENEFICIOS SOCIALES</td>\n",
       "      <td>[CAMPOS MURILLO WALTER EDUARDO,  ZUÑIGA HERRER...</td>\n",
       "      <td>3</td>\n",
       "      <td>CAMPOS MURILLO WALTER EDUARDO</td>\n",
       "      <td>ZUÑIGA HERRERA ELICEA INES</td>\n",
       "      <td>CARRASCO ALVAREZ BRIZALINA</td>\n",
       "      <td>NaN</td>\n",
       "      <td>NaN</td>\n",
       "      <td>NaN</td>\n",
       "    </tr>\n",
       "  </tbody>\n",
       "</table>\n",
       "<p>943 rows × 24 columns</p>\n",
       "</div>"
      ],
      "text/plain": [
       "                    expediente_n°_       organo_jurisdiccional_          distrito_judicial_                                              juez_                especialista_legal_ fecha_de_inicio_   proceso_                                       observacion_ especialidad_                                         materia_s_  ... motivo_conclusion_                                           sumilla_                                      juez_splitted n_judges_case                         juez_1                       juez_2                            juez_3                    juez_4 juez_5 juez_6\n",
       "2540    00001-2022-0-0102-JR-LA-01  SALA CIVIL - SEDE UTCUBAMBA                    AMAZONAS  ARTEAGA RAMIREZ FLORMIRA. VIGIL CURO LUZ CAROL...            PILCO MASLUCAN MERCEDES      12/01/2022   ORDINARIO  \\n\\t\\t\\t\\t\\t\\t\\t\\t\\t\\t\\t\\t\\n\\t\\t\\t\\t\\t\\t\\t\\t\\t...       LABORAL                   REINTEGRO DE BENEFICIOS SOCIALES  ...            -------           DEMANDA REINTEGRO DE BENEFICIOS SOCIALES  [ARTEAGA RAMIREZ FLORMIRA,  VIGIL CURO LUZ CAR...             3       ARTEAGA RAMIREZ FLORMIRA      VIGIL CURO LUZ CAROLINA              MOROCHO NUÑEZ GELNER                       NaN    NaN    NaN\n",
       "2548    00101-2022-0-0102-JR-LA-01  SALA CIVIL - SEDE UTCUBAMBA                    AMAZONAS  ARTEAGA RAMIREZ FLORMIRA. VIGIL CURO LUZ CAROL...            PILCO MASLUCAN MERCEDES      22/07/2022    ESPECIAL  \\n\\t\\t\\t\\t\\t\\t\\t\\t\\t\\t\\t\\t\\n\\t\\t\\t\\t\\t\\t\\t\\t\\t...       LABORAL                  ACCION CONTENCIOSA ADMINISTRATIVA  ...            -------  DEMANDA CONTENCIOSO ADMINISTRATIVO DE NULIDAD ...  [ARTEAGA RAMIREZ FLORMIRA,  VIGIL CURO LUZ CAR...             3       ARTEAGA RAMIREZ FLORMIRA      VIGIL CURO LUZ CAROLINA              MOROCHO NUÑEZ GELNER                       NaN    NaN    NaN\n",
       "2565   00106-2022-95-0107-JR-LA-01  SALA CIVIL - SEDE UTCUBAMBA                    AMAZONAS  ARTEAGA RAMIREZ FLORMIRA. CRISPIN QUISPE ALEJA...            PILCO MASLUCAN MERCEDES      28/10/2022   ORDINARIO  \\n\\t\\t\\t\\t\\t\\t\\t\\t\\t\\t\\t\\t\\n\\t\\t\\t\\t\\t\\t\\t\\t\\t...       LABORAL  RECONOCIMIENTO DE LOS DERECHOS COMPRENDIDOS EN...  ...            -------                INTERPONGO MEDIDA CAUTELAR GENERICA  [ARTEAGA RAMIREZ FLORMIRA,  CRISPIN QUISPE ALE...             4       ARTEAGA RAMIREZ FLORMIRA     CRISPIN QUISPE ALEJANDRO              MOROCHO NUÑEZ GELNER   VIGIL CURO LUZ CAROLINA    NaN    NaN\n",
       "2603    00117-2022-0-0101-JR-LA-01    SALA CIVIL - SEDE CENTRAL                    AMAZONAS  TAFUR GUPIOC ESPERANZA. MARTINEZ CHASQUERO EDD...  VILCARROMERO CULQUI MARIA DOLORES      17/03/2022   ORDINARIO  \\n\\t\\t\\t\\t\\t\\t\\t\\t\\t\\t\\t\\t\\n\\t\\t\\t\\t\\t\\t\\t\\t\\t...       LABORAL                  ACCION CONTENCIOSA ADMINISTRATIVA  ...            -------  DEMANDA NULIDAD DE RESOLUCIONES ADMINISTRATIVA...  [TAFUR GUPIOC ESPERANZA,  MARTINEZ CHASQUERO E...             3         TAFUR GUPIOC ESPERANZA      MARTINEZ CHASQUERO EDDY             TORREJÓN RENGIFO LUIS                       NaN    NaN    NaN\n",
       "2619    00121-2022-0-0102-JR-LA-01  SALA CIVIL - SEDE UTCUBAMBA                    AMAZONAS  ARTEAGA RAMIREZ FLORMIRA. CRISPIN QUISPE ALEJA...            PILCO MASLUCAN MERCEDES      01/09/2022   ORDINARIO  \\n\\t\\t\\t\\t\\t\\t\\t\\t\\t\\t\\t\\t\\n\\t\\t\\t\\t\\t\\t\\t\\t\\t...       LABORAL                  ACCION CONTENCIOSA ADMINISTRATIVA  ...            -------          DEMANDA ACCION CONTENCIOSA ADMINISTRATIVA  [ARTEAGA RAMIREZ FLORMIRA,  CRISPIN QUISPE ALE...             4       ARTEAGA RAMIREZ FLORMIRA     CRISPIN QUISPE ALEJANDRO              MOROCHO NUÑEZ GELNER   VIGIL CURO LUZ CAROLINA    NaN    NaN\n",
       "...                            ...                          ...                         ...                                                ...                                ...              ...        ...                                                ...           ...                                                ...  ...                ...                                                ...                                                ...           ...                            ...                          ...                               ...                       ...    ...    ...\n",
       "55968   00003-2022-0-2402-JR-LA-02                 SALA LABORAL                     UCAYALI  CRUZ COBEÑAS MARLENY. BARBARAN RIOS ASELA ISAB...       SUELLEN Y. POPOLIZIO PANDURO      04/02/2022   ORDINARIO  \\n\\t\\t\\t\\t\\t\\t\\t\\t\\t\\t\\t\\t\\n\\t\\t\\t\\t\\t\\t\\t\\t\\t...       LABORAL                      DESNATURALIZACIÓN DE CONTRATO  ...            -------  INTERPONE DEMANDA DE DESNATURALIZACION DE CONT...  [CRUZ COBEÑAS MARLENY,  BARBARAN RIOS ASELA IS...             3           CRUZ COBEÑAS MARLENY   BARBARAN RIOS ASELA ISABEL   ELIANA TUESTA OYARCE DE CACERES                       NaN    NaN    NaN\n",
       "56220   00012-2022-0-3301-JR-LA-01                 SALA LABORAL  PUENTE PIEDRA - VENTANILLA  CAMPOS MURILLO WALTER EDUARDO. ZUÑIGA HERRERA ...  HINOJOSA GRANADOS LAURA ESTHEFANY      14/01/2022   ORDINARIO  \\n\\t\\t\\t\\t\\t\\t\\t\\t\\t\\t\\t\\t\\n\\t\\t\\t\\t\\t\\t\\t\\t\\t...       LABORAL                      DESNATURALIZACIÓN DE CONTRATO  ...            -------  RECONOCIMIENTO DE VINCULO LABORAL BAJO LOS ALC...  [CAMPOS MURILLO WALTER EDUARDO,  ZUÑIGA HERRER...             3  CAMPOS MURILLO WALTER EDUARDO   ZUÑIGA HERRERA ELICEA INES        CARRASCO ALVAREZ BRIZALINA                       NaN    NaN    NaN\n",
       "56227   00018-2022-0-3301-JR-LA-01                 SALA LABORAL  PUENTE PIEDRA - VENTANILLA  CAMPOS MURILLO WALTER EDUARDO. ZUÑIGA HERRERA ...  HINOJOSA GRANADOS LAURA ESTHEFANY      18/01/2022   ORDINARIO  \\n\\t\\t\\t\\t\\t\\t\\t\\t\\t\\t\\t\\t\\n\\t\\t\\t\\t\\t\\t\\t\\t\\t...       LABORAL                      DESNATURALIZACIÓN DE CONTRATO  ...            -------                       DEMANDA SOBRE INCUMPLIMIENTO  [CAMPOS MURILLO WALTER EDUARDO,  ZUÑIGA HERRER...             3  CAMPOS MURILLO WALTER EDUARDO   ZUÑIGA HERRERA ELICEA INES        CARRASCO ALVAREZ BRIZALINA                       NaN    NaN    NaN\n",
       "56232   00022-2022-0-3301-JR-LA-01                 SALA LABORAL  PUENTE PIEDRA - VENTANILLA  CAMPOS MURILLO WALTER EDUARDO. ZUÑIGA HERRERA ...  HINOJOSA GRANADOS LAURA ESTHEFANY      22/01/2022   ORDINARIO  \\n\\t\\t\\t\\t\\t\\t\\t\\t\\t\\t\\t\\t\\n\\t\\t\\t\\t\\t\\t\\t\\t\\t...       LABORAL  INCUMPLIMIENTO DE DISPOSICIONES Y NORMAS LABOR...  ...            -------   DESNATURALIZACION DEL CONTRATO DE TRABAJO Y OTRO  [CAMPOS MURILLO WALTER EDUARDO,  ZUÑIGA HERRER...             3  CAMPOS MURILLO WALTER EDUARDO   ZUÑIGA HERRERA ELICEA INES        CARRASCO ALVAREZ BRIZALINA                       NaN    NaN    NaN\n",
       "56236   00029-2022-0-3301-JR-LA-01                 SALA LABORAL  PUENTE PIEDRA - VENTANILLA  CAMPOS MURILLO WALTER EDUARDO. ZUÑIGA HERRERA ...  HINOJOSA GRANADOS LAURA ESTHEFANY      28/01/2022   ORDINARIO  \\n\\t\\t\\t\\t\\t\\t\\t\\t\\t\\t\\t\\t\\n\\t\\t\\t\\t\\t\\t\\t\\t\\t...       LABORAL  PAGO DE BENEFICIOS SOCIALES Y/O INDEMNIZACION ...  ...            -------                        PAGO DE BENEFICIOS SOCIALES  [CAMPOS MURILLO WALTER EDUARDO,  ZUÑIGA HERRER...             3  CAMPOS MURILLO WALTER EDUARDO   ZUÑIGA HERRERA ELICEA INES        CARRASCO ALVAREZ BRIZALINA                       NaN    NaN    NaN\n",
       "\n",
       "[943 rows x 24 columns]"
      ]
     },
     "execution_count": 82,
     "metadata": {},
     "output_type": "execute_result"
    }
   ],
   "source": [
    "multiple_judge_names"
   ]
  },
  {
   "cell_type": "code",
   "execution_count": 83,
   "id": "71318a8c",
   "metadata": {
    "scrolled": true
   },
   "outputs": [
    {
     "data": {
      "text/plain": [
       "67"
      ]
     },
     "execution_count": 83,
     "metadata": {},
     "output_type": "execute_result"
    }
   ],
   "source": [
    "multiple_judge_names[\"juez_2\"].nunique()"
   ]
  },
  {
   "cell_type": "code",
   "execution_count": 84,
   "id": "56ae9974",
   "metadata": {},
   "outputs": [
    {
     "data": {
      "text/plain": [
       "68"
      ]
     },
     "execution_count": 84,
     "metadata": {},
     "output_type": "execute_result"
    }
   ],
   "source": [
    "multiple_judge_names[\"juez_3\"].nunique()"
   ]
  },
  {
   "cell_type": "code",
   "execution_count": 85,
   "id": "7daa62eb",
   "metadata": {},
   "outputs": [
    {
     "data": {
      "text/plain": [
       "19"
      ]
     },
     "execution_count": 85,
     "metadata": {},
     "output_type": "execute_result"
    }
   ],
   "source": [
    "multiple_judge_names[\"juez_4\"].nunique()"
   ]
  },
  {
   "cell_type": "code",
   "execution_count": 86,
   "id": "92faa98a",
   "metadata": {},
   "outputs": [
    {
     "data": {
      "text/plain": [
       "4"
      ]
     },
     "execution_count": 86,
     "metadata": {},
     "output_type": "execute_result"
    }
   ],
   "source": [
    "multiple_judge_names[\"juez_5\"].nunique()"
   ]
  },
  {
   "cell_type": "code",
   "execution_count": 87,
   "id": "4cf83686",
   "metadata": {},
   "outputs": [
    {
     "data": {
      "text/plain": [
       "3"
      ]
     },
     "execution_count": 87,
     "metadata": {},
     "output_type": "execute_result"
    }
   ],
   "source": [
    "multiple_judge_names[\"juez_6\"].nunique()"
   ]
  },
  {
   "cell_type": "markdown",
   "id": "9d0079db",
   "metadata": {},
   "source": [
    "**Fuzzy match of cases: Cases with 1 judge**"
   ]
  },
  {
   "cell_type": "code",
   "execution_count": 88,
   "id": "61efc1b8",
   "metadata": {
    "scrolled": true
   },
   "outputs": [
    {
     "name": "stderr",
     "output_type": "stream",
     "text": [
      "C:\\Users\\PC\\anaconda3\\envs\\judges_outcomes\\lib\\site-packages\\d6tjoin\\top1.py:93: FutureWarning: The frame.append method is deprecated and will be removed from pandas in a future version. Use pandas.concat instead.\n",
      "  df_candidates = df_candidates_exact.append(df_candidates_fuzzy, ignore_index=True)\n",
      "C:\\Users\\PC\\anaconda3\\envs\\judges_outcomes\\lib\\site-packages\\d6tjoin\\top1.py:118: UserWarning: Top1 join for juez has duplicates\n",
      "  warnings.warn('Top1 join for %s has duplicates' %self.cfg_fuzzy_left_on)\n"
     ]
    }
   ],
   "source": [
    "matched_judge_name1 = d6tjoin.top1.MergeTop1(judge_names, exp_participants, fuzzy_left_on=[\"juez\"], \n",
    "                       fuzzy_right_on=[\"participant_apellido_nombre\"]).merge()[\"top1\"]['juez']\n",
    "\n",
    "\n",
    "# d6tjoin.top1.MergeTop1 es el comando para "
   ]
  },
  {
   "cell_type": "code",
   "execution_count": 95,
   "id": "8cd3accb",
   "metadata": {},
   "outputs": [
    {
     "data": {
      "text/html": [
       "<div>\n",
       "<style scoped>\n",
       "    .dataframe tbody tr th:only-of-type {\n",
       "        vertical-align: middle;\n",
       "    }\n",
       "\n",
       "    .dataframe tbody tr th {\n",
       "        vertical-align: top;\n",
       "    }\n",
       "\n",
       "    .dataframe thead th {\n",
       "        text-align: right;\n",
       "    }\n",
       "</style>\n",
       "<table border=\"1\" class=\"dataframe\">\n",
       "  <thead>\n",
       "    <tr style=\"text-align: right;\">\n",
       "      <th></th>\n",
       "      <th>juez</th>\n",
       "      <th>participant_apellido_nombre</th>\n",
       "      <th>__matchtype__</th>\n",
       "      <th>__top1diff__</th>\n",
       "    </tr>\n",
       "  </thead>\n",
       "  <tbody>\n",
       "    <tr>\n",
       "      <th>49833</th>\n",
       "      <td>&lt;NO DEFINIDO&gt;</td>\n",
       "      <td>SANTOS PEREZ CARLOS</td>\n",
       "      <td>top1 left</td>\n",
       "      <td>14.0</td>\n",
       "    </tr>\n",
       "    <tr>\n",
       "      <th>49918</th>\n",
       "      <td>&lt;NO DEFINIDO&gt;</td>\n",
       "      <td>TELLO PONCE MARLO</td>\n",
       "      <td>top1 left</td>\n",
       "      <td>14.0</td>\n",
       "    </tr>\n",
       "    <tr>\n",
       "      <th>130113</th>\n",
       "      <td>ADAUTO PIMENTEL MIRIAN YESSICA</td>\n",
       "      <td>MALQUI MOSCOSO MIRIAM LUISA</td>\n",
       "      <td>top1 left</td>\n",
       "      <td>19.0</td>\n",
       "    </tr>\n",
       "    <tr>\n",
       "      <th>130186</th>\n",
       "      <td>ADAUTO PIMENTEL MIRIAN YESSICA</td>\n",
       "      <td>GALLEGOS CANDELA MARIA ESTHER</td>\n",
       "      <td>top1 left</td>\n",
       "      <td>19.0</td>\n",
       "    </tr>\n",
       "    <tr>\n",
       "      <th>153079</th>\n",
       "      <td>AGREDA GAITAN KATIA SOLEDAD</td>\n",
       "      <td>BELLIDO ANGULO MARIA SOLEDAD</td>\n",
       "      <td>top1 left</td>\n",
       "      <td>14.0</td>\n",
       "    </tr>\n",
       "    <tr>\n",
       "      <th>...</th>\n",
       "      <td>...</td>\n",
       "      <td>...</td>\n",
       "      <td>...</td>\n",
       "      <td>...</td>\n",
       "    </tr>\n",
       "    <tr>\n",
       "      <th>160740</th>\n",
       "      <td>ZUÑIGA PORTOCARRERO LINO</td>\n",
       "      <td>ZUÑIGA PORTOCARRERO LINO YSAURO</td>\n",
       "      <td>top1 left</td>\n",
       "      <td>7.0</td>\n",
       "    </tr>\n",
       "    <tr>\n",
       "      <th>86944</th>\n",
       "      <td>ZUÑIGA VALLEJOS JULIO CESAR</td>\n",
       "      <td>LEYVA PEREZ JULIO CESAR</td>\n",
       "      <td>top1 left</td>\n",
       "      <td>12.0</td>\n",
       "    </tr>\n",
       "    <tr>\n",
       "      <th>135071</th>\n",
       "      <td>ÑAUPA CHACALTANA CARLOS JAVIER</td>\n",
       "      <td>CAYLLAHUA PEÑA MAXIMO JAVIER</td>\n",
       "      <td>top1 left</td>\n",
       "      <td>17.0</td>\n",
       "    </tr>\n",
       "    <tr>\n",
       "      <th>135216</th>\n",
       "      <td>ÑAUPA CHACALTANA CARLOS JAVIER</td>\n",
       "      <td>CARY CHOQUE CARLOS ALVARO</td>\n",
       "      <td>top1 left</td>\n",
       "      <td>17.0</td>\n",
       "    </tr>\n",
       "    <tr>\n",
       "      <th>135241</th>\n",
       "      <td>ÑAUPA CHACALTANA CARLOS JAVIER</td>\n",
       "      <td>ANTICONA LUJAN CARLOS ALBERTO</td>\n",
       "      <td>top1 left</td>\n",
       "      <td>17.0</td>\n",
       "    </tr>\n",
       "  </tbody>\n",
       "</table>\n",
       "<p>1311 rows × 4 columns</p>\n",
       "</div>"
      ],
      "text/plain": [
       "                                  juez      participant_apellido_nombre __matchtype__  __top1diff__\n",
       "49833                    <NO DEFINIDO>              SANTOS PEREZ CARLOS     top1 left          14.0\n",
       "49918                    <NO DEFINIDO>                TELLO PONCE MARLO     top1 left          14.0\n",
       "130113  ADAUTO PIMENTEL MIRIAN YESSICA      MALQUI MOSCOSO MIRIAM LUISA     top1 left          19.0\n",
       "130186  ADAUTO PIMENTEL MIRIAN YESSICA    GALLEGOS CANDELA MARIA ESTHER     top1 left          19.0\n",
       "153079     AGREDA GAITAN KATIA SOLEDAD     BELLIDO ANGULO MARIA SOLEDAD     top1 left          14.0\n",
       "...                                ...                              ...           ...           ...\n",
       "160740        ZUÑIGA PORTOCARRERO LINO  ZUÑIGA PORTOCARRERO LINO YSAURO     top1 left           7.0\n",
       "86944      ZUÑIGA VALLEJOS JULIO CESAR          LEYVA PEREZ JULIO CESAR     top1 left          12.0\n",
       "135071  ÑAUPA CHACALTANA CARLOS JAVIER     CAYLLAHUA PEÑA MAXIMO JAVIER     top1 left          17.0\n",
       "135216  ÑAUPA CHACALTANA CARLOS JAVIER        CARY CHOQUE CARLOS ALVARO     top1 left          17.0\n",
       "135241  ÑAUPA CHACALTANA CARLOS JAVIER    ANTICONA LUJAN CARLOS ALBERTO     top1 left          17.0\n",
       "\n",
       "[1311 rows x 4 columns]"
      ]
     },
     "execution_count": 95,
     "metadata": {},
     "output_type": "execute_result"
    }
   ],
   "source": [
    "matched_judge_name1 = matched_judge_name1.rename(columns={'__top1left__': 'juez', '__top1right__': 'participant_apellido_nombre'})\n",
    "\n",
    "matched_judge_name1"
   ]
  },
  {
   "cell_type": "code",
   "execution_count": 96,
   "id": "341e6acd",
   "metadata": {},
   "outputs": [
    {
     "data": {
      "text/html": [
       "<div>\n",
       "<style scoped>\n",
       "    .dataframe tbody tr th:only-of-type {\n",
       "        vertical-align: middle;\n",
       "    }\n",
       "\n",
       "    .dataframe tbody tr th {\n",
       "        vertical-align: top;\n",
       "    }\n",
       "\n",
       "    .dataframe thead th {\n",
       "        text-align: right;\n",
       "    }\n",
       "</style>\n",
       "<table border=\"1\" class=\"dataframe\">\n",
       "  <thead>\n",
       "    <tr style=\"text-align: right;\">\n",
       "      <th></th>\n",
       "      <th>juez</th>\n",
       "      <th>participant_apellido_nombre</th>\n",
       "      <th>__matchtype__</th>\n",
       "      <th>__top1diff__</th>\n",
       "    </tr>\n",
       "  </thead>\n",
       "  <tbody>\n",
       "    <tr>\n",
       "      <th>160740</th>\n",
       "      <td>ZUÑIGA PORTOCARRERO LINO</td>\n",
       "      <td>ZUÑIGA PORTOCARRERO LINO YSAURO</td>\n",
       "      <td>top1 left</td>\n",
       "      <td>7.0</td>\n",
       "    </tr>\n",
       "  </tbody>\n",
       "</table>\n",
       "</div>"
      ],
      "text/plain": [
       "                            juez      participant_apellido_nombre __matchtype__  __top1diff__\n",
       "160740  ZUÑIGA PORTOCARRERO LINO  ZUÑIGA PORTOCARRERO LINO YSAURO     top1 left           7.0"
      ]
     },
     "execution_count": 96,
     "metadata": {},
     "output_type": "execute_result"
    }
   ],
   "source": [
    "# fuzzy_1_judge = matched_judge_name1[matched_judge_name1[\"__top1diff__\"] <= 7.1].copy()\n",
    "fuzzy_1_judge = matched_judge_name1[(matched_judge_name1[\"__top1diff__\"] >= 0.1) & (matched_judge_name1[\"__top1diff__\"] <= 7.1)].copy()\n",
    "fuzzy_1_judge\n"
   ]
  },
  {
   "cell_type": "code",
   "execution_count": 90,
   "id": "16bb4f9f",
   "metadata": {},
   "outputs": [
    {
     "data": {
      "text/plain": [
       "pandas.core.frame.DataFrame"
      ]
     },
     "execution_count": 90,
     "metadata": {},
     "output_type": "execute_result"
    }
   ],
   "source": [
    "type(matched_judge_name1)"
   ]
  },
  {
   "cell_type": "code",
   "execution_count": 98,
   "id": "75fbd78a",
   "metadata": {
    "scrolled": false
   },
   "outputs": [
    {
     "name": "stderr",
     "output_type": "stream",
     "text": [
      "C:\\Users\\PC\\anaconda3\\envs\\judges_outcomes\\lib\\site-packages\\d6tjoin\\top1.py:93: FutureWarning: The frame.append method is deprecated and will be removed from pandas in a future version. Use pandas.concat instead.\n",
      "  df_candidates = df_candidates_exact.append(df_candidates_fuzzy, ignore_index=True)\n",
      "C:\\Users\\PC\\anaconda3\\envs\\judges_outcomes\\lib\\site-packages\\d6tjoin\\top1.py:118: UserWarning: Top1 join for juez has duplicates\n",
      "  warnings.warn('Top1 join for %s has duplicates' %self.cfg_fuzzy_left_on)\n"
     ]
    }
   ],
   "source": [
    "matched_judge_name2 = d6tjoin.top1.MergeTop1(judge_names, exp_participants, fuzzy_left_on=[\"juez\"], \n",
    "                       fuzzy_right_on=[\"participant_nombre_apellido\"]).merge()[\"top1\"]['juez']"
   ]
  },
  {
   "cell_type": "code",
   "execution_count": 99,
   "id": "3dcb50d6",
   "metadata": {},
   "outputs": [
    {
     "data": {
      "text/html": [
       "<div>\n",
       "<style scoped>\n",
       "    .dataframe tbody tr th:only-of-type {\n",
       "        vertical-align: middle;\n",
       "    }\n",
       "\n",
       "    .dataframe tbody tr th {\n",
       "        vertical-align: top;\n",
       "    }\n",
       "\n",
       "    .dataframe thead th {\n",
       "        text-align: right;\n",
       "    }\n",
       "</style>\n",
       "<table border=\"1\" class=\"dataframe\">\n",
       "  <thead>\n",
       "    <tr style=\"text-align: right;\">\n",
       "      <th></th>\n",
       "      <th>juez</th>\n",
       "      <th>participant_nombre_apellido</th>\n",
       "      <th>__matchtype__</th>\n",
       "      <th>__top1diff__</th>\n",
       "    </tr>\n",
       "  </thead>\n",
       "  <tbody>\n",
       "    <tr>\n",
       "      <th>52238</th>\n",
       "      <td>&lt;NO DEFINIDO&gt;</td>\n",
       "      <td>MARLO TELLO PONCE</td>\n",
       "      <td>top1 left</td>\n",
       "      <td>13.0</td>\n",
       "    </tr>\n",
       "    <tr>\n",
       "      <th>137842</th>\n",
       "      <td>ADAUTO PIMENTEL MIRIAN YESSICA</td>\n",
       "      <td>TANIA LIZETT MEDINA SAYRA</td>\n",
       "      <td>top1 left</td>\n",
       "      <td>19.0</td>\n",
       "    </tr>\n",
       "    <tr>\n",
       "      <th>137880</th>\n",
       "      <td>ADAUTO PIMENTEL MIRIAN YESSICA</td>\n",
       "      <td>FAUSTINO FIDEL MINAYA HERRERA</td>\n",
       "      <td>top1 left</td>\n",
       "      <td>19.0</td>\n",
       "    </tr>\n",
       "    <tr>\n",
       "      <th>161903</th>\n",
       "      <td>AGREDA GAITAN KATIA SOLEDAD</td>\n",
       "      <td>CARMEN LEIVA CASTAÑEDA</td>\n",
       "      <td>top1 left</td>\n",
       "      <td>17.0</td>\n",
       "    </tr>\n",
       "    <tr>\n",
       "      <th>161909</th>\n",
       "      <td>AGREDA GAITAN KATIA SOLEDAD</td>\n",
       "      <td>ALEX NILTON CACHI ROJAS</td>\n",
       "      <td>top1 left</td>\n",
       "      <td>17.0</td>\n",
       "    </tr>\n",
       "    <tr>\n",
       "      <th>...</th>\n",
       "      <td>...</td>\n",
       "      <td>...</td>\n",
       "      <td>...</td>\n",
       "      <td>...</td>\n",
       "    </tr>\n",
       "    <tr>\n",
       "      <th>142476</th>\n",
       "      <td>ÑAUPA CHACALTANA CARLOS JAVIER</td>\n",
       "      <td>ROSA ISABEL VARGAS PEREZ</td>\n",
       "      <td>top1 left</td>\n",
       "      <td>20.0</td>\n",
       "    </tr>\n",
       "    <tr>\n",
       "      <th>142528</th>\n",
       "      <td>ÑAUPA CHACALTANA CARLOS JAVIER</td>\n",
       "      <td>TATIANOVA ABANTO TAFUR</td>\n",
       "      <td>top1 left</td>\n",
       "      <td>20.0</td>\n",
       "    </tr>\n",
       "    <tr>\n",
       "      <th>142563</th>\n",
       "      <td>ÑAUPA CHACALTANA CARLOS JAVIER</td>\n",
       "      <td>KAREN JACQUELINE ALEJOS JAQUI</td>\n",
       "      <td>top1 left</td>\n",
       "      <td>20.0</td>\n",
       "    </tr>\n",
       "    <tr>\n",
       "      <th>142616</th>\n",
       "      <td>ÑAUPA CHACALTANA CARLOS JAVIER</td>\n",
       "      <td>MARCO ANTONIO CELIS VASQUEZ</td>\n",
       "      <td>top1 left</td>\n",
       "      <td>20.0</td>\n",
       "    </tr>\n",
       "    <tr>\n",
       "      <th>142627</th>\n",
       "      <td>ÑAUPA CHACALTANA CARLOS JAVIER</td>\n",
       "      <td>ANA KARINA BEDOYA MAQUE</td>\n",
       "      <td>top1 left</td>\n",
       "      <td>20.0</td>\n",
       "    </tr>\n",
       "  </tbody>\n",
       "</table>\n",
       "<p>1509 rows × 4 columns</p>\n",
       "</div>"
      ],
      "text/plain": [
       "                                  juez    participant_nombre_apellido __matchtype__  __top1diff__\n",
       "52238                    <NO DEFINIDO>              MARLO TELLO PONCE     top1 left          13.0\n",
       "137842  ADAUTO PIMENTEL MIRIAN YESSICA      TANIA LIZETT MEDINA SAYRA     top1 left          19.0\n",
       "137880  ADAUTO PIMENTEL MIRIAN YESSICA  FAUSTINO FIDEL MINAYA HERRERA     top1 left          19.0\n",
       "161903     AGREDA GAITAN KATIA SOLEDAD         CARMEN LEIVA CASTAÑEDA     top1 left          17.0\n",
       "161909     AGREDA GAITAN KATIA SOLEDAD        ALEX NILTON CACHI ROJAS     top1 left          17.0\n",
       "...                                ...                            ...           ...           ...\n",
       "142476  ÑAUPA CHACALTANA CARLOS JAVIER       ROSA ISABEL VARGAS PEREZ     top1 left          20.0\n",
       "142528  ÑAUPA CHACALTANA CARLOS JAVIER         TATIANOVA ABANTO TAFUR     top1 left          20.0\n",
       "142563  ÑAUPA CHACALTANA CARLOS JAVIER  KAREN JACQUELINE ALEJOS JAQUI     top1 left          20.0\n",
       "142616  ÑAUPA CHACALTANA CARLOS JAVIER    MARCO ANTONIO CELIS VASQUEZ     top1 left          20.0\n",
       "142627  ÑAUPA CHACALTANA CARLOS JAVIER        ANA KARINA BEDOYA MAQUE     top1 left          20.0\n",
       "\n",
       "[1509 rows x 4 columns]"
      ]
     },
     "execution_count": 99,
     "metadata": {},
     "output_type": "execute_result"
    }
   ],
   "source": [
    "matched_judge_name2 = matched_judge_name2.rename(columns={'__top1left__': 'juez', '__top1right__': 'participant_nombre_apellido'})\n",
    "matched_judge_name2"
   ]
  },
  {
   "cell_type": "code",
   "execution_count": 100,
   "id": "4a56f08f",
   "metadata": {},
   "outputs": [
    {
     "data": {
      "text/html": [
       "<div>\n",
       "<style scoped>\n",
       "    .dataframe tbody tr th:only-of-type {\n",
       "        vertical-align: middle;\n",
       "    }\n",
       "\n",
       "    .dataframe tbody tr th {\n",
       "        vertical-align: top;\n",
       "    }\n",
       "\n",
       "    .dataframe thead th {\n",
       "        text-align: right;\n",
       "    }\n",
       "</style>\n",
       "<table border=\"1\" class=\"dataframe\">\n",
       "  <thead>\n",
       "    <tr style=\"text-align: right;\">\n",
       "      <th></th>\n",
       "      <th>juez</th>\n",
       "      <th>participant_nombre_apellido</th>\n",
       "      <th>__matchtype__</th>\n",
       "      <th>__top1diff__</th>\n",
       "    </tr>\n",
       "  </thead>\n",
       "  <tbody>\n",
       "  </tbody>\n",
       "</table>\n",
       "</div>"
      ],
      "text/plain": [
       "Empty DataFrame\n",
       "Columns: [juez, participant_nombre_apellido, __matchtype__, __top1diff__]\n",
       "Index: []"
      ]
     },
     "execution_count": 100,
     "metadata": {},
     "output_type": "execute_result"
    }
   ],
   "source": [
    "fuzzy_2_judge = matched_judge_name2[(matched_judge_name2[\"__top1diff__\"] >= 0.1) & (matched_judge_name2[\"__top1diff__\"] <= 7.1)].copy()\n",
    "fuzzy_2_judge"
   ]
  },
  {
   "cell_type": "markdown",
   "id": "6f712875",
   "metadata": {},
   "source": [
    "**Fuzzy match of cases: Cases with 1+ judge**"
   ]
  },
  {
   "cell_type": "markdown",
   "id": "0e9952af",
   "metadata": {},
   "source": [
    "Preparing `multiple_judge_names[\"juez_1\"]` for first judge only"
   ]
  },
  {
   "cell_type": "code",
   "execution_count": 102,
   "id": "40d50b39",
   "metadata": {
    "scrolled": false
   },
   "outputs": [
    {
     "name": "stderr",
     "output_type": "stream",
     "text": [
      "C:\\Users\\PC\\anaconda3\\envs\\judges_outcomes\\lib\\site-packages\\d6tjoin\\top1.py:93: FutureWarning: The frame.append method is deprecated and will be removed from pandas in a future version. Use pandas.concat instead.\n",
      "  df_candidates = df_candidates_exact.append(df_candidates_fuzzy, ignore_index=True)\n",
      "C:\\Users\\PC\\anaconda3\\envs\\judges_outcomes\\lib\\site-packages\\d6tjoin\\top1.py:118: UserWarning: Top1 join for juez_1 has duplicates\n",
      "  warnings.warn('Top1 join for %s has duplicates' %self.cfg_fuzzy_left_on)\n"
     ]
    }
   ],
   "source": [
    "matched_judge_name3 = d6tjoin.top1.MergeTop1(multiple_judge_names, exp_participants, fuzzy_left_on=[\"juez_1\"], \n",
    "                       fuzzy_right_on=[\"participant_apellido_nombre\"]).merge()[\"top1\"]['juez_1']"
   ]
  },
  {
   "cell_type": "code",
   "execution_count": 103,
   "id": "195910e6",
   "metadata": {
    "scrolled": true
   },
   "outputs": [
    {
     "data": {
      "text/html": [
       "<div>\n",
       "<style scoped>\n",
       "    .dataframe tbody tr th:only-of-type {\n",
       "        vertical-align: middle;\n",
       "    }\n",
       "\n",
       "    .dataframe tbody tr th {\n",
       "        vertical-align: top;\n",
       "    }\n",
       "\n",
       "    .dataframe thead th {\n",
       "        text-align: right;\n",
       "    }\n",
       "</style>\n",
       "<table border=\"1\" class=\"dataframe\">\n",
       "  <thead>\n",
       "    <tr style=\"text-align: right;\">\n",
       "      <th></th>\n",
       "      <th>juez</th>\n",
       "      <th>participant_apellido_nombre</th>\n",
       "      <th>__matchtype__</th>\n",
       "      <th>__top1diff__</th>\n",
       "    </tr>\n",
       "  </thead>\n",
       "  <tbody>\n",
       "    <tr>\n",
       "      <th>125</th>\n",
       "      <td></td>\n",
       "      <td>AMAYA PAZO ROXANA</td>\n",
       "      <td>top1 left</td>\n",
       "      <td>17.0</td>\n",
       "    </tr>\n",
       "    <tr>\n",
       "      <th>150</th>\n",
       "      <td></td>\n",
       "      <td>TELLO PONCE MARLO</td>\n",
       "      <td>top1 left</td>\n",
       "      <td>17.0</td>\n",
       "    </tr>\n",
       "    <tr>\n",
       "      <th>4023</th>\n",
       "      <td>AGUADO SEMINO ALFREDO ALBERTO</td>\n",
       "      <td>ANTICONA LUJAN CARLOS ALBERTO</td>\n",
       "      <td>top1 left</td>\n",
       "      <td>17.0</td>\n",
       "    </tr>\n",
       "    <tr>\n",
       "      <th>1281</th>\n",
       "      <td>ALEJANDRO PAUCAR FELIX</td>\n",
       "      <td>CALLE VERA OSCAR FRANCIS</td>\n",
       "      <td>top1 left</td>\n",
       "      <td>15.0</td>\n",
       "    </tr>\n",
       "    <tr>\n",
       "      <th>1287</th>\n",
       "      <td>ALEJANDRO PAUCAR FELIX</td>\n",
       "      <td>FERNANDEZ SANCHEZ FREDY</td>\n",
       "      <td>top1 left</td>\n",
       "      <td>15.0</td>\n",
       "    </tr>\n",
       "    <tr>\n",
       "      <th>...</th>\n",
       "      <td>...</td>\n",
       "      <td>...</td>\n",
       "      <td>...</td>\n",
       "      <td>...</td>\n",
       "    </tr>\n",
       "    <tr>\n",
       "      <th>7334</th>\n",
       "      <td>VIVANCO HERRERA HENRRY GERMAN</td>\n",
       "      <td>VIVANCO HUAMAN GLORIA TERESA</td>\n",
       "      <td>top1 left</td>\n",
       "      <td>15.0</td>\n",
       "    </tr>\n",
       "    <tr>\n",
       "      <th>7402</th>\n",
       "      <td>VIVANCO HERRERA HENRRY GERMAN</td>\n",
       "      <td>GALVEZ HERRERA HERIBERTO</td>\n",
       "      <td>top1 left</td>\n",
       "      <td>15.0</td>\n",
       "    </tr>\n",
       "    <tr>\n",
       "      <th>11120</th>\n",
       "      <td>YOLANDA B\\</td>\n",
       "      <td>ROJAS ZEPEDA ALICIA</td>\n",
       "      <td>top1 left</td>\n",
       "      <td>14.0</td>\n",
       "    </tr>\n",
       "    <tr>\n",
       "      <th>11150</th>\n",
       "      <td>YOLANDA B\\</td>\n",
       "      <td>AMAYA PAZO ROXANA</td>\n",
       "      <td>top1 left</td>\n",
       "      <td>14.0</td>\n",
       "    </tr>\n",
       "    <tr>\n",
       "      <th>11175</th>\n",
       "      <td>YOLANDA B\\</td>\n",
       "      <td>TELLO PONCE MARLO</td>\n",
       "      <td>top1 left</td>\n",
       "      <td>14.0</td>\n",
       "    </tr>\n",
       "  </tbody>\n",
       "</table>\n",
       "<p>92 rows × 4 columns</p>\n",
       "</div>"
      ],
      "text/plain": [
       "                                juez    participant_apellido_nombre __matchtype__  __top1diff__\n",
       "125                                               AMAYA PAZO ROXANA     top1 left          17.0\n",
       "150                                               TELLO PONCE MARLO     top1 left          17.0\n",
       "4023   AGUADO SEMINO ALFREDO ALBERTO  ANTICONA LUJAN CARLOS ALBERTO     top1 left          17.0\n",
       "1281          ALEJANDRO PAUCAR FELIX       CALLE VERA OSCAR FRANCIS     top1 left          15.0\n",
       "1287          ALEJANDRO PAUCAR FELIX        FERNANDEZ SANCHEZ FREDY     top1 left          15.0\n",
       "...                              ...                            ...           ...           ...\n",
       "7334   VIVANCO HERRERA HENRRY GERMAN   VIVANCO HUAMAN GLORIA TERESA     top1 left          15.0\n",
       "7402   VIVANCO HERRERA HENRRY GERMAN       GALVEZ HERRERA HERIBERTO     top1 left          15.0\n",
       "11120                     YOLANDA B\\            ROJAS ZEPEDA ALICIA     top1 left          14.0\n",
       "11150                     YOLANDA B\\              AMAYA PAZO ROXANA     top1 left          14.0\n",
       "11175                     YOLANDA B\\              TELLO PONCE MARLO     top1 left          14.0\n",
       "\n",
       "[92 rows x 4 columns]"
      ]
     },
     "execution_count": 103,
     "metadata": {},
     "output_type": "execute_result"
    }
   ],
   "source": [
    "matched_judge_name3 = matched_judge_name3.rename(columns={'__top1left__': 'juez', '__top1right__': 'participant_apellido_nombre'})\n",
    "\n",
    "matched_judge_name3"
   ]
  },
  {
   "cell_type": "code",
   "execution_count": 104,
   "id": "1e9b1867",
   "metadata": {},
   "outputs": [
    {
     "data": {
      "text/html": [
       "<div>\n",
       "<style scoped>\n",
       "    .dataframe tbody tr th:only-of-type {\n",
       "        vertical-align: middle;\n",
       "    }\n",
       "\n",
       "    .dataframe tbody tr th {\n",
       "        vertical-align: top;\n",
       "    }\n",
       "\n",
       "    .dataframe thead th {\n",
       "        text-align: right;\n",
       "    }\n",
       "</style>\n",
       "<table border=\"1\" class=\"dataframe\">\n",
       "  <thead>\n",
       "    <tr style=\"text-align: right;\">\n",
       "      <th></th>\n",
       "      <th>juez</th>\n",
       "      <th>participant_apellido_nombre</th>\n",
       "      <th>__matchtype__</th>\n",
       "      <th>__top1diff__</th>\n",
       "    </tr>\n",
       "  </thead>\n",
       "  <tbody>\n",
       "  </tbody>\n",
       "</table>\n",
       "</div>"
      ],
      "text/plain": [
       "Empty DataFrame\n",
       "Columns: [juez, participant_apellido_nombre, __matchtype__, __top1diff__]\n",
       "Index: []"
      ]
     },
     "execution_count": 104,
     "metadata": {},
     "output_type": "execute_result"
    }
   ],
   "source": [
    "fuzzy_3_judge = matched_judge_name3[(matched_judge_name3[\"__top1diff__\"] >= 0.1) & (matched_judge_name3[\"__top1diff__\"] <= 7.1)].copy()\n",
    "fuzzy_3_judge"
   ]
  },
  {
   "cell_type": "code",
   "execution_count": 105,
   "id": "518596c9",
   "metadata": {
    "scrolled": false
   },
   "outputs": [
    {
     "name": "stderr",
     "output_type": "stream",
     "text": [
      "C:\\Users\\PC\\anaconda3\\envs\\judges_outcomes\\lib\\site-packages\\d6tjoin\\top1.py:93: FutureWarning: The frame.append method is deprecated and will be removed from pandas in a future version. Use pandas.concat instead.\n",
      "  df_candidates = df_candidates_exact.append(df_candidates_fuzzy, ignore_index=True)\n",
      "C:\\Users\\PC\\anaconda3\\envs\\judges_outcomes\\lib\\site-packages\\d6tjoin\\top1.py:118: UserWarning: Top1 join for juez_1 has duplicates\n",
      "  warnings.warn('Top1 join for %s has duplicates' %self.cfg_fuzzy_left_on)\n"
     ]
    }
   ],
   "source": [
    "matched_judge_name4 = d6tjoin.top1.MergeTop1(multiple_judge_names, exp_participants, fuzzy_left_on=[\"juez_1\"], \n",
    "                       fuzzy_right_on=[\"participant_nombre_apellido\"]).merge()[\"top1\"]['juez_1']"
   ]
  },
  {
   "cell_type": "code",
   "execution_count": 106,
   "id": "feed88aa",
   "metadata": {},
   "outputs": [
    {
     "data": {
      "text/html": [
       "<div>\n",
       "<style scoped>\n",
       "    .dataframe tbody tr th:only-of-type {\n",
       "        vertical-align: middle;\n",
       "    }\n",
       "\n",
       "    .dataframe tbody tr th {\n",
       "        vertical-align: top;\n",
       "    }\n",
       "\n",
       "    .dataframe thead th {\n",
       "        text-align: right;\n",
       "    }\n",
       "</style>\n",
       "<table border=\"1\" class=\"dataframe\">\n",
       "  <thead>\n",
       "    <tr style=\"text-align: right;\">\n",
       "      <th></th>\n",
       "      <th>juez</th>\n",
       "      <th>participant_nombre_apellido</th>\n",
       "      <th>__matchtype__</th>\n",
       "      <th>__top1diff__</th>\n",
       "    </tr>\n",
       "  </thead>\n",
       "  <tbody>\n",
       "    <tr>\n",
       "      <th>17</th>\n",
       "      <td></td>\n",
       "      <td>ROXANA AMAYA PAZO</td>\n",
       "      <td>top1 left</td>\n",
       "      <td>17.0</td>\n",
       "    </tr>\n",
       "    <tr>\n",
       "      <th>36</th>\n",
       "      <td></td>\n",
       "      <td>MARLO TELLO PONCE</td>\n",
       "      <td>top1 left</td>\n",
       "      <td>17.0</td>\n",
       "    </tr>\n",
       "    <tr>\n",
       "      <th>3864</th>\n",
       "      <td>AGUADO SEMINO ALFREDO ALBERTO</td>\n",
       "      <td>ARTEMIO ORE FLORES</td>\n",
       "      <td>top1 left</td>\n",
       "      <td>18.0</td>\n",
       "    </tr>\n",
       "    <tr>\n",
       "      <th>3988</th>\n",
       "      <td>AGUADO SEMINO ALFREDO ALBERTO</td>\n",
       "      <td>ALBERTO RAMIRO CRUZADO ALIAGA</td>\n",
       "      <td>top1 left</td>\n",
       "      <td>18.0</td>\n",
       "    </tr>\n",
       "    <tr>\n",
       "      <th>1186</th>\n",
       "      <td>ALEJANDRO PAUCAR FELIX</td>\n",
       "      <td>SUSAN CAMARA TELLO</td>\n",
       "      <td>top1 left</td>\n",
       "      <td>14.0</td>\n",
       "    </tr>\n",
       "    <tr>\n",
       "      <th>...</th>\n",
       "      <td>...</td>\n",
       "      <td>...</td>\n",
       "      <td>...</td>\n",
       "      <td>...</td>\n",
       "    </tr>\n",
       "    <tr>\n",
       "      <th>10183</th>\n",
       "      <td>VALENCIA BARRIENTOS FAUSTINO</td>\n",
       "      <td>ALICIA VARGAS LEON</td>\n",
       "      <td>top1 left</td>\n",
       "      <td>17.0</td>\n",
       "    </tr>\n",
       "    <tr>\n",
       "      <th>10218</th>\n",
       "      <td>VALENCIA BARRIENTOS FAUSTINO</td>\n",
       "      <td>CRISTHIAN BARRANTES DIAZ</td>\n",
       "      <td>top1 left</td>\n",
       "      <td>17.0</td>\n",
       "    </tr>\n",
       "    <tr>\n",
       "      <th>10423</th>\n",
       "      <td>VEGA RODRIGUEZ LUIS ALBERTO</td>\n",
       "      <td>PEDRO RUBEN CHIRA TELLO</td>\n",
       "      <td>top1 left</td>\n",
       "      <td>17.0</td>\n",
       "    </tr>\n",
       "    <tr>\n",
       "      <th>7598</th>\n",
       "      <td>VIVANCO HERRERA HENRRY GERMAN</td>\n",
       "      <td>MARCO ANTONIO HERRERA GUZMAN</td>\n",
       "      <td>top1 left</td>\n",
       "      <td>16.0</td>\n",
       "    </tr>\n",
       "    <tr>\n",
       "      <th>11492</th>\n",
       "      <td>YOLANDA B\\</td>\n",
       "      <td>ROXANA AMAYA PAZO</td>\n",
       "      <td>top1 left</td>\n",
       "      <td>12.0</td>\n",
       "    </tr>\n",
       "  </tbody>\n",
       "</table>\n",
       "<p>82 rows × 4 columns</p>\n",
       "</div>"
      ],
      "text/plain": [
       "                                juez    participant_nombre_apellido __matchtype__  __top1diff__\n",
       "17                                                ROXANA AMAYA PAZO     top1 left          17.0\n",
       "36                                                MARLO TELLO PONCE     top1 left          17.0\n",
       "3864   AGUADO SEMINO ALFREDO ALBERTO             ARTEMIO ORE FLORES     top1 left          18.0\n",
       "3988   AGUADO SEMINO ALFREDO ALBERTO  ALBERTO RAMIRO CRUZADO ALIAGA     top1 left          18.0\n",
       "1186          ALEJANDRO PAUCAR FELIX             SUSAN CAMARA TELLO     top1 left          14.0\n",
       "...                              ...                            ...           ...           ...\n",
       "10183   VALENCIA BARRIENTOS FAUSTINO             ALICIA VARGAS LEON     top1 left          17.0\n",
       "10218   VALENCIA BARRIENTOS FAUSTINO       CRISTHIAN BARRANTES DIAZ     top1 left          17.0\n",
       "10423    VEGA RODRIGUEZ LUIS ALBERTO        PEDRO RUBEN CHIRA TELLO     top1 left          17.0\n",
       "7598   VIVANCO HERRERA HENRRY GERMAN   MARCO ANTONIO HERRERA GUZMAN     top1 left          16.0\n",
       "11492                     YOLANDA B\\              ROXANA AMAYA PAZO     top1 left          12.0\n",
       "\n",
       "[82 rows x 4 columns]"
      ]
     },
     "execution_count": 106,
     "metadata": {},
     "output_type": "execute_result"
    }
   ],
   "source": [
    "matched_judge_name4 = matched_judge_name4.rename(columns={'__top1left__': 'juez', '__top1right__': 'participant_nombre_apellido'})\n",
    "\n",
    "matched_judge_name4"
   ]
  },
  {
   "cell_type": "code",
   "execution_count": 107,
   "id": "57e66d61",
   "metadata": {},
   "outputs": [
    {
     "data": {
      "text/html": [
       "<div>\n",
       "<style scoped>\n",
       "    .dataframe tbody tr th:only-of-type {\n",
       "        vertical-align: middle;\n",
       "    }\n",
       "\n",
       "    .dataframe tbody tr th {\n",
       "        vertical-align: top;\n",
       "    }\n",
       "\n",
       "    .dataframe thead th {\n",
       "        text-align: right;\n",
       "    }\n",
       "</style>\n",
       "<table border=\"1\" class=\"dataframe\">\n",
       "  <thead>\n",
       "    <tr style=\"text-align: right;\">\n",
       "      <th></th>\n",
       "      <th>juez</th>\n",
       "      <th>participant_nombre_apellido</th>\n",
       "      <th>__matchtype__</th>\n",
       "      <th>__top1diff__</th>\n",
       "    </tr>\n",
       "  </thead>\n",
       "  <tbody>\n",
       "    <tr>\n",
       "      <th>8838</th>\n",
       "      <td>JULISSA ASEIJAS SILVA</td>\n",
       "      <td>JULISSA ISABEL ASEIJAS SILVA</td>\n",
       "      <td>top1 left</td>\n",
       "      <td>7.0</td>\n",
       "    </tr>\n",
       "  </tbody>\n",
       "</table>\n",
       "</div>"
      ],
      "text/plain": [
       "                       juez   participant_nombre_apellido __matchtype__  __top1diff__\n",
       "8838  JULISSA ASEIJAS SILVA  JULISSA ISABEL ASEIJAS SILVA     top1 left           7.0"
      ]
     },
     "execution_count": 107,
     "metadata": {},
     "output_type": "execute_result"
    }
   ],
   "source": [
    "fuzzy_4_judge = matched_judge_name4[(matched_judge_name4[\"__top1diff__\"] >= 0.1) & (matched_judge_name4[\"__top1diff__\"] <= 7.1)].copy()\n",
    "fuzzy_4_judge"
   ]
  },
  {
   "cell_type": "markdown",
   "id": "a04e02c1",
   "metadata": {},
   "source": [
    "Preparing `multiple_judge_names[\"juez_2\"]` for second judge only"
   ]
  },
  {
   "cell_type": "code",
   "execution_count": 109,
   "id": "0c372acb",
   "metadata": {
    "scrolled": false
   },
   "outputs": [
    {
     "name": "stderr",
     "output_type": "stream",
     "text": [
      "C:\\Users\\PC\\anaconda3\\envs\\judges_outcomes\\lib\\site-packages\\d6tjoin\\top1.py:93: FutureWarning: The frame.append method is deprecated and will be removed from pandas in a future version. Use pandas.concat instead.\n",
      "  df_candidates = df_candidates_exact.append(df_candidates_fuzzy, ignore_index=True)\n",
      "C:\\Users\\PC\\anaconda3\\envs\\judges_outcomes\\lib\\site-packages\\d6tjoin\\top1.py:118: UserWarning: Top1 join for juez_2 has duplicates\n",
      "  warnings.warn('Top1 join for %s has duplicates' %self.cfg_fuzzy_left_on)\n"
     ]
    }
   ],
   "source": [
    "matched_judge_name5 = d6tjoin.top1.MergeTop1(multiple_judge_names, exp_participants, fuzzy_left_on=[\"juez_2\"], \n",
    "                       fuzzy_right_on=[\"participant_apellido_nombre\"]).merge()[\"top1\"]['juez_2']"
   ]
  },
  {
   "cell_type": "code",
   "execution_count": 110,
   "id": "ffb41474",
   "metadata": {},
   "outputs": [
    {
     "data": {
      "text/html": [
       "<div>\n",
       "<style scoped>\n",
       "    .dataframe tbody tr th:only-of-type {\n",
       "        vertical-align: middle;\n",
       "    }\n",
       "\n",
       "    .dataframe tbody tr th {\n",
       "        vertical-align: top;\n",
       "    }\n",
       "\n",
       "    .dataframe thead th {\n",
       "        text-align: right;\n",
       "    }\n",
       "</style>\n",
       "<table border=\"1\" class=\"dataframe\">\n",
       "  <thead>\n",
       "    <tr style=\"text-align: right;\">\n",
       "      <th></th>\n",
       "      <th>juez</th>\n",
       "      <th>participant_apellido_nombre</th>\n",
       "      <th>__matchtype__</th>\n",
       "      <th>__top1diff__</th>\n",
       "    </tr>\n",
       "  </thead>\n",
       "  <tbody>\n",
       "    <tr>\n",
       "      <th>121</th>\n",
       "      <td></td>\n",
       "      <td>AMAYA PAZO ROXANA</td>\n",
       "      <td>top1 left</td>\n",
       "      <td>17.0</td>\n",
       "    </tr>\n",
       "    <tr>\n",
       "      <th>146</th>\n",
       "      <td></td>\n",
       "      <td>TELLO PONCE MARLO</td>\n",
       "      <td>top1 left</td>\n",
       "      <td>17.0</td>\n",
       "    </tr>\n",
       "    <tr>\n",
       "      <th>7746</th>\n",
       "      <td>IRRAZABAL NUÑEZ WILSON</td>\n",
       "      <td>CACHI ROJAS ALEX NILTON</td>\n",
       "      <td>top1 left</td>\n",
       "      <td>16.0</td>\n",
       "    </tr>\n",
       "    <tr>\n",
       "      <th>13777</th>\n",
       "      <td>SULCA QUISPE MARIO ELOY</td>\n",
       "      <td>MEDRANO QUISPE PABLO CESAR</td>\n",
       "      <td>top1 left</td>\n",
       "      <td>14.0</td>\n",
       "    </tr>\n",
       "    <tr>\n",
       "      <th>8003</th>\n",
       "      <td>URBANO MENACHO ALEXANDER A</td>\n",
       "      <td>MEDRANO ALIAGA ANA PAULA</td>\n",
       "      <td>top1 left</td>\n",
       "      <td>18.0</td>\n",
       "    </tr>\n",
       "    <tr>\n",
       "      <th>...</th>\n",
       "      <td>...</td>\n",
       "      <td>...</td>\n",
       "      <td>...</td>\n",
       "      <td>...</td>\n",
       "    </tr>\n",
       "    <tr>\n",
       "      <th>5598</th>\n",
       "      <td>VIVANCO HERRERA HENRRY GERMAN</td>\n",
       "      <td>GALVEZ HERRERA HERIBERTO</td>\n",
       "      <td>top1 left</td>\n",
       "      <td>15.0</td>\n",
       "    </tr>\n",
       "    <tr>\n",
       "      <th>9630</th>\n",
       "      <td>ZAMALLOA FLORES</td>\n",
       "      <td>CAMARA TELLO SUSAN</td>\n",
       "      <td>top1 left</td>\n",
       "      <td>13.0</td>\n",
       "    </tr>\n",
       "    <tr>\n",
       "      <th>9647</th>\n",
       "      <td>ZAMALLOA FLORES</td>\n",
       "      <td>VARGAS LEON ALICIA</td>\n",
       "      <td>top1 left</td>\n",
       "      <td>13.0</td>\n",
       "    </tr>\n",
       "    <tr>\n",
       "      <th>11997</th>\n",
       "      <td>ZUÑIGA HERRERA ELICEA INES</td>\n",
       "      <td>CEPIDA GUERRERO IVAN</td>\n",
       "      <td>top1 left</td>\n",
       "      <td>16.0</td>\n",
       "    </tr>\n",
       "    <tr>\n",
       "      <th>12123</th>\n",
       "      <td>ZUÑIGA HERRERA ELICEA INES</td>\n",
       "      <td>GALVEZ HERRERA HERIBERTO</td>\n",
       "      <td>top1 left</td>\n",
       "      <td>16.0</td>\n",
       "    </tr>\n",
       "  </tbody>\n",
       "</table>\n",
       "<p>102 rows × 4 columns</p>\n",
       "</div>"
      ],
      "text/plain": [
       "                                 juez participant_apellido_nombre __matchtype__  __top1diff__\n",
       "121                                             AMAYA PAZO ROXANA     top1 left          17.0\n",
       "146                                             TELLO PONCE MARLO     top1 left          17.0\n",
       "7746           IRRAZABAL NUÑEZ WILSON     CACHI ROJAS ALEX NILTON     top1 left          16.0\n",
       "13777         SULCA QUISPE MARIO ELOY  MEDRANO QUISPE PABLO CESAR     top1 left          14.0\n",
       "8003       URBANO MENACHO ALEXANDER A    MEDRANO ALIAGA ANA PAULA     top1 left          18.0\n",
       "...                               ...                         ...           ...           ...\n",
       "5598    VIVANCO HERRERA HENRRY GERMAN    GALVEZ HERRERA HERIBERTO     top1 left          15.0\n",
       "9630                  ZAMALLOA FLORES          CAMARA TELLO SUSAN     top1 left          13.0\n",
       "9647                  ZAMALLOA FLORES          VARGAS LEON ALICIA     top1 left          13.0\n",
       "11997      ZUÑIGA HERRERA ELICEA INES        CEPIDA GUERRERO IVAN     top1 left          16.0\n",
       "12123      ZUÑIGA HERRERA ELICEA INES    GALVEZ HERRERA HERIBERTO     top1 left          16.0\n",
       "\n",
       "[102 rows x 4 columns]"
      ]
     },
     "execution_count": 110,
     "metadata": {},
     "output_type": "execute_result"
    }
   ],
   "source": [
    "matched_judge_name5 = matched_judge_name5.rename(columns={'__top1left__': 'juez', '__top1right__': 'participant_apellido_nombre'})\n",
    "\n",
    "matched_judge_name5"
   ]
  },
  {
   "cell_type": "code",
   "execution_count": 111,
   "id": "96155105",
   "metadata": {},
   "outputs": [
    {
     "data": {
      "text/html": [
       "<div>\n",
       "<style scoped>\n",
       "    .dataframe tbody tr th:only-of-type {\n",
       "        vertical-align: middle;\n",
       "    }\n",
       "\n",
       "    .dataframe tbody tr th {\n",
       "        vertical-align: top;\n",
       "    }\n",
       "\n",
       "    .dataframe thead th {\n",
       "        text-align: right;\n",
       "    }\n",
       "</style>\n",
       "<table border=\"1\" class=\"dataframe\">\n",
       "  <thead>\n",
       "    <tr style=\"text-align: right;\">\n",
       "      <th></th>\n",
       "      <th>juez</th>\n",
       "      <th>participant_apellido_nombre</th>\n",
       "      <th>__matchtype__</th>\n",
       "      <th>__top1diff__</th>\n",
       "    </tr>\n",
       "  </thead>\n",
       "  <tbody>\n",
       "    <tr>\n",
       "      <th>632</th>\n",
       "      <td>HERRERA GUZMAN MARCO ANTONIO</td>\n",
       "      <td>HERRERA GUZMAN MARCO ANTONIO</td>\n",
       "      <td>top1 left</td>\n",
       "      <td>1.0</td>\n",
       "    </tr>\n",
       "  </tbody>\n",
       "</table>\n",
       "</div>"
      ],
      "text/plain": [
       "                              juez   participant_apellido_nombre __matchtype__  __top1diff__\n",
       "632   HERRERA GUZMAN MARCO ANTONIO  HERRERA GUZMAN MARCO ANTONIO     top1 left           1.0"
      ]
     },
     "execution_count": 111,
     "metadata": {},
     "output_type": "execute_result"
    }
   ],
   "source": [
    "fuzzy_5_judge = matched_judge_name5[(matched_judge_name5[\"__top1diff__\"] >= 0.1) & (matched_judge_name5[\"__top1diff__\"] <= 7.1)].copy()\n",
    "fuzzy_5_judge"
   ]
  },
  {
   "cell_type": "code",
   "execution_count": 112,
   "id": "51a9ec6d",
   "metadata": {
    "scrolled": false
   },
   "outputs": [
    {
     "name": "stderr",
     "output_type": "stream",
     "text": [
      "C:\\Users\\PC\\anaconda3\\envs\\judges_outcomes\\lib\\site-packages\\d6tjoin\\top1.py:93: FutureWarning: The frame.append method is deprecated and will be removed from pandas in a future version. Use pandas.concat instead.\n",
      "  df_candidates = df_candidates_exact.append(df_candidates_fuzzy, ignore_index=True)\n",
      "C:\\Users\\PC\\anaconda3\\envs\\judges_outcomes\\lib\\site-packages\\d6tjoin\\top1.py:118: UserWarning: Top1 join for juez_2 has duplicates\n",
      "  warnings.warn('Top1 join for %s has duplicates' %self.cfg_fuzzy_left_on)\n"
     ]
    }
   ],
   "source": [
    "matched_judge_name6 = d6tjoin.top1.MergeTop1(multiple_judge_names, exp_participants, fuzzy_left_on=[\"juez_2\"], \n",
    "                       fuzzy_right_on=[\"participant_nombre_apellido\"]).merge()[\"top1\"]['juez_2']"
   ]
  },
  {
   "cell_type": "code",
   "execution_count": 113,
   "id": "6bcd747a",
   "metadata": {},
   "outputs": [
    {
     "data": {
      "text/html": [
       "<div>\n",
       "<style scoped>\n",
       "    .dataframe tbody tr th:only-of-type {\n",
       "        vertical-align: middle;\n",
       "    }\n",
       "\n",
       "    .dataframe tbody tr th {\n",
       "        vertical-align: top;\n",
       "    }\n",
       "\n",
       "    .dataframe thead th {\n",
       "        text-align: right;\n",
       "    }\n",
       "</style>\n",
       "<table border=\"1\" class=\"dataframe\">\n",
       "  <thead>\n",
       "    <tr style=\"text-align: right;\">\n",
       "      <th></th>\n",
       "      <th>juez</th>\n",
       "      <th>participant_nombre_apellido</th>\n",
       "      <th>__matchtype__</th>\n",
       "      <th>__top1diff__</th>\n",
       "    </tr>\n",
       "  </thead>\n",
       "  <tbody>\n",
       "    <tr>\n",
       "      <th>15</th>\n",
       "      <td></td>\n",
       "      <td>ROXANA AMAYA PAZO</td>\n",
       "      <td>top1 left</td>\n",
       "      <td>17.0</td>\n",
       "    </tr>\n",
       "    <tr>\n",
       "      <th>34</th>\n",
       "      <td></td>\n",
       "      <td>MARLO TELLO PONCE</td>\n",
       "      <td>top1 left</td>\n",
       "      <td>17.0</td>\n",
       "    </tr>\n",
       "    <tr>\n",
       "      <th>7706</th>\n",
       "      <td>IRRAZABAL NUÑEZ WILSON</td>\n",
       "      <td>ALICIA VARGAS LEON</td>\n",
       "      <td>top1 left</td>\n",
       "      <td>17.0</td>\n",
       "    </tr>\n",
       "    <tr>\n",
       "      <th>13861</th>\n",
       "      <td>SULCA QUISPE MARIO ELOY</td>\n",
       "      <td>SRI QUISPE PACHECO</td>\n",
       "      <td>top1 left</td>\n",
       "      <td>13.0</td>\n",
       "    </tr>\n",
       "    <tr>\n",
       "      <th>7960</th>\n",
       "      <td>URBANO MENACHO ALEXANDER A</td>\n",
       "      <td>JULIO CESAR LEYVA PEREZ</td>\n",
       "      <td>top1 left</td>\n",
       "      <td>18.0</td>\n",
       "    </tr>\n",
       "    <tr>\n",
       "      <th>...</th>\n",
       "      <td>...</td>\n",
       "      <td>...</td>\n",
       "      <td>...</td>\n",
       "      <td>...</td>\n",
       "    </tr>\n",
       "    <tr>\n",
       "      <th>5571</th>\n",
       "      <td>VIVANCO HERRERA HENRRY GERMAN</td>\n",
       "      <td>MARCO ANTONIO HERRERA GUZMAN</td>\n",
       "      <td>top1 left</td>\n",
       "      <td>17.0</td>\n",
       "    </tr>\n",
       "    <tr>\n",
       "      <th>9487</th>\n",
       "      <td>ZAMALLOA FLORES</td>\n",
       "      <td>ARTEMIO ORE FLORES</td>\n",
       "      <td>top1 left</td>\n",
       "      <td>9.0</td>\n",
       "    </tr>\n",
       "    <tr>\n",
       "      <th>12010</th>\n",
       "      <td>ZUÑIGA HERRERA ELICEA INES</td>\n",
       "      <td>JULIO CESAR LEYVA PEREZ</td>\n",
       "      <td>top1 left</td>\n",
       "      <td>18.0</td>\n",
       "    </tr>\n",
       "    <tr>\n",
       "      <th>12028</th>\n",
       "      <td>ZUÑIGA HERRERA ELICEA INES</td>\n",
       "      <td>JUSTO VERA PAREDES</td>\n",
       "      <td>top1 left</td>\n",
       "      <td>18.0</td>\n",
       "    </tr>\n",
       "    <tr>\n",
       "      <th>12044</th>\n",
       "      <td>ZUÑIGA HERRERA ELICEA INES</td>\n",
       "      <td>LUIS ENRIQUE LOPEZ PINTO</td>\n",
       "      <td>top1 left</td>\n",
       "      <td>18.0</td>\n",
       "    </tr>\n",
       "  </tbody>\n",
       "</table>\n",
       "<p>127 rows × 4 columns</p>\n",
       "</div>"
      ],
      "text/plain": [
       "                                 juez   participant_nombre_apellido __matchtype__  __top1diff__\n",
       "15                                                ROXANA AMAYA PAZO     top1 left          17.0\n",
       "34                                                MARLO TELLO PONCE     top1 left          17.0\n",
       "7706           IRRAZABAL NUÑEZ WILSON            ALICIA VARGAS LEON     top1 left          17.0\n",
       "13861         SULCA QUISPE MARIO ELOY            SRI QUISPE PACHECO     top1 left          13.0\n",
       "7960       URBANO MENACHO ALEXANDER A       JULIO CESAR LEYVA PEREZ     top1 left          18.0\n",
       "...                               ...                           ...           ...           ...\n",
       "5571    VIVANCO HERRERA HENRRY GERMAN  MARCO ANTONIO HERRERA GUZMAN     top1 left          17.0\n",
       "9487                  ZAMALLOA FLORES            ARTEMIO ORE FLORES     top1 left           9.0\n",
       "12010      ZUÑIGA HERRERA ELICEA INES       JULIO CESAR LEYVA PEREZ     top1 left          18.0\n",
       "12028      ZUÑIGA HERRERA ELICEA INES            JUSTO VERA PAREDES     top1 left          18.0\n",
       "12044      ZUÑIGA HERRERA ELICEA INES      LUIS ENRIQUE LOPEZ PINTO     top1 left          18.0\n",
       "\n",
       "[127 rows x 4 columns]"
      ]
     },
     "execution_count": 113,
     "metadata": {},
     "output_type": "execute_result"
    }
   ],
   "source": [
    "matched_judge_name6 = matched_judge_name6.rename(columns={'__top1left__': 'juez', '__top1right__': 'participant_nombre_apellido'})\n",
    "\n",
    "matched_judge_name6"
   ]
  },
  {
   "cell_type": "code",
   "execution_count": 114,
   "id": "4d0cd560",
   "metadata": {},
   "outputs": [
    {
     "data": {
      "text/html": [
       "<div>\n",
       "<style scoped>\n",
       "    .dataframe tbody tr th:only-of-type {\n",
       "        vertical-align: middle;\n",
       "    }\n",
       "\n",
       "    .dataframe tbody tr th {\n",
       "        vertical-align: top;\n",
       "    }\n",
       "\n",
       "    .dataframe thead th {\n",
       "        text-align: right;\n",
       "    }\n",
       "</style>\n",
       "<table border=\"1\" class=\"dataframe\">\n",
       "  <thead>\n",
       "    <tr style=\"text-align: right;\">\n",
       "      <th></th>\n",
       "      <th>juez</th>\n",
       "      <th>participant_nombre_apellido</th>\n",
       "      <th>__matchtype__</th>\n",
       "      <th>__top1diff__</th>\n",
       "    </tr>\n",
       "  </thead>\n",
       "  <tbody>\n",
       "    <tr>\n",
       "      <th>14960</th>\n",
       "      <td>ESAU CHANCO CASTILLON</td>\n",
       "      <td>ESAU CHANCO CASTILLON</td>\n",
       "      <td>top1 left</td>\n",
       "      <td>1.0</td>\n",
       "    </tr>\n",
       "    <tr>\n",
       "      <th>3910</th>\n",
       "      <td>JULIO CESAR LEYVA PEREZ</td>\n",
       "      <td>JULIO CESAR LEYVA PEREZ</td>\n",
       "      <td>top1 left</td>\n",
       "      <td>1.0</td>\n",
       "    </tr>\n",
       "  </tbody>\n",
       "</table>\n",
       "</div>"
      ],
      "text/plain": [
       "                           juez participant_nombre_apellido __matchtype__  __top1diff__\n",
       "14960     ESAU CHANCO CASTILLON       ESAU CHANCO CASTILLON     top1 left           1.0\n",
       "3910    JULIO CESAR LEYVA PEREZ     JULIO CESAR LEYVA PEREZ     top1 left           1.0"
      ]
     },
     "execution_count": 114,
     "metadata": {},
     "output_type": "execute_result"
    }
   ],
   "source": [
    "fuzzy_6_judge = matched_judge_name6[(matched_judge_name6[\"__top1diff__\"] >= 0.1) & (matched_judge_name6[\"__top1diff__\"] <= 7.1)].copy()\n",
    "fuzzy_6_judge"
   ]
  },
  {
   "cell_type": "markdown",
   "id": "165ed20d",
   "metadata": {},
   "source": [
    "Preparing `multiple_judge_names[\"juez_3\"]` for third judge only"
   ]
  },
  {
   "cell_type": "code",
   "execution_count": 115,
   "id": "10b411d1",
   "metadata": {
    "scrolled": false
   },
   "outputs": [
    {
     "name": "stderr",
     "output_type": "stream",
     "text": [
      "C:\\Users\\PC\\anaconda3\\envs\\judges_outcomes\\lib\\site-packages\\d6tjoin\\top1.py:93: FutureWarning: The frame.append method is deprecated and will be removed from pandas in a future version. Use pandas.concat instead.\n",
      "  df_candidates = df_candidates_exact.append(df_candidates_fuzzy, ignore_index=True)\n",
      "C:\\Users\\PC\\anaconda3\\envs\\judges_outcomes\\lib\\site-packages\\d6tjoin\\top1.py:118: UserWarning: Top1 join for juez_3 has duplicates\n",
      "  warnings.warn('Top1 join for %s has duplicates' %self.cfg_fuzzy_left_on)\n"
     ]
    }
   ],
   "source": [
    "matched_judge_name7 = d6tjoin.top1.MergeTop1(multiple_judge_names, exp_participants, fuzzy_left_on=[\"juez_3\"], \n",
    "                       fuzzy_right_on=[\"participant_apellido_nombre\"]).merge()[\"top1\"]['juez_3']"
   ]
  },
  {
   "cell_type": "code",
   "execution_count": 116,
   "id": "14bf4aad",
   "metadata": {},
   "outputs": [
    {
     "data": {
      "text/html": [
       "<div>\n",
       "<style scoped>\n",
       "    .dataframe tbody tr th:only-of-type {\n",
       "        vertical-align: middle;\n",
       "    }\n",
       "\n",
       "    .dataframe tbody tr th {\n",
       "        vertical-align: top;\n",
       "    }\n",
       "\n",
       "    .dataframe thead th {\n",
       "        text-align: right;\n",
       "    }\n",
       "</style>\n",
       "<table border=\"1\" class=\"dataframe\">\n",
       "  <thead>\n",
       "    <tr style=\"text-align: right;\">\n",
       "      <th></th>\n",
       "      <th>juez</th>\n",
       "      <th>participant_apellido_nombre</th>\n",
       "      <th>__matchtype__</th>\n",
       "      <th>__top1diff__</th>\n",
       "    </tr>\n",
       "  </thead>\n",
       "  <tbody>\n",
       "    <tr>\n",
       "      <th>121</th>\n",
       "      <td></td>\n",
       "      <td>AMAYA PAZO ROXANA</td>\n",
       "      <td>top1 left</td>\n",
       "      <td>17.0</td>\n",
       "    </tr>\n",
       "    <tr>\n",
       "      <th>146</th>\n",
       "      <td></td>\n",
       "      <td>TELLO PONCE MARLO</td>\n",
       "      <td>top1 left</td>\n",
       "      <td>17.0</td>\n",
       "    </tr>\n",
       "    <tr>\n",
       "      <th>7674</th>\n",
       "      <td>BARBOZA LUDEÑA MAXIMO SAUL</td>\n",
       "      <td>CAYLLAHUA PEÑA MAXIMO JAVIER</td>\n",
       "      <td>top1 left</td>\n",
       "      <td>16.0</td>\n",
       "    </tr>\n",
       "    <tr>\n",
       "      <th>644</th>\n",
       "      <td>AGUADO SEMINO ALFREDO ALBERTO</td>\n",
       "      <td>ANTICONA LUJAN CARLOS ALBERTO</td>\n",
       "      <td>top1 left</td>\n",
       "      <td>18.0</td>\n",
       "    </tr>\n",
       "    <tr>\n",
       "      <th>5911</th>\n",
       "      <td>ANGEL GUTIERREZ VALDIVIEZO</td>\n",
       "      <td>SANTOS PEREZ CARLOS</td>\n",
       "      <td>top1 left</td>\n",
       "      <td>18.0</td>\n",
       "    </tr>\n",
       "    <tr>\n",
       "      <th>...</th>\n",
       "      <td>...</td>\n",
       "      <td>...</td>\n",
       "      <td>...</td>\n",
       "      <td>...</td>\n",
       "    </tr>\n",
       "    <tr>\n",
       "      <th>3974</th>\n",
       "      <td>VENTURA PADILLA WILLIAMS</td>\n",
       "      <td>VICUÑA ZAMORA JESUS</td>\n",
       "      <td>top1 left</td>\n",
       "      <td>17.0</td>\n",
       "    </tr>\n",
       "    <tr>\n",
       "      <th>6136</th>\n",
       "      <td>VIGIL CURO LUZ CAROLINA</td>\n",
       "      <td>SANTOS PEREZ CARLOS</td>\n",
       "      <td>top1 left</td>\n",
       "      <td>16.0</td>\n",
       "    </tr>\n",
       "    <tr>\n",
       "      <th>6149</th>\n",
       "      <td>VIGIL CURO LUZ CAROLINA</td>\n",
       "      <td>RIVAS VARGAS SARITA</td>\n",
       "      <td>top1 left</td>\n",
       "      <td>16.0</td>\n",
       "    </tr>\n",
       "    <tr>\n",
       "      <th>6206</th>\n",
       "      <td>VIGIL CURO LUZ CAROLINA</td>\n",
       "      <td>NOLE LUPU JESUS MARTIN</td>\n",
       "      <td>top1 left</td>\n",
       "      <td>16.0</td>\n",
       "    </tr>\n",
       "    <tr>\n",
       "      <th>9721</th>\n",
       "      <td>ZABARBURU SAAVEDRA GONZALO</td>\n",
       "      <td>SOTOMAYOR SAAVEDRA DAVID LUIS</td>\n",
       "      <td>top1 left</td>\n",
       "      <td>18.0</td>\n",
       "    </tr>\n",
       "  </tbody>\n",
       "</table>\n",
       "<p>123 rows × 4 columns</p>\n",
       "</div>"
      ],
      "text/plain": [
       "                                juez    participant_apellido_nombre __matchtype__  __top1diff__\n",
       "121                                               AMAYA PAZO ROXANA     top1 left          17.0\n",
       "146                                               TELLO PONCE MARLO     top1 left          17.0\n",
       "7674      BARBOZA LUDEÑA MAXIMO SAUL   CAYLLAHUA PEÑA MAXIMO JAVIER     top1 left          16.0\n",
       "644    AGUADO SEMINO ALFREDO ALBERTO  ANTICONA LUJAN CARLOS ALBERTO     top1 left          18.0\n",
       "5911      ANGEL GUTIERREZ VALDIVIEZO            SANTOS PEREZ CARLOS     top1 left          18.0\n",
       "...                              ...                            ...           ...           ...\n",
       "3974        VENTURA PADILLA WILLIAMS            VICUÑA ZAMORA JESUS     top1 left          17.0\n",
       "6136         VIGIL CURO LUZ CAROLINA            SANTOS PEREZ CARLOS     top1 left          16.0\n",
       "6149         VIGIL CURO LUZ CAROLINA            RIVAS VARGAS SARITA     top1 left          16.0\n",
       "6206         VIGIL CURO LUZ CAROLINA         NOLE LUPU JESUS MARTIN     top1 left          16.0\n",
       "9721      ZABARBURU SAAVEDRA GONZALO  SOTOMAYOR SAAVEDRA DAVID LUIS     top1 left          18.0\n",
       "\n",
       "[123 rows x 4 columns]"
      ]
     },
     "execution_count": 116,
     "metadata": {},
     "output_type": "execute_result"
    }
   ],
   "source": [
    "matched_judge_name7 = matched_judge_name7.rename(columns={'__top1left__': 'juez', '__top1right__': 'participant_apellido_nombre'})\n",
    "\n",
    "matched_judge_name7"
   ]
  },
  {
   "cell_type": "code",
   "execution_count": 117,
   "id": "4583a088",
   "metadata": {},
   "outputs": [
    {
     "data": {
      "text/html": [
       "<div>\n",
       "<style scoped>\n",
       "    .dataframe tbody tr th:only-of-type {\n",
       "        vertical-align: middle;\n",
       "    }\n",
       "\n",
       "    .dataframe tbody tr th {\n",
       "        vertical-align: top;\n",
       "    }\n",
       "\n",
       "    .dataframe thead th {\n",
       "        text-align: right;\n",
       "    }\n",
       "</style>\n",
       "<table border=\"1\" class=\"dataframe\">\n",
       "  <thead>\n",
       "    <tr style=\"text-align: right;\">\n",
       "      <th></th>\n",
       "      <th>juez</th>\n",
       "      <th>participant_apellido_nombre</th>\n",
       "      <th>__matchtype__</th>\n",
       "      <th>__top1diff__</th>\n",
       "    </tr>\n",
       "  </thead>\n",
       "  <tbody>\n",
       "    <tr>\n",
       "      <th>3597</th>\n",
       "      <td>CARDENAS ALVARADO BORIS FAUSTO</td>\n",
       "      <td>CARDENAS ALVARADO BORIS FAUSTO</td>\n",
       "      <td>top1 left</td>\n",
       "      <td>1.0</td>\n",
       "    </tr>\n",
       "    <tr>\n",
       "      <th>2819</th>\n",
       "      <td>CARHUAPOMA GRANDA EDGARD JESUS</td>\n",
       "      <td>CARHUAPOMA GRANDA EDGARD JESUS</td>\n",
       "      <td>top1 left</td>\n",
       "      <td>1.0</td>\n",
       "    </tr>\n",
       "    <tr>\n",
       "      <th>2120</th>\n",
       "      <td>CRUZ COBEÑAS MARLENY</td>\n",
       "      <td>CRUZ COBEÑAS MARLENY</td>\n",
       "      <td>top1 left</td>\n",
       "      <td>1.0</td>\n",
       "    </tr>\n",
       "    <tr>\n",
       "      <th>13917</th>\n",
       "      <td>TAPAHUASCO PALOMINO RICHARD</td>\n",
       "      <td>TAPAHUASCO PALOMINO RICHARD</td>\n",
       "      <td>top1 left</td>\n",
       "      <td>1.0</td>\n",
       "    </tr>\n",
       "  </tbody>\n",
       "</table>\n",
       "</div>"
      ],
      "text/plain": [
       "                                  juez     participant_apellido_nombre __matchtype__  __top1diff__\n",
       "3597    CARDENAS ALVARADO BORIS FAUSTO  CARDENAS ALVARADO BORIS FAUSTO     top1 left           1.0\n",
       "2819    CARHUAPOMA GRANDA EDGARD JESUS  CARHUAPOMA GRANDA EDGARD JESUS     top1 left           1.0\n",
       "2120              CRUZ COBEÑAS MARLENY            CRUZ COBEÑAS MARLENY     top1 left           1.0\n",
       "13917      TAPAHUASCO PALOMINO RICHARD     TAPAHUASCO PALOMINO RICHARD     top1 left           1.0"
      ]
     },
     "execution_count": 117,
     "metadata": {},
     "output_type": "execute_result"
    }
   ],
   "source": [
    "fuzzy_7_judge = matched_judge_name7[(matched_judge_name7[\"__top1diff__\"] >= 0.1) & (matched_judge_name7[\"__top1diff__\"] <= 7.1)].copy()\n",
    "fuzzy_7_judge"
   ]
  },
  {
   "cell_type": "code",
   "execution_count": 119,
   "id": "1c43a6cc",
   "metadata": {
    "scrolled": false
   },
   "outputs": [
    {
     "name": "stderr",
     "output_type": "stream",
     "text": [
      "C:\\Users\\PC\\anaconda3\\envs\\judges_outcomes\\lib\\site-packages\\d6tjoin\\top1.py:93: FutureWarning: The frame.append method is deprecated and will be removed from pandas in a future version. Use pandas.concat instead.\n",
      "  df_candidates = df_candidates_exact.append(df_candidates_fuzzy, ignore_index=True)\n",
      "C:\\Users\\PC\\anaconda3\\envs\\judges_outcomes\\lib\\site-packages\\d6tjoin\\top1.py:118: UserWarning: Top1 join for juez_3 has duplicates\n",
      "  warnings.warn('Top1 join for %s has duplicates' %self.cfg_fuzzy_left_on)\n"
     ]
    }
   ],
   "source": [
    "matched_judge_name8 = d6tjoin.top1.MergeTop1(multiple_judge_names, exp_participants, fuzzy_left_on=[\"juez_3\"], \n",
    "                       fuzzy_right_on=[\"participant_nombre_apellido\"]).merge()[\"top1\"]['juez_3']"
   ]
  },
  {
   "cell_type": "code",
   "execution_count": 120,
   "id": "099ca710",
   "metadata": {},
   "outputs": [
    {
     "data": {
      "text/html": [
       "<div>\n",
       "<style scoped>\n",
       "    .dataframe tbody tr th:only-of-type {\n",
       "        vertical-align: middle;\n",
       "    }\n",
       "\n",
       "    .dataframe tbody tr th {\n",
       "        vertical-align: top;\n",
       "    }\n",
       "\n",
       "    .dataframe thead th {\n",
       "        text-align: right;\n",
       "    }\n",
       "</style>\n",
       "<table border=\"1\" class=\"dataframe\">\n",
       "  <thead>\n",
       "    <tr style=\"text-align: right;\">\n",
       "      <th></th>\n",
       "      <th>juez</th>\n",
       "      <th>participant_nombre_apellido</th>\n",
       "      <th>__matchtype__</th>\n",
       "      <th>__top1diff__</th>\n",
       "    </tr>\n",
       "  </thead>\n",
       "  <tbody>\n",
       "    <tr>\n",
       "      <th>15</th>\n",
       "      <td></td>\n",
       "      <td>ROXANA AMAYA PAZO</td>\n",
       "      <td>top1 left</td>\n",
       "      <td>17.0</td>\n",
       "    </tr>\n",
       "    <tr>\n",
       "      <th>34</th>\n",
       "      <td></td>\n",
       "      <td>MARLO TELLO PONCE</td>\n",
       "      <td>top1 left</td>\n",
       "      <td>17.0</td>\n",
       "    </tr>\n",
       "    <tr>\n",
       "      <th>7788</th>\n",
       "      <td>BARBOZA LUDEÑA MAXIMO SAUL</td>\n",
       "      <td>TANIA LIZETT MEDINA SAYRA</td>\n",
       "      <td>top1 left</td>\n",
       "      <td>18.0</td>\n",
       "    </tr>\n",
       "    <tr>\n",
       "      <th>487</th>\n",
       "      <td>AGUADO SEMINO ALFREDO ALBERTO</td>\n",
       "      <td>ARTEMIO ORE FLORES</td>\n",
       "      <td>top1 left</td>\n",
       "      <td>19.0</td>\n",
       "    </tr>\n",
       "    <tr>\n",
       "      <th>611</th>\n",
       "      <td>AGUADO SEMINO ALFREDO ALBERTO</td>\n",
       "      <td>ALBERTO RAMIRO CRUZADO ALIAGA</td>\n",
       "      <td>top1 left</td>\n",
       "      <td>19.0</td>\n",
       "    </tr>\n",
       "    <tr>\n",
       "      <th>...</th>\n",
       "      <td>...</td>\n",
       "      <td>...</td>\n",
       "      <td>...</td>\n",
       "      <td>...</td>\n",
       "    </tr>\n",
       "    <tr>\n",
       "      <th>6145</th>\n",
       "      <td>VIGIL CURO LUZ CAROLINA</td>\n",
       "      <td>VICTOR CALIZAYA COILA</td>\n",
       "      <td>top1 left</td>\n",
       "      <td>16.0</td>\n",
       "    </tr>\n",
       "    <tr>\n",
       "      <th>9704</th>\n",
       "      <td>ZABARBURU SAAVEDRA GONZALO</td>\n",
       "      <td>NOLAM ELIAS TALAVERA ZAPANA</td>\n",
       "      <td>top1 left</td>\n",
       "      <td>19.0</td>\n",
       "    </tr>\n",
       "    <tr>\n",
       "      <th>9734</th>\n",
       "      <td>ZABARBURU SAAVEDRA GONZALO</td>\n",
       "      <td>SUSAN CAMARA TELLO</td>\n",
       "      <td>top1 left</td>\n",
       "      <td>19.0</td>\n",
       "    </tr>\n",
       "    <tr>\n",
       "      <th>9746</th>\n",
       "      <td>ZABARBURU SAAVEDRA GONZALO</td>\n",
       "      <td>PEDRO RUBEN CHIRA TELLO</td>\n",
       "      <td>top1 left</td>\n",
       "      <td>19.0</td>\n",
       "    </tr>\n",
       "    <tr>\n",
       "      <th>9852</th>\n",
       "      <td>ZABARBURU SAAVEDRA GONZALO</td>\n",
       "      <td>ANA PAULA MEDRANO ALIAGA</td>\n",
       "      <td>top1 left</td>\n",
       "      <td>19.0</td>\n",
       "    </tr>\n",
       "  </tbody>\n",
       "</table>\n",
       "<p>140 rows × 4 columns</p>\n",
       "</div>"
      ],
      "text/plain": [
       "                                juez    participant_nombre_apellido __matchtype__  __top1diff__\n",
       "15                                                ROXANA AMAYA PAZO     top1 left          17.0\n",
       "34                                                MARLO TELLO PONCE     top1 left          17.0\n",
       "7788      BARBOZA LUDEÑA MAXIMO SAUL      TANIA LIZETT MEDINA SAYRA     top1 left          18.0\n",
       "487    AGUADO SEMINO ALFREDO ALBERTO             ARTEMIO ORE FLORES     top1 left          19.0\n",
       "611    AGUADO SEMINO ALFREDO ALBERTO  ALBERTO RAMIRO CRUZADO ALIAGA     top1 left          19.0\n",
       "...                              ...                            ...           ...           ...\n",
       "6145         VIGIL CURO LUZ CAROLINA          VICTOR CALIZAYA COILA     top1 left          16.0\n",
       "9704      ZABARBURU SAAVEDRA GONZALO    NOLAM ELIAS TALAVERA ZAPANA     top1 left          19.0\n",
       "9734      ZABARBURU SAAVEDRA GONZALO             SUSAN CAMARA TELLO     top1 left          19.0\n",
       "9746      ZABARBURU SAAVEDRA GONZALO        PEDRO RUBEN CHIRA TELLO     top1 left          19.0\n",
       "9852      ZABARBURU SAAVEDRA GONZALO       ANA PAULA MEDRANO ALIAGA     top1 left          19.0\n",
       "\n",
       "[140 rows x 4 columns]"
      ]
     },
     "execution_count": 120,
     "metadata": {},
     "output_type": "execute_result"
    }
   ],
   "source": [
    "matched_judge_name8 = matched_judge_name8.rename(columns={'__top1left__': 'juez', '__top1right__': 'participant_nombre_apellido'})\n",
    "\n",
    "matched_judge_name8"
   ]
  },
  {
   "cell_type": "code",
   "execution_count": 121,
   "id": "25b9fe06",
   "metadata": {},
   "outputs": [
    {
     "data": {
      "text/html": [
       "<div>\n",
       "<style scoped>\n",
       "    .dataframe tbody tr th:only-of-type {\n",
       "        vertical-align: middle;\n",
       "    }\n",
       "\n",
       "    .dataframe tbody tr th {\n",
       "        vertical-align: top;\n",
       "    }\n",
       "\n",
       "    .dataframe thead th {\n",
       "        text-align: right;\n",
       "    }\n",
       "</style>\n",
       "<table border=\"1\" class=\"dataframe\">\n",
       "  <thead>\n",
       "    <tr style=\"text-align: right;\">\n",
       "      <th></th>\n",
       "      <th>juez</th>\n",
       "      <th>participant_nombre_apellido</th>\n",
       "      <th>__matchtype__</th>\n",
       "      <th>__top1diff__</th>\n",
       "    </tr>\n",
       "  </thead>\n",
       "  <tbody>\n",
       "  </tbody>\n",
       "</table>\n",
       "</div>"
      ],
      "text/plain": [
       "Empty DataFrame\n",
       "Columns: [juez, participant_nombre_apellido, __matchtype__, __top1diff__]\n",
       "Index: []"
      ]
     },
     "execution_count": 121,
     "metadata": {},
     "output_type": "execute_result"
    }
   ],
   "source": [
    "fuzzy_8_judge = matched_judge_name8[(matched_judge_name8[\"__top1diff__\"] >= 0.1) & (matched_judge_name8[\"__top1diff__\"] <= 7.1)].copy()\n",
    "fuzzy_8_judge"
   ]
  },
  {
   "cell_type": "code",
   "execution_count": 157,
   "id": "86686db0",
   "metadata": {},
   "outputs": [
    {
     "data": {
      "text/plain": [
       "pandas.core.frame.DataFrame"
      ]
     },
     "execution_count": 157,
     "metadata": {},
     "output_type": "execute_result"
    }
   ],
   "source": [
    "type(matched_judge_name8)"
   ]
  },
  {
   "cell_type": "code",
   "execution_count": null,
   "id": "087ddfe1",
   "metadata": {},
   "outputs": [],
   "source": [
    "# 1. Arreglar los fuzzies \n",
    "# 2. Arreglar el dataframe de los que si matchearon para poder crear amag_ii_cases\n",
    "# 3. Coincidan las columnas de los fuzzies y de los que si matchean\n",
    "# 4. Luego viene lo de files_reports y amag_ii_cases, usar la variable juez\n",
    "# 5. Usar el resultado de 4 para hacer un merge con las otras tablas, y luego usar exp_nro\n"
   ]
  },
  {
   "cell_type": "code",
   "execution_count": 145,
   "id": "e684782a",
   "metadata": {
    "scrolled": true
   },
   "outputs": [],
   "source": [
    "fuzzies_concat = pd.concat([fuzzy_1_judge, fuzzy_2_judge, fuzzy_3_judge, fuzzy_4_judge, fuzzy_5_judge, fuzzy_6_judge, fuzzy_7_judge, fuzzy_8_judge])\n",
    "\n",
    "fuzzies_concat = fuzzies_concat.drop(columns=['__matchtype__', '__top1diff__'])\n",
    "\n",
    "# dividir en dos df el fuzzies_concat\n",
    "\n",
    "fuzzies_concat_apellido = fuzzies_concat.dropna(subset=['participant_apellido_nombre'])\n",
    "fuzzies_concat_apellido = fuzzies_concat_apellido.drop(columns=['participant_nombre_apellido'])\n",
    "\n",
    "fuzzies_concat_nombre = fuzzies_concat.dropna(subset=['participant_nombre_apellido'])\n",
    "fuzzies_concat_nombre = fuzzies_concat_nombre.drop(columns=['participant_apellido_nombre'])"
   ]
  },
  {
   "cell_type": "code",
   "execution_count": 150,
   "id": "058c5e1d",
   "metadata": {
    "scrolled": true
   },
   "outputs": [
    {
     "data": {
      "text/html": [
       "<div>\n",
       "<style scoped>\n",
       "    .dataframe tbody tr th:only-of-type {\n",
       "        vertical-align: middle;\n",
       "    }\n",
       "\n",
       "    .dataframe tbody tr th {\n",
       "        vertical-align: top;\n",
       "    }\n",
       "\n",
       "    .dataframe thead th {\n",
       "        text-align: right;\n",
       "    }\n",
       "</style>\n",
       "<table border=\"1\" class=\"dataframe\">\n",
       "  <thead>\n",
       "    <tr style=\"text-align: right;\">\n",
       "      <th></th>\n",
       "      <th>juez</th>\n",
       "      <th>nrodocumento</th>\n",
       "      <th>ApellidoPaterno</th>\n",
       "      <th>ApellidoMaterno</th>\n",
       "      <th>Nombres</th>\n",
       "    </tr>\n",
       "  </thead>\n",
       "  <tbody>\n",
       "    <tr>\n",
       "      <th>0</th>\n",
       "      <td>ZUÑIGA PORTOCARRERO LINO</td>\n",
       "      <td>29558906</td>\n",
       "      <td>ZUÑIGA</td>\n",
       "      <td>PORTOCARRERO</td>\n",
       "      <td>LINO YSAURO</td>\n",
       "    </tr>\n",
       "    <tr>\n",
       "      <th>1</th>\n",
       "      <td>HERRERA GUZMAN MARCO ANTONIO</td>\n",
       "      <td>29582436</td>\n",
       "      <td>HERRERA</td>\n",
       "      <td>GUZMAN</td>\n",
       "      <td>MARCO ANTONIO</td>\n",
       "    </tr>\n",
       "    <tr>\n",
       "      <th>2</th>\n",
       "      <td>CARDENAS ALVARADO BORIS FAUSTO</td>\n",
       "      <td>18071270</td>\n",
       "      <td>CARDENAS</td>\n",
       "      <td>ALVARADO</td>\n",
       "      <td>BORIS FAUSTO</td>\n",
       "    </tr>\n",
       "    <tr>\n",
       "      <th>3</th>\n",
       "      <td>CARHUAPOMA GRANDA EDGARD JESUS</td>\n",
       "      <td>29602737</td>\n",
       "      <td>CARHUAPOMA</td>\n",
       "      <td>GRANDA</td>\n",
       "      <td>EDGARD JESUS</td>\n",
       "    </tr>\n",
       "    <tr>\n",
       "      <th>4</th>\n",
       "      <td>CRUZ COBEÑAS MARLENY</td>\n",
       "      <td>10407408</td>\n",
       "      <td>CRUZ</td>\n",
       "      <td>COBEÑAS</td>\n",
       "      <td>MARLENY</td>\n",
       "    </tr>\n",
       "    <tr>\n",
       "      <th>5</th>\n",
       "      <td>TAPAHUASCO PALOMINO RICHARD</td>\n",
       "      <td>7460242</td>\n",
       "      <td>TAPAHUASCO</td>\n",
       "      <td>PALOMINO</td>\n",
       "      <td>RICHARD</td>\n",
       "    </tr>\n",
       "  </tbody>\n",
       "</table>\n",
       "</div>"
      ],
      "text/plain": [
       "                              juez  nrodocumento ApellidoPaterno ApellidoMaterno        Nombres\n",
       "0         ZUÑIGA PORTOCARRERO LINO      29558906          ZUÑIGA    PORTOCARRERO    LINO YSAURO\n",
       "1     HERRERA GUZMAN MARCO ANTONIO      29582436         HERRERA          GUZMAN  MARCO ANTONIO\n",
       "2   CARDENAS ALVARADO BORIS FAUSTO      18071270        CARDENAS        ALVARADO   BORIS FAUSTO\n",
       "3   CARHUAPOMA GRANDA EDGARD JESUS      29602737      CARHUAPOMA          GRANDA   EDGARD JESUS\n",
       "4             CRUZ COBEÑAS MARLENY      10407408            CRUZ         COBEÑAS        MARLENY\n",
       "5      TAPAHUASCO PALOMINO RICHARD       7460242      TAPAHUASCO        PALOMINO        RICHARD"
      ]
     },
     "execution_count": 150,
     "metadata": {},
     "output_type": "execute_result"
    }
   ],
   "source": [
    "fuzzies_1 = fuzzies_concat_apellido.merge(lab_data[[\"nrodocumento\",\"ApellidoPaterno\", \"ApellidoMaterno\", \"Nombres\", 'participant_apellido_nombre']], on='participant_apellido_nombre', how = 'left')\n",
    "\n",
    "fuzzies_1 = fuzzies_1.drop(columns=['participant_apellido_nombre'])\n",
    "fuzzies_1\n",
    "# fuzzies_concat_apellido['participant_nombre_apellido'] = fuzzies_1['participant_nombre_apellido']"
   ]
  },
  {
   "cell_type": "code",
   "execution_count": 148,
   "id": "71ec63ca",
   "metadata": {
    "scrolled": true
   },
   "outputs": [
    {
     "data": {
      "text/html": [
       "<div>\n",
       "<style scoped>\n",
       "    .dataframe tbody tr th:only-of-type {\n",
       "        vertical-align: middle;\n",
       "    }\n",
       "\n",
       "    .dataframe tbody tr th {\n",
       "        vertical-align: top;\n",
       "    }\n",
       "\n",
       "    .dataframe thead th {\n",
       "        text-align: right;\n",
       "    }\n",
       "</style>\n",
       "<table border=\"1\" class=\"dataframe\">\n",
       "  <thead>\n",
       "    <tr style=\"text-align: right;\">\n",
       "      <th></th>\n",
       "      <th>juez</th>\n",
       "      <th>nrodocumento</th>\n",
       "      <th>ApellidoPaterno</th>\n",
       "      <th>ApellidoMaterno</th>\n",
       "      <th>Nombres</th>\n",
       "    </tr>\n",
       "  </thead>\n",
       "  <tbody>\n",
       "    <tr>\n",
       "      <th>0</th>\n",
       "      <td>JULISSA ASEIJAS SILVA</td>\n",
       "      <td>26729323</td>\n",
       "      <td>ASEIJAS</td>\n",
       "      <td>SILVA</td>\n",
       "      <td>JULISSA ISABEL</td>\n",
       "    </tr>\n",
       "    <tr>\n",
       "      <th>1</th>\n",
       "      <td>ESAU CHANCO CASTILLON</td>\n",
       "      <td>20009702</td>\n",
       "      <td>CHANCO</td>\n",
       "      <td>CASTILLON</td>\n",
       "      <td>ESAU</td>\n",
       "    </tr>\n",
       "    <tr>\n",
       "      <th>2</th>\n",
       "      <td>JULIO CESAR LEYVA PEREZ</td>\n",
       "      <td>8062416</td>\n",
       "      <td>LEYVA</td>\n",
       "      <td>PEREZ</td>\n",
       "      <td>JULIO CESAR</td>\n",
       "    </tr>\n",
       "  </tbody>\n",
       "</table>\n",
       "</div>"
      ],
      "text/plain": [
       "                       juez  nrodocumento ApellidoPaterno ApellidoMaterno         Nombres\n",
       "0     JULISSA ASEIJAS SILVA      26729323         ASEIJAS           SILVA  JULISSA ISABEL\n",
       "1     ESAU CHANCO CASTILLON      20009702          CHANCO       CASTILLON            ESAU\n",
       "2   JULIO CESAR LEYVA PEREZ       8062416           LEYVA           PEREZ     JULIO CESAR"
      ]
     },
     "execution_count": 148,
     "metadata": {},
     "output_type": "execute_result"
    }
   ],
   "source": [
    "fuzzies_2 = fuzzies_concat_nombre.merge(lab_data[[\"nrodocumento\",\"ApellidoPaterno\", \"ApellidoMaterno\", \"Nombres\", 'participant_nombre_apellido']], on='participant_nombre_apellido', how = 'left')\n",
    "\n",
    "fuzzies_2 = fuzzies_2.drop(columns=['participant_nombre_apellido'])\n",
    "\n",
    "fuzzies_2"
   ]
  },
  {
   "cell_type": "code",
   "execution_count": 176,
   "id": "10d7240e",
   "metadata": {},
   "outputs": [
    {
     "data": {
      "text/html": [
       "<div>\n",
       "<style scoped>\n",
       "    .dataframe tbody tr th:only-of-type {\n",
       "        vertical-align: middle;\n",
       "    }\n",
       "\n",
       "    .dataframe tbody tr th {\n",
       "        vertical-align: top;\n",
       "    }\n",
       "\n",
       "    .dataframe thead th {\n",
       "        text-align: right;\n",
       "    }\n",
       "</style>\n",
       "<table border=\"1\" class=\"dataframe\">\n",
       "  <thead>\n",
       "    <tr style=\"text-align: right;\">\n",
       "      <th></th>\n",
       "      <th>index</th>\n",
       "      <th>juez</th>\n",
       "      <th>nrodocumento</th>\n",
       "      <th>participant_nombre_apellido</th>\n",
       "      <th>participant_apellido_nombre</th>\n",
       "    </tr>\n",
       "  </thead>\n",
       "  <tbody>\n",
       "    <tr>\n",
       "      <th>0</th>\n",
       "      <td>26886</td>\n",
       "      <td>LUIS ALVIN QUISPE SANCHEZ</td>\n",
       "      <td>41929968</td>\n",
       "      <td>LUIS ALVIN QUISPE SANCHEZ</td>\n",
       "      <td>QUISPE SANCHEZ LUIS ALVIN</td>\n",
       "    </tr>\n",
       "    <tr>\n",
       "      <th>1</th>\n",
       "      <td>45112</td>\n",
       "      <td>AMPARO BEATRIZ RODRIGUEZ CASTILLO</td>\n",
       "      <td>18090278</td>\n",
       "      <td>AMPARO BEATRIZ RODRIGUEZ CASTILLO</td>\n",
       "      <td>RODRIGUEZ CASTILLO AMPARO BEATRIZ</td>\n",
       "    </tr>\n",
       "    <tr>\n",
       "      <th>2</th>\n",
       "      <td>47010</td>\n",
       "      <td>FELIX ENRIQUE RAMIREZ SANCHEZ</td>\n",
       "      <td>18135223</td>\n",
       "      <td>FELIX ENRIQUE RAMIREZ SANCHEZ</td>\n",
       "      <td>RAMIREZ SANCHEZ FELIX ENRIQUE</td>\n",
       "    </tr>\n",
       "    <tr>\n",
       "      <th>3</th>\n",
       "      <td>52934</td>\n",
       "      <td>JUAN MANUEL FLORES SANCHEZ</td>\n",
       "      <td>1325221</td>\n",
       "      <td>JUAN MANUEL FLORES SANCHEZ</td>\n",
       "      <td>FLORES SANCHEZ JUAN MANUEL</td>\n",
       "    </tr>\n",
       "    <tr>\n",
       "      <th>0</th>\n",
       "      <td>10</td>\n",
       "      <td>CHIGNE MOZOMBITE MARIA DEL PILAR</td>\n",
       "      <td>41371819</td>\n",
       "      <td>MARIA DEL PILAR CHIGNE MOZOMBITE</td>\n",
       "      <td>CHIGNE MOZOMBITE MARIA DEL PILAR</td>\n",
       "    </tr>\n",
       "    <tr>\n",
       "      <th>1</th>\n",
       "      <td>684</td>\n",
       "      <td>OCAMPO VARGAS CLODOMIRA</td>\n",
       "      <td>18138792</td>\n",
       "      <td>CLODOMIRA OCAMPO VARGAS</td>\n",
       "      <td>OCAMPO VARGAS CLODOMIRA</td>\n",
       "    </tr>\n",
       "    <tr>\n",
       "      <th>2</th>\n",
       "      <td>3587</td>\n",
       "      <td>DIAZ ALVAN ROBERTO CARLOS</td>\n",
       "      <td>41359917</td>\n",
       "      <td>ROBERTO CARLOS DIAZ ALVAN</td>\n",
       "      <td>DIAZ ALVAN ROBERTO CARLOS</td>\n",
       "    </tr>\n",
       "    <tr>\n",
       "      <th>3</th>\n",
       "      <td>5507</td>\n",
       "      <td>BACILIO SALAZAR EMMA CONSUELO</td>\n",
       "      <td>7299339</td>\n",
       "      <td>EMMA CONSUELO BACILIO SALAZAR</td>\n",
       "      <td>BACILIO SALAZAR EMMA CONSUELO</td>\n",
       "    </tr>\n",
       "    <tr>\n",
       "      <th>4</th>\n",
       "      <td>5704</td>\n",
       "      <td>ROJAS OBREGON FIORELLA MAGALI</td>\n",
       "      <td>42897314</td>\n",
       "      <td>FIORELLA MAGALI ROJAS OBREGON</td>\n",
       "      <td>ROJAS OBREGON FIORELLA MAGALI</td>\n",
       "    </tr>\n",
       "    <tr>\n",
       "      <th>5</th>\n",
       "      <td>6678</td>\n",
       "      <td>GUTIERREZ GALVEZ ZONIA VIRGINIA</td>\n",
       "      <td>28260854</td>\n",
       "      <td>ZONIA VIRGINIA GUTIERREZ GALVEZ</td>\n",
       "      <td>GUTIERREZ GALVEZ ZONIA VIRGINIA</td>\n",
       "    </tr>\n",
       "    <tr>\n",
       "      <th>6</th>\n",
       "      <td>12174</td>\n",
       "      <td>CARY CHOQUE CARLOS ALVARO</td>\n",
       "      <td>29224520</td>\n",
       "      <td>CARLOS ALVARO CARY CHOQUE</td>\n",
       "      <td>CARY CHOQUE CARLOS ALVARO</td>\n",
       "    </tr>\n",
       "    <tr>\n",
       "      <th>7</th>\n",
       "      <td>12203</td>\n",
       "      <td>CALLE VERA OSCAR FRANCIS</td>\n",
       "      <td>43188285</td>\n",
       "      <td>OSCAR FRANCIS CALLE VERA</td>\n",
       "      <td>CALLE VERA OSCAR FRANCIS</td>\n",
       "    </tr>\n",
       "    <tr>\n",
       "      <th>8</th>\n",
       "      <td>12879</td>\n",
       "      <td>BELLIDO ANGULO MARIA SOLEDAD</td>\n",
       "      <td>29424173</td>\n",
       "      <td>MARIA SOLEDAD BELLIDO ANGULO</td>\n",
       "      <td>BELLIDO ANGULO MARIA SOLEDAD</td>\n",
       "    </tr>\n",
       "    <tr>\n",
       "      <th>9</th>\n",
       "      <td>13744</td>\n",
       "      <td>YUCA HUARACCALLO FELIPE FEDERICO</td>\n",
       "      <td>29580121</td>\n",
       "      <td>FELIPE FEDERICO YUCA HUARACCALLO</td>\n",
       "      <td>YUCA HUARACCALLO FELIPE FEDERICO</td>\n",
       "    </tr>\n",
       "    <tr>\n",
       "      <th>10</th>\n",
       "      <td>14533</td>\n",
       "      <td>TALAVERA ZAPANA NOLAM ELIAS</td>\n",
       "      <td>29472266</td>\n",
       "      <td>NOLAM ELIAS TALAVERA ZAPANA</td>\n",
       "      <td>TALAVERA ZAPANA NOLAM ELIAS</td>\n",
       "    </tr>\n",
       "    <tr>\n",
       "      <th>11</th>\n",
       "      <td>15056</td>\n",
       "      <td>UCHANI SARMIENTO BERTHA</td>\n",
       "      <td>41227011</td>\n",
       "      <td>BERTHA UCHANI SARMIENTO</td>\n",
       "      <td>UCHANI SARMIENTO BERTHA</td>\n",
       "    </tr>\n",
       "    <tr>\n",
       "      <th>12</th>\n",
       "      <td>15065</td>\n",
       "      <td>OROSCO VEGA ELOY GUILLERMO</td>\n",
       "      <td>29432228</td>\n",
       "      <td>ELOY GUILLERMO OROSCO VEGA</td>\n",
       "      <td>OROSCO VEGA ELOY GUILLERMO</td>\n",
       "    </tr>\n",
       "    <tr>\n",
       "      <th>13</th>\n",
       "      <td>15084</td>\n",
       "      <td>FIGUEROA TEJADA LIZ EVERLYN</td>\n",
       "      <td>40648799</td>\n",
       "      <td>LIZ EVERLYN FIGUEROA TEJADA</td>\n",
       "      <td>FIGUEROA TEJADA LIZ EVERLYN</td>\n",
       "    </tr>\n",
       "    <tr>\n",
       "      <th>14</th>\n",
       "      <td>16026</td>\n",
       "      <td>CARHUAPOMA GRANDA EDGARD JESUS</td>\n",
       "      <td>29602737</td>\n",
       "      <td>EDGARD JESUS CARHUAPOMA GRANDA</td>\n",
       "      <td>CARHUAPOMA GRANDA EDGARD JESUS</td>\n",
       "    </tr>\n",
       "    <tr>\n",
       "      <th>15</th>\n",
       "      <td>19871</td>\n",
       "      <td>DE LA CRUZ PIZARRO JHENY VIRGINIA</td>\n",
       "      <td>40018732</td>\n",
       "      <td>JHENY VIRGINIA DE LA CRUZ PIZARRO</td>\n",
       "      <td>DE LA CRUZ PIZARRO JHENY VIRGINIA</td>\n",
       "    </tr>\n",
       "    <tr>\n",
       "      <th>16</th>\n",
       "      <td>27223</td>\n",
       "      <td>MACHUCA ALIAGA ELDA MADAHITH</td>\n",
       "      <td>46976280</td>\n",
       "      <td>ELDA MADAHITH MACHUCA ALIAGA</td>\n",
       "      <td>MACHUCA ALIAGA ELDA MADAHITH</td>\n",
       "    </tr>\n",
       "    <tr>\n",
       "      <th>17</th>\n",
       "      <td>28949</td>\n",
       "      <td>ASMAD CORCUERA MARCO ANTONIO</td>\n",
       "      <td>18087872</td>\n",
       "      <td>MARCO ANTONIO ASMAD CORCUERA</td>\n",
       "      <td>ASMAD CORCUERA MARCO ANTONIO</td>\n",
       "    </tr>\n",
       "    <tr>\n",
       "      <th>18</th>\n",
       "      <td>32136</td>\n",
       "      <td>SANCHEZ RAMOS BEATRIZ YOLANDA</td>\n",
       "      <td>40640033</td>\n",
       "      <td>BEATRIZ YOLANDA SANCHEZ RAMOS</td>\n",
       "      <td>SANCHEZ RAMOS BEATRIZ YOLANDA</td>\n",
       "    </tr>\n",
       "    <tr>\n",
       "      <th>19</th>\n",
       "      <td>32235</td>\n",
       "      <td>TORRES CONTRERAS WILLIAM EDGARDO</td>\n",
       "      <td>32921331</td>\n",
       "      <td>WILLIAM EDGARDO TORRES CONTRERAS</td>\n",
       "      <td>TORRES CONTRERAS WILLIAM EDGARDO</td>\n",
       "    </tr>\n",
       "    <tr>\n",
       "      <th>20</th>\n",
       "      <td>32244</td>\n",
       "      <td>BUSTOS BALTA CELIA DEL PILAR</td>\n",
       "      <td>40042883</td>\n",
       "      <td>CELIA DEL PILAR BUSTOS BALTA</td>\n",
       "      <td>BUSTOS BALTA CELIA DEL PILAR</td>\n",
       "    </tr>\n",
       "    <tr>\n",
       "      <th>21</th>\n",
       "      <td>32257</td>\n",
       "      <td>URRUTIA MENDEZ JONATHAN PAUL</td>\n",
       "      <td>41715317</td>\n",
       "      <td>JONATHAN PAUL URRUTIA MENDEZ</td>\n",
       "      <td>URRUTIA MENDEZ JONATHAN PAUL</td>\n",
       "    </tr>\n",
       "    <tr>\n",
       "      <th>22</th>\n",
       "      <td>32297</td>\n",
       "      <td>VIVANCO HUAMAN GLORIA TERESA</td>\n",
       "      <td>9670269</td>\n",
       "      <td>GLORIA TERESA VIVANCO HUAMAN</td>\n",
       "      <td>VIVANCO HUAMAN GLORIA TERESA</td>\n",
       "    </tr>\n",
       "    <tr>\n",
       "      <th>23</th>\n",
       "      <td>37505</td>\n",
       "      <td>AUQUI HUERTA TEOFANES EDGAR</td>\n",
       "      <td>40847128</td>\n",
       "      <td>TEOFANES EDGAR AUQUI HUERTA</td>\n",
       "      <td>AUQUI HUERTA TEOFANES EDGAR</td>\n",
       "    </tr>\n",
       "    <tr>\n",
       "      <th>24</th>\n",
       "      <td>37508</td>\n",
       "      <td>MEDRANO ALIAGA ANA PAULA</td>\n",
       "      <td>10286711</td>\n",
       "      <td>ANA PAULA MEDRANO ALIAGA</td>\n",
       "      <td>MEDRANO ALIAGA ANA PAULA</td>\n",
       "    </tr>\n",
       "    <tr>\n",
       "      <th>25</th>\n",
       "      <td>37726</td>\n",
       "      <td>VICUÑA ZAMORA JESUS</td>\n",
       "      <td>19916154</td>\n",
       "      <td>JESUS VICUÑA ZAMORA</td>\n",
       "      <td>VICUÑA ZAMORA JESUS</td>\n",
       "    </tr>\n",
       "    <tr>\n",
       "      <th>26</th>\n",
       "      <td>41149</td>\n",
       "      <td>VILLARREAL BALBIN IVAN</td>\n",
       "      <td>20112346</td>\n",
       "      <td>IVAN VILLARREAL BALBIN</td>\n",
       "      <td>VILLARREAL BALBIN IVAN</td>\n",
       "    </tr>\n",
       "    <tr>\n",
       "      <th>27</th>\n",
       "      <td>43178</td>\n",
       "      <td>ROJAS LAZARO WILLIAM RAUL</td>\n",
       "      <td>41543436</td>\n",
       "      <td>WILLIAM RAUL ROJAS LAZARO</td>\n",
       "      <td>ROJAS LAZARO WILLIAM RAUL</td>\n",
       "    </tr>\n",
       "    <tr>\n",
       "      <th>28</th>\n",
       "      <td>46948</td>\n",
       "      <td>RAMIREZ IPARRAGUIRRE VICTOR MANUEL</td>\n",
       "      <td>42266097</td>\n",
       "      <td>VICTOR MANUEL RAMIREZ IPARRAGUIRRE</td>\n",
       "      <td>RAMIREZ IPARRAGUIRRE VICTOR MANUEL</td>\n",
       "    </tr>\n",
       "    <tr>\n",
       "      <th>29</th>\n",
       "      <td>47039</td>\n",
       "      <td>LEON MARTELL VICTOR CANDELARIO</td>\n",
       "      <td>40971750</td>\n",
       "      <td>VICTOR CANDELARIO LEON MARTELL</td>\n",
       "      <td>LEON MARTELL VICTOR CANDELARIO</td>\n",
       "    </tr>\n",
       "    <tr>\n",
       "      <th>30</th>\n",
       "      <td>49627</td>\n",
       "      <td>ATAURIMA RUIZ BELISSA IBETTE</td>\n",
       "      <td>43992353</td>\n",
       "      <td>BELISSA IBETTE ATAURIMA RUIZ</td>\n",
       "      <td>ATAURIMA RUIZ BELISSA IBETTE</td>\n",
       "    </tr>\n",
       "    <tr>\n",
       "      <th>31</th>\n",
       "      <td>49754</td>\n",
       "      <td>VARGAS PEREZ ROSA ISABEL</td>\n",
       "      <td>40758830</td>\n",
       "      <td>ROSA ISABEL VARGAS PEREZ</td>\n",
       "      <td>VARGAS PEREZ ROSA ISABEL</td>\n",
       "    </tr>\n",
       "    <tr>\n",
       "      <th>32</th>\n",
       "      <td>49756</td>\n",
       "      <td>ARRIOLA GUILLEN MARCELA</td>\n",
       "      <td>23992411</td>\n",
       "      <td>MARCELA ARRIOLA GUILLEN</td>\n",
       "      <td>ARRIOLA GUILLEN MARCELA</td>\n",
       "    </tr>\n",
       "    <tr>\n",
       "      <th>33</th>\n",
       "      <td>49875</td>\n",
       "      <td>TORRES SIGUEÑAS CAROL DEL ROSARIO</td>\n",
       "      <td>41846685</td>\n",
       "      <td>CAROL DEL ROSARIO TORRES SIGUEÑAS</td>\n",
       "      <td>TORRES SIGUEÑAS CAROL DEL ROSARIO</td>\n",
       "    </tr>\n",
       "    <tr>\n",
       "      <th>34</th>\n",
       "      <td>49879</td>\n",
       "      <td>CORDOVA LOPEZ OCNER</td>\n",
       "      <td>3369984</td>\n",
       "      <td>OCNER CORDOVA LOPEZ</td>\n",
       "      <td>CORDOVA LOPEZ OCNER</td>\n",
       "    </tr>\n",
       "    <tr>\n",
       "      <th>35</th>\n",
       "      <td>49898</td>\n",
       "      <td>LLANOS CHAVEZ GRACIELA ESTHER</td>\n",
       "      <td>22514816</td>\n",
       "      <td>GRACIELA ESTHER LLANOS CHAVEZ</td>\n",
       "      <td>LLANOS CHAVEZ GRACIELA ESTHER</td>\n",
       "    </tr>\n",
       "    <tr>\n",
       "      <th>36</th>\n",
       "      <td>50183</td>\n",
       "      <td>SARMIENTO VEGA VARINIA YANET</td>\n",
       "      <td>21133300</td>\n",
       "      <td>VARINIA YANET SARMIENTO VEGA</td>\n",
       "      <td>SARMIENTO VEGA VARINIA YANET</td>\n",
       "    </tr>\n",
       "    <tr>\n",
       "      <th>37</th>\n",
       "      <td>50186</td>\n",
       "      <td>GONZALEZ BRONCANO JORGE ABDON</td>\n",
       "      <td>9904641</td>\n",
       "      <td>JORGE ABDON GONZALEZ BRONCANO</td>\n",
       "      <td>GONZALEZ BRONCANO JORGE ABDON</td>\n",
       "    </tr>\n",
       "    <tr>\n",
       "      <th>38</th>\n",
       "      <td>50269</td>\n",
       "      <td>ARIZABAL CALDERON RUSSY ELDA</td>\n",
       "      <td>23942493</td>\n",
       "      <td>RUSSY ELDA ARIZABAL CALDERON</td>\n",
       "      <td>ARIZABAL CALDERON RUSSY ELDA</td>\n",
       "    </tr>\n",
       "    <tr>\n",
       "      <th>39</th>\n",
       "      <td>51733</td>\n",
       "      <td>GRAJEDA BASHUALDO MILAGROS MARILYN</td>\n",
       "      <td>41209344</td>\n",
       "      <td>MILAGROS MARILYN GRAJEDA BASHUALDO</td>\n",
       "      <td>GRAJEDA BASHUALDO MILAGROS MARILYN</td>\n",
       "    </tr>\n",
       "    <tr>\n",
       "      <th>40</th>\n",
       "      <td>52350</td>\n",
       "      <td>PASCUAL SERNA DIANA ANGELA</td>\n",
       "      <td>42434313</td>\n",
       "      <td>DIANA ANGELA PASCUAL SERNA</td>\n",
       "      <td>PASCUAL SERNA DIANA ANGELA</td>\n",
       "    </tr>\n",
       "    <tr>\n",
       "      <th>41</th>\n",
       "      <td>52364</td>\n",
       "      <td>RODRIGUEZ RODRIGUEZ JULIO CESAR</td>\n",
       "      <td>7245586</td>\n",
       "      <td>JULIO CESAR RODRIGUEZ RODRIGUEZ</td>\n",
       "      <td>RODRIGUEZ RODRIGUEZ JULIO CESAR</td>\n",
       "    </tr>\n",
       "    <tr>\n",
       "      <th>42</th>\n",
       "      <td>52376</td>\n",
       "      <td>DE LA CRUZ TIPIAN CESAR ADOLFO</td>\n",
       "      <td>10195953</td>\n",
       "      <td>CESAR ADOLFO DE LA CRUZ TIPIAN</td>\n",
       "      <td>DE LA CRUZ TIPIAN CESAR ADOLFO</td>\n",
       "    </tr>\n",
       "    <tr>\n",
       "      <th>43</th>\n",
       "      <td>52772</td>\n",
       "      <td>CASTILLO HUAYNACHO ELMER</td>\n",
       "      <td>2156127</td>\n",
       "      <td>ELMER CASTILLO HUAYNACHO</td>\n",
       "      <td>CASTILLO HUAYNACHO ELMER</td>\n",
       "    </tr>\n",
       "    <tr>\n",
       "      <th>44</th>\n",
       "      <td>52878</td>\n",
       "      <td>PACHECO ZAPATA YULEMI PAULA</td>\n",
       "      <td>45101512</td>\n",
       "      <td>YULEMI PAULA PACHECO ZAPATA</td>\n",
       "      <td>PACHECO ZAPATA YULEMI PAULA</td>\n",
       "    </tr>\n",
       "    <tr>\n",
       "      <th>45</th>\n",
       "      <td>53086</td>\n",
       "      <td>VASQUEZ ROJAS DEYSY ELIZABETH</td>\n",
       "      <td>43481668</td>\n",
       "      <td>DEYSY ELIZABETH VASQUEZ ROJAS</td>\n",
       "      <td>VASQUEZ ROJAS DEYSY ELIZABETH</td>\n",
       "    </tr>\n",
       "    <tr>\n",
       "      <th>46</th>\n",
       "      <td>56104</td>\n",
       "      <td>MORENO CCANCCE RICARDO JONNY</td>\n",
       "      <td>9952777</td>\n",
       "      <td>RICARDO JONNY MORENO CCANCCE</td>\n",
       "      <td>MORENO CCANCCE RICARDO JONNY</td>\n",
       "    </tr>\n",
       "  </tbody>\n",
       "</table>\n",
       "</div>"
      ],
      "text/plain": [
       "    index                                juez  nrodocumento         participant_nombre_apellido         participant_apellido_nombre\n",
       "0   26886           LUIS ALVIN QUISPE SANCHEZ      41929968           LUIS ALVIN QUISPE SANCHEZ           QUISPE SANCHEZ LUIS ALVIN\n",
       "1   45112   AMPARO BEATRIZ RODRIGUEZ CASTILLO      18090278   AMPARO BEATRIZ RODRIGUEZ CASTILLO   RODRIGUEZ CASTILLO AMPARO BEATRIZ\n",
       "2   47010       FELIX ENRIQUE RAMIREZ SANCHEZ      18135223       FELIX ENRIQUE RAMIREZ SANCHEZ       RAMIREZ SANCHEZ FELIX ENRIQUE\n",
       "3   52934          JUAN MANUEL FLORES SANCHEZ       1325221          JUAN MANUEL FLORES SANCHEZ          FLORES SANCHEZ JUAN MANUEL\n",
       "0      10    CHIGNE MOZOMBITE MARIA DEL PILAR      41371819    MARIA DEL PILAR CHIGNE MOZOMBITE    CHIGNE MOZOMBITE MARIA DEL PILAR\n",
       "1     684             OCAMPO VARGAS CLODOMIRA      18138792             CLODOMIRA OCAMPO VARGAS             OCAMPO VARGAS CLODOMIRA\n",
       "2    3587           DIAZ ALVAN ROBERTO CARLOS      41359917           ROBERTO CARLOS DIAZ ALVAN           DIAZ ALVAN ROBERTO CARLOS\n",
       "3    5507       BACILIO SALAZAR EMMA CONSUELO       7299339       EMMA CONSUELO BACILIO SALAZAR       BACILIO SALAZAR EMMA CONSUELO\n",
       "4    5704       ROJAS OBREGON FIORELLA MAGALI      42897314       FIORELLA MAGALI ROJAS OBREGON       ROJAS OBREGON FIORELLA MAGALI\n",
       "5    6678     GUTIERREZ GALVEZ ZONIA VIRGINIA      28260854     ZONIA VIRGINIA GUTIERREZ GALVEZ     GUTIERREZ GALVEZ ZONIA VIRGINIA\n",
       "6   12174           CARY CHOQUE CARLOS ALVARO      29224520           CARLOS ALVARO CARY CHOQUE           CARY CHOQUE CARLOS ALVARO\n",
       "7   12203            CALLE VERA OSCAR FRANCIS      43188285            OSCAR FRANCIS CALLE VERA            CALLE VERA OSCAR FRANCIS\n",
       "8   12879        BELLIDO ANGULO MARIA SOLEDAD      29424173        MARIA SOLEDAD BELLIDO ANGULO        BELLIDO ANGULO MARIA SOLEDAD\n",
       "9   13744    YUCA HUARACCALLO FELIPE FEDERICO      29580121    FELIPE FEDERICO YUCA HUARACCALLO    YUCA HUARACCALLO FELIPE FEDERICO\n",
       "10  14533         TALAVERA ZAPANA NOLAM ELIAS      29472266         NOLAM ELIAS TALAVERA ZAPANA         TALAVERA ZAPANA NOLAM ELIAS\n",
       "11  15056             UCHANI SARMIENTO BERTHA      41227011             BERTHA UCHANI SARMIENTO             UCHANI SARMIENTO BERTHA\n",
       "12  15065          OROSCO VEGA ELOY GUILLERMO      29432228          ELOY GUILLERMO OROSCO VEGA          OROSCO VEGA ELOY GUILLERMO\n",
       "13  15084         FIGUEROA TEJADA LIZ EVERLYN      40648799         LIZ EVERLYN FIGUEROA TEJADA         FIGUEROA TEJADA LIZ EVERLYN\n",
       "14  16026      CARHUAPOMA GRANDA EDGARD JESUS      29602737      EDGARD JESUS CARHUAPOMA GRANDA      CARHUAPOMA GRANDA EDGARD JESUS\n",
       "15  19871   DE LA CRUZ PIZARRO JHENY VIRGINIA      40018732   JHENY VIRGINIA DE LA CRUZ PIZARRO   DE LA CRUZ PIZARRO JHENY VIRGINIA\n",
       "16  27223        MACHUCA ALIAGA ELDA MADAHITH      46976280        ELDA MADAHITH MACHUCA ALIAGA        MACHUCA ALIAGA ELDA MADAHITH\n",
       "17  28949        ASMAD CORCUERA MARCO ANTONIO      18087872        MARCO ANTONIO ASMAD CORCUERA        ASMAD CORCUERA MARCO ANTONIO\n",
       "18  32136       SANCHEZ RAMOS BEATRIZ YOLANDA      40640033       BEATRIZ YOLANDA SANCHEZ RAMOS       SANCHEZ RAMOS BEATRIZ YOLANDA\n",
       "19  32235    TORRES CONTRERAS WILLIAM EDGARDO      32921331    WILLIAM EDGARDO TORRES CONTRERAS    TORRES CONTRERAS WILLIAM EDGARDO\n",
       "20  32244        BUSTOS BALTA CELIA DEL PILAR      40042883        CELIA DEL PILAR BUSTOS BALTA        BUSTOS BALTA CELIA DEL PILAR\n",
       "21  32257        URRUTIA MENDEZ JONATHAN PAUL      41715317        JONATHAN PAUL URRUTIA MENDEZ        URRUTIA MENDEZ JONATHAN PAUL\n",
       "22  32297        VIVANCO HUAMAN GLORIA TERESA       9670269        GLORIA TERESA VIVANCO HUAMAN        VIVANCO HUAMAN GLORIA TERESA\n",
       "23  37505         AUQUI HUERTA TEOFANES EDGAR      40847128         TEOFANES EDGAR AUQUI HUERTA         AUQUI HUERTA TEOFANES EDGAR\n",
       "24  37508            MEDRANO ALIAGA ANA PAULA      10286711            ANA PAULA MEDRANO ALIAGA            MEDRANO ALIAGA ANA PAULA\n",
       "25  37726                 VICUÑA ZAMORA JESUS      19916154                 JESUS VICUÑA ZAMORA                 VICUÑA ZAMORA JESUS\n",
       "26  41149              VILLARREAL BALBIN IVAN      20112346              IVAN VILLARREAL BALBIN              VILLARREAL BALBIN IVAN\n",
       "27  43178           ROJAS LAZARO WILLIAM RAUL      41543436           WILLIAM RAUL ROJAS LAZARO           ROJAS LAZARO WILLIAM RAUL\n",
       "28  46948  RAMIREZ IPARRAGUIRRE VICTOR MANUEL      42266097  VICTOR MANUEL RAMIREZ IPARRAGUIRRE  RAMIREZ IPARRAGUIRRE VICTOR MANUEL\n",
       "29  47039      LEON MARTELL VICTOR CANDELARIO      40971750      VICTOR CANDELARIO LEON MARTELL      LEON MARTELL VICTOR CANDELARIO\n",
       "30  49627        ATAURIMA RUIZ BELISSA IBETTE      43992353        BELISSA IBETTE ATAURIMA RUIZ        ATAURIMA RUIZ BELISSA IBETTE\n",
       "31  49754            VARGAS PEREZ ROSA ISABEL      40758830            ROSA ISABEL VARGAS PEREZ            VARGAS PEREZ ROSA ISABEL\n",
       "32  49756             ARRIOLA GUILLEN MARCELA      23992411             MARCELA ARRIOLA GUILLEN             ARRIOLA GUILLEN MARCELA\n",
       "33  49875   TORRES SIGUEÑAS CAROL DEL ROSARIO      41846685   CAROL DEL ROSARIO TORRES SIGUEÑAS   TORRES SIGUEÑAS CAROL DEL ROSARIO\n",
       "34  49879                 CORDOVA LOPEZ OCNER       3369984                 OCNER CORDOVA LOPEZ                 CORDOVA LOPEZ OCNER\n",
       "35  49898       LLANOS CHAVEZ GRACIELA ESTHER      22514816       GRACIELA ESTHER LLANOS CHAVEZ       LLANOS CHAVEZ GRACIELA ESTHER\n",
       "36  50183        SARMIENTO VEGA VARINIA YANET      21133300        VARINIA YANET SARMIENTO VEGA        SARMIENTO VEGA VARINIA YANET\n",
       "37  50186       GONZALEZ BRONCANO JORGE ABDON       9904641       JORGE ABDON GONZALEZ BRONCANO       GONZALEZ BRONCANO JORGE ABDON\n",
       "38  50269        ARIZABAL CALDERON RUSSY ELDA      23942493        RUSSY ELDA ARIZABAL CALDERON        ARIZABAL CALDERON RUSSY ELDA\n",
       "39  51733  GRAJEDA BASHUALDO MILAGROS MARILYN      41209344  MILAGROS MARILYN GRAJEDA BASHUALDO  GRAJEDA BASHUALDO MILAGROS MARILYN\n",
       "40  52350          PASCUAL SERNA DIANA ANGELA      42434313          DIANA ANGELA PASCUAL SERNA          PASCUAL SERNA DIANA ANGELA\n",
       "41  52364     RODRIGUEZ RODRIGUEZ JULIO CESAR       7245586     JULIO CESAR RODRIGUEZ RODRIGUEZ     RODRIGUEZ RODRIGUEZ JULIO CESAR\n",
       "42  52376      DE LA CRUZ TIPIAN CESAR ADOLFO      10195953      CESAR ADOLFO DE LA CRUZ TIPIAN      DE LA CRUZ TIPIAN CESAR ADOLFO\n",
       "43  52772            CASTILLO HUAYNACHO ELMER       2156127            ELMER CASTILLO HUAYNACHO            CASTILLO HUAYNACHO ELMER\n",
       "44  52878         PACHECO ZAPATA YULEMI PAULA      45101512         YULEMI PAULA PACHECO ZAPATA         PACHECO ZAPATA YULEMI PAULA\n",
       "45  53086       VASQUEZ ROJAS DEYSY ELIZABETH      43481668       DEYSY ELIZABETH VASQUEZ ROJAS       VASQUEZ ROJAS DEYSY ELIZABETH\n",
       "46  56104        MORENO CCANCCE RICARDO JONNY       9952777        RICARDO JONNY MORENO CCANCCE        MORENO CCANCCE RICARDO JONNY"
      ]
     },
     "execution_count": 176,
     "metadata": {},
     "output_type": "execute_result"
    }
   ],
   "source": [
    "matched_concat = pd.concat([nombre_apellido_merge, apellido_nombre_merge])\n",
    "matched_concat"
   ]
  },
  {
   "cell_type": "code",
   "execution_count": 161,
   "id": "214b2b22",
   "metadata": {},
   "outputs": [
    {
     "data": {
      "text/html": [
       "<div>\n",
       "<style scoped>\n",
       "    .dataframe tbody tr th:only-of-type {\n",
       "        vertical-align: middle;\n",
       "    }\n",
       "\n",
       "    .dataframe tbody tr th {\n",
       "        vertical-align: top;\n",
       "    }\n",
       "\n",
       "    .dataframe thead th {\n",
       "        text-align: right;\n",
       "    }\n",
       "</style>\n",
       "<table border=\"1\" class=\"dataframe\">\n",
       "  <thead>\n",
       "    <tr style=\"text-align: right;\">\n",
       "      <th></th>\n",
       "      <th>ApellidoPaterno</th>\n",
       "      <th>ApellidoMaterno</th>\n",
       "      <th>Nombres</th>\n",
       "      <th>participant_apellido_nombre</th>\n",
       "    </tr>\n",
       "  </thead>\n",
       "  <tbody>\n",
       "    <tr>\n",
       "      <th>0</th>\n",
       "      <td>ROSAS</td>\n",
       "      <td>CASTAÑEDA</td>\n",
       "      <td>JUAN ANTONIO</td>\n",
       "      <td>ROSAS CASTAÑEDA JUAN ANTONIO</td>\n",
       "    </tr>\n",
       "    <tr>\n",
       "      <th>1</th>\n",
       "      <td>HUAMAN</td>\n",
       "      <td>PORTAL</td>\n",
       "      <td>ELVIRA LAURA</td>\n",
       "      <td>HUAMAN PORTAL ELVIRA LAURA</td>\n",
       "    </tr>\n",
       "    <tr>\n",
       "      <th>2</th>\n",
       "      <td>ZAVALAGA</td>\n",
       "      <td>VARGAS</td>\n",
       "      <td>ELARD FERNANDO</td>\n",
       "      <td>ZAVALAGA VARGAS ELARD FERNANDO</td>\n",
       "    </tr>\n",
       "    <tr>\n",
       "      <th>3</th>\n",
       "      <td>LAIZA</td>\n",
       "      <td>ESPINOZA</td>\n",
       "      <td>GLORIA LUCILA</td>\n",
       "      <td>LAIZA ESPINOZA GLORIA LUCILA</td>\n",
       "    </tr>\n",
       "    <tr>\n",
       "      <th>4</th>\n",
       "      <td>MORON</td>\n",
       "      <td>DOMINGUEZ</td>\n",
       "      <td>BENJAMIN ISRAEL</td>\n",
       "      <td>MORON DOMINGUEZ BENJAMIN ISRAEL</td>\n",
       "    </tr>\n",
       "    <tr>\n",
       "      <th>...</th>\n",
       "      <td>...</td>\n",
       "      <td>...</td>\n",
       "      <td>...</td>\n",
       "      <td>...</td>\n",
       "    </tr>\n",
       "    <tr>\n",
       "      <th>220</th>\n",
       "      <td>PALMER</td>\n",
       "      <td>OLIDEN</td>\n",
       "      <td>CARMEN JULIA</td>\n",
       "      <td>PALMER OLIDEN CARMEN JULIA</td>\n",
       "    </tr>\n",
       "    <tr>\n",
       "      <th>221</th>\n",
       "      <td>ABANTO</td>\n",
       "      <td>TAFUR</td>\n",
       "      <td>TATIANOVA</td>\n",
       "      <td>ABANTO TAFUR TATIANOVA</td>\n",
       "    </tr>\n",
       "    <tr>\n",
       "      <th>222</th>\n",
       "      <td>MORALES</td>\n",
       "      <td>FERNANDEZ</td>\n",
       "      <td>GIANNY ELEISER</td>\n",
       "      <td>MORALES FERNANDEZ GIANNY ELEISER</td>\n",
       "    </tr>\n",
       "    <tr>\n",
       "      <th>223</th>\n",
       "      <td>LLANCA</td>\n",
       "      <td>VARA</td>\n",
       "      <td>NORA ELIZABETH</td>\n",
       "      <td>LLANCA VARA NORA ELIZABETH</td>\n",
       "    </tr>\n",
       "    <tr>\n",
       "      <th>224</th>\n",
       "      <td>PACHECO</td>\n",
       "      <td>ZAPATA</td>\n",
       "      <td>YULEMI PAULA</td>\n",
       "      <td>PACHECO ZAPATA YULEMI PAULA</td>\n",
       "    </tr>\n",
       "  </tbody>\n",
       "</table>\n",
       "<p>225 rows × 4 columns</p>\n",
       "</div>"
      ],
      "text/plain": [
       "    ApellidoPaterno ApellidoMaterno          Nombres       participant_apellido_nombre\n",
       "0             ROSAS       CASTAÑEDA     JUAN ANTONIO      ROSAS CASTAÑEDA JUAN ANTONIO\n",
       "1            HUAMAN          PORTAL     ELVIRA LAURA        HUAMAN PORTAL ELVIRA LAURA\n",
       "2          ZAVALAGA          VARGAS   ELARD FERNANDO    ZAVALAGA VARGAS ELARD FERNANDO\n",
       "3             LAIZA        ESPINOZA    GLORIA LUCILA      LAIZA ESPINOZA GLORIA LUCILA\n",
       "4             MORON       DOMINGUEZ  BENJAMIN ISRAEL   MORON DOMINGUEZ BENJAMIN ISRAEL\n",
       "..              ...             ...              ...                               ...\n",
       "220          PALMER          OLIDEN     CARMEN JULIA        PALMER OLIDEN CARMEN JULIA\n",
       "221          ABANTO           TAFUR        TATIANOVA            ABANTO TAFUR TATIANOVA\n",
       "222         MORALES       FERNANDEZ   GIANNY ELEISER  MORALES FERNANDEZ GIANNY ELEISER\n",
       "223          LLANCA            VARA   NORA ELIZABETH        LLANCA VARA NORA ELIZABETH\n",
       "224         PACHECO          ZAPATA     YULEMI PAULA       PACHECO ZAPATA YULEMI PAULA\n",
       "\n",
       "[225 rows x 4 columns]"
      ]
     },
     "execution_count": 161,
     "metadata": {},
     "output_type": "execute_result"
    }
   ],
   "source": [
    "lab_data[[\"ApellidoPaterno\", \"ApellidoMaterno\", \"Nombres\", 'participant_apellido_nombre']]"
   ]
  },
  {
   "cell_type": "code",
   "execution_count": 177,
   "id": "460368c4",
   "metadata": {},
   "outputs": [
    {
     "data": {
      "text/plain": [
       "51"
      ]
     },
     "execution_count": 177,
     "metadata": {},
     "output_type": "execute_result"
    }
   ],
   "source": [
    "len(matched_concat)"
   ]
  },
  {
   "cell_type": "code",
   "execution_count": 169,
   "id": "06f430f9",
   "metadata": {},
   "outputs": [
    {
     "data": {
      "text/html": [
       "<div>\n",
       "<style scoped>\n",
       "    .dataframe tbody tr th:only-of-type {\n",
       "        vertical-align: middle;\n",
       "    }\n",
       "\n",
       "    .dataframe tbody tr th {\n",
       "        vertical-align: top;\n",
       "    }\n",
       "\n",
       "    .dataframe thead th {\n",
       "        text-align: right;\n",
       "    }\n",
       "</style>\n",
       "<table border=\"1\" class=\"dataframe\">\n",
       "  <thead>\n",
       "    <tr style=\"text-align: right;\">\n",
       "      <th></th>\n",
       "      <th>juez</th>\n",
       "      <th>nrodocumento</th>\n",
       "      <th>ApellidoPaterno</th>\n",
       "      <th>ApellidoMaterno</th>\n",
       "      <th>Nombres</th>\n",
       "    </tr>\n",
       "  </thead>\n",
       "  <tbody>\n",
       "    <tr>\n",
       "      <th>0</th>\n",
       "      <td>LUIS ALVIN QUISPE SANCHEZ</td>\n",
       "      <td>41929968</td>\n",
       "      <td>QUISPE</td>\n",
       "      <td>SANCHEZ</td>\n",
       "      <td>LUIS ALVIN</td>\n",
       "    </tr>\n",
       "    <tr>\n",
       "      <th>1</th>\n",
       "      <td>AMPARO BEATRIZ RODRIGUEZ CASTILLO</td>\n",
       "      <td>18090278</td>\n",
       "      <td>RODRIGUEZ</td>\n",
       "      <td>CASTILLO</td>\n",
       "      <td>AMPARO BEATRIZ</td>\n",
       "    </tr>\n",
       "    <tr>\n",
       "      <th>2</th>\n",
       "      <td>FELIX ENRIQUE RAMIREZ SANCHEZ</td>\n",
       "      <td>18135223</td>\n",
       "      <td>RAMIREZ</td>\n",
       "      <td>SANCHEZ</td>\n",
       "      <td>FELIX ENRIQUE</td>\n",
       "    </tr>\n",
       "    <tr>\n",
       "      <th>3</th>\n",
       "      <td>JUAN MANUEL FLORES SANCHEZ</td>\n",
       "      <td>1325221</td>\n",
       "      <td>FLORES</td>\n",
       "      <td>SANCHEZ</td>\n",
       "      <td>JUAN MANUEL</td>\n",
       "    </tr>\n",
       "    <tr>\n",
       "      <th>4</th>\n",
       "      <td>CHIGNE MOZOMBITE MARIA DEL PILAR</td>\n",
       "      <td>41371819</td>\n",
       "      <td>CHIGNE</td>\n",
       "      <td>MOZOMBITE</td>\n",
       "      <td>MARIA DEL PILAR</td>\n",
       "    </tr>\n",
       "    <tr>\n",
       "      <th>5</th>\n",
       "      <td>OCAMPO VARGAS CLODOMIRA</td>\n",
       "      <td>18138792</td>\n",
       "      <td>OCAMPO</td>\n",
       "      <td>VARGAS</td>\n",
       "      <td>CLODOMIRA</td>\n",
       "    </tr>\n",
       "    <tr>\n",
       "      <th>6</th>\n",
       "      <td>DIAZ ALVAN ROBERTO CARLOS</td>\n",
       "      <td>41359917</td>\n",
       "      <td>DIAZ</td>\n",
       "      <td>ALVAN</td>\n",
       "      <td>ROBERTO CARLOS</td>\n",
       "    </tr>\n",
       "    <tr>\n",
       "      <th>7</th>\n",
       "      <td>BACILIO SALAZAR EMMA CONSUELO</td>\n",
       "      <td>7299339</td>\n",
       "      <td>BACILIO</td>\n",
       "      <td>SALAZAR</td>\n",
       "      <td>EMMA CONSUELO</td>\n",
       "    </tr>\n",
       "    <tr>\n",
       "      <th>8</th>\n",
       "      <td>ROJAS OBREGON FIORELLA MAGALI</td>\n",
       "      <td>42897314</td>\n",
       "      <td>ROJAS</td>\n",
       "      <td>OBREGON</td>\n",
       "      <td>FIORELLA MAGALI</td>\n",
       "    </tr>\n",
       "    <tr>\n",
       "      <th>9</th>\n",
       "      <td>GUTIERREZ GALVEZ ZONIA VIRGINIA</td>\n",
       "      <td>28260854</td>\n",
       "      <td>GUTIERREZ</td>\n",
       "      <td>GALVEZ</td>\n",
       "      <td>ZONIA VIRGINIA</td>\n",
       "    </tr>\n",
       "    <tr>\n",
       "      <th>10</th>\n",
       "      <td>CARY CHOQUE CARLOS ALVARO</td>\n",
       "      <td>29224520</td>\n",
       "      <td>CARY</td>\n",
       "      <td>CHOQUE</td>\n",
       "      <td>CARLOS ALVARO</td>\n",
       "    </tr>\n",
       "    <tr>\n",
       "      <th>11</th>\n",
       "      <td>CALLE VERA OSCAR FRANCIS</td>\n",
       "      <td>43188285</td>\n",
       "      <td>CALLE</td>\n",
       "      <td>VERA</td>\n",
       "      <td>OSCAR FRANCIS</td>\n",
       "    </tr>\n",
       "    <tr>\n",
       "      <th>12</th>\n",
       "      <td>BELLIDO ANGULO MARIA SOLEDAD</td>\n",
       "      <td>29424173</td>\n",
       "      <td>BELLIDO</td>\n",
       "      <td>ANGULO</td>\n",
       "      <td>MARIA SOLEDAD</td>\n",
       "    </tr>\n",
       "    <tr>\n",
       "      <th>13</th>\n",
       "      <td>YUCA HUARACCALLO FELIPE FEDERICO</td>\n",
       "      <td>29580121</td>\n",
       "      <td>YUCA</td>\n",
       "      <td>HUARACCALLO</td>\n",
       "      <td>FELIPE FEDERICO</td>\n",
       "    </tr>\n",
       "    <tr>\n",
       "      <th>14</th>\n",
       "      <td>TALAVERA ZAPANA NOLAM ELIAS</td>\n",
       "      <td>29472266</td>\n",
       "      <td>TALAVERA</td>\n",
       "      <td>ZAPANA</td>\n",
       "      <td>NOLAM ELIAS</td>\n",
       "    </tr>\n",
       "    <tr>\n",
       "      <th>15</th>\n",
       "      <td>UCHANI SARMIENTO BERTHA</td>\n",
       "      <td>41227011</td>\n",
       "      <td>UCHANI</td>\n",
       "      <td>SARMIENTO</td>\n",
       "      <td>BERTHA</td>\n",
       "    </tr>\n",
       "    <tr>\n",
       "      <th>16</th>\n",
       "      <td>OROSCO VEGA ELOY GUILLERMO</td>\n",
       "      <td>29432228</td>\n",
       "      <td>OROSCO</td>\n",
       "      <td>VEGA</td>\n",
       "      <td>ELOY GUILLERMO</td>\n",
       "    </tr>\n",
       "    <tr>\n",
       "      <th>17</th>\n",
       "      <td>FIGUEROA TEJADA LIZ EVERLYN</td>\n",
       "      <td>40648799</td>\n",
       "      <td>FIGUEROA</td>\n",
       "      <td>TEJADA</td>\n",
       "      <td>LIZ EVERLYN</td>\n",
       "    </tr>\n",
       "    <tr>\n",
       "      <th>18</th>\n",
       "      <td>CARHUAPOMA GRANDA EDGARD JESUS</td>\n",
       "      <td>29602737</td>\n",
       "      <td>CARHUAPOMA</td>\n",
       "      <td>GRANDA</td>\n",
       "      <td>EDGARD JESUS</td>\n",
       "    </tr>\n",
       "    <tr>\n",
       "      <th>19</th>\n",
       "      <td>DE LA CRUZ PIZARRO JHENY VIRGINIA</td>\n",
       "      <td>40018732</td>\n",
       "      <td>DE LA CRUZ</td>\n",
       "      <td>PIZARRO</td>\n",
       "      <td>JHENY VIRGINIA</td>\n",
       "    </tr>\n",
       "    <tr>\n",
       "      <th>20</th>\n",
       "      <td>MACHUCA ALIAGA ELDA MADAHITH</td>\n",
       "      <td>46976280</td>\n",
       "      <td>MACHUCA</td>\n",
       "      <td>ALIAGA</td>\n",
       "      <td>ELDA MADAHITH</td>\n",
       "    </tr>\n",
       "    <tr>\n",
       "      <th>21</th>\n",
       "      <td>ASMAD CORCUERA MARCO ANTONIO</td>\n",
       "      <td>18087872</td>\n",
       "      <td>ASMAD</td>\n",
       "      <td>CORCUERA</td>\n",
       "      <td>MARCO ANTONIO</td>\n",
       "    </tr>\n",
       "    <tr>\n",
       "      <th>22</th>\n",
       "      <td>SANCHEZ RAMOS BEATRIZ YOLANDA</td>\n",
       "      <td>40640033</td>\n",
       "      <td>SANCHEZ</td>\n",
       "      <td>RAMOS</td>\n",
       "      <td>BEATRIZ YOLANDA</td>\n",
       "    </tr>\n",
       "    <tr>\n",
       "      <th>23</th>\n",
       "      <td>TORRES CONTRERAS WILLIAM EDGARDO</td>\n",
       "      <td>32921331</td>\n",
       "      <td>TORRES</td>\n",
       "      <td>CONTRERAS</td>\n",
       "      <td>WILLIAM EDGARDO</td>\n",
       "    </tr>\n",
       "    <tr>\n",
       "      <th>24</th>\n",
       "      <td>BUSTOS BALTA CELIA DEL PILAR</td>\n",
       "      <td>40042883</td>\n",
       "      <td>BUSTOS</td>\n",
       "      <td>BALTA</td>\n",
       "      <td>CELIA DEL PILAR</td>\n",
       "    </tr>\n",
       "    <tr>\n",
       "      <th>25</th>\n",
       "      <td>URRUTIA MENDEZ JONATHAN PAUL</td>\n",
       "      <td>41715317</td>\n",
       "      <td>URRUTIA</td>\n",
       "      <td>MENDEZ</td>\n",
       "      <td>JONATHAN PAUL</td>\n",
       "    </tr>\n",
       "    <tr>\n",
       "      <th>26</th>\n",
       "      <td>VIVANCO HUAMAN GLORIA TERESA</td>\n",
       "      <td>9670269</td>\n",
       "      <td>VIVANCO</td>\n",
       "      <td>HUAMAN</td>\n",
       "      <td>GLORIA TERESA</td>\n",
       "    </tr>\n",
       "    <tr>\n",
       "      <th>27</th>\n",
       "      <td>AUQUI HUERTA TEOFANES EDGAR</td>\n",
       "      <td>40847128</td>\n",
       "      <td>AUQUI</td>\n",
       "      <td>HUERTA</td>\n",
       "      <td>TEOFANES EDGAR</td>\n",
       "    </tr>\n",
       "    <tr>\n",
       "      <th>28</th>\n",
       "      <td>MEDRANO ALIAGA ANA PAULA</td>\n",
       "      <td>10286711</td>\n",
       "      <td>MEDRANO</td>\n",
       "      <td>ALIAGA</td>\n",
       "      <td>ANA PAULA</td>\n",
       "    </tr>\n",
       "    <tr>\n",
       "      <th>29</th>\n",
       "      <td>VICUÑA ZAMORA JESUS</td>\n",
       "      <td>19916154</td>\n",
       "      <td>VICUÑA</td>\n",
       "      <td>ZAMORA</td>\n",
       "      <td>JESUS</td>\n",
       "    </tr>\n",
       "    <tr>\n",
       "      <th>30</th>\n",
       "      <td>VILLARREAL BALBIN IVAN</td>\n",
       "      <td>20112346</td>\n",
       "      <td>VILLARREAL</td>\n",
       "      <td>BALBIN</td>\n",
       "      <td>IVAN</td>\n",
       "    </tr>\n",
       "    <tr>\n",
       "      <th>31</th>\n",
       "      <td>ROJAS LAZARO WILLIAM RAUL</td>\n",
       "      <td>41543436</td>\n",
       "      <td>ROJAS</td>\n",
       "      <td>LAZARO</td>\n",
       "      <td>WILLIAM RAUL</td>\n",
       "    </tr>\n",
       "    <tr>\n",
       "      <th>32</th>\n",
       "      <td>RAMIREZ IPARRAGUIRRE VICTOR MANUEL</td>\n",
       "      <td>42266097</td>\n",
       "      <td>RAMIREZ</td>\n",
       "      <td>IPARRAGUIRRE</td>\n",
       "      <td>VICTOR MANUEL</td>\n",
       "    </tr>\n",
       "    <tr>\n",
       "      <th>33</th>\n",
       "      <td>LEON MARTELL VICTOR CANDELARIO</td>\n",
       "      <td>40971750</td>\n",
       "      <td>LEON</td>\n",
       "      <td>MARTELL</td>\n",
       "      <td>VICTOR CANDELARIO</td>\n",
       "    </tr>\n",
       "    <tr>\n",
       "      <th>34</th>\n",
       "      <td>ATAURIMA RUIZ BELISSA IBETTE</td>\n",
       "      <td>43992353</td>\n",
       "      <td>ATAURIMA</td>\n",
       "      <td>RUIZ</td>\n",
       "      <td>BELISSA IBETTE</td>\n",
       "    </tr>\n",
       "    <tr>\n",
       "      <th>35</th>\n",
       "      <td>VARGAS PEREZ ROSA ISABEL</td>\n",
       "      <td>40758830</td>\n",
       "      <td>VARGAS</td>\n",
       "      <td>PEREZ</td>\n",
       "      <td>ROSA ISABEL</td>\n",
       "    </tr>\n",
       "    <tr>\n",
       "      <th>36</th>\n",
       "      <td>ARRIOLA GUILLEN MARCELA</td>\n",
       "      <td>23992411</td>\n",
       "      <td>ARRIOLA</td>\n",
       "      <td>GUILLEN</td>\n",
       "      <td>MARCELA</td>\n",
       "    </tr>\n",
       "    <tr>\n",
       "      <th>37</th>\n",
       "      <td>TORRES SIGUEÑAS CAROL DEL ROSARIO</td>\n",
       "      <td>41846685</td>\n",
       "      <td>TORRES</td>\n",
       "      <td>SIGUEÑAS</td>\n",
       "      <td>CAROL DEL ROSARIO</td>\n",
       "    </tr>\n",
       "    <tr>\n",
       "      <th>38</th>\n",
       "      <td>CORDOVA LOPEZ OCNER</td>\n",
       "      <td>3369984</td>\n",
       "      <td>CORDOVA</td>\n",
       "      <td>LOPEZ</td>\n",
       "      <td>OCNER</td>\n",
       "    </tr>\n",
       "    <tr>\n",
       "      <th>39</th>\n",
       "      <td>LLANOS CHAVEZ GRACIELA ESTHER</td>\n",
       "      <td>22514816</td>\n",
       "      <td>LLANOS</td>\n",
       "      <td>CHAVEZ</td>\n",
       "      <td>GRACIELA ESTHER</td>\n",
       "    </tr>\n",
       "    <tr>\n",
       "      <th>40</th>\n",
       "      <td>SARMIENTO VEGA VARINIA YANET</td>\n",
       "      <td>21133300</td>\n",
       "      <td>SARMIENTO</td>\n",
       "      <td>VEGA</td>\n",
       "      <td>VARINIA YANET</td>\n",
       "    </tr>\n",
       "    <tr>\n",
       "      <th>41</th>\n",
       "      <td>GONZALEZ BRONCANO JORGE ABDON</td>\n",
       "      <td>9904641</td>\n",
       "      <td>GONZALEZ</td>\n",
       "      <td>BRONCANO</td>\n",
       "      <td>JORGE ABDON</td>\n",
       "    </tr>\n",
       "    <tr>\n",
       "      <th>42</th>\n",
       "      <td>ARIZABAL CALDERON RUSSY ELDA</td>\n",
       "      <td>23942493</td>\n",
       "      <td>ARIZABAL</td>\n",
       "      <td>CALDERON</td>\n",
       "      <td>RUSSY ELDA</td>\n",
       "    </tr>\n",
       "    <tr>\n",
       "      <th>43</th>\n",
       "      <td>GRAJEDA BASHUALDO MILAGROS MARILYN</td>\n",
       "      <td>41209344</td>\n",
       "      <td>GRAJEDA</td>\n",
       "      <td>BASHUALDO</td>\n",
       "      <td>MILAGROS MARILYN</td>\n",
       "    </tr>\n",
       "    <tr>\n",
       "      <th>44</th>\n",
       "      <td>PASCUAL SERNA DIANA ANGELA</td>\n",
       "      <td>42434313</td>\n",
       "      <td>PASCUAL</td>\n",
       "      <td>SERNA</td>\n",
       "      <td>DIANA ANGELA</td>\n",
       "    </tr>\n",
       "    <tr>\n",
       "      <th>45</th>\n",
       "      <td>RODRIGUEZ RODRIGUEZ JULIO CESAR</td>\n",
       "      <td>7245586</td>\n",
       "      <td>RODRIGUEZ</td>\n",
       "      <td>RODRIGUEZ</td>\n",
       "      <td>JULIO CESAR</td>\n",
       "    </tr>\n",
       "    <tr>\n",
       "      <th>46</th>\n",
       "      <td>DE LA CRUZ TIPIAN CESAR ADOLFO</td>\n",
       "      <td>10195953</td>\n",
       "      <td>DE LA CRUZ</td>\n",
       "      <td>TIPIAN</td>\n",
       "      <td>CESAR ADOLFO</td>\n",
       "    </tr>\n",
       "    <tr>\n",
       "      <th>47</th>\n",
       "      <td>CASTILLO HUAYNACHO ELMER</td>\n",
       "      <td>2156127</td>\n",
       "      <td>CASTILLO</td>\n",
       "      <td>HUAYNACHO</td>\n",
       "      <td>ELMER</td>\n",
       "    </tr>\n",
       "    <tr>\n",
       "      <th>48</th>\n",
       "      <td>PACHECO ZAPATA YULEMI PAULA</td>\n",
       "      <td>45101512</td>\n",
       "      <td>PACHECO</td>\n",
       "      <td>ZAPATA</td>\n",
       "      <td>YULEMI PAULA</td>\n",
       "    </tr>\n",
       "    <tr>\n",
       "      <th>49</th>\n",
       "      <td>VASQUEZ ROJAS DEYSY ELIZABETH</td>\n",
       "      <td>43481668</td>\n",
       "      <td>VASQUEZ</td>\n",
       "      <td>ROJAS</td>\n",
       "      <td>DEYSY ELIZABETH</td>\n",
       "    </tr>\n",
       "    <tr>\n",
       "      <th>50</th>\n",
       "      <td>MORENO CCANCCE RICARDO JONNY</td>\n",
       "      <td>9952777</td>\n",
       "      <td>MORENO</td>\n",
       "      <td>CCANCCE</td>\n",
       "      <td>RICARDO JONNY</td>\n",
       "    </tr>\n",
       "  </tbody>\n",
       "</table>\n",
       "</div>"
      ],
      "text/plain": [
       "                                  juez  nrodocumento ApellidoPaterno ApellidoMaterno            Nombres\n",
       "0            LUIS ALVIN QUISPE SANCHEZ      41929968          QUISPE         SANCHEZ         LUIS ALVIN\n",
       "1    AMPARO BEATRIZ RODRIGUEZ CASTILLO      18090278       RODRIGUEZ        CASTILLO     AMPARO BEATRIZ\n",
       "2        FELIX ENRIQUE RAMIREZ SANCHEZ      18135223         RAMIREZ         SANCHEZ      FELIX ENRIQUE\n",
       "3           JUAN MANUEL FLORES SANCHEZ       1325221          FLORES         SANCHEZ        JUAN MANUEL\n",
       "4     CHIGNE MOZOMBITE MARIA DEL PILAR      41371819          CHIGNE       MOZOMBITE    MARIA DEL PILAR\n",
       "5              OCAMPO VARGAS CLODOMIRA      18138792          OCAMPO          VARGAS          CLODOMIRA\n",
       "6            DIAZ ALVAN ROBERTO CARLOS      41359917            DIAZ           ALVAN     ROBERTO CARLOS\n",
       "7        BACILIO SALAZAR EMMA CONSUELO       7299339         BACILIO         SALAZAR      EMMA CONSUELO\n",
       "8        ROJAS OBREGON FIORELLA MAGALI      42897314           ROJAS         OBREGON    FIORELLA MAGALI\n",
       "9      GUTIERREZ GALVEZ ZONIA VIRGINIA      28260854       GUTIERREZ          GALVEZ     ZONIA VIRGINIA\n",
       "10           CARY CHOQUE CARLOS ALVARO      29224520            CARY          CHOQUE      CARLOS ALVARO\n",
       "11            CALLE VERA OSCAR FRANCIS      43188285           CALLE            VERA      OSCAR FRANCIS\n",
       "12        BELLIDO ANGULO MARIA SOLEDAD      29424173         BELLIDO          ANGULO      MARIA SOLEDAD\n",
       "13    YUCA HUARACCALLO FELIPE FEDERICO      29580121            YUCA     HUARACCALLO    FELIPE FEDERICO\n",
       "14         TALAVERA ZAPANA NOLAM ELIAS      29472266        TALAVERA          ZAPANA        NOLAM ELIAS\n",
       "15             UCHANI SARMIENTO BERTHA      41227011          UCHANI       SARMIENTO             BERTHA\n",
       "16          OROSCO VEGA ELOY GUILLERMO      29432228          OROSCO            VEGA     ELOY GUILLERMO\n",
       "17         FIGUEROA TEJADA LIZ EVERLYN      40648799        FIGUEROA          TEJADA        LIZ EVERLYN\n",
       "18      CARHUAPOMA GRANDA EDGARD JESUS      29602737      CARHUAPOMA          GRANDA       EDGARD JESUS\n",
       "19   DE LA CRUZ PIZARRO JHENY VIRGINIA      40018732      DE LA CRUZ         PIZARRO     JHENY VIRGINIA\n",
       "20        MACHUCA ALIAGA ELDA MADAHITH      46976280         MACHUCA          ALIAGA      ELDA MADAHITH\n",
       "21        ASMAD CORCUERA MARCO ANTONIO      18087872           ASMAD        CORCUERA      MARCO ANTONIO\n",
       "22       SANCHEZ RAMOS BEATRIZ YOLANDA      40640033         SANCHEZ           RAMOS    BEATRIZ YOLANDA\n",
       "23    TORRES CONTRERAS WILLIAM EDGARDO      32921331          TORRES       CONTRERAS    WILLIAM EDGARDO\n",
       "24        BUSTOS BALTA CELIA DEL PILAR      40042883          BUSTOS           BALTA    CELIA DEL PILAR\n",
       "25        URRUTIA MENDEZ JONATHAN PAUL      41715317         URRUTIA          MENDEZ      JONATHAN PAUL\n",
       "26        VIVANCO HUAMAN GLORIA TERESA       9670269         VIVANCO          HUAMAN      GLORIA TERESA\n",
       "27         AUQUI HUERTA TEOFANES EDGAR      40847128           AUQUI          HUERTA     TEOFANES EDGAR\n",
       "28            MEDRANO ALIAGA ANA PAULA      10286711         MEDRANO          ALIAGA          ANA PAULA\n",
       "29                 VICUÑA ZAMORA JESUS      19916154          VICUÑA          ZAMORA              JESUS\n",
       "30              VILLARREAL BALBIN IVAN      20112346      VILLARREAL          BALBIN               IVAN\n",
       "31           ROJAS LAZARO WILLIAM RAUL      41543436           ROJAS          LAZARO       WILLIAM RAUL\n",
       "32  RAMIREZ IPARRAGUIRRE VICTOR MANUEL      42266097         RAMIREZ    IPARRAGUIRRE      VICTOR MANUEL\n",
       "33      LEON MARTELL VICTOR CANDELARIO      40971750            LEON         MARTELL  VICTOR CANDELARIO\n",
       "34        ATAURIMA RUIZ BELISSA IBETTE      43992353        ATAURIMA            RUIZ     BELISSA IBETTE\n",
       "35            VARGAS PEREZ ROSA ISABEL      40758830          VARGAS           PEREZ        ROSA ISABEL\n",
       "36             ARRIOLA GUILLEN MARCELA      23992411         ARRIOLA         GUILLEN            MARCELA\n",
       "37   TORRES SIGUEÑAS CAROL DEL ROSARIO      41846685          TORRES        SIGUEÑAS  CAROL DEL ROSARIO\n",
       "38                 CORDOVA LOPEZ OCNER       3369984         CORDOVA           LOPEZ              OCNER\n",
       "39       LLANOS CHAVEZ GRACIELA ESTHER      22514816          LLANOS          CHAVEZ    GRACIELA ESTHER\n",
       "40        SARMIENTO VEGA VARINIA YANET      21133300       SARMIENTO            VEGA      VARINIA YANET\n",
       "41       GONZALEZ BRONCANO JORGE ABDON       9904641        GONZALEZ        BRONCANO        JORGE ABDON\n",
       "42        ARIZABAL CALDERON RUSSY ELDA      23942493        ARIZABAL        CALDERON         RUSSY ELDA\n",
       "43  GRAJEDA BASHUALDO MILAGROS MARILYN      41209344         GRAJEDA       BASHUALDO   MILAGROS MARILYN\n",
       "44          PASCUAL SERNA DIANA ANGELA      42434313         PASCUAL           SERNA       DIANA ANGELA\n",
       "45     RODRIGUEZ RODRIGUEZ JULIO CESAR       7245586       RODRIGUEZ       RODRIGUEZ        JULIO CESAR\n",
       "46      DE LA CRUZ TIPIAN CESAR ADOLFO      10195953      DE LA CRUZ          TIPIAN       CESAR ADOLFO\n",
       "47            CASTILLO HUAYNACHO ELMER       2156127        CASTILLO       HUAYNACHO              ELMER\n",
       "48         PACHECO ZAPATA YULEMI PAULA      45101512         PACHECO          ZAPATA       YULEMI PAULA\n",
       "49       VASQUEZ ROJAS DEYSY ELIZABETH      43481668         VASQUEZ           ROJAS    DEYSY ELIZABETH\n",
       "50        MORENO CCANCCE RICARDO JONNY       9952777          MORENO         CCANCCE      RICARDO JONNY"
      ]
     },
     "execution_count": 169,
     "metadata": {},
     "output_type": "execute_result"
    }
   ],
   "source": [
    "matched_concat_c = matched_concat.merge(lab_data[[\"ApellidoPaterno\", \"ApellidoMaterno\", \"Nombres\", 'participant_apellido_nombre']], on='participant_apellido_nombre', how = 'left')\n",
    "\n",
    "matched_concat_c = matched_concat_c.drop(columns=['participant_nombre_apellido', 'participant_apellido_nombre', 'index'])\n",
    "\n",
    "matched_concat_c"
   ]
  },
  {
   "cell_type": "code",
   "execution_count": 178,
   "id": "7f95e162",
   "metadata": {},
   "outputs": [
    {
     "data": {
      "text/html": [
       "<div>\n",
       "<style scoped>\n",
       "    .dataframe tbody tr th:only-of-type {\n",
       "        vertical-align: middle;\n",
       "    }\n",
       "\n",
       "    .dataframe tbody tr th {\n",
       "        vertical-align: top;\n",
       "    }\n",
       "\n",
       "    .dataframe thead th {\n",
       "        text-align: right;\n",
       "    }\n",
       "</style>\n",
       "<table border=\"1\" class=\"dataframe\">\n",
       "  <thead>\n",
       "    <tr style=\"text-align: right;\">\n",
       "      <th></th>\n",
       "      <th>juez</th>\n",
       "      <th>nrodocumento</th>\n",
       "      <th>ApellidoPaterno</th>\n",
       "      <th>ApellidoMaterno</th>\n",
       "      <th>Nombres</th>\n",
       "    </tr>\n",
       "  </thead>\n",
       "  <tbody>\n",
       "    <tr>\n",
       "      <th>0</th>\n",
       "      <td>LUIS ALVIN QUISPE SANCHEZ</td>\n",
       "      <td>41929968</td>\n",
       "      <td>QUISPE</td>\n",
       "      <td>SANCHEZ</td>\n",
       "      <td>LUIS ALVIN</td>\n",
       "    </tr>\n",
       "    <tr>\n",
       "      <th>1</th>\n",
       "      <td>AMPARO BEATRIZ RODRIGUEZ CASTILLO</td>\n",
       "      <td>18090278</td>\n",
       "      <td>RODRIGUEZ</td>\n",
       "      <td>CASTILLO</td>\n",
       "      <td>AMPARO BEATRIZ</td>\n",
       "    </tr>\n",
       "    <tr>\n",
       "      <th>2</th>\n",
       "      <td>FELIX ENRIQUE RAMIREZ SANCHEZ</td>\n",
       "      <td>18135223</td>\n",
       "      <td>RAMIREZ</td>\n",
       "      <td>SANCHEZ</td>\n",
       "      <td>FELIX ENRIQUE</td>\n",
       "    </tr>\n",
       "    <tr>\n",
       "      <th>3</th>\n",
       "      <td>JUAN MANUEL FLORES SANCHEZ</td>\n",
       "      <td>1325221</td>\n",
       "      <td>FLORES</td>\n",
       "      <td>SANCHEZ</td>\n",
       "      <td>JUAN MANUEL</td>\n",
       "    </tr>\n",
       "    <tr>\n",
       "      <th>4</th>\n",
       "      <td>CHIGNE MOZOMBITE MARIA DEL PILAR</td>\n",
       "      <td>41371819</td>\n",
       "      <td>CHIGNE</td>\n",
       "      <td>MOZOMBITE</td>\n",
       "      <td>MARIA DEL PILAR</td>\n",
       "    </tr>\n",
       "    <tr>\n",
       "      <th>5</th>\n",
       "      <td>OCAMPO VARGAS CLODOMIRA</td>\n",
       "      <td>18138792</td>\n",
       "      <td>OCAMPO</td>\n",
       "      <td>VARGAS</td>\n",
       "      <td>CLODOMIRA</td>\n",
       "    </tr>\n",
       "    <tr>\n",
       "      <th>6</th>\n",
       "      <td>DIAZ ALVAN ROBERTO CARLOS</td>\n",
       "      <td>41359917</td>\n",
       "      <td>DIAZ</td>\n",
       "      <td>ALVAN</td>\n",
       "      <td>ROBERTO CARLOS</td>\n",
       "    </tr>\n",
       "    <tr>\n",
       "      <th>7</th>\n",
       "      <td>BACILIO SALAZAR EMMA CONSUELO</td>\n",
       "      <td>7299339</td>\n",
       "      <td>BACILIO</td>\n",
       "      <td>SALAZAR</td>\n",
       "      <td>EMMA CONSUELO</td>\n",
       "    </tr>\n",
       "    <tr>\n",
       "      <th>8</th>\n",
       "      <td>ROJAS OBREGON FIORELLA MAGALI</td>\n",
       "      <td>42897314</td>\n",
       "      <td>ROJAS</td>\n",
       "      <td>OBREGON</td>\n",
       "      <td>FIORELLA MAGALI</td>\n",
       "    </tr>\n",
       "    <tr>\n",
       "      <th>9</th>\n",
       "      <td>GUTIERREZ GALVEZ ZONIA VIRGINIA</td>\n",
       "      <td>28260854</td>\n",
       "      <td>GUTIERREZ</td>\n",
       "      <td>GALVEZ</td>\n",
       "      <td>ZONIA VIRGINIA</td>\n",
       "    </tr>\n",
       "    <tr>\n",
       "      <th>10</th>\n",
       "      <td>CARY CHOQUE CARLOS ALVARO</td>\n",
       "      <td>29224520</td>\n",
       "      <td>CARY</td>\n",
       "      <td>CHOQUE</td>\n",
       "      <td>CARLOS ALVARO</td>\n",
       "    </tr>\n",
       "    <tr>\n",
       "      <th>11</th>\n",
       "      <td>CALLE VERA OSCAR FRANCIS</td>\n",
       "      <td>43188285</td>\n",
       "      <td>CALLE</td>\n",
       "      <td>VERA</td>\n",
       "      <td>OSCAR FRANCIS</td>\n",
       "    </tr>\n",
       "    <tr>\n",
       "      <th>12</th>\n",
       "      <td>BELLIDO ANGULO MARIA SOLEDAD</td>\n",
       "      <td>29424173</td>\n",
       "      <td>BELLIDO</td>\n",
       "      <td>ANGULO</td>\n",
       "      <td>MARIA SOLEDAD</td>\n",
       "    </tr>\n",
       "    <tr>\n",
       "      <th>13</th>\n",
       "      <td>YUCA HUARACCALLO FELIPE FEDERICO</td>\n",
       "      <td>29580121</td>\n",
       "      <td>YUCA</td>\n",
       "      <td>HUARACCALLO</td>\n",
       "      <td>FELIPE FEDERICO</td>\n",
       "    </tr>\n",
       "    <tr>\n",
       "      <th>14</th>\n",
       "      <td>TALAVERA ZAPANA NOLAM ELIAS</td>\n",
       "      <td>29472266</td>\n",
       "      <td>TALAVERA</td>\n",
       "      <td>ZAPANA</td>\n",
       "      <td>NOLAM ELIAS</td>\n",
       "    </tr>\n",
       "    <tr>\n",
       "      <th>15</th>\n",
       "      <td>UCHANI SARMIENTO BERTHA</td>\n",
       "      <td>41227011</td>\n",
       "      <td>UCHANI</td>\n",
       "      <td>SARMIENTO</td>\n",
       "      <td>BERTHA</td>\n",
       "    </tr>\n",
       "    <tr>\n",
       "      <th>16</th>\n",
       "      <td>OROSCO VEGA ELOY GUILLERMO</td>\n",
       "      <td>29432228</td>\n",
       "      <td>OROSCO</td>\n",
       "      <td>VEGA</td>\n",
       "      <td>ELOY GUILLERMO</td>\n",
       "    </tr>\n",
       "    <tr>\n",
       "      <th>17</th>\n",
       "      <td>FIGUEROA TEJADA LIZ EVERLYN</td>\n",
       "      <td>40648799</td>\n",
       "      <td>FIGUEROA</td>\n",
       "      <td>TEJADA</td>\n",
       "      <td>LIZ EVERLYN</td>\n",
       "    </tr>\n",
       "    <tr>\n",
       "      <th>18</th>\n",
       "      <td>CARHUAPOMA GRANDA EDGARD JESUS</td>\n",
       "      <td>29602737</td>\n",
       "      <td>CARHUAPOMA</td>\n",
       "      <td>GRANDA</td>\n",
       "      <td>EDGARD JESUS</td>\n",
       "    </tr>\n",
       "    <tr>\n",
       "      <th>19</th>\n",
       "      <td>DE LA CRUZ PIZARRO JHENY VIRGINIA</td>\n",
       "      <td>40018732</td>\n",
       "      <td>DE LA CRUZ</td>\n",
       "      <td>PIZARRO</td>\n",
       "      <td>JHENY VIRGINIA</td>\n",
       "    </tr>\n",
       "    <tr>\n",
       "      <th>20</th>\n",
       "      <td>MACHUCA ALIAGA ELDA MADAHITH</td>\n",
       "      <td>46976280</td>\n",
       "      <td>MACHUCA</td>\n",
       "      <td>ALIAGA</td>\n",
       "      <td>ELDA MADAHITH</td>\n",
       "    </tr>\n",
       "    <tr>\n",
       "      <th>21</th>\n",
       "      <td>ASMAD CORCUERA MARCO ANTONIO</td>\n",
       "      <td>18087872</td>\n",
       "      <td>ASMAD</td>\n",
       "      <td>CORCUERA</td>\n",
       "      <td>MARCO ANTONIO</td>\n",
       "    </tr>\n",
       "    <tr>\n",
       "      <th>22</th>\n",
       "      <td>SANCHEZ RAMOS BEATRIZ YOLANDA</td>\n",
       "      <td>40640033</td>\n",
       "      <td>SANCHEZ</td>\n",
       "      <td>RAMOS</td>\n",
       "      <td>BEATRIZ YOLANDA</td>\n",
       "    </tr>\n",
       "    <tr>\n",
       "      <th>23</th>\n",
       "      <td>TORRES CONTRERAS WILLIAM EDGARDO</td>\n",
       "      <td>32921331</td>\n",
       "      <td>TORRES</td>\n",
       "      <td>CONTRERAS</td>\n",
       "      <td>WILLIAM EDGARDO</td>\n",
       "    </tr>\n",
       "    <tr>\n",
       "      <th>24</th>\n",
       "      <td>BUSTOS BALTA CELIA DEL PILAR</td>\n",
       "      <td>40042883</td>\n",
       "      <td>BUSTOS</td>\n",
       "      <td>BALTA</td>\n",
       "      <td>CELIA DEL PILAR</td>\n",
       "    </tr>\n",
       "    <tr>\n",
       "      <th>25</th>\n",
       "      <td>URRUTIA MENDEZ JONATHAN PAUL</td>\n",
       "      <td>41715317</td>\n",
       "      <td>URRUTIA</td>\n",
       "      <td>MENDEZ</td>\n",
       "      <td>JONATHAN PAUL</td>\n",
       "    </tr>\n",
       "    <tr>\n",
       "      <th>26</th>\n",
       "      <td>VIVANCO HUAMAN GLORIA TERESA</td>\n",
       "      <td>9670269</td>\n",
       "      <td>VIVANCO</td>\n",
       "      <td>HUAMAN</td>\n",
       "      <td>GLORIA TERESA</td>\n",
       "    </tr>\n",
       "    <tr>\n",
       "      <th>27</th>\n",
       "      <td>AUQUI HUERTA TEOFANES EDGAR</td>\n",
       "      <td>40847128</td>\n",
       "      <td>AUQUI</td>\n",
       "      <td>HUERTA</td>\n",
       "      <td>TEOFANES EDGAR</td>\n",
       "    </tr>\n",
       "    <tr>\n",
       "      <th>28</th>\n",
       "      <td>MEDRANO ALIAGA ANA PAULA</td>\n",
       "      <td>10286711</td>\n",
       "      <td>MEDRANO</td>\n",
       "      <td>ALIAGA</td>\n",
       "      <td>ANA PAULA</td>\n",
       "    </tr>\n",
       "    <tr>\n",
       "      <th>29</th>\n",
       "      <td>VICUÑA ZAMORA JESUS</td>\n",
       "      <td>19916154</td>\n",
       "      <td>VICUÑA</td>\n",
       "      <td>ZAMORA</td>\n",
       "      <td>JESUS</td>\n",
       "    </tr>\n",
       "    <tr>\n",
       "      <th>30</th>\n",
       "      <td>VILLARREAL BALBIN IVAN</td>\n",
       "      <td>20112346</td>\n",
       "      <td>VILLARREAL</td>\n",
       "      <td>BALBIN</td>\n",
       "      <td>IVAN</td>\n",
       "    </tr>\n",
       "    <tr>\n",
       "      <th>31</th>\n",
       "      <td>ROJAS LAZARO WILLIAM RAUL</td>\n",
       "      <td>41543436</td>\n",
       "      <td>ROJAS</td>\n",
       "      <td>LAZARO</td>\n",
       "      <td>WILLIAM RAUL</td>\n",
       "    </tr>\n",
       "    <tr>\n",
       "      <th>32</th>\n",
       "      <td>RAMIREZ IPARRAGUIRRE VICTOR MANUEL</td>\n",
       "      <td>42266097</td>\n",
       "      <td>RAMIREZ</td>\n",
       "      <td>IPARRAGUIRRE</td>\n",
       "      <td>VICTOR MANUEL</td>\n",
       "    </tr>\n",
       "    <tr>\n",
       "      <th>33</th>\n",
       "      <td>LEON MARTELL VICTOR CANDELARIO</td>\n",
       "      <td>40971750</td>\n",
       "      <td>LEON</td>\n",
       "      <td>MARTELL</td>\n",
       "      <td>VICTOR CANDELARIO</td>\n",
       "    </tr>\n",
       "    <tr>\n",
       "      <th>34</th>\n",
       "      <td>ATAURIMA RUIZ BELISSA IBETTE</td>\n",
       "      <td>43992353</td>\n",
       "      <td>ATAURIMA</td>\n",
       "      <td>RUIZ</td>\n",
       "      <td>BELISSA IBETTE</td>\n",
       "    </tr>\n",
       "    <tr>\n",
       "      <th>35</th>\n",
       "      <td>VARGAS PEREZ ROSA ISABEL</td>\n",
       "      <td>40758830</td>\n",
       "      <td>VARGAS</td>\n",
       "      <td>PEREZ</td>\n",
       "      <td>ROSA ISABEL</td>\n",
       "    </tr>\n",
       "    <tr>\n",
       "      <th>36</th>\n",
       "      <td>ARRIOLA GUILLEN MARCELA</td>\n",
       "      <td>23992411</td>\n",
       "      <td>ARRIOLA</td>\n",
       "      <td>GUILLEN</td>\n",
       "      <td>MARCELA</td>\n",
       "    </tr>\n",
       "    <tr>\n",
       "      <th>37</th>\n",
       "      <td>TORRES SIGUEÑAS CAROL DEL ROSARIO</td>\n",
       "      <td>41846685</td>\n",
       "      <td>TORRES</td>\n",
       "      <td>SIGUEÑAS</td>\n",
       "      <td>CAROL DEL ROSARIO</td>\n",
       "    </tr>\n",
       "    <tr>\n",
       "      <th>38</th>\n",
       "      <td>CORDOVA LOPEZ OCNER</td>\n",
       "      <td>3369984</td>\n",
       "      <td>CORDOVA</td>\n",
       "      <td>LOPEZ</td>\n",
       "      <td>OCNER</td>\n",
       "    </tr>\n",
       "    <tr>\n",
       "      <th>39</th>\n",
       "      <td>LLANOS CHAVEZ GRACIELA ESTHER</td>\n",
       "      <td>22514816</td>\n",
       "      <td>LLANOS</td>\n",
       "      <td>CHAVEZ</td>\n",
       "      <td>GRACIELA ESTHER</td>\n",
       "    </tr>\n",
       "    <tr>\n",
       "      <th>40</th>\n",
       "      <td>SARMIENTO VEGA VARINIA YANET</td>\n",
       "      <td>21133300</td>\n",
       "      <td>SARMIENTO</td>\n",
       "      <td>VEGA</td>\n",
       "      <td>VARINIA YANET</td>\n",
       "    </tr>\n",
       "    <tr>\n",
       "      <th>41</th>\n",
       "      <td>GONZALEZ BRONCANO JORGE ABDON</td>\n",
       "      <td>9904641</td>\n",
       "      <td>GONZALEZ</td>\n",
       "      <td>BRONCANO</td>\n",
       "      <td>JORGE ABDON</td>\n",
       "    </tr>\n",
       "    <tr>\n",
       "      <th>42</th>\n",
       "      <td>ARIZABAL CALDERON RUSSY ELDA</td>\n",
       "      <td>23942493</td>\n",
       "      <td>ARIZABAL</td>\n",
       "      <td>CALDERON</td>\n",
       "      <td>RUSSY ELDA</td>\n",
       "    </tr>\n",
       "    <tr>\n",
       "      <th>43</th>\n",
       "      <td>GRAJEDA BASHUALDO MILAGROS MARILYN</td>\n",
       "      <td>41209344</td>\n",
       "      <td>GRAJEDA</td>\n",
       "      <td>BASHUALDO</td>\n",
       "      <td>MILAGROS MARILYN</td>\n",
       "    </tr>\n",
       "    <tr>\n",
       "      <th>44</th>\n",
       "      <td>PASCUAL SERNA DIANA ANGELA</td>\n",
       "      <td>42434313</td>\n",
       "      <td>PASCUAL</td>\n",
       "      <td>SERNA</td>\n",
       "      <td>DIANA ANGELA</td>\n",
       "    </tr>\n",
       "    <tr>\n",
       "      <th>45</th>\n",
       "      <td>RODRIGUEZ RODRIGUEZ JULIO CESAR</td>\n",
       "      <td>7245586</td>\n",
       "      <td>RODRIGUEZ</td>\n",
       "      <td>RODRIGUEZ</td>\n",
       "      <td>JULIO CESAR</td>\n",
       "    </tr>\n",
       "    <tr>\n",
       "      <th>46</th>\n",
       "      <td>DE LA CRUZ TIPIAN CESAR ADOLFO</td>\n",
       "      <td>10195953</td>\n",
       "      <td>DE LA CRUZ</td>\n",
       "      <td>TIPIAN</td>\n",
       "      <td>CESAR ADOLFO</td>\n",
       "    </tr>\n",
       "    <tr>\n",
       "      <th>47</th>\n",
       "      <td>CASTILLO HUAYNACHO ELMER</td>\n",
       "      <td>2156127</td>\n",
       "      <td>CASTILLO</td>\n",
       "      <td>HUAYNACHO</td>\n",
       "      <td>ELMER</td>\n",
       "    </tr>\n",
       "    <tr>\n",
       "      <th>48</th>\n",
       "      <td>PACHECO ZAPATA YULEMI PAULA</td>\n",
       "      <td>45101512</td>\n",
       "      <td>PACHECO</td>\n",
       "      <td>ZAPATA</td>\n",
       "      <td>YULEMI PAULA</td>\n",
       "    </tr>\n",
       "    <tr>\n",
       "      <th>49</th>\n",
       "      <td>VASQUEZ ROJAS DEYSY ELIZABETH</td>\n",
       "      <td>43481668</td>\n",
       "      <td>VASQUEZ</td>\n",
       "      <td>ROJAS</td>\n",
       "      <td>DEYSY ELIZABETH</td>\n",
       "    </tr>\n",
       "    <tr>\n",
       "      <th>50</th>\n",
       "      <td>MORENO CCANCCE RICARDO JONNY</td>\n",
       "      <td>9952777</td>\n",
       "      <td>MORENO</td>\n",
       "      <td>CCANCCE</td>\n",
       "      <td>RICARDO JONNY</td>\n",
       "    </tr>\n",
       "    <tr>\n",
       "      <th>0</th>\n",
       "      <td>ZUÑIGA PORTOCARRERO LINO</td>\n",
       "      <td>29558906</td>\n",
       "      <td>ZUÑIGA</td>\n",
       "      <td>PORTOCARRERO</td>\n",
       "      <td>LINO YSAURO</td>\n",
       "    </tr>\n",
       "    <tr>\n",
       "      <th>1</th>\n",
       "      <td>HERRERA GUZMAN MARCO ANTONIO</td>\n",
       "      <td>29582436</td>\n",
       "      <td>HERRERA</td>\n",
       "      <td>GUZMAN</td>\n",
       "      <td>MARCO ANTONIO</td>\n",
       "    </tr>\n",
       "    <tr>\n",
       "      <th>2</th>\n",
       "      <td>CARDENAS ALVARADO BORIS FAUSTO</td>\n",
       "      <td>18071270</td>\n",
       "      <td>CARDENAS</td>\n",
       "      <td>ALVARADO</td>\n",
       "      <td>BORIS FAUSTO</td>\n",
       "    </tr>\n",
       "    <tr>\n",
       "      <th>3</th>\n",
       "      <td>CARHUAPOMA GRANDA EDGARD JESUS</td>\n",
       "      <td>29602737</td>\n",
       "      <td>CARHUAPOMA</td>\n",
       "      <td>GRANDA</td>\n",
       "      <td>EDGARD JESUS</td>\n",
       "    </tr>\n",
       "    <tr>\n",
       "      <th>4</th>\n",
       "      <td>CRUZ COBEÑAS MARLENY</td>\n",
       "      <td>10407408</td>\n",
       "      <td>CRUZ</td>\n",
       "      <td>COBEÑAS</td>\n",
       "      <td>MARLENY</td>\n",
       "    </tr>\n",
       "    <tr>\n",
       "      <th>5</th>\n",
       "      <td>TAPAHUASCO PALOMINO RICHARD</td>\n",
       "      <td>7460242</td>\n",
       "      <td>TAPAHUASCO</td>\n",
       "      <td>PALOMINO</td>\n",
       "      <td>RICHARD</td>\n",
       "    </tr>\n",
       "    <tr>\n",
       "      <th>0</th>\n",
       "      <td>JULISSA ASEIJAS SILVA</td>\n",
       "      <td>26729323</td>\n",
       "      <td>ASEIJAS</td>\n",
       "      <td>SILVA</td>\n",
       "      <td>JULISSA ISABEL</td>\n",
       "    </tr>\n",
       "    <tr>\n",
       "      <th>1</th>\n",
       "      <td>ESAU CHANCO CASTILLON</td>\n",
       "      <td>20009702</td>\n",
       "      <td>CHANCO</td>\n",
       "      <td>CASTILLON</td>\n",
       "      <td>ESAU</td>\n",
       "    </tr>\n",
       "    <tr>\n",
       "      <th>2</th>\n",
       "      <td>JULIO CESAR LEYVA PEREZ</td>\n",
       "      <td>8062416</td>\n",
       "      <td>LEYVA</td>\n",
       "      <td>PEREZ</td>\n",
       "      <td>JULIO CESAR</td>\n",
       "    </tr>\n",
       "  </tbody>\n",
       "</table>\n",
       "</div>"
      ],
      "text/plain": [
       "                                  juez  nrodocumento ApellidoPaterno ApellidoMaterno            Nombres\n",
       "0            LUIS ALVIN QUISPE SANCHEZ      41929968          QUISPE         SANCHEZ         LUIS ALVIN\n",
       "1    AMPARO BEATRIZ RODRIGUEZ CASTILLO      18090278       RODRIGUEZ        CASTILLO     AMPARO BEATRIZ\n",
       "2        FELIX ENRIQUE RAMIREZ SANCHEZ      18135223         RAMIREZ         SANCHEZ      FELIX ENRIQUE\n",
       "3           JUAN MANUEL FLORES SANCHEZ       1325221          FLORES         SANCHEZ        JUAN MANUEL\n",
       "4     CHIGNE MOZOMBITE MARIA DEL PILAR      41371819          CHIGNE       MOZOMBITE    MARIA DEL PILAR\n",
       "5              OCAMPO VARGAS CLODOMIRA      18138792          OCAMPO          VARGAS          CLODOMIRA\n",
       "6            DIAZ ALVAN ROBERTO CARLOS      41359917            DIAZ           ALVAN     ROBERTO CARLOS\n",
       "7        BACILIO SALAZAR EMMA CONSUELO       7299339         BACILIO         SALAZAR      EMMA CONSUELO\n",
       "8        ROJAS OBREGON FIORELLA MAGALI      42897314           ROJAS         OBREGON    FIORELLA MAGALI\n",
       "9      GUTIERREZ GALVEZ ZONIA VIRGINIA      28260854       GUTIERREZ          GALVEZ     ZONIA VIRGINIA\n",
       "10           CARY CHOQUE CARLOS ALVARO      29224520            CARY          CHOQUE      CARLOS ALVARO\n",
       "11            CALLE VERA OSCAR FRANCIS      43188285           CALLE            VERA      OSCAR FRANCIS\n",
       "12        BELLIDO ANGULO MARIA SOLEDAD      29424173         BELLIDO          ANGULO      MARIA SOLEDAD\n",
       "13    YUCA HUARACCALLO FELIPE FEDERICO      29580121            YUCA     HUARACCALLO    FELIPE FEDERICO\n",
       "14         TALAVERA ZAPANA NOLAM ELIAS      29472266        TALAVERA          ZAPANA        NOLAM ELIAS\n",
       "15             UCHANI SARMIENTO BERTHA      41227011          UCHANI       SARMIENTO             BERTHA\n",
       "16          OROSCO VEGA ELOY GUILLERMO      29432228          OROSCO            VEGA     ELOY GUILLERMO\n",
       "17         FIGUEROA TEJADA LIZ EVERLYN      40648799        FIGUEROA          TEJADA        LIZ EVERLYN\n",
       "18      CARHUAPOMA GRANDA EDGARD JESUS      29602737      CARHUAPOMA          GRANDA       EDGARD JESUS\n",
       "19   DE LA CRUZ PIZARRO JHENY VIRGINIA      40018732      DE LA CRUZ         PIZARRO     JHENY VIRGINIA\n",
       "20        MACHUCA ALIAGA ELDA MADAHITH      46976280         MACHUCA          ALIAGA      ELDA MADAHITH\n",
       "21        ASMAD CORCUERA MARCO ANTONIO      18087872           ASMAD        CORCUERA      MARCO ANTONIO\n",
       "22       SANCHEZ RAMOS BEATRIZ YOLANDA      40640033         SANCHEZ           RAMOS    BEATRIZ YOLANDA\n",
       "23    TORRES CONTRERAS WILLIAM EDGARDO      32921331          TORRES       CONTRERAS    WILLIAM EDGARDO\n",
       "24        BUSTOS BALTA CELIA DEL PILAR      40042883          BUSTOS           BALTA    CELIA DEL PILAR\n",
       "25        URRUTIA MENDEZ JONATHAN PAUL      41715317         URRUTIA          MENDEZ      JONATHAN PAUL\n",
       "26        VIVANCO HUAMAN GLORIA TERESA       9670269         VIVANCO          HUAMAN      GLORIA TERESA\n",
       "27         AUQUI HUERTA TEOFANES EDGAR      40847128           AUQUI          HUERTA     TEOFANES EDGAR\n",
       "28            MEDRANO ALIAGA ANA PAULA      10286711         MEDRANO          ALIAGA          ANA PAULA\n",
       "29                 VICUÑA ZAMORA JESUS      19916154          VICUÑA          ZAMORA              JESUS\n",
       "30              VILLARREAL BALBIN IVAN      20112346      VILLARREAL          BALBIN               IVAN\n",
       "31           ROJAS LAZARO WILLIAM RAUL      41543436           ROJAS          LAZARO       WILLIAM RAUL\n",
       "32  RAMIREZ IPARRAGUIRRE VICTOR MANUEL      42266097         RAMIREZ    IPARRAGUIRRE      VICTOR MANUEL\n",
       "33      LEON MARTELL VICTOR CANDELARIO      40971750            LEON         MARTELL  VICTOR CANDELARIO\n",
       "34        ATAURIMA RUIZ BELISSA IBETTE      43992353        ATAURIMA            RUIZ     BELISSA IBETTE\n",
       "35            VARGAS PEREZ ROSA ISABEL      40758830          VARGAS           PEREZ        ROSA ISABEL\n",
       "36             ARRIOLA GUILLEN MARCELA      23992411         ARRIOLA         GUILLEN            MARCELA\n",
       "37   TORRES SIGUEÑAS CAROL DEL ROSARIO      41846685          TORRES        SIGUEÑAS  CAROL DEL ROSARIO\n",
       "38                 CORDOVA LOPEZ OCNER       3369984         CORDOVA           LOPEZ              OCNER\n",
       "39       LLANOS CHAVEZ GRACIELA ESTHER      22514816          LLANOS          CHAVEZ    GRACIELA ESTHER\n",
       "40        SARMIENTO VEGA VARINIA YANET      21133300       SARMIENTO            VEGA      VARINIA YANET\n",
       "41       GONZALEZ BRONCANO JORGE ABDON       9904641        GONZALEZ        BRONCANO        JORGE ABDON\n",
       "42        ARIZABAL CALDERON RUSSY ELDA      23942493        ARIZABAL        CALDERON         RUSSY ELDA\n",
       "43  GRAJEDA BASHUALDO MILAGROS MARILYN      41209344         GRAJEDA       BASHUALDO   MILAGROS MARILYN\n",
       "44          PASCUAL SERNA DIANA ANGELA      42434313         PASCUAL           SERNA       DIANA ANGELA\n",
       "45     RODRIGUEZ RODRIGUEZ JULIO CESAR       7245586       RODRIGUEZ       RODRIGUEZ        JULIO CESAR\n",
       "46      DE LA CRUZ TIPIAN CESAR ADOLFO      10195953      DE LA CRUZ          TIPIAN       CESAR ADOLFO\n",
       "47            CASTILLO HUAYNACHO ELMER       2156127        CASTILLO       HUAYNACHO              ELMER\n",
       "48         PACHECO ZAPATA YULEMI PAULA      45101512         PACHECO          ZAPATA       YULEMI PAULA\n",
       "49       VASQUEZ ROJAS DEYSY ELIZABETH      43481668         VASQUEZ           ROJAS    DEYSY ELIZABETH\n",
       "50        MORENO CCANCCE RICARDO JONNY       9952777          MORENO         CCANCCE      RICARDO JONNY\n",
       "0             ZUÑIGA PORTOCARRERO LINO      29558906          ZUÑIGA    PORTOCARRERO        LINO YSAURO\n",
       "1         HERRERA GUZMAN MARCO ANTONIO      29582436         HERRERA          GUZMAN      MARCO ANTONIO\n",
       "2       CARDENAS ALVARADO BORIS FAUSTO      18071270        CARDENAS        ALVARADO       BORIS FAUSTO\n",
       "3       CARHUAPOMA GRANDA EDGARD JESUS      29602737      CARHUAPOMA          GRANDA       EDGARD JESUS\n",
       "4                 CRUZ COBEÑAS MARLENY      10407408            CRUZ         COBEÑAS            MARLENY\n",
       "5          TAPAHUASCO PALOMINO RICHARD       7460242      TAPAHUASCO        PALOMINO            RICHARD\n",
       "0                JULISSA ASEIJAS SILVA      26729323         ASEIJAS           SILVA     JULISSA ISABEL\n",
       "1                ESAU CHANCO CASTILLON      20009702          CHANCO       CASTILLON               ESAU\n",
       "2              JULIO CESAR LEYVA PEREZ       8062416           LEYVA           PEREZ        JULIO CESAR"
      ]
     },
     "execution_count": 178,
     "metadata": {},
     "output_type": "execute_result"
    }
   ],
   "source": [
    "amag_ii_cases = pd.concat([matched_concat_c, fuzzies_1, fuzzies_2])\n",
    "amag_ii_cases"
   ]
  },
  {
   "cell_type": "code",
   "execution_count": 179,
   "id": "0ec5da30",
   "metadata": {},
   "outputs": [
    {
     "data": {
      "text/plain": [
       "60"
      ]
     },
     "execution_count": 179,
     "metadata": {},
     "output_type": "execute_result"
    }
   ],
   "source": [
    "len(amag_ii_cases)"
   ]
  },
  {
   "cell_type": "code",
   "execution_count": 180,
   "id": "242272d9",
   "metadata": {},
   "outputs": [
    {
     "data": {
      "text/html": [
       "<div>\n",
       "<style scoped>\n",
       "    .dataframe tbody tr th:only-of-type {\n",
       "        vertical-align: middle;\n",
       "    }\n",
       "\n",
       "    .dataframe tbody tr th {\n",
       "        vertical-align: top;\n",
       "    }\n",
       "\n",
       "    .dataframe thead th {\n",
       "        text-align: right;\n",
       "    }\n",
       "</style>\n",
       "<table border=\"1\" class=\"dataframe\">\n",
       "  <thead>\n",
       "    <tr style=\"text-align: right;\">\n",
       "      <th></th>\n",
       "      <th>juez</th>\n",
       "      <th>nrodocumento</th>\n",
       "      <th>ApellidoPaterno</th>\n",
       "      <th>ApellidoMaterno</th>\n",
       "      <th>Nombres</th>\n",
       "    </tr>\n",
       "  </thead>\n",
       "  <tbody>\n",
       "    <tr>\n",
       "      <th>0</th>\n",
       "      <td>LUIS ALVIN QUISPE SANCHEZ</td>\n",
       "      <td>41929968</td>\n",
       "      <td>QUISPE</td>\n",
       "      <td>SANCHEZ</td>\n",
       "      <td>LUIS ALVIN</td>\n",
       "    </tr>\n",
       "    <tr>\n",
       "      <th>1</th>\n",
       "      <td>AMPARO BEATRIZ RODRIGUEZ CASTILLO</td>\n",
       "      <td>18090278</td>\n",
       "      <td>RODRIGUEZ</td>\n",
       "      <td>CASTILLO</td>\n",
       "      <td>AMPARO BEATRIZ</td>\n",
       "    </tr>\n",
       "    <tr>\n",
       "      <th>2</th>\n",
       "      <td>FELIX ENRIQUE RAMIREZ SANCHEZ</td>\n",
       "      <td>18135223</td>\n",
       "      <td>RAMIREZ</td>\n",
       "      <td>SANCHEZ</td>\n",
       "      <td>FELIX ENRIQUE</td>\n",
       "    </tr>\n",
       "    <tr>\n",
       "      <th>3</th>\n",
       "      <td>JUAN MANUEL FLORES SANCHEZ</td>\n",
       "      <td>1325221</td>\n",
       "      <td>FLORES</td>\n",
       "      <td>SANCHEZ</td>\n",
       "      <td>JUAN MANUEL</td>\n",
       "    </tr>\n",
       "    <tr>\n",
       "      <th>4</th>\n",
       "      <td>CHIGNE MOZOMBITE MARIA DEL PILAR</td>\n",
       "      <td>41371819</td>\n",
       "      <td>CHIGNE</td>\n",
       "      <td>MOZOMBITE</td>\n",
       "      <td>MARIA DEL PILAR</td>\n",
       "    </tr>\n",
       "    <tr>\n",
       "      <th>5</th>\n",
       "      <td>OCAMPO VARGAS CLODOMIRA</td>\n",
       "      <td>18138792</td>\n",
       "      <td>OCAMPO</td>\n",
       "      <td>VARGAS</td>\n",
       "      <td>CLODOMIRA</td>\n",
       "    </tr>\n",
       "    <tr>\n",
       "      <th>6</th>\n",
       "      <td>DIAZ ALVAN ROBERTO CARLOS</td>\n",
       "      <td>41359917</td>\n",
       "      <td>DIAZ</td>\n",
       "      <td>ALVAN</td>\n",
       "      <td>ROBERTO CARLOS</td>\n",
       "    </tr>\n",
       "    <tr>\n",
       "      <th>7</th>\n",
       "      <td>BACILIO SALAZAR EMMA CONSUELO</td>\n",
       "      <td>7299339</td>\n",
       "      <td>BACILIO</td>\n",
       "      <td>SALAZAR</td>\n",
       "      <td>EMMA CONSUELO</td>\n",
       "    </tr>\n",
       "    <tr>\n",
       "      <th>8</th>\n",
       "      <td>ROJAS OBREGON FIORELLA MAGALI</td>\n",
       "      <td>42897314</td>\n",
       "      <td>ROJAS</td>\n",
       "      <td>OBREGON</td>\n",
       "      <td>FIORELLA MAGALI</td>\n",
       "    </tr>\n",
       "    <tr>\n",
       "      <th>9</th>\n",
       "      <td>GUTIERREZ GALVEZ ZONIA VIRGINIA</td>\n",
       "      <td>28260854</td>\n",
       "      <td>GUTIERREZ</td>\n",
       "      <td>GALVEZ</td>\n",
       "      <td>ZONIA VIRGINIA</td>\n",
       "    </tr>\n",
       "    <tr>\n",
       "      <th>10</th>\n",
       "      <td>CARY CHOQUE CARLOS ALVARO</td>\n",
       "      <td>29224520</td>\n",
       "      <td>CARY</td>\n",
       "      <td>CHOQUE</td>\n",
       "      <td>CARLOS ALVARO</td>\n",
       "    </tr>\n",
       "    <tr>\n",
       "      <th>11</th>\n",
       "      <td>CALLE VERA OSCAR FRANCIS</td>\n",
       "      <td>43188285</td>\n",
       "      <td>CALLE</td>\n",
       "      <td>VERA</td>\n",
       "      <td>OSCAR FRANCIS</td>\n",
       "    </tr>\n",
       "    <tr>\n",
       "      <th>12</th>\n",
       "      <td>BELLIDO ANGULO MARIA SOLEDAD</td>\n",
       "      <td>29424173</td>\n",
       "      <td>BELLIDO</td>\n",
       "      <td>ANGULO</td>\n",
       "      <td>MARIA SOLEDAD</td>\n",
       "    </tr>\n",
       "    <tr>\n",
       "      <th>13</th>\n",
       "      <td>YUCA HUARACCALLO FELIPE FEDERICO</td>\n",
       "      <td>29580121</td>\n",
       "      <td>YUCA</td>\n",
       "      <td>HUARACCALLO</td>\n",
       "      <td>FELIPE FEDERICO</td>\n",
       "    </tr>\n",
       "    <tr>\n",
       "      <th>14</th>\n",
       "      <td>TALAVERA ZAPANA NOLAM ELIAS</td>\n",
       "      <td>29472266</td>\n",
       "      <td>TALAVERA</td>\n",
       "      <td>ZAPANA</td>\n",
       "      <td>NOLAM ELIAS</td>\n",
       "    </tr>\n",
       "    <tr>\n",
       "      <th>15</th>\n",
       "      <td>UCHANI SARMIENTO BERTHA</td>\n",
       "      <td>41227011</td>\n",
       "      <td>UCHANI</td>\n",
       "      <td>SARMIENTO</td>\n",
       "      <td>BERTHA</td>\n",
       "    </tr>\n",
       "    <tr>\n",
       "      <th>16</th>\n",
       "      <td>OROSCO VEGA ELOY GUILLERMO</td>\n",
       "      <td>29432228</td>\n",
       "      <td>OROSCO</td>\n",
       "      <td>VEGA</td>\n",
       "      <td>ELOY GUILLERMO</td>\n",
       "    </tr>\n",
       "    <tr>\n",
       "      <th>17</th>\n",
       "      <td>FIGUEROA TEJADA LIZ EVERLYN</td>\n",
       "      <td>40648799</td>\n",
       "      <td>FIGUEROA</td>\n",
       "      <td>TEJADA</td>\n",
       "      <td>LIZ EVERLYN</td>\n",
       "    </tr>\n",
       "    <tr>\n",
       "      <th>18</th>\n",
       "      <td>CARHUAPOMA GRANDA EDGARD JESUS</td>\n",
       "      <td>29602737</td>\n",
       "      <td>CARHUAPOMA</td>\n",
       "      <td>GRANDA</td>\n",
       "      <td>EDGARD JESUS</td>\n",
       "    </tr>\n",
       "    <tr>\n",
       "      <th>19</th>\n",
       "      <td>DE LA CRUZ PIZARRO JHENY VIRGINIA</td>\n",
       "      <td>40018732</td>\n",
       "      <td>DE LA CRUZ</td>\n",
       "      <td>PIZARRO</td>\n",
       "      <td>JHENY VIRGINIA</td>\n",
       "    </tr>\n",
       "    <tr>\n",
       "      <th>20</th>\n",
       "      <td>MACHUCA ALIAGA ELDA MADAHITH</td>\n",
       "      <td>46976280</td>\n",
       "      <td>MACHUCA</td>\n",
       "      <td>ALIAGA</td>\n",
       "      <td>ELDA MADAHITH</td>\n",
       "    </tr>\n",
       "    <tr>\n",
       "      <th>21</th>\n",
       "      <td>ASMAD CORCUERA MARCO ANTONIO</td>\n",
       "      <td>18087872</td>\n",
       "      <td>ASMAD</td>\n",
       "      <td>CORCUERA</td>\n",
       "      <td>MARCO ANTONIO</td>\n",
       "    </tr>\n",
       "    <tr>\n",
       "      <th>22</th>\n",
       "      <td>SANCHEZ RAMOS BEATRIZ YOLANDA</td>\n",
       "      <td>40640033</td>\n",
       "      <td>SANCHEZ</td>\n",
       "      <td>RAMOS</td>\n",
       "      <td>BEATRIZ YOLANDA</td>\n",
       "    </tr>\n",
       "    <tr>\n",
       "      <th>23</th>\n",
       "      <td>TORRES CONTRERAS WILLIAM EDGARDO</td>\n",
       "      <td>32921331</td>\n",
       "      <td>TORRES</td>\n",
       "      <td>CONTRERAS</td>\n",
       "      <td>WILLIAM EDGARDO</td>\n",
       "    </tr>\n",
       "    <tr>\n",
       "      <th>24</th>\n",
       "      <td>BUSTOS BALTA CELIA DEL PILAR</td>\n",
       "      <td>40042883</td>\n",
       "      <td>BUSTOS</td>\n",
       "      <td>BALTA</td>\n",
       "      <td>CELIA DEL PILAR</td>\n",
       "    </tr>\n",
       "    <tr>\n",
       "      <th>25</th>\n",
       "      <td>URRUTIA MENDEZ JONATHAN PAUL</td>\n",
       "      <td>41715317</td>\n",
       "      <td>URRUTIA</td>\n",
       "      <td>MENDEZ</td>\n",
       "      <td>JONATHAN PAUL</td>\n",
       "    </tr>\n",
       "    <tr>\n",
       "      <th>26</th>\n",
       "      <td>VIVANCO HUAMAN GLORIA TERESA</td>\n",
       "      <td>9670269</td>\n",
       "      <td>VIVANCO</td>\n",
       "      <td>HUAMAN</td>\n",
       "      <td>GLORIA TERESA</td>\n",
       "    </tr>\n",
       "    <tr>\n",
       "      <th>27</th>\n",
       "      <td>AUQUI HUERTA TEOFANES EDGAR</td>\n",
       "      <td>40847128</td>\n",
       "      <td>AUQUI</td>\n",
       "      <td>HUERTA</td>\n",
       "      <td>TEOFANES EDGAR</td>\n",
       "    </tr>\n",
       "    <tr>\n",
       "      <th>28</th>\n",
       "      <td>MEDRANO ALIAGA ANA PAULA</td>\n",
       "      <td>10286711</td>\n",
       "      <td>MEDRANO</td>\n",
       "      <td>ALIAGA</td>\n",
       "      <td>ANA PAULA</td>\n",
       "    </tr>\n",
       "    <tr>\n",
       "      <th>29</th>\n",
       "      <td>VICUÑA ZAMORA JESUS</td>\n",
       "      <td>19916154</td>\n",
       "      <td>VICUÑA</td>\n",
       "      <td>ZAMORA</td>\n",
       "      <td>JESUS</td>\n",
       "    </tr>\n",
       "    <tr>\n",
       "      <th>30</th>\n",
       "      <td>VILLARREAL BALBIN IVAN</td>\n",
       "      <td>20112346</td>\n",
       "      <td>VILLARREAL</td>\n",
       "      <td>BALBIN</td>\n",
       "      <td>IVAN</td>\n",
       "    </tr>\n",
       "    <tr>\n",
       "      <th>31</th>\n",
       "      <td>ROJAS LAZARO WILLIAM RAUL</td>\n",
       "      <td>41543436</td>\n",
       "      <td>ROJAS</td>\n",
       "      <td>LAZARO</td>\n",
       "      <td>WILLIAM RAUL</td>\n",
       "    </tr>\n",
       "    <tr>\n",
       "      <th>32</th>\n",
       "      <td>RAMIREZ IPARRAGUIRRE VICTOR MANUEL</td>\n",
       "      <td>42266097</td>\n",
       "      <td>RAMIREZ</td>\n",
       "      <td>IPARRAGUIRRE</td>\n",
       "      <td>VICTOR MANUEL</td>\n",
       "    </tr>\n",
       "    <tr>\n",
       "      <th>33</th>\n",
       "      <td>LEON MARTELL VICTOR CANDELARIO</td>\n",
       "      <td>40971750</td>\n",
       "      <td>LEON</td>\n",
       "      <td>MARTELL</td>\n",
       "      <td>VICTOR CANDELARIO</td>\n",
       "    </tr>\n",
       "    <tr>\n",
       "      <th>34</th>\n",
       "      <td>ATAURIMA RUIZ BELISSA IBETTE</td>\n",
       "      <td>43992353</td>\n",
       "      <td>ATAURIMA</td>\n",
       "      <td>RUIZ</td>\n",
       "      <td>BELISSA IBETTE</td>\n",
       "    </tr>\n",
       "    <tr>\n",
       "      <th>35</th>\n",
       "      <td>VARGAS PEREZ ROSA ISABEL</td>\n",
       "      <td>40758830</td>\n",
       "      <td>VARGAS</td>\n",
       "      <td>PEREZ</td>\n",
       "      <td>ROSA ISABEL</td>\n",
       "    </tr>\n",
       "    <tr>\n",
       "      <th>36</th>\n",
       "      <td>ARRIOLA GUILLEN MARCELA</td>\n",
       "      <td>23992411</td>\n",
       "      <td>ARRIOLA</td>\n",
       "      <td>GUILLEN</td>\n",
       "      <td>MARCELA</td>\n",
       "    </tr>\n",
       "    <tr>\n",
       "      <th>37</th>\n",
       "      <td>TORRES SIGUEÑAS CAROL DEL ROSARIO</td>\n",
       "      <td>41846685</td>\n",
       "      <td>TORRES</td>\n",
       "      <td>SIGUEÑAS</td>\n",
       "      <td>CAROL DEL ROSARIO</td>\n",
       "    </tr>\n",
       "    <tr>\n",
       "      <th>38</th>\n",
       "      <td>CORDOVA LOPEZ OCNER</td>\n",
       "      <td>3369984</td>\n",
       "      <td>CORDOVA</td>\n",
       "      <td>LOPEZ</td>\n",
       "      <td>OCNER</td>\n",
       "    </tr>\n",
       "    <tr>\n",
       "      <th>39</th>\n",
       "      <td>LLANOS CHAVEZ GRACIELA ESTHER</td>\n",
       "      <td>22514816</td>\n",
       "      <td>LLANOS</td>\n",
       "      <td>CHAVEZ</td>\n",
       "      <td>GRACIELA ESTHER</td>\n",
       "    </tr>\n",
       "    <tr>\n",
       "      <th>40</th>\n",
       "      <td>SARMIENTO VEGA VARINIA YANET</td>\n",
       "      <td>21133300</td>\n",
       "      <td>SARMIENTO</td>\n",
       "      <td>VEGA</td>\n",
       "      <td>VARINIA YANET</td>\n",
       "    </tr>\n",
       "    <tr>\n",
       "      <th>41</th>\n",
       "      <td>GONZALEZ BRONCANO JORGE ABDON</td>\n",
       "      <td>9904641</td>\n",
       "      <td>GONZALEZ</td>\n",
       "      <td>BRONCANO</td>\n",
       "      <td>JORGE ABDON</td>\n",
       "    </tr>\n",
       "    <tr>\n",
       "      <th>42</th>\n",
       "      <td>ARIZABAL CALDERON RUSSY ELDA</td>\n",
       "      <td>23942493</td>\n",
       "      <td>ARIZABAL</td>\n",
       "      <td>CALDERON</td>\n",
       "      <td>RUSSY ELDA</td>\n",
       "    </tr>\n",
       "    <tr>\n",
       "      <th>43</th>\n",
       "      <td>GRAJEDA BASHUALDO MILAGROS MARILYN</td>\n",
       "      <td>41209344</td>\n",
       "      <td>GRAJEDA</td>\n",
       "      <td>BASHUALDO</td>\n",
       "      <td>MILAGROS MARILYN</td>\n",
       "    </tr>\n",
       "    <tr>\n",
       "      <th>44</th>\n",
       "      <td>PASCUAL SERNA DIANA ANGELA</td>\n",
       "      <td>42434313</td>\n",
       "      <td>PASCUAL</td>\n",
       "      <td>SERNA</td>\n",
       "      <td>DIANA ANGELA</td>\n",
       "    </tr>\n",
       "    <tr>\n",
       "      <th>45</th>\n",
       "      <td>RODRIGUEZ RODRIGUEZ JULIO CESAR</td>\n",
       "      <td>7245586</td>\n",
       "      <td>RODRIGUEZ</td>\n",
       "      <td>RODRIGUEZ</td>\n",
       "      <td>JULIO CESAR</td>\n",
       "    </tr>\n",
       "    <tr>\n",
       "      <th>46</th>\n",
       "      <td>DE LA CRUZ TIPIAN CESAR ADOLFO</td>\n",
       "      <td>10195953</td>\n",
       "      <td>DE LA CRUZ</td>\n",
       "      <td>TIPIAN</td>\n",
       "      <td>CESAR ADOLFO</td>\n",
       "    </tr>\n",
       "    <tr>\n",
       "      <th>47</th>\n",
       "      <td>CASTILLO HUAYNACHO ELMER</td>\n",
       "      <td>2156127</td>\n",
       "      <td>CASTILLO</td>\n",
       "      <td>HUAYNACHO</td>\n",
       "      <td>ELMER</td>\n",
       "    </tr>\n",
       "    <tr>\n",
       "      <th>48</th>\n",
       "      <td>PACHECO ZAPATA YULEMI PAULA</td>\n",
       "      <td>45101512</td>\n",
       "      <td>PACHECO</td>\n",
       "      <td>ZAPATA</td>\n",
       "      <td>YULEMI PAULA</td>\n",
       "    </tr>\n",
       "    <tr>\n",
       "      <th>49</th>\n",
       "      <td>VASQUEZ ROJAS DEYSY ELIZABETH</td>\n",
       "      <td>43481668</td>\n",
       "      <td>VASQUEZ</td>\n",
       "      <td>ROJAS</td>\n",
       "      <td>DEYSY ELIZABETH</td>\n",
       "    </tr>\n",
       "    <tr>\n",
       "      <th>50</th>\n",
       "      <td>MORENO CCANCCE RICARDO JONNY</td>\n",
       "      <td>9952777</td>\n",
       "      <td>MORENO</td>\n",
       "      <td>CCANCCE</td>\n",
       "      <td>RICARDO JONNY</td>\n",
       "    </tr>\n",
       "    <tr>\n",
       "      <th>0</th>\n",
       "      <td>ZUÑIGA PORTOCARRERO LINO</td>\n",
       "      <td>29558906</td>\n",
       "      <td>ZUÑIGA</td>\n",
       "      <td>PORTOCARRERO</td>\n",
       "      <td>LINO YSAURO</td>\n",
       "    </tr>\n",
       "    <tr>\n",
       "      <th>1</th>\n",
       "      <td>HERRERA GUZMAN MARCO ANTONIO</td>\n",
       "      <td>29582436</td>\n",
       "      <td>HERRERA</td>\n",
       "      <td>GUZMAN</td>\n",
       "      <td>MARCO ANTONIO</td>\n",
       "    </tr>\n",
       "    <tr>\n",
       "      <th>2</th>\n",
       "      <td>CARDENAS ALVARADO BORIS FAUSTO</td>\n",
       "      <td>18071270</td>\n",
       "      <td>CARDENAS</td>\n",
       "      <td>ALVARADO</td>\n",
       "      <td>BORIS FAUSTO</td>\n",
       "    </tr>\n",
       "    <tr>\n",
       "      <th>3</th>\n",
       "      <td>CARHUAPOMA GRANDA EDGARD JESUS</td>\n",
       "      <td>29602737</td>\n",
       "      <td>CARHUAPOMA</td>\n",
       "      <td>GRANDA</td>\n",
       "      <td>EDGARD JESUS</td>\n",
       "    </tr>\n",
       "    <tr>\n",
       "      <th>4</th>\n",
       "      <td>CRUZ COBEÑAS MARLENY</td>\n",
       "      <td>10407408</td>\n",
       "      <td>CRUZ</td>\n",
       "      <td>COBEÑAS</td>\n",
       "      <td>MARLENY</td>\n",
       "    </tr>\n",
       "    <tr>\n",
       "      <th>5</th>\n",
       "      <td>TAPAHUASCO PALOMINO RICHARD</td>\n",
       "      <td>7460242</td>\n",
       "      <td>TAPAHUASCO</td>\n",
       "      <td>PALOMINO</td>\n",
       "      <td>RICHARD</td>\n",
       "    </tr>\n",
       "    <tr>\n",
       "      <th>0</th>\n",
       "      <td>JULISSA ASEIJAS SILVA</td>\n",
       "      <td>26729323</td>\n",
       "      <td>ASEIJAS</td>\n",
       "      <td>SILVA</td>\n",
       "      <td>JULISSA ISABEL</td>\n",
       "    </tr>\n",
       "    <tr>\n",
       "      <th>1</th>\n",
       "      <td>ESAU CHANCO CASTILLON</td>\n",
       "      <td>20009702</td>\n",
       "      <td>CHANCO</td>\n",
       "      <td>CASTILLON</td>\n",
       "      <td>ESAU</td>\n",
       "    </tr>\n",
       "    <tr>\n",
       "      <th>2</th>\n",
       "      <td>JULIO CESAR LEYVA PEREZ</td>\n",
       "      <td>8062416</td>\n",
       "      <td>LEYVA</td>\n",
       "      <td>PEREZ</td>\n",
       "      <td>JULIO CESAR</td>\n",
       "    </tr>\n",
       "  </tbody>\n",
       "</table>\n",
       "</div>"
      ],
      "text/plain": [
       "                                  juez  nrodocumento ApellidoPaterno ApellidoMaterno            Nombres\n",
       "0            LUIS ALVIN QUISPE SANCHEZ      41929968          QUISPE         SANCHEZ         LUIS ALVIN\n",
       "1    AMPARO BEATRIZ RODRIGUEZ CASTILLO      18090278       RODRIGUEZ        CASTILLO     AMPARO BEATRIZ\n",
       "2        FELIX ENRIQUE RAMIREZ SANCHEZ      18135223         RAMIREZ         SANCHEZ      FELIX ENRIQUE\n",
       "3           JUAN MANUEL FLORES SANCHEZ       1325221          FLORES         SANCHEZ        JUAN MANUEL\n",
       "4     CHIGNE MOZOMBITE MARIA DEL PILAR      41371819          CHIGNE       MOZOMBITE    MARIA DEL PILAR\n",
       "5              OCAMPO VARGAS CLODOMIRA      18138792          OCAMPO          VARGAS          CLODOMIRA\n",
       "6            DIAZ ALVAN ROBERTO CARLOS      41359917            DIAZ           ALVAN     ROBERTO CARLOS\n",
       "7        BACILIO SALAZAR EMMA CONSUELO       7299339         BACILIO         SALAZAR      EMMA CONSUELO\n",
       "8        ROJAS OBREGON FIORELLA MAGALI      42897314           ROJAS         OBREGON    FIORELLA MAGALI\n",
       "9      GUTIERREZ GALVEZ ZONIA VIRGINIA      28260854       GUTIERREZ          GALVEZ     ZONIA VIRGINIA\n",
       "10           CARY CHOQUE CARLOS ALVARO      29224520            CARY          CHOQUE      CARLOS ALVARO\n",
       "11            CALLE VERA OSCAR FRANCIS      43188285           CALLE            VERA      OSCAR FRANCIS\n",
       "12        BELLIDO ANGULO MARIA SOLEDAD      29424173         BELLIDO          ANGULO      MARIA SOLEDAD\n",
       "13    YUCA HUARACCALLO FELIPE FEDERICO      29580121            YUCA     HUARACCALLO    FELIPE FEDERICO\n",
       "14         TALAVERA ZAPANA NOLAM ELIAS      29472266        TALAVERA          ZAPANA        NOLAM ELIAS\n",
       "15             UCHANI SARMIENTO BERTHA      41227011          UCHANI       SARMIENTO             BERTHA\n",
       "16          OROSCO VEGA ELOY GUILLERMO      29432228          OROSCO            VEGA     ELOY GUILLERMO\n",
       "17         FIGUEROA TEJADA LIZ EVERLYN      40648799        FIGUEROA          TEJADA        LIZ EVERLYN\n",
       "18      CARHUAPOMA GRANDA EDGARD JESUS      29602737      CARHUAPOMA          GRANDA       EDGARD JESUS\n",
       "19   DE LA CRUZ PIZARRO JHENY VIRGINIA      40018732      DE LA CRUZ         PIZARRO     JHENY VIRGINIA\n",
       "20        MACHUCA ALIAGA ELDA MADAHITH      46976280         MACHUCA          ALIAGA      ELDA MADAHITH\n",
       "21        ASMAD CORCUERA MARCO ANTONIO      18087872           ASMAD        CORCUERA      MARCO ANTONIO\n",
       "22       SANCHEZ RAMOS BEATRIZ YOLANDA      40640033         SANCHEZ           RAMOS    BEATRIZ YOLANDA\n",
       "23    TORRES CONTRERAS WILLIAM EDGARDO      32921331          TORRES       CONTRERAS    WILLIAM EDGARDO\n",
       "24        BUSTOS BALTA CELIA DEL PILAR      40042883          BUSTOS           BALTA    CELIA DEL PILAR\n",
       "25        URRUTIA MENDEZ JONATHAN PAUL      41715317         URRUTIA          MENDEZ      JONATHAN PAUL\n",
       "26        VIVANCO HUAMAN GLORIA TERESA       9670269         VIVANCO          HUAMAN      GLORIA TERESA\n",
       "27         AUQUI HUERTA TEOFANES EDGAR      40847128           AUQUI          HUERTA     TEOFANES EDGAR\n",
       "28            MEDRANO ALIAGA ANA PAULA      10286711         MEDRANO          ALIAGA          ANA PAULA\n",
       "29                 VICUÑA ZAMORA JESUS      19916154          VICUÑA          ZAMORA              JESUS\n",
       "30              VILLARREAL BALBIN IVAN      20112346      VILLARREAL          BALBIN               IVAN\n",
       "31           ROJAS LAZARO WILLIAM RAUL      41543436           ROJAS          LAZARO       WILLIAM RAUL\n",
       "32  RAMIREZ IPARRAGUIRRE VICTOR MANUEL      42266097         RAMIREZ    IPARRAGUIRRE      VICTOR MANUEL\n",
       "33      LEON MARTELL VICTOR CANDELARIO      40971750            LEON         MARTELL  VICTOR CANDELARIO\n",
       "34        ATAURIMA RUIZ BELISSA IBETTE      43992353        ATAURIMA            RUIZ     BELISSA IBETTE\n",
       "35            VARGAS PEREZ ROSA ISABEL      40758830          VARGAS           PEREZ        ROSA ISABEL\n",
       "36             ARRIOLA GUILLEN MARCELA      23992411         ARRIOLA         GUILLEN            MARCELA\n",
       "37   TORRES SIGUEÑAS CAROL DEL ROSARIO      41846685          TORRES        SIGUEÑAS  CAROL DEL ROSARIO\n",
       "38                 CORDOVA LOPEZ OCNER       3369984         CORDOVA           LOPEZ              OCNER\n",
       "39       LLANOS CHAVEZ GRACIELA ESTHER      22514816          LLANOS          CHAVEZ    GRACIELA ESTHER\n",
       "40        SARMIENTO VEGA VARINIA YANET      21133300       SARMIENTO            VEGA      VARINIA YANET\n",
       "41       GONZALEZ BRONCANO JORGE ABDON       9904641        GONZALEZ        BRONCANO        JORGE ABDON\n",
       "42        ARIZABAL CALDERON RUSSY ELDA      23942493        ARIZABAL        CALDERON         RUSSY ELDA\n",
       "43  GRAJEDA BASHUALDO MILAGROS MARILYN      41209344         GRAJEDA       BASHUALDO   MILAGROS MARILYN\n",
       "44          PASCUAL SERNA DIANA ANGELA      42434313         PASCUAL           SERNA       DIANA ANGELA\n",
       "45     RODRIGUEZ RODRIGUEZ JULIO CESAR       7245586       RODRIGUEZ       RODRIGUEZ        JULIO CESAR\n",
       "46      DE LA CRUZ TIPIAN CESAR ADOLFO      10195953      DE LA CRUZ          TIPIAN       CESAR ADOLFO\n",
       "47            CASTILLO HUAYNACHO ELMER       2156127        CASTILLO       HUAYNACHO              ELMER\n",
       "48         PACHECO ZAPATA YULEMI PAULA      45101512         PACHECO          ZAPATA       YULEMI PAULA\n",
       "49       VASQUEZ ROJAS DEYSY ELIZABETH      43481668         VASQUEZ           ROJAS    DEYSY ELIZABETH\n",
       "50        MORENO CCANCCE RICARDO JONNY       9952777          MORENO         CCANCCE      RICARDO JONNY\n",
       "0             ZUÑIGA PORTOCARRERO LINO      29558906          ZUÑIGA    PORTOCARRERO        LINO YSAURO\n",
       "1         HERRERA GUZMAN MARCO ANTONIO      29582436         HERRERA          GUZMAN      MARCO ANTONIO\n",
       "2       CARDENAS ALVARADO BORIS FAUSTO      18071270        CARDENAS        ALVARADO       BORIS FAUSTO\n",
       "3       CARHUAPOMA GRANDA EDGARD JESUS      29602737      CARHUAPOMA          GRANDA       EDGARD JESUS\n",
       "4                 CRUZ COBEÑAS MARLENY      10407408            CRUZ         COBEÑAS            MARLENY\n",
       "5          TAPAHUASCO PALOMINO RICHARD       7460242      TAPAHUASCO        PALOMINO            RICHARD\n",
       "0                JULISSA ASEIJAS SILVA      26729323         ASEIJAS           SILVA     JULISSA ISABEL\n",
       "1                ESAU CHANCO CASTILLON      20009702          CHANCO       CASTILLON               ESAU\n",
       "2              JULIO CESAR LEYVA PEREZ       8062416           LEYVA           PEREZ        JULIO CESAR"
      ]
     },
     "execution_count": 180,
     "metadata": {},
     "output_type": "execute_result"
    }
   ],
   "source": [
    "amag_ii_cases"
   ]
  },
  {
   "cell_type": "code",
   "execution_count": 185,
   "id": "e72a07b8",
   "metadata": {},
   "outputs": [],
   "source": [
    "amag_ii_cases.to_excel(f'{dc_interm_path}/amag_ii_cases.xlsx', index=False)"
   ]
  },
  {
   "cell_type": "markdown",
   "id": "1c8bc9f7",
   "metadata": {},
   "source": [
    "# 3. Creating CEJ datasets"
   ]
  },
  {
   "cell_type": "markdown",
   "id": "babb94ba",
   "metadata": {},
   "source": [
    "A pending task would be to bind the rows of all the dataframes"
   ]
  },
  {
   "cell_type": "markdown",
   "id": "45a2f3b3",
   "metadata": {},
   "source": [
    "## Follow up dataframe"
   ]
  },
  {
   "cell_type": "code",
   "execution_count": 186,
   "id": "ff5ec622",
   "metadata": {
    "scrolled": true
   },
   "outputs": [
    {
     "name": "stderr",
     "output_type": "stream",
     "text": [
      "C:\\Users\\PC\\AppData\\Local\\Temp\\ipykernel_8360\\2045223694.py:1: FutureWarning: The error_bad_lines argument has been deprecated and will be removed in a future version. Use on_bad_lines in the future.\n",
      "\n",
      "\n",
      "  files_follow_up = pd.read_csv(data_path + \"/DF_follow_up_cleaner_2022.csv\", error_bad_lines=False)\n",
      "Skipping line 138972: expected 10 fields, saw 11\n",
      "Skipping line 139148: expected 10 fields, saw 11\n",
      "Skipping line 140120: expected 10 fields, saw 13\n",
      "\n",
      "Skipping line 203178: expected 10 fields, saw 21\n",
      "\n",
      "Skipping line 297454: expected 10 fields, saw 16\n",
      "Skipping line 304348: expected 10 fields, saw 13\n",
      "Skipping line 307125: expected 10 fields, saw 12\n",
      "Skipping line 307552: expected 10 fields, saw 12\n",
      "\n",
      "Skipping line 352440: expected 10 fields, saw 17\n",
      "Skipping line 386692: expected 10 fields, saw 11\n",
      "\n",
      "Skipping line 409540: expected 10 fields, saw 15\n",
      "Skipping line 421440: expected 10 fields, saw 15\n",
      "Skipping line 446936: expected 10 fields, saw 11\n",
      "\n",
      "C:\\Users\\PC\\AppData\\Local\\Temp\\ipykernel_8360\\2045223694.py:1: DtypeWarning: Columns (6) have mixed types. Specify dtype option on import or set low_memory=False.\n",
      "  files_follow_up = pd.read_csv(data_path + \"/DF_follow_up_cleaner_2022.csv\", error_bad_lines=False)\n"
     ]
    }
   ],
   "source": [
    "files_follow_up = pd.read_csv(data_path + \"/DF_follow_up_cleaner_2022.csv\", error_bad_lines=False)\n",
    "files_follow_up = clean_names(files_follow_up)"
   ]
  },
  {
   "cell_type": "markdown",
   "id": "0c838a3d",
   "metadata": {},
   "source": [
    "# Procedural parts dataframe"
   ]
  },
  {
   "cell_type": "code",
   "execution_count": 187,
   "id": "8419b808",
   "metadata": {
    "scrolled": true
   },
   "outputs": [],
   "source": [
    "files_procedural_parts = pd.read_csv(data_path + \"/DF_procedural_parts_2022.csv\")\n",
    "files_procedural_parts = clean_names(files_procedural_parts)"
   ]
  },
  {
   "cell_type": "code",
   "execution_count": 188,
   "id": "e68e6415",
   "metadata": {},
   "outputs": [],
   "source": [
    "files_procedural_parts[\"expediente_n°_\"] = files_procedural_parts[\"expediente_n°_\"].apply(lambda row: row.split(\"\\\\\")[-1])"
   ]
  },
  {
   "cell_type": "markdown",
   "id": "6c946142",
   "metadata": {},
   "source": [
    "## Downloads dataframe"
   ]
  },
  {
   "cell_type": "code",
   "execution_count": 189,
   "id": "b874163b",
   "metadata": {
    "scrolled": true
   },
   "outputs": [],
   "source": [
    "files_downloads = pd.read_csv(data_path + \"/DF_DOWNLOADS_2022.csv\")\n",
    "files_downloads = clean_names(files_downloads)"
   ]
  },
  {
   "cell_type": "markdown",
   "id": "38a8a45d",
   "metadata": {},
   "source": [
    "### Merging complementary case data with amag ii cases"
   ]
  },
  {
   "cell_type": "code",
   "execution_count": 198,
   "id": "433d2447",
   "metadata": {},
   "outputs": [
    {
     "data": {
      "text/html": [
       "<div>\n",
       "<style scoped>\n",
       "    .dataframe tbody tr th:only-of-type {\n",
       "        vertical-align: middle;\n",
       "    }\n",
       "\n",
       "    .dataframe tbody tr th {\n",
       "        vertical-align: top;\n",
       "    }\n",
       "\n",
       "    .dataframe thead th {\n",
       "        text-align: right;\n",
       "    }\n",
       "</style>\n",
       "<table border=\"1\" class=\"dataframe\">\n",
       "  <thead>\n",
       "    <tr style=\"text-align: right;\">\n",
       "      <th></th>\n",
       "      <th>expediente_n°_</th>\n",
       "      <th>organo_jurisdiccional_</th>\n",
       "      <th>distrito_judicial_</th>\n",
       "      <th>juez</th>\n",
       "      <th>especialista_legal_</th>\n",
       "      <th>fecha_de_inicio_</th>\n",
       "      <th>proceso_</th>\n",
       "      <th>observacion_</th>\n",
       "      <th>especialidad_</th>\n",
       "      <th>materia_s_</th>\n",
       "      <th>estado_</th>\n",
       "      <th>etapa_procesal_</th>\n",
       "      <th>fecha_conclusion_</th>\n",
       "      <th>ubicacion_</th>\n",
       "      <th>motivo_conclusion_</th>\n",
       "      <th>sumilla_</th>\n",
       "      <th>juez_splitted</th>\n",
       "      <th>n_judges_case</th>\n",
       "    </tr>\n",
       "  </thead>\n",
       "  <tbody>\n",
       "    <tr>\n",
       "      <th>0</th>\n",
       "      <td>00001-2022-0-0101-JP-CI-01</td>\n",
       "      <td>JUZGADO DE PAZ LETRADO - Leymebamba</td>\n",
       "      <td>AMAZONAS</td>\n",
       "      <td>PISCOYA SOSA ALDO FRANCISCO</td>\n",
       "      <td>ROJAS SILVA EDA</td>\n",
       "      <td>14/01/2022</td>\n",
       "      <td>NO CONTENCIOSO</td>\n",
       "      <td>\\n\\t\\t\\t\\t\\t\\t\\t\\t\\t\\t\\t\\t\\n\\t\\t\\t\\t\\t\\t\\t\\t\\t...</td>\n",
       "      <td>CIVIL</td>\n",
       "      <td>SUCESION INTESTADA</td>\n",
       "      <td>ARCHIVO DEFINITIVO</td>\n",
       "      <td>GENERAL</td>\n",
       "      <td></td>\n",
       "      <td>ARCHIVO GENERAL</td>\n",
       "      <td>-------</td>\n",
       "      <td>SUCESION INTESTADA</td>\n",
       "      <td>[PISCOYA SOSA ALDO FRANCISCO]</td>\n",
       "      <td>1</td>\n",
       "    </tr>\n",
       "    <tr>\n",
       "      <th>1</th>\n",
       "      <td>00001-2022-0-0102-JP-CI-01</td>\n",
       "      <td>JUZGADO PAZ LETRADO - Imaza</td>\n",
       "      <td>AMAZONAS</td>\n",
       "      <td>VEGA BOCANEGRA BETO</td>\n",
       "      <td>GARCIA ODAR JOSE ALFREDO</td>\n",
       "      <td>27/01/2022</td>\n",
       "      <td>SUMARISIMO</td>\n",
       "      <td>\\n\\t\\t\\t\\t\\t\\t\\t\\t\\t\\t\\t\\t\\n\\t\\t\\t\\t\\t\\t\\t\\t\\t...</td>\n",
       "      <td>CIVIL</td>\n",
       "      <td>OBLIGACION DE DAR SUMA DE DINERO</td>\n",
       "      <td>TRAMITE</td>\n",
       "      <td>GENERAL</td>\n",
       "      <td></td>\n",
       "      <td>ESPECIALISTA</td>\n",
       "      <td>-------</td>\n",
       "      <td>DEMANDA DE OBLIGACION DE DAR SUMA DE DINERO</td>\n",
       "      <td>[VEGA BOCANEGRA BETO]</td>\n",
       "      <td>1</td>\n",
       "    </tr>\n",
       "    <tr>\n",
       "      <th>2</th>\n",
       "      <td>00001-2022-0-0103-JP-CI-01</td>\n",
       "      <td>JUZGADO DE PAZ LETRADO - FLORIDA</td>\n",
       "      <td>AMAZONAS</td>\n",
       "      <td>LOLO JARA ESTELA</td>\n",
       "      <td>DAVILA HORNA HERMES WILMAN</td>\n",
       "      <td>10/01/2022</td>\n",
       "      <td>NO CONTENCIOSO</td>\n",
       "      <td>\\n\\t\\t\\t\\t\\t\\t\\t\\t\\t\\t\\t\\t\\n\\t\\t\\t\\t\\t\\t\\t\\t\\t...</td>\n",
       "      <td>CIVIL</td>\n",
       "      <td>SUCESION INTESTADA</td>\n",
       "      <td>ARCHIVO PROVISIONAL</td>\n",
       "      <td>GENERAL</td>\n",
       "      <td></td>\n",
       "      <td>POOL ASIST. JUDICIAL</td>\n",
       "      <td>-------</td>\n",
       "      <td>SUCESION INTESTADA</td>\n",
       "      <td>[LOLO JARA ESTELA]</td>\n",
       "      <td>1</td>\n",
       "    </tr>\n",
       "    <tr>\n",
       "      <th>3</th>\n",
       "      <td>00001-2022-0-0104-JP-CI-01</td>\n",
       "      <td>JUZGADO PAZ LETRADO - Sede Yutupis</td>\n",
       "      <td>AMAZONAS</td>\n",
       "      <td>HUAMAN CULQUI IRMA MERCEDES</td>\n",
       "      <td>ELORRIAGA CHAVEZ ROMINA PAOLA</td>\n",
       "      <td>16/03/2022</td>\n",
       "      <td>UNICO DE EJECUCION</td>\n",
       "      <td>\\n\\t\\t\\t\\t\\t\\t\\t\\t\\t\\t\\t\\t\\n\\t\\t\\t\\t\\t\\t\\t\\t\\t...</td>\n",
       "      <td>CIVIL</td>\n",
       "      <td>OBLIGACION DE DAR SUMA DE DINERO</td>\n",
       "      <td>EN PLAZO DE IMPUGNACION</td>\n",
       "      <td>GENERAL</td>\n",
       "      <td></td>\n",
       "      <td>POOL ASIST. JUDICIAL</td>\n",
       "      <td>-------</td>\n",
       "      <td>DEMANDA OBLIGACION DE DAR SUMA DE DINERO</td>\n",
       "      <td>[HUAMAN CULQUI IRMA MERCEDES]</td>\n",
       "      <td>1</td>\n",
       "    </tr>\n",
       "    <tr>\n",
       "      <th>4</th>\n",
       "      <td>00001-2022-0-0105-JP-CI-01</td>\n",
       "      <td>JUZGADO DE PAZ LETRADO - Sede Luya</td>\n",
       "      <td>AMAZONAS</td>\n",
       "      <td>BARRERA BARDALES GUIMO ALBERTO</td>\n",
       "      <td>ANGULO CULLAMPE LIZETH DEL CARMEN</td>\n",
       "      <td>06/01/2022</td>\n",
       "      <td>NO CONTENCIOSO</td>\n",
       "      <td>\\n\\t\\t\\t\\t\\t\\t\\t\\t\\t\\t\\t\\t\\n\\t\\t\\t\\t\\t\\t\\t\\t\\t...</td>\n",
       "      <td>CIVIL</td>\n",
       "      <td>SUCESION INTESTADA</td>\n",
       "      <td>SENTENCIADO/ RESUELTO</td>\n",
       "      <td>GENERAL</td>\n",
       "      <td></td>\n",
       "      <td>POOL ASIST. JUDICIAL</td>\n",
       "      <td>-------</td>\n",
       "      <td>DEMANDA DE SUCESIÓN INTESTADA</td>\n",
       "      <td>[BARRERA BARDALES GUIMO ALBERTO]</td>\n",
       "      <td>1</td>\n",
       "    </tr>\n",
       "    <tr>\n",
       "      <th>...</th>\n",
       "      <td>...</td>\n",
       "      <td>...</td>\n",
       "      <td>...</td>\n",
       "      <td>...</td>\n",
       "      <td>...</td>\n",
       "      <td>...</td>\n",
       "      <td>...</td>\n",
       "      <td>...</td>\n",
       "      <td>...</td>\n",
       "      <td>...</td>\n",
       "      <td>...</td>\n",
       "      <td>...</td>\n",
       "      <td>...</td>\n",
       "      <td>...</td>\n",
       "      <td>...</td>\n",
       "      <td>...</td>\n",
       "      <td>...</td>\n",
       "      <td>...</td>\n",
       "    </tr>\n",
       "    <tr>\n",
       "      <th>56241</th>\n",
       "      <td>00006-2022-0-3301-JR-LA-01</td>\n",
       "      <td>JUZGADO DE TRABAJO</td>\n",
       "      <td>PUENTE PIEDRA - VENTANILLA</td>\n",
       "      <td>POMA ALOSILLA NARDA KATHERINE</td>\n",
       "      <td>SALDAÑA GONZALEZ ADRIANA A.</td>\n",
       "      <td>06/01/2022</td>\n",
       "      <td>ORDINARIO</td>\n",
       "      <td>\\n\\t\\t\\t\\t\\t\\t\\t\\t\\t\\t\\t\\t\\n\\t\\t\\t\\t\\t\\t\\t\\t\\t...</td>\n",
       "      <td>LABORAL</td>\n",
       "      <td>PAGO DE BENEFICIOS SOCIALES Y/O INDEMNIZACION ...</td>\n",
       "      <td>EN TRAMITE(Pendiente)</td>\n",
       "      <td>GENERAL</td>\n",
       "      <td></td>\n",
       "      <td>POOL ASIST. JUDICIAL</td>\n",
       "      <td>-------</td>\n",
       "      <td>PAGO DE BENEFICIOS SOCIALES</td>\n",
       "      <td>[POMA ALOSILLA NARDA KATHERINE]</td>\n",
       "      <td>1</td>\n",
       "    </tr>\n",
       "    <tr>\n",
       "      <th>56242</th>\n",
       "      <td>00007-2022-0-3301-JP-LA-01</td>\n",
       "      <td>JUZGADO DE TRABAJO</td>\n",
       "      <td>PUENTE PIEDRA - VENTANILLA</td>\n",
       "      <td>POMA ALOSILLA NARDA KATHERINE</td>\n",
       "      <td>SALDAÑA GONZALEZ ADRIANA A.</td>\n",
       "      <td>07/01/2022</td>\n",
       "      <td>ABREVIADO</td>\n",
       "      <td>\\n\\t\\t\\t\\t\\t\\t\\t\\t\\t\\t\\t\\t\\n\\t\\t\\t\\t\\t\\t\\t\\t\\t...</td>\n",
       "      <td>LABORAL</td>\n",
       "      <td>PAGO DE BENEFICIOS SOCIALES Y/O INDEMNIZACION ...</td>\n",
       "      <td>EN TRAMITE(Pendiente)</td>\n",
       "      <td>GENERAL</td>\n",
       "      <td></td>\n",
       "      <td>POOL ASIST.  DE AUDIO</td>\n",
       "      <td>-------</td>\n",
       "      <td>PAGO DE BENEFICIOS LABORALES</td>\n",
       "      <td>[POMA ALOSILLA NARDA KATHERINE]</td>\n",
       "      <td>1</td>\n",
       "    </tr>\n",
       "    <tr>\n",
       "      <th>56243</th>\n",
       "      <td>00007-2022-0-3301-JR-LA-01</td>\n",
       "      <td>JUZGADO DE TRABAJO</td>\n",
       "      <td>PUENTE PIEDRA - VENTANILLA</td>\n",
       "      <td>POMA ALOSILLA NARDA KATHERINE</td>\n",
       "      <td>SALDAÑA GONZALEZ ADRIANA A.</td>\n",
       "      <td>07/01/2022</td>\n",
       "      <td>ORDINARIO</td>\n",
       "      <td>\\n\\t\\t\\t\\t\\t\\t\\t\\t\\t\\t\\t\\t\\n\\t\\t\\t\\t\\t\\t\\t\\t\\t...</td>\n",
       "      <td>LABORAL</td>\n",
       "      <td>DESNATURALIZACIÓN DE CONTRATO</td>\n",
       "      <td>EN TRAMITE(Pendiente)</td>\n",
       "      <td>GENERAL</td>\n",
       "      <td></td>\n",
       "      <td>ESPECIALISTA</td>\n",
       "      <td>-------</td>\n",
       "      <td>INTERPONGO DEMANDA POR DESNATURALIZACION DE CO...</td>\n",
       "      <td>[POMA ALOSILLA NARDA KATHERINE]</td>\n",
       "      <td>1</td>\n",
       "    </tr>\n",
       "    <tr>\n",
       "      <th>56244</th>\n",
       "      <td>00008-2022-0-3301-JR-LA-01</td>\n",
       "      <td>JUZGADO DE TRABAJO</td>\n",
       "      <td>PUENTE PIEDRA - VENTANILLA</td>\n",
       "      <td>POMA ALOSILLA NARDA KATHERINE</td>\n",
       "      <td>SALDAÑA GONZALEZ ADRIANA A.</td>\n",
       "      <td>11/01/2022</td>\n",
       "      <td>ORDINARIO</td>\n",
       "      <td>\\n\\t\\t\\t\\t\\t\\t\\t\\t\\t\\t\\t\\t\\n\\t\\t\\t\\t\\t\\t\\t\\t\\t...</td>\n",
       "      <td>LABORAL</td>\n",
       "      <td>INCUMPLIMIENTO DE DISPOSICIONES Y NORMAS LABOR...</td>\n",
       "      <td>EN TRAMITE(Pendiente)</td>\n",
       "      <td>GENERAL</td>\n",
       "      <td></td>\n",
       "      <td>POOL ASIST.  DE AUDIO</td>\n",
       "      <td>-------</td>\n",
       "      <td>DEMANDA SOBRE INCUMPLIMIENTO</td>\n",
       "      <td>[POMA ALOSILLA NARDA KATHERINE]</td>\n",
       "      <td>1</td>\n",
       "    </tr>\n",
       "    <tr>\n",
       "      <th>56245</th>\n",
       "      <td>00009-2022-0-3301-JR-LA-01</td>\n",
       "      <td>JUZGADO DE TRABAJO</td>\n",
       "      <td>PUENTE PIEDRA - VENTANILLA</td>\n",
       "      <td>POMA ALOSILLA NARDA KATHERINE</td>\n",
       "      <td>ROMAN AMPUERO SUSANA</td>\n",
       "      <td>12/01/2022</td>\n",
       "      <td>ORDINARIO</td>\n",
       "      <td>\\n\\t\\t\\t\\t\\t\\t\\t\\t\\t\\t\\t\\t\\n\\t\\t\\t\\t\\t\\t\\t\\t\\t...</td>\n",
       "      <td>LABORAL</td>\n",
       "      <td>DESNATURALIZACIÓN DE CONTRATO</td>\n",
       "      <td>ARCHIVO DEFINITIVO</td>\n",
       "      <td>GENERAL</td>\n",
       "      <td></td>\n",
       "      <td>POOL ASIST. JUDICIAL</td>\n",
       "      <td>-------</td>\n",
       "      <td>DEMANDA DE DESNATURALIZACION E INVALIDEZ DE CO...</td>\n",
       "      <td>[POMA ALOSILLA NARDA KATHERINE]</td>\n",
       "      <td>1</td>\n",
       "    </tr>\n",
       "  </tbody>\n",
       "</table>\n",
       "<p>54533 rows × 18 columns</p>\n",
       "</div>"
      ],
      "text/plain": [
       "                   expediente_n°_               organo_jurisdiccional_          distrito_judicial_                            juez                especialista_legal_ fecha_de_inicio_            proceso_                                       observacion_ especialidad_                                         materia_s_                  estado_ etapa_procesal_ fecha_conclusion_             ubicacion_ motivo_conclusion_                                           sumilla_                     juez_splitted  n_judges_case\n",
       "0      00001-2022-0-0101-JP-CI-01  JUZGADO DE PAZ LETRADO - Leymebamba                    AMAZONAS     PISCOYA SOSA ALDO FRANCISCO                    ROJAS SILVA EDA      14/01/2022       NO CONTENCIOSO  \\n\\t\\t\\t\\t\\t\\t\\t\\t\\t\\t\\t\\t\\n\\t\\t\\t\\t\\t\\t\\t\\t\\t...         CIVIL                                 SUCESION INTESTADA       ARCHIVO DEFINITIVO         GENERAL                          ARCHIVO GENERAL            -------                                 SUCESION INTESTADA     [PISCOYA SOSA ALDO FRANCISCO]              1\n",
       "1      00001-2022-0-0102-JP-CI-01          JUZGADO PAZ LETRADO - Imaza                    AMAZONAS             VEGA BOCANEGRA BETO           GARCIA ODAR JOSE ALFREDO      27/01/2022           SUMARISIMO  \\n\\t\\t\\t\\t\\t\\t\\t\\t\\t\\t\\t\\t\\n\\t\\t\\t\\t\\t\\t\\t\\t\\t...         CIVIL                   OBLIGACION DE DAR SUMA DE DINERO                  TRAMITE         GENERAL                             ESPECIALISTA            -------        DEMANDA DE OBLIGACION DE DAR SUMA DE DINERO             [VEGA BOCANEGRA BETO]              1\n",
       "2      00001-2022-0-0103-JP-CI-01     JUZGADO DE PAZ LETRADO - FLORIDA                    AMAZONAS                LOLO JARA ESTELA         DAVILA HORNA HERMES WILMAN      10/01/2022       NO CONTENCIOSO  \\n\\t\\t\\t\\t\\t\\t\\t\\t\\t\\t\\t\\t\\n\\t\\t\\t\\t\\t\\t\\t\\t\\t...         CIVIL                                 SUCESION INTESTADA      ARCHIVO PROVISIONAL         GENERAL                     POOL ASIST. JUDICIAL            -------                                 SUCESION INTESTADA                [LOLO JARA ESTELA]              1\n",
       "3      00001-2022-0-0104-JP-CI-01   JUZGADO PAZ LETRADO - Sede Yutupis                    AMAZONAS     HUAMAN CULQUI IRMA MERCEDES      ELORRIAGA CHAVEZ ROMINA PAOLA      16/03/2022   UNICO DE EJECUCION  \\n\\t\\t\\t\\t\\t\\t\\t\\t\\t\\t\\t\\t\\n\\t\\t\\t\\t\\t\\t\\t\\t\\t...         CIVIL                   OBLIGACION DE DAR SUMA DE DINERO  EN PLAZO DE IMPUGNACION         GENERAL                     POOL ASIST. JUDICIAL            -------           DEMANDA OBLIGACION DE DAR SUMA DE DINERO     [HUAMAN CULQUI IRMA MERCEDES]              1\n",
       "4      00001-2022-0-0105-JP-CI-01   JUZGADO DE PAZ LETRADO - Sede Luya                    AMAZONAS  BARRERA BARDALES GUIMO ALBERTO  ANGULO CULLAMPE LIZETH DEL CARMEN      06/01/2022       NO CONTENCIOSO  \\n\\t\\t\\t\\t\\t\\t\\t\\t\\t\\t\\t\\t\\n\\t\\t\\t\\t\\t\\t\\t\\t\\t...         CIVIL                                 SUCESION INTESTADA    SENTENCIADO/ RESUELTO         GENERAL                     POOL ASIST. JUDICIAL            -------                      DEMANDA DE SUCESIÓN INTESTADA  [BARRERA BARDALES GUIMO ALBERTO]              1\n",
       "...                           ...                                  ...                         ...                             ...                                ...              ...                 ...                                                ...           ...                                                ...                      ...             ...               ...                    ...                ...                                                ...                               ...            ...\n",
       "56241  00006-2022-0-3301-JR-LA-01                   JUZGADO DE TRABAJO  PUENTE PIEDRA - VENTANILLA   POMA ALOSILLA NARDA KATHERINE        SALDAÑA GONZALEZ ADRIANA A.      06/01/2022            ORDINARIO  \\n\\t\\t\\t\\t\\t\\t\\t\\t\\t\\t\\t\\t\\n\\t\\t\\t\\t\\t\\t\\t\\t\\t...       LABORAL  PAGO DE BENEFICIOS SOCIALES Y/O INDEMNIZACION ...    EN TRAMITE(Pendiente)         GENERAL                     POOL ASIST. JUDICIAL            -------                        PAGO DE BENEFICIOS SOCIALES   [POMA ALOSILLA NARDA KATHERINE]              1\n",
       "56242  00007-2022-0-3301-JP-LA-01                   JUZGADO DE TRABAJO  PUENTE PIEDRA - VENTANILLA   POMA ALOSILLA NARDA KATHERINE        SALDAÑA GONZALEZ ADRIANA A.      07/01/2022            ABREVIADO  \\n\\t\\t\\t\\t\\t\\t\\t\\t\\t\\t\\t\\t\\n\\t\\t\\t\\t\\t\\t\\t\\t\\t...       LABORAL  PAGO DE BENEFICIOS SOCIALES Y/O INDEMNIZACION ...    EN TRAMITE(Pendiente)         GENERAL                    POOL ASIST.  DE AUDIO            -------                       PAGO DE BENEFICIOS LABORALES   [POMA ALOSILLA NARDA KATHERINE]              1\n",
       "56243  00007-2022-0-3301-JR-LA-01                   JUZGADO DE TRABAJO  PUENTE PIEDRA - VENTANILLA   POMA ALOSILLA NARDA KATHERINE        SALDAÑA GONZALEZ ADRIANA A.      07/01/2022            ORDINARIO  \\n\\t\\t\\t\\t\\t\\t\\t\\t\\t\\t\\t\\t\\n\\t\\t\\t\\t\\t\\t\\t\\t\\t...       LABORAL                      DESNATURALIZACIÓN DE CONTRATO    EN TRAMITE(Pendiente)         GENERAL                             ESPECIALISTA            -------  INTERPONGO DEMANDA POR DESNATURALIZACION DE CO...   [POMA ALOSILLA NARDA KATHERINE]              1\n",
       "56244  00008-2022-0-3301-JR-LA-01                   JUZGADO DE TRABAJO  PUENTE PIEDRA - VENTANILLA   POMA ALOSILLA NARDA KATHERINE        SALDAÑA GONZALEZ ADRIANA A.      11/01/2022            ORDINARIO  \\n\\t\\t\\t\\t\\t\\t\\t\\t\\t\\t\\t\\t\\n\\t\\t\\t\\t\\t\\t\\t\\t\\t...       LABORAL  INCUMPLIMIENTO DE DISPOSICIONES Y NORMAS LABOR...    EN TRAMITE(Pendiente)         GENERAL                    POOL ASIST.  DE AUDIO            -------                       DEMANDA SOBRE INCUMPLIMIENTO   [POMA ALOSILLA NARDA KATHERINE]              1\n",
       "56245  00009-2022-0-3301-JR-LA-01                   JUZGADO DE TRABAJO  PUENTE PIEDRA - VENTANILLA   POMA ALOSILLA NARDA KATHERINE               ROMAN AMPUERO SUSANA      12/01/2022            ORDINARIO  \\n\\t\\t\\t\\t\\t\\t\\t\\t\\t\\t\\t\\t\\n\\t\\t\\t\\t\\t\\t\\t\\t\\t...       LABORAL                      DESNATURALIZACIÓN DE CONTRATO       ARCHIVO DEFINITIVO         GENERAL                     POOL ASIST. JUDICIAL            -------  DEMANDA DE DESNATURALIZACION E INVALIDEZ DE CO...   [POMA ALOSILLA NARDA KATHERINE]              1\n",
       "\n",
       "[54533 rows x 18 columns]"
      ]
     },
     "execution_count": 198,
     "metadata": {},
     "output_type": "execute_result"
    }
   ],
   "source": [
    "files_reports = files_reports.rename(columns = {'juez_':'juez'})\n",
    "files_reports"
   ]
  },
  {
   "cell_type": "code",
   "execution_count": 200,
   "id": "f80737ca",
   "metadata": {
    "scrolled": false
   },
   "outputs": [],
   "source": [
    "reportes_amag_ii_raw = pd.merge(amag_ii_cases, files_reports, how=\"inner\", on=\"juez\")"
   ]
  },
  {
   "cell_type": "code",
   "execution_count": 201,
   "id": "4f340e85",
   "metadata": {},
   "outputs": [
    {
     "data": {
      "text/html": [
       "<div>\n",
       "<style scoped>\n",
       "    .dataframe tbody tr th:only-of-type {\n",
       "        vertical-align: middle;\n",
       "    }\n",
       "\n",
       "    .dataframe tbody tr th {\n",
       "        vertical-align: top;\n",
       "    }\n",
       "\n",
       "    .dataframe thead th {\n",
       "        text-align: right;\n",
       "    }\n",
       "</style>\n",
       "<table border=\"1\" class=\"dataframe\">\n",
       "  <thead>\n",
       "    <tr style=\"text-align: right;\">\n",
       "      <th></th>\n",
       "      <th>juez</th>\n",
       "      <th>nrodocumento</th>\n",
       "      <th>ApellidoPaterno</th>\n",
       "      <th>ApellidoMaterno</th>\n",
       "      <th>Nombres</th>\n",
       "      <th>expediente_n°_</th>\n",
       "      <th>organo_jurisdiccional_</th>\n",
       "      <th>distrito_judicial_</th>\n",
       "      <th>especialista_legal_</th>\n",
       "      <th>fecha_de_inicio_</th>\n",
       "      <th>...</th>\n",
       "      <th>especialidad_</th>\n",
       "      <th>materia_s_</th>\n",
       "      <th>estado_</th>\n",
       "      <th>etapa_procesal_</th>\n",
       "      <th>fecha_conclusion_</th>\n",
       "      <th>ubicacion_</th>\n",
       "      <th>motivo_conclusion_</th>\n",
       "      <th>sumilla_</th>\n",
       "      <th>juez_splitted</th>\n",
       "      <th>n_judges_case</th>\n",
       "    </tr>\n",
       "  </thead>\n",
       "  <tbody>\n",
       "    <tr>\n",
       "      <th>0</th>\n",
       "      <td>LUIS ALVIN QUISPE SANCHEZ</td>\n",
       "      <td>41929968</td>\n",
       "      <td>QUISPE</td>\n",
       "      <td>SANCHEZ</td>\n",
       "      <td>LUIS ALVIN</td>\n",
       "      <td>00041-2022-0-0605-JP-CI-01</td>\n",
       "      <td>JUZGADO CIVIL - SEDE BAMBAMARCA</td>\n",
       "      <td>CAJAMARCA</td>\n",
       "      <td>VASQUEZ DIAZ ROYER JARLIN</td>\n",
       "      <td>16/06/2022</td>\n",
       "      <td>...</td>\n",
       "      <td>CIVIL</td>\n",
       "      <td>INDEMNIZACION POR DAÑOS Y PERJUICIOS</td>\n",
       "      <td>INADMISIBLE</td>\n",
       "      <td>GENERAL</td>\n",
       "      <td></td>\n",
       "      <td>ESPECIALISTA</td>\n",
       "      <td>-------</td>\n",
       "      <td>DEMANDA DE DAÑOS Y PERJUICIOS DERIVADOS DE RES...</td>\n",
       "      <td>[LUIS ALVIN QUISPE SANCHEZ]</td>\n",
       "      <td>1</td>\n",
       "    </tr>\n",
       "    <tr>\n",
       "      <th>1</th>\n",
       "      <td>LUIS ALVIN QUISPE SANCHEZ</td>\n",
       "      <td>41929968</td>\n",
       "      <td>QUISPE</td>\n",
       "      <td>SANCHEZ</td>\n",
       "      <td>LUIS ALVIN</td>\n",
       "      <td>00020-2022-65-0605-JP-FC-01</td>\n",
       "      <td>JUZGADO CIVIL - SEDE BAMBAMARCA</td>\n",
       "      <td>CAJAMARCA</td>\n",
       "      <td>VASQUEZ DIAZ ROYER JARLIN</td>\n",
       "      <td>31/08/2022</td>\n",
       "      <td>...</td>\n",
       "      <td>FAMILIA CIVIL</td>\n",
       "      <td>AUMENTO DE ALIMENTOS</td>\n",
       "      <td>SENTENCIADO/ RESUELTO</td>\n",
       "      <td>GENERAL</td>\n",
       "      <td></td>\n",
       "      <td>POOL ASIST. JUDICIAL</td>\n",
       "      <td>-------</td>\n",
       "      <td>CUADERNO DE APELACION DE SENTENCIA</td>\n",
       "      <td>[LUIS ALVIN QUISPE SANCHEZ]</td>\n",
       "      <td>1</td>\n",
       "    </tr>\n",
       "    <tr>\n",
       "      <th>2</th>\n",
       "      <td>LUIS ALVIN QUISPE SANCHEZ</td>\n",
       "      <td>41929968</td>\n",
       "      <td>QUISPE</td>\n",
       "      <td>SANCHEZ</td>\n",
       "      <td>LUIS ALVIN</td>\n",
       "      <td>00025-2022-0-0610-JP-FC-01</td>\n",
       "      <td>JUZGADO CIVIL - SEDE BAMBAMARCA</td>\n",
       "      <td>CAJAMARCA</td>\n",
       "      <td>VASQUEZ DIAZ ROYER JARLIN</td>\n",
       "      <td>04/02/2022</td>\n",
       "      <td>...</td>\n",
       "      <td>FAMILIA CIVIL</td>\n",
       "      <td>FILIACION</td>\n",
       "      <td>PARA VISTA DE LA CAUSA</td>\n",
       "      <td>GENERAL</td>\n",
       "      <td></td>\n",
       "      <td>POOL ASIST. JUDICIAL</td>\n",
       "      <td>-------</td>\n",
       "      <td>DEMANDA DE FILIACIÓN DE PATERNIDAD EXTRAMATRIM...</td>\n",
       "      <td>[LUIS ALVIN QUISPE SANCHEZ]</td>\n",
       "      <td>1</td>\n",
       "    </tr>\n",
       "    <tr>\n",
       "      <th>3</th>\n",
       "      <td>LUIS ALVIN QUISPE SANCHEZ</td>\n",
       "      <td>41929968</td>\n",
       "      <td>QUISPE</td>\n",
       "      <td>SANCHEZ</td>\n",
       "      <td>LUIS ALVIN</td>\n",
       "      <td>00026-2022-72-0605-JP-FC-01</td>\n",
       "      <td>JUZGADO CIVIL - SEDE BAMBAMARCA</td>\n",
       "      <td>CAJAMARCA</td>\n",
       "      <td>VASQUEZ DIAZ ROYER JARLIN</td>\n",
       "      <td>10/03/2023</td>\n",
       "      <td>...</td>\n",
       "      <td>FAMILIA CIVIL</td>\n",
       "      <td>ALIMENTOS</td>\n",
       "      <td>PARA VISTA DE LA CAUSA</td>\n",
       "      <td>GENERAL</td>\n",
       "      <td></td>\n",
       "      <td>POOL ASIST. JUDICIAL</td>\n",
       "      <td>-------</td>\n",
       "      <td>CUADERNO DEAPELACION DE SENTENCIA</td>\n",
       "      <td>[LUIS ALVIN QUISPE SANCHEZ]</td>\n",
       "      <td>1</td>\n",
       "    </tr>\n",
       "    <tr>\n",
       "      <th>4</th>\n",
       "      <td>LUIS ALVIN QUISPE SANCHEZ</td>\n",
       "      <td>41929968</td>\n",
       "      <td>QUISPE</td>\n",
       "      <td>SANCHEZ</td>\n",
       "      <td>LUIS ALVIN</td>\n",
       "      <td>00027-2022-2-0605-JP-FC-01</td>\n",
       "      <td>JUZGADO CIVIL - SEDE BAMBAMARCA</td>\n",
       "      <td>CAJAMARCA</td>\n",
       "      <td>VASQUEZ DIAZ ROYER JARLIN</td>\n",
       "      <td>10/03/2023</td>\n",
       "      <td>...</td>\n",
       "      <td>FAMILIA CIVIL</td>\n",
       "      <td>ALIMENTOS</td>\n",
       "      <td>APELADO</td>\n",
       "      <td>GENERAL</td>\n",
       "      <td></td>\n",
       "      <td>POOL ASIST. JUDICIAL</td>\n",
       "      <td>-------</td>\n",
       "      <td>CUADERNO DE APELACION DE SENTENCIA</td>\n",
       "      <td>[LUIS ALVIN QUISPE SANCHEZ]</td>\n",
       "      <td>1</td>\n",
       "    </tr>\n",
       "    <tr>\n",
       "      <th>...</th>\n",
       "      <td>...</td>\n",
       "      <td>...</td>\n",
       "      <td>...</td>\n",
       "      <td>...</td>\n",
       "      <td>...</td>\n",
       "      <td>...</td>\n",
       "      <td>...</td>\n",
       "      <td>...</td>\n",
       "      <td>...</td>\n",
       "      <td>...</td>\n",
       "      <td>...</td>\n",
       "      <td>...</td>\n",
       "      <td>...</td>\n",
       "      <td>...</td>\n",
       "      <td>...</td>\n",
       "      <td>...</td>\n",
       "      <td>...</td>\n",
       "      <td>...</td>\n",
       "      <td>...</td>\n",
       "      <td>...</td>\n",
       "      <td>...</td>\n",
       "    </tr>\n",
       "    <tr>\n",
       "      <th>2655</th>\n",
       "      <td>ZUÑIGA PORTOCARRERO LINO</td>\n",
       "      <td>29558906</td>\n",
       "      <td>ZUÑIGA</td>\n",
       "      <td>PORTOCARRERO</td>\n",
       "      <td>LINO YSAURO</td>\n",
       "      <td>00221-2022-0-0412-JR-CI-01</td>\n",
       "      <td>1º JUZGADO CIVIL DE PAUCARPATA</td>\n",
       "      <td>AREQUIPA</td>\n",
       "      <td>BENAVIDES CASTILLO MAX MAYKOL</td>\n",
       "      <td>13/01/2022</td>\n",
       "      <td>...</td>\n",
       "      <td>CIVIL</td>\n",
       "      <td>NULIDAD DE ACTO JURIDICO</td>\n",
       "      <td>IMPROCEDENTE</td>\n",
       "      <td>GENERAL</td>\n",
       "      <td></td>\n",
       "      <td>ARCHIVO (ENVIADO)</td>\n",
       "      <td>-------</td>\n",
       "      <td>DEMANDA</td>\n",
       "      <td>[ZUÑIGA PORTOCARRERO LINO]</td>\n",
       "      <td>1</td>\n",
       "    </tr>\n",
       "    <tr>\n",
       "      <th>2656</th>\n",
       "      <td>ZUÑIGA PORTOCARRERO LINO</td>\n",
       "      <td>29558906</td>\n",
       "      <td>ZUÑIGA</td>\n",
       "      <td>PORTOCARRERO</td>\n",
       "      <td>LINO YSAURO</td>\n",
       "      <td>00023-2022-0-0412-JR-CI-01</td>\n",
       "      <td>1º JUZGADO CIVIL DE PAUCARPATA</td>\n",
       "      <td>AREQUIPA</td>\n",
       "      <td>SANDOVAL LOAYZA, SHEYLA MAGALY</td>\n",
       "      <td>05/01/2022</td>\n",
       "      <td>...</td>\n",
       "      <td>CIVIL</td>\n",
       "      <td>INDEMNIZACION</td>\n",
       "      <td>IMPROCEDENTE</td>\n",
       "      <td>GENERAL</td>\n",
       "      <td></td>\n",
       "      <td>ARCHIVO GENERAL</td>\n",
       "      <td>-------</td>\n",
       "      <td>DEMANDA</td>\n",
       "      <td>[ZUÑIGA PORTOCARRERO LINO]</td>\n",
       "      <td>1</td>\n",
       "    </tr>\n",
       "    <tr>\n",
       "      <th>2657</th>\n",
       "      <td>ZUÑIGA PORTOCARRERO LINO</td>\n",
       "      <td>29558906</td>\n",
       "      <td>ZUÑIGA</td>\n",
       "      <td>PORTOCARRERO</td>\n",
       "      <td>LINO YSAURO</td>\n",
       "      <td>00080-2022-0-0412-JR-CI-01</td>\n",
       "      <td>1º JUZGADO CIVIL DE PAUCARPATA</td>\n",
       "      <td>AREQUIPA</td>\n",
       "      <td>TORREBLANCA GOMEZ CHRISTIAN OMAR</td>\n",
       "      <td>06/01/2022</td>\n",
       "      <td>...</td>\n",
       "      <td>CIVIL</td>\n",
       "      <td>OBLIGACION DE DAR SUMA DE DINERO</td>\n",
       "      <td>EJECUCION</td>\n",
       "      <td>GENERAL</td>\n",
       "      <td></td>\n",
       "      <td>ARCHIVO MODULAR</td>\n",
       "      <td>-------</td>\n",
       "      <td>DEMANDA</td>\n",
       "      <td>[ZUÑIGA PORTOCARRERO LINO]</td>\n",
       "      <td>1</td>\n",
       "    </tr>\n",
       "    <tr>\n",
       "      <th>2658</th>\n",
       "      <td>ZUÑIGA PORTOCARRERO LINO</td>\n",
       "      <td>29558906</td>\n",
       "      <td>ZUÑIGA</td>\n",
       "      <td>PORTOCARRERO</td>\n",
       "      <td>LINO YSAURO</td>\n",
       "      <td>00009-2022-0-0412-JR-CI-01</td>\n",
       "      <td>1º JUZGADO CIVIL DE PAUCARPATA</td>\n",
       "      <td>AREQUIPA</td>\n",
       "      <td>BENAVIDES CASTILLO MAX MAYKOL</td>\n",
       "      <td>05/01/2022</td>\n",
       "      <td>...</td>\n",
       "      <td>CIVIL</td>\n",
       "      <td>PRESCRIPCION ADQUISITIVA</td>\n",
       "      <td>IMPROCEDENTE</td>\n",
       "      <td>GENERAL</td>\n",
       "      <td></td>\n",
       "      <td>ARCHIVO (ENVIADO)</td>\n",
       "      <td>-------</td>\n",
       "      <td>DEMANDA</td>\n",
       "      <td>[ZUÑIGA PORTOCARRERO LINO]</td>\n",
       "      <td>1</td>\n",
       "    </tr>\n",
       "    <tr>\n",
       "      <th>2659</th>\n",
       "      <td>ZUÑIGA PORTOCARRERO LINO</td>\n",
       "      <td>29558906</td>\n",
       "      <td>ZUÑIGA</td>\n",
       "      <td>PORTOCARRERO</td>\n",
       "      <td>LINO YSAURO</td>\n",
       "      <td>00092-2022-0-0412-JR-CI-01</td>\n",
       "      <td>1º JUZGADO CIVIL DE PAUCARPATA</td>\n",
       "      <td>AREQUIPA</td>\n",
       "      <td>TORREBLANCA GOMEZ CHRISTIAN OMAR</td>\n",
       "      <td>06/01/2022</td>\n",
       "      <td>...</td>\n",
       "      <td>CIVIL</td>\n",
       "      <td>CAMBIO DE NOMBRE, SUPRESION DE NOMBRE Y/O ADIC...</td>\n",
       "      <td>EJECUCION</td>\n",
       "      <td>GENERAL</td>\n",
       "      <td></td>\n",
       "      <td>ARCHIVO MODULAR</td>\n",
       "      <td>-------</td>\n",
       "      <td>DEMANDA</td>\n",
       "      <td>[ZUÑIGA PORTOCARRERO LINO]</td>\n",
       "      <td>1</td>\n",
       "    </tr>\n",
       "  </tbody>\n",
       "</table>\n",
       "<p>2660 rows × 22 columns</p>\n",
       "</div>"
      ],
      "text/plain": [
       "                           juez  nrodocumento ApellidoPaterno ApellidoMaterno      Nombres               expediente_n°_           organo_jurisdiccional_ distrito_judicial_               especialista_legal_ fecha_de_inicio_  ...  especialidad_                                         materia_s_                 estado_ etapa_procesal_ fecha_conclusion_            ubicacion_ motivo_conclusion_                                           sumilla_                juez_splitted n_judges_case\n",
       "0     LUIS ALVIN QUISPE SANCHEZ      41929968          QUISPE         SANCHEZ   LUIS ALVIN   00041-2022-0-0605-JP-CI-01  JUZGADO CIVIL - SEDE BAMBAMARCA          CAJAMARCA         VASQUEZ DIAZ ROYER JARLIN      16/06/2022   ...          CIVIL               INDEMNIZACION POR DAÑOS Y PERJUICIOS             INADMISIBLE         GENERAL                            ESPECIALISTA            -------  DEMANDA DE DAÑOS Y PERJUICIOS DERIVADOS DE RES...  [LUIS ALVIN QUISPE SANCHEZ]             1\n",
       "1     LUIS ALVIN QUISPE SANCHEZ      41929968          QUISPE         SANCHEZ   LUIS ALVIN  00020-2022-65-0605-JP-FC-01  JUZGADO CIVIL - SEDE BAMBAMARCA          CAJAMARCA         VASQUEZ DIAZ ROYER JARLIN      31/08/2022   ...  FAMILIA CIVIL                               AUMENTO DE ALIMENTOS   SENTENCIADO/ RESUELTO         GENERAL                    POOL ASIST. JUDICIAL            -------                 CUADERNO DE APELACION DE SENTENCIA  [LUIS ALVIN QUISPE SANCHEZ]             1\n",
       "2     LUIS ALVIN QUISPE SANCHEZ      41929968          QUISPE         SANCHEZ   LUIS ALVIN   00025-2022-0-0610-JP-FC-01  JUZGADO CIVIL - SEDE BAMBAMARCA          CAJAMARCA         VASQUEZ DIAZ ROYER JARLIN      04/02/2022   ...  FAMILIA CIVIL                                          FILIACION  PARA VISTA DE LA CAUSA         GENERAL                    POOL ASIST. JUDICIAL            -------  DEMANDA DE FILIACIÓN DE PATERNIDAD EXTRAMATRIM...  [LUIS ALVIN QUISPE SANCHEZ]             1\n",
       "3     LUIS ALVIN QUISPE SANCHEZ      41929968          QUISPE         SANCHEZ   LUIS ALVIN  00026-2022-72-0605-JP-FC-01  JUZGADO CIVIL - SEDE BAMBAMARCA          CAJAMARCA         VASQUEZ DIAZ ROYER JARLIN      10/03/2023   ...  FAMILIA CIVIL                                          ALIMENTOS  PARA VISTA DE LA CAUSA         GENERAL                    POOL ASIST. JUDICIAL            -------                  CUADERNO DEAPELACION DE SENTENCIA  [LUIS ALVIN QUISPE SANCHEZ]             1\n",
       "4     LUIS ALVIN QUISPE SANCHEZ      41929968          QUISPE         SANCHEZ   LUIS ALVIN   00027-2022-2-0605-JP-FC-01  JUZGADO CIVIL - SEDE BAMBAMARCA          CAJAMARCA         VASQUEZ DIAZ ROYER JARLIN      10/03/2023   ...  FAMILIA CIVIL                                          ALIMENTOS                 APELADO         GENERAL                    POOL ASIST. JUDICIAL            -------                 CUADERNO DE APELACION DE SENTENCIA  [LUIS ALVIN QUISPE SANCHEZ]             1\n",
       "...                         ...           ...             ...             ...          ...                          ...                              ...                ...                               ...              ...  ...            ...                                                ...                     ...             ...               ...                   ...                ...                                                ...                          ...           ...\n",
       "2655   ZUÑIGA PORTOCARRERO LINO      29558906          ZUÑIGA    PORTOCARRERO  LINO YSAURO   00221-2022-0-0412-JR-CI-01   1º JUZGADO CIVIL DE PAUCARPATA           AREQUIPA     BENAVIDES CASTILLO MAX MAYKOL      13/01/2022   ...          CIVIL                           NULIDAD DE ACTO JURIDICO            IMPROCEDENTE         GENERAL                       ARCHIVO (ENVIADO)            -------                                            DEMANDA   [ZUÑIGA PORTOCARRERO LINO]             1\n",
       "2656   ZUÑIGA PORTOCARRERO LINO      29558906          ZUÑIGA    PORTOCARRERO  LINO YSAURO   00023-2022-0-0412-JR-CI-01   1º JUZGADO CIVIL DE PAUCARPATA           AREQUIPA    SANDOVAL LOAYZA, SHEYLA MAGALY      05/01/2022   ...          CIVIL                                      INDEMNIZACION            IMPROCEDENTE         GENERAL                         ARCHIVO GENERAL            -------                                            DEMANDA   [ZUÑIGA PORTOCARRERO LINO]             1\n",
       "2657   ZUÑIGA PORTOCARRERO LINO      29558906          ZUÑIGA    PORTOCARRERO  LINO YSAURO   00080-2022-0-0412-JR-CI-01   1º JUZGADO CIVIL DE PAUCARPATA           AREQUIPA  TORREBLANCA GOMEZ CHRISTIAN OMAR      06/01/2022   ...          CIVIL                   OBLIGACION DE DAR SUMA DE DINERO               EJECUCION         GENERAL                         ARCHIVO MODULAR            -------                                            DEMANDA   [ZUÑIGA PORTOCARRERO LINO]             1\n",
       "2658   ZUÑIGA PORTOCARRERO LINO      29558906          ZUÑIGA    PORTOCARRERO  LINO YSAURO   00009-2022-0-0412-JR-CI-01   1º JUZGADO CIVIL DE PAUCARPATA           AREQUIPA     BENAVIDES CASTILLO MAX MAYKOL      05/01/2022   ...          CIVIL                           PRESCRIPCION ADQUISITIVA            IMPROCEDENTE         GENERAL                       ARCHIVO (ENVIADO)            -------                                            DEMANDA   [ZUÑIGA PORTOCARRERO LINO]             1\n",
       "2659   ZUÑIGA PORTOCARRERO LINO      29558906          ZUÑIGA    PORTOCARRERO  LINO YSAURO   00092-2022-0-0412-JR-CI-01   1º JUZGADO CIVIL DE PAUCARPATA           AREQUIPA  TORREBLANCA GOMEZ CHRISTIAN OMAR      06/01/2022   ...          CIVIL  CAMBIO DE NOMBRE, SUPRESION DE NOMBRE Y/O ADIC...               EJECUCION         GENERAL                         ARCHIVO MODULAR            -------                                            DEMANDA   [ZUÑIGA PORTOCARRERO LINO]             1\n",
       "\n",
       "[2660 rows x 22 columns]"
      ]
     },
     "execution_count": 201,
     "metadata": {},
     "output_type": "execute_result"
    }
   ],
   "source": [
    "reportes_amag_ii_raw"
   ]
  },
  {
   "cell_type": "code",
   "execution_count": 202,
   "id": "cff08574",
   "metadata": {
    "scrolled": false
   },
   "outputs": [
    {
     "data": {
      "text/html": [
       "<div>\n",
       "<style scoped>\n",
       "    .dataframe tbody tr th:only-of-type {\n",
       "        vertical-align: middle;\n",
       "    }\n",
       "\n",
       "    .dataframe tbody tr th {\n",
       "        vertical-align: top;\n",
       "    }\n",
       "\n",
       "    .dataframe thead th {\n",
       "        text-align: right;\n",
       "    }\n",
       "</style>\n",
       "<table border=\"1\" class=\"dataframe\">\n",
       "  <thead>\n",
       "    <tr style=\"text-align: right;\">\n",
       "      <th></th>\n",
       "      <th>juez</th>\n",
       "      <th>nrodocumento</th>\n",
       "      <th>ApellidoPaterno</th>\n",
       "      <th>ApellidoMaterno</th>\n",
       "      <th>Nombres</th>\n",
       "      <th>expediente_n°_</th>\n",
       "      <th>organo_jurisdiccional_</th>\n",
       "      <th>distrito_judicial_</th>\n",
       "      <th>especialista_legal_</th>\n",
       "      <th>fecha_de_inicio_</th>\n",
       "      <th>...</th>\n",
       "      <th>n_judges_case</th>\n",
       "      <th>link</th>\n",
       "      <th>fecha_de_resolucion_ingreso_</th>\n",
       "      <th>resolucion_</th>\n",
       "      <th>tipo_de_notificacion_</th>\n",
       "      <th>acto_</th>\n",
       "      <th>fojas_folios_</th>\n",
       "      <th>proveido_</th>\n",
       "      <th>sumilla__y</th>\n",
       "      <th>descripcion_de_usuario_</th>\n",
       "    </tr>\n",
       "  </thead>\n",
       "  <tbody>\n",
       "    <tr>\n",
       "      <th>0</th>\n",
       "      <td>LUIS ALVIN QUISPE SANCHEZ</td>\n",
       "      <td>41929968</td>\n",
       "      <td>QUISPE</td>\n",
       "      <td>SANCHEZ</td>\n",
       "      <td>LUIS ALVIN</td>\n",
       "      <td>00041-2022-0-0605-JP-CI-01</td>\n",
       "      <td>JUZGADO CIVIL - SEDE BAMBAMARCA</td>\n",
       "      <td>CAJAMARCA</td>\n",
       "      <td>VASQUEZ DIAZ ROYER JARLIN</td>\n",
       "      <td>16/06/2022</td>\n",
       "      <td>...</td>\n",
       "      <td>1</td>\n",
       "      <td>documentoD.html?nid=cPgcldZpqPFZqkAgOKDZ</td>\n",
       "      <td>21/03/2023</td>\n",
       "      <td>DOS</td>\n",
       "      <td>NaN</td>\n",
       "      <td>AUTO INADMISIBLE</td>\n",
       "      <td>3.0</td>\n",
       "      <td>21/03/2023</td>\n",
       "      <td>\\n\\t\\t\\t\\t\\t\\t\\t\\t\\t\\t\\t\\t\\t\\t\\t\\t1.\\tDECLARAR...</td>\n",
       "      <td>\\n\\t\\t\\t\\t\\t\\t\\t\\t\\t\\t\\t\\t\\t\\t\\t\\tDESCARGADO P...</td>\n",
       "    </tr>\n",
       "    <tr>\n",
       "      <th>1</th>\n",
       "      <td>LUIS ALVIN QUISPE SANCHEZ</td>\n",
       "      <td>41929968</td>\n",
       "      <td>QUISPE</td>\n",
       "      <td>SANCHEZ</td>\n",
       "      <td>LUIS ALVIN</td>\n",
       "      <td>00041-2022-0-0605-JP-CI-01</td>\n",
       "      <td>JUZGADO CIVIL - SEDE BAMBAMARCA</td>\n",
       "      <td>CAJAMARCA</td>\n",
       "      <td>VASQUEZ DIAZ ROYER JARLIN</td>\n",
       "      <td>16/06/2022</td>\n",
       "      <td>...</td>\n",
       "      <td>1</td>\n",
       "      <td>NaN</td>\n",
       "      <td>25/07/2022 09:08</td>\n",
       "      <td>NaN</td>\n",
       "      <td>NaN</td>\n",
       "      <td>NOTA</td>\n",
       "      <td>NaN</td>\n",
       "      <td>25/07/2022</td>\n",
       "      <td>\\n\\t\\t\\t\\t\\t\\t\\t\\t\\t\\t\\t\\t\\t\\t\\t\\tEL EXPEDIENT...</td>\n",
       "      <td>\\n\\t\\t\\t\\t\\t\\t\\t\\t\\t\\t\\t\\t\\t\\t\\t\\tINGRESADO PO...</td>\n",
       "    </tr>\n",
       "    <tr>\n",
       "      <th>2</th>\n",
       "      <td>LUIS ALVIN QUISPE SANCHEZ</td>\n",
       "      <td>41929968</td>\n",
       "      <td>QUISPE</td>\n",
       "      <td>SANCHEZ</td>\n",
       "      <td>LUIS ALVIN</td>\n",
       "      <td>00041-2022-0-0605-JP-CI-01</td>\n",
       "      <td>JUZGADO CIVIL - SEDE BAMBAMARCA</td>\n",
       "      <td>CAJAMARCA</td>\n",
       "      <td>VASQUEZ DIAZ ROYER JARLIN</td>\n",
       "      <td>16/06/2022</td>\n",
       "      <td>...</td>\n",
       "      <td>1</td>\n",
       "      <td>documentoD.html?nid=nTSaIWwzePYhvLfpaBlX</td>\n",
       "      <td>28/06/2022</td>\n",
       "      <td>UNO</td>\n",
       "      <td>Pta. Cedula Not.</td>\n",
       "      <td>AUTO IMPROCEDENTE</td>\n",
       "      <td>2.0</td>\n",
       "      <td>28/06/2022</td>\n",
       "      <td>\\n\\t\\t\\t\\t\\t\\t\\t\\t\\t\\t\\t\\t\\t\\t\\t\\tRESUELVE: \\n...</td>\n",
       "      <td>\\n\\t\\t\\t\\t\\t\\t\\t\\t\\t\\t\\t\\t\\t\\t\\t\\tDESCARGADO P...</td>\n",
       "    </tr>\n",
       "    <tr>\n",
       "      <th>3</th>\n",
       "      <td>LUIS ALVIN QUISPE SANCHEZ</td>\n",
       "      <td>41929968</td>\n",
       "      <td>QUISPE</td>\n",
       "      <td>SANCHEZ</td>\n",
       "      <td>LUIS ALVIN</td>\n",
       "      <td>00041-2022-0-0605-JP-CI-01</td>\n",
       "      <td>JUZGADO CIVIL - SEDE BAMBAMARCA</td>\n",
       "      <td>CAJAMARCA</td>\n",
       "      <td>VASQUEZ DIAZ ROYER JARLIN</td>\n",
       "      <td>16/06/2022</td>\n",
       "      <td>...</td>\n",
       "      <td>1</td>\n",
       "      <td>NaN</td>\n",
       "      <td>11/01/2023 16:00</td>\n",
       "      <td>NaN</td>\n",
       "      <td>NaN</td>\n",
       "      <td>REDISTRIBUCION</td>\n",
       "      <td>8.0</td>\n",
       "      <td>11/01/2023</td>\n",
       "      <td>\\n\\t\\t\\t\\t\\t\\t\\t\\t\\t\\t\\t\\t\\t\\t\\t\\tCONTIENDA DE...</td>\n",
       "      <td>\\n\\t\\t\\t\\t\\t\\t\\t\\t\\t\\t\\t\\t\\t\\t\\t\\tINGRESADO PO...</td>\n",
       "    </tr>\n",
       "    <tr>\n",
       "      <th>4</th>\n",
       "      <td>LUIS ALVIN QUISPE SANCHEZ</td>\n",
       "      <td>41929968</td>\n",
       "      <td>QUISPE</td>\n",
       "      <td>SANCHEZ</td>\n",
       "      <td>LUIS ALVIN</td>\n",
       "      <td>00041-2022-0-0605-JP-CI-01</td>\n",
       "      <td>JUZGADO CIVIL - SEDE BAMBAMARCA</td>\n",
       "      <td>CAJAMARCA</td>\n",
       "      <td>VASQUEZ DIAZ ROYER JARLIN</td>\n",
       "      <td>16/06/2022</td>\n",
       "      <td>...</td>\n",
       "      <td>1</td>\n",
       "      <td>NaN</td>\n",
       "      <td>22/07/2022 17:25</td>\n",
       "      <td>NaN</td>\n",
       "      <td>NaN</td>\n",
       "      <td>NOTA</td>\n",
       "      <td>NaN</td>\n",
       "      <td>22/07/2022</td>\n",
       "      <td>\\n\\t\\t\\t\\t\\t\\t\\t\\t\\t\\t\\t\\t\\t\\t\\t\\tEL EXPEDIENT...</td>\n",
       "      <td>\\n\\t\\t\\t\\t\\t\\t\\t\\t\\t\\t\\t\\t\\t\\t\\t\\tINGRESADO PO...</td>\n",
       "    </tr>\n",
       "    <tr>\n",
       "      <th>...</th>\n",
       "      <td>...</td>\n",
       "      <td>...</td>\n",
       "      <td>...</td>\n",
       "      <td>...</td>\n",
       "      <td>...</td>\n",
       "      <td>...</td>\n",
       "      <td>...</td>\n",
       "      <td>...</td>\n",
       "      <td>...</td>\n",
       "      <td>...</td>\n",
       "      <td>...</td>\n",
       "      <td>...</td>\n",
       "      <td>...</td>\n",
       "      <td>...</td>\n",
       "      <td>...</td>\n",
       "      <td>...</td>\n",
       "      <td>...</td>\n",
       "      <td>...</td>\n",
       "      <td>...</td>\n",
       "      <td>...</td>\n",
       "      <td>...</td>\n",
       "    </tr>\n",
       "    <tr>\n",
       "      <th>23825</th>\n",
       "      <td>ZUÑIGA PORTOCARRERO LINO</td>\n",
       "      <td>29558906</td>\n",
       "      <td>ZUÑIGA</td>\n",
       "      <td>PORTOCARRERO</td>\n",
       "      <td>LINO YSAURO</td>\n",
       "      <td>00092-2022-0-0412-JR-CI-01</td>\n",
       "      <td>1º JUZGADO CIVIL DE PAUCARPATA</td>\n",
       "      <td>AREQUIPA</td>\n",
       "      <td>TORREBLANCA GOMEZ CHRISTIAN OMAR</td>\n",
       "      <td>06/01/2022</td>\n",
       "      <td>...</td>\n",
       "      <td>1</td>\n",
       "      <td>NaN</td>\n",
       "      <td>03/03/2022 11:54</td>\n",
       "      <td>AUDIENCIA Y SENTENCIA</td>\n",
       "      <td>NaN</td>\n",
       "      <td>ESCRITO</td>\n",
       "      <td>3.0</td>\n",
       "      <td>11/03/2022</td>\n",
       "      <td>\\n\\t\\t\\t\\t\\t\\t\\t\\t\\t\\t\\t\\t\\t\\t\\t\\tADJUNTA PUBL...</td>\n",
       "      <td>\\n\\t\\t\\t\\t\\t\\t\\t\\t\\t\\t\\t\\t\\t\\t\\t\\tINGRESADO PO...</td>\n",
       "    </tr>\n",
       "    <tr>\n",
       "      <th>23826</th>\n",
       "      <td>ZUÑIGA PORTOCARRERO LINO</td>\n",
       "      <td>29558906</td>\n",
       "      <td>ZUÑIGA</td>\n",
       "      <td>PORTOCARRERO</td>\n",
       "      <td>LINO YSAURO</td>\n",
       "      <td>00092-2022-0-0412-JR-CI-01</td>\n",
       "      <td>1º JUZGADO CIVIL DE PAUCARPATA</td>\n",
       "      <td>AREQUIPA</td>\n",
       "      <td>TORREBLANCA GOMEZ CHRISTIAN OMAR</td>\n",
       "      <td>06/01/2022</td>\n",
       "      <td>...</td>\n",
       "      <td>1</td>\n",
       "      <td>NaN</td>\n",
       "      <td>11/08/2022</td>\n",
       "      <td>S/N</td>\n",
       "      <td>NaN</td>\n",
       "      <td>NOTA</td>\n",
       "      <td>1.0</td>\n",
       "      <td>11/08/2022</td>\n",
       "      <td>\\n\\t\\t\\t\\t\\t\\t\\t\\t\\t\\t\\t\\t\\t\\t\\t\\tNOTA\\n\\t\\t\\t...</td>\n",
       "      <td>\\n\\t\\t\\t\\t\\t\\t\\t\\t\\t\\t\\t\\t\\t\\t\\t\\tDESCARGADO P...</td>\n",
       "    </tr>\n",
       "    <tr>\n",
       "      <th>23827</th>\n",
       "      <td>ZUÑIGA PORTOCARRERO LINO</td>\n",
       "      <td>29558906</td>\n",
       "      <td>ZUÑIGA</td>\n",
       "      <td>PORTOCARRERO</td>\n",
       "      <td>LINO YSAURO</td>\n",
       "      <td>00092-2022-0-0412-JR-CI-01</td>\n",
       "      <td>1º JUZGADO CIVIL DE PAUCARPATA</td>\n",
       "      <td>AREQUIPA</td>\n",
       "      <td>TORREBLANCA GOMEZ CHRISTIAN OMAR</td>\n",
       "      <td>06/01/2022</td>\n",
       "      <td>...</td>\n",
       "      <td>1</td>\n",
       "      <td>NaN</td>\n",
       "      <td>14/03/2022 17:14</td>\n",
       "      <td>SIETE</td>\n",
       "      <td>NaN</td>\n",
       "      <td>ESCRITO</td>\n",
       "      <td>3.0</td>\n",
       "      <td>18/03/2022</td>\n",
       "      <td>\\n\\t\\t\\t\\t\\t\\t\\t\\t\\t\\t\\t\\t\\t\\t\\t\\tCURSAR OFICI...</td>\n",
       "      <td>\\n\\t\\t\\t\\t\\t\\t\\t\\t\\t\\t\\t\\t\\t\\t\\t\\tINGRESADO PO...</td>\n",
       "    </tr>\n",
       "    <tr>\n",
       "      <th>23828</th>\n",
       "      <td>ZUÑIGA PORTOCARRERO LINO</td>\n",
       "      <td>29558906</td>\n",
       "      <td>ZUÑIGA</td>\n",
       "      <td>PORTOCARRERO</td>\n",
       "      <td>LINO YSAURO</td>\n",
       "      <td>00092-2022-0-0412-JR-CI-01</td>\n",
       "      <td>1º JUZGADO CIVIL DE PAUCARPATA</td>\n",
       "      <td>AREQUIPA</td>\n",
       "      <td>TORREBLANCA GOMEZ CHRISTIAN OMAR</td>\n",
       "      <td>06/01/2022</td>\n",
       "      <td>...</td>\n",
       "      <td>1</td>\n",
       "      <td>documentoD.html?nid=aiSlEDjOMgfGusc</td>\n",
       "      <td>10/03/2022</td>\n",
       "      <td>RESUMEN DE ACUERDOS</td>\n",
       "      <td>Pta. Cedula Not.</td>\n",
       "      <td>DECRETO</td>\n",
       "      <td>2.0</td>\n",
       "      <td>10/03/2022</td>\n",
       "      <td>\\n\\t\\t\\t\\t\\t\\t\\t\\t\\t\\t\\t\\t\\t\\t\\t\\tRESUMEN DE A...</td>\n",
       "      <td>\\n\\t\\t\\t\\t\\t\\t\\t\\t\\t\\t\\t\\t\\t\\t\\t\\tDESCARGADO P...</td>\n",
       "    </tr>\n",
       "    <tr>\n",
       "      <th>23829</th>\n",
       "      <td>ZUÑIGA PORTOCARRERO LINO</td>\n",
       "      <td>29558906</td>\n",
       "      <td>ZUÑIGA</td>\n",
       "      <td>PORTOCARRERO</td>\n",
       "      <td>LINO YSAURO</td>\n",
       "      <td>00092-2022-0-0412-JR-CI-01</td>\n",
       "      <td>1º JUZGADO CIVIL DE PAUCARPATA</td>\n",
       "      <td>AREQUIPA</td>\n",
       "      <td>TORREBLANCA GOMEZ CHRISTIAN OMAR</td>\n",
       "      <td>06/01/2022</td>\n",
       "      <td>...</td>\n",
       "      <td>1</td>\n",
       "      <td>documentoD.html?nid=FviDQDHPBwaGmcGYf</td>\n",
       "      <td>13/01/2022</td>\n",
       "      <td>UNO</td>\n",
       "      <td>Pta. Cedula Not.</td>\n",
       "      <td>AUTO ADMISORIO</td>\n",
       "      <td>10.0</td>\n",
       "      <td>21/02/2022</td>\n",
       "      <td>\\n\\t\\t\\t\\t\\t\\t\\t\\t\\t\\t\\t\\t\\t\\t\\t\\tADMITE\\n\\t\\t...</td>\n",
       "      <td>\\n\\t\\t\\t\\t\\t\\t\\t\\t\\t\\t\\t\\t\\t\\t\\t\\tDESCARGADO P...</td>\n",
       "    </tr>\n",
       "  </tbody>\n",
       "</table>\n",
       "<p>23830 rows × 31 columns</p>\n",
       "</div>"
      ],
      "text/plain": [
       "                            juez  nrodocumento ApellidoPaterno ApellidoMaterno      Nombres              expediente_n°_           organo_jurisdiccional_ distrito_judicial_               especialista_legal_ fecha_de_inicio_  ... n_judges_case                                      link fecha_de_resolucion_ingreso_            resolucion_ tipo_de_notificacion_              acto_ fojas_folios_   proveido_                                         sumilla__y                            descripcion_de_usuario_\n",
       "0      LUIS ALVIN QUISPE SANCHEZ      41929968          QUISPE         SANCHEZ   LUIS ALVIN  00041-2022-0-0605-JP-CI-01  JUZGADO CIVIL - SEDE BAMBAMARCA          CAJAMARCA         VASQUEZ DIAZ ROYER JARLIN      16/06/2022   ...             1  documentoD.html?nid=cPgcldZpqPFZqkAgOKDZ                   21/03/2023                    DOS                   NaN   AUTO INADMISIBLE           3.0  21/03/2023  \\n\\t\\t\\t\\t\\t\\t\\t\\t\\t\\t\\t\\t\\t\\t\\t\\t1.\\tDECLARAR...  \\n\\t\\t\\t\\t\\t\\t\\t\\t\\t\\t\\t\\t\\t\\t\\t\\tDESCARGADO P...\n",
       "1      LUIS ALVIN QUISPE SANCHEZ      41929968          QUISPE         SANCHEZ   LUIS ALVIN  00041-2022-0-0605-JP-CI-01  JUZGADO CIVIL - SEDE BAMBAMARCA          CAJAMARCA         VASQUEZ DIAZ ROYER JARLIN      16/06/2022   ...             1                                       NaN             25/07/2022 09:08                    NaN                   NaN               NOTA           NaN  25/07/2022  \\n\\t\\t\\t\\t\\t\\t\\t\\t\\t\\t\\t\\t\\t\\t\\t\\tEL EXPEDIENT...  \\n\\t\\t\\t\\t\\t\\t\\t\\t\\t\\t\\t\\t\\t\\t\\t\\tINGRESADO PO...\n",
       "2      LUIS ALVIN QUISPE SANCHEZ      41929968          QUISPE         SANCHEZ   LUIS ALVIN  00041-2022-0-0605-JP-CI-01  JUZGADO CIVIL - SEDE BAMBAMARCA          CAJAMARCA         VASQUEZ DIAZ ROYER JARLIN      16/06/2022   ...             1  documentoD.html?nid=nTSaIWwzePYhvLfpaBlX                   28/06/2022                    UNO      Pta. Cedula Not.  AUTO IMPROCEDENTE           2.0  28/06/2022  \\n\\t\\t\\t\\t\\t\\t\\t\\t\\t\\t\\t\\t\\t\\t\\t\\tRESUELVE: \\n...  \\n\\t\\t\\t\\t\\t\\t\\t\\t\\t\\t\\t\\t\\t\\t\\t\\tDESCARGADO P...\n",
       "3      LUIS ALVIN QUISPE SANCHEZ      41929968          QUISPE         SANCHEZ   LUIS ALVIN  00041-2022-0-0605-JP-CI-01  JUZGADO CIVIL - SEDE BAMBAMARCA          CAJAMARCA         VASQUEZ DIAZ ROYER JARLIN      16/06/2022   ...             1                                       NaN             11/01/2023 16:00                    NaN                   NaN     REDISTRIBUCION           8.0  11/01/2023  \\n\\t\\t\\t\\t\\t\\t\\t\\t\\t\\t\\t\\t\\t\\t\\t\\tCONTIENDA DE...  \\n\\t\\t\\t\\t\\t\\t\\t\\t\\t\\t\\t\\t\\t\\t\\t\\tINGRESADO PO...\n",
       "4      LUIS ALVIN QUISPE SANCHEZ      41929968          QUISPE         SANCHEZ   LUIS ALVIN  00041-2022-0-0605-JP-CI-01  JUZGADO CIVIL - SEDE BAMBAMARCA          CAJAMARCA         VASQUEZ DIAZ ROYER JARLIN      16/06/2022   ...             1                                       NaN             22/07/2022 17:25                    NaN                   NaN               NOTA           NaN  22/07/2022  \\n\\t\\t\\t\\t\\t\\t\\t\\t\\t\\t\\t\\t\\t\\t\\t\\tEL EXPEDIENT...  \\n\\t\\t\\t\\t\\t\\t\\t\\t\\t\\t\\t\\t\\t\\t\\t\\tINGRESADO PO...\n",
       "...                          ...           ...             ...             ...          ...                         ...                              ...                ...                               ...              ...  ...           ...                                       ...                          ...                    ...                   ...                ...           ...         ...                                                ...                                                ...\n",
       "23825   ZUÑIGA PORTOCARRERO LINO      29558906          ZUÑIGA    PORTOCARRERO  LINO YSAURO  00092-2022-0-0412-JR-CI-01   1º JUZGADO CIVIL DE PAUCARPATA           AREQUIPA  TORREBLANCA GOMEZ CHRISTIAN OMAR      06/01/2022   ...             1                                       NaN             03/03/2022 11:54  AUDIENCIA Y SENTENCIA                   NaN            ESCRITO           3.0  11/03/2022  \\n\\t\\t\\t\\t\\t\\t\\t\\t\\t\\t\\t\\t\\t\\t\\t\\tADJUNTA PUBL...  \\n\\t\\t\\t\\t\\t\\t\\t\\t\\t\\t\\t\\t\\t\\t\\t\\tINGRESADO PO...\n",
       "23826   ZUÑIGA PORTOCARRERO LINO      29558906          ZUÑIGA    PORTOCARRERO  LINO YSAURO  00092-2022-0-0412-JR-CI-01   1º JUZGADO CIVIL DE PAUCARPATA           AREQUIPA  TORREBLANCA GOMEZ CHRISTIAN OMAR      06/01/2022   ...             1                                       NaN                   11/08/2022                    S/N                   NaN               NOTA           1.0  11/08/2022  \\n\\t\\t\\t\\t\\t\\t\\t\\t\\t\\t\\t\\t\\t\\t\\t\\tNOTA\\n\\t\\t\\t...  \\n\\t\\t\\t\\t\\t\\t\\t\\t\\t\\t\\t\\t\\t\\t\\t\\tDESCARGADO P...\n",
       "23827   ZUÑIGA PORTOCARRERO LINO      29558906          ZUÑIGA    PORTOCARRERO  LINO YSAURO  00092-2022-0-0412-JR-CI-01   1º JUZGADO CIVIL DE PAUCARPATA           AREQUIPA  TORREBLANCA GOMEZ CHRISTIAN OMAR      06/01/2022   ...             1                                       NaN             14/03/2022 17:14                  SIETE                   NaN            ESCRITO           3.0  18/03/2022  \\n\\t\\t\\t\\t\\t\\t\\t\\t\\t\\t\\t\\t\\t\\t\\t\\tCURSAR OFICI...  \\n\\t\\t\\t\\t\\t\\t\\t\\t\\t\\t\\t\\t\\t\\t\\t\\tINGRESADO PO...\n",
       "23828   ZUÑIGA PORTOCARRERO LINO      29558906          ZUÑIGA    PORTOCARRERO  LINO YSAURO  00092-2022-0-0412-JR-CI-01   1º JUZGADO CIVIL DE PAUCARPATA           AREQUIPA  TORREBLANCA GOMEZ CHRISTIAN OMAR      06/01/2022   ...             1       documentoD.html?nid=aiSlEDjOMgfGusc                   10/03/2022    RESUMEN DE ACUERDOS      Pta. Cedula Not.            DECRETO           2.0  10/03/2022  \\n\\t\\t\\t\\t\\t\\t\\t\\t\\t\\t\\t\\t\\t\\t\\t\\tRESUMEN DE A...  \\n\\t\\t\\t\\t\\t\\t\\t\\t\\t\\t\\t\\t\\t\\t\\t\\tDESCARGADO P...\n",
       "23829   ZUÑIGA PORTOCARRERO LINO      29558906          ZUÑIGA    PORTOCARRERO  LINO YSAURO  00092-2022-0-0412-JR-CI-01   1º JUZGADO CIVIL DE PAUCARPATA           AREQUIPA  TORREBLANCA GOMEZ CHRISTIAN OMAR      06/01/2022   ...             1     documentoD.html?nid=FviDQDHPBwaGmcGYf                   13/01/2022                    UNO      Pta. Cedula Not.     AUTO ADMISORIO          10.0  21/02/2022  \\n\\t\\t\\t\\t\\t\\t\\t\\t\\t\\t\\t\\t\\t\\t\\t\\tADMITE\\n\\t\\t...  \\n\\t\\t\\t\\t\\t\\t\\t\\t\\t\\t\\t\\t\\t\\t\\t\\tDESCARGADO P...\n",
       "\n",
       "[23830 rows x 31 columns]"
      ]
     },
     "execution_count": 202,
     "metadata": {},
     "output_type": "execute_result"
    }
   ],
   "source": [
    "follow_up_amag_ii_raw = pd.merge(reportes_amag_ii_raw, files_follow_up, how=\"inner\", on=\"expediente_n°_\")\n",
    "follow_up_amag_ii_raw"
   ]
  },
  {
   "cell_type": "code",
   "execution_count": 203,
   "id": "0f446412",
   "metadata": {
    "scrolled": true
   },
   "outputs": [
    {
     "data": {
      "text/html": [
       "<div>\n",
       "<style scoped>\n",
       "    .dataframe tbody tr th:only-of-type {\n",
       "        vertical-align: middle;\n",
       "    }\n",
       "\n",
       "    .dataframe tbody tr th {\n",
       "        vertical-align: top;\n",
       "    }\n",
       "\n",
       "    .dataframe thead th {\n",
       "        text-align: right;\n",
       "    }\n",
       "</style>\n",
       "<table border=\"1\" class=\"dataframe\">\n",
       "  <thead>\n",
       "    <tr style=\"text-align: right;\">\n",
       "      <th></th>\n",
       "      <th>juez</th>\n",
       "      <th>nrodocumento</th>\n",
       "      <th>ApellidoPaterno</th>\n",
       "      <th>ApellidoMaterno</th>\n",
       "      <th>Nombres</th>\n",
       "      <th>expediente_n°_</th>\n",
       "      <th>organo_jurisdiccional_</th>\n",
       "      <th>distrito_judicial_</th>\n",
       "      <th>especialista_legal_</th>\n",
       "      <th>fecha_de_inicio_</th>\n",
       "      <th>...</th>\n",
       "      <th>ubicacion_</th>\n",
       "      <th>motivo_conclusion_</th>\n",
       "      <th>sumilla_</th>\n",
       "      <th>juez_splitted</th>\n",
       "      <th>n_judges_case</th>\n",
       "      <th>parte</th>\n",
       "      <th>tipo_depersona</th>\n",
       "      <th>apellido_paterno_razon_social</th>\n",
       "      <th>apellidomaterno</th>\n",
       "      <th>nombres</th>\n",
       "    </tr>\n",
       "  </thead>\n",
       "  <tbody>\n",
       "    <tr>\n",
       "      <th>0</th>\n",
       "      <td>LUIS ALVIN QUISPE SANCHEZ</td>\n",
       "      <td>41929968</td>\n",
       "      <td>QUISPE</td>\n",
       "      <td>SANCHEZ</td>\n",
       "      <td>LUIS ALVIN</td>\n",
       "      <td>00041-2022-0-0605-JP-CI-01</td>\n",
       "      <td>JUZGADO CIVIL - SEDE BAMBAMARCA</td>\n",
       "      <td>CAJAMARCA</td>\n",
       "      <td>VASQUEZ DIAZ ROYER JARLIN</td>\n",
       "      <td>16/06/2022</td>\n",
       "      <td>...</td>\n",
       "      <td>ESPECIALISTA</td>\n",
       "      <td>-------</td>\n",
       "      <td>DEMANDA DE DAÑOS Y PERJUICIOS DERIVADOS DE RES...</td>\n",
       "      <td>[LUIS ALVIN QUISPE SANCHEZ]</td>\n",
       "      <td>1</td>\n",
       "      <td>DEMANDANTE</td>\n",
       "      <td>NATURAL</td>\n",
       "      <td>CARUAJULCA</td>\n",
       "      <td>MASABEL</td>\n",
       "      <td>NANCI</td>\n",
       "    </tr>\n",
       "    <tr>\n",
       "      <th>1</th>\n",
       "      <td>LUIS ALVIN QUISPE SANCHEZ</td>\n",
       "      <td>41929968</td>\n",
       "      <td>QUISPE</td>\n",
       "      <td>SANCHEZ</td>\n",
       "      <td>LUIS ALVIN</td>\n",
       "      <td>00041-2022-0-0605-JP-CI-01</td>\n",
       "      <td>JUZGADO CIVIL - SEDE BAMBAMARCA</td>\n",
       "      <td>CAJAMARCA</td>\n",
       "      <td>VASQUEZ DIAZ ROYER JARLIN</td>\n",
       "      <td>16/06/2022</td>\n",
       "      <td>...</td>\n",
       "      <td>ESPECIALISTA</td>\n",
       "      <td>-------</td>\n",
       "      <td>DEMANDA DE DAÑOS Y PERJUICIOS DERIVADOS DE RES...</td>\n",
       "      <td>[LUIS ALVIN QUISPE SANCHEZ]</td>\n",
       "      <td>1</td>\n",
       "      <td>DEMANDADO</td>\n",
       "      <td>NATURAL</td>\n",
       "      <td>TAMAY</td>\n",
       "      <td>BAUTISTA</td>\n",
       "      <td>ELTER ANIBAL</td>\n",
       "    </tr>\n",
       "    <tr>\n",
       "      <th>2</th>\n",
       "      <td>LUIS ALVIN QUISPE SANCHEZ</td>\n",
       "      <td>41929968</td>\n",
       "      <td>QUISPE</td>\n",
       "      <td>SANCHEZ</td>\n",
       "      <td>LUIS ALVIN</td>\n",
       "      <td>00041-2022-0-0605-JP-CI-01</td>\n",
       "      <td>JUZGADO CIVIL - SEDE BAMBAMARCA</td>\n",
       "      <td>CAJAMARCA</td>\n",
       "      <td>VASQUEZ DIAZ ROYER JARLIN</td>\n",
       "      <td>16/06/2022</td>\n",
       "      <td>...</td>\n",
       "      <td>ESPECIALISTA</td>\n",
       "      <td>-------</td>\n",
       "      <td>DEMANDA DE DAÑOS Y PERJUICIOS DERIVADOS DE RES...</td>\n",
       "      <td>[LUIS ALVIN QUISPE SANCHEZ]</td>\n",
       "      <td>1</td>\n",
       "      <td>DEMANDANTE</td>\n",
       "      <td>NATURAL</td>\n",
       "      <td>CARUAJULCA</td>\n",
       "      <td>MASABEL</td>\n",
       "      <td>NANCI</td>\n",
       "    </tr>\n",
       "    <tr>\n",
       "      <th>3</th>\n",
       "      <td>LUIS ALVIN QUISPE SANCHEZ</td>\n",
       "      <td>41929968</td>\n",
       "      <td>QUISPE</td>\n",
       "      <td>SANCHEZ</td>\n",
       "      <td>LUIS ALVIN</td>\n",
       "      <td>00041-2022-0-0605-JP-CI-01</td>\n",
       "      <td>JUZGADO CIVIL - SEDE BAMBAMARCA</td>\n",
       "      <td>CAJAMARCA</td>\n",
       "      <td>VASQUEZ DIAZ ROYER JARLIN</td>\n",
       "      <td>16/06/2022</td>\n",
       "      <td>...</td>\n",
       "      <td>ESPECIALISTA</td>\n",
       "      <td>-------</td>\n",
       "      <td>DEMANDA DE DAÑOS Y PERJUICIOS DERIVADOS DE RES...</td>\n",
       "      <td>[LUIS ALVIN QUISPE SANCHEZ]</td>\n",
       "      <td>1</td>\n",
       "      <td>DEMANDADO</td>\n",
       "      <td>NATURAL</td>\n",
       "      <td>TAMAY</td>\n",
       "      <td>BAUTISTA</td>\n",
       "      <td>ELTER ANIBAL</td>\n",
       "    </tr>\n",
       "    <tr>\n",
       "      <th>4</th>\n",
       "      <td>LUIS ALVIN QUISPE SANCHEZ</td>\n",
       "      <td>41929968</td>\n",
       "      <td>QUISPE</td>\n",
       "      <td>SANCHEZ</td>\n",
       "      <td>LUIS ALVIN</td>\n",
       "      <td>00041-2022-0-0605-JP-CI-01</td>\n",
       "      <td>JUZGADO CIVIL - SEDE BAMBAMARCA</td>\n",
       "      <td>CAJAMARCA</td>\n",
       "      <td>VASQUEZ DIAZ ROYER JARLIN</td>\n",
       "      <td>16/06/2022</td>\n",
       "      <td>...</td>\n",
       "      <td>ESPECIALISTA</td>\n",
       "      <td>-------</td>\n",
       "      <td>DEMANDA DE DAÑOS Y PERJUICIOS DERIVADOS DE RES...</td>\n",
       "      <td>[LUIS ALVIN QUISPE SANCHEZ]</td>\n",
       "      <td>1</td>\n",
       "      <td>DEMANDANTE</td>\n",
       "      <td>NATURAL</td>\n",
       "      <td>CARUAJULCA</td>\n",
       "      <td>MASABEL</td>\n",
       "      <td>NANCI</td>\n",
       "    </tr>\n",
       "    <tr>\n",
       "      <th>...</th>\n",
       "      <td>...</td>\n",
       "      <td>...</td>\n",
       "      <td>...</td>\n",
       "      <td>...</td>\n",
       "      <td>...</td>\n",
       "      <td>...</td>\n",
       "      <td>...</td>\n",
       "      <td>...</td>\n",
       "      <td>...</td>\n",
       "      <td>...</td>\n",
       "      <td>...</td>\n",
       "      <td>...</td>\n",
       "      <td>...</td>\n",
       "      <td>...</td>\n",
       "      <td>...</td>\n",
       "      <td>...</td>\n",
       "      <td>...</td>\n",
       "      <td>...</td>\n",
       "      <td>...</td>\n",
       "      <td>...</td>\n",
       "      <td>...</td>\n",
       "    </tr>\n",
       "    <tr>\n",
       "      <th>7076</th>\n",
       "      <td>ZUÑIGA PORTOCARRERO LINO</td>\n",
       "      <td>29558906</td>\n",
       "      <td>ZUÑIGA</td>\n",
       "      <td>PORTOCARRERO</td>\n",
       "      <td>LINO YSAURO</td>\n",
       "      <td>00009-2022-0-0412-JR-CI-01</td>\n",
       "      <td>1º JUZGADO CIVIL DE PAUCARPATA</td>\n",
       "      <td>AREQUIPA</td>\n",
       "      <td>BENAVIDES CASTILLO MAX MAYKOL</td>\n",
       "      <td>05/01/2022</td>\n",
       "      <td>...</td>\n",
       "      <td>ARCHIVO (ENVIADO)</td>\n",
       "      <td>-------</td>\n",
       "      <td>DEMANDA</td>\n",
       "      <td>[ZUÑIGA PORTOCARRERO LINO]</td>\n",
       "      <td>1</td>\n",
       "      <td>DEMANDADO</td>\n",
       "      <td>NATURAL</td>\n",
       "      <td>ROJAS</td>\n",
       "      <td>FLORES</td>\n",
       "      <td>ENEO FREDY</td>\n",
       "    </tr>\n",
       "    <tr>\n",
       "      <th>7077</th>\n",
       "      <td>ZUÑIGA PORTOCARRERO LINO</td>\n",
       "      <td>29558906</td>\n",
       "      <td>ZUÑIGA</td>\n",
       "      <td>PORTOCARRERO</td>\n",
       "      <td>LINO YSAURO</td>\n",
       "      <td>00009-2022-0-0412-JR-CI-01</td>\n",
       "      <td>1º JUZGADO CIVIL DE PAUCARPATA</td>\n",
       "      <td>AREQUIPA</td>\n",
       "      <td>BENAVIDES CASTILLO MAX MAYKOL</td>\n",
       "      <td>05/01/2022</td>\n",
       "      <td>...</td>\n",
       "      <td>ARCHIVO (ENVIADO)</td>\n",
       "      <td>-------</td>\n",
       "      <td>DEMANDA</td>\n",
       "      <td>[ZUÑIGA PORTOCARRERO LINO]</td>\n",
       "      <td>1</td>\n",
       "      <td>DEMANDADO</td>\n",
       "      <td>NATURAL</td>\n",
       "      <td>ROJAS</td>\n",
       "      <td>FLORES</td>\n",
       "      <td>VILMA GLORIA</td>\n",
       "    </tr>\n",
       "    <tr>\n",
       "      <th>7078</th>\n",
       "      <td>ZUÑIGA PORTOCARRERO LINO</td>\n",
       "      <td>29558906</td>\n",
       "      <td>ZUÑIGA</td>\n",
       "      <td>PORTOCARRERO</td>\n",
       "      <td>LINO YSAURO</td>\n",
       "      <td>00009-2022-0-0412-JR-CI-01</td>\n",
       "      <td>1º JUZGADO CIVIL DE PAUCARPATA</td>\n",
       "      <td>AREQUIPA</td>\n",
       "      <td>BENAVIDES CASTILLO MAX MAYKOL</td>\n",
       "      <td>05/01/2022</td>\n",
       "      <td>...</td>\n",
       "      <td>ARCHIVO (ENVIADO)</td>\n",
       "      <td>-------</td>\n",
       "      <td>DEMANDA</td>\n",
       "      <td>[ZUÑIGA PORTOCARRERO LINO]</td>\n",
       "      <td>1</td>\n",
       "      <td>DEMANDANTE</td>\n",
       "      <td>NATURAL</td>\n",
       "      <td>ROJAS</td>\n",
       "      <td>ROJAS</td>\n",
       "      <td>DANIEL ALBERTO</td>\n",
       "    </tr>\n",
       "    <tr>\n",
       "      <th>7079</th>\n",
       "      <td>ZUÑIGA PORTOCARRERO LINO</td>\n",
       "      <td>29558906</td>\n",
       "      <td>ZUÑIGA</td>\n",
       "      <td>PORTOCARRERO</td>\n",
       "      <td>LINO YSAURO</td>\n",
       "      <td>00092-2022-0-0412-JR-CI-01</td>\n",
       "      <td>1º JUZGADO CIVIL DE PAUCARPATA</td>\n",
       "      <td>AREQUIPA</td>\n",
       "      <td>TORREBLANCA GOMEZ CHRISTIAN OMAR</td>\n",
       "      <td>06/01/2022</td>\n",
       "      <td>...</td>\n",
       "      <td>ARCHIVO MODULAR</td>\n",
       "      <td>-------</td>\n",
       "      <td>DEMANDA</td>\n",
       "      <td>[ZUÑIGA PORTOCARRERO LINO]</td>\n",
       "      <td>1</td>\n",
       "      <td>DEMANDANTE</td>\n",
       "      <td>NATURAL</td>\n",
       "      <td>ARELA</td>\n",
       "      <td>FLORES</td>\n",
       "      <td>SOFIO MIGUEL</td>\n",
       "    </tr>\n",
       "    <tr>\n",
       "      <th>7080</th>\n",
       "      <td>ZUÑIGA PORTOCARRERO LINO</td>\n",
       "      <td>29558906</td>\n",
       "      <td>ZUÑIGA</td>\n",
       "      <td>PORTOCARRERO</td>\n",
       "      <td>LINO YSAURO</td>\n",
       "      <td>00092-2022-0-0412-JR-CI-01</td>\n",
       "      <td>1º JUZGADO CIVIL DE PAUCARPATA</td>\n",
       "      <td>AREQUIPA</td>\n",
       "      <td>TORREBLANCA GOMEZ CHRISTIAN OMAR</td>\n",
       "      <td>06/01/2022</td>\n",
       "      <td>...</td>\n",
       "      <td>ARCHIVO MODULAR</td>\n",
       "      <td>-------</td>\n",
       "      <td>DEMANDA</td>\n",
       "      <td>[ZUÑIGA PORTOCARRERO LINO]</td>\n",
       "      <td>1</td>\n",
       "      <td>DEMANDADO</td>\n",
       "      <td>NATURAL</td>\n",
       "      <td>CACERES</td>\n",
       "      <td>SUYO</td>\n",
       "      <td>ELMER LEANDRO</td>\n",
       "    </tr>\n",
       "  </tbody>\n",
       "</table>\n",
       "<p>7081 rows × 27 columns</p>\n",
       "</div>"
      ],
      "text/plain": [
       "                           juez  nrodocumento ApellidoPaterno ApellidoMaterno      Nombres              expediente_n°_           organo_jurisdiccional_ distrito_judicial_               especialista_legal_ fecha_de_inicio_  ...         ubicacion_ motivo_conclusion_                                           sumilla_                juez_splitted n_judges_case       parte tipo_depersona apellido_paterno_razon_social apellidomaterno         nombres\n",
       "0     LUIS ALVIN QUISPE SANCHEZ      41929968          QUISPE         SANCHEZ   LUIS ALVIN  00041-2022-0-0605-JP-CI-01  JUZGADO CIVIL - SEDE BAMBAMARCA          CAJAMARCA         VASQUEZ DIAZ ROYER JARLIN      16/06/2022   ...       ESPECIALISTA            -------  DEMANDA DE DAÑOS Y PERJUICIOS DERIVADOS DE RES...  [LUIS ALVIN QUISPE SANCHEZ]             1  DEMANDANTE        NATURAL                    CARUAJULCA         MASABEL           NANCI\n",
       "1     LUIS ALVIN QUISPE SANCHEZ      41929968          QUISPE         SANCHEZ   LUIS ALVIN  00041-2022-0-0605-JP-CI-01  JUZGADO CIVIL - SEDE BAMBAMARCA          CAJAMARCA         VASQUEZ DIAZ ROYER JARLIN      16/06/2022   ...       ESPECIALISTA            -------  DEMANDA DE DAÑOS Y PERJUICIOS DERIVADOS DE RES...  [LUIS ALVIN QUISPE SANCHEZ]             1   DEMANDADO        NATURAL                         TAMAY        BAUTISTA    ELTER ANIBAL\n",
       "2     LUIS ALVIN QUISPE SANCHEZ      41929968          QUISPE         SANCHEZ   LUIS ALVIN  00041-2022-0-0605-JP-CI-01  JUZGADO CIVIL - SEDE BAMBAMARCA          CAJAMARCA         VASQUEZ DIAZ ROYER JARLIN      16/06/2022   ...       ESPECIALISTA            -------  DEMANDA DE DAÑOS Y PERJUICIOS DERIVADOS DE RES...  [LUIS ALVIN QUISPE SANCHEZ]             1  DEMANDANTE        NATURAL                    CARUAJULCA         MASABEL           NANCI\n",
       "3     LUIS ALVIN QUISPE SANCHEZ      41929968          QUISPE         SANCHEZ   LUIS ALVIN  00041-2022-0-0605-JP-CI-01  JUZGADO CIVIL - SEDE BAMBAMARCA          CAJAMARCA         VASQUEZ DIAZ ROYER JARLIN      16/06/2022   ...       ESPECIALISTA            -------  DEMANDA DE DAÑOS Y PERJUICIOS DERIVADOS DE RES...  [LUIS ALVIN QUISPE SANCHEZ]             1   DEMANDADO        NATURAL                         TAMAY        BAUTISTA    ELTER ANIBAL\n",
       "4     LUIS ALVIN QUISPE SANCHEZ      41929968          QUISPE         SANCHEZ   LUIS ALVIN  00041-2022-0-0605-JP-CI-01  JUZGADO CIVIL - SEDE BAMBAMARCA          CAJAMARCA         VASQUEZ DIAZ ROYER JARLIN      16/06/2022   ...       ESPECIALISTA            -------  DEMANDA DE DAÑOS Y PERJUICIOS DERIVADOS DE RES...  [LUIS ALVIN QUISPE SANCHEZ]             1  DEMANDANTE        NATURAL                    CARUAJULCA         MASABEL           NANCI\n",
       "...                         ...           ...             ...             ...          ...                         ...                              ...                ...                               ...              ...  ...                ...                ...                                                ...                          ...           ...         ...            ...                           ...             ...             ...\n",
       "7076   ZUÑIGA PORTOCARRERO LINO      29558906          ZUÑIGA    PORTOCARRERO  LINO YSAURO  00009-2022-0-0412-JR-CI-01   1º JUZGADO CIVIL DE PAUCARPATA           AREQUIPA     BENAVIDES CASTILLO MAX MAYKOL      05/01/2022   ...  ARCHIVO (ENVIADO)            -------                                            DEMANDA   [ZUÑIGA PORTOCARRERO LINO]             1   DEMANDADO        NATURAL                         ROJAS          FLORES      ENEO FREDY\n",
       "7077   ZUÑIGA PORTOCARRERO LINO      29558906          ZUÑIGA    PORTOCARRERO  LINO YSAURO  00009-2022-0-0412-JR-CI-01   1º JUZGADO CIVIL DE PAUCARPATA           AREQUIPA     BENAVIDES CASTILLO MAX MAYKOL      05/01/2022   ...  ARCHIVO (ENVIADO)            -------                                            DEMANDA   [ZUÑIGA PORTOCARRERO LINO]             1   DEMANDADO        NATURAL                         ROJAS          FLORES    VILMA GLORIA\n",
       "7078   ZUÑIGA PORTOCARRERO LINO      29558906          ZUÑIGA    PORTOCARRERO  LINO YSAURO  00009-2022-0-0412-JR-CI-01   1º JUZGADO CIVIL DE PAUCARPATA           AREQUIPA     BENAVIDES CASTILLO MAX MAYKOL      05/01/2022   ...  ARCHIVO (ENVIADO)            -------                                            DEMANDA   [ZUÑIGA PORTOCARRERO LINO]             1  DEMANDANTE        NATURAL                         ROJAS           ROJAS  DANIEL ALBERTO\n",
       "7079   ZUÑIGA PORTOCARRERO LINO      29558906          ZUÑIGA    PORTOCARRERO  LINO YSAURO  00092-2022-0-0412-JR-CI-01   1º JUZGADO CIVIL DE PAUCARPATA           AREQUIPA  TORREBLANCA GOMEZ CHRISTIAN OMAR      06/01/2022   ...    ARCHIVO MODULAR            -------                                            DEMANDA   [ZUÑIGA PORTOCARRERO LINO]             1  DEMANDANTE        NATURAL                         ARELA          FLORES    SOFIO MIGUEL\n",
       "7080   ZUÑIGA PORTOCARRERO LINO      29558906          ZUÑIGA    PORTOCARRERO  LINO YSAURO  00092-2022-0-0412-JR-CI-01   1º JUZGADO CIVIL DE PAUCARPATA           AREQUIPA  TORREBLANCA GOMEZ CHRISTIAN OMAR      06/01/2022   ...    ARCHIVO MODULAR            -------                                            DEMANDA   [ZUÑIGA PORTOCARRERO LINO]             1   DEMANDADO        NATURAL                       CACERES            SUYO   ELMER LEANDRO\n",
       "\n",
       "[7081 rows x 27 columns]"
      ]
     },
     "execution_count": 203,
     "metadata": {},
     "output_type": "execute_result"
    }
   ],
   "source": [
    "procedural_parts_amag_ii_raw = pd.merge(reportes_amag_ii_raw, files_procedural_parts, how=\"inner\", on=\"expediente_n°_\")\n",
    "procedural_parts_amag_ii_raw"
   ]
  },
  {
   "cell_type": "code",
   "execution_count": 46,
   "id": "bb5eb8ba",
   "metadata": {
    "scrolled": true
   },
   "outputs": [],
   "source": [
    "downloads_amag_ii_raw = pd.merge(reportes_amag_ii_raw, files_downloads, how=\"inner\", left_on=\"expediente_n°_\", right_on=\"expediente_num\")"
   ]
  },
  {
   "cell_type": "code",
   "execution_count": 47,
   "id": "b4350e8a",
   "metadata": {
    "scrolled": true
   },
   "outputs": [
    {
     "name": "stdout",
     "output_type": "stream",
     "text": [
      "Help on function create_pickle in module __main__:\n",
      "\n",
      "create_pickle(object_name, file_name: str, path: str) -> None\n",
      "    Creates a pickle file for object. Note: Path should have no slash \n",
      "    at the end\n",
      "\n"
     ]
    }
   ],
   "source": [
    "help(create_pickle)"
   ]
  },
  {
   "cell_type": "markdown",
   "id": "ac250445",
   "metadata": {},
   "source": [
    "Storing data on `.pkl` files"
   ]
  },
  {
   "cell_type": "code",
   "execution_count": 48,
   "id": "a5fc8cf3",
   "metadata": {
    "scrolled": true
   },
   "outputs": [],
   "source": [
    "create_pickle(amag_ii_cases, \"amag_ii_cases.pkl\", dc_temp_path)"
   ]
  },
  {
   "cell_type": "code",
   "execution_count": 49,
   "id": "a79cd213",
   "metadata": {
    "scrolled": true
   },
   "outputs": [],
   "source": [
    "create_pickle(reportes_amag_ii_raw, \"reportes_amag_ii_raw.pkl\", dc_temp_path)"
   ]
  },
  {
   "cell_type": "code",
   "execution_count": 50,
   "id": "e33c751d",
   "metadata": {
    "scrolled": true
   },
   "outputs": [],
   "source": [
    "create_pickle(follow_up_amag_ii_raw, \"follow_up_amag_ii_raw.pkl\", dc_temp_path)"
   ]
  },
  {
   "cell_type": "code",
   "execution_count": 51,
   "id": "7d8fc991",
   "metadata": {
    "scrolled": true
   },
   "outputs": [],
   "source": [
    "create_pickle(procedural_parts_amag_ii_raw, \"procedural_parts_amag_ii_raw.pkl\", dc_temp_path)"
   ]
  },
  {
   "cell_type": "code",
   "execution_count": 52,
   "id": "b63796dc",
   "metadata": {
    "scrolled": true
   },
   "outputs": [],
   "source": [
    "create_pickle(downloads_amag_ii_raw, \"downloads_amag_ii_raw.pkl\", dc_temp_path)"
   ]
  },
  {
   "cell_type": "markdown",
   "id": "34856235",
   "metadata": {},
   "source": [
    "# 4. Preprocessing and cleaning of datasets"
   ]
  },
  {
   "cell_type": "markdown",
   "id": "cb7691d3",
   "metadata": {},
   "source": [
    "Reading gender dataframe"
   ]
  },
  {
   "cell_type": "code",
   "execution_count": 53,
   "id": "06ae6265",
   "metadata": {},
   "outputs": [],
   "source": [
    "gender_dataset = pd.read_csv(dc_raw_path + \"/harvard_set_gender.csv\")"
   ]
  },
  {
   "cell_type": "code",
   "execution_count": 54,
   "id": "4c687787",
   "metadata": {},
   "outputs": [
    {
     "name": "stderr",
     "output_type": "stream",
     "text": [
      "<>:7: DeprecationWarning: invalid escape sequence '\\,'\n",
      "<>:7: DeprecationWarning: invalid escape sequence '\\,'\n",
      "C:\\Users\\Gigabyte\\AppData\\Local\\Temp\\ipykernel_11004\\3245748647.py:7: DeprecationWarning: invalid escape sequence '\\,'\n",
      "  punctuations = '''!()[]{};:'\"\\,<>./¿?@#$%^&*_–~=+¨`“”’|0123456789'''  # all but hyphens\n"
     ]
    }
   ],
   "source": [
    "def spanish_cleaner(txt_file):\n",
    "    text = txt_file\n",
    "    text = re.sub(r\"(&[a-zA-Z]*;)\", \" \", text)  # the txt files had some unwanted text like &rsquo; this line removes such text\n",
    "    text = text.lower()\n",
    "\n",
    "    # remove punctuation and numbers from the string\n",
    "    punctuations = '''!()[]{};:'\"\\,<>./¿?@#$%^&*_–~=+¨`“”’|0123456789'''  # all but hyphens\n",
    "    for x in text.lower(): \n",
    "        if x in punctuations: \n",
    "            text = text.replace(x, \"\")\n",
    "\n",
    "    # replacing encoding characters\n",
    "    enc_characters = [\" st \", \" nd \", \" rd \", \" th \", \"srl\", \"lpfvf\", \"pctc\", \"jmxcff\", \"ayrq\", \"axu\", \"oadk\", \"jcxj\", \"nplt\", \"eef\", \"fcfc\", \"qyoc\", \"gobpe\", \"pfg\", \"vqrx\", \"csjppj\", \"xas\", \"feeback\", \"hafceqc\", \"xqj\", \"hellip\", \"rsquo\", \"ldquo\", \"rdquo\", \"ndash\", \"-\", \"n°\", \"nº\", \"º\", \"°\", \"dprgdonpdl\", \"«\", \"»\", \"…\", \"derjudicialpoderjudicialpoderjudicialpoderjudicialpoderjudicialpoderjudicialpoderjudicialpoderjudicialpoderjudicialpoderjudicialpoderjudicialpoderjudicialpoderjudicialpoderjudicialpoderjudicialpoderjudicialpoderjudicialpoderjudicialpoderjudicialpoderj\", \"ii\", \"iii\", \"vii\", \"viii\"]\n",
    "    \n",
    "    for item in enc_characters:\n",
    "        text = text.replace(item, \" \")\n",
    "    \n",
    "    # cleaning for spanish stop words\n",
    "    stopword_es = nltk.corpus.stopwords.words('spanish') # loading spanish stop words\n",
    "    custom_substrs = [\"http\", \"hangouts\", \"meet\", \"gmailcom\"] # html related\n",
    "    custom_gender_words = [\"él\", \"ella\", \"la\", \"ese\", \"esa\", \"esos\", \"esas\", \"este\", \"esta\", \"aquel\", \"aquella\", \"aquellos\", \"aquellas\", \"lo\", \"la\", \"los\", \"las\", \"aquel\", \"aquella\", \"mío\", \"mía\", \"míos\", \"mías\", \"suyo\", \"suya\", \"suyos\", \"suyas\"] # list with pronouns associated to a specific gender\n",
    "    length_custom_stopwords = len(custom_substrs)\n",
    "    words = text.split() # tokenizing sentence\n",
    "    cleaned_words = [word for word in words if (word not in stopword_es and len(word) > 1) or word in custom_gender_words]\n",
    "     \n",
    "    sentence_no_custom = [] # omitting words that contain \n",
    "    for cleaned_word in cleaned_words:\n",
    "        counter_stopwords = 0\n",
    "        for word in custom_substrs: # evaluating if word contains substr\n",
    "            if word not in cleaned_word: # if passes, +1 for counter\n",
    "                counter_stopwords += 1\n",
    "            if counter_stopwords == length_custom_stopwords: # append if passes all custom substrs tests\n",
    "                sentence_no_custom.append(cleaned_word)\n",
    "\n",
    "    return \" \".join(sentence_no_custom)"
   ]
  },
  {
   "cell_type": "markdown",
   "id": "661a6d03",
   "metadata": {},
   "source": [
    "## 4.1. Preprocessing of downloads and follow up "
   ]
  },
  {
   "cell_type": "markdown",
   "id": "7a49dd12",
   "metadata": {},
   "source": [
    "### Downloads Dataframe"
   ]
  },
  {
   "cell_type": "code",
   "execution_count": 55,
   "id": "4ac881dd",
   "metadata": {},
   "outputs": [],
   "source": [
    "# lowercase to text\n",
    "downloads_amag_ii_raw[\"text\"] = downloads_amag_ii_raw[\"text\"].apply(lambda text: text.lower() \n",
    "                                                                    if type(text) is str else text)"
   ]
  },
  {
   "cell_type": "code",
   "execution_count": 56,
   "id": "dd668a82",
   "metadata": {
    "scrolled": true
   },
   "outputs": [],
   "source": [
    "# cleaning the text from the cases\n",
    "downloads_amag_ii_raw[\"text\"] = downloads_amag_ii_raw[\"text\"].apply(lambda text: spanish_cleaner(text) \n",
    "                                                                    if type(text) is str else text)"
   ]
  },
  {
   "cell_type": "markdown",
   "id": "27e8842e",
   "metadata": {},
   "source": [
    "### Downloads Follow Up"
   ]
  },
  {
   "cell_type": "markdown",
   "id": "8dcfd6b9",
   "metadata": {},
   "source": [
    "Fixing the date of the resolution"
   ]
  },
  {
   "cell_type": "code",
   "execution_count": 57,
   "id": "59b703dd",
   "metadata": {
    "scrolled": true
   },
   "outputs": [
    {
     "name": "stderr",
     "output_type": "stream",
     "text": [
      "<>:2: DeprecationWarning: invalid escape sequence '\\d'\n",
      "<>:2: DeprecationWarning: invalid escape sequence '\\d'\n",
      "C:\\Users\\Gigabyte\\AppData\\Local\\Temp\\ipykernel_11004\\1630532510.py:2: DeprecationWarning: invalid escape sequence '\\d'\n",
      "  lambda date: datetime.strptime(re.match(\"(\\d+[-/]\\d+[-/]\\d+)\",\n"
     ]
    }
   ],
   "source": [
    "follow_up_amag_ii_raw[\"fecha_de_resolucion_ingreso_\"] = follow_up_amag_ii_raw[\"fecha_de_resolucion_ingreso_\"].apply(\n",
    "                                                        lambda date: datetime.strptime(re.match(\"(\\d+[-/]\\d+[-/]\\d+)\", \n",
    "                                                        date)[0], \"%d/%m/%Y\"))"
   ]
  },
  {
   "cell_type": "markdown",
   "id": "0e947cec",
   "metadata": {},
   "source": [
    "Creating date and hour variable"
   ]
  },
  {
   "cell_type": "code",
   "execution_count": 58,
   "id": "65c7726f",
   "metadata": {},
   "outputs": [],
   "source": [
    "follow_up_amag_ii_raw = follow_up_amag_ii_raw.rename(columns={\"fecha_de_resolucion_ingreso_\": \"date\"})"
   ]
  },
  {
   "cell_type": "markdown",
   "id": "dde6b704",
   "metadata": {},
   "source": [
    "Remove extra white space and lower \"acto\""
   ]
  },
  {
   "cell_type": "code",
   "execution_count": 59,
   "id": "204f502b",
   "metadata": {},
   "outputs": [],
   "source": [
    "# lowercase to text\n",
    "follow_up_amag_ii_raw[\"acto_\"] = follow_up_amag_ii_raw[\"acto_\"].apply(lambda text: text.lower() \n",
    "                                                                    if type(text) is str else text)"
   ]
  },
  {
   "cell_type": "code",
   "execution_count": 60,
   "id": "4c14ec0e",
   "metadata": {
    "scrolled": true
   },
   "outputs": [],
   "source": [
    "# cleaning the text from the cases\n",
    "follow_up_amag_ii_raw[\"acto_\"] = follow_up_amag_ii_raw[\"acto_\"].apply(lambda text: spanish_cleaner(text) \n",
    "                                                                    if type(text) is str else text)"
   ]
  },
  {
   "cell_type": "markdown",
   "id": "82d48fb4",
   "metadata": {},
   "source": [
    "Remove extra white space and lower \"sumilla\" (from merged dataframes)"
   ]
  },
  {
   "cell_type": "code",
   "execution_count": 61,
   "id": "2fea21ba",
   "metadata": {},
   "outputs": [],
   "source": [
    "sumillas = [\"sumilla__x\", \"sumilla__y\"]"
   ]
  },
  {
   "cell_type": "code",
   "execution_count": 62,
   "id": "e8cbcd36",
   "metadata": {},
   "outputs": [],
   "source": [
    "for sumilla in sumillas:\n",
    "    # lowercase to text\n",
    "    follow_up_amag_ii_raw[sumilla] = follow_up_amag_ii_raw[sumilla].apply(lambda text: text.lower() \n",
    "                                                                    if type(text) is str else text)\n",
    "    # cleaning the text from the cases\n",
    "    follow_up_amag_ii_raw[sumilla] = follow_up_amag_ii_raw[sumilla].apply(lambda text: spanish_cleaner(text)\n",
    "                                                                    if type(text) is str else text)"
   ]
  },
  {
   "cell_type": "markdown",
   "id": "38835d03",
   "metadata": {},
   "source": [
    "Remove extra white space and lower \"descripcion de usuario\""
   ]
  },
  {
   "cell_type": "code",
   "execution_count": 63,
   "id": "501c67cc",
   "metadata": {},
   "outputs": [],
   "source": [
    "# lowercase to text\n",
    "follow_up_amag_ii_raw[\"descripcion_de_usuario_\"] = follow_up_amag_ii_raw[\"descripcion_de_usuario_\"].apply(lambda text: text.lower() \n",
    "                                                                    if type(text) is str else text)"
   ]
  },
  {
   "cell_type": "code",
   "execution_count": 64,
   "id": "981c9056",
   "metadata": {
    "scrolled": true
   },
   "outputs": [],
   "source": [
    "# cleaning the text from the cases\n",
    "follow_up_amag_ii_raw[\"descripcion_de_usuario_\"] = follow_up_amag_ii_raw[\"descripcion_de_usuario_\"].apply(lambda text: spanish_cleaner(text) \n",
    "                                                                    if type(text) is str else text)"
   ]
  },
  {
   "cell_type": "markdown",
   "id": "fa2286fe",
   "metadata": {},
   "source": [
    "Create variable that identifies rows with pdf or docx file in downloads dataset"
   ]
  },
  {
   "cell_type": "code",
   "execution_count": 65,
   "id": "94537441",
   "metadata": {},
   "outputs": [],
   "source": [
    "follow_up_amag_ii_raw[\"descargado\"] = follow_up_amag_ii_raw[\"descripcion_de_usuario_\"].apply(lambda text: 1\n",
    "                                                                                            if \"descargado\" in text\n",
    "                                                                                            else 0)"
   ]
  },
  {
   "cell_type": "markdown",
   "id": "fc2b034a",
   "metadata": {},
   "source": [
    "### Create dataset of case_id/number of documents (obs with no duplicates)"
   ]
  },
  {
   "cell_type": "markdown",
   "id": "0a1986aa",
   "metadata": {},
   "source": [
    "Droping duplicates in terms `expediente_n°_` and `num`"
   ]
  },
  {
   "cell_type": "code",
   "execution_count": 66,
   "id": "664bbb79",
   "metadata": {},
   "outputs": [],
   "source": [
    "downloads_full = downloads_amag_ii_raw[downloads_amag_ii_raw[\"link\"].notna()]"
   ]
  },
  {
   "cell_type": "code",
   "execution_count": 67,
   "id": "b1289416",
   "metadata": {},
   "outputs": [],
   "source": [
    "downloads_full.drop_duplicates(subset=[\"expediente_n°_\", \"num\"], inplace=True)"
   ]
  },
  {
   "cell_type": "markdown",
   "id": "17ce7224",
   "metadata": {},
   "source": [
    "Merging the data with no duplicates"
   ]
  },
  {
   "cell_type": "code",
   "execution_count": 68,
   "id": "9be3c89c",
   "metadata": {},
   "outputs": [],
   "source": [
    "documents_amag = pd.merge(follow_up_amag_ii_raw, downloads_full, on=[\"expediente_n°_\", \"nrodocumento\", \"link\"], how=\"left\")"
   ]
  },
  {
   "cell_type": "markdown",
   "id": "99714dfb",
   "metadata": {},
   "source": [
    "## 4.2. Identify keywords from text, acto and sumilla columns "
   ]
  },
  {
   "cell_type": "markdown",
   "id": "c2e03635",
   "metadata": {},
   "source": [
    "### Filtering rows without information"
   ]
  },
  {
   "cell_type": "code",
   "execution_count": 69,
   "id": "ef75c493",
   "metadata": {
    "scrolled": true
   },
   "outputs": [],
   "source": [
    "documents_amag = documents_amag[(documents_amag[\"acto_\"] !=\"auto de saneamiento\") & (documents_amag[\"acto_\"] != \"nota\")]"
   ]
  },
  {
   "cell_type": "code",
   "execution_count": 70,
   "id": "5b291f48",
   "metadata": {
    "scrolled": false
   },
   "outputs": [],
   "source": [
    "documents_amag[\"text\"] = documents_amag[\"text\"].apply(lambda text: text if type(text) is not float else \"\")"
   ]
  },
  {
   "cell_type": "markdown",
   "id": "46bc1598",
   "metadata": {},
   "source": [
    "### 4.2.1. `Parte resolutiva` variable"
   ]
  },
  {
   "cell_type": "code",
   "execution_count": 71,
   "id": "b8a92b3c",
   "metadata": {},
   "outputs": [],
   "source": [
    "documents_amag[\"parte_resolutiva\"] = documents_amag[\"text\"].apply(lambda text: extract_text(text,\n",
    "                                                                                           r\"resuelve\\s*([^\\n\\r]*)|fallo\\s*([^\\n\\r]*)|resuelvo\\s*([^\\n\\r]*)\"))"
   ]
  },
  {
   "cell_type": "markdown",
   "id": "8b004da3",
   "metadata": {},
   "source": [
    "### 4.2.2. `Apela` variable"
   ]
  },
  {
   "cell_type": "code",
   "execution_count": 72,
   "id": "352321c0",
   "metadata": {},
   "outputs": [],
   "source": [
    "documents_amag[\"appeal\"] = documents_amag.apply(lambda row: 1 if \"apela\" in row.acto_ or \"apela\" in row.sumilla__x\n",
    "                                                or \"apela\" in row.sumilla__y else 0, axis=1)"
   ]
  },
  {
   "cell_type": "code",
   "execution_count": 73,
   "id": "576a7c66",
   "metadata": {},
   "outputs": [
    {
     "data": {
      "text/plain": [
       "0    977\n",
       "1     19\n",
       "Name: appeal, dtype: int64"
      ]
     },
     "execution_count": 73,
     "metadata": {},
     "output_type": "execute_result"
    }
   ],
   "source": [
    "documents_amag[\"appeal\"].value_counts()"
   ]
  },
  {
   "cell_type": "markdown",
   "id": "17c4f44c",
   "metadata": {},
   "source": [
    "### 4.2.3. `Sentencia` variable"
   ]
  },
  {
   "cell_type": "code",
   "execution_count": 74,
   "id": "e72234d1",
   "metadata": {},
   "outputs": [],
   "source": [
    "documents_amag[\"sentencia_acto\"] = documents_amag.apply(lambda row: 1 if \"sentencia\" in row.acto_ else 0, axis=1)\n",
    "documents_amag[\"sentencia_sumilla\"] = documents_amag.apply(lambda row: 1 if \"sentencia\" in row.sumilla__x or \n",
    "                                                           \"sentencia\" in row.sumilla__y else 0, axis=1)\n",
    "documents_amag[\"sentencia\"] = documents_amag.apply(lambda row: 1 if row.sentencia_acto == 1 or row.sentencia_sumilla == 1 \n",
    "                                                   else 0, axis=1)"
   ]
  },
  {
   "cell_type": "code",
   "execution_count": 75,
   "id": "8bc05c22",
   "metadata": {},
   "outputs": [
    {
     "data": {
      "text/plain": [
       "0    984\n",
       "1     12\n",
       "Name: sentencia_acto, dtype: int64"
      ]
     },
     "execution_count": 75,
     "metadata": {},
     "output_type": "execute_result"
    }
   ],
   "source": [
    "documents_amag[\"sentencia_acto\"].value_counts()"
   ]
  },
  {
   "cell_type": "code",
   "execution_count": 76,
   "id": "2a2fd5da",
   "metadata": {},
   "outputs": [
    {
     "data": {
      "text/plain": [
       "0    985\n",
       "1     11\n",
       "Name: sentencia_sumilla, dtype: int64"
      ]
     },
     "execution_count": 76,
     "metadata": {},
     "output_type": "execute_result"
    }
   ],
   "source": [
    "documents_amag[\"sentencia_sumilla\"].value_counts()"
   ]
  },
  {
   "cell_type": "code",
   "execution_count": 77,
   "id": "3d665165",
   "metadata": {},
   "outputs": [
    {
     "data": {
      "text/plain": [
       "0    973\n",
       "1     23\n",
       "Name: sentencia, dtype: int64"
      ]
     },
     "execution_count": 77,
     "metadata": {},
     "output_type": "execute_result"
    }
   ],
   "source": [
    "documents_amag[\"sentencia\"].value_counts()"
   ]
  },
  {
   "cell_type": "markdown",
   "id": "13a03e6d",
   "metadata": {},
   "source": [
    "### 4.2.4. `Auto` variable"
   ]
  },
  {
   "cell_type": "code",
   "execution_count": 78,
   "id": "960c32b7",
   "metadata": {},
   "outputs": [],
   "source": [
    "documents_amag[\"auto_final\"] = documents_amag.apply(lambda row: 1 if \"auto final\" in row.acto_ or \n",
    "                                                           \"auto final\" in row.sumilla__x or\n",
    "                                                           \"auto final\" in row.sumilla__y else 0, axis=1)"
   ]
  },
  {
   "cell_type": "code",
   "execution_count": 79,
   "id": "04fc7c8e",
   "metadata": {},
   "outputs": [],
   "source": [
    "documents_amag[\"auto_definitivo\"] = documents_amag.apply(lambda row: 1 if \"auto definitivo\" in row.acto_ or \n",
    "                                                           \"auto definitivo\" in row.sumilla__x or\n",
    "                                                           \"auto definitivo\" in row.sumilla__y else 0, axis=1)"
   ]
  },
  {
   "cell_type": "code",
   "execution_count": 80,
   "id": "fd338411",
   "metadata": {},
   "outputs": [
    {
     "data": {
      "text/plain": [
       "0    993\n",
       "1      3\n",
       "Name: auto_definitivo, dtype: int64"
      ]
     },
     "execution_count": 80,
     "metadata": {},
     "output_type": "execute_result"
    }
   ],
   "source": [
    "documents_amag[\"auto_definitivo\"].value_counts()"
   ]
  },
  {
   "cell_type": "markdown",
   "id": "61ae5925",
   "metadata": {},
   "source": [
    "### 4.2.5. `Final` variable"
   ]
  },
  {
   "cell_type": "code",
   "execution_count": 81,
   "id": "525d1cb3",
   "metadata": {},
   "outputs": [],
   "source": [
    "documents_amag[\"auto_improcedente\"] = documents_amag.apply(lambda row: 1 if \"auto que declara improcedente\" in row.acto_ or \n",
    "                                                           \"auto que declara improcedente\" in row.sumilla__x or\n",
    "                                                           \"auto que declara improcedente\" in row.sumilla__y or \n",
    "                                                           \"auto improcedente\" in row.acto_ or \n",
    "                                                           \"auto improcedente\" in row.sumilla__x or\n",
    "                                                           \"auto improcedente\" in row.sumilla__y else 0, axis=1)"
   ]
  },
  {
   "cell_type": "code",
   "execution_count": 82,
   "id": "c6b69d94",
   "metadata": {},
   "outputs": [
    {
     "data": {
      "text/plain": [
       "0    986\n",
       "1     10\n",
       "Name: auto_improcedente, dtype: int64"
      ]
     },
     "execution_count": 82,
     "metadata": {},
     "output_type": "execute_result"
    }
   ],
   "source": [
    "documents_amag[\"auto_improcedente\"].value_counts()"
   ]
  },
  {
   "cell_type": "markdown",
   "id": "5b6850a0",
   "metadata": {},
   "source": [
    "### 4.2.6. `Vista 2` variable"
   ]
  },
  {
   "cell_type": "code",
   "execution_count": 83,
   "id": "434f01d3",
   "metadata": {},
   "outputs": [],
   "source": [
    "documents_amag[\"vista2\"] = documents_amag.apply(lambda row: 1 if \"sentencia de vista\" in row.acto_ or \n",
    "                                                           \"sentencia de vista\" in row.sumilla__x or\n",
    "                                                           \"sentencia de vista\" in row.sumilla__y or \n",
    "                                                           \"auto de vista\" in row.acto_ or \n",
    "                                                           \"auto de vista\" in row.sumilla__x or\n",
    "                                                           \"auto de vista\" in row.sumilla__y else 0, axis=1)"
   ]
  },
  {
   "cell_type": "code",
   "execution_count": 84,
   "id": "6ce0d125",
   "metadata": {},
   "outputs": [
    {
     "data": {
      "text/plain": [
       "0    996\n",
       "Name: vista2, dtype: int64"
      ]
     },
     "execution_count": 84,
     "metadata": {},
     "output_type": "execute_result"
    }
   ],
   "source": [
    "documents_amag[\"vista2\"].value_counts()"
   ]
  },
  {
   "cell_type": "markdown",
   "id": "f96a46d5",
   "metadata": {},
   "source": [
    "### 4.2.7. `Revoca 2` variable"
   ]
  },
  {
   "cell_type": "code",
   "execution_count": 85,
   "id": "537ff35c",
   "metadata": {},
   "outputs": [],
   "source": [
    "documents_amag[\"revoca2\"] = documents_amag.apply(lambda row: 1 if \"vista que revoca\" in row.acto_ else 0, axis=1)"
   ]
  },
  {
   "cell_type": "code",
   "execution_count": 86,
   "id": "128accfb",
   "metadata": {},
   "outputs": [
    {
     "data": {
      "text/plain": [
       "0    996\n",
       "Name: revoca2, dtype: int64"
      ]
     },
     "execution_count": 86,
     "metadata": {},
     "output_type": "execute_result"
    }
   ],
   "source": [
    "documents_amag[\"revoca2\"].value_counts()"
   ]
  },
  {
   "cell_type": "markdown",
   "id": "de590d08",
   "metadata": {},
   "source": [
    "### 4.2.8. `Anula 2` variable"
   ]
  },
  {
   "cell_type": "code",
   "execution_count": 87,
   "id": "d09f9f8e",
   "metadata": {},
   "outputs": [],
   "source": [
    "documents_amag[\"nula2\"] = documents_amag.apply(lambda row: 1 if \"vista que anula\" in row.acto_ else 0, axis=1)"
   ]
  },
  {
   "cell_type": "code",
   "execution_count": 88,
   "id": "715ba317",
   "metadata": {},
   "outputs": [
    {
     "data": {
      "text/plain": [
       "0    996\n",
       "Name: nula2, dtype: int64"
      ]
     },
     "execution_count": 88,
     "metadata": {},
     "output_type": "execute_result"
    }
   ],
   "source": [
    "documents_amag[\"nula2\"].value_counts()"
   ]
  },
  {
   "cell_type": "markdown",
   "id": "962b01e3",
   "metadata": {},
   "source": [
    "### 4.2.9. `Confirma 2` variable"
   ]
  },
  {
   "cell_type": "code",
   "execution_count": 89,
   "id": "7102f2b1",
   "metadata": {},
   "outputs": [],
   "source": [
    "documents_amag[\"confirma2\"] = documents_amag.apply(lambda row: 1 if \"vista que confirma\" in row.acto_ else 0, axis=1)"
   ]
  },
  {
   "cell_type": "code",
   "execution_count": 90,
   "id": "3dfaba62",
   "metadata": {},
   "outputs": [
    {
     "data": {
      "text/plain": [
       "0    996\n",
       "Name: confirma2, dtype: int64"
      ]
     },
     "execution_count": 90,
     "metadata": {},
     "output_type": "execute_result"
    }
   ],
   "source": [
    "documents_amag[\"confirma2\"].value_counts()"
   ]
  },
  {
   "cell_type": "markdown",
   "id": "dc86fa89",
   "metadata": {},
   "source": [
    "### 4.2.10. `Fundada` variable"
   ]
  },
  {
   "cell_type": "code",
   "execution_count": 91,
   "id": "9779401c",
   "metadata": {},
   "outputs": [],
   "source": [
    "def evaluate_vals(row, list_substrs: list) -> int:\n",
    "    \"\"\"determines whether the case matches a substr from list\"\"\"\n",
    "    \n",
    "    values = [row.parte_resolutiva, row.sumilla__x, row.sumilla__y, row.acto_]\n",
    "    output = 0\n",
    "    for value in values:\n",
    "        if type(value) is not str:\n",
    "            break\n",
    "        else:\n",
    "            for substr in list_substrs:\n",
    "                if substr in value:\n",
    "                    output = 1\n",
    "                    return output\n",
    "    return output"
   ]
  },
  {
   "cell_type": "code",
   "execution_count": 92,
   "id": "5821b2aa",
   "metadata": {},
   "outputs": [],
   "source": [
    "documents_amag[\"fundada\"] = documents_amag.apply(lambda row: evaluate_vals(row, [\" fundada la demanda\", \"sentencia fundada\"]), axis=1)"
   ]
  },
  {
   "cell_type": "code",
   "execution_count": 93,
   "id": "e2719433",
   "metadata": {},
   "outputs": [
    {
     "data": {
      "text/plain": [
       "0    988\n",
       "1      8\n",
       "Name: fundada, dtype: int64"
      ]
     },
     "execution_count": 93,
     "metadata": {},
     "output_type": "execute_result"
    }
   ],
   "source": [
    "documents_amag[\"fundada\"].value_counts()"
   ]
  },
  {
   "cell_type": "markdown",
   "id": "198f51aa",
   "metadata": {},
   "source": [
    "### 4.2.11. `Fundada en parte` variable"
   ]
  },
  {
   "cell_type": "code",
   "execution_count": 94,
   "id": "d236441b",
   "metadata": {},
   "outputs": [],
   "source": [
    "documents_amag[\"fundada_parte\"] = documents_amag.apply(lambda row: evaluate_vals(row, [\"fundada en parte\"]), axis=1)"
   ]
  },
  {
   "cell_type": "code",
   "execution_count": 95,
   "id": "d38c65ac",
   "metadata": {
    "scrolled": true
   },
   "outputs": [
    {
     "data": {
      "text/plain": [
       "0    996\n",
       "Name: fundada_parte, dtype: int64"
      ]
     },
     "execution_count": 95,
     "metadata": {},
     "output_type": "execute_result"
    }
   ],
   "source": [
    "documents_amag[\"fundada_parte\"].value_counts()"
   ]
  },
  {
   "cell_type": "markdown",
   "id": "bb6725e0",
   "metadata": {},
   "source": [
    "### 4.2.12. `Infundada` variable"
   ]
  },
  {
   "cell_type": "code",
   "execution_count": 96,
   "id": "c3e221d4",
   "metadata": {},
   "outputs": [],
   "source": [
    "documents_amag[\"infundada\"] = documents_amag.apply(lambda row: evaluate_vals(row, [\"infundada la demanda\", \"sentencia infundada\"]), axis=1)"
   ]
  },
  {
   "cell_type": "code",
   "execution_count": 97,
   "id": "274c9053",
   "metadata": {},
   "outputs": [
    {
     "data": {
      "text/plain": [
       "0    996\n",
       "Name: infundada, dtype: int64"
      ]
     },
     "execution_count": 97,
     "metadata": {},
     "output_type": "execute_result"
    }
   ],
   "source": [
    "documents_amag[\"infundada\"].value_counts()"
   ]
  },
  {
   "cell_type": "markdown",
   "id": "3b6a576f",
   "metadata": {},
   "source": [
    "### 4.2.12. `Vista` variable"
   ]
  },
  {
   "cell_type": "code",
   "execution_count": 98,
   "id": "a2b44fb8",
   "metadata": {},
   "outputs": [],
   "source": [
    "documents_amag[\"vista\"] = documents_amag.apply(lambda row: evaluate_vals(row, [\"sentencia de vista\", \"auto de vista\"]), axis=1)"
   ]
  },
  {
   "cell_type": "code",
   "execution_count": 99,
   "id": "6f6dfa24",
   "metadata": {},
   "outputs": [
    {
     "data": {
      "text/plain": [
       "0    996\n",
       "Name: vista, dtype: int64"
      ]
     },
     "execution_count": 99,
     "metadata": {},
     "output_type": "execute_result"
    }
   ],
   "source": [
    "documents_amag[\"vista\"].value_counts()"
   ]
  },
  {
   "cell_type": "markdown",
   "id": "9ebab18f",
   "metadata": {},
   "source": [
    "### 4.2.13. `Revoca` variable"
   ]
  },
  {
   "cell_type": "code",
   "execution_count": 100,
   "id": "2033ada3",
   "metadata": {},
   "outputs": [],
   "source": [
    "documents_amag[\"revoca\"] = documents_amag.apply(lambda row: evaluate_vals(row, [\"vista que revoca\", \"revocar la sentencia\", \"revocar la resolucion\", \"revocar en parte\", \"revocaron la sentencia\", \"revocaron la resolución\"]), axis=1)"
   ]
  },
  {
   "cell_type": "code",
   "execution_count": 101,
   "id": "51a74954",
   "metadata": {},
   "outputs": [
    {
     "data": {
      "text/plain": [
       "0    996\n",
       "Name: revoca, dtype: int64"
      ]
     },
     "execution_count": 101,
     "metadata": {},
     "output_type": "execute_result"
    }
   ],
   "source": [
    "documents_amag[\"revoca\"].value_counts()"
   ]
  },
  {
   "cell_type": "markdown",
   "id": "a4001c27",
   "metadata": {},
   "source": [
    "### 4.2.13. `Anula` variable"
   ]
  },
  {
   "cell_type": "code",
   "execution_count": 102,
   "id": "222d299b",
   "metadata": {},
   "outputs": [],
   "source": [
    "documents_amag[\"nula\"] = documents_amag.apply(lambda row: evaluate_vals(row, [\"vista que anula\", \"declarar nula\", \"declara nula\", \"declara nulo\", \"declarar nulo\", \"declarar: nula\", \"declarar la nulidad\", \"declararon nula\"]), axis=1)"
   ]
  },
  {
   "cell_type": "code",
   "execution_count": 103,
   "id": "e2623b1e",
   "metadata": {},
   "outputs": [
    {
     "data": {
      "text/plain": [
       "0    996\n",
       "Name: nula, dtype: int64"
      ]
     },
     "execution_count": 103,
     "metadata": {},
     "output_type": "execute_result"
    }
   ],
   "source": [
    "documents_amag[\"nula\"].value_counts()"
   ]
  },
  {
   "cell_type": "markdown",
   "id": "8db15baf",
   "metadata": {},
   "source": [
    "### 4.2.14. `Confirma` variable"
   ]
  },
  {
   "cell_type": "code",
   "execution_count": 104,
   "id": "bc540e2f",
   "metadata": {},
   "outputs": [],
   "source": [
    "documents_amag[\"confirma\"] = documents_amag.apply(lambda row: evaluate_vals(row, [\"vista que confirma\", \"confirmaron el auto\", \"confirmaron la sentencia\", \"aprobaron la sentencia\", \"confirma sentencia\", \"confirma la sentencia\", \n",
    "                                                                                  \"confirmar la sentencia\", \"confirmar resolucion\", \"confirmar resolución\", \"confirmar la resolucion\", \"confirmar en parte\", \"confirmar la resolución\"]), axis=1)"
   ]
  },
  {
   "cell_type": "code",
   "execution_count": 105,
   "id": "cf209f6f",
   "metadata": {},
   "outputs": [
    {
     "data": {
      "text/plain": [
       "0    996\n",
       "Name: confirma, dtype: int64"
      ]
     },
     "execution_count": 105,
     "metadata": {},
     "output_type": "execute_result"
    }
   ],
   "source": [
    "documents_amag[\"confirma\"].value_counts()"
   ]
  },
  {
   "cell_type": "code",
   "execution_count": 106,
   "id": "ba109495",
   "metadata": {},
   "outputs": [],
   "source": [
    "documents_amag.to_csv(dc_interm_path + \"/documents_amag_ii_clean.csv\")"
   ]
  },
  {
   "cell_type": "markdown",
   "id": "a217871f",
   "metadata": {},
   "source": [
    "## 4.3. Preprocessing of reportes and procedural parts"
   ]
  },
  {
   "cell_type": "markdown",
   "id": "f3d22b4e",
   "metadata": {},
   "source": [
    "Obtaining reportes"
   ]
  },
  {
   "cell_type": "code",
   "execution_count": 107,
   "id": "f5b33440",
   "metadata": {},
   "outputs": [],
   "source": [
    "reportes_amag = reportes_amag_ii_raw[[\"expediente_n°_\", \"distrito_judicial__x\", \"distrito_judicial__y\", \"proceso__x\", \n",
    "                                      \"proceso__y\", \"especialidad__x\", \"especialidad__y\", \"estado__x\", \"estado__y\", \n",
    "                                      \"etapa_procesal__x\", \"etapa_procesal__y\"]]"
   ]
  },
  {
   "cell_type": "code",
   "execution_count": 108,
   "id": "b3916fbc",
   "metadata": {},
   "outputs": [],
   "source": [
    "reportes_amag.to_csv(dc_interm_path + \"/reportes_amag_ii_clean.csv\")"
   ]
  },
  {
   "cell_type": "markdown",
   "id": "793d3f81",
   "metadata": {},
   "source": [
    "Obtaining procedural parts"
   ]
  },
  {
   "cell_type": "code",
   "execution_count": 109,
   "id": "efa03f26",
   "metadata": {},
   "outputs": [],
   "source": [
    "procedural_parts_amag_ii_raw = read_pickle(\"procedural_parts_amag_ii_raw.pkl\", dc_temp_path)"
   ]
  },
  {
   "cell_type": "markdown",
   "id": "dfe219de",
   "metadata": {},
   "source": [
    "### 4.3.1. Creating `parties` variable"
   ]
  },
  {
   "cell_type": "code",
   "execution_count": 110,
   "id": "57c2e969",
   "metadata": {},
   "outputs": [],
   "source": [
    "procedural_parts_amag_ii_raw[\"parties\"] = procedural_parts_amag_ii_raw.apply(lambda row: \"plaintiff\" if \n",
    "                                                                             row.parte == \"DEMANDANTE\" or \n",
    "                                                                             row.parte == \"AGRAVIADO\" or \n",
    "                                                                             row.parte == \"VÍCTIMA\" or\n",
    "                                                                             row.parte == \"SOLICITANTE\" or\n",
    "                                                                             row.parte == \"DENUNCIANTE\"\n",
    "                                                                             else np.NaN, axis=1)"
   ]
  },
  {
   "cell_type": "code",
   "execution_count": 111,
   "id": "db869395",
   "metadata": {},
   "outputs": [],
   "source": [
    "procedural_parts_amag_ii_raw[\"parties\"] = procedural_parts_amag_ii_raw.apply(lambda row: \"defendant\" if \n",
    "                                                                             row.parte == \"DEMANDADO\" or \n",
    "                                                                             row.parte == \"AGRESOR\" or \n",
    "                                                                             row.parte == \"DENUNCIADO\"\n",
    "                                                                             else row.parties, axis=1)"
   ]
  },
  {
   "cell_type": "code",
   "execution_count": 112,
   "id": "929bbd8b",
   "metadata": {},
   "outputs": [],
   "source": [
    "procedural_parts_amag_ii_raw[\"parties\"] = procedural_parts_amag_ii_raw.apply(lambda row: \"other\" if \n",
    "                                                                             row.parties != \"plaintiff\" and \n",
    "                                                                             row.parties != \"defendant\"\n",
    "                                                                             else row.parties, axis=1)"
   ]
  },
  {
   "cell_type": "code",
   "execution_count": 113,
   "id": "c8ac21ac",
   "metadata": {
    "scrolled": true
   },
   "outputs": [
    {
     "data": {
      "text/plain": [
       "defendant    318\n",
       "plaintiff    232\n",
       "other          5\n",
       "Name: parties, dtype: int64"
      ]
     },
     "execution_count": 113,
     "metadata": {},
     "output_type": "execute_result"
    }
   ],
   "source": [
    "procedural_parts_amag_ii_raw[\"parties\"].value_counts()"
   ]
  },
  {
   "cell_type": "markdown",
   "id": "b7bace02",
   "metadata": {},
   "source": [
    "### 4.3.2. Creating `first_name` and `second_name` variables"
   ]
  },
  {
   "cell_type": "code",
   "execution_count": 114,
   "id": "412fab53",
   "metadata": {
    "scrolled": false
   },
   "outputs": [],
   "source": [
    "procedural_parts_amag_ii_raw[\"nombres\"] = procedural_parts_amag_ii_raw[\"nombres\"].apply(lambda nombres:\n",
    "                                                            nombres.lower() if nombres != \"\\t\\t\\t\\t\\t\\t\\t\\t\\t\\t\\t\\t\\t\"\n",
    "                                                            else \"\")"
   ]
  },
  {
   "cell_type": "code",
   "execution_count": 115,
   "id": "cf27a277",
   "metadata": {},
   "outputs": [],
   "source": [
    "procedural_parts_amag_ii_raw[\"first_name\"] = procedural_parts_amag_ii_raw[\"nombres\"].apply(lambda nombres: \n",
    "                                                                                           nombres.split(\" \")[0])\n",
    "procedural_parts_amag_ii_raw[\"second_name\"] = procedural_parts_amag_ii_raw[\"nombres\"].apply(lambda nombres: \n",
    "                                                                                           nombres.split(\" \")[1] \n",
    "                                                                                           if len(nombres.split(\" \")) == 2\n",
    "                                                                                           else \"\")"
   ]
  },
  {
   "cell_type": "code",
   "execution_count": 116,
   "id": "3a6081e6",
   "metadata": {},
   "outputs": [],
   "source": [
    "procedural_parts_amag = pd.merge(procedural_parts_amag_ii_raw, gender_dataset, how=\"left\", \n",
    "                                 left_on=\"first_name\", right_on=\"name\")\n",
    "procedural_parts_amag = procedural_parts_amag.rename(columns={\"female\": \"female_first\"})\n",
    "procedural_parts_amag = procedural_parts_amag.drop(columns=[\"name\"])"
   ]
  },
  {
   "cell_type": "code",
   "execution_count": 117,
   "id": "e4572d2d",
   "metadata": {},
   "outputs": [],
   "source": [
    "procedural_parts_amag = pd.merge(procedural_parts_amag, gender_dataset, how=\"left\", \n",
    "                                 left_on=\"second_name\", right_on=\"name\")\n",
    "procedural_parts_amag = procedural_parts_amag.rename(columns={\"female\": \"female_second\"})\n",
    "procedural_parts_amag = procedural_parts_amag.drop(columns=[\"name\"])"
   ]
  },
  {
   "cell_type": "code",
   "execution_count": 118,
   "id": "c404b8cb",
   "metadata": {
    "scrolled": true
   },
   "outputs": [],
   "source": [
    "procedural_parts_amag[\"female\"] = procedural_parts_amag.apply(lambda row: 1 if row.female_first == 1 else np.NaN, axis=1)\n",
    "procedural_parts_amag[\"female\"] = procedural_parts_amag.apply(lambda row: 0 if row.female_first == 0 else row.female, axis=1)"
   ]
  },
  {
   "cell_type": "code",
   "execution_count": 119,
   "id": "9118239c",
   "metadata": {
    "scrolled": false
   },
   "outputs": [
    {
     "data": {
      "text/plain": [
       "0.0    119\n",
       "1.0     93\n",
       "Name: female, dtype: int64"
      ]
     },
     "execution_count": 119,
     "metadata": {},
     "output_type": "execute_result"
    }
   ],
   "source": [
    "procedural_parts_amag[\"female\"].value_counts()"
   ]
  },
  {
   "cell_type": "markdown",
   "id": "4689e82a",
   "metadata": {},
   "source": [
    "### 4.3.4. Creating `legal_entity` variable"
   ]
  },
  {
   "cell_type": "code",
   "execution_count": 120,
   "id": "f5ec46d5",
   "metadata": {},
   "outputs": [],
   "source": [
    "procedural_parts_amag[\"legal_entity\"] = procedural_parts_amag[\"tipo_depersona\"].apply(lambda tipo_de_persona:\n",
    "                                                                                     1 if tipo_de_persona == \"JURIDICA\"\n",
    "                                                                                     else 0)"
   ]
  },
  {
   "cell_type": "markdown",
   "id": "1d24af11",
   "metadata": {},
   "source": [
    "### 4.3.5. Collapsing at the expediente level"
   ]
  },
  {
   "cell_type": "code",
   "execution_count": 121,
   "id": "e3470bc3",
   "metadata": {},
   "outputs": [],
   "source": [
    "procedural_parts_amag_collapsed = procedural_parts_amag[[\"expediente_n°_\", \"parties\", \"female\", \"legal_entity\"]].groupby(\n",
    "                             by=[\"expediente_n°_\", \"parties\"]).agg(female_ratio=(\"female\", \"mean\"),\n",
    "                                                                   female_indicator=(\"female\", \"max\"),\n",
    "                                                                   legal_entity_ratio=(\"legal_entity\", \"mean\"),\n",
    "                                                                   legal_entity_indicator=(\"legal_entity\", \"max\")\n",
    "                                                                   ).reset_index()"
   ]
  },
  {
   "cell_type": "markdown",
   "id": "1427187e",
   "metadata": {},
   "source": [
    "### 4.3.6. Reshaping dataframe"
   ]
  },
  {
   "cell_type": "code",
   "execution_count": 122,
   "id": "d4dcb177",
   "metadata": {
    "scrolled": true
   },
   "outputs": [],
   "source": [
    "procedural_parts_amag_reshaped = pd.pivot_table(procedural_parts_amag_collapsed, values=[\"female_ratio\", \"legal_entity_ratio\", \"female_indicator\", \n",
    "                           \"legal_entity_indicator\"], columns=[\"parties\"], index=[\"expediente_n°_\"])"
   ]
  },
  {
   "cell_type": "code",
   "execution_count": 123,
   "id": "7c4a528e",
   "metadata": {},
   "outputs": [],
   "source": [
    "procedural_parts_amag_reshaped.columns = [\"_\".join(col).strip() for col in procedural_parts_amag_reshaped.columns.values]"
   ]
  },
  {
   "cell_type": "markdown",
   "id": "08d386db",
   "metadata": {},
   "source": [
    "Storing results"
   ]
  },
  {
   "cell_type": "code",
   "execution_count": 124,
   "id": "57f4c4ae",
   "metadata": {},
   "outputs": [],
   "source": [
    "procedural_parts_amag_collapsed.to_csv(dc_interm_path + \"/procedural_parts_amag_ii_clean.csv\")"
   ]
  },
  {
   "cell_type": "markdown",
   "id": "c7baea10",
   "metadata": {},
   "source": [
    "# 5. Creating case outcomes variables"
   ]
  },
  {
   "cell_type": "code",
   "execution_count": 125,
   "id": "6a231175",
   "metadata": {},
   "outputs": [],
   "source": [
    "documents_amag_clean = pd.read_csv(dc_interm_path + \"/documents_amag_ii_clean.csv\")"
   ]
  },
  {
   "cell_type": "code",
   "execution_count": 126,
   "id": "89896470",
   "metadata": {},
   "outputs": [],
   "source": [
    "reportes_amag_clean = pd.read_csv(dc_interm_path + \"/reportes_amag_ii_clean.csv\")"
   ]
  },
  {
   "cell_type": "code",
   "execution_count": 127,
   "id": "839682cb",
   "metadata": {},
   "outputs": [],
   "source": [
    "procedural_parts_amag_clean = pd.read_csv(dc_interm_path + \"/procedural_parts_amag_ii_clean.csv\")"
   ]
  },
  {
   "cell_type": "markdown",
   "id": "674b26c8",
   "metadata": {},
   "source": [
    "## 5.1. Creating fundada outcomes"
   ]
  },
  {
   "cell_type": "markdown",
   "id": "082e334a",
   "metadata": {},
   "source": [
    "### 5.1.1. Preparing fundada variables for outcome creation"
   ]
  },
  {
   "cell_type": "code",
   "execution_count": 128,
   "id": "c186edd4",
   "metadata": {},
   "outputs": [],
   "source": [
    "documents_amag_fundada = documents_amag_clean.groupby(\"expediente_n°_\").agg(fundada=(\"fundada\", \"max\"),\n",
    "                                                   fundada_parte=(\"fundada_parte\", \"max\"),\n",
    "                                                   infundada=(\"infundada\", \"max\")).reset_index()"
   ]
  },
  {
   "cell_type": "code",
   "execution_count": 129,
   "id": "04ef0097",
   "metadata": {},
   "outputs": [],
   "source": [
    "# dropping NaN values\n",
    "documents_amag_fundada = documents_amag_fundada[documents_amag_fundada[[\"expediente_n°_\", \"fundada\", \"fundada_parte\", \"infundada\"]].notna()]"
   ]
  },
  {
   "cell_type": "markdown",
   "id": "c269f450",
   "metadata": {},
   "source": [
    "### 5.1.2. Creating fundada variables based on intermediate variables"
   ]
  },
  {
   "cell_type": "code",
   "execution_count": 130,
   "id": "08ae8dd4",
   "metadata": {},
   "outputs": [],
   "source": [
    "documents_amag_fundada[\"var_fundada\"] = documents_amag_fundada.apply(lambda row: 1 if row[\"fundada\"] == 1 else \n",
    "                                                                     0 if row[\"fundada\"] == 0 else np.NaN, axis=1)"
   ]
  },
  {
   "cell_type": "code",
   "execution_count": 131,
   "id": "38534f53",
   "metadata": {},
   "outputs": [],
   "source": [
    "documents_amag_fundada[\"var_fundada\"] = documents_amag_fundada.apply(lambda row: 1 if row[\"fundada_parte\"] == 1 else \n",
    "                                                                     row[\"var_fundada\"], axis=1) "
   ]
  },
  {
   "cell_type": "markdown",
   "id": "64503621",
   "metadata": {},
   "source": [
    "Storing results"
   ]
  },
  {
   "cell_type": "code",
   "execution_count": 132,
   "id": "9826b522",
   "metadata": {},
   "outputs": [],
   "source": [
    "fundada_var = documents_amag_fundada[[\"expediente_n°_\", \"var_fundada\"]]"
   ]
  },
  {
   "cell_type": "code",
   "execution_count": 133,
   "id": "bc5572ac",
   "metadata": {},
   "outputs": [
    {
     "data": {
      "text/plain": [
       "0    213\n",
       "1      8\n",
       "Name: var_fundada, dtype: int64"
      ]
     },
     "execution_count": 133,
     "metadata": {},
     "output_type": "execute_result"
    }
   ],
   "source": [
    "fundada_var[\"var_fundada\"].value_counts()"
   ]
  },
  {
   "cell_type": "markdown",
   "id": "f105cd90",
   "metadata": {},
   "source": [
    "## 5.2. Creating resolution outcomes"
   ]
  },
  {
   "cell_type": "markdown",
   "id": "56d468fe",
   "metadata": {},
   "source": [
    "### 5.2.1. Preparing fundada variables for outcome creation"
   ]
  },
  {
   "cell_type": "code",
   "execution_count": 134,
   "id": "42efae0e",
   "metadata": {},
   "outputs": [],
   "source": [
    "documents_amag_resolution = documents_amag_clean.groupby(\"expediente_n°_\").agg(vista2=(\"vista2\", \"max\"),\n",
    "                                                   revoca2=(\"revoca2\", \"max\"),\n",
    "                                                   nula2=(\"nula2\", \"max\"),\n",
    "                                                   confirma2=(\"confirma2\", \"max\"),\n",
    "                                                   auto_improcedente=(\"auto_improcedente\", \"max\"), \n",
    "                                                   auto_final=(\"auto_final\", \"max\"),\n",
    "                                                   auto_definitivo=(\"auto_definitivo\", \"max\"),\n",
    "                                                   fundada=(\"fundada\", \"max\"),\n",
    "                                                   fundada_parte=(\"fundada_parte\", \"max\"),\n",
    "                                                   infundada=(\"infundada\", \"max\")).reset_index()"
   ]
  },
  {
   "cell_type": "code",
   "execution_count": 135,
   "id": "98c6337d",
   "metadata": {},
   "outputs": [],
   "source": [
    "# dropping NaN values\n",
    "documents_amag_resolution = documents_amag_resolution[documents_amag_resolution[[\"expediente_n°_\", \"vista2\", \"revoca2\", \n",
    "                                                                                 \"nula2\", \"confirma2\", \"auto_improcedente\",\n",
    "                                                                                 \"auto_final\", \"auto_definitivo\",\n",
    "                                                                                 \"fundada\", \"fundada_parte\", \"infundada\"]].notna()]"
   ]
  },
  {
   "cell_type": "markdown",
   "id": "3b465a1f",
   "metadata": {},
   "source": [
    "### 5.1.2. Creating fundada variables based on intermediate variables"
   ]
  },
  {
   "cell_type": "code",
   "execution_count": 136,
   "id": "9e6dddb0",
   "metadata": {},
   "outputs": [],
   "source": [
    "documents_amag_resolution[\"var_resolution\"] = documents_amag_resolution.apply(lambda row: 1 if row[\"vista2\"] == 1 or\n",
    "                                                                              row[\"revoca2\"] == 1 or row[\"nula2\"] == 1 or\n",
    "                                                                              row[\"confirma2\"] == 1 or \n",
    "                                                                              row[\"auto_improcedente\"] == 1 or\n",
    "                                                                              row[\"auto_final\"] == 1 or\n",
    "                                                                              row[\"auto_definitivo\"] == 1 or\n",
    "                                                                              row[\"fundada\"] == 1 or\n",
    "                                                                              row[\"fundada_parte\"] == 1 or\n",
    "                                                                              row[\"infundada\"] == 1 else 0, \n",
    "                                                                              axis=1)"
   ]
  },
  {
   "cell_type": "markdown",
   "id": "5aee55ac",
   "metadata": {},
   "source": [
    "Storing results"
   ]
  },
  {
   "cell_type": "code",
   "execution_count": 137,
   "id": "51cdb590",
   "metadata": {},
   "outputs": [],
   "source": [
    "resolution_var = documents_amag_resolution[[\"expediente_n°_\", \"var_resolution\"]]"
   ]
  },
  {
   "cell_type": "code",
   "execution_count": 138,
   "id": "d8177729",
   "metadata": {},
   "outputs": [
    {
     "data": {
      "text/plain": [
       "0    163\n",
       "1     58\n",
       "Name: var_resolution, dtype: int64"
      ]
     },
     "execution_count": 138,
     "metadata": {},
     "output_type": "execute_result"
    }
   ],
   "source": [
    "resolution_var[\"var_resolution\"].value_counts()"
   ]
  },
  {
   "cell_type": "markdown",
   "id": "15b5e6e7",
   "metadata": {},
   "source": [
    "## 5.3. Creating appeal outcomes"
   ]
  },
  {
   "cell_type": "markdown",
   "id": "5141a867",
   "metadata": {},
   "source": [
    "### 5.3.1. Filtering data"
   ]
  },
  {
   "cell_type": "code",
   "execution_count": 139,
   "id": "f945d0be",
   "metadata": {
    "scrolled": true
   },
   "outputs": [],
   "source": [
    "documents_amag_appeal = documents_amag_clean.copy() # creating appeal df\n",
    "documents_amag_appeal[\"decision\"] = documents_amag_appeal.apply(lambda row: 1 if row[\"fundada\"] == 1 or \n",
    "                                                                row[\"fundada_parte\"] == 1 or\n",
    "                                                                row[\"fundada_parte\"] == 1 else 0, axis=1)\n",
    "documents_amag_appeal = documents_amag_appeal[documents_amag_appeal[\"decision\"] == 1]"
   ]
  },
  {
   "cell_type": "code",
   "execution_count": 140,
   "id": "b3cd533c",
   "metadata": {
    "scrolled": true
   },
   "outputs": [],
   "source": [
    "documents_amag_appeal = documents_amag_appeal[documents_amag_appeal[\"decision\"] == 1]"
   ]
  },
  {
   "cell_type": "markdown",
   "id": "9d3efd5e",
   "metadata": {},
   "source": [
    "### 5.3.2. Creating appeal variables "
   ]
  },
  {
   "cell_type": "code",
   "execution_count": 141,
   "id": "3c063afc",
   "metadata": {},
   "outputs": [],
   "source": [
    "# appeal col\n",
    "documents_amag_appeal = documents_amag_appeal.groupby(\"expediente_n°_\").agg(var_appeal=(\"appeal\", \"max\")).reset_index()"
   ]
  },
  {
   "cell_type": "code",
   "execution_count": 142,
   "id": "7fc80fd1",
   "metadata": {},
   "outputs": [],
   "source": [
    "columns = [\"c1\", \"c2\", \"c3\", \"c4\", \"c5\", \"c6\", \"c7\"] # expediente cols NOTE: this is not used in R script\n",
    "documents_amag_appeal[columns] = documents_amag_appeal[\"expediente_n°_\"].str.split(\"-\", expand=True)"
   ]
  },
  {
   "cell_type": "markdown",
   "id": "036e261a",
   "metadata": {},
   "source": [
    "Storing results"
   ]
  },
  {
   "cell_type": "code",
   "execution_count": 143,
   "id": "47787273",
   "metadata": {},
   "outputs": [],
   "source": [
    "appeal_var = documents_amag_appeal[[\"expediente_n°_\", \"var_appeal\"]]"
   ]
  },
  {
   "cell_type": "code",
   "execution_count": 144,
   "id": "f30fc96a",
   "metadata": {},
   "outputs": [
    {
     "data": {
      "text/plain": [
       "0    8\n",
       "Name: var_appeal, dtype: int64"
      ]
     },
     "execution_count": 144,
     "metadata": {},
     "output_type": "execute_result"
    }
   ],
   "source": [
    "appeal_var[\"var_appeal\"].value_counts()"
   ]
  },
  {
   "cell_type": "markdown",
   "id": "a3a795fa",
   "metadata": {},
   "source": [
    "## 5.3. Creating reversal outcomes"
   ]
  },
  {
   "cell_type": "markdown",
   "id": "1819e0c8",
   "metadata": {},
   "source": [
    "### 5.3.1. Creating reversal variables "
   ]
  },
  {
   "cell_type": "code",
   "execution_count": 145,
   "id": "0ec33c08",
   "metadata": {},
   "outputs": [],
   "source": [
    "# reversal col\n",
    "documents_amag_reversal = documents_amag_clean.groupby(\"expediente_n°_\").agg(vista=(\"vista\", \"max\"),\n",
    "                                                                            revoca=(\"revoca\", \"max\"),\n",
    "                                                                            nula=(\"nula\", \"max\"),\n",
    "                                                                            confirma=(\"confirma\", \"max\")).reset_index()"
   ]
  },
  {
   "cell_type": "code",
   "execution_count": 146,
   "id": "dd68421c",
   "metadata": {},
   "outputs": [],
   "source": [
    "documents_amag_reversal[\"var_reversal\"] = documents_amag_reversal.apply(lambda row: 1 if row.revoca == 1 or \n",
    "                                                                       row.nula == 1 else 0, axis=1)"
   ]
  },
  {
   "cell_type": "code",
   "execution_count": 147,
   "id": "05b44e86",
   "metadata": {},
   "outputs": [
    {
     "data": {
      "text/plain": [
       "0    221\n",
       "Name: var_reversal, dtype: int64"
      ]
     },
     "execution_count": 147,
     "metadata": {},
     "output_type": "execute_result"
    }
   ],
   "source": [
    "documents_amag_reversal[\"var_reversal\"].value_counts()"
   ]
  },
  {
   "cell_type": "markdown",
   "id": "46e7f498",
   "metadata": {},
   "source": [
    "### 5.3.2. Merging with appeal var and storing results"
   ]
  },
  {
   "cell_type": "code",
   "execution_count": 148,
   "id": "ff909798",
   "metadata": {},
   "outputs": [],
   "source": [
    "reversal_var = pd.merge(documents_amag_reversal[[\"expediente_n°_\", \"var_reversal\"]], appeal_var)"
   ]
  },
  {
   "cell_type": "markdown",
   "id": "4d78c2e3",
   "metadata": {},
   "source": [
    "## 5.4. Creating first auto outcome"
   ]
  },
  {
   "cell_type": "code",
   "execution_count": 149,
   "id": "01ab499d",
   "metadata": {},
   "outputs": [],
   "source": [
    "date_first_auto_var = documents_amag_clean.groupby(\"expediente_n°_\").agg(date_first_auto=(\"date\", \"min\")).reset_index()"
   ]
  },
  {
   "cell_type": "markdown",
   "id": "fb94635b",
   "metadata": {},
   "source": [
    "## 5.5. Creating end date for resolutions"
   ]
  },
  {
   "cell_type": "markdown",
   "id": "f777776c",
   "metadata": {},
   "source": [
    "### 5.5.1. Filtering data"
   ]
  },
  {
   "cell_type": "code",
   "execution_count": 150,
   "id": "e9895392",
   "metadata": {},
   "outputs": [],
   "source": [
    "date_resolution_var = documents_amag_clean[(documents_amag_clean[\"vista2\"] == 1) |\n",
    "                                           (documents_amag_clean[\"revoca2\"] == 1) |\n",
    "                                           (documents_amag_clean[\"nula2\"] == 1) | \n",
    "                                           (documents_amag_clean[\"confirma2\"] == 1) | \n",
    "                                           (documents_amag_clean[\"auto_improcedente\"] == 1) | \n",
    "                                           (documents_amag_clean[\"auto_definitivo\"] == 1) | \n",
    "                                           (documents_amag_clean[\"auto_final\"] == 1) | \n",
    "                                           (documents_amag_clean[\"fundada\"] == 1) | \n",
    "                                           (documents_amag_clean[\"fundada_parte\"] == 1) | \n",
    "                                           (documents_amag_clean[\"infundada\"] == 1)]"
   ]
  },
  {
   "cell_type": "markdown",
   "id": "30d218de",
   "metadata": {},
   "source": [
    "### 5.5.2. Creating date variable"
   ]
  },
  {
   "cell_type": "code",
   "execution_count": 151,
   "id": "f6b2e0ca",
   "metadata": {},
   "outputs": [],
   "source": [
    "date_resolution_var = date_resolution_var.groupby(\"expediente_n°_\").agg(date_resolution=(\"date\", \"max\")).reset_index()"
   ]
  },
  {
   "cell_type": "markdown",
   "id": "5898e4d8",
   "metadata": {},
   "source": [
    "## 5.6. Creating end date for verdict"
   ]
  },
  {
   "cell_type": "markdown",
   "id": "17964e2c",
   "metadata": {},
   "source": [
    "### 5.6.1. Filtering data"
   ]
  },
  {
   "cell_type": "code",
   "execution_count": 152,
   "id": "b26792b8",
   "metadata": {},
   "outputs": [],
   "source": [
    "date_verdict_var = documents_amag_clean[(documents_amag_clean[\"fundada\"] == 1) |\n",
    "                                         (documents_amag_clean[\"fundada_parte\"] == 1) |\n",
    "                                         (documents_amag_clean[\"infundada\"] == 1)]"
   ]
  },
  {
   "cell_type": "markdown",
   "id": "d0154b6b",
   "metadata": {},
   "source": [
    "### 5.6.2. Creating date variable and storing data"
   ]
  },
  {
   "cell_type": "code",
   "execution_count": 153,
   "id": "02058e4c",
   "metadata": {},
   "outputs": [],
   "source": [
    "date_verdict_var = date_verdict_var.groupby(\"expediente_n°_\").agg(date_verdict=(\"date\", \"max\")).reset_index().drop_duplicates()"
   ]
  },
  {
   "cell_type": "markdown",
   "id": "8b2552bc",
   "metadata": {},
   "source": [
    "## 5.7. Creating end date for reversals"
   ]
  },
  {
   "cell_type": "markdown",
   "id": "2dc5d678",
   "metadata": {},
   "source": [
    "### 5.7.1. Filtering data"
   ]
  },
  {
   "cell_type": "code",
   "execution_count": 154,
   "id": "a6174711",
   "metadata": {},
   "outputs": [],
   "source": [
    "documents_amag_d_reversal = documents_amag_clean[(documents_amag_clean[\"revoca\"] == 1) |\n",
    "                                         (documents_amag_clean[\"nula\"] == 1) |\n",
    "                                         (documents_amag_clean[\"confirma\"] == 1)]"
   ]
  },
  {
   "cell_type": "markdown",
   "id": "ec1d28aa",
   "metadata": {},
   "source": [
    "### 5.7.2. Creating date variables"
   ]
  },
  {
   "cell_type": "code",
   "execution_count": 155,
   "id": "3bed9ad2",
   "metadata": {},
   "outputs": [],
   "source": [
    "date_reversal_var = documents_amag_d_reversal.groupby(\"expediente_n°_\").agg(date_reversal=(\"date\", \"max\")).reset_index().drop_duplicates()"
   ]
  },
  {
   "cell_type": "markdown",
   "id": "928e2a7c",
   "metadata": {},
   "source": [
    "### 5.7.3. Keeping data with `reversal verdict length > 0`"
   ]
  },
  {
   "cell_type": "markdown",
   "id": "5ee375db",
   "metadata": {},
   "source": [
    "Merging date of reversal date w/ reversal df"
   ]
  },
  {
   "cell_type": "code",
   "execution_count": 158,
   "id": "519f1ee0",
   "metadata": {},
   "outputs": [],
   "source": [
    "date_reversal_var = pd.merge(date_reversal_var, reversal_var)"
   ]
  },
  {
   "cell_type": "code",
   "execution_count": 159,
   "id": "259b7eeb",
   "metadata": {},
   "outputs": [],
   "source": [
    "date_reversal_var = pd.merge(date_reversal_var, date_verdict_var)"
   ]
  },
  {
   "cell_type": "markdown",
   "id": "fb432ee7",
   "metadata": {},
   "source": [
    "Length of reversal verdict"
   ]
  },
  {
   "cell_type": "code",
   "execution_count": 161,
   "id": "ca8d6a6b",
   "metadata": {},
   "outputs": [],
   "source": [
    "date_reversal_var[\"length_verdict_reversal\"] = date_reversal_var[\"date_reversal\"] - date_reversal_var[\"date_verdict\"]"
   ]
  },
  {
   "cell_type": "code",
   "execution_count": 162,
   "id": "19ce2838",
   "metadata": {},
   "outputs": [],
   "source": [
    "date_reversal_var = date_reversal_var[date_reversal_var[\"length_verdict_reversal\"] > 0]"
   ]
  },
  {
   "cell_type": "markdown",
   "id": "9ffba9bf",
   "metadata": {},
   "source": [
    "## 5.7. Creating case outcomes dataframe"
   ]
  },
  {
   "cell_type": "code",
   "execution_count": 163,
   "id": "5f2ec3e7",
   "metadata": {},
   "outputs": [],
   "source": [
    "case_outcomes = pd.merge(fundada_var, appeal_var)"
   ]
  },
  {
   "cell_type": "code",
   "execution_count": 164,
   "id": "b25d8ecb",
   "metadata": {},
   "outputs": [],
   "source": [
    "case_outcomes = pd.merge(case_outcomes, resolution_var)"
   ]
  },
  {
   "cell_type": "code",
   "execution_count": 165,
   "id": "febd7954",
   "metadata": {},
   "outputs": [],
   "source": [
    "case_outcomes = pd.merge(case_outcomes, date_first_auto_var)"
   ]
  },
  {
   "cell_type": "code",
   "execution_count": 166,
   "id": "d46d7b01",
   "metadata": {},
   "outputs": [],
   "source": [
    "case_outcomes = pd.merge(case_outcomes, date_verdict_var)"
   ]
  },
  {
   "cell_type": "markdown",
   "id": "fa3d8f70",
   "metadata": {},
   "source": [
    "**TODO:** Run cell when real data available\n",
    "```python\n",
    "case_outcomes = pd.merge(case_outcomes, date_reversal_var) # it'll generate empty results if no vals in date_reversal\n",
    "```"
   ]
  },
  {
   "cell_type": "code",
   "execution_count": 167,
   "id": "a9bbd241",
   "metadata": {},
   "outputs": [],
   "source": [
    "case_outcomes = pd.merge(case_outcomes, date_resolution_var)"
   ]
  },
  {
   "cell_type": "code",
   "execution_count": 168,
   "id": "0eb4dba2",
   "metadata": {},
   "outputs": [],
   "source": [
    "case_outcomes = pd.merge(case_outcomes, reportes_amag_clean)"
   ]
  },
  {
   "cell_type": "markdown",
   "id": "2ac886ce",
   "metadata": {},
   "source": [
    "**TODO:** Run cell when real data available\n",
    "```python\n",
    "case_outcomes = pd.merge(case_outcomes, procedural_parts_amag_clean) # it'll generate empty results if no vals in date_reversal\n",
    "```"
   ]
  },
  {
   "cell_type": "markdown",
   "id": "f210f7c7",
   "metadata": {},
   "source": [
    "## 5.8. Year variables"
   ]
  },
  {
   "cell_type": "code",
   "execution_count": 169,
   "id": "3aef5667",
   "metadata": {},
   "outputs": [],
   "source": [
    "case_outcomes[\"year\"] = case_outcomes[\"date_first_auto\"].apply(lambda date: datetime.strptime(date.split(\"-\")[0], \"%Y\").year)"
   ]
  },
  {
   "cell_type": "code",
   "execution_count": 170,
   "id": "3747444f",
   "metadata": {},
   "outputs": [],
   "source": [
    "case_outcomes[\"month_year_first_auto\"] = case_outcomes[\"date_first_auto\"].apply(lambda date: datetime.strptime(date.split(\"-\")[0] + \n",
    "                                                                                \"-\" + date.split(\"-\")[1], \"%Y-%m\"))"
   ]
  },
  {
   "cell_type": "code",
   "execution_count": 171,
   "id": "c8145988",
   "metadata": {},
   "outputs": [],
   "source": [
    "case_outcomes[\"month_year_verdict\"] = case_outcomes[\"date_verdict\"].apply(lambda date: datetime.strptime(date.split(\"-\")[0] + \n",
    "                                                                                \"-\" + date.split(\"-\")[1], \"%Y-%m\"))"
   ]
  },
  {
   "cell_type": "code",
   "execution_count": 172,
   "id": "1f7506b1",
   "metadata": {},
   "outputs": [],
   "source": [
    "case_outcomes[\"month_year_resolution\"] = case_outcomes[\"date_resolution\"].apply(lambda date: datetime.strptime(date.split(\"-\")[0] + \n",
    "                                                                                \"-\" + date.split(\"-\")[1], \"%Y-%m\"))"
   ]
  },
  {
   "cell_type": "markdown",
   "id": "5b6a614c",
   "metadata": {},
   "source": [
    "## 5.9. During/after treatment variables"
   ]
  },
  {
   "cell_type": "code",
   "execution_count": 173,
   "id": "221c1c09",
   "metadata": {},
   "outputs": [],
   "source": [
    "treatment_start_date = datetime.strptime(\"2021-06-05\", \"%Y-%m-%d\")\n",
    "treatment_final_date = datetime.strptime(\"2021-07-21\", \"%Y-%m-%d\")"
   ]
  },
  {
   "cell_type": "markdown",
   "id": "5ec33d79",
   "metadata": {},
   "source": [
    "### 5.9.1. Case start date variables: before/during/after treatment"
   ]
  },
  {
   "cell_type": "code",
   "execution_count": 174,
   "id": "2aac6955",
   "metadata": {},
   "outputs": [],
   "source": [
    "case_outcomes[\"first_auto_before_treatment\"] = case_outcomes[\"date_first_auto\"].apply(lambda date: datetime.strptime(date, \"%Y-%m-%d\") < treatment_start_date)"
   ]
  },
  {
   "cell_type": "code",
   "execution_count": 175,
   "id": "642f7475",
   "metadata": {
    "scrolled": true
   },
   "outputs": [
    {
     "data": {
      "text/plain": [
       "False    8\n",
       "Name: first_auto_before_treatment, dtype: int64"
      ]
     },
     "execution_count": 175,
     "metadata": {},
     "output_type": "execute_result"
    }
   ],
   "source": [
    "case_outcomes[\"first_auto_before_treatment\"].value_counts()"
   ]
  },
  {
   "cell_type": "code",
   "execution_count": 176,
   "id": "b6588b73",
   "metadata": {},
   "outputs": [],
   "source": [
    "# case start during treatment\n",
    "case_outcomes[\"first_auto_during_treatment\"] = case_outcomes[\"date_first_auto\"].apply(lambda date: datetime.strptime(date, \"%Y-%m-%d\") >= treatment_start_date\n",
    "                                                                                      and datetime.strptime(date, \"%Y-%m-%d\") < treatment_final_date)"
   ]
  },
  {
   "cell_type": "code",
   "execution_count": 177,
   "id": "49c5b70a",
   "metadata": {},
   "outputs": [
    {
     "data": {
      "text/plain": [
       "False    8\n",
       "Name: first_auto_during_treatment, dtype: int64"
      ]
     },
     "execution_count": 177,
     "metadata": {},
     "output_type": "execute_result"
    }
   ],
   "source": [
    "case_outcomes[\"first_auto_during_treatment\"].value_counts()"
   ]
  },
  {
   "cell_type": "code",
   "execution_count": 178,
   "id": "78c05403",
   "metadata": {},
   "outputs": [],
   "source": [
    "# case start during or after treatment\n",
    "case_outcomes[\"first_auto_duringafter_treatment\"] = case_outcomes[\"date_first_auto\"].apply(lambda date: datetime.strptime(date, \"%Y-%m-%d\") >= treatment_start_date)"
   ]
  },
  {
   "cell_type": "code",
   "execution_count": 179,
   "id": "27c62825",
   "metadata": {
    "scrolled": true
   },
   "outputs": [
    {
     "data": {
      "text/plain": [
       "True    8\n",
       "Name: first_auto_duringafter_treatment, dtype: int64"
      ]
     },
     "execution_count": 179,
     "metadata": {},
     "output_type": "execute_result"
    }
   ],
   "source": [
    "case_outcomes[\"first_auto_duringafter_treatment\"].value_counts()"
   ]
  },
  {
   "cell_type": "code",
   "execution_count": 180,
   "id": "9ba9e005",
   "metadata": {},
   "outputs": [],
   "source": [
    "# case start after treatment\n",
    "case_outcomes[\"first_auto_after_treatment\"] = case_outcomes[\"date_first_auto\"].apply(lambda date: datetime.strptime(date, \"%Y-%m-%d\") >= treatment_final_date)"
   ]
  },
  {
   "cell_type": "code",
   "execution_count": 181,
   "id": "21c13bba",
   "metadata": {
    "scrolled": true
   },
   "outputs": [
    {
     "data": {
      "text/plain": [
       "True    8\n",
       "Name: first_auto_after_treatment, dtype: int64"
      ]
     },
     "execution_count": 181,
     "metadata": {},
     "output_type": "execute_result"
    }
   ],
   "source": [
    "case_outcomes[\"first_auto_after_treatment\"].value_counts()"
   ]
  },
  {
   "cell_type": "markdown",
   "id": "7d09c52c",
   "metadata": {},
   "source": [
    "### 5.9.2. Verdict date variables: before/during/after treatment"
   ]
  },
  {
   "cell_type": "code",
   "execution_count": 182,
   "id": "34769584",
   "metadata": {},
   "outputs": [],
   "source": [
    "# verdict before treatment\n",
    "case_outcomes[\"verdict_before_treatment\"] = case_outcomes[\"date_verdict\"].apply(lambda date: datetime.strptime(date, \"%Y-%m-%d\") < treatment_start_date)"
   ]
  },
  {
   "cell_type": "code",
   "execution_count": 183,
   "id": "d78fc6b7",
   "metadata": {
    "scrolled": true
   },
   "outputs": [
    {
     "data": {
      "text/plain": [
       "False    8\n",
       "Name: verdict_before_treatment, dtype: int64"
      ]
     },
     "execution_count": 183,
     "metadata": {},
     "output_type": "execute_result"
    }
   ],
   "source": [
    "case_outcomes[\"verdict_before_treatment\"].value_counts()"
   ]
  },
  {
   "cell_type": "code",
   "execution_count": 184,
   "id": "3f081227",
   "metadata": {},
   "outputs": [],
   "source": [
    "# verdict during treatment\n",
    "case_outcomes[\"verdict_during_treatment\"] = case_outcomes[\"date_verdict\"].apply(lambda date: datetime.strptime(date, \"%Y-%m-%d\") >= treatment_start_date\n",
    "                                                                                and datetime.strptime(date, \"%Y-%m-%d\") < treatment_final_date)"
   ]
  },
  {
   "cell_type": "code",
   "execution_count": 185,
   "id": "461fd90b",
   "metadata": {
    "scrolled": false
   },
   "outputs": [
    {
     "data": {
      "text/plain": [
       "False    8\n",
       "Name: verdict_during_treatment, dtype: int64"
      ]
     },
     "execution_count": 185,
     "metadata": {},
     "output_type": "execute_result"
    }
   ],
   "source": [
    "case_outcomes[\"verdict_during_treatment\"].value_counts()"
   ]
  },
  {
   "cell_type": "code",
   "execution_count": 186,
   "id": "e88d6004",
   "metadata": {},
   "outputs": [],
   "source": [
    "# case start during or after treatment\n",
    "case_outcomes[\"verdict_duringafter_treatment\"] = case_outcomes[\"date_verdict\"].apply(lambda date: datetime.strptime(date, \"%Y-%m-%d\") >= treatment_start_date)"
   ]
  },
  {
   "cell_type": "code",
   "execution_count": 187,
   "id": "0b4eeaad",
   "metadata": {
    "scrolled": false
   },
   "outputs": [
    {
     "data": {
      "text/plain": [
       "True    8\n",
       "Name: verdict_duringafter_treatment, dtype: int64"
      ]
     },
     "execution_count": 187,
     "metadata": {},
     "output_type": "execute_result"
    }
   ],
   "source": [
    "case_outcomes[\"verdict_duringafter_treatment\"].value_counts()"
   ]
  },
  {
   "cell_type": "code",
   "execution_count": 188,
   "id": "9471c8d9",
   "metadata": {},
   "outputs": [],
   "source": [
    "# case start after treatment\n",
    "case_outcomes[\"verdict_after_treatment\"] = case_outcomes[\"date_verdict\"].apply(lambda date: datetime.strptime(date, \"%Y-%m-%d\") >= treatment_final_date)"
   ]
  },
  {
   "cell_type": "code",
   "execution_count": 189,
   "id": "b2deec23",
   "metadata": {
    "scrolled": true
   },
   "outputs": [
    {
     "data": {
      "text/plain": [
       "True    8\n",
       "Name: verdict_after_treatment, dtype: int64"
      ]
     },
     "execution_count": 189,
     "metadata": {},
     "output_type": "execute_result"
    }
   ],
   "source": [
    "case_outcomes[\"verdict_after_treatment\"].value_counts()"
   ]
  },
  {
   "cell_type": "markdown",
   "id": "fcd8f1b7",
   "metadata": {},
   "source": [
    "### 5.9.3. Reversal date variables: before/during/after treatment"
   ]
  },
  {
   "cell_type": "markdown",
   "id": "cdafa192",
   "metadata": {},
   "source": [
    "**TODO:** Run cell when real data available\n",
    "```python\n",
    "# verdict before treatment\n",
    "case_outcomes[\"reversal_before_treatment\"] = case_outcomes[\"date_reversal\"].apply(lambda date: datetime.strptime(date, \"%Y-%m-%d\") < treatment_start_date)\n",
    "\n",
    "# reversal during treatment\n",
    "case_outcomes[\"reversal_during_treatment\"] = case_outcomes[\"date_reversal\"].apply(lambda date: datetime.strptime(date, \"%Y-%m-%d\") >= treatment_start_date\n",
    "                                                                                and datetime.strptime(date, \"%Y-%m-%d\") < treatment_final_date)\n",
    "\n",
    "# case start during or after treatment\n",
    "case_outcomes[\"reversal_duringafter_treatment\"] = case_outcomes[\"date_reversal\"].apply(lambda date: datetime.strptime(date, \"%Y-%m-%d\") >= treatment_start_date)\n",
    "\n",
    "# case start after treatment\n",
    "case_outcomes[\"reversal_after_treatment\"] = case_outcomes[\"date_reversal\"].apply(lambda date: datetime.strptime(date, \"%Y-%m-%d\") >= treatment_final_date)\n",
    "```"
   ]
  },
  {
   "cell_type": "markdown",
   "id": "01695ca0",
   "metadata": {},
   "source": [
    "### 5.9.3. Resolution date variables: before/during/after treatment"
   ]
  },
  {
   "cell_type": "code",
   "execution_count": 193,
   "id": "d27240b8",
   "metadata": {},
   "outputs": [],
   "source": [
    "# verdict before treatment\n",
    "case_outcomes[\"resolution_before_treatment\"] = case_outcomes[\"date_resolution\"].apply(lambda date: datetime.strptime(date, \"%Y-%m-%d\") < treatment_start_date)"
   ]
  },
  {
   "cell_type": "code",
   "execution_count": 194,
   "id": "c77116ba",
   "metadata": {},
   "outputs": [
    {
     "data": {
      "text/plain": [
       "False    8\n",
       "Name: resolution_before_treatment, dtype: int64"
      ]
     },
     "execution_count": 194,
     "metadata": {},
     "output_type": "execute_result"
    }
   ],
   "source": [
    "case_outcomes[\"resolution_before_treatment\"].value_counts()"
   ]
  },
  {
   "cell_type": "code",
   "execution_count": 195,
   "id": "4f6889cc",
   "metadata": {},
   "outputs": [],
   "source": [
    "# resolution during treatment\n",
    "case_outcomes[\"resolution_during_treatment\"] = case_outcomes[\"date_resolution\"].apply(lambda date: datetime.strptime(date, \"%Y-%m-%d\") >= treatment_start_date\n",
    "                                                                                and datetime.strptime(date, \"%Y-%m-%d\") < treatment_final_date)"
   ]
  },
  {
   "cell_type": "code",
   "execution_count": 196,
   "id": "2c3dbb89",
   "metadata": {},
   "outputs": [
    {
     "data": {
      "text/plain": [
       "False    8\n",
       "Name: resolution_during_treatment, dtype: int64"
      ]
     },
     "execution_count": 196,
     "metadata": {},
     "output_type": "execute_result"
    }
   ],
   "source": [
    "case_outcomes[\"resolution_during_treatment\"].value_counts()"
   ]
  },
  {
   "cell_type": "code",
   "execution_count": 197,
   "id": "f963c6ae",
   "metadata": {},
   "outputs": [],
   "source": [
    "# case start during or after treatment\n",
    "case_outcomes[\"resolution_duringafter_treatment\"] = case_outcomes[\"date_resolution\"].apply(lambda date: datetime.strptime(date, \"%Y-%m-%d\") >= treatment_start_date)"
   ]
  },
  {
   "cell_type": "code",
   "execution_count": 198,
   "id": "0a5bddec",
   "metadata": {
    "scrolled": true
   },
   "outputs": [
    {
     "data": {
      "text/plain": [
       "True    8\n",
       "Name: resolution_duringafter_treatment, dtype: int64"
      ]
     },
     "execution_count": 198,
     "metadata": {},
     "output_type": "execute_result"
    }
   ],
   "source": [
    "case_outcomes[\"resolution_duringafter_treatment\"].value_counts()"
   ]
  },
  {
   "cell_type": "code",
   "execution_count": 199,
   "id": "4ec4ee6e",
   "metadata": {},
   "outputs": [],
   "source": [
    "# case start after treatment\n",
    "case_outcomes[\"resolution_after_treatment\"] = case_outcomes[\"date_resolution\"].apply(lambda date: datetime.strptime(date, \"%Y-%m-%d\") >= treatment_final_date)"
   ]
  },
  {
   "cell_type": "code",
   "execution_count": 200,
   "id": "46d207c8",
   "metadata": {
    "scrolled": false
   },
   "outputs": [
    {
     "data": {
      "text/plain": [
       "True    8\n",
       "Name: resolution_after_treatment, dtype: int64"
      ]
     },
     "execution_count": 200,
     "metadata": {},
     "output_type": "execute_result"
    }
   ],
   "source": [
    "case_outcomes[\"resolution_after_treatment\"].value_counts()"
   ]
  },
  {
   "cell_type": "markdown",
   "id": "b37c4c13",
   "metadata": {},
   "source": [
    "### 5.10. Length date variables"
   ]
  },
  {
   "cell_type": "code",
   "execution_count": 201,
   "id": "2b10a5df",
   "metadata": {},
   "outputs": [],
   "source": [
    "# length between first auto and resolution\n",
    "case_outcomes[\"length_auto_resolution\"] = case_outcomes.apply(lambda row: datetime.strptime(row[\"date_resolution\"], \"%Y-%m-%d\")\n",
    "                                                                  - datetime.strptime(row[\"date_first_auto\"], \"%Y-%m-%d\"), axis=1)"
   ]
  },
  {
   "cell_type": "code",
   "execution_count": 202,
   "id": "7ba4259d",
   "metadata": {},
   "outputs": [],
   "source": [
    "# Length between first auto and sentence\n",
    "case_outcomes[\"length_auto_sentence\"] = case_outcomes.apply(lambda row: datetime.strptime(row[\"date_verdict\"], \"%Y-%m-%d\")\n",
    "                                                                  - datetime.strptime(row[\"date_first_auto\"], \"%Y-%m-%d\"), axis=1)"
   ]
  },
  {
   "cell_type": "markdown",
   "id": "05724ca8",
   "metadata": {},
   "source": [
    "**TODO:** Run cell when real data available\n",
    "```python\n",
    "# length between first auto and reversal\n",
    "case_outcomes[\"length_auto_reversal\"] = case_outcomes.apply(lambda row: datetime.strptime(row[\"date_reversal\"], \"%Y-%m-%d\")\n",
    "                                                                  - datetime.strptime(row[\"date_first_auto\"], \"%Y-%m-%d\"), axis=1)\n",
    "\n",
    "# length between sentence and reversal\n",
    "case_outcomes[\"length_sentence_reversal\"] = case_outcomes.apply(lambda row: datetime.strptime(row[\"date_reversal\"], \"%Y-%m-%d\")\n",
    "                                                                  - datetime.strptime(row[\"date_first_auto\"], \"%Y-%m-%d\"), axis=1)\n",
    "```"
   ]
  },
  {
   "cell_type": "markdown",
   "id": "61ad6fae",
   "metadata": {},
   "source": [
    "### 5.11. Unconditional reversal variable"
   ]
  },
  {
   "cell_type": "markdown",
   "id": "5fc648b6",
   "metadata": {},
   "source": [
    "**TODO:** Run cell when real data available\n",
    "```python\n",
    "# creating \"especialidad\" variable\n",
    "case_outcomes[\"var_uncon_reversal\"] = case_outcomes.apply(lambda row: row.var_reversal if row.var_reversal != np.NaN\n",
    "                                                          else 0, axis=1)\n",
    "```"
   ]
  },
  {
   "cell_type": "markdown",
   "id": "8617fc7a",
   "metadata": {},
   "source": [
    "### 5.12. Speciality variables"
   ]
  },
  {
   "cell_type": "code",
   "execution_count": 207,
   "id": "da7f50da",
   "metadata": {},
   "outputs": [],
   "source": [
    "# creating \"especialidad\" variable\n",
    "case_outcomes[\"especialidad\"] = case_outcomes[\"especialidad__x\"].apply(lambda especialidad: especialidad)\n",
    "case_outcomes[\"especialidad\"] = case_outcomes.apply(lambda row: row.especialidad__y if row.especialidad__x != np.NaN\n",
    "                                                    else np.NaN, axis=1)"
   ]
  },
  {
   "cell_type": "code",
   "execution_count": 208,
   "id": "47424130",
   "metadata": {},
   "outputs": [],
   "source": [
    "# length between first auto and resolution\n",
    "case_outcomes[\"especialidad\"] = case_outcomes.apply(lambda row: \"otro\" if row.especialidad == np.NaN else row.especialidad\n",
    "                                                    , axis=1)"
   ]
  },
  {
   "cell_type": "markdown",
   "id": "983bb8f2",
   "metadata": {},
   "source": [
    "### 5.13. Case speciality variables"
   ]
  },
  {
   "cell_type": "code",
   "execution_count": 209,
   "id": "7d9d7791",
   "metadata": {},
   "outputs": [],
   "source": [
    "# length between first auto and resolution\n",
    "case_outcomes[\"case_speciality\"] = case_outcomes.apply(lambda row: \"civil\" if row.especialidad == \"CIVIL\" \n",
    "                                                       else np.NaN, axis=1)\n",
    "case_outcomes[\"case_speciality\"] = case_outcomes.apply(lambda row: \"familia civil\" if row.especialidad == \"FAMILIA CIVIL\" \n",
    "                                                       else row.case_speciality, axis=1)\n",
    "case_outcomes[\"case_speciality\"] = case_outcomes.apply(lambda row: \"familia tutelar\" if row.especialidad == \"FAMILIA TUTELAR\" \n",
    "                                                       else row.case_speciality, axis=1)\n",
    "case_outcomes[\"case_speciality\"] = case_outcomes.apply(lambda row: \"laboral\" if row.especialidad == \"LABORAL\" \n",
    "                                                       else row.case_speciality, axis=1)\n",
    "case_outcomes[\"case_speciality\"] = case_outcomes.apply(lambda row: \"otro\" if row.especialidad == \"COMERCIAL\" \n",
    "                                                       else row.case_speciality, axis=1)\n",
    "case_outcomes[\"case_speciality\"] = case_outcomes.apply(lambda row: \"otro\" if row.especialidad == \"CONTENCIOSO ADM.\" \n",
    "                                                       else row.case_speciality, axis=1)\n",
    "case_outcomes[\"case_speciality\"] = case_outcomes.apply(lambda row: \"otro\" if row.especialidad == \"DERECHO CONSTITUCIONAL\" \n",
    "                                                       else row.case_speciality, axis=1)\n",
    "case_outcomes[\"case_speciality\"] = case_outcomes.apply(lambda row: \"otro\" if row.especialidad == \"OTRO\" \n",
    "                                                       else row.case_speciality, axis=1)"
   ]
  },
  {
   "cell_type": "code",
   "execution_count": 210,
   "id": "aaa01933",
   "metadata": {},
   "outputs": [],
   "source": [
    "# length between first auto and resolution\n",
    "case_outcomes[\"speciality_civil\"] = case_outcomes.apply(lambda row: 1 if row.case_speciality == \"civil\" \n",
    "                                                        else 0, axis=1)"
   ]
  },
  {
   "cell_type": "code",
   "execution_count": 211,
   "id": "f30eafa3",
   "metadata": {},
   "outputs": [],
   "source": [
    "# length between first auto and resolution\n",
    "case_outcomes[\"speciality_familia_civil\"] = case_outcomes.apply(lambda row: 1 if row.case_speciality == \"familia civil\" \n",
    "                                                                else 0, axis=1)"
   ]
  },
  {
   "cell_type": "code",
   "execution_count": 212,
   "id": "2c9e4436",
   "metadata": {},
   "outputs": [],
   "source": [
    "# length between first auto and resolution\n",
    "case_outcomes[\"speciality_familia_tutelar\"] = case_outcomes.apply(lambda row: 1 if row.case_speciality == \"familia tutelar\" \n",
    "                                                                  else 0, axis=1)"
   ]
  },
  {
   "cell_type": "code",
   "execution_count": 213,
   "id": "11fdba4d",
   "metadata": {},
   "outputs": [],
   "source": [
    "# length between first auto and resolution\n",
    "case_outcomes[\"speciality_laboral\"] = case_outcomes.apply(lambda row: 1 if row.case_speciality == \"laboral\" else 0, axis=1)"
   ]
  },
  {
   "cell_type": "code",
   "execution_count": 214,
   "id": "9192a191",
   "metadata": {},
   "outputs": [],
   "source": [
    "# length between first auto and resolution\n",
    "case_outcomes[\"speciality_otro\"] = case_outcomes.apply(lambda row: 1 if row.case_speciality == \"otro\" else 0, axis=1)"
   ]
  },
  {
   "cell_type": "markdown",
   "id": "38bd9f0d",
   "metadata": {},
   "source": [
    "## 5.14. Process variables"
   ]
  },
  {
   "cell_type": "markdown",
   "id": "cf0bbb7e",
   "metadata": {},
   "source": [
    "### 5.14.1. Creating proceso variable based on `proceso__x` and `proceso__y`"
   ]
  },
  {
   "cell_type": "code",
   "execution_count": 215,
   "id": "7b191ea4",
   "metadata": {},
   "outputs": [],
   "source": [
    "case_outcomes[\"proceso\"] = case_outcomes[\"proceso__x\"].apply(lambda proceso: proceso)\n",
    "case_outcomes[\"proceso\"] = case_outcomes.apply(lambda row: row.proceso__y if row.proceso == np.NaN else\n",
    "                                               row.proceso, axis=1)"
   ]
  },
  {
   "cell_type": "code",
   "execution_count": 216,
   "id": "b749aa2c",
   "metadata": {
    "scrolled": true
   },
   "outputs": [],
   "source": [
    "case_outcomes[\"case_process\"] = case_outcomes[\"proceso\"].apply(lambda proceso: \"unico\" if proceso == \"UNICO\" else np.NaN)"
   ]
  },
  {
   "cell_type": "markdown",
   "id": "345acea3",
   "metadata": {},
   "source": [
    "### 5.14.2. Creating type of process variable"
   ]
  },
  {
   "cell_type": "code",
   "execution_count": 217,
   "id": "421af92e",
   "metadata": {},
   "outputs": [],
   "source": [
    "case_outcomes[\"case_process\"] = case_outcomes.apply(lambda row: \"ejecucion\" if row.proceso == \"EJECUCION\" else row.case_process, axis=1)\n",
    "case_outcomes[\"case_process\"] = case_outcomes.apply(lambda row: \"ejecucion\" if row.proceso == \"EJECUTIVO\" else row.case_process, axis=1)\n",
    "case_outcomes[\"case_process\"] = case_outcomes.apply(lambda row: \"ejecucion\" if row.proceso == \"UNICO DE EJECUCION\" else row.case_process, axis=1)\n",
    "case_outcomes[\"case_process\"] = case_outcomes.apply(lambda row: \"sumarisimo\" if row.proceso == \"SUMARISIMO\" else row.case_process, axis=1)\n",
    "case_outcomes[\"case_process\"] = case_outcomes.apply(lambda row: \"abreviado\" if row.proceso == \"ABREVIADO\" else row.case_process, axis=1)\n",
    "case_outcomes[\"case_process\"] = case_outcomes.apply(lambda row: \"conocimiento\" if row.proceso == \"CONOCIMIENTO\" else row.case_process, axis=1)\n",
    "case_outcomes[\"case_process\"] = case_outcomes.apply(lambda row: \"no_contensioso\" if row.proceso == \"NO CONTENCIOSO\" else row.case_process, axis=1)\n",
    "case_outcomes[\"case_process\"] = case_outcomes.apply(lambda row: \"constitucional\" if row.proceso == \"CONSTITUCIONAL\" else row.case_process, axis=1)\n",
    "case_outcomes[\"case_process\"] = case_outcomes.apply(lambda row: \"otro\" if row.proceso == \"CONTENCIOSO ADMINISTRATIVO\" else row.case_process, axis=1)\n",
    "case_outcomes[\"case_process\"] = case_outcomes.apply(lambda row: \"otro\" if row.proceso == \"ESPECIAL\" else row.case_process, axis=1)\n",
    "case_outcomes[\"case_process\"] = case_outcomes.apply(lambda row: \"otro\" if row.proceso == \"ESPECIAL LEY 30634\" else row.case_process, axis=1)\n",
    "case_outcomes[\"case_process\"] = case_outcomes.apply(lambda row: \"otro\" if row.proceso == \"EXHORTO\" else row.case_process, axis=1)\n",
    "case_outcomes[\"case_process\"] = case_outcomes.apply(lambda row: \"otro\" if row.proceso == \"INVESTIGACION TUTELAR\" else row.case_process, axis=1)\n",
    "case_outcomes[\"case_process\"] = case_outcomes.apply(lambda row: \"otro\" if row.proceso == \"ORDINARIO\" else row.case_process, axis=1)\n",
    "case_outcomes[\"case_process\"] = case_outcomes.apply(lambda row: \"otro\" if row.proceso == \"CAUTELAR\" else row.case_process, axis=1)\n",
    "case_outcomes[\"case_process\"] = case_outcomes.apply(lambda row: \"otro\" if row.proceso == \"PROCEDIMIENTOS CIVILES\" else row.case_process, axis=1)\n",
    "case_outcomes[\"case_process\"] = case_outcomes.apply(lambda row: \"otro\" if row.proceso == \"URGENTE\" else row.case_process, axis=1)\n",
    "case_outcomes[\"case_process\"] = case_outcomes.apply(lambda row: \"otro\" if row.proceso == \"OTRO\" else row.case_process, axis=1)"
   ]
  },
  {
   "cell_type": "markdown",
   "id": "1e60d895",
   "metadata": {},
   "source": [
    "### 5.14.3. Creating variables per type of process"
   ]
  },
  {
   "cell_type": "code",
   "execution_count": 218,
   "id": "84d46022",
   "metadata": {},
   "outputs": [],
   "source": [
    "case_outcomes[\"process_unico\"] = case_outcomes.apply(lambda row: 1 if row.case_process == \"unico\" else 0, axis=1)"
   ]
  },
  {
   "cell_type": "code",
   "execution_count": 219,
   "id": "b5595399",
   "metadata": {},
   "outputs": [],
   "source": [
    "case_outcomes[\"process_ejecucion\"] = case_outcomes.apply(lambda row: 1 if row.case_process == \"ejecucion\" else 0, axis=1)"
   ]
  },
  {
   "cell_type": "code",
   "execution_count": 220,
   "id": "2432be0a",
   "metadata": {},
   "outputs": [],
   "source": [
    "case_outcomes[\"process_sumarisimo\"] = case_outcomes.apply(lambda row: 1 if row.case_process == \"sumarisimo\" else 0, axis=1)"
   ]
  },
  {
   "cell_type": "code",
   "execution_count": 221,
   "id": "010f2fbc",
   "metadata": {},
   "outputs": [],
   "source": [
    "case_outcomes[\"process_abreviado\"] = case_outcomes.apply(lambda row: 1 if row.case_process == \"abreviado\" else 0, axis=1)"
   ]
  },
  {
   "cell_type": "code",
   "execution_count": 222,
   "id": "3b698097",
   "metadata": {},
   "outputs": [],
   "source": [
    "case_outcomes[\"process_conocimiento\"] = case_outcomes.apply(lambda row: 1 if row.case_process == \"conocimiento\" else 0, axis=1)"
   ]
  },
  {
   "cell_type": "code",
   "execution_count": 223,
   "id": "e144d083",
   "metadata": {},
   "outputs": [],
   "source": [
    "case_outcomes[\"process_no_contencioso\"] = case_outcomes.apply(lambda row: 1 if row.case_process == \"no_contencioso\" else 0, axis=1)"
   ]
  },
  {
   "cell_type": "code",
   "execution_count": 224,
   "id": "12bb0e08",
   "metadata": {},
   "outputs": [],
   "source": [
    "case_outcomes[\"process_constitucional\"] = case_outcomes.apply(lambda row: 1 if row.case_process == \"constitucional\" else 0, axis=1)"
   ]
  },
  {
   "cell_type": "code",
   "execution_count": 225,
   "id": "94cf6bb6",
   "metadata": {},
   "outputs": [],
   "source": [
    "case_outcomes[\"process_otro\"] = case_outcomes.apply(lambda row: 1 if row.case_process == \"otro\" else 0, axis=1)"
   ]
  },
  {
   "cell_type": "markdown",
   "id": "f9e82e22",
   "metadata": {},
   "source": [
    "### 5.14.4. Storing created outcomes"
   ]
  },
  {
   "cell_type": "code",
   "execution_count": 226,
   "id": "18ee255f",
   "metadata": {},
   "outputs": [],
   "source": [
    "case_outcomes_for_6 = case_outcomes.drop(columns=[\"proceso\", \"Unnamed: 0\"])"
   ]
  },
  {
   "cell_type": "code",
   "execution_count": 227,
   "id": "26511fe7",
   "metadata": {},
   "outputs": [],
   "source": [
    "case_outcomes_for_6.to_csv(dc_interm_path + \"/case_outcomes_amag_ii.csv\")"
   ]
  },
  {
   "cell_type": "markdown",
   "id": "3fd00062",
   "metadata": {},
   "source": [
    "# 6. Constructing case outcomes"
   ]
  },
  {
   "cell_type": "markdown",
   "id": "3f8f57ad",
   "metadata": {},
   "source": [
    "## 6.1. Loading and joining dataframes"
   ]
  },
  {
   "cell_type": "markdown",
   "id": "388d3166",
   "metadata": {},
   "source": [
    "### 6.1.1 Loading dataframes"
   ]
  },
  {
   "cell_type": "code",
   "execution_count": 452,
   "id": "a0f22232",
   "metadata": {},
   "outputs": [],
   "source": [
    "amag_ii_participants = pd.read_csv(dc_raw_path + \"/exp_participants_list.csv\")\n",
    "amag_ii_participants = amag_ii_participants.drop(columns=[\"Unnamed: 0\"])"
   ]
  },
  {
   "cell_type": "code",
   "execution_count": 371,
   "id": "8c7178d3",
   "metadata": {},
   "outputs": [],
   "source": [
    "amag_ii_cases = read_pickle(\"amag_ii_cases.pkl\", dc_temp_path)"
   ]
  },
  {
   "cell_type": "code",
   "execution_count": 372,
   "id": "f5120983",
   "metadata": {},
   "outputs": [],
   "source": [
    "case_outcomes = pd.read_csv(dc_interm_path + \"/case_outcomes_amag_ii.csv\")"
   ]
  },
  {
   "cell_type": "code",
   "execution_count": 373,
   "id": "3a350051",
   "metadata": {},
   "outputs": [],
   "source": [
    "date_filter = datetime.strptime(\"2018-05-01\", \"%Y-%m-%d\") # date for filtering dataframes"
   ]
  },
  {
   "cell_type": "markdown",
   "id": "17805004",
   "metadata": {},
   "source": [
    "### 6.1.2. Creating dataframe at the case-id level"
   ]
  },
  {
   "cell_type": "code",
   "execution_count": 374,
   "id": "bcdb3369",
   "metadata": {},
   "outputs": [],
   "source": [
    "data_participant_caseid = pd.merge(amag_ii_cases, case_outcomes, how=\"inner\")"
   ]
  },
  {
   "cell_type": "code",
   "execution_count": 375,
   "id": "9ba966f9",
   "metadata": {},
   "outputs": [
    {
     "name": "stderr",
     "output_type": "stream",
     "text": [
      "<>:1: DeprecationWarning: invalid escape sequence '\\d'\n",
      "<>:1: DeprecationWarning: invalid escape sequence '\\d'\n",
      "C:\\Users\\Gigabyte\\AppData\\Local\\Temp\\ipykernel_11004\\1752498498.py:1: DeprecationWarning: invalid escape sequence '\\d'\n",
      "  data_participant_caseid[\"length_auto_resolution\"] = data_participant_caseid[\"length_auto_resolution\"].str.extract(\"(\\d+)\").astype(float)\n"
     ]
    }
   ],
   "source": [
    "data_participant_caseid[\"length_auto_resolution\"] = data_participant_caseid[\"length_auto_resolution\"].str.extract(\"(\\d+)\").astype(float)"
   ]
  },
  {
   "cell_type": "markdown",
   "id": "5e249a80",
   "metadata": {},
   "source": [
    "Keeping only the cases after date"
   ]
  },
  {
   "cell_type": "code",
   "execution_count": 376,
   "id": "0f45f973",
   "metadata": {},
   "outputs": [],
   "source": [
    "date_mask = (pd.to_datetime(data_participant_caseid[\"date_resolution\"]) > date_filter)"
   ]
  },
  {
   "cell_type": "code",
   "execution_count": 377,
   "id": "3cc5df6c",
   "metadata": {},
   "outputs": [],
   "source": [
    "data_participant_caseid_temp = data_participant_caseid[date_mask]"
   ]
  },
  {
   "cell_type": "markdown",
   "id": "3a419953",
   "metadata": {},
   "source": [
    "Creating `length_resolution` dataframe\n",
    "**Note:** the length is in days"
   ]
  },
  {
   "cell_type": "code",
   "execution_count": 378,
   "id": "f930446c",
   "metadata": {
    "scrolled": true
   },
   "outputs": [],
   "source": [
    "data_participant_caseid_temp = data_participant_caseid_temp.groupby(by=[\"case_speciality\"]).agg(\n",
    "                                                                 median_length_resolution=(\"length_auto_resolution\", \"median\"),\n",
    "                                                                 mean_length_resolution=(\"length_auto_resolution\", \"mean\")\n",
    "                                                                 ).reset_index()"
   ]
  },
  {
   "cell_type": "markdown",
   "id": "39146187",
   "metadata": {},
   "source": [
    "**Creating timely resolved variable:** If length the case took to be solved is lower than the mean, the case was timely resolved"
   ]
  },
  {
   "cell_type": "code",
   "execution_count": 380,
   "id": "c1de802a",
   "metadata": {},
   "outputs": [
    {
     "data": {
      "text/plain": [
       "0.0"
      ]
     },
     "execution_count": 380,
     "metadata": {},
     "output_type": "execute_result"
    }
   ],
   "source": [
    "data_participant_caseid_temp[data_participant_caseid_temp[\"case_speciality\"] == \"civil\"][\"mean_length_resolution\"].iloc[0] "
   ]
  },
  {
   "cell_type": "code",
   "execution_count": 381,
   "id": "3af093ae",
   "metadata": {},
   "outputs": [],
   "source": [
    "data_participant_caseid[\"timely_resolved\"] = data_participant_caseid.apply(lambda row:\n",
    "                                            row[\"length_auto_resolution\"] > data_participant_caseid_temp[\n",
    "                                                data_participant_caseid_temp[\"case_speciality\"] \\\n",
    "                                                == row[\"case_speciality\"]][\"mean_length_resolution\"].iloc[0],\n",
    "                                                axis=1)"
   ]
  },
  {
   "cell_type": "markdown",
   "id": "185a34de",
   "metadata": {},
   "source": [
    "## 6.2. Create case outcomes variables at the month-judge level"
   ]
  },
  {
   "cell_type": "markdown",
   "id": "1febde66",
   "metadata": {},
   "source": [
    "### 6.2.1. For post-treatment regression"
   ]
  },
  {
   "cell_type": "markdown",
   "id": "4d133f96",
   "metadata": {},
   "source": [
    "**Fundada Appeal Var**"
   ]
  },
  {
   "cell_type": "markdown",
   "id": "0918e3d3",
   "metadata": {},
   "source": [
    "Filtering data"
   ]
  },
  {
   "cell_type": "code",
   "execution_count": 433,
   "id": "d481a34d",
   "metadata": {},
   "outputs": [],
   "source": [
    "verdict_aft_trt_mask = (data_participant_caseid[\"verdict_after_treatment\"] == 1)\n",
    "data_participant_caseid_temp = data_participant_caseid[verdict_aft_trt_mask]"
   ]
  },
  {
   "cell_type": "markdown",
   "id": "b8b0f5ad",
   "metadata": {},
   "source": [
    "Creating `var_fundada`, `var_uncon_reversal` and `var_appeal`at `[\"expediente_n°_\", \"month_year_verdict\"]` level"
   ]
  },
  {
   "cell_type": "markdown",
   "id": "1eaaf664",
   "metadata": {},
   "source": [
    "**TODO:** Run cell when real data available\n",
    "```python\n",
    "fundada_appeal_var = data_participant_caseid_temp.groupby(by=[\"expediente_n°_\", \"month_year_verdict\"]).agg(\n",
    "                                 var_fundada=(\"var_fundada\", \"mean\"),\n",
    "                                 var_uncon_reversal=(\"var_uncon_reversal\", \"mean\"),                             \n",
    "                                 var_appeal=(\"var_appeal\", \"mean\")\n",
    "                                 ).reset_index()\n",
    "```"
   ]
  },
  {
   "cell_type": "code",
   "execution_count": 434,
   "id": "336349e9",
   "metadata": {},
   "outputs": [],
   "source": [
    "fundada_appeal_var = data_participant_caseid_temp.groupby(by=[\"expediente_n°_\", \"month_year_verdict\"]).agg(\n",
    "                                 var_fundada=(\"var_fundada\", \"mean\"),\n",
    "                                 var_appeal=(\"var_appeal\", \"mean\")\n",
    "                                 ).reset_index()"
   ]
  },
  {
   "cell_type": "markdown",
   "id": "6ea5ee4a",
   "metadata": {},
   "source": [
    "Obtaining the variables back to case level"
   ]
  },
  {
   "cell_type": "code",
   "execution_count": 435,
   "id": "a8d9093d",
   "metadata": {},
   "outputs": [],
   "source": [
    "fundada_appeal_var = pd.merge(fundada_appeal_var, data_participant_caseid_temp)\n",
    "fundada_appeal_var = fundada_appeal_var.rename(columns={\"month_year_verdict\": \"month_year\"})"
   ]
  },
  {
   "cell_type": "markdown",
   "id": "916fa7f4",
   "metadata": {},
   "source": [
    "**Resolution Var**"
   ]
  },
  {
   "cell_type": "markdown",
   "id": "281ead76",
   "metadata": {},
   "source": [
    "Filtering data"
   ]
  },
  {
   "cell_type": "code",
   "execution_count": 436,
   "id": "bac01cb2",
   "metadata": {},
   "outputs": [],
   "source": [
    "first_auto_aft_trt_mask = (data_participant_caseid[\"first_auto_after_treatment\"] == 1)\n",
    "data_participant_caseid_temp = data_participant_caseid[first_auto_aft_trt_mask]"
   ]
  },
  {
   "cell_type": "markdown",
   "id": "99297180",
   "metadata": {},
   "source": [
    "Creating `var_resolution`at `[\"expediente_n°_\", \"month_year_first_auto\"]` level"
   ]
  },
  {
   "cell_type": "code",
   "execution_count": 437,
   "id": "c9cfc237",
   "metadata": {},
   "outputs": [],
   "source": [
    "resolution_var = data_participant_caseid_temp.groupby(by=[\"expediente_n°_\", \"month_year_first_auto\"]).agg(\n",
    "                                 var_resolution=(\"var_resolution\", \"mean\")\n",
    "                                 ).reset_index()"
   ]
  },
  {
   "cell_type": "markdown",
   "id": "62af2f26",
   "metadata": {},
   "source": [
    "Obtaining the variables back to case level"
   ]
  },
  {
   "cell_type": "code",
   "execution_count": 438,
   "id": "5f53aeca",
   "metadata": {},
   "outputs": [],
   "source": [
    "resolution_var = pd.merge(resolution_var, data_participant_caseid_temp)\n",
    "resolution_var = resolution_var.rename(columns={\"month_year_first_auto\": \"month_year\"})"
   ]
  },
  {
   "cell_type": "markdown",
   "id": "ad677df2",
   "metadata": {},
   "source": [
    "**Days to resolution Var**"
   ]
  },
  {
   "cell_type": "markdown",
   "id": "0f401f3a",
   "metadata": {},
   "source": [
    "Filtering data"
   ]
  },
  {
   "cell_type": "code",
   "execution_count": 439,
   "id": "ec0c9a77",
   "metadata": {},
   "outputs": [],
   "source": [
    "resol_aft_trt_mask = (data_participant_caseid[\"resolution_after_treatment\"] == 1)\n",
    "data_participant_caseid_temp = data_participant_caseid[resol_aft_trt_mask]"
   ]
  },
  {
   "cell_type": "markdown",
   "id": "ee5cc0f0",
   "metadata": {},
   "source": [
    "Creating `var_resolution`at `[\"expediente_n°_\", \"month_year_resolution\"]` level"
   ]
  },
  {
   "cell_type": "code",
   "execution_count": 440,
   "id": "db94f2db",
   "metadata": {},
   "outputs": [],
   "source": [
    "days_to_res_var = data_participant_caseid_temp.groupby(by=[\"expediente_n°_\", \"month_year_resolution\"]).agg(\n",
    "                                 var_timely_resolved=(\"timely_resolved\", \"mean\"),\n",
    "                                 length_auto_resolution=(\"length_auto_resolution\", \"mean\")\n",
    "                                 ).reset_index()"
   ]
  },
  {
   "cell_type": "markdown",
   "id": "640e1dfc",
   "metadata": {},
   "source": [
    "Obtaining the variables back to case level"
   ]
  },
  {
   "cell_type": "code",
   "execution_count": 441,
   "id": "7e6f863e",
   "metadata": {},
   "outputs": [],
   "source": [
    "days_to_res_var = pd.merge(days_to_res_var, data_participant_caseid_temp)\n",
    "days_to_res_var = days_to_res_var.rename(columns={\"month_year_resolution\": \"month_year\"})"
   ]
  },
  {
   "cell_type": "markdown",
   "id": "3eab4ae1",
   "metadata": {},
   "source": [
    "### 6.2.2. For DiD regression"
   ]
  },
  {
   "cell_type": "markdown",
   "id": "964c2a63",
   "metadata": {},
   "source": [
    "**Fundada Appeal Var**"
   ]
  },
  {
   "cell_type": "markdown",
   "id": "5c5d408d",
   "metadata": {},
   "source": [
    "Filtering data"
   ]
  },
  {
   "cell_type": "code",
   "execution_count": 442,
   "id": "c8e1b263",
   "metadata": {},
   "outputs": [],
   "source": [
    "date_verdict_mask = ((pd.to_datetime(data_participant_caseid[\"date_verdict\"]) > date_filter) & \n",
    "                    (data_participant_caseid[\"verdict_during_treatment\"] != 1))"
   ]
  },
  {
   "cell_type": "markdown",
   "id": "41a72273",
   "metadata": {},
   "source": [
    "Creating `verdict_after_treatment`, `var_fundada`, `var_appeal` at `[\"expediente_n°_\", \"month_year_verdict\"]` level"
   ]
  },
  {
   "cell_type": "markdown",
   "id": "324a6df8",
   "metadata": {},
   "source": [
    "**TODO:** Run cell when real data available\n",
    "```python\n",
    "fundada_appeal_var_did = data_participant_caseid_temp.groupby(by=[\"expediente_n°_\", \"month_year_verdict\"]).agg(\n",
    "                                 sentence_after_treatment=(\"verdict_after_treatment\", \"first\"),\n",
    "                                 var_fundada=(\"var_fundada\", \"mean\"),\n",
    "                                 var_uncon_reversal = (\"var_uncon_reversal\", \"mean\"),\n",
    "                                 var_appeal=(\"var_appeal\", \"mean\")\n",
    "                                 ).reset_index()\n",
    "```"
   ]
  },
  {
   "cell_type": "code",
   "execution_count": 443,
   "id": "d8e3f752",
   "metadata": {},
   "outputs": [],
   "source": [
    "fundada_appeal_var_did = data_participant_caseid_temp.groupby(by=[\"expediente_n°_\", \"month_year_verdict\"]).agg(\n",
    "                                 verdict_after_treatment=(\"verdict_after_treatment\", \"first\"),\n",
    "                                 var_fundada=(\"var_fundada\", \"mean\"),\n",
    "                                 var_appeal=(\"var_appeal\", \"mean\"),\n",
    "                                 ).reset_index()"
   ]
  },
  {
   "cell_type": "markdown",
   "id": "6f3cc753",
   "metadata": {},
   "source": [
    "Obtaining the variables back to case level and renaming `month_year_verdict` variable"
   ]
  },
  {
   "cell_type": "code",
   "execution_count": 472,
   "id": "b02275a5",
   "metadata": {},
   "outputs": [],
   "source": [
    "fundada_appeal_var_did = pd.merge(fundada_appeal_var_did, data_participant_caseid_temp)\n",
    "fundada_appeal_var_did = fundada_appeal_var_did.rename(columns={\"month_year_verdict\": \"month_year\"})"
   ]
  },
  {
   "cell_type": "markdown",
   "id": "e7d6927b",
   "metadata": {},
   "source": [
    "**Resolution Var**"
   ]
  },
  {
   "cell_type": "markdown",
   "id": "7846c744",
   "metadata": {},
   "source": [
    "Filtering data"
   ]
  },
  {
   "cell_type": "code",
   "execution_count": 445,
   "id": "558c4d05",
   "metadata": {},
   "outputs": [],
   "source": [
    "date_resolution_mask = ((pd.to_datetime(data_participant_caseid[\"date_first_auto\"]) > date_filter) & \n",
    "                       (data_participant_caseid[\"first_auto_during_treatment\"] != 1))"
   ]
  },
  {
   "cell_type": "markdown",
   "id": "6e0b41f3",
   "metadata": {},
   "source": [
    "Creating `first_auto_after_treatment`, `var_resolution` at `[\"expediente_n°_\", \"month_year_first_auto\"]` level"
   ]
  },
  {
   "cell_type": "code",
   "execution_count": 446,
   "id": "6148e8a7",
   "metadata": {},
   "outputs": [],
   "source": [
    "resolution_var_did = data_participant_caseid_temp.groupby(by=[\"expediente_n°_\", \"month_year_first_auto\"]).agg(\n",
    "                                 first_auto_after_treatment=(\"first_auto_after_treatment\", \"first\"),\n",
    "                                 var_resolution=(\"var_resolution\", \"mean\")\n",
    "                                 ).reset_index()"
   ]
  },
  {
   "cell_type": "markdown",
   "id": "8096b2c0",
   "metadata": {},
   "source": [
    "Obtaining the variables back to case level and renaming `month_year_first_auto` variable"
   ]
  },
  {
   "cell_type": "code",
   "execution_count": 447,
   "id": "f85d04ba",
   "metadata": {},
   "outputs": [],
   "source": [
    "resolution_var_did = pd.merge(resolution_var_did, data_participant_caseid_temp)\n",
    "resolution_var_did = resolution_var_did.rename(columns={\"month_year_first_auto\": \"month_year\"})"
   ]
  },
  {
   "cell_type": "markdown",
   "id": "856a0cb8",
   "metadata": {},
   "source": [
    "**Days to resolution Var**"
   ]
  },
  {
   "cell_type": "markdown",
   "id": "69fc1f47",
   "metadata": {},
   "source": [
    "Filtering data"
   ]
  },
  {
   "cell_type": "code",
   "execution_count": 448,
   "id": "f92b5b95",
   "metadata": {},
   "outputs": [],
   "source": [
    "date_res_to_var_mask = ((pd.to_datetime(data_participant_caseid[\"date_resolution\"]) > date_filter) & \n",
    "                       (data_participant_caseid[\"resolution_during_treatment\"] != 1))"
   ]
  },
  {
   "cell_type": "markdown",
   "id": "5015b427",
   "metadata": {},
   "source": [
    "Creating `resolution_after_treatment`, `var_timely_resolved`, `length_auto_resolution` at `[\"expediente_n°_\", \"month_year_resolution\"]` level"
   ]
  },
  {
   "cell_type": "code",
   "execution_count": 449,
   "id": "2e38d739",
   "metadata": {},
   "outputs": [],
   "source": [
    "days_to_res_var_did = data_participant_caseid_temp.groupby(by=[\"expediente_n°_\", \"month_year_resolution\"]).agg(\n",
    "                                 resolution_after_treatment=(\"resolution_after_treatment\", \"first\"),\n",
    "                                 var_timely_resolved=(\"timely_resolved\", \"mean\"),\n",
    "                                 length_auto_resolution=(\"length_auto_resolution\", \"mean\")\n",
    "                                 ).reset_index()"
   ]
  },
  {
   "cell_type": "markdown",
   "id": "810d9fe3",
   "metadata": {},
   "source": [
    "Obtaining the variables back to case level and renaming `month_year_first_auto` variable"
   ]
  },
  {
   "cell_type": "code",
   "execution_count": 450,
   "id": "ed507cba",
   "metadata": {},
   "outputs": [],
   "source": [
    "days_to_res_var_did = pd.merge(days_to_res_var_did, data_participant_caseid_temp)\n",
    "days_to_res_var_did = days_to_res_var_did.rename(columns={\"month_year_resolution\": \"month_year\"})"
   ]
  },
  {
   "cell_type": "markdown",
   "id": "ab386b4c",
   "metadata": {},
   "source": [
    "## 6.3. Joining dataframes"
   ]
  },
  {
   "cell_type": "markdown",
   "id": "b04ee4c6",
   "metadata": {},
   "source": [
    "### 6.3.1. Post-treatment dataframes"
   ]
  },
  {
   "cell_type": "markdown",
   "id": "65116c20",
   "metadata": {},
   "source": [
    "**Fundada Appeal Var**"
   ]
  },
  {
   "cell_type": "code",
   "execution_count": 502,
   "id": "ffa18fe6",
   "metadata": {},
   "outputs": [],
   "source": [
    "fundada_appeal_data_post = pd.merge(amag_ii_participants, fundada_appeal_var, how=\"inner\")"
   ]
  },
  {
   "cell_type": "code",
   "execution_count": 503,
   "id": "46c9e301",
   "metadata": {},
   "outputs": [],
   "source": [
    "fundada_appeal_judges = fundada_appeal_data_post.drop_duplicates(subset = \"nrodocumento\")[[\"nrodocumento\", \n",
    "                                                                                      \"participant_nombre_apellido\"]]"
   ]
  },
  {
   "cell_type": "markdown",
   "id": "47c9998f",
   "metadata": {},
   "source": [
    "**Resolution Var**"
   ]
  },
  {
   "cell_type": "code",
   "execution_count": 504,
   "id": "f2acc848",
   "metadata": {},
   "outputs": [],
   "source": [
    "resolution_data_post = pd.merge(amag_ii_participants, resolution_var, how=\"inner\")"
   ]
  },
  {
   "cell_type": "code",
   "execution_count": 505,
   "id": "5781f5d4",
   "metadata": {},
   "outputs": [],
   "source": [
    "resolution_judges = resolution_data_post.drop_duplicates(subset = \"nrodocumento\")[[\"nrodocumento\", \n",
    "                                                                                     \"participant_nombre_apellido\"]]"
   ]
  },
  {
   "cell_type": "markdown",
   "id": "0b9a4848",
   "metadata": {},
   "source": [
    "**Days to resolution Var**"
   ]
  },
  {
   "cell_type": "code",
   "execution_count": 506,
   "id": "140a9254",
   "metadata": {},
   "outputs": [],
   "source": [
    "days_to_res_data_post = pd.merge(amag_ii_participants, days_to_res_var, how=\"inner\")"
   ]
  },
  {
   "cell_type": "code",
   "execution_count": 507,
   "id": "9f757445",
   "metadata": {},
   "outputs": [],
   "source": [
    "days_to_res_judges = days_to_res_data_post.drop_duplicates(subset = \"nrodocumento\")[[\"nrodocumento\", \n",
    "                                                                                       \"participant_nombre_apellido\"]]"
   ]
  },
  {
   "cell_type": "markdown",
   "id": "9573e6f5",
   "metadata": {},
   "source": [
    "### 6.3.2. DiD dataframes"
   ]
  },
  {
   "cell_type": "code",
   "execution_count": 483,
   "id": "178279dc",
   "metadata": {
    "scrolled": true
   },
   "outputs": [],
   "source": [
    "fundada_appeal_data_did = pd.merge(pd.merge(amag_ii_participants, fundada_appeal_var_did, how=\"inner\"), \n",
    "                                   fundada_appeal_judges, how=\"inner\")"
   ]
  },
  {
   "cell_type": "code",
   "execution_count": 484,
   "id": "7276b8aa",
   "metadata": {
    "scrolled": true
   },
   "outputs": [],
   "source": [
    "resolution_data_did = pd.merge(pd.merge(amag_ii_participants, resolution_var_did, how=\"inner\"), \n",
    "                               resolution_judges, how=\"inner\")"
   ]
  },
  {
   "cell_type": "code",
   "execution_count": 486,
   "id": "46d385b2",
   "metadata": {
    "scrolled": true
   },
   "outputs": [],
   "source": [
    "days_to_res_data_did = pd.merge(pd.merge(amag_ii_participants, days_to_res_var_did, how=\"inner\"), \n",
    "                                days_to_res_judges, how=\"inner\")"
   ]
  },
  {
   "cell_type": "markdown",
   "id": "ebb78773",
   "metadata": {},
   "source": [
    "## 6.4. Saving analysis dataframes"
   ]
  },
  {
   "cell_type": "code",
   "execution_count": 493,
   "id": "615ddc66",
   "metadata": {},
   "outputs": [],
   "source": [
    "data_participant_caseid.to_csv(dc_final_path + \"/dataset_participant_caseid.csv\")"
   ]
  },
  {
   "cell_type": "code",
   "execution_count": 508,
   "id": "7a29d7f2",
   "metadata": {
    "scrolled": true
   },
   "outputs": [],
   "source": [
    "fundada_appeal_data_post.to_csv(dc_final_path + \"/dataset_caseid_month_fundada_post.csv\")"
   ]
  },
  {
   "cell_type": "code",
   "execution_count": 509,
   "id": "eba6cf3e",
   "metadata": {
    "scrolled": true
   },
   "outputs": [],
   "source": [
    "resolution_data_post.to_csv(dc_final_path + \"/dataset_caseid_month_resolution_post.csv\")"
   ]
  },
  {
   "cell_type": "code",
   "execution_count": 510,
   "id": "7261235c",
   "metadata": {
    "scrolled": true
   },
   "outputs": [],
   "source": [
    "days_to_res_data_post.to_csv(dc_final_path + \"/dataset_caseid_month_days_to_res_post.csv\")"
   ]
  },
  {
   "cell_type": "code",
   "execution_count": 511,
   "id": "25af71e3",
   "metadata": {
    "scrolled": true
   },
   "outputs": [],
   "source": [
    "fundada_appeal_data_did.to_csv(dc_final_path + \"/dataset_caseid_month_fundada_did.csv\")"
   ]
  },
  {
   "cell_type": "code",
   "execution_count": 512,
   "id": "132eebd6",
   "metadata": {
    "scrolled": true
   },
   "outputs": [],
   "source": [
    "resolution_data_did.to_csv(dc_final_path + \"/dataset_caseid_month_resolution_did.csv\")"
   ]
  },
  {
   "cell_type": "code",
   "execution_count": 513,
   "id": "554268f7",
   "metadata": {
    "scrolled": true
   },
   "outputs": [],
   "source": [
    "days_to_res_data_did.to_csv(dc_final_path + \"/dataset_caseid_month_days_to_res_did.csv\")"
   ]
  }
 ],
 "metadata": {
  "kernelspec": {
   "display_name": "Judges Outcomes",
   "language": "python",
   "name": "judges_outcomes"
  },
  "language_info": {
   "codemirror_mode": {
    "name": "ipython",
    "version": 3
   },
   "file_extension": ".py",
   "mimetype": "text/x-python",
   "name": "python",
   "nbconvert_exporter": "python",
   "pygments_lexer": "ipython3",
   "version": "3.10.9"
  }
 },
 "nbformat": 4,
 "nbformat_minor": 5
}
