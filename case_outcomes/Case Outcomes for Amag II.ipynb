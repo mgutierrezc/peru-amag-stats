{
 "cells": [
  {
   "cell_type": "code",
   "execution_count": 134,
   "id": "10b823ed",
   "metadata": {},
   "outputs": [
    {
     "name": "stderr",
     "output_type": "stream",
     "text": [
      "C:\\Users\\Gigabyte\\anaconda3\\envs\\judges_outcomes\\lib\\site-packages\\fuzzywuzzy\\fuzz.py:11: UserWarning: Using slow pure-python SequenceMatcher. Install python-Levenshtein to remove this warning\n",
      "  warnings.warn('Using slow pure-python SequenceMatcher. Install python-Levenshtein to remove this warning')\n"
     ]
    }
   ],
   "source": [
    "import pandas as pd\n",
    "import numpy as np\n",
    "import json, os, string\n",
    "from janitor import clean_names\n",
    "from fuzzywuzzy import fuzz\n",
    "from fuzzywuzzy import process"
   ]
  },
  {
   "cell_type": "code",
   "execution_count": 127,
   "id": "e221c7d9",
   "metadata": {
    "scrolled": true
   },
   "outputs": [],
   "source": [
    "def read_json_dict(path: str) -> dict:\n",
    "    \"\"\"\n",
    "    Reads a json file and returns it as dict object\n",
    "    \"\"\"\n",
    "    \n",
    "    file = open(path) # Opening JSON file\n",
    "    return json.load(file) # returns JSON object as a dictionary\n",
    "\n",
    "def folder_creator(folder_name: string, path: string) -> None:\n",
    "    \"\"\"\n",
    "    Generates a folder in specified path\n",
    "    \n",
    "    input: name of root folder, path where you want \n",
    "    folder to be created\n",
    "    output: None\n",
    "    \"\"\"\n",
    "    \n",
    "    # defining paths\n",
    "    data_folder_path = path + \"/\" + folder_name\n",
    "    data_folder_exists = os.path.exists(data_folder_path)\n",
    "\n",
    "    # creating folders if don't exist\n",
    "    if data_folder_exists:\n",
    "        pass\n",
    "    else:    \n",
    "        # create a new directory because it does not exist \n",
    "        os.makedirs(data_folder_path)\n",
    "\n",
    "        # create subfolders\n",
    "        print(f\"The new directory {folder_name} was created!\")\n",
    "        \n",
    "def fuzzy_merge(df_1, df_2, key1, key2, threshold=90, limit=2):\n",
    "    \"\"\"\n",
    "    :param df_1: the left table to join\n",
    "    :param df_2: the right table to join\n",
    "    :param key1: key column of the left table\n",
    "    :param key2: key column of the right table\n",
    "    :param threshold: how close the matches should be to return a match, based on Levenshtein distance\n",
    "    :param limit: the amount of matches that will get returned, these are sorted high to low\n",
    "    :return: dataframe with boths keys and matches\n",
    "    \"\"\"\n",
    "    s = df_2[key2].tolist()\n",
    "    \n",
    "    m = df_1[key1].apply(lambda x: process.extract(x, s, limit=limit))    \n",
    "    df_1['matches'] = m\n",
    "    \n",
    "    m2 = df_1['matches'].apply(lambda x: ', '.join([i[0] for i in x if i[1] >= threshold]))\n",
    "    df_1['matches'] = m2\n",
    "    \n",
    "    return df_1"
   ]
  },
  {
   "cell_type": "markdown",
   "id": "e49d0e6b",
   "metadata": {},
   "source": [
    "## Reading paths"
   ]
  },
  {
   "cell_type": "code",
   "execution_count": 18,
   "id": "439bc291",
   "metadata": {},
   "outputs": [],
   "source": [
    "paths = read_json_dict(\"paths.json\")"
   ]
  },
  {
   "cell_type": "code",
   "execution_count": 19,
   "id": "ae48ab2a",
   "metadata": {
    "scrolled": false
   },
   "outputs": [
    {
     "data": {
      "text/plain": [
       "{'data_path': 'D:/Accesos directos/Trabajo/World Bank/WB Repos/peru-scrape-justice',\n",
       " 'code_path': '/Users/brandonmora/GitHub/peru-amag-stats/case_outcomes',\n",
       " 'data_amag_i': 'D:/Accesos directos/Trabajo/World Bank/WB Repos/peru-scrape-justice/01_AMAG',\n",
       " 'data_cej': 'D:/Accesos directos/Trabajo/World Bank/WB Repos/peru-scrape-justice/data_cleaned',\n",
       " 'data_gender': 'D:/Accesos directos/Trabajo/World Bank/WB Repos/peru-scrape-justice/07_Other/02_Raw/names_gender',\n",
       " 'local_storage': 'D:/Daniel Chen Dropbox/Marco Antonio GutiÃ©rrez ChÃ¡vez/datasets_amag_ii_scrape'}"
      ]
     },
     "execution_count": 19,
     "metadata": {},
     "output_type": "execute_result"
    }
   ],
   "source": [
    "paths"
   ]
  },
  {
   "cell_type": "code",
   "execution_count": 20,
   "id": "2c33482f",
   "metadata": {},
   "outputs": [],
   "source": [
    "data_path = paths[\"data_path\"]"
   ]
  },
  {
   "cell_type": "code",
   "execution_count": 42,
   "id": "b5015e61",
   "metadata": {},
   "outputs": [
    {
     "name": "stdout",
     "output_type": "stream",
     "text": [
      "The new directory data_cleaned is created!\n"
     ]
    }
   ],
   "source": [
    "folder_creator(\"data_cleaned\", data_path)"
   ]
  },
  {
   "cell_type": "code",
   "execution_count": 44,
   "id": "e61c9c54",
   "metadata": {},
   "outputs": [],
   "source": [
    "data_cleaned_path = data_path + \"/data_cleaned\""
   ]
  },
  {
   "cell_type": "code",
   "execution_count": 45,
   "id": "fc816601",
   "metadata": {},
   "outputs": [
    {
     "name": "stdout",
     "output_type": "stream",
     "text": [
      "The new directory raw was created!\n"
     ]
    }
   ],
   "source": [
    "folder_creator(\"raw\", data_cleaned_path)"
   ]
  },
  {
   "cell_type": "code",
   "execution_count": 46,
   "id": "1dfee4c6",
   "metadata": {},
   "outputs": [],
   "source": [
    "dc_raw_path = data_cleaned_path + \"/raw\""
   ]
  },
  {
   "cell_type": "code",
   "execution_count": 52,
   "id": "4aebb2db",
   "metadata": {},
   "outputs": [
    {
     "data": {
      "text/plain": [
       "'D:/Accesos directos/Trabajo/World Bank/WB Repos/peru-scrape-justice/data_cleaned/raw'"
      ]
     },
     "execution_count": 52,
     "metadata": {},
     "output_type": "execute_result"
    }
   ],
   "source": [
    "dc_raw_path"
   ]
  },
  {
   "cell_type": "markdown",
   "id": "8bf9bcae",
   "metadata": {},
   "source": [
    "# 1. Creating participants list"
   ]
  },
  {
   "cell_type": "code",
   "execution_count": 129,
   "id": "2e0379d2",
   "metadata": {
    "scrolled": true
   },
   "outputs": [],
   "source": [
    "lab_data = pd.read_stata(data_path + \"/data/lab_Data/Clean_Full_Data12.dta\")"
   ]
  },
  {
   "cell_type": "code",
   "execution_count": 130,
   "id": "185f988f",
   "metadata": {
    "scrolled": true
   },
   "outputs": [
    {
     "name": "stderr",
     "output_type": "stream",
     "text": [
      "C:\\Users\\Gigabyte\\AppData\\Local\\Temp\\ipykernel_36852\\4041196165.py:1: PerformanceWarning: DataFrame is highly fragmented.  This is usually the result of calling `frame.insert` many times, which has poor performance.  Consider joining all columns at once using pd.concat(axis=1) instead. To get a de-fragmented frame, use `newframe = frame.copy()`\n",
      "  lab_data[\"participant_nombre_apellido\"] = lab_data[\"Nombres\"] + \" \" + lab_data[\"ApellidoPaterno\"] + \" \" + lab_data[\"ApellidoMaterno\"]\n"
     ]
    }
   ],
   "source": [
    "lab_data[\"participant_nombre_apellido\"] = lab_data[\"Nombres\"] + \" \" + lab_data[\"ApellidoPaterno\"] + \" \" + lab_data[\"ApellidoMaterno\"]\n",
    "lab_data[\"participant_nombre_apellido\"] = lab_data[\"participant_nombre_apellido\"].str.strip()"
   ]
  },
  {
   "cell_type": "code",
   "execution_count": 131,
   "id": "6bd04bcf",
   "metadata": {
    "scrolled": false
   },
   "outputs": [
    {
     "name": "stderr",
     "output_type": "stream",
     "text": [
      "C:\\Users\\Gigabyte\\AppData\\Local\\Temp\\ipykernel_36852\\909368064.py:1: PerformanceWarning: DataFrame is highly fragmented.  This is usually the result of calling `frame.insert` many times, which has poor performance.  Consider joining all columns at once using pd.concat(axis=1) instead. To get a de-fragmented frame, use `newframe = frame.copy()`\n",
      "  lab_data[\"participant_apellido_nombre\"] = lab_data[\"ApellidoPaterno\"] + \" \" + lab_data[\"ApellidoMaterno\"] + \" \" + lab_data[\"Nombres\"]\n"
     ]
    }
   ],
   "source": [
    "lab_data[\"participant_apellido_nombre\"] = lab_data[\"ApellidoPaterno\"] + \" \" + lab_data[\"ApellidoMaterno\"] + \" \" + lab_data[\"Nombres\"]\n",
    "lab_data[\"participant_apellido_nombre\"] = lab_data[\"participant_apellido_nombre\"].str.strip()"
   ]
  },
  {
   "cell_type": "code",
   "execution_count": 132,
   "id": "36992f3b",
   "metadata": {
    "scrolled": true
   },
   "outputs": [],
   "source": [
    "lab_data = lab_data.rename(columns={\"DNI\": \"nrodocumento\"})"
   ]
  },
  {
   "cell_type": "code",
   "execution_count": 168,
   "id": "f35dc121",
   "metadata": {},
   "outputs": [],
   "source": [
    "amag_ii_participants = lab_data[[\"nrodocumento\", \"participant_nombre_apellido\", \"participant_apellido_nombre\"]]"
   ]
  },
  {
   "cell_type": "code",
   "execution_count": 169,
   "id": "62a446ff",
   "metadata": {},
   "outputs": [],
   "source": [
    "amag_ii_participants.to_csv(dc_raw_path + \"/amag_ii_participants_list.csv\")"
   ]
  },
  {
   "cell_type": "markdown",
   "id": "6349396c",
   "metadata": {},
   "source": [
    "# 2. Creating Cases List"
   ]
  },
  {
   "cell_type": "markdown",
   "id": "bdd469bf",
   "metadata": {},
   "source": [
    "### Selecting reporte files"
   ]
  },
  {
   "cell_type": "code",
   "execution_count": 138,
   "id": "83c624ea",
   "metadata": {},
   "outputs": [],
   "source": [
    "files_reports = pd.read_csv(dc_raw_path + \"/DF_file_report_2022.csv\")\n",
    "files_reports = clean_names(files_reports)"
   ]
  },
  {
   "cell_type": "markdown",
   "id": "c69879cd",
   "metadata": {},
   "source": [
    "### Cleaning the reporte files"
   ]
  },
  {
   "cell_type": "markdown",
   "id": "997334a3",
   "metadata": {},
   "source": [
    "Creating lists with characters to be replace"
   ]
  },
  {
   "cell_type": "code",
   "execution_count": 139,
   "id": "bc89a0b0",
   "metadata": {},
   "outputs": [],
   "source": [
    "backslash_reps = [\"\\\\(\\\\*\\\\)\", \"\\\\\", \"\\\\([^()]{0,}\\\\)\"]\n",
    "trailing_and_special_reps = [\"^\\\\s\", \"\\\\,\", \"\\\\.$\", \" \\\\- JUZ$\", \"\\\\*\"]\n",
    "other_strs_reps = [\"\\\\- MIXTO Y LIQ\", \"\\\\- MIXTO\", \"\\\\- JUZ\\\\. MIXTO\", \n",
    "                   \"- JM\", \"- INVESTIGACION\", \"- PAZ LETRADO\", \"SECOM - \", \"- JT\"]"
   ]
  },
  {
   "cell_type": "code",
   "execution_count": 140,
   "id": "2f9ff7e9",
   "metadata": {},
   "outputs": [],
   "source": [
    "empty_reps = backslash_reps + trailing_and_special_reps +  other_strs_reps"
   ]
  },
  {
   "cell_type": "code",
   "execution_count": 141,
   "id": "d0cf7446",
   "metadata": {},
   "outputs": [],
   "source": [
    "name_reps = [[\"ALFREDO E\\\\.\", \"ALFREDO E\"], [\"BERTHA F\\\\.\", \"BERTHA F\"], [\"CLAUDIO W\\\\.\", \"CLAUDIO W\"], \n",
    "            [\"CLAVELITO L\\\\.\", \"CLAVELITO L\"], [\"ELMER L\\\\.\", \"ELMER L\"], [\"ERNESTO A\\\\.\", \"ERNESTO A\"],\n",
    "            [\"HERBERT M\\\\.\", \"HERBERT M\"], [\"LUZ K\\\\.\", \"LUZ K\"], [\"NANCY S\\\\.\", \"NANCY S\"], [\"JESSICA E\\\\.\", \"JESSICA E\"],\n",
    "            [\"PATRICIA C\\\\.\", \"PATRICIA C\"], [\"JESSICA P\\\\.\", \"JESSICA P\"], [\"YOLANDA B\\\\.\", \"YOLANDA B\\\\.\"],\n",
    "            [\"LUZ M\\\\.\", \"LUZ M\"], [\"EDGAR\\\\.\", \"EDGAR\"], [\"C\\\\. ARTURO\", \"C ARTURO\"], [\"ALEXANDER A\\\\.\", \"ALEXANDER A\"],\n",
    "            [\"RENE G\\\\.\", \"RENE G\"], [\"GUILLERMO S\\\\.\", \"GUILLERMO S\"], [\"FANNY L\\\\. \",  \"FANNY L\"], [\"ELISA \\\\(LA\", \"ELISA\"],\n",
    "            [\"JULIA \\\\(LA\", \"JULIA\"], [\"ACEVEDO DIEZ CECILIA\", \"ACEVEDO DIEZ CECILIA DEL PILAR\"], [\" J. \", \" J \"],\n",
    "            [\" K. \", \" K \"]]"
   ]
  },
  {
   "cell_type": "code",
   "execution_count": 142,
   "id": "768ffd62",
   "metadata": {
    "scrolled": true
   },
   "outputs": [
    {
     "name": "stderr",
     "output_type": "stream",
     "text": [
      "C:\\Users\\Gigabyte\\AppData\\Local\\Temp\\ipykernel_36852\\3422139958.py:2: FutureWarning: The default value of regex will change from True to False in a future version.\n",
      "  files_reports[\"juez_\"] = files_reports[\"juez_\"].str.replace(val, \"\")\n",
      "C:\\Users\\Gigabyte\\AppData\\Local\\Temp\\ipykernel_36852\\3422139958.py:2: FutureWarning: The default value of regex will change from True to False in a future version. In addition, single character regular expressions will *not* be treated as literal strings when regex=True.\n",
      "  files_reports[\"juez_\"] = files_reports[\"juez_\"].str.replace(val, \"\")\n"
     ]
    }
   ],
   "source": [
    "for val in empty_reps:    \n",
    "    files_reports[\"juez_\"] = files_reports[\"juez_\"].str.replace(val, \"\")"
   ]
  },
  {
   "cell_type": "code",
   "execution_count": 143,
   "id": "f2473490",
   "metadata": {
    "scrolled": false
   },
   "outputs": [
    {
     "name": "stderr",
     "output_type": "stream",
     "text": [
      "C:\\Users\\Gigabyte\\AppData\\Local\\Temp\\ipykernel_36852\\4277728364.py:2: FutureWarning: The default value of regex will change from True to False in a future version.\n",
      "  files_reports[\"juez_\"] = files_reports[\"juez_\"].str.replace(name_rep[0], name_rep[1])\n"
     ]
    }
   ],
   "source": [
    "for name_rep in name_reps:\n",
    "    files_reports[\"juez_\"] = files_reports[\"juez_\"].str.replace(name_rep[0], name_rep[1])"
   ]
  },
  {
   "cell_type": "code",
   "execution_count": 144,
   "id": "fe5553b4",
   "metadata": {
    "scrolled": true
   },
   "outputs": [],
   "source": [
    "files_reports = files_reports[files_reports[\"juez_\"].notna()]"
   ]
  },
  {
   "cell_type": "code",
   "execution_count": 145,
   "id": "19f9ff85",
   "metadata": {
    "scrolled": true
   },
   "outputs": [],
   "source": [
    "files_reports[\"juez_splitted\"] = files_reports[\"juez_\"].apply(lambda row: row.split(\".\"))"
   ]
  },
  {
   "cell_type": "code",
   "execution_count": 146,
   "id": "ad34b874",
   "metadata": {
    "scrolled": true
   },
   "outputs": [],
   "source": [
    "files_reports[\"n_judges_case\"] = files_reports[\"juez_splitted\"].apply(lambda row: len(row))"
   ]
  },
  {
   "cell_type": "code",
   "execution_count": 165,
   "id": "f8a772d4",
   "metadata": {},
   "outputs": [],
   "source": [
    "judge_names = files_reports[files_reports[\"n_judges_case\"] == 1]"
   ]
  },
  {
   "cell_type": "code",
   "execution_count": 159,
   "id": "3c97eab2",
   "metadata": {},
   "outputs": [],
   "source": [
    "multiple_judge_names = files_reports[files_reports[\"n_judges_case\"] != 1]"
   ]
  },
  {
   "cell_type": "code",
   "execution_count": 162,
   "id": "42ede66c",
   "metadata": {
    "scrolled": true
   },
   "outputs": [
    {
     "name": "stderr",
     "output_type": "stream",
     "text": [
      "C:\\Users\\Gigabyte\\AppData\\Local\\Temp\\ipykernel_36852\\160945290.py:1: SettingWithCopyWarning: \n",
      "A value is trying to be set on a copy of a slice from a DataFrame.\n",
      "Try using .loc[row_indexer,col_indexer] = value instead\n",
      "\n",
      "See the caveats in the documentation: https://pandas.pydata.org/pandas-docs/stable/user_guide/indexing.html#returning-a-view-versus-a-copy\n",
      "  multiple_judge_names[\"juez_1\"] = multiple_judge_names[\"juez_splitted\"].apply(lambda row: row[0])\n",
      "C:\\Users\\Gigabyte\\AppData\\Local\\Temp\\ipykernel_36852\\160945290.py:2: SettingWithCopyWarning: \n",
      "A value is trying to be set on a copy of a slice from a DataFrame.\n",
      "Try using .loc[row_indexer,col_indexer] = value instead\n",
      "\n",
      "See the caveats in the documentation: https://pandas.pydata.org/pandas-docs/stable/user_guide/indexing.html#returning-a-view-versus-a-copy\n",
      "  multiple_judge_names[\"juez_2\"] = multiple_judge_names[\"juez_splitted\"].apply(lambda row: row[1])\n",
      "C:\\Users\\Gigabyte\\AppData\\Local\\Temp\\ipykernel_36852\\160945290.py:3: SettingWithCopyWarning: \n",
      "A value is trying to be set on a copy of a slice from a DataFrame.\n",
      "Try using .loc[row_indexer,col_indexer] = value instead\n",
      "\n",
      "See the caveats in the documentation: https://pandas.pydata.org/pandas-docs/stable/user_guide/indexing.html#returning-a-view-versus-a-copy\n",
      "  multiple_judge_names[\"juez_3\"] = multiple_judge_names[\"juez_splitted\"].apply(lambda row: row[2])\n"
     ]
    }
   ],
   "source": [
    "multiple_judge_names[\"juez_1\"] = multiple_judge_names[\"juez_splitted\"].apply(lambda row: row[0])\n",
    "multiple_judge_names[\"juez_2\"] = multiple_judge_names[\"juez_splitted\"].apply(lambda row: row[1])\n",
    "multiple_judge_names[\"juez_3\"] = multiple_judge_names[\"juez_splitted\"].apply(lambda row: row[2])"
   ]
  },
  {
   "cell_type": "code",
   "execution_count": 167,
   "id": "6d76df28",
   "metadata": {},
   "outputs": [
    {
     "data": {
      "text/html": [
       "<div>\n",
       "<style scoped>\n",
       "    .dataframe tbody tr th:only-of-type {\n",
       "        vertical-align: middle;\n",
       "    }\n",
       "\n",
       "    .dataframe tbody tr th {\n",
       "        vertical-align: top;\n",
       "    }\n",
       "\n",
       "    .dataframe thead th {\n",
       "        text-align: right;\n",
       "    }\n",
       "</style>\n",
       "<table border=\"1\" class=\"dataframe\">\n",
       "  <thead>\n",
       "    <tr style=\"text-align: right;\">\n",
       "      <th></th>\n",
       "      <th>expediente_n°_</th>\n",
       "      <th>organo_jurisdiccional_</th>\n",
       "      <th>distrito_judicial_</th>\n",
       "      <th>juez_</th>\n",
       "      <th>especialista_legal_</th>\n",
       "      <th>fecha_de_inicio_</th>\n",
       "      <th>proceso_</th>\n",
       "      <th>observacion_</th>\n",
       "      <th>especialidad_</th>\n",
       "      <th>materia_s_</th>\n",
       "      <th>estado_</th>\n",
       "      <th>etapa_procesal_</th>\n",
       "      <th>fecha_conclusion_</th>\n",
       "      <th>ubicacion_</th>\n",
       "      <th>motivo_conclusion_</th>\n",
       "      <th>sumilla_</th>\n",
       "      <th>juez_splitted</th>\n",
       "      <th>n_judges_case</th>\n",
       "    </tr>\n",
       "  </thead>\n",
       "  <tbody>\n",
       "    <tr>\n",
       "      <th>0</th>\n",
       "      <td>00001-2022-0-2402-JP-CI-01</td>\n",
       "      <td>JUZGADO DE PAZ LETRADO - SEDE MANANTAY</td>\n",
       "      <td>UCAYALI</td>\n",
       "      <td>DERLINDA VASQUEZ RUIZ</td>\n",
       "      <td>VIRNA LIZET MORENO CHU</td>\n",
       "      <td>07/01/2022</td>\n",
       "      <td>UNICO DE EJECUCION</td>\n",
       "      <td>\\n\\t\\t\\t\\t\\t\\t\\t\\t\\t\\t\\t\\t\\n\\t\\t\\t\\t\\t\\t\\t\\t\\t...</td>\n",
       "      <td>CIVIL</td>\n",
       "      <td>OBLIGACION DE DAR SUMA DE DINERO</td>\n",
       "      <td>EJECUCION</td>\n",
       "      <td>GENERAL</td>\n",
       "      <td></td>\n",
       "      <td>POOL ASIST. JUDICIAL</td>\n",
       "      <td>-------</td>\n",
       "      <td>INTERPONE DEMANDA</td>\n",
       "      <td>[DERLINDA VASQUEZ RUIZ]</td>\n",
       "      <td>1</td>\n",
       "    </tr>\n",
       "    <tr>\n",
       "      <th>1</th>\n",
       "      <td>00001-2022-0-2402-JP-CI-03</td>\n",
       "      <td>3°JUZGADO DE PAZ LETRADO - Sede Manco Capac</td>\n",
       "      <td>UCAYALI</td>\n",
       "      <td>NERY VANESA SOSA NAVARRO</td>\n",
       "      <td>ERIKA MARTEL DEL RISCO</td>\n",
       "      <td>05/01/2022</td>\n",
       "      <td>NO CONTENCIOSO</td>\n",
       "      <td>\\n\\t\\t\\t\\t\\t\\t\\t\\t\\t\\t\\t\\t\\n\\t\\t\\t\\t\\t\\t\\t\\t\\t...</td>\n",
       "      <td>CIVIL</td>\n",
       "      <td>CAMBIO DE NOMBRE, SUPRESION DE NOMBRE Y/O ADIC...</td>\n",
       "      <td>ARCHIVO PROVISIONAL</td>\n",
       "      <td>GENERAL</td>\n",
       "      <td></td>\n",
       "      <td>ARCHIVO GENERAL</td>\n",
       "      <td>-------</td>\n",
       "      <td>DEMANDA DE RECTIFICACION Y MODIFICACIÓN DE PAR...</td>\n",
       "      <td>[NERY VANESA SOSA NAVARRO]</td>\n",
       "      <td>1</td>\n",
       "    </tr>\n",
       "    <tr>\n",
       "      <th>2</th>\n",
       "      <td>00001-2022-0-2402-JR-CI-02</td>\n",
       "      <td>2°JUZGADO DE PAZ LETRADO - Sede Manco Capac</td>\n",
       "      <td>UCAYALI</td>\n",
       "      <td>ECHEVARRIA POMA SOLIA WILDA</td>\n",
       "      <td>FLORES JOSEPH PAULA DEL ROCIO</td>\n",
       "      <td>05/01/2022</td>\n",
       "      <td>SUMARISIMO</td>\n",
       "      <td>\\n\\t\\t\\t\\t\\t\\t\\t\\t\\t\\t\\t\\t\\n\\t\\t\\t\\t\\t\\t\\t\\t\\t...</td>\n",
       "      <td>CIVIL</td>\n",
       "      <td>INEFICACIA DE TITULO VALOR</td>\n",
       "      <td>ARCHIVO DEFINITIVO</td>\n",
       "      <td>GENERAL</td>\n",
       "      <td></td>\n",
       "      <td>POOL ASIST. JUDICIAL</td>\n",
       "      <td>-------</td>\n",
       "      <td>INTERPONE DEMANDA DE INEFICACIA DE TITULO VALOR</td>\n",
       "      <td>[ECHEVARRIA POMA SOLIA WILDA]</td>\n",
       "      <td>1</td>\n",
       "    </tr>\n",
       "    <tr>\n",
       "      <th>3</th>\n",
       "      <td>00001-2022-0-2403-JP-CI-01</td>\n",
       "      <td>JUZGADO DE PAZ LETRADO - Sede Atalaya</td>\n",
       "      <td>UCAYALI</td>\n",
       "      <td>BRYAN APAGUEÑO REATEGUI</td>\n",
       "      <td>FELIX ALFREDO RIVERA AROSTEGU</td>\n",
       "      <td>21/01/2022</td>\n",
       "      <td>UNICO DE EJECUCION</td>\n",
       "      <td>\\n\\t\\t\\t\\t\\t\\t\\t\\t\\t\\t\\t\\t\\n\\t\\t\\t\\t\\t\\t\\t\\t\\t...</td>\n",
       "      <td>CIVIL</td>\n",
       "      <td>OBLIGACION DE DAR SUMA DE DINERO</td>\n",
       "      <td>EN EJECUCION</td>\n",
       "      <td>GENERAL</td>\n",
       "      <td></td>\n",
       "      <td>POOL ASIST. JUDICIAL</td>\n",
       "      <td>-------</td>\n",
       "      <td>DEMANDA DE OBLIGACION DE DAR SUMA DE DINERO.</td>\n",
       "      <td>[BRYAN APAGUEÑO REATEGUI]</td>\n",
       "      <td>1</td>\n",
       "    </tr>\n",
       "    <tr>\n",
       "      <th>4</th>\n",
       "      <td>00001-2022-0-2405-JP-CI-01</td>\n",
       "      <td>JUZGADO DE PAZ LETRADO - SEDE PURUS</td>\n",
       "      <td>UCAYALI</td>\n",
       "      <td>SADITH VELA TANANTA</td>\n",
       "      <td>NAPOLEON TORRES EDER ISMAEL</td>\n",
       "      <td>16/05/2022</td>\n",
       "      <td>SUMARISIMO</td>\n",
       "      <td>\\n\\t\\t\\t\\t\\t\\t\\t\\t\\t\\t\\t\\t\\n\\t\\t\\t\\t\\t\\t\\t\\t\\t...</td>\n",
       "      <td>CIVIL</td>\n",
       "      <td>OBLIGACION DE DAR SUMA DE DINERO</td>\n",
       "      <td>EN EJECUCION</td>\n",
       "      <td>GENERAL</td>\n",
       "      <td></td>\n",
       "      <td>ESPECIALISTA</td>\n",
       "      <td>-------</td>\n",
       "      <td>OBLIGACION DE DAR SUMA DE DINERO</td>\n",
       "      <td>[SADITH VELA TANANTA]</td>\n",
       "      <td>1</td>\n",
       "    </tr>\n",
       "    <tr>\n",
       "      <th>...</th>\n",
       "      <td>...</td>\n",
       "      <td>...</td>\n",
       "      <td>...</td>\n",
       "      <td>...</td>\n",
       "      <td>...</td>\n",
       "      <td>...</td>\n",
       "      <td>...</td>\n",
       "      <td>...</td>\n",
       "      <td>...</td>\n",
       "      <td>...</td>\n",
       "      <td>...</td>\n",
       "      <td>...</td>\n",
       "      <td>...</td>\n",
       "      <td>...</td>\n",
       "      <td>...</td>\n",
       "      <td>...</td>\n",
       "      <td>...</td>\n",
       "      <td>...</td>\n",
       "    </tr>\n",
       "    <tr>\n",
       "      <th>2988</th>\n",
       "      <td>00006-2022-0-2403-JM-LA-01</td>\n",
       "      <td>1º JUZGADO DE TRABAJO - SEDE CENTRAL</td>\n",
       "      <td>UCAYALI</td>\n",
       "      <td>ZEVALLOS BASUALDO JUAN ANDRES</td>\n",
       "      <td>SEGURA FLORES KARIN</td>\n",
       "      <td>11/04/2022</td>\n",
       "      <td>ESPECIAL</td>\n",
       "      <td>\\n\\t\\t\\t\\t\\t\\t\\t\\t\\t\\t\\t\\t\\n\\t\\t\\t\\t\\t\\t\\t\\t\\t...</td>\n",
       "      <td>LABORAL</td>\n",
       "      <td>ACCION CONTENCIOSA ADMINISTRATIVA</td>\n",
       "      <td>INADMISIBLE</td>\n",
       "      <td>GENERAL</td>\n",
       "      <td></td>\n",
       "      <td>POOL ASIST. JUDICIAL</td>\n",
       "      <td>-------</td>\n",
       "      <td>INTERPONGO DEMANDA CONTENCIOSO ADMINISTRATIVO ...</td>\n",
       "      <td>[ZEVALLOS BASUALDO JUAN ANDRES]</td>\n",
       "      <td>1</td>\n",
       "    </tr>\n",
       "    <tr>\n",
       "      <th>2989</th>\n",
       "      <td>00006-2022-0-2403-JP-LA-01</td>\n",
       "      <td>JUZGADO MIXTO - Sede Atalaya</td>\n",
       "      <td>UCAYALI</td>\n",
       "      <td>FELIPE DAVID PALACIOS SANTOS</td>\n",
       "      <td>VALDIVIESO BARDALES SEGUNDO</td>\n",
       "      <td>03/02/2022</td>\n",
       "      <td>EJECUCION</td>\n",
       "      <td>\\n\\t\\t\\t\\t\\t\\t\\t\\t\\t\\t\\t\\t\\n\\t\\t\\t\\t\\t\\t\\t\\t\\t...</td>\n",
       "      <td>LABORAL</td>\n",
       "      <td>OBLIGACION DE DAR SUMA DE DINERO INICIADAS POR...</td>\n",
       "      <td>APELADO</td>\n",
       "      <td>GENERAL</td>\n",
       "      <td></td>\n",
       "      <td>POOL ASIST. JUDICIAL</td>\n",
       "      <td>-------</td>\n",
       "      <td>INTERPONEMOS DEMANDA</td>\n",
       "      <td>[FELIPE DAVID PALACIOS SANTOS]</td>\n",
       "      <td>1</td>\n",
       "    </tr>\n",
       "    <tr>\n",
       "      <th>2990</th>\n",
       "      <td>00006-2022-0-2404-JM-LA-01</td>\n",
       "      <td>1º JUZGADO DE TRABAJO - SEDE CENTRAL</td>\n",
       "      <td>UCAYALI</td>\n",
       "      <td>ZEVALLOS BASUALDO JUAN ANDRES</td>\n",
       "      <td>SEGURA FLORES KARIN</td>\n",
       "      <td>28/01/2022</td>\n",
       "      <td>CONTENCIOSO ADMINISTRATIVO</td>\n",
       "      <td>\\n\\t\\t\\t\\t\\t\\t\\t\\t\\t\\t\\t\\t\\n\\t\\t\\t\\t\\t\\t\\t\\t\\t...</td>\n",
       "      <td>LABORAL</td>\n",
       "      <td>ACCION CONTENCIOSA ADMINISTRATIVA</td>\n",
       "      <td>SENTENCIADO/ RESUELTO</td>\n",
       "      <td>GENERAL</td>\n",
       "      <td></td>\n",
       "      <td>POOL ASIST. JUDICIAL</td>\n",
       "      <td>-------</td>\n",
       "      <td>CONTENCIOSO ADMINISTRATIVO</td>\n",
       "      <td>[ZEVALLOS BASUALDO JUAN ANDRES]</td>\n",
       "      <td>1</td>\n",
       "    </tr>\n",
       "    <tr>\n",
       "      <th>2991</th>\n",
       "      <td>00006-2022-0-2407-JM-LA-01</td>\n",
       "      <td>JUZGADO MIXTO - SEDE CONTAMANA</td>\n",
       "      <td>UCAYALI</td>\n",
       "      <td>CLAVELITO LINDA CUHELLO GUERRA</td>\n",
       "      <td>JULCA ARAUJO S. NOEMI</td>\n",
       "      <td>25/01/2022</td>\n",
       "      <td>ORDINARIO</td>\n",
       "      <td>\\n\\t\\t\\t\\t\\t\\t\\t\\t\\t\\t\\t\\t\\n\\t\\t\\t\\t\\t\\t\\t\\t\\t...</td>\n",
       "      <td>LABORAL</td>\n",
       "      <td>ACCION CONTENCIOSA ADMINISTRATIVA</td>\n",
       "      <td>TRAMITE</td>\n",
       "      <td>GENERAL</td>\n",
       "      <td></td>\n",
       "      <td>ESPECIALISTA</td>\n",
       "      <td>-------</td>\n",
       "      <td>INTERPONE DEMANDA CONTENCIOSA ADMINISTRATIVA</td>\n",
       "      <td>[CLAVELITO LINDA CUHELLO GUERRA]</td>\n",
       "      <td>1</td>\n",
       "    </tr>\n",
       "    <tr>\n",
       "      <th>2992</th>\n",
       "      <td>00006-2022-0-2407-JP-LA-01</td>\n",
       "      <td>JUZGADO MIXTO - SEDE CONTAMANA</td>\n",
       "      <td>UCAYALI</td>\n",
       "      <td>CLAVELITO LINDA CUHELLO GUERRA</td>\n",
       "      <td>JULCA ARAUJO S. NOEMI</td>\n",
       "      <td>20/01/2022</td>\n",
       "      <td>EJECUCION</td>\n",
       "      <td>\\n\\t\\t\\t\\t\\t\\t\\t\\t\\t\\t\\t\\t\\n\\t\\t\\t\\t\\t\\t\\t\\t\\t...</td>\n",
       "      <td>LABORAL</td>\n",
       "      <td>OBLIGACION DE DAR SUMA DE DINERO INICIADAS POR...</td>\n",
       "      <td>EN EJECUCION</td>\n",
       "      <td>GENERAL</td>\n",
       "      <td></td>\n",
       "      <td>ESPECIALISTA</td>\n",
       "      <td>-------</td>\n",
       "      <td>O.D.S.D</td>\n",
       "      <td>[CLAVELITO LINDA CUHELLO GUERRA]</td>\n",
       "      <td>1</td>\n",
       "    </tr>\n",
       "  </tbody>\n",
       "</table>\n",
       "<p>2898 rows × 18 columns</p>\n",
       "</div>"
      ],
      "text/plain": [
       "                  expediente_n°_                       organo_jurisdiccional_  \\\n",
       "0     00001-2022-0-2402-JP-CI-01       JUZGADO DE PAZ LETRADO - SEDE MANANTAY   \n",
       "1     00001-2022-0-2402-JP-CI-03  3°JUZGADO DE PAZ LETRADO - Sede Manco Capac   \n",
       "2     00001-2022-0-2402-JR-CI-02  2°JUZGADO DE PAZ LETRADO - Sede Manco Capac   \n",
       "3     00001-2022-0-2403-JP-CI-01        JUZGADO DE PAZ LETRADO - Sede Atalaya   \n",
       "4     00001-2022-0-2405-JP-CI-01          JUZGADO DE PAZ LETRADO - SEDE PURUS   \n",
       "...                          ...                                          ...   \n",
       "2988  00006-2022-0-2403-JM-LA-01         1º JUZGADO DE TRABAJO - SEDE CENTRAL   \n",
       "2989  00006-2022-0-2403-JP-LA-01                 JUZGADO MIXTO - Sede Atalaya   \n",
       "2990  00006-2022-0-2404-JM-LA-01         1º JUZGADO DE TRABAJO - SEDE CENTRAL   \n",
       "2991  00006-2022-0-2407-JM-LA-01               JUZGADO MIXTO - SEDE CONTAMANA   \n",
       "2992  00006-2022-0-2407-JP-LA-01               JUZGADO MIXTO - SEDE CONTAMANA   \n",
       "\n",
       "     distrito_judicial_                           juez_  \\\n",
       "0               UCAYALI           DERLINDA VASQUEZ RUIZ   \n",
       "1               UCAYALI        NERY VANESA SOSA NAVARRO   \n",
       "2               UCAYALI     ECHEVARRIA POMA SOLIA WILDA   \n",
       "3               UCAYALI         BRYAN APAGUEÑO REATEGUI   \n",
       "4               UCAYALI             SADITH VELA TANANTA   \n",
       "...                 ...                             ...   \n",
       "2988            UCAYALI   ZEVALLOS BASUALDO JUAN ANDRES   \n",
       "2989            UCAYALI    FELIPE DAVID PALACIOS SANTOS   \n",
       "2990            UCAYALI   ZEVALLOS BASUALDO JUAN ANDRES   \n",
       "2991            UCAYALI  CLAVELITO LINDA CUHELLO GUERRA   \n",
       "2992            UCAYALI  CLAVELITO LINDA CUHELLO GUERRA   \n",
       "\n",
       "                especialista_legal_ fecha_de_inicio_  \\\n",
       "0            VIRNA LIZET MORENO CHU      07/01/2022    \n",
       "1            ERIKA MARTEL DEL RISCO      05/01/2022    \n",
       "2     FLORES JOSEPH PAULA DEL ROCIO      05/01/2022    \n",
       "3     FELIX ALFREDO RIVERA AROSTEGU      21/01/2022    \n",
       "4       NAPOLEON TORRES EDER ISMAEL      16/05/2022    \n",
       "...                             ...              ...   \n",
       "2988            SEGURA FLORES KARIN      11/04/2022    \n",
       "2989    VALDIVIESO BARDALES SEGUNDO      03/02/2022    \n",
       "2990            SEGURA FLORES KARIN      28/01/2022    \n",
       "2991          JULCA ARAUJO S. NOEMI      25/01/2022    \n",
       "2992          JULCA ARAUJO S. NOEMI      20/01/2022    \n",
       "\n",
       "                        proceso_  \\\n",
       "0             UNICO DE EJECUCION   \n",
       "1                 NO CONTENCIOSO   \n",
       "2                     SUMARISIMO   \n",
       "3             UNICO DE EJECUCION   \n",
       "4                     SUMARISIMO   \n",
       "...                          ...   \n",
       "2988                    ESPECIAL   \n",
       "2989                   EJECUCION   \n",
       "2990  CONTENCIOSO ADMINISTRATIVO   \n",
       "2991                   ORDINARIO   \n",
       "2992                   EJECUCION   \n",
       "\n",
       "                                           observacion_ especialidad_  \\\n",
       "0     \\n\\t\\t\\t\\t\\t\\t\\t\\t\\t\\t\\t\\t\\n\\t\\t\\t\\t\\t\\t\\t\\t\\t...         CIVIL   \n",
       "1     \\n\\t\\t\\t\\t\\t\\t\\t\\t\\t\\t\\t\\t\\n\\t\\t\\t\\t\\t\\t\\t\\t\\t...         CIVIL   \n",
       "2     \\n\\t\\t\\t\\t\\t\\t\\t\\t\\t\\t\\t\\t\\n\\t\\t\\t\\t\\t\\t\\t\\t\\t...         CIVIL   \n",
       "3     \\n\\t\\t\\t\\t\\t\\t\\t\\t\\t\\t\\t\\t\\n\\t\\t\\t\\t\\t\\t\\t\\t\\t...         CIVIL   \n",
       "4     \\n\\t\\t\\t\\t\\t\\t\\t\\t\\t\\t\\t\\t\\n\\t\\t\\t\\t\\t\\t\\t\\t\\t...         CIVIL   \n",
       "...                                                 ...           ...   \n",
       "2988  \\n\\t\\t\\t\\t\\t\\t\\t\\t\\t\\t\\t\\t\\n\\t\\t\\t\\t\\t\\t\\t\\t\\t...       LABORAL   \n",
       "2989  \\n\\t\\t\\t\\t\\t\\t\\t\\t\\t\\t\\t\\t\\n\\t\\t\\t\\t\\t\\t\\t\\t\\t...       LABORAL   \n",
       "2990  \\n\\t\\t\\t\\t\\t\\t\\t\\t\\t\\t\\t\\t\\n\\t\\t\\t\\t\\t\\t\\t\\t\\t...       LABORAL   \n",
       "2991  \\n\\t\\t\\t\\t\\t\\t\\t\\t\\t\\t\\t\\t\\n\\t\\t\\t\\t\\t\\t\\t\\t\\t...       LABORAL   \n",
       "2992  \\n\\t\\t\\t\\t\\t\\t\\t\\t\\t\\t\\t\\t\\n\\t\\t\\t\\t\\t\\t\\t\\t\\t...       LABORAL   \n",
       "\n",
       "                                             materia_s_  \\\n",
       "0                      OBLIGACION DE DAR SUMA DE DINERO   \n",
       "1     CAMBIO DE NOMBRE, SUPRESION DE NOMBRE Y/O ADIC...   \n",
       "2                            INEFICACIA DE TITULO VALOR   \n",
       "3                      OBLIGACION DE DAR SUMA DE DINERO   \n",
       "4                      OBLIGACION DE DAR SUMA DE DINERO   \n",
       "...                                                 ...   \n",
       "2988                  ACCION CONTENCIOSA ADMINISTRATIVA   \n",
       "2989  OBLIGACION DE DAR SUMA DE DINERO INICIADAS POR...   \n",
       "2990                  ACCION CONTENCIOSA ADMINISTRATIVA   \n",
       "2991                  ACCION CONTENCIOSA ADMINISTRATIVA   \n",
       "2992  OBLIGACION DE DAR SUMA DE DINERO INICIADAS POR...   \n",
       "\n",
       "                    estado_ etapa_procesal_ fecha_conclusion_  \\\n",
       "0                 EJECUCION         GENERAL                     \n",
       "1       ARCHIVO PROVISIONAL         GENERAL                     \n",
       "2        ARCHIVO DEFINITIVO         GENERAL                     \n",
       "3              EN EJECUCION         GENERAL                     \n",
       "4              EN EJECUCION         GENERAL                     \n",
       "...                     ...             ...               ...   \n",
       "2988            INADMISIBLE         GENERAL                     \n",
       "2989                APELADO         GENERAL                     \n",
       "2990  SENTENCIADO/ RESUELTO         GENERAL                     \n",
       "2991                TRAMITE         GENERAL                     \n",
       "2992           EN EJECUCION         GENERAL                     \n",
       "\n",
       "                ubicacion_ motivo_conclusion_  \\\n",
       "0     POOL ASIST. JUDICIAL            -------   \n",
       "1          ARCHIVO GENERAL            -------   \n",
       "2     POOL ASIST. JUDICIAL            -------   \n",
       "3     POOL ASIST. JUDICIAL            -------   \n",
       "4             ESPECIALISTA            -------   \n",
       "...                    ...                ...   \n",
       "2988  POOL ASIST. JUDICIAL            -------   \n",
       "2989  POOL ASIST. JUDICIAL            -------   \n",
       "2990  POOL ASIST. JUDICIAL            -------   \n",
       "2991          ESPECIALISTA            -------   \n",
       "2992          ESPECIALISTA            -------   \n",
       "\n",
       "                                               sumilla_  \\\n",
       "0                                     INTERPONE DEMANDA   \n",
       "1     DEMANDA DE RECTIFICACION Y MODIFICACIÓN DE PAR...   \n",
       "2       INTERPONE DEMANDA DE INEFICACIA DE TITULO VALOR   \n",
       "3          DEMANDA DE OBLIGACION DE DAR SUMA DE DINERO.   \n",
       "4                      OBLIGACION DE DAR SUMA DE DINERO   \n",
       "...                                                 ...   \n",
       "2988  INTERPONGO DEMANDA CONTENCIOSO ADMINISTRATIVO ...   \n",
       "2989                               INTERPONEMOS DEMANDA   \n",
       "2990                         CONTENCIOSO ADMINISTRATIVO   \n",
       "2991       INTERPONE DEMANDA CONTENCIOSA ADMINISTRATIVA   \n",
       "2992                                            O.D.S.D   \n",
       "\n",
       "                         juez_splitted  n_judges_case  \n",
       "0              [DERLINDA VASQUEZ RUIZ]              1  \n",
       "1           [NERY VANESA SOSA NAVARRO]              1  \n",
       "2        [ECHEVARRIA POMA SOLIA WILDA]              1  \n",
       "3            [BRYAN APAGUEÑO REATEGUI]              1  \n",
       "4                [SADITH VELA TANANTA]              1  \n",
       "...                                ...            ...  \n",
       "2988   [ZEVALLOS BASUALDO JUAN ANDRES]              1  \n",
       "2989    [FELIPE DAVID PALACIOS SANTOS]              1  \n",
       "2990   [ZEVALLOS BASUALDO JUAN ANDRES]              1  \n",
       "2991  [CLAVELITO LINDA CUHELLO GUERRA]              1  \n",
       "2992  [CLAVELITO LINDA CUHELLO GUERRA]              1  \n",
       "\n",
       "[2898 rows x 18 columns]"
      ]
     },
     "execution_count": 167,
     "metadata": {},
     "output_type": "execute_result"
    }
   ],
   "source": [
    "judge_names"
   ]
  },
  {
   "cell_type": "code",
   "execution_count": 171,
   "id": "e714809c",
   "metadata": {},
   "outputs": [],
   "source": [
    "judge_names = judge_names.rename(columns={\"juez_\": \"juez\"})"
   ]
  },
  {
   "cell_type": "code",
   "execution_count": null,
   "id": "1eca699e",
   "metadata": {},
   "outputs": [],
   "source": [
    "matched_judge_name1 = fuzzy_merge(judge_names, amag_ii_participants, \"juez\", \"participant_apellido_nombre\", threshold=90, limit=2)"
   ]
  },
  {
   "cell_type": "code",
   "execution_count": null,
   "id": "cad4e330",
   "metadata": {},
   "outputs": [],
   "source": [
    "len(matched_judge_name1)"
   ]
  }
 ],
 "metadata": {
  "kernelspec": {
   "display_name": "Judges Outcomes",
   "language": "python",
   "name": "judges_outcomes"
  },
  "language_info": {
   "codemirror_mode": {
    "name": "ipython",
    "version": 3
   },
   "file_extension": ".py",
   "mimetype": "text/x-python",
   "name": "python",
   "nbconvert_exporter": "python",
   "pygments_lexer": "ipython3",
   "version": "3.10.9"
  }
 },
 "nbformat": 4,
 "nbformat_minor": 5
}
