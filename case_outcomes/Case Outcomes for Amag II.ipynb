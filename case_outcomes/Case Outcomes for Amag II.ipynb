{
 "cells": [
  {
   "cell_type": "code",
   "execution_count": 1,
   "id": "96f1d9a2",
   "metadata": {},
   "outputs": [
    {
     "name": "stderr",
     "output_type": "stream",
     "text": [
      "C:\\Users\\Gigabyte\\anaconda3\\envs\\judges_outcomes\\lib\\site-packages\\fuzzywuzzy\\fuzz.py:11: UserWarning: Using slow pure-python SequenceMatcher. Install python-Levenshtein to remove this warning\n",
      "  warnings.warn('Using slow pure-python SequenceMatcher. Install python-Levenshtein to remove this warning')\n"
     ]
    }
   ],
   "source": [
    "import pandas as pd\n",
    "import numpy as np\n",
    "import json, os, string\n",
    "from janitor import clean_names\n",
    "from fuzzywuzzy import fuzz\n",
    "from fuzzywuzzy import process"
   ]
  },
  {
   "cell_type": "code",
   "execution_count": 2,
   "id": "c6ac7f74",
   "metadata": {
    "scrolled": true
   },
   "outputs": [],
   "source": [
    "def read_json_dict(path: str) -> dict:\n",
    "    \"\"\"\n",
    "    Reads a json file and returns it as dict object\n",
    "    \"\"\"\n",
    "    \n",
    "    file = open(path) # Opening JSON file\n",
    "    return json.load(file) # returns JSON object as a dictionary\n",
    "\n",
    "def folder_creator(folder_name: string, path: string) -> None:\n",
    "    \"\"\"\n",
    "    Generates a folder in specified path\n",
    "    \n",
    "    input: name of root folder, path where you want \n",
    "    folder to be created\n",
    "    output: None\n",
    "    \"\"\"\n",
    "    \n",
    "    # defining paths\n",
    "    data_folder_path = path + \"/\" + folder_name\n",
    "    data_folder_exists = os.path.exists(data_folder_path)\n",
    "\n",
    "    # creating folders if don't exist\n",
    "    if data_folder_exists:\n",
    "        pass\n",
    "    else:    \n",
    "        # create a new directory because it does not exist \n",
    "        os.makedirs(data_folder_path)\n",
    "\n",
    "        # create subfolders\n",
    "        print(f\"The new directory {folder_name} was created!\")\n",
    "        \n",
    "def fuzzy_merge(df_1, df_2, key1, key2, threshold=90, limit=2):\n",
    "    \"\"\"\n",
    "    :param df_1: the left table to join\n",
    "    :param df_2: the right table to join\n",
    "    :param key1: key column of the left table\n",
    "    :param key2: key column of the right table\n",
    "    :param threshold: how close the matches should be to return a match, based on Levenshtein distance\n",
    "    :param limit: the amount of matches that will get returned, these are sorted high to low\n",
    "    :return: dataframe with boths keys and matches\n",
    "    \"\"\"\n",
    "    s = df_2[key2].tolist()\n",
    "    \n",
    "    m = df_1[key1].apply(lambda x: process.extract(x, s, limit=limit))    \n",
    "    df_1['matches'] = m\n",
    "    \n",
    "    m2 = df_1['matches'].apply(lambda x: ', '.join([i[0] for i in x if i[1] >= threshold]))\n",
    "    df_1['matches'] = m2\n",
    "    \n",
    "    return df_1"
   ]
  },
  {
   "cell_type": "markdown",
   "id": "4112dfa4",
   "metadata": {},
   "source": [
    "## Reading paths"
   ]
  },
  {
   "cell_type": "code",
   "execution_count": 3,
   "id": "6c5e9630",
   "metadata": {},
   "outputs": [],
   "source": [
    "paths = read_json_dict(\"paths.json\")"
   ]
  },
  {
   "cell_type": "code",
   "execution_count": 4,
   "id": "0ac272d4",
   "metadata": {
    "scrolled": false
   },
   "outputs": [
    {
     "data": {
      "text/plain": [
       "{'data_path': 'D:/Accesos directos/Trabajo/World Bank/WB Repos/peru-scrape-justice',\n",
       " 'code_path': '/Users/brandonmora/GitHub/peru-amag-stats/case_outcomes',\n",
       " 'data_amag_i': 'D:/Accesos directos/Trabajo/World Bank/WB Repos/peru-scrape-justice/01_AMAG',\n",
       " 'data_cej': 'D:/Accesos directos/Trabajo/World Bank/WB Repos/peru-scrape-justice/data_cleaned_',\n",
       " 'data_gender': 'D:/Accesos directos/Trabajo/World Bank/WB Repos/peru-scrape-justice/07_Other/02_Raw/names_gender',\n",
       " 'local_storage': 'D:/Daniel Chen Dropbox/Marco Antonio GutiÃ©rrez ChÃ¡vez/datasets_amag_ii_scrape'}"
      ]
     },
     "execution_count": 4,
     "metadata": {},
     "output_type": "execute_result"
    }
   ],
   "source": [
    "paths"
   ]
  },
  {
   "cell_type": "code",
   "execution_count": 5,
   "id": "66e888ea",
   "metadata": {},
   "outputs": [],
   "source": [
    "data_path = paths[\"data_path\"]"
   ]
  },
  {
   "cell_type": "code",
   "execution_count": 6,
   "id": "0ac86717",
   "metadata": {},
   "outputs": [],
   "source": [
    "folder_creator(\"data_cleaned\", data_path)"
   ]
  },
  {
   "cell_type": "code",
   "execution_count": 7,
   "id": "427a39da",
   "metadata": {},
   "outputs": [],
   "source": [
    "data_cleaned_path = data_path + \"/data_cleaned\""
   ]
  },
  {
   "cell_type": "code",
   "execution_count": 8,
   "id": "35c9e95a",
   "metadata": {},
   "outputs": [],
   "source": [
    "folder_creator(\"raw\", data_cleaned_path)"
   ]
  },
  {
   "cell_type": "code",
   "execution_count": 9,
   "id": "18c389b9",
   "metadata": {},
   "outputs": [],
   "source": [
    "dc_raw_path = data_cleaned_path + \"/raw\""
   ]
  },
  {
   "cell_type": "code",
   "execution_count": 10,
   "id": "a4aa7114",
   "metadata": {},
   "outputs": [
    {
     "data": {
      "text/plain": [
       "'D:/Accesos directos/Trabajo/World Bank/WB Repos/peru-scrape-justice/data_cleaned/raw'"
      ]
     },
     "execution_count": 10,
     "metadata": {},
     "output_type": "execute_result"
    }
   ],
   "source": [
    "dc_raw_path"
   ]
  },
  {
   "cell_type": "markdown",
   "id": "475624d8",
   "metadata": {},
   "source": [
    "# 1. Creating participants list"
   ]
  },
  {
   "cell_type": "markdown",
   "id": "40c2d3d9",
   "metadata": {},
   "source": [
    "Reading lab data"
   ]
  },
  {
   "cell_type": "code",
   "execution_count": 11,
   "id": "0123568b",
   "metadata": {
    "scrolled": true
   },
   "outputs": [],
   "source": [
    "lab_data = pd.read_stata(data_path + \"/data/lab_Data/Clean_Full_Data12.dta\")"
   ]
  },
  {
   "cell_type": "markdown",
   "id": "94f12c50",
   "metadata": {},
   "source": [
    "Creating name variables for future fuzzy merge"
   ]
  },
  {
   "cell_type": "code",
   "execution_count": 12,
   "id": "8a5db534",
   "metadata": {
    "scrolled": true
   },
   "outputs": [
    {
     "name": "stderr",
     "output_type": "stream",
     "text": [
      "C:\\Users\\Gigabyte\\AppData\\Local\\Temp\\ipykernel_68832\\4041196165.py:1: PerformanceWarning: DataFrame is highly fragmented.  This is usually the result of calling `frame.insert` many times, which has poor performance.  Consider joining all columns at once using pd.concat(axis=1) instead. To get a de-fragmented frame, use `newframe = frame.copy()`\n",
      "  lab_data[\"participant_nombre_apellido\"] = lab_data[\"Nombres\"] + \" \" + lab_data[\"ApellidoPaterno\"] + \" \" + lab_data[\"ApellidoMaterno\"]\n"
     ]
    }
   ],
   "source": [
    "lab_data[\"participant_nombre_apellido\"] = lab_data[\"Nombres\"] + \" \" + lab_data[\"ApellidoPaterno\"] + \" \" + lab_data[\"ApellidoMaterno\"]\n",
    "lab_data[\"participant_nombre_apellido\"] = lab_data[\"participant_nombre_apellido\"].str.strip()"
   ]
  },
  {
   "cell_type": "code",
   "execution_count": 13,
   "id": "f63ca845",
   "metadata": {
    "scrolled": false
   },
   "outputs": [
    {
     "name": "stderr",
     "output_type": "stream",
     "text": [
      "C:\\Users\\Gigabyte\\AppData\\Local\\Temp\\ipykernel_68832\\909368064.py:1: PerformanceWarning: DataFrame is highly fragmented.  This is usually the result of calling `frame.insert` many times, which has poor performance.  Consider joining all columns at once using pd.concat(axis=1) instead. To get a de-fragmented frame, use `newframe = frame.copy()`\n",
      "  lab_data[\"participant_apellido_nombre\"] = lab_data[\"ApellidoPaterno\"] + \" \" + lab_data[\"ApellidoMaterno\"] + \" \" + lab_data[\"Nombres\"]\n"
     ]
    }
   ],
   "source": [
    "lab_data[\"participant_apellido_nombre\"] = lab_data[\"ApellidoPaterno\"] + \" \" + lab_data[\"ApellidoMaterno\"] + \" \" + lab_data[\"Nombres\"]\n",
    "lab_data[\"participant_apellido_nombre\"] = lab_data[\"participant_apellido_nombre\"].str.strip()"
   ]
  },
  {
   "cell_type": "code",
   "execution_count": 14,
   "id": "5a1a4b26",
   "metadata": {
    "scrolled": true
   },
   "outputs": [],
   "source": [
    "lab_data = lab_data.rename(columns={\"DNI\": \"nrodocumento\"})"
   ]
  },
  {
   "cell_type": "code",
   "execution_count": 15,
   "id": "7872d1a9",
   "metadata": {},
   "outputs": [],
   "source": [
    "amag_ii_participants = lab_data[[\"nrodocumento\", \"participant_nombre_apellido\", \"participant_apellido_nombre\"]]"
   ]
  },
  {
   "cell_type": "markdown",
   "id": "f9fba561",
   "metadata": {},
   "source": [
    "Exporting the list of participants"
   ]
  },
  {
   "cell_type": "code",
   "execution_count": 16,
   "id": "1cb27e50",
   "metadata": {},
   "outputs": [],
   "source": [
    "amag_ii_participants.to_csv(dc_raw_path + \"/amag_ii_participants_list.csv\")"
   ]
  },
  {
   "cell_type": "markdown",
   "id": "b8210558",
   "metadata": {},
   "source": [
    "# 2. Creating Cases List"
   ]
  },
  {
   "cell_type": "markdown",
   "id": "4e655645",
   "metadata": {},
   "source": [
    "### 2.0. Selecting reporte files"
   ]
  },
  {
   "cell_type": "code",
   "execution_count": 17,
   "id": "81d05649",
   "metadata": {},
   "outputs": [],
   "source": [
    "files_reports = pd.read_csv(dc_raw_path + \"/DF_file_report_2022.csv\")\n",
    "files_reports = clean_names(files_reports)"
   ]
  },
  {
   "cell_type": "markdown",
   "id": "91cc3474",
   "metadata": {},
   "source": [
    "### 2.1. Cleaning the reporte files"
   ]
  },
  {
   "cell_type": "markdown",
   "id": "b5392bfa",
   "metadata": {},
   "source": [
    "Creating lists with characters to be replace"
   ]
  },
  {
   "cell_type": "code",
   "execution_count": 18,
   "id": "d6b9e0e9",
   "metadata": {},
   "outputs": [],
   "source": [
    "backslash_reps = [\"\\\\(\\\\*\\\\)\", \"\\\\\", \"\\\\([^()]{0,}\\\\)\"]\n",
    "trailing_and_special_reps = [\"^\\\\s\", \"\\\\,\", \"\\\\.$\", \" \\\\- JUZ$\", \"\\\\*\"]\n",
    "other_strs_reps = [\"\\\\- MIXTO Y LIQ\", \"\\\\- MIXTO\", \"\\\\- JUZ\\\\. MIXTO\", \n",
    "                   \"- JM\", \"- INVESTIGACION\", \"- PAZ LETRADO\", \"SECOM - \", \"- JT\"]"
   ]
  },
  {
   "cell_type": "markdown",
   "id": "0ba8a3da",
   "metadata": {},
   "source": [
    "### 2.2. Replacing backlashes, special characters and other uninformative characters"
   ]
  },
  {
   "cell_type": "code",
   "execution_count": 19,
   "id": "110c4060",
   "metadata": {},
   "outputs": [],
   "source": [
    "empty_reps = backslash_reps + trailing_and_special_reps +  other_strs_reps"
   ]
  },
  {
   "cell_type": "code",
   "execution_count": 21,
   "id": "c1131709",
   "metadata": {
    "scrolled": true
   },
   "outputs": [
    {
     "name": "stderr",
     "output_type": "stream",
     "text": [
      "C:\\Users\\Gigabyte\\AppData\\Local\\Temp\\ipykernel_68832\\3422139958.py:2: FutureWarning: The default value of regex will change from True to False in a future version.\n",
      "  files_reports[\"juez_\"] = files_reports[\"juez_\"].str.replace(val, \"\")\n",
      "C:\\Users\\Gigabyte\\AppData\\Local\\Temp\\ipykernel_68832\\3422139958.py:2: FutureWarning: The default value of regex will change from True to False in a future version. In addition, single character regular expressions will *not* be treated as literal strings when regex=True.\n",
      "  files_reports[\"juez_\"] = files_reports[\"juez_\"].str.replace(val, \"\")\n"
     ]
    }
   ],
   "source": [
    "for val in empty_reps:    \n",
    "    files_reports[\"juez_\"] = files_reports[\"juez_\"].str.replace(val, \"\")"
   ]
  },
  {
   "cell_type": "code",
   "execution_count": 20,
   "id": "38b5b593",
   "metadata": {},
   "outputs": [],
   "source": [
    "name_reps = [[\"ALFREDO E\\\\.\", \"ALFREDO E\"], [\"BERTHA F\\\\.\", \"BERTHA F\"], [\"CLAUDIO W\\\\.\", \"CLAUDIO W\"], \n",
    "            [\"CLAVELITO L\\\\.\", \"CLAVELITO L\"], [\"ELMER L\\\\.\", \"ELMER L\"], [\"ERNESTO A\\\\.\", \"ERNESTO A\"],\n",
    "            [\"HERBERT M\\\\.\", \"HERBERT M\"], [\"LUZ K\\\\.\", \"LUZ K\"], [\"NANCY S\\\\.\", \"NANCY S\"], [\"JESSICA E\\\\.\", \"JESSICA E\"],\n",
    "            [\"PATRICIA C\\\\.\", \"PATRICIA C\"], [\"JESSICA P\\\\.\", \"JESSICA P\"], [\"YOLANDA B\\\\.\", \"YOLANDA B\\\\.\"],\n",
    "            [\"LUZ M\\\\.\", \"LUZ M\"], [\"EDGAR\\\\.\", \"EDGAR\"], [\"C\\\\. ARTURO\", \"C ARTURO\"], [\"ALEXANDER A\\\\.\", \"ALEXANDER A\"],\n",
    "            [\"RENE G\\\\.\", \"RENE G\"], [\"GUILLERMO S\\\\.\", \"GUILLERMO S\"], [\"FANNY L\\\\. \",  \"FANNY L\"], [\"ELISA \\\\(LA\", \"ELISA\"],\n",
    "            [\"JULIA \\\\(LA\", \"JULIA\"], [\"ACEVEDO DIEZ CECILIA\", \"ACEVEDO DIEZ CECILIA DEL PILAR\"], [\" J. \", \" J \"],\n",
    "            [\" K. \", \" K \"]]"
   ]
  },
  {
   "cell_type": "markdown",
   "id": "40067468",
   "metadata": {},
   "source": [
    "### 2.3. Replacing names with issues"
   ]
  },
  {
   "cell_type": "code",
   "execution_count": 22,
   "id": "77f62c47",
   "metadata": {
    "scrolled": false
   },
   "outputs": [
    {
     "name": "stderr",
     "output_type": "stream",
     "text": [
      "C:\\Users\\Gigabyte\\AppData\\Local\\Temp\\ipykernel_68832\\4277728364.py:2: FutureWarning: The default value of regex will change from True to False in a future version.\n",
      "  files_reports[\"juez_\"] = files_reports[\"juez_\"].str.replace(name_rep[0], name_rep[1])\n"
     ]
    }
   ],
   "source": [
    "for name_rep in name_reps:\n",
    "    files_reports[\"juez_\"] = files_reports[\"juez_\"].str.replace(name_rep[0], name_rep[1])"
   ]
  },
  {
   "cell_type": "markdown",
   "id": "109f28b9",
   "metadata": {},
   "source": [
    "### 2.4. Obtaining the names of judges"
   ]
  },
  {
   "cell_type": "markdown",
   "id": "d3a68bcb",
   "metadata": {},
   "source": [
    "Some cases have multiple judges assigned to them. As a result, we need to extract these names as we will match the case with the judge information."
   ]
  },
  {
   "cell_type": "code",
   "execution_count": 23,
   "id": "f57f87f7",
   "metadata": {
    "scrolled": true
   },
   "outputs": [],
   "source": [
    "files_reports = files_reports[files_reports[\"juez_\"].notna()]"
   ]
  },
  {
   "cell_type": "code",
   "execution_count": 24,
   "id": "7fdbf7b0",
   "metadata": {
    "scrolled": true
   },
   "outputs": [],
   "source": [
    "files_reports[\"juez_splitted\"] = files_reports[\"juez_\"].apply(lambda row: row.split(\".\"))"
   ]
  },
  {
   "cell_type": "code",
   "execution_count": 25,
   "id": "12f99917",
   "metadata": {
    "scrolled": true
   },
   "outputs": [],
   "source": [
    "files_reports[\"n_judges_case\"] = files_reports[\"juez_splitted\"].apply(lambda row: len(row))"
   ]
  },
  {
   "cell_type": "code",
   "execution_count": 26,
   "id": "1e1de66b",
   "metadata": {},
   "outputs": [],
   "source": [
    "judge_names = files_reports[files_reports[\"n_judges_case\"] == 1]"
   ]
  },
  {
   "cell_type": "code",
   "execution_count": 27,
   "id": "366e60bf",
   "metadata": {},
   "outputs": [],
   "source": [
    "multiple_judge_names = files_reports[files_reports[\"n_judges_case\"] != 1]"
   ]
  },
  {
   "cell_type": "code",
   "execution_count": 28,
   "id": "0f6cb645",
   "metadata": {
    "scrolled": true
   },
   "outputs": [
    {
     "name": "stderr",
     "output_type": "stream",
     "text": [
      "C:\\Users\\Gigabyte\\AppData\\Local\\Temp\\ipykernel_68832\\160945290.py:1: SettingWithCopyWarning: \n",
      "A value is trying to be set on a copy of a slice from a DataFrame.\n",
      "Try using .loc[row_indexer,col_indexer] = value instead\n",
      "\n",
      "See the caveats in the documentation: https://pandas.pydata.org/pandas-docs/stable/user_guide/indexing.html#returning-a-view-versus-a-copy\n",
      "  multiple_judge_names[\"juez_1\"] = multiple_judge_names[\"juez_splitted\"].apply(lambda row: row[0])\n",
      "C:\\Users\\Gigabyte\\AppData\\Local\\Temp\\ipykernel_68832\\160945290.py:2: SettingWithCopyWarning: \n",
      "A value is trying to be set on a copy of a slice from a DataFrame.\n",
      "Try using .loc[row_indexer,col_indexer] = value instead\n",
      "\n",
      "See the caveats in the documentation: https://pandas.pydata.org/pandas-docs/stable/user_guide/indexing.html#returning-a-view-versus-a-copy\n",
      "  multiple_judge_names[\"juez_2\"] = multiple_judge_names[\"juez_splitted\"].apply(lambda row: row[1])\n",
      "C:\\Users\\Gigabyte\\AppData\\Local\\Temp\\ipykernel_68832\\160945290.py:3: SettingWithCopyWarning: \n",
      "A value is trying to be set on a copy of a slice from a DataFrame.\n",
      "Try using .loc[row_indexer,col_indexer] = value instead\n",
      "\n",
      "See the caveats in the documentation: https://pandas.pydata.org/pandas-docs/stable/user_guide/indexing.html#returning-a-view-versus-a-copy\n",
      "  multiple_judge_names[\"juez_3\"] = multiple_judge_names[\"juez_splitted\"].apply(lambda row: row[2])\n"
     ]
    }
   ],
   "source": [
    "multiple_judge_names[\"juez_1\"] = multiple_judge_names[\"juez_splitted\"].apply(lambda row: row[0])\n",
    "multiple_judge_names[\"juez_2\"] = multiple_judge_names[\"juez_splitted\"].apply(lambda row: row[1])\n",
    "multiple_judge_names[\"juez_3\"] = multiple_judge_names[\"juez_splitted\"].apply(lambda row: row[2])"
   ]
  },
  {
   "cell_type": "code",
   "execution_count": 30,
   "id": "63556233",
   "metadata": {},
   "outputs": [],
   "source": [
    "judge_names = judge_names.rename(columns={\"juez_\": \"juez\"})"
   ]
  },
  {
   "cell_type": "markdown",
   "id": "9ffc272f",
   "metadata": {},
   "source": [
    "### 2.5. Fuzzy merge with Lab Experiment Data"
   ]
  },
  {
   "cell_type": "code",
   "execution_count": 172,
   "id": "1288d4d8",
   "metadata": {},
   "outputs": [],
   "source": [
    "matched_judge_name1 = fuzzy_merge(judge_names, amag_ii_participants, \"juez\", \"participant_apellido_nombre\", threshold=90, limit=2)"
   ]
  },
  {
   "cell_type": "code",
   "execution_count": 173,
   "id": "e684782a",
   "metadata": {},
   "outputs": [
    {
     "data": {
      "text/plain": [
       "2898"
      ]
     },
     "execution_count": 173,
     "metadata": {},
     "output_type": "execute_result"
    }
   ],
   "source": [
    "len(matched_judge_name1)"
   ]
  },
  {
   "cell_type": "code",
   "execution_count": 176,
   "id": "3cf8e161",
   "metadata": {
    "scrolled": true
   },
   "outputs": [
    {
     "data": {
      "text/plain": [
       "                                   2533\n",
       "CRUZADO MEJIA MARTIN VALDEMAR       228\n",
       "APAGUEÑO REATEGUI BRYAN ENRIQUE     137\n",
       "Name: matches, dtype: int64"
      ]
     },
     "execution_count": 176,
     "metadata": {},
     "output_type": "execute_result"
    }
   ],
   "source": [
    "matched_judge_name1[\"matches\"].value_counts()"
   ]
  },
  {
   "cell_type": "markdown",
   "id": "8cd55513",
   "metadata": {},
   "source": [
    "# 3. Creating CEJ datasets"
   ]
  },
  {
   "cell_type": "code",
   "execution_count": null,
   "id": "06a275bc",
   "metadata": {},
   "outputs": [],
   "source": []
  }
 ],
 "metadata": {
  "kernelspec": {
   "display_name": "Judges Outcomes",
   "language": "python",
   "name": "judges_outcomes"
  },
  "language_info": {
   "codemirror_mode": {
    "name": "ipython",
    "version": 3
   },
   "file_extension": ".py",
   "mimetype": "text/x-python",
   "name": "python",
   "nbconvert_exporter": "python",
   "pygments_lexer": "ipython3",
   "version": "3.10.9"
  }
 },
 "nbformat": 4,
 "nbformat_minor": 5
}
