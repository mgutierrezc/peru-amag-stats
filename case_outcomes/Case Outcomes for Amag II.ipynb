{
 "cells": [
  {
   "cell_type": "code",
   "execution_count": 1,
   "id": "96f1d9a2",
   "metadata": {
    "scrolled": false
   },
   "outputs": [
    {
     "name": "stderr",
     "output_type": "stream",
     "text": [
      "C:\\Users\\Gigabyte\\anaconda3\\envs\\judges_outcomes\\lib\\site-packages\\fuzzywuzzy\\fuzz.py:11: UserWarning: Using slow pure-python SequenceMatcher. Install python-Levenshtein to remove this warning\n",
      "  warnings.warn('Using slow pure-python SequenceMatcher. Install python-Levenshtein to remove this warning')\n"
     ]
    }
   ],
   "source": [
    "import pickle\n",
    "import regex as re\n",
    "import nltk\n",
    "import pandas as pd\n",
    "import numpy as np\n",
    "import json, os, string\n",
    "from janitor import clean_names\n",
    "from fuzzywuzzy import fuzz\n",
    "from fuzzywuzzy import process\n",
    "from datetime import datetime\n",
    "import d6tjoin.top1\n",
    "import d6tjoin.utils\n",
    "import d6tjoin"
   ]
  },
  {
   "cell_type": "code",
   "execution_count": 2,
   "id": "6d76723e",
   "metadata": {},
   "outputs": [],
   "source": [
    "def extract_text(text: str, pattern: str) -> str:\n",
    "    \"\"\"Extracts substring from string using a given regex pattern\"\"\"\n",
    "    \n",
    "    if type(text) is str:\n",
    "        match = re.search(pattern, text)\n",
    "        if match:\n",
    "            return match.group(1)\n",
    "        else:\n",
    "            return \"\"\n",
    "    else:\n",
    "        return \"\""
   ]
  },
  {
   "cell_type": "code",
   "execution_count": 92,
   "id": "c6ac7f74",
   "metadata": {
    "scrolled": true
   },
   "outputs": [],
   "source": [
    "def read_json_dict(path: str) -> dict:\n",
    "    \"\"\"\n",
    "    Reads a json file and returns it as dict object\n",
    "    \"\"\"\n",
    "    \n",
    "    file = open(path) # Opening JSON file\n",
    "    return json.load(file) # returns JSON object as a dictionary\n",
    "\n",
    "def folder_creator(folder_name: string, path: string) -> None:\n",
    "    \"\"\"\n",
    "    Generates a folder in specified path\n",
    "    \n",
    "    input: name of root folder, path where you want \n",
    "    folder to be created\n",
    "    output: None\n",
    "    \"\"\"\n",
    "    \n",
    "    # defining paths\n",
    "    data_folder_path = path + \"/\" + folder_name\n",
    "    data_folder_exists = os.path.exists(data_folder_path)\n",
    "\n",
    "    # creating folders if don't exist\n",
    "    if data_folder_exists:\n",
    "        pass\n",
    "    else:    \n",
    "        # create a new directory because it does not exist \n",
    "        os.makedirs(data_folder_path)\n",
    "\n",
    "        # create subfolders\n",
    "        print(f\"The new directory {folder_name} was created!\")\n",
    "        \n",
    "def fuzzy_merge(df_1, df_2, key1, key2, threshold=90, limit=2):\n",
    "    \"\"\"\n",
    "    :param df_1: the left table to join\n",
    "    :param df_2: the right table to join\n",
    "    :param key1: key column of the left table\n",
    "    :param key2: key column of the right table\n",
    "    :param threshold: how close the matches should be to return a match, based on Levenshtein distance\n",
    "    :param limit: the amount of matches that will get returned, these are sorted high to low\n",
    "    :return: dataframe with boths keys and matches\n",
    "    \"\"\"\n",
    "    s = df_2[key2].tolist()\n",
    "    \n",
    "    m = df_1[key1].apply(lambda x: process.extract(x, s, limit=limit))    \n",
    "    df_1['matches'] = m\n",
    "    \n",
    "    m2 = df_1['matches'].apply(lambda x: ', '.join([i[0] for i in x if i[1] >= threshold]))\n",
    "    df_1['matches'] = m2\n",
    "    \n",
    "    return df_1\n",
    "\n",
    "def create_pickle(object_name, file_name: str, path: str) -> None:\n",
    "    \"\"\"\n",
    "    Creates a pickle file for object. Note: Path should have no slash \n",
    "    at the end\n",
    "    \"\"\"\n",
    "    with open(path + f\"/{file_name}\", \"wb\") as storing_output:\n",
    "        pickle.dump(object_name, storing_output)\n",
    "        storing_output.close()\n",
    "        \n",
    "def read_pickle(file_name: str, path: str) -> None:\n",
    "    \"\"\"\n",
    "    Reads pickle file from specified path \n",
    "    \"\"\"\n",
    "    pickle_file = open(path + f\"/{file_name}\", \"rb\")\n",
    "    output = pickle.load(pickle_file)\n",
    "    pickle_file.close()\n",
    "    return output"
   ]
  },
  {
   "cell_type": "markdown",
   "id": "4112dfa4",
   "metadata": {},
   "source": [
    "## Reading paths"
   ]
  },
  {
   "cell_type": "code",
   "execution_count": 4,
   "id": "6c5e9630",
   "metadata": {},
   "outputs": [],
   "source": [
    "paths = read_json_dict(\"paths.json\")"
   ]
  },
  {
   "cell_type": "code",
   "execution_count": 5,
   "id": "0ac272d4",
   "metadata": {
    "scrolled": false
   },
   "outputs": [
    {
     "data": {
      "text/plain": [
       "{'data_path': 'D:/Accesos directos/Trabajo/World Bank/WB Repos/peru-scrape-justice',\n",
       " 'code_path': '/Users/brandonmora/GitHub/peru-amag-stats/case_outcomes',\n",
       " 'data_amag_i': 'D:/Accesos directos/Trabajo/World Bank/WB Repos/peru-scrape-justice/01_AMAG',\n",
       " 'data_cej': 'D:/Accesos directos/Trabajo/World Bank/WB Repos/peru-scrape-justice/data_cleaned_',\n",
       " 'data_gender': 'D:/Accesos directos/Trabajo/World Bank/WB Repos/peru-scrape-justice/07_Other/02_Raw/names_gender',\n",
       " 'local_storage': 'D:/Daniel Chen Dropbox/Marco Antonio GutiÃ©rrez ChÃ¡vez/datasets_amag_ii_scrape'}"
      ]
     },
     "execution_count": 5,
     "metadata": {},
     "output_type": "execute_result"
    }
   ],
   "source": [
    "paths"
   ]
  },
  {
   "cell_type": "code",
   "execution_count": 6,
   "id": "66e888ea",
   "metadata": {},
   "outputs": [],
   "source": [
    "data_path = paths[\"data_path\"]"
   ]
  },
  {
   "cell_type": "code",
   "execution_count": 8,
   "id": "a455f55c",
   "metadata": {},
   "outputs": [
    {
     "data": {
      "text/plain": [
       "'D:/Accesos directos/Trabajo/World Bank/WB Repos/peru-scrape-justice'"
      ]
     },
     "execution_count": 8,
     "metadata": {},
     "output_type": "execute_result"
    }
   ],
   "source": [
    "data_path"
   ]
  },
  {
   "cell_type": "code",
   "execution_count": 10,
   "id": "c752d517",
   "metadata": {},
   "outputs": [],
   "source": [
    "data_cleaned_path = data_path + \"/data_cleaned_test\""
   ]
  },
  {
   "cell_type": "code",
   "execution_count": 17,
   "id": "35c9e95a",
   "metadata": {},
   "outputs": [],
   "source": [
    "folder_creator(\"raw\", data_cleaned_path)"
   ]
  },
  {
   "cell_type": "code",
   "execution_count": 18,
   "id": "18c389b9",
   "metadata": {},
   "outputs": [],
   "source": [
    "dc_raw_path = data_cleaned_path + \"/raw\""
   ]
  },
  {
   "cell_type": "code",
   "execution_count": 19,
   "id": "9dd0193b",
   "metadata": {},
   "outputs": [],
   "source": [
    "folder_creator(\"temp\", data_cleaned_path)"
   ]
  },
  {
   "cell_type": "code",
   "execution_count": 20,
   "id": "daa52ceb",
   "metadata": {},
   "outputs": [],
   "source": [
    "dc_temp_path = data_cleaned_path + \"/temp\""
   ]
  },
  {
   "cell_type": "code",
   "execution_count": 199,
   "id": "3b477f4f",
   "metadata": {},
   "outputs": [
    {
     "name": "stdout",
     "output_type": "stream",
     "text": [
      "The new directory intermediate was created!\n"
     ]
    }
   ],
   "source": [
    "folder_creator(\"intermediate\", data_cleaned_path)"
   ]
  },
  {
   "cell_type": "code",
   "execution_count": 200,
   "id": "f8a8333c",
   "metadata": {},
   "outputs": [],
   "source": [
    "dc_interm_path = data_cleaned_path + \"/intermediate\""
   ]
  },
  {
   "cell_type": "markdown",
   "id": "475624d8",
   "metadata": {},
   "source": [
    "# 1. Creating participants list"
   ]
  },
  {
   "cell_type": "markdown",
   "id": "702d6ee6",
   "metadata": {},
   "source": [
    "Reading lab data"
   ]
  },
  {
   "cell_type": "code",
   "execution_count": 11,
   "id": "0123568b",
   "metadata": {
    "scrolled": true
   },
   "outputs": [],
   "source": [
    "lab_data = pd.read_stata(data_path + \"/lab_Data/Clean_Full_Data12.dta\")"
   ]
  },
  {
   "cell_type": "markdown",
   "id": "7861e8a3",
   "metadata": {},
   "source": [
    "Creating name variables for future fuzzy merge"
   ]
  },
  {
   "cell_type": "code",
   "execution_count": 12,
   "id": "8a5db534",
   "metadata": {
    "scrolled": true
   },
   "outputs": [
    {
     "name": "stderr",
     "output_type": "stream",
     "text": [
      "C:\\Users\\Gigabyte\\AppData\\Local\\Temp\\ipykernel_7404\\4041196165.py:1: PerformanceWarning: DataFrame is highly fragmented.  This is usually the result of calling `frame.insert` many times, which has poor performance.  Consider joining all columns at once using pd.concat(axis=1) instead. To get a de-fragmented frame, use `newframe = frame.copy()`\n",
      "  lab_data[\"participant_nombre_apellido\"] = lab_data[\"Nombres\"] + \" \" + lab_data[\"ApellidoPaterno\"] + \" \" + lab_data[\"ApellidoMaterno\"]\n"
     ]
    }
   ],
   "source": [
    "lab_data[\"participant_nombre_apellido\"] = lab_data[\"Nombres\"] + \" \" + lab_data[\"ApellidoPaterno\"] + \" \" + lab_data[\"ApellidoMaterno\"]\n",
    "lab_data[\"participant_nombre_apellido\"] = lab_data[\"participant_nombre_apellido\"].str.strip()"
   ]
  },
  {
   "cell_type": "code",
   "execution_count": 13,
   "id": "f63ca845",
   "metadata": {
    "scrolled": false
   },
   "outputs": [
    {
     "name": "stderr",
     "output_type": "stream",
     "text": [
      "C:\\Users\\Gigabyte\\AppData\\Local\\Temp\\ipykernel_7404\\909368064.py:1: PerformanceWarning: DataFrame is highly fragmented.  This is usually the result of calling `frame.insert` many times, which has poor performance.  Consider joining all columns at once using pd.concat(axis=1) instead. To get a de-fragmented frame, use `newframe = frame.copy()`\n",
      "  lab_data[\"participant_apellido_nombre\"] = lab_data[\"ApellidoPaterno\"] + \" \" + lab_data[\"ApellidoMaterno\"] + \" \" + lab_data[\"Nombres\"]\n"
     ]
    }
   ],
   "source": [
    "lab_data[\"participant_apellido_nombre\"] = lab_data[\"ApellidoPaterno\"] + \" \" + lab_data[\"ApellidoMaterno\"] + \" \" + lab_data[\"Nombres\"]\n",
    "lab_data[\"participant_apellido_nombre\"] = lab_data[\"participant_apellido_nombre\"].str.strip()"
   ]
  },
  {
   "cell_type": "code",
   "execution_count": 14,
   "id": "5a1a4b26",
   "metadata": {
    "scrolled": true
   },
   "outputs": [],
   "source": [
    "lab_data = lab_data.rename(columns={\"DNI\": \"nrodocumento\"})"
   ]
  },
  {
   "cell_type": "code",
   "execution_count": 15,
   "id": "7872d1a9",
   "metadata": {},
   "outputs": [],
   "source": [
    "amag_ii_participants = lab_data[[\"nrodocumento\", \"participant_nombre_apellido\", \"participant_apellido_nombre\"]]"
   ]
  },
  {
   "cell_type": "markdown",
   "id": "55df507c",
   "metadata": {},
   "source": [
    "Exporting the list of participants"
   ]
  },
  {
   "cell_type": "code",
   "execution_count": 21,
   "id": "1cb27e50",
   "metadata": {},
   "outputs": [],
   "source": [
    "amag_ii_participants.to_csv(dc_raw_path + \"/amag_ii_participants_list.csv\")"
   ]
  },
  {
   "cell_type": "markdown",
   "id": "b8210558",
   "metadata": {},
   "source": [
    "# 2. Creating Cases List"
   ]
  },
  {
   "cell_type": "markdown",
   "id": "4e655645",
   "metadata": {},
   "source": [
    "### 2.0. Selecting reporte files"
   ]
  },
  {
   "cell_type": "code",
   "execution_count": 22,
   "id": "81d05649",
   "metadata": {},
   "outputs": [],
   "source": [
    "files_reports = pd.read_csv(dc_raw_path + \"/DF_file_report_2022.csv\")\n",
    "files_reports = clean_names(files_reports)"
   ]
  },
  {
   "cell_type": "markdown",
   "id": "91cc3474",
   "metadata": {},
   "source": [
    "### 2.1. Cleaning the reporte files"
   ]
  },
  {
   "cell_type": "markdown",
   "id": "b5392bfa",
   "metadata": {},
   "source": [
    "Creating lists with characters to be replace"
   ]
  },
  {
   "cell_type": "code",
   "execution_count": 23,
   "id": "d6b9e0e9",
   "metadata": {},
   "outputs": [],
   "source": [
    "backslash_reps = [\"\\\\(\\\\*\\\\)\", \"\\\\\", \"\\\\([^()]{0,}\\\\)\"]\n",
    "trailing_and_special_reps = [\"^\\\\s\", \"\\\\,\", \"\\\\.$\", \" \\\\- JUZ$\", \"\\\\*\"]\n",
    "other_strs_reps = [\"\\\\- MIXTO Y LIQ\", \"\\\\- MIXTO\", \"\\\\- JUZ\\\\. MIXTO\", \n",
    "                   \"- JM\", \"- INVESTIGACION\", \"- PAZ LETRADO\", \"SECOM - \", \"- JT\"]"
   ]
  },
  {
   "cell_type": "markdown",
   "id": "d7824dea",
   "metadata": {},
   "source": [
    "### 2.2. Replacing backlashes, special characters and other uninformative characters"
   ]
  },
  {
   "cell_type": "code",
   "execution_count": 24,
   "id": "110c4060",
   "metadata": {},
   "outputs": [],
   "source": [
    "empty_reps = backslash_reps + trailing_and_special_reps + other_strs_reps"
   ]
  },
  {
   "cell_type": "code",
   "execution_count": 25,
   "id": "c1131709",
   "metadata": {
    "scrolled": true
   },
   "outputs": [
    {
     "name": "stderr",
     "output_type": "stream",
     "text": [
      "C:\\Users\\Gigabyte\\AppData\\Local\\Temp\\ipykernel_7404\\3422139958.py:2: FutureWarning: The default value of regex will change from True to False in a future version.\n",
      "  files_reports[\"juez_\"] = files_reports[\"juez_\"].str.replace(val, \"\")\n",
      "C:\\Users\\Gigabyte\\AppData\\Local\\Temp\\ipykernel_7404\\3422139958.py:2: FutureWarning: The default value of regex will change from True to False in a future version. In addition, single character regular expressions will *not* be treated as literal strings when regex=True.\n",
      "  files_reports[\"juez_\"] = files_reports[\"juez_\"].str.replace(val, \"\")\n"
     ]
    }
   ],
   "source": [
    "for val in empty_reps:    \n",
    "    files_reports[\"juez_\"] = files_reports[\"juez_\"].str.replace(val, \"\")"
   ]
  },
  {
   "cell_type": "code",
   "execution_count": 26,
   "id": "809d5282",
   "metadata": {},
   "outputs": [],
   "source": [
    "name_reps = [[\"ALFREDO E\\\\.\", \"ALFREDO E\"], [\"BERTHA F\\\\.\", \"BERTHA F\"], [\"CLAUDIO W\\\\.\", \"CLAUDIO W\"], \n",
    "            [\"CLAVELITO L\\\\.\", \"CLAVELITO L\"], [\"ELMER L\\\\.\", \"ELMER L\"], [\"ERNESTO A\\\\.\", \"ERNESTO A\"],\n",
    "            [\"HERBERT M\\\\.\", \"HERBERT M\"], [\"LUZ K\\\\.\", \"LUZ K\"], [\"NANCY S\\\\.\", \"NANCY S\"], [\"JESSICA E\\\\.\", \"JESSICA E\"],\n",
    "            [\"PATRICIA C\\\\.\", \"PATRICIA C\"], [\"JESSICA P\\\\.\", \"JESSICA P\"], [\"YOLANDA B\\\\.\", \"YOLANDA B\\\\.\"],\n",
    "            [\"LUZ M\\\\.\", \"LUZ M\"], [\"EDGAR\\\\.\", \"EDGAR\"], [\"C\\\\. ARTURO\", \"C ARTURO\"], [\"ALEXANDER A\\\\.\", \"ALEXANDER A\"],\n",
    "            [\"RENE G\\\\.\", \"RENE G\"], [\"GUILLERMO S\\\\.\", \"GUILLERMO S\"], [\"FANNY L\\\\. \",  \"FANNY L\"], [\"ELISA \\\\(LA\", \"ELISA\"],\n",
    "            [\"JULIA \\\\(LA\", \"JULIA\"], [\"ACEVEDO DIEZ CECILIA\", \"ACEVEDO DIEZ CECILIA DEL PILAR\"], [\" J. \", \" J \"],\n",
    "            [\" K. \", \" K \"]]"
   ]
  },
  {
   "cell_type": "markdown",
   "id": "05a63ec6",
   "metadata": {},
   "source": [
    "### 2.3. Replacing names with issues"
   ]
  },
  {
   "cell_type": "code",
   "execution_count": 27,
   "id": "77f62c47",
   "metadata": {
    "scrolled": false
   },
   "outputs": [
    {
     "name": "stderr",
     "output_type": "stream",
     "text": [
      "C:\\Users\\Gigabyte\\AppData\\Local\\Temp\\ipykernel_7404\\4277728364.py:2: FutureWarning: The default value of regex will change from True to False in a future version.\n",
      "  files_reports[\"juez_\"] = files_reports[\"juez_\"].str.replace(name_rep[0], name_rep[1])\n"
     ]
    }
   ],
   "source": [
    "for name_rep in name_reps:\n",
    "    files_reports[\"juez_\"] = files_reports[\"juez_\"].str.replace(name_rep[0], name_rep[1])"
   ]
  },
  {
   "cell_type": "markdown",
   "id": "a5353a8a",
   "metadata": {},
   "source": [
    "### 2.4. Obtaining the names of judges"
   ]
  },
  {
   "cell_type": "markdown",
   "id": "6a96cd4a",
   "metadata": {},
   "source": [
    "Some cases have multiple judges assigned to them. As a result, we need to extract these names as we will match the case with the judge information."
   ]
  },
  {
   "cell_type": "code",
   "execution_count": 28,
   "id": "f57f87f7",
   "metadata": {
    "scrolled": true
   },
   "outputs": [],
   "source": [
    "files_reports = files_reports[files_reports[\"juez_\"].notna()]"
   ]
  },
  {
   "cell_type": "code",
   "execution_count": 29,
   "id": "7fdbf7b0",
   "metadata": {
    "scrolled": true
   },
   "outputs": [],
   "source": [
    "files_reports[\"juez_splitted\"] = files_reports[\"juez_\"].apply(lambda row: row.split(\".\"))"
   ]
  },
  {
   "cell_type": "code",
   "execution_count": 30,
   "id": "12f99917",
   "metadata": {
    "scrolled": true
   },
   "outputs": [],
   "source": [
    "files_reports[\"n_judges_case\"] = files_reports[\"juez_splitted\"].apply(lambda row: len(row))"
   ]
  },
  {
   "cell_type": "code",
   "execution_count": 31,
   "id": "1e1de66b",
   "metadata": {},
   "outputs": [],
   "source": [
    "judge_names = files_reports[files_reports[\"n_judges_case\"] == 1]"
   ]
  },
  {
   "cell_type": "code",
   "execution_count": 32,
   "id": "366e60bf",
   "metadata": {},
   "outputs": [],
   "source": [
    "multiple_judge_names = files_reports[files_reports[\"n_judges_case\"] != 1]"
   ]
  },
  {
   "cell_type": "code",
   "execution_count": 33,
   "id": "0f6cb645",
   "metadata": {
    "scrolled": true
   },
   "outputs": [
    {
     "name": "stderr",
     "output_type": "stream",
     "text": [
      "C:\\Users\\Gigabyte\\AppData\\Local\\Temp\\ipykernel_7404\\160945290.py:1: SettingWithCopyWarning: \n",
      "A value is trying to be set on a copy of a slice from a DataFrame.\n",
      "Try using .loc[row_indexer,col_indexer] = value instead\n",
      "\n",
      "See the caveats in the documentation: https://pandas.pydata.org/pandas-docs/stable/user_guide/indexing.html#returning-a-view-versus-a-copy\n",
      "  multiple_judge_names[\"juez_1\"] = multiple_judge_names[\"juez_splitted\"].apply(lambda row: row[0])\n",
      "C:\\Users\\Gigabyte\\AppData\\Local\\Temp\\ipykernel_7404\\160945290.py:2: SettingWithCopyWarning: \n",
      "A value is trying to be set on a copy of a slice from a DataFrame.\n",
      "Try using .loc[row_indexer,col_indexer] = value instead\n",
      "\n",
      "See the caveats in the documentation: https://pandas.pydata.org/pandas-docs/stable/user_guide/indexing.html#returning-a-view-versus-a-copy\n",
      "  multiple_judge_names[\"juez_2\"] = multiple_judge_names[\"juez_splitted\"].apply(lambda row: row[1])\n",
      "C:\\Users\\Gigabyte\\AppData\\Local\\Temp\\ipykernel_7404\\160945290.py:3: SettingWithCopyWarning: \n",
      "A value is trying to be set on a copy of a slice from a DataFrame.\n",
      "Try using .loc[row_indexer,col_indexer] = value instead\n",
      "\n",
      "See the caveats in the documentation: https://pandas.pydata.org/pandas-docs/stable/user_guide/indexing.html#returning-a-view-versus-a-copy\n",
      "  multiple_judge_names[\"juez_3\"] = multiple_judge_names[\"juez_splitted\"].apply(lambda row: row[2])\n"
     ]
    }
   ],
   "source": [
    "multiple_judge_names[\"juez_1\"] = multiple_judge_names[\"juez_splitted\"].apply(lambda row: row[0])\n",
    "multiple_judge_names[\"juez_2\"] = multiple_judge_names[\"juez_splitted\"].apply(lambda row: row[1])\n",
    "multiple_judge_names[\"juez_3\"] = multiple_judge_names[\"juez_splitted\"].apply(lambda row: row[2])"
   ]
  },
  {
   "cell_type": "code",
   "execution_count": 34,
   "id": "63556233",
   "metadata": {},
   "outputs": [],
   "source": [
    "judge_names = judge_names.rename(columns={\"juez_\": \"juez\"})"
   ]
  },
  {
   "cell_type": "markdown",
   "id": "e8c02897",
   "metadata": {},
   "source": [
    "### 2.5. Fuzzy merge with Lab Experiment Data"
   ]
  },
  {
   "cell_type": "markdown",
   "id": "201e975b",
   "metadata": {},
   "source": [
    "Creating debuggings dataset to simulate the fuzzy merge"
   ]
  },
  {
   "cell_type": "code",
   "execution_count": 35,
   "id": "cda37e2d",
   "metadata": {
    "scrolled": false
   },
   "outputs": [
    {
     "data": {
      "text/plain": [
       "Index(['expediente_n°_', 'organo_jurisdiccional_', 'distrito_judicial_',\n",
       "       'juez', 'especialista_legal_', 'fecha_de_inicio_', 'proceso_',\n",
       "       'observacion_', 'especialidad_', 'materia_s_', 'estado_',\n",
       "       'etapa_procesal_', 'fecha_conclusion_', 'ubicacion_',\n",
       "       'motivo_conclusion_', 'sumilla_', 'juez_splitted', 'n_judges_case'],\n",
       "      dtype='object')"
      ]
     },
     "execution_count": 35,
     "metadata": {},
     "output_type": "execute_result"
    }
   ],
   "source": [
    "judge_names.columns"
   ]
  },
  {
   "cell_type": "code",
   "execution_count": 36,
   "id": "6a822c2e",
   "metadata": {},
   "outputs": [],
   "source": [
    "debug_judges = judge_names[(judge_names[\"juez\"] == \"CRUZADO MEJIA MARTIN VALDEMAR\") |\n",
    "                           (judge_names[\"juez\"] == \"APAGUEÑO REATEGUI BRYAN ENRIQUE\")]"
   ]
  },
  {
   "cell_type": "code",
   "execution_count": 37,
   "id": "2b22e8af",
   "metadata": {},
   "outputs": [],
   "source": [
    "debug_participants = amag_ii_participants[(amag_ii_participants[\"participant_apellido_nombre\"] == \"CRUZADO MEJIA MARTIN VALDEMAR\") |\n",
    "                                          (amag_ii_participants[\"participant_apellido_nombre\"] == \"APAGUEÑO REATEGUI BRYAN ENRIQUE\")]"
   ]
  },
  {
   "cell_type": "markdown",
   "id": "9d0079db",
   "metadata": {},
   "source": [
    "Fuzzy match of cases"
   ]
  },
  {
   "cell_type": "code",
   "execution_count": 38,
   "id": "61efc1b8",
   "metadata": {},
   "outputs": [
    {
     "name": "stderr",
     "output_type": "stream",
     "text": [
      "C:\\Users\\Gigabyte\\anaconda3\\envs\\judges_outcomes\\lib\\site-packages\\d6tjoin\\top1.py:93: FutureWarning: The frame.append method is deprecated and will be removed from pandas in a future version. Use pandas.concat instead.\n",
      "  df_candidates = df_candidates_exact.append(df_candidates_fuzzy, ignore_index=True)\n"
     ]
    }
   ],
   "source": [
    "matched_judge_name1 = d6tjoin.top1.MergeTop1(debug_judges, debug_participants, fuzzy_left_on=[\"juez\"], \n",
    "                       fuzzy_right_on=[\"participant_apellido_nombre\"]).merge()[\"merged\"]"
   ]
  },
  {
   "cell_type": "code",
   "execution_count": 39,
   "id": "e684782a",
   "metadata": {
    "scrolled": true
   },
   "outputs": [],
   "source": [
    "amag_ii_cases = matched_judge_name1.copy()"
   ]
  },
  {
   "cell_type": "markdown",
   "id": "1c8bc9f7",
   "metadata": {},
   "source": [
    "# 3. Creating CEJ datasets"
   ]
  },
  {
   "cell_type": "markdown",
   "id": "babb94ba",
   "metadata": {},
   "source": [
    "A pending task would be to bind the rows of all the dataframes"
   ]
  },
  {
   "cell_type": "markdown",
   "id": "45a2f3b3",
   "metadata": {},
   "source": [
    "## Follow up dataframe"
   ]
  },
  {
   "cell_type": "code",
   "execution_count": 40,
   "id": "ff5ec622",
   "metadata": {
    "scrolled": true
   },
   "outputs": [
    {
     "name": "stderr",
     "output_type": "stream",
     "text": [
      "C:\\Users\\Gigabyte\\AppData\\Local\\Temp\\ipykernel_7404\\994655769.py:1: FutureWarning: The error_bad_lines argument has been deprecated and will be removed in a future version. Use on_bad_lines in the future.\n",
      "\n",
      "\n",
      "  files_follow_up = pd.read_csv(dc_raw_path + \"/DF_follow_up_cleaner_2022.csv\", error_bad_lines=False)\n",
      "Skipping line 8128: expected 10 fields, saw 11\n",
      "\n"
     ]
    }
   ],
   "source": [
    "files_follow_up = pd.read_csv(dc_raw_path + \"/DF_follow_up_cleaner_2022.csv\", error_bad_lines=False)\n",
    "files_follow_up = clean_names(files_follow_up)"
   ]
  },
  {
   "cell_type": "markdown",
   "id": "0c838a3d",
   "metadata": {},
   "source": [
    "# Procedural parts dataframe"
   ]
  },
  {
   "cell_type": "code",
   "execution_count": 41,
   "id": "8419b808",
   "metadata": {
    "scrolled": true
   },
   "outputs": [],
   "source": [
    "files_procedural_parts = pd.read_csv(dc_raw_path + \"/DF_procedural_parts_2022.csv\")\n",
    "files_procedural_parts = clean_names(files_procedural_parts)"
   ]
  },
  {
   "cell_type": "code",
   "execution_count": 42,
   "id": "e68e6415",
   "metadata": {},
   "outputs": [],
   "source": [
    "files_procedural_parts[\"expediente_n°_\"] = files_procedural_parts[\"expediente_n°_\"].apply(lambda row: row.split(\"\\\\\")[-1])"
   ]
  },
  {
   "cell_type": "markdown",
   "id": "6c946142",
   "metadata": {},
   "source": [
    "## Downloads dataframe"
   ]
  },
  {
   "cell_type": "code",
   "execution_count": 43,
   "id": "b874163b",
   "metadata": {
    "scrolled": true
   },
   "outputs": [],
   "source": [
    "files_downloads = pd.read_csv(dc_raw_path + \"/DF_DOWNLOADS_2022.csv\")\n",
    "files_downloads = clean_names(files_downloads)"
   ]
  },
  {
   "cell_type": "markdown",
   "id": "38a8a45d",
   "metadata": {},
   "source": [
    "### Merging complementary case data with amag ii cases"
   ]
  },
  {
   "cell_type": "code",
   "execution_count": 44,
   "id": "f80737ca",
   "metadata": {
    "scrolled": false
   },
   "outputs": [],
   "source": [
    "reportes_amag_ii_raw = pd.merge(amag_ii_cases, files_reports, how=\"inner\", on=\"expediente_n°_\")"
   ]
  },
  {
   "cell_type": "code",
   "execution_count": 45,
   "id": "cff08574",
   "metadata": {
    "scrolled": false
   },
   "outputs": [],
   "source": [
    "follow_up_amag_ii_raw = pd.merge(amag_ii_cases, files_follow_up, how=\"inner\", on=\"expediente_n°_\")"
   ]
  },
  {
   "cell_type": "code",
   "execution_count": 46,
   "id": "0f446412",
   "metadata": {
    "scrolled": true
   },
   "outputs": [],
   "source": [
    "procedural_parts_amag_ii_raw = pd.merge(amag_ii_cases, files_procedural_parts, how=\"inner\", on=\"expediente_n°_\")"
   ]
  },
  {
   "cell_type": "code",
   "execution_count": 47,
   "id": "bb5eb8ba",
   "metadata": {
    "scrolled": true
   },
   "outputs": [],
   "source": [
    "downloads_amag_ii_raw = pd.merge(amag_ii_cases, files_downloads, how=\"inner\", left_on=\"expediente_n°_\", right_on=\"expediente_num\")"
   ]
  },
  {
   "cell_type": "code",
   "execution_count": 48,
   "id": "b4350e8a",
   "metadata": {
    "scrolled": true
   },
   "outputs": [
    {
     "name": "stdout",
     "output_type": "stream",
     "text": [
      "Help on function create_pickle in module __main__:\n",
      "\n",
      "create_pickle(object_name, file_name: str, path: str) -> None\n",
      "    Creates a pickle file for object. Note: Path should have no slash \n",
      "    at the end\n",
      "\n"
     ]
    }
   ],
   "source": [
    "help(create_pickle)"
   ]
  },
  {
   "cell_type": "markdown",
   "id": "ac250445",
   "metadata": {},
   "source": [
    "Storing data on `.pkl` files"
   ]
  },
  {
   "cell_type": "code",
   "execution_count": 49,
   "id": "a5fc8cf3",
   "metadata": {
    "scrolled": true
   },
   "outputs": [],
   "source": [
    "create_pickle(amag_ii_cases, \"amag_ii_cases.pkl\", dc_temp_path)"
   ]
  },
  {
   "cell_type": "code",
   "execution_count": 50,
   "id": "a79cd213",
   "metadata": {
    "scrolled": true
   },
   "outputs": [],
   "source": [
    "create_pickle(reportes_amag_ii_raw, \"reportes_amag_ii_raw.pkl\", dc_temp_path)"
   ]
  },
  {
   "cell_type": "code",
   "execution_count": 51,
   "id": "e33c751d",
   "metadata": {
    "scrolled": true
   },
   "outputs": [],
   "source": [
    "create_pickle(follow_up_amag_ii_raw, \"follow_up_amag_ii_raw.pkl\", dc_temp_path)"
   ]
  },
  {
   "cell_type": "code",
   "execution_count": 52,
   "id": "7d8fc991",
   "metadata": {
    "scrolled": true
   },
   "outputs": [],
   "source": [
    "create_pickle(procedural_parts_amag_ii_raw, \"procedural_parts_amag_ii_raw.pkl\", dc_temp_path)"
   ]
  },
  {
   "cell_type": "code",
   "execution_count": 53,
   "id": "b63796dc",
   "metadata": {
    "scrolled": true
   },
   "outputs": [],
   "source": [
    "create_pickle(downloads_amag_ii_raw, \"downloads_amag_ii_raw.pkl\", dc_temp_path)"
   ]
  },
  {
   "cell_type": "markdown",
   "id": "34856235",
   "metadata": {},
   "source": [
    "# 4. Preprocessing and cleaning of datasets"
   ]
  },
  {
   "cell_type": "markdown",
   "id": "cb7691d3",
   "metadata": {},
   "source": [
    "Reading gender dataframe"
   ]
  },
  {
   "cell_type": "code",
   "execution_count": 54,
   "id": "06ae6265",
   "metadata": {},
   "outputs": [],
   "source": [
    "gender_dataset = pd.read_csv(dc_raw_path + \"/harvard_set_gender.csv\")"
   ]
  },
  {
   "cell_type": "code",
   "execution_count": 55,
   "id": "4c687787",
   "metadata": {},
   "outputs": [
    {
     "name": "stderr",
     "output_type": "stream",
     "text": [
      "<>:7: DeprecationWarning: invalid escape sequence '\\,'\n",
      "<>:7: DeprecationWarning: invalid escape sequence '\\,'\n",
      "C:\\Users\\Gigabyte\\AppData\\Local\\Temp\\ipykernel_7404\\3245748647.py:7: DeprecationWarning: invalid escape sequence '\\,'\n",
      "  punctuations = '''!()[]{};:'\"\\,<>./¿?@#$%^&*_–~=+¨`“”’|0123456789'''  # all but hyphens\n"
     ]
    }
   ],
   "source": [
    "def spanish_cleaner(txt_file):\n",
    "    text = txt_file\n",
    "    text = re.sub(r\"(&[a-zA-Z]*;)\", \" \", text)  # the txt files had some unwanted text like &rsquo; this line removes such text\n",
    "    text = text.lower()\n",
    "\n",
    "    # remove punctuation and numbers from the string\n",
    "    punctuations = '''!()[]{};:'\"\\,<>./¿?@#$%^&*_–~=+¨`“”’|0123456789'''  # all but hyphens\n",
    "    for x in text.lower(): \n",
    "        if x in punctuations: \n",
    "            text = text.replace(x, \"\")\n",
    "\n",
    "    # replacing encoding characters\n",
    "    enc_characters = [\" st \", \" nd \", \" rd \", \" th \", \"srl\", \"lpfvf\", \"pctc\", \"jmxcff\", \"ayrq\", \"axu\", \"oadk\", \"jcxj\", \"nplt\", \"eef\", \"fcfc\", \"qyoc\", \"gobpe\", \"pfg\", \"vqrx\", \"csjppj\", \"xas\", \"feeback\", \"hafceqc\", \"xqj\", \"hellip\", \"rsquo\", \"ldquo\", \"rdquo\", \"ndash\", \"-\", \"n°\", \"nº\", \"º\", \"°\", \"dprgdonpdl\", \"«\", \"»\", \"…\", \"derjudicialpoderjudicialpoderjudicialpoderjudicialpoderjudicialpoderjudicialpoderjudicialpoderjudicialpoderjudicialpoderjudicialpoderjudicialpoderjudicialpoderjudicialpoderjudicialpoderjudicialpoderjudicialpoderjudicialpoderjudicialpoderjudicialpoderj\", \"ii\", \"iii\", \"vii\", \"viii\"]\n",
    "    \n",
    "    for item in enc_characters:\n",
    "        text = text.replace(item, \" \")\n",
    "    \n",
    "    # cleaning for spanish stop words\n",
    "    stopword_es = nltk.corpus.stopwords.words('spanish') # loading spanish stop words\n",
    "    custom_substrs = [\"http\", \"hangouts\", \"meet\", \"gmailcom\"] # html related\n",
    "    custom_gender_words = [\"él\", \"ella\", \"la\", \"ese\", \"esa\", \"esos\", \"esas\", \"este\", \"esta\", \"aquel\", \"aquella\", \"aquellos\", \"aquellas\", \"lo\", \"la\", \"los\", \"las\", \"aquel\", \"aquella\", \"mío\", \"mía\", \"míos\", \"mías\", \"suyo\", \"suya\", \"suyos\", \"suyas\"] # list with pronouns associated to a specific gender\n",
    "    length_custom_stopwords = len(custom_substrs)\n",
    "    words = text.split() # tokenizing sentence\n",
    "    cleaned_words = [word for word in words if (word not in stopword_es and len(word) > 1) or word in custom_gender_words]\n",
    "     \n",
    "    sentence_no_custom = [] # omitting words that contain \n",
    "    for cleaned_word in cleaned_words:\n",
    "        counter_stopwords = 0\n",
    "        for word in custom_substrs: # evaluating if word contains substr\n",
    "            if word not in cleaned_word: # if passes, +1 for counter\n",
    "                counter_stopwords += 1\n",
    "            if counter_stopwords == length_custom_stopwords: # append if passes all custom substrs tests\n",
    "                sentence_no_custom.append(cleaned_word)\n",
    "\n",
    "    return \" \".join(sentence_no_custom)"
   ]
  },
  {
   "cell_type": "markdown",
   "id": "661a6d03",
   "metadata": {},
   "source": [
    "## 4.1. Preprocessing of downloads and follow up "
   ]
  },
  {
   "cell_type": "markdown",
   "id": "7a49dd12",
   "metadata": {},
   "source": [
    "### Downloads Dataframe"
   ]
  },
  {
   "cell_type": "code",
   "execution_count": 56,
   "id": "4ac881dd",
   "metadata": {},
   "outputs": [],
   "source": [
    "# lowercase to text\n",
    "downloads_amag_ii_raw[\"text\"] = downloads_amag_ii_raw[\"text\"].apply(lambda text: text.lower() \n",
    "                                                                    if type(text) is str else text)"
   ]
  },
  {
   "cell_type": "code",
   "execution_count": 57,
   "id": "dd668a82",
   "metadata": {
    "scrolled": true
   },
   "outputs": [],
   "source": [
    "# cleaning the text from the cases\n",
    "downloads_amag_ii_raw[\"text\"] = downloads_amag_ii_raw[\"text\"].apply(lambda text: spanish_cleaner(text) \n",
    "                                                                    if type(text) is str else text)"
   ]
  },
  {
   "cell_type": "markdown",
   "id": "27e8842e",
   "metadata": {},
   "source": [
    "### Downloads Follow Up"
   ]
  },
  {
   "cell_type": "markdown",
   "id": "8dcfd6b9",
   "metadata": {},
   "source": [
    "Fixing the date of the resolution"
   ]
  },
  {
   "cell_type": "code",
   "execution_count": 58,
   "id": "59b703dd",
   "metadata": {
    "scrolled": true
   },
   "outputs": [
    {
     "name": "stderr",
     "output_type": "stream",
     "text": [
      "<>:2: DeprecationWarning: invalid escape sequence '\\d'\n",
      "<>:2: DeprecationWarning: invalid escape sequence '\\d'\n",
      "C:\\Users\\Gigabyte\\AppData\\Local\\Temp\\ipykernel_7404\\1630532510.py:2: DeprecationWarning: invalid escape sequence '\\d'\n",
      "  lambda date: datetime.strptime(re.match(\"(\\d+[-/]\\d+[-/]\\d+)\",\n"
     ]
    }
   ],
   "source": [
    "follow_up_amag_ii_raw[\"fecha_de_resolucion_ingreso_\"] = follow_up_amag_ii_raw[\"fecha_de_resolucion_ingreso_\"].apply(\n",
    "                                                        lambda date: datetime.strptime(re.match(\"(\\d+[-/]\\d+[-/]\\d+)\", \n",
    "                                                        date)[0], \"%d/%m/%Y\"))"
   ]
  },
  {
   "cell_type": "markdown",
   "id": "dde6b704",
   "metadata": {},
   "source": [
    "Remove extra white space and lower \"acto\""
   ]
  },
  {
   "cell_type": "code",
   "execution_count": 59,
   "id": "204f502b",
   "metadata": {},
   "outputs": [],
   "source": [
    "# lowercase to text\n",
    "follow_up_amag_ii_raw[\"acto_\"] = follow_up_amag_ii_raw[\"acto_\"].apply(lambda text: text.lower() \n",
    "                                                                    if type(text) is str else text)"
   ]
  },
  {
   "cell_type": "code",
   "execution_count": 60,
   "id": "4c14ec0e",
   "metadata": {
    "scrolled": true
   },
   "outputs": [],
   "source": [
    "# cleaning the text from the cases\n",
    "follow_up_amag_ii_raw[\"acto_\"] = follow_up_amag_ii_raw[\"acto_\"].apply(lambda text: spanish_cleaner(text) \n",
    "                                                                    if type(text) is str else text)"
   ]
  },
  {
   "cell_type": "markdown",
   "id": "82d48fb4",
   "metadata": {},
   "source": [
    "Remove extra white space and lower \"sumilla\" (from merged dataframes)"
   ]
  },
  {
   "cell_type": "code",
   "execution_count": 61,
   "id": "2fea21ba",
   "metadata": {},
   "outputs": [],
   "source": [
    "sumillas = [\"sumilla__x\", \"sumilla__y\"]"
   ]
  },
  {
   "cell_type": "code",
   "execution_count": 62,
   "id": "e8cbcd36",
   "metadata": {},
   "outputs": [],
   "source": [
    "for sumilla in sumillas:\n",
    "    # lowercase to text\n",
    "    follow_up_amag_ii_raw[sumilla] = follow_up_amag_ii_raw[sumilla].apply(lambda text: text.lower() \n",
    "                                                                    if type(text) is str else text)\n",
    "    # cleaning the text from the cases\n",
    "    follow_up_amag_ii_raw[sumilla] = follow_up_amag_ii_raw[sumilla].apply(lambda text: spanish_cleaner(text)\n",
    "                                                                    if type(text) is str else text)"
   ]
  },
  {
   "cell_type": "markdown",
   "id": "38835d03",
   "metadata": {},
   "source": [
    "Remove extra white space and lower \"descripcion de usuario\""
   ]
  },
  {
   "cell_type": "code",
   "execution_count": 63,
   "id": "501c67cc",
   "metadata": {},
   "outputs": [],
   "source": [
    "# lowercase to text\n",
    "follow_up_amag_ii_raw[\"descripcion_de_usuario_\"] = follow_up_amag_ii_raw[\"descripcion_de_usuario_\"].apply(lambda text: text.lower() \n",
    "                                                                    if type(text) is str else text)"
   ]
  },
  {
   "cell_type": "code",
   "execution_count": 64,
   "id": "981c9056",
   "metadata": {
    "scrolled": true
   },
   "outputs": [],
   "source": [
    "# cleaning the text from the cases\n",
    "follow_up_amag_ii_raw[\"descripcion_de_usuario_\"] = follow_up_amag_ii_raw[\"descripcion_de_usuario_\"].apply(lambda text: spanish_cleaner(text) \n",
    "                                                                    if type(text) is str else text)"
   ]
  },
  {
   "cell_type": "markdown",
   "id": "fa2286fe",
   "metadata": {},
   "source": [
    "Create variable that identifies rows with pdf or docx file in downloads dataset"
   ]
  },
  {
   "cell_type": "code",
   "execution_count": 65,
   "id": "94537441",
   "metadata": {},
   "outputs": [],
   "source": [
    "follow_up_amag_ii_raw[\"descargado\"] = follow_up_amag_ii_raw[\"descripcion_de_usuario_\"].apply(lambda text: 1\n",
    "                                                                                            if \"descargado\" in text\n",
    "                                                                                            else 0)"
   ]
  },
  {
   "cell_type": "markdown",
   "id": "fc2b034a",
   "metadata": {},
   "source": [
    "### Create dataset of case_id/number of documents (obs with no duplicates)"
   ]
  },
  {
   "cell_type": "markdown",
   "id": "0a1986aa",
   "metadata": {},
   "source": [
    "Droping duplicates in terms `expediente_n°_` and `num`"
   ]
  },
  {
   "cell_type": "code",
   "execution_count": 66,
   "id": "664bbb79",
   "metadata": {},
   "outputs": [],
   "source": [
    "downloads_full = downloads_amag_ii_raw[downloads_amag_ii_raw[\"link\"].notna()]"
   ]
  },
  {
   "cell_type": "code",
   "execution_count": 67,
   "id": "b1289416",
   "metadata": {},
   "outputs": [],
   "source": [
    "downloads_full.drop_duplicates(subset=[\"expediente_n°_\", \"num\"], inplace=True)"
   ]
  },
  {
   "cell_type": "markdown",
   "id": "17ce7224",
   "metadata": {},
   "source": [
    "Merging the data with no duplicates"
   ]
  },
  {
   "cell_type": "code",
   "execution_count": 68,
   "id": "9be3c89c",
   "metadata": {},
   "outputs": [],
   "source": [
    "documents_amag = pd.merge(follow_up_amag_ii_raw, downloads_full, on=[\"expediente_n°_\", \"nrodocumento\", \"link\"], how=\"left\")"
   ]
  },
  {
   "cell_type": "markdown",
   "id": "99714dfb",
   "metadata": {},
   "source": [
    "## 4.2. Identify keywords from text, acto and sumilla columns "
   ]
  },
  {
   "cell_type": "markdown",
   "id": "c2e03635",
   "metadata": {},
   "source": [
    "### Filtering rows without information"
   ]
  },
  {
   "cell_type": "code",
   "execution_count": 69,
   "id": "ef75c493",
   "metadata": {
    "scrolled": true
   },
   "outputs": [],
   "source": [
    "documents_amag = documents_amag[(documents_amag[\"acto_\"] !=\"auto de saneamiento\") & (documents_amag[\"acto_\"] != \"nota\")]"
   ]
  },
  {
   "cell_type": "code",
   "execution_count": 70,
   "id": "5b291f48",
   "metadata": {
    "scrolled": false
   },
   "outputs": [],
   "source": [
    "documents_amag[\"text\"] = documents_amag[\"text\"].apply(lambda text: text if type(text) is not float else \"\")"
   ]
  },
  {
   "cell_type": "markdown",
   "id": "46bc1598",
   "metadata": {},
   "source": [
    "### 4.2.1. `Parte resolutiva` variable"
   ]
  },
  {
   "cell_type": "code",
   "execution_count": 71,
   "id": "b8a92b3c",
   "metadata": {},
   "outputs": [],
   "source": [
    "documents_amag[\"parte_resolutiva\"] = documents_amag[\"text\"].apply(lambda text: extract_text(text,\n",
    "                                                                                           r\"resuelve\\s*([^\\n\\r]*)|fallo\\s*([^\\n\\r]*)|resuelvo\\s*([^\\n\\r]*)\"))"
   ]
  },
  {
   "cell_type": "markdown",
   "id": "8b004da3",
   "metadata": {},
   "source": [
    "### 4.2.2. `Apela` variable"
   ]
  },
  {
   "cell_type": "code",
   "execution_count": 73,
   "id": "352321c0",
   "metadata": {},
   "outputs": [],
   "source": [
    "documents_amag[\"appeal\"] = documents_amag.apply(lambda row: 1 if \"apela\" in row.acto_ or \"apela\" in row.sumilla__x\n",
    "                                                or \"apela\" in row.sumilla__y else 0, axis=1)"
   ]
  },
  {
   "cell_type": "code",
   "execution_count": 111,
   "id": "576a7c66",
   "metadata": {},
   "outputs": [
    {
     "data": {
      "text/plain": [
       "0    977\n",
       "1     19\n",
       "Name: appeal, dtype: int64"
      ]
     },
     "execution_count": 111,
     "metadata": {},
     "output_type": "execute_result"
    }
   ],
   "source": [
    "documents_amag[\"appeal\"].value_counts()"
   ]
  },
  {
   "cell_type": "markdown",
   "id": "17c4f44c",
   "metadata": {},
   "source": [
    "### 4.2.3. `Sentencia` variable"
   ]
  },
  {
   "cell_type": "code",
   "execution_count": 74,
   "id": "e72234d1",
   "metadata": {},
   "outputs": [],
   "source": [
    "documents_amag[\"sentencia_acto\"] = documents_amag.apply(lambda row: 1 if \"sentencia\" in row.acto_ else 0, axis=1)\n",
    "documents_amag[\"sentencia_sumilla\"] = documents_amag.apply(lambda row: 1 if \"sentencia\" in row.sumilla__x or \n",
    "                                                           \"sentencia\" in row.sumilla__y else 0, axis=1)\n",
    "documents_amag[\"sentencia\"] = documents_amag.apply(lambda row: 1 if row.sentencia_acto == 1 or row.sentencia_sumilla == 1 \n",
    "                                                   else 0, axis=1)"
   ]
  },
  {
   "cell_type": "code",
   "execution_count": 108,
   "id": "8bc05c22",
   "metadata": {},
   "outputs": [
    {
     "data": {
      "text/plain": [
       "0    984\n",
       "1     12\n",
       "Name: sentencia_acto, dtype: int64"
      ]
     },
     "execution_count": 108,
     "metadata": {},
     "output_type": "execute_result"
    }
   ],
   "source": [
    "documents_amag[\"sentencia_acto\"].value_counts()"
   ]
  },
  {
   "cell_type": "code",
   "execution_count": 109,
   "id": "2a2fd5da",
   "metadata": {},
   "outputs": [
    {
     "data": {
      "text/plain": [
       "0    985\n",
       "1     11\n",
       "Name: sentencia_sumilla, dtype: int64"
      ]
     },
     "execution_count": 109,
     "metadata": {},
     "output_type": "execute_result"
    }
   ],
   "source": [
    "documents_amag[\"sentencia_sumilla\"].value_counts()"
   ]
  },
  {
   "cell_type": "code",
   "execution_count": 110,
   "id": "3d665165",
   "metadata": {},
   "outputs": [
    {
     "data": {
      "text/plain": [
       "0    973\n",
       "1     23\n",
       "Name: sentencia, dtype: int64"
      ]
     },
     "execution_count": 110,
     "metadata": {},
     "output_type": "execute_result"
    }
   ],
   "source": [
    "documents_amag[\"sentencia\"].value_counts()"
   ]
  },
  {
   "cell_type": "markdown",
   "id": "13a03e6d",
   "metadata": {},
   "source": [
    "### 4.2.4. `Auto` variable"
   ]
  },
  {
   "cell_type": "code",
   "execution_count": 75,
   "id": "960c32b7",
   "metadata": {},
   "outputs": [],
   "source": [
    "documents_amag[\"auto_final\"] = documents_amag.apply(lambda row: 1 if \"auto final\" in row.acto_ or \n",
    "                                                           \"auto final\" in row.sumilla__x or\n",
    "                                                           \"auto final\" in row.sumilla__y else 0, axis=1)"
   ]
  },
  {
   "cell_type": "code",
   "execution_count": 76,
   "id": "04fc7c8e",
   "metadata": {},
   "outputs": [],
   "source": [
    "documents_amag[\"auto_definitivo\"] = documents_amag.apply(lambda row: 1 if \"auto definitivo\" in row.acto_ or \n",
    "                                                           \"auto definitivo\" in row.sumilla__x or\n",
    "                                                           \"auto definitivo\" in row.sumilla__y else 0, axis=1)"
   ]
  },
  {
   "cell_type": "code",
   "execution_count": 107,
   "id": "fd338411",
   "metadata": {},
   "outputs": [
    {
     "data": {
      "text/plain": [
       "0    993\n",
       "1      3\n",
       "Name: auto_definitivo, dtype: int64"
      ]
     },
     "execution_count": 107,
     "metadata": {},
     "output_type": "execute_result"
    }
   ],
   "source": [
    "documents_amag[\"auto_definitivo\"].value_counts()"
   ]
  },
  {
   "cell_type": "markdown",
   "id": "61ae5925",
   "metadata": {},
   "source": [
    "### 4.2.5. `Final` variable"
   ]
  },
  {
   "cell_type": "code",
   "execution_count": 77,
   "id": "525d1cb3",
   "metadata": {},
   "outputs": [],
   "source": [
    "documents_amag[\"auto_improcedente\"] = documents_amag.apply(lambda row: 1 if \"auto que declara improcedente\" in row.acto_ or \n",
    "                                                           \"auto que declara improcedente\" in row.sumilla__x or\n",
    "                                                           \"auto que declara improcedente\" in row.sumilla__y or \n",
    "                                                           \"auto improcedente\" in row.acto_ or \n",
    "                                                           \"auto improcedente\" in row.sumilla__x or\n",
    "                                                           \"auto improcedente\" in row.sumilla__y else 0, axis=1)"
   ]
  },
  {
   "cell_type": "code",
   "execution_count": 106,
   "id": "c6b69d94",
   "metadata": {},
   "outputs": [
    {
     "data": {
      "text/plain": [
       "0    986\n",
       "1     10\n",
       "Name: auto_improcedente, dtype: int64"
      ]
     },
     "execution_count": 106,
     "metadata": {},
     "output_type": "execute_result"
    }
   ],
   "source": [
    "documents_amag[\"auto_improcedente\"].value_counts()"
   ]
  },
  {
   "cell_type": "markdown",
   "id": "5b6850a0",
   "metadata": {},
   "source": [
    "### 4.2.6. `Vista 2` variable"
   ]
  },
  {
   "cell_type": "code",
   "execution_count": 78,
   "id": "434f01d3",
   "metadata": {},
   "outputs": [],
   "source": [
    "documents_amag[\"vista2\"] = documents_amag.apply(lambda row: 1 if \"sentencia de vista\" in row.acto_ or \n",
    "                                                           \"sentencia de vista\" in row.sumilla__x or\n",
    "                                                           \"sentencia de vista\" in row.sumilla__y or \n",
    "                                                           \"auto de vista\" in row.acto_ or \n",
    "                                                           \"auto de vista\" in row.sumilla__x or\n",
    "                                                           \"auto de vista\" in row.sumilla__y else 0, axis=1)"
   ]
  },
  {
   "cell_type": "code",
   "execution_count": 105,
   "id": "6ce0d125",
   "metadata": {},
   "outputs": [
    {
     "data": {
      "text/plain": [
       "0    996\n",
       "Name: vista2, dtype: int64"
      ]
     },
     "execution_count": 105,
     "metadata": {},
     "output_type": "execute_result"
    }
   ],
   "source": [
    "documents_amag[\"vista2\"].value_counts()"
   ]
  },
  {
   "cell_type": "markdown",
   "id": "f96a46d5",
   "metadata": {},
   "source": [
    "### 4.2.7. `Revoca 2` variable"
   ]
  },
  {
   "cell_type": "code",
   "execution_count": 79,
   "id": "537ff35c",
   "metadata": {},
   "outputs": [],
   "source": [
    "documents_amag[\"revoca2\"] = documents_amag.apply(lambda row: 1 if \"vista que revoca\" in row.acto_ else 0, axis=1)"
   ]
  },
  {
   "cell_type": "code",
   "execution_count": 102,
   "id": "128accfb",
   "metadata": {},
   "outputs": [
    {
     "data": {
      "text/plain": [
       "0    996\n",
       "Name: revoca2, dtype: int64"
      ]
     },
     "execution_count": 102,
     "metadata": {},
     "output_type": "execute_result"
    }
   ],
   "source": [
    "documents_amag[\"revoca2\"].value_counts()"
   ]
  },
  {
   "cell_type": "markdown",
   "id": "de590d08",
   "metadata": {},
   "source": [
    "### 4.2.8. `Anula 2` variable"
   ]
  },
  {
   "cell_type": "code",
   "execution_count": 80,
   "id": "d09f9f8e",
   "metadata": {},
   "outputs": [],
   "source": [
    "documents_amag[\"nula2\"] = documents_amag.apply(lambda row: 1 if \"vista que anula\" in row.acto_ else 0, axis=1)"
   ]
  },
  {
   "cell_type": "code",
   "execution_count": 103,
   "id": "715ba317",
   "metadata": {},
   "outputs": [
    {
     "data": {
      "text/plain": [
       "0    996\n",
       "Name: nula2, dtype: int64"
      ]
     },
     "execution_count": 103,
     "metadata": {},
     "output_type": "execute_result"
    }
   ],
   "source": [
    "documents_amag[\"nula2\"].value_counts()"
   ]
  },
  {
   "cell_type": "markdown",
   "id": "962b01e3",
   "metadata": {},
   "source": [
    "### 4.2.9. `Confirma 2` variable"
   ]
  },
  {
   "cell_type": "code",
   "execution_count": 81,
   "id": "7102f2b1",
   "metadata": {},
   "outputs": [],
   "source": [
    "documents_amag[\"confirma2\"] = documents_amag.apply(lambda row: 1 if \"vista que confirma\" in row.acto_ else 0, axis=1)"
   ]
  },
  {
   "cell_type": "code",
   "execution_count": 104,
   "id": "3dfaba62",
   "metadata": {},
   "outputs": [
    {
     "data": {
      "text/plain": [
       "0    996\n",
       "Name: confirma2, dtype: int64"
      ]
     },
     "execution_count": 104,
     "metadata": {},
     "output_type": "execute_result"
    }
   ],
   "source": [
    "documents_amag[\"confirma2\"].value_counts()"
   ]
  },
  {
   "cell_type": "markdown",
   "id": "dc86fa89",
   "metadata": {},
   "source": [
    "### 4.2.10. `Fundada` variable"
   ]
  },
  {
   "cell_type": "code",
   "execution_count": 82,
   "id": "9779401c",
   "metadata": {},
   "outputs": [],
   "source": [
    "def evaluate_vals(row, list_substrs: list) -> int:\n",
    "    \"\"\"determines whether the case matches a substr from list\"\"\"\n",
    "    \n",
    "    values = [row.parte_resolutiva, row.sumilla__x, row.sumilla__y, row.acto_]\n",
    "    output = 0\n",
    "    for value in values:\n",
    "        if type(value) is not str:\n",
    "            break\n",
    "        else:\n",
    "            for substr in list_substrs:\n",
    "                if substr in value:\n",
    "                    output = 1\n",
    "                    return output\n",
    "    return output"
   ]
  },
  {
   "cell_type": "code",
   "execution_count": 83,
   "id": "5821b2aa",
   "metadata": {},
   "outputs": [],
   "source": [
    "documents_amag[\"fundada\"] = documents_amag.apply(lambda row: evaluate_vals(row, [\" fundada la demanda\", \"sentencia fundada\"]), axis=1)"
   ]
  },
  {
   "cell_type": "code",
   "execution_count": 101,
   "id": "e2719433",
   "metadata": {},
   "outputs": [
    {
     "data": {
      "text/plain": [
       "0    988\n",
       "1      8\n",
       "Name: fundada, dtype: int64"
      ]
     },
     "execution_count": 101,
     "metadata": {},
     "output_type": "execute_result"
    }
   ],
   "source": [
    "documents_amag[\"fundada\"].value_counts()"
   ]
  },
  {
   "cell_type": "markdown",
   "id": "198f51aa",
   "metadata": {},
   "source": [
    "### 4.2.11. `Fundada en parte` variable"
   ]
  },
  {
   "cell_type": "code",
   "execution_count": 84,
   "id": "d236441b",
   "metadata": {},
   "outputs": [],
   "source": [
    "documents_amag[\"fundada_parte\"] = documents_amag.apply(lambda row: evaluate_vals(row, [\"fundada en parte\"]), axis=1)"
   ]
  },
  {
   "cell_type": "code",
   "execution_count": 85,
   "id": "d38c65ac",
   "metadata": {
    "scrolled": true
   },
   "outputs": [
    {
     "data": {
      "text/plain": [
       "0    996\n",
       "Name: fundada_parte, dtype: int64"
      ]
     },
     "execution_count": 85,
     "metadata": {},
     "output_type": "execute_result"
    }
   ],
   "source": [
    "documents_amag[\"fundada_parte\"].value_counts()"
   ]
  },
  {
   "cell_type": "markdown",
   "id": "bb6725e0",
   "metadata": {},
   "source": [
    "### 4.2.12. `Infundada` variable"
   ]
  },
  {
   "cell_type": "code",
   "execution_count": 86,
   "id": "c3e221d4",
   "metadata": {},
   "outputs": [],
   "source": [
    "documents_amag[\"infundada\"] = documents_amag.apply(lambda row: evaluate_vals(row, [\"infundada la demanda\", \"sentencia infundada\"]), axis=1)"
   ]
  },
  {
   "cell_type": "code",
   "execution_count": 113,
   "id": "274c9053",
   "metadata": {},
   "outputs": [
    {
     "data": {
      "text/plain": [
       "0    996\n",
       "Name: infundada, dtype: int64"
      ]
     },
     "execution_count": 113,
     "metadata": {},
     "output_type": "execute_result"
    }
   ],
   "source": [
    "documents_amag[\"infundada\"].value_counts()"
   ]
  },
  {
   "cell_type": "markdown",
   "id": "3b6a576f",
   "metadata": {},
   "source": [
    "### 4.2.12. `Vista` variable"
   ]
  },
  {
   "cell_type": "code",
   "execution_count": 87,
   "id": "a2b44fb8",
   "metadata": {},
   "outputs": [],
   "source": [
    "documents_amag[\"vista\"] = documents_amag.apply(lambda row: evaluate_vals(row, [\"sentencia de vista\", \"auto de vista\"]), axis=1)"
   ]
  },
  {
   "cell_type": "code",
   "execution_count": 114,
   "id": "6f6dfa24",
   "metadata": {},
   "outputs": [
    {
     "data": {
      "text/plain": [
       "0    996\n",
       "Name: vista, dtype: int64"
      ]
     },
     "execution_count": 114,
     "metadata": {},
     "output_type": "execute_result"
    }
   ],
   "source": [
    "documents_amag[\"vista\"].value_counts()"
   ]
  },
  {
   "cell_type": "markdown",
   "id": "9ebab18f",
   "metadata": {},
   "source": [
    "### 4.2.13. `Revoca` variable"
   ]
  },
  {
   "cell_type": "code",
   "execution_count": 88,
   "id": "2033ada3",
   "metadata": {},
   "outputs": [],
   "source": [
    "documents_amag[\"revoca\"] = documents_amag.apply(lambda row: evaluate_vals(row, [\"vista que revoca\", \"revocar la sentencia\", \"revocar la resolucion\", \"revocar en parte\", \"revocaron la sentencia\", \"revocaron la resolución\"]), axis=1)"
   ]
  },
  {
   "cell_type": "code",
   "execution_count": 115,
   "id": "51a74954",
   "metadata": {},
   "outputs": [
    {
     "data": {
      "text/plain": [
       "0    996\n",
       "Name: revoca, dtype: int64"
      ]
     },
     "execution_count": 115,
     "metadata": {},
     "output_type": "execute_result"
    }
   ],
   "source": [
    "documents_amag[\"revoca\"].value_counts()"
   ]
  },
  {
   "cell_type": "markdown",
   "id": "a4001c27",
   "metadata": {},
   "source": [
    "### 4.2.13. `Anula` variable"
   ]
  },
  {
   "cell_type": "code",
   "execution_count": 89,
   "id": "222d299b",
   "metadata": {},
   "outputs": [],
   "source": [
    "documents_amag[\"nula\"] = documents_amag.apply(lambda row: evaluate_vals(row, [\"vista que anula\", \"declarar nula\", \"declara nula\", \"declara nulo\", \"declarar nulo\", \"declarar: nula\", \"declarar la nulidad\", \"declararon nula\"]), axis=1)"
   ]
  },
  {
   "cell_type": "code",
   "execution_count": 116,
   "id": "e2623b1e",
   "metadata": {},
   "outputs": [
    {
     "data": {
      "text/plain": [
       "0    996\n",
       "Name: nula, dtype: int64"
      ]
     },
     "execution_count": 116,
     "metadata": {},
     "output_type": "execute_result"
    }
   ],
   "source": [
    "documents_amag[\"nula\"].value_counts()"
   ]
  },
  {
   "cell_type": "markdown",
   "id": "8db15baf",
   "metadata": {},
   "source": [
    "### 4.2.14. `Confirma` variable"
   ]
  },
  {
   "cell_type": "code",
   "execution_count": 90,
   "id": "bc540e2f",
   "metadata": {},
   "outputs": [],
   "source": [
    "documents_amag[\"confirma\"] = documents_amag.apply(lambda row: evaluate_vals(row, [\"vista que confirma\", \"confirmaron el auto\", \"confirmaron la sentencia\", \"aprobaron la sentencia\", \"confirma sentencia\", \"confirma la sentencia\", \n",
    "                                                                                  \"confirmar la sentencia\", \"confirmar resolucion\", \"confirmar resolución\", \"confirmar la resolucion\", \"confirmar en parte\", \"confirmar la resolución\"]), axis=1)"
   ]
  },
  {
   "cell_type": "code",
   "execution_count": 117,
   "id": "cf209f6f",
   "metadata": {},
   "outputs": [
    {
     "data": {
      "text/plain": [
       "0    996\n",
       "Name: confirma, dtype: int64"
      ]
     },
     "execution_count": 117,
     "metadata": {},
     "output_type": "execute_result"
    }
   ],
   "source": [
    "documents_amag[\"confirma\"].value_counts()"
   ]
  },
  {
   "cell_type": "markdown",
   "id": "a217871f",
   "metadata": {},
   "source": [
    "## 4.3. Preprocessing of reportes and procedural parts"
   ]
  },
  {
   "cell_type": "markdown",
   "id": "f3d22b4e",
   "metadata": {},
   "source": [
    "Obtaining reportes"
   ]
  },
  {
   "cell_type": "code",
   "execution_count": 203,
   "id": "f5b33440",
   "metadata": {},
   "outputs": [],
   "source": [
    "reportes_amag = reportes_amag_ii_raw[[\"expediente_n°_\", \"distrito_judicial__x\", \"distrito_judicial__y\", \"proceso__x\", \n",
    "                                      \"proceso__y\", \"especialidad__x\", \"especialidad__y\", \"estado__x\", \"estado__y\", \n",
    "                                      \"etapa_procesal__x\", \"etapa_procesal__y\"]]"
   ]
  },
  {
   "cell_type": "code",
   "execution_count": 204,
   "id": "b3916fbc",
   "metadata": {},
   "outputs": [],
   "source": [
    "reportes_amag.to_csv(dc_interm_path + \"/reportes_amag_ii_clean.csv\")"
   ]
  },
  {
   "cell_type": "markdown",
   "id": "793d3f81",
   "metadata": {},
   "source": [
    "Obtaining procedural parts"
   ]
  },
  {
   "cell_type": "code",
   "execution_count": 93,
   "id": "efa03f26",
   "metadata": {},
   "outputs": [],
   "source": [
    "procedural_parts_amag_ii_raw = read_pickle(\"procedural_parts_amag_ii_raw.pkl\", dc_temp_path)"
   ]
  },
  {
   "cell_type": "markdown",
   "id": "dfe219de",
   "metadata": {},
   "source": [
    "### 4.3.1. Creating `parties` variable"
   ]
  },
  {
   "cell_type": "code",
   "execution_count": 98,
   "id": "57c2e969",
   "metadata": {},
   "outputs": [],
   "source": [
    "procedural_parts_amag_ii_raw[\"parties\"] = procedural_parts_amag_ii_raw.apply(lambda row: \"plaintiff\" if \n",
    "                                                                             row.parte == \"DEMANDANTE\" or \n",
    "                                                                             row.parte == \"AGRAVIADO\" or \n",
    "                                                                             row.parte == \"VÍCTIMA\" or\n",
    "                                                                             row.parte == \"SOLICITANTE\" or\n",
    "                                                                             row.parte == \"DENUNCIANTE\"\n",
    "                                                                             else np.NaN, axis=1)"
   ]
  },
  {
   "cell_type": "code",
   "execution_count": 99,
   "id": "db869395",
   "metadata": {},
   "outputs": [],
   "source": [
    "procedural_parts_amag_ii_raw[\"parties\"] = procedural_parts_amag_ii_raw.apply(lambda row: \"defendant\" if \n",
    "                                                                             row.parte == \"DEMANDADO\" or \n",
    "                                                                             row.parte == \"AGRESOR\" or \n",
    "                                                                             row.parte == \"DENUNCIADO\"\n",
    "                                                                             else row.parties, axis=1)"
   ]
  },
  {
   "cell_type": "code",
   "execution_count": 97,
   "id": "929bbd8b",
   "metadata": {},
   "outputs": [],
   "source": [
    "procedural_parts_amag_ii_raw[\"parties\"] = procedural_parts_amag_ii_raw.apply(lambda row: \"other\" if \n",
    "                                                                             row.parties != \"plaintiff\" and \n",
    "                                                                             row.parties != \"defendant\", \n",
    "                                                                             axis=1)"
   ]
  },
  {
   "cell_type": "code",
   "execution_count": 100,
   "id": "c8ac21ac",
   "metadata": {
    "scrolled": true
   },
   "outputs": [
    {
     "data": {
      "text/plain": [
       "defendant    318\n",
       "plaintiff    232\n",
       "Name: parties, dtype: int64"
      ]
     },
     "execution_count": 100,
     "metadata": {},
     "output_type": "execute_result"
    }
   ],
   "source": [
    "procedural_parts_amag_ii_raw[\"parties\"].value_counts()"
   ]
  },
  {
   "cell_type": "markdown",
   "id": "b7bace02",
   "metadata": {},
   "source": [
    "### 4.3.2. Creating `first_name` and `second_name` variables"
   ]
  },
  {
   "cell_type": "code",
   "execution_count": 155,
   "id": "412fab53",
   "metadata": {
    "scrolled": false
   },
   "outputs": [],
   "source": [
    "procedural_parts_amag_ii_raw[\"nombres\"] = procedural_parts_amag_ii_raw[\"nombres\"].apply(lambda nombres:\n",
    "                                                            nombres.lower() if nombres != \"\\t\\t\\t\\t\\t\\t\\t\\t\\t\\t\\t\\t\\t\"\n",
    "                                                            else \"\")"
   ]
  },
  {
   "cell_type": "code",
   "execution_count": 156,
   "id": "cf27a277",
   "metadata": {},
   "outputs": [],
   "source": [
    "procedural_parts_amag_ii_raw[\"first_name\"] = procedural_parts_amag_ii_raw[\"nombres\"].apply(lambda nombres: \n",
    "                                                                                           nombres.split(\" \")[0])\n",
    "procedural_parts_amag_ii_raw[\"second_name\"] = procedural_parts_amag_ii_raw[\"nombres\"].apply(lambda nombres: \n",
    "                                                                                           nombres.split(\" \")[1] \n",
    "                                                                                           if len(nombres.split(\" \")) == 2\n",
    "                                                                                           else \"\")"
   ]
  },
  {
   "cell_type": "code",
   "execution_count": 157,
   "id": "3a6081e6",
   "metadata": {},
   "outputs": [],
   "source": [
    "procedural_parts_amag = pd.merge(procedural_parts_amag_ii_raw, gender_dataset, how=\"left\", \n",
    "                                 left_on=\"first_name\", right_on=\"name\")\n",
    "procedural_parts_amag = procedural_parts_amag.rename(columns={\"female\": \"female_first\"})\n",
    "procedural_parts_amag = procedural_parts_amag.drop(columns=[\"name\"])"
   ]
  },
  {
   "cell_type": "code",
   "execution_count": 158,
   "id": "e4572d2d",
   "metadata": {},
   "outputs": [],
   "source": [
    "procedural_parts_amag = pd.merge(procedural_parts_amag, gender_dataset, how=\"left\", \n",
    "                                 left_on=\"second_name\", right_on=\"name\")\n",
    "procedural_parts_amag = procedural_parts_amag.rename(columns={\"female\": \"female_second\"})\n",
    "procedural_parts_amag = procedural_parts_amag.drop(columns=[\"name\"])"
   ]
  },
  {
   "cell_type": "code",
   "execution_count": 160,
   "id": "c404b8cb",
   "metadata": {
    "scrolled": true
   },
   "outputs": [],
   "source": [
    "procedural_parts_amag[\"female\"] = procedural_parts_amag.apply(lambda row: 1 if row.female_first == 1 else np.NaN, axis=1)\n",
    "procedural_parts_amag[\"female\"] = procedural_parts_amag.apply(lambda row: 0 if row.female_first == 0 else row.female, axis=1)"
   ]
  },
  {
   "cell_type": "code",
   "execution_count": 161,
   "id": "9118239c",
   "metadata": {
    "scrolled": false
   },
   "outputs": [
    {
     "data": {
      "text/plain": [
       "0.0    119\n",
       "1.0     93\n",
       "Name: female, dtype: int64"
      ]
     },
     "execution_count": 161,
     "metadata": {},
     "output_type": "execute_result"
    }
   ],
   "source": [
    "procedural_parts_amag[\"female\"].value_counts()"
   ]
  },
  {
   "cell_type": "markdown",
   "id": "4689e82a",
   "metadata": {},
   "source": [
    "### 4.3.4. Creating `legal_entity` variable"
   ]
  },
  {
   "cell_type": "code",
   "execution_count": 164,
   "id": "f5ec46d5",
   "metadata": {},
   "outputs": [],
   "source": [
    "procedural_parts_amag[\"legal_entity\"] = procedural_parts_amag[\"tipo_depersona\"].apply(lambda tipo_de_persona:\n",
    "                                                                                     1 if tipo_de_persona == \"JURIDICA\"\n",
    "                                                                                     else 0)"
   ]
  },
  {
   "cell_type": "markdown",
   "id": "1d24af11",
   "metadata": {},
   "source": [
    "### 4.3.5. Collapsing at the expediente level"
   ]
  },
  {
   "cell_type": "code",
   "execution_count": 176,
   "id": "e3470bc3",
   "metadata": {},
   "outputs": [],
   "source": [
    "procedural_parts_amag_collapsed = procedural_parts_amag[[\"expediente_n°_\", \"parties\", \"female\", \"legal_entity\"]].groupby(\n",
    "                             by=[\"expediente_n°_\", \"parties\"]).agg(female_ratio=(\"female\", \"mean\"),\n",
    "                                                                   female_indicator=(\"female\", \"max\"),\n",
    "                                                                   legal_entity_ratio=(\"legal_entity\", \"mean\"),\n",
    "                                                                   legal_entity_indicator=(\"legal_entity\", \"max\")\n",
    "                                                                   ).reset_index()"
   ]
  },
  {
   "cell_type": "markdown",
   "id": "1427187e",
   "metadata": {},
   "source": [
    "### 4.3.6. Reshaping dataframe"
   ]
  },
  {
   "cell_type": "code",
   "execution_count": 196,
   "id": "d4dcb177",
   "metadata": {
    "scrolled": true
   },
   "outputs": [],
   "source": [
    "procedural_parts_amag_collapsed = pd.pivot_table(procedural_parts_amag_collapsed, values=[\"female_ratio\", \"legal_entity_ratio\", \"female_indicator\", \n",
    "                           \"legal_entity_indicator\"], columns=[\"parties\"], index=[\"expediente_n°_\"])"
   ]
  },
  {
   "cell_type": "code",
   "execution_count": 197,
   "id": "7c4a528e",
   "metadata": {},
   "outputs": [],
   "source": [
    "procedural_parts_amag_collapsed.columns = [\"_\".join(col).strip() for col in procedural_parts_amag_reshaped.columns.values]"
   ]
  },
  {
   "cell_type": "markdown",
   "id": "08d386db",
   "metadata": {},
   "source": [
    "Storing results"
   ]
  },
  {
   "cell_type": "code",
   "execution_count": 202,
   "id": "57f4c4ae",
   "metadata": {},
   "outputs": [],
   "source": [
    "procedural_parts_amag_collapsed.to_csv(dc_interm_path + \"/procedural_parts_amag_ii_clean.csv\")"
   ]
  },
  {
   "cell_type": "markdown",
   "id": "c7baea10",
   "metadata": {},
   "source": [
    "# 5. Creating case outcomes"
   ]
  },
  {
   "cell_type": "markdown",
   "id": "674b26c8",
   "metadata": {},
   "source": [
    "## 5.1. Creating fundada outcomes"
   ]
  },
  {
   "cell_type": "code",
   "execution_count": null,
   "id": "08ae8dd4",
   "metadata": {},
   "outputs": [],
   "source": []
  }
 ],
 "metadata": {
  "kernelspec": {
   "display_name": "Judges Outcomes",
   "language": "python",
   "name": "judges_outcomes"
  },
  "language_info": {
   "codemirror_mode": {
    "name": "ipython",
    "version": 3
   },
   "file_extension": ".py",
   "mimetype": "text/x-python",
   "name": "python",
   "nbconvert_exporter": "python",
   "pygments_lexer": "ipython3",
   "version": "3.10.9"
  }
 },
 "nbformat": 4,
 "nbformat_minor": 5
}
